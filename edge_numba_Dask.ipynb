{
  "nbformat": 4,
  "nbformat_minor": 0,
  "metadata": {
    "colab": {
      "name": "Untitled0.ipynb",
      "provenance": [],
      "machine_shape": "hm",
      "authorship_tag": "ABX9TyPfS5xxYFtpij+WKKp2LqcS",
      "include_colab_link": true
    },
    "kernelspec": {
      "name": "python3",
      "display_name": "Python 3"
    }
  },
  "cells": [
    {
      "cell_type": "markdown",
      "metadata": {
        "id": "view-in-github",
        "colab_type": "text"
      },
      "source": [
        "<a href=\"https://colab.research.google.com/github/37stu37/FFE/blob/master/edge_numba_Dask.ipynb\" target=\"_parent\"><img src=\"https://colab.research.google.com/assets/colab-badge.svg\" alt=\"Open In Colab\"/></a>"
      ]
    },
    {
      "cell_type": "code",
      "metadata": {
        "id": "uLEIMFiV55eq",
        "colab_type": "code",
        "outputId": "26b7897a-44f6-4741-ee51-9dfeb50cdc16",
        "colab": {
          "base_uri": "https://localhost:8080/",
          "height": 52
        }
      },
      "source": [
        "%%time \n",
        "%%capture\n",
        "!apt update\n",
        "!apt upgrade\n",
        "!apt install gdal-bin python-gdal python3-gdal \n",
        "# Install rtree - Geopandas requirment\n",
        "!apt install python3-rtree \n",
        "# Install Geopandas\n",
        "!pip install git+git://github.com/geopandas/geopandas.git\n",
        "# Install descartes - Geopandas requirment\n",
        "!pip install descartes"
      ],
      "execution_count": 1,
      "outputs": [
        {
          "output_type": "stream",
          "text": [
            "CPU times: user 631 ms, sys: 98.6 ms, total: 729 ms\n",
            "Wall time: 1min 19s\n"
          ],
          "name": "stdout"
        }
      ]
    },
    {
      "cell_type": "code",
      "metadata": {
        "id": "N0xvou966hTs",
        "colab_type": "code",
        "outputId": "b3c15a25-3b30-449e-fbb3-4f2517fd7a26",
        "colab": {
          "base_uri": "https://localhost:8080/",
          "height": 143
        }
      },
      "source": [
        "# Load the Drive helper and mount\n",
        "from google.colab import drive\n",
        "%tensorflow_version 2.x\n",
        "# This will prompt for authorization.\n",
        "drive.mount('/content/drive')"
      ],
      "execution_count": 2,
      "outputs": [
        {
          "output_type": "stream",
          "text": [
            "TensorFlow 2.x selected.\n",
            "Go to this URL in a browser: https://accounts.google.com/o/oauth2/auth?client_id=947318989803-6bn6qk8qdgf4n4g3pfee6491hc0brc4i.apps.googleusercontent.com&redirect_uri=urn%3aietf%3awg%3aoauth%3a2.0%3aoob&response_type=code&scope=email%20https%3a%2f%2fwww.googleapis.com%2fauth%2fdocs.test%20https%3a%2f%2fwww.googleapis.com%2fauth%2fdrive%20https%3a%2f%2fwww.googleapis.com%2fauth%2fdrive.photos.readonly%20https%3a%2f%2fwww.googleapis.com%2fauth%2fpeopleapi.readonly\n",
            "\n",
            "Enter your authorization code:\n",
            "··········\n",
            "Mounted at /content/drive\n"
          ],
          "name": "stdout"
        }
      ]
    },
    {
      "cell_type": "code",
      "metadata": {
        "id": "kr0PZxCvmWCl",
        "colab_type": "code",
        "outputId": "f2f2e518-d659-47d4-e8d6-cbfff4a2c347",
        "colab": {
          "base_uri": "https://localhost:8080/",
          "height": 52
        }
      },
      "source": [
        "%%time\n",
        "import datetime\n",
        "import glob\n",
        "from math import sqrt\n",
        "import os\n",
        "import matplotlib.pyplot as plt\n",
        "import numpy as np\n",
        "import pandas as pd\n",
        "import geopandas as gpd\n",
        "from scipy.spatial import distance\n",
        "from shapely.geometry import box\n",
        "from shapely.geometry import shape\n",
        "from shapely.geometry import Point\n",
        "import networkx as nx\n",
        "from sys import getsizeof\n",
        "from numba import jit\n",
        "import dask.dataframe as dd\n",
        "import dask.array as da\n",
        "import dask\n",
        "from dask.distributed import Client\n",
        "from dask.diagnostics import ProgressBar\n",
        "%matplotlib inline\n",
        "\n",
        "pd.options.mode.chained_assignment = None  # default='warn'"
      ],
      "execution_count": 3,
      "outputs": [
        {
          "output_type": "stream",
          "text": [
            "CPU times: user 909 ms, sys: 166 ms, total: 1.08 s\n",
            "Wall time: 2.56 s\n"
          ],
          "name": "stdout"
        }
      ]
    },
    {
      "cell_type": "code",
      "metadata": {
        "id": "mz4lyV9f3Sny",
        "colab_type": "code",
        "outputId": "0bd47f57-894f-4ba0-bb2c-7a7add25d8c8",
        "colab": {
          "base_uri": "https://localhost:8080/",
          "height": 262
        }
      },
      "source": [
        "client = Client(processes=False)\n",
        "client"
      ],
      "execution_count": 4,
      "outputs": [
        {
          "output_type": "stream",
          "text": [
            "/usr/local/lib/python3.6/dist-packages/distributed/bokeh/core.py:57: UserWarning: \n",
            "Failed to start diagnostics server on port 8787. [Errno 99] Cannot assign requested address\n",
            "  warnings.warn('\\n' + msg)\n",
            "/usr/local/lib/python3.6/dist-packages/distributed/deploy/local.py:197: UserWarning: \n",
            "Could not launch service 'bokeh' on port 8787. Got the following message:\n",
            "\n",
            "[Errno 99] Cannot assign requested address\n",
            "  self.scheduler.start(scheduler_address)\n"
          ],
          "name": "stderr"
        },
        {
          "output_type": "execute_result",
          "data": {
            "text/html": [
              "<table style=\"border: 2px solid white;\">\n",
              "<tr>\n",
              "<td style=\"vertical-align: top; border: 0px solid white\">\n",
              "<h3>Client</h3>\n",
              "<ul>\n",
              "  <li><b>Scheduler: </b>inproc://172.28.0.2/144/1\n",
              "</ul>\n",
              "</td>\n",
              "<td style=\"vertical-align: top; border: 0px solid white\">\n",
              "<h3>Cluster</h3>\n",
              "<ul>\n",
              "  <li><b>Workers: </b>1</li>\n",
              "  <li><b>Cores: </b>4</li>\n",
              "  <li><b>Memory: </b>27.40 GB</li>\n",
              "</ul>\n",
              "</td>\n",
              "</tr>\n",
              "</table>"
            ],
            "text/plain": [
              "<Client: scheduler='inproc://172.28.0.2/144/1' processes=1 cores=4>"
            ]
          },
          "metadata": {
            "tags": []
          },
          "execution_count": 4
        }
      ]
    },
    {
      "cell_type": "code",
      "metadata": {
        "id": "w-tLiFKrmZDM",
        "colab_type": "code",
        "colab": {}
      },
      "source": [
        "path = '/content/drive/My Drive/05_Sync/FFE/FireNetwork/00_input'\n",
        "path_output = '/content/drive/My Drive/05_Sync/FFE/FireNetwork/00_output'\n",
        "\n",
        "!ls \"/content/drive/My Drive/05_Sync/FFE/FireNetwork/00_input/\"\n",
        "!ls '/content/drive/My Drive/05_Sync/FFE/FireNetwork/00_output'"
      ],
      "execution_count": 0,
      "outputs": []
    },
    {
      "cell_type": "markdown",
      "metadata": {
        "id": "QDAynt2Eaw7b",
        "colab_type": "text"
      },
      "source": [
        "**Load GIS data**\n",
        "\n",
        "\n",
        "\n",
        "---\n",
        "\n",
        "\n",
        "\n",
        "\n"
      ]
    },
    {
      "cell_type": "code",
      "metadata": {
        "colab_type": "code",
        "id": "PZosFepFncaX",
        "colab": {}
      },
      "source": [
        "def load_data(file_name, minx, miny, maxx, maxy):\n",
        "    # crop data\n",
        "    bbox = box(minx, miny, maxx, maxy)\n",
        "    # building point dataset\n",
        "    gdf_buildings = gpd.read_file(os.path.join(path, file_name), bbox=bbox)\n",
        "    gdf_buildings['X'] = gdf_buildings.geometry.centroid.x\n",
        "    gdf_buildings['Y'] = gdf_buildings.geometry.centroid.y\n",
        "\n",
        "    # print(gdf_buildings.dtypes)\n",
        "    max_extent = gdf_buildings.total_bounds\n",
        "    data_size = getsizeof(gdf_buildings) /(1024.0**3)\n",
        "    print(\"Shapefile extent : {}\".format(max_extent))\n",
        "    print(\"Asset loaded : {}\".format(len(gdf_buildings)))\n",
        "    # print(\"Data size:{} GB'\".format(data_size))\n",
        "    # gdf_buildings.IgnProb_bl = 0.02\n",
        "    # xmin,ymin,xmax,ymax = gdf_buildings.total_bounds\n",
        "\n",
        "    # # Precision of float32 is sufficient for lat and lon\n",
        "    # float_columns = ['SHAPE_Leng','SHAPE_Area',\n",
        "    #                 'IgnProb_bl','RandProb']\n",
        "    # gdf_buildings[float_columns] = gdf_buildings[float_columns].astype('float32')\n",
        "    # int_columns = ['TARGET_FID','Combustibl',\n",
        "    #                 'AU2013Num','RandProb']\n",
        "    # gdf_buildings[int_columns] = gdf_buildings[int_columns].astype('int32')\n",
        "    # data_size = getsizeof(gdf_buildings)/(1024.0**3)\n",
        "    # print(\"resized Data size:{} GB'\".format(data_size))\n",
        "\n",
        "    return gdf_buildings\n",
        "\n",
        "\n",
        "def clean_up_file(prefix, path_path):\n",
        "    files = glob.glob(os.path.join(path_path, prefix))\n",
        "    for file in files:\n",
        "        print(file)\n",
        "        os.remove(file)"
      ],
      "execution_count": 0,
      "outputs": []
    },
    {
      "cell_type": "code",
      "metadata": {
        "id": "A_cSSLBC42v9",
        "colab_type": "code",
        "colab": {}
      },
      "source": [
        "# clean_up_file(\"*\", path_split)"
      ],
      "execution_count": 0,
      "outputs": []
    },
    {
      "cell_type": "code",
      "metadata": {
        "id": "vc9ZZUD_cepw",
        "colab_type": "code",
        "colab": {}
      },
      "source": [
        "%%time\n",
        "# load data\n",
        "# gdf = load_data(\"buildings_raw.shp\", 1748570, 5425500, 1749500, 5427600) # small\n",
        "# gdf = load_data(\"buildings_raw.shp\", 1745000, 5424148, 1750000, 5430000) # larger\n",
        "gdf = load_data(\"buildings_raw.shp\", 1740508, 5420049, 1755776, 5443033) # whole\n",
        "gdf.plot(column='IgnProb_bl', cmap='hsv', legend=True)"
      ],
      "execution_count": 0,
      "outputs": []
    },
    {
      "cell_type": "markdown",
      "metadata": {
        "id": "hE6o2sBraVVO",
        "colab_type": "text"
      },
      "source": [
        "**List of Functions**\n",
        "\n",
        "\n",
        "\n",
        "---\n",
        "\n",
        "\n",
        "\n"
      ]
    },
    {
      "cell_type": "code",
      "metadata": {
        "id": "ZJlFxDFhM7az",
        "colab_type": "code",
        "colab": {}
      },
      "source": [
        "%%time\n",
        "# create edge list from id\n",
        "fid = gdf.TARGET_FID.values\n",
        "x = gdf.X.values\n",
        "y = gdf.Y.values\n",
        "\n",
        "@jit(nopython=True)\n",
        "def square(x):\n",
        "    return x ** 2\n",
        "\n",
        "@jit(nopython=True)\n",
        "def distance(x, y):\n",
        "    return np.sqrt(square(x) + square(y))\n",
        "\n",
        "@jit(nopython=True)\n",
        "def bearing(x, y):\n",
        "    azimuth = np.degrees(np.arctan2(x, y))\n",
        "    return (azimuth + 360) % 360\n",
        "\n",
        "@jit(nopython=True)\n",
        "def edge_list(fid, x, y):\n",
        "  list_s = []\n",
        "  list_t = []\n",
        "  list_distance = []\n",
        "  list_bearing = []\n",
        "  for idx_s, s in enumerate(fid):\n",
        "    for idx_t, t in enumerate(fid):\n",
        "\n",
        "      Vx = (x[idx_s] - x[idx_t])\n",
        "      Vy = (y[idx_s] - y[idx_t])\n",
        "\n",
        "      dist = distance(Vx, Vy)\n",
        "      bear = bearing(Vx, Vy)\n",
        "\n",
        "      if dist < 100 and dist != 0:\n",
        "        \n",
        "        list_s.append(s)\n",
        "        list_t.append(t)\n",
        "        list_distance.append(dist)\n",
        "        list_bearing.append(bear)\n",
        "\n",
        "  return list_s, list_t, list_distance, list_bearing"
      ],
      "execution_count": 0,
      "outputs": []
    },
    {
      "cell_type": "code",
      "metadata": {
        "id": "62rQOZMcJHza",
        "colab_type": "code",
        "colab": {}
      },
      "source": [
        "def to_dask_df(source, target, distance, bearing):\n",
        "  list_of_lists = [source, target, distance, bearing]\n",
        "  list_of_arrays = []\n",
        "  for l in list_of_lists:\n",
        "    a = da.array(l)\n",
        "    list_of_arrays.append(a)\n",
        "\n",
        "  # generate dask dataframe\n",
        "  ddf = dd.concat([dd.from_dask_array(c) for c in list_of_arrays], axis = 1) \n",
        "  # name columns\n",
        "  ddf.columns = ['source', 'target', 'distance', 'bearing'] # [str(c) for c in list_of_list] \n",
        "\n",
        "  return ddf"
      ],
      "execution_count": 0,
      "outputs": []
    },
    {
      "cell_type": "code",
      "metadata": {
        "id": "jBLhWm3QAh_O",
        "colab_type": "code",
        "colab": {}
      },
      "source": [
        "def prepare_data(ddf, gdf):\n",
        "    gdf_short = gdf[['TARGET_FID', 'geometry', 'IgnProb_bl']]\n",
        "    df_short = pd.DataFrame(gdf_short)\n",
        "    # ddf = dd.read_parquet(os.path.join(path_output, 'dask_edge_list', file_name), engine='pyarrow')\n",
        "    ddf = ddf.compute()\n",
        "\n",
        "    # merge column of interest (geometries and Ignition probability)\n",
        "    df_source = ddf.merge(df_short, how='left', left_on='source', right_on='TARGET_FID')\n",
        "    gdf_short = gdf[['TARGET_FID', 'geometry']]\n",
        "    # df_short = pd.DataFrame(gdf_short)\n",
        "    df_target = ddf.merge(df_short, how='left', left_on='target', right_on='TARGET_FID')\n",
        "\n",
        "    # reverse to geopandas\n",
        "\n",
        "    gdf_source = gpd.GeoDataFrame(df_source, geometry='geometry')\n",
        "    gdf_target = gpd.GeoDataFrame(df_target, geometry='geometry')\n",
        "\n",
        "    # calculate distance polygons\n",
        "    distance_series = gdf_source.distance(gdf_target)\n",
        "    ddf['distance'] = distance_series\n",
        "    ddf['IgnProb_bl'] = df_source.IgnProb_bl\n",
        "\n",
        "    return ddf"
      ],
      "execution_count": 0,
      "outputs": []
    },
    {
      "cell_type": "code",
      "metadata": {
        "id": "RUaTSxxTV5Mq",
        "colab_type": "code",
        "colab": {}
      },
      "source": [
        "def write_to_parquet(daskDF):\n",
        "  # ddf = daskDF.compute()\n",
        "  daskDF.to_parquet(os.path.join(path_output, 'dask_edge_list', 'edge_data.parquet'), engine='pyarrow')\n",
        "  return"
      ],
      "execution_count": 0,
      "outputs": []
    },
    {
      "cell_type": "markdown",
      "metadata": {
        "id": "yTupfo0Caeb2",
        "colab_type": "text"
      },
      "source": [
        "**Create edge list from polygon shapefile**\n",
        "\n",
        "\n",
        "---\n",
        "\n",
        "\n"
      ]
    },
    {
      "cell_type": "code",
      "metadata": {
        "id": "pQHEbtNaA2AS",
        "colab_type": "code",
        "colab": {}
      },
      "source": [
        "%%time\n",
        "source, target, distance, bearing = edge_list(fid, x, y)"
      ],
      "execution_count": 0,
      "outputs": []
    },
    {
      "cell_type": "code",
      "metadata": {
        "id": "fVXAdCRxK-ci",
        "colab_type": "code",
        "colab": {}
      },
      "source": [
        "%%time\n",
        "# create an edge list from dask dataframe\n",
        "ddf = to_dask_df(source, target, distance, bearing)"
      ],
      "execution_count": 0,
      "outputs": []
    },
    {
      "cell_type": "code",
      "metadata": {
        "id": "idYyR9A8BCy-",
        "colab_type": "code",
        "colab": {}
      },
      "source": [
        "%%time\n",
        "# add geometries and distance between polygons\n",
        "ddf = prepare_data(ddf, gdf)"
      ],
      "execution_count": 0,
      "outputs": []
    },
    {
      "cell_type": "code",
      "metadata": {
        "id": "mxbtyWw6Gmrx",
        "colab_type": "code",
        "colab": {}
      },
      "source": [
        "# export to parquet (would need deleting previous parquet)\n",
        "write_to_parquet(daskDF=ddf)"
      ],
      "execution_count": 0,
      "outputs": []
    }
  ]
}