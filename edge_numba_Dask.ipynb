{
  "nbformat": 4,
  "nbformat_minor": 0,
  "metadata": {
    "colab": {
      "name": "Untitled0.ipynb",
      "provenance": [],
      "machine_shape": "hm",
      "authorship_tag": "ABX9TyOYO6c1/AQSCMmzQnq01VLO",
      "include_colab_link": true
    },
    "kernelspec": {
      "name": "python3",
      "display_name": "Python 3"
    }
  },
  "cells": [
    {
      "cell_type": "markdown",
      "metadata": {
        "id": "view-in-github",
        "colab_type": "text"
      },
      "source": [
        "<a href=\"https://colab.research.google.com/github/37stu37/FFE/blob/master/edge_numba_Dask.ipynb\" target=\"_parent\"><img src=\"https://colab.research.google.com/assets/colab-badge.svg\" alt=\"Open In Colab\"/></a>"
      ]
    },
    {
      "cell_type": "code",
      "metadata": {
        "id": "uLEIMFiV55eq",
        "colab_type": "code",
        "outputId": "010ddda1-45d8-4dac-89d3-9548965aa192",
        "colab": {
          "base_uri": "https://localhost:8080/",
          "height": 52
        }
      },
      "source": [
        "%%time \n",
        "%%capture\n",
        "!apt update\n",
        "!apt upgrade\n",
        "!apt install gdal-bin python-gdal python3-gdal \n",
        "# Install rtree - Geopandas requirment\n",
        "!apt install python3-rtree \n",
        "# Install Geopandas\n",
        "!pip install git+git://github.com/geopandas/geopandas.git\n",
        "# Install descartes - Geopandas requirment\n",
        "!pip install descartes"
      ],
      "execution_count": 58,
      "outputs": [
        {
          "output_type": "stream",
          "text": [
            "CPU times: user 1.41 s, sys: 246 ms, total: 1.65 s\n",
            "Wall time: 22.1 s\n"
          ],
          "name": "stdout"
        }
      ]
    },
    {
      "cell_type": "code",
      "metadata": {
        "id": "N0xvou966hTs",
        "colab_type": "code",
        "outputId": "39628a50-23ef-4e0b-86fb-246abbeb6292",
        "colab": {
          "base_uri": "https://localhost:8080/",
          "height": 34
        }
      },
      "source": [
        "# Load the Drive helper and mount\n",
        "from google.colab import drive\n",
        "%tensorflow_version 2.x\n",
        "# This will prompt for authorization.\n",
        "drive.mount('/content/drive')"
      ],
      "execution_count": 59,
      "outputs": [
        {
          "output_type": "stream",
          "text": [
            "Drive already mounted at /content/drive; to attempt to forcibly remount, call drive.mount(\"/content/drive\", force_remount=True).\n"
          ],
          "name": "stdout"
        }
      ]
    },
    {
      "cell_type": "code",
      "metadata": {
        "id": "kr0PZxCvmWCl",
        "colab_type": "code",
        "outputId": "251a7285-cb60-4f31-a340-77aae58bbaf3",
        "colab": {
          "base_uri": "https://localhost:8080/",
          "height": 52
        }
      },
      "source": [
        "%%time\n",
        "import datetime\n",
        "import glob\n",
        "from math import sqrt\n",
        "import os\n",
        "import matplotlib.pyplot as plt\n",
        "import numpy as np\n",
        "import pandas as pd\n",
        "import geopandas as gpd\n",
        "from scipy.spatial import distance\n",
        "from shapely.geometry import box\n",
        "from shapely.geometry import shape\n",
        "from shapely.geometry import Point\n",
        "import networkx as nx\n",
        "from sys import getsizeof\n",
        "from numba import jit\n",
        "import dask.dataframe as dd\n",
        "import dask.array as da\n",
        "import dask\n",
        "from dask.distributed import Client\n",
        "from dask.diagnostics import ProgressBar\n",
        "%matplotlib inline\n",
        "\n",
        "pd.options.mode.chained_assignment = None  # default='warn'"
      ],
      "execution_count": 60,
      "outputs": [
        {
          "output_type": "stream",
          "text": [
            "CPU times: user 9.46 ms, sys: 0 ns, total: 9.46 ms\n",
            "Wall time: 9.69 ms\n"
          ],
          "name": "stdout"
        }
      ]
    },
    {
      "cell_type": "code",
      "metadata": {
        "id": "mz4lyV9f3Sny",
        "colab_type": "code",
        "outputId": "dcc6e5d4-127b-4572-ce61-b3f037fc72d8",
        "colab": {
          "base_uri": "https://localhost:8080/",
          "height": 262
        }
      },
      "source": [
        "client = Client(processes=False)\n",
        "client"
      ],
      "execution_count": 61,
      "outputs": [
        {
          "output_type": "stream",
          "text": [
            "/usr/local/lib/python3.6/dist-packages/distributed/bokeh/core.py:57: UserWarning: \n",
            "Failed to start diagnostics server on port 8787. [Errno 99] Cannot assign requested address\n",
            "  warnings.warn('\\n' + msg)\n",
            "/usr/local/lib/python3.6/dist-packages/distributed/deploy/local.py:197: UserWarning: \n",
            "Could not launch service 'bokeh' on port 8787. Got the following message:\n",
            "\n",
            "[Errno 99] Cannot assign requested address\n",
            "  self.scheduler.start(scheduler_address)\n"
          ],
          "name": "stderr"
        },
        {
          "output_type": "execute_result",
          "data": {
            "text/html": [
              "<table style=\"border: 2px solid white;\">\n",
              "<tr>\n",
              "<td style=\"vertical-align: top; border: 0px solid white\">\n",
              "<h3>Client</h3>\n",
              "<ul>\n",
              "  <li><b>Scheduler: </b>inproc://172.28.0.2/138/15\n",
              "</ul>\n",
              "</td>\n",
              "<td style=\"vertical-align: top; border: 0px solid white\">\n",
              "<h3>Cluster</h3>\n",
              "<ul>\n",
              "  <li><b>Workers: </b>1</li>\n",
              "  <li><b>Cores: </b>4</li>\n",
              "  <li><b>Memory: </b>27.40 GB</li>\n",
              "</ul>\n",
              "</td>\n",
              "</tr>\n",
              "</table>"
            ],
            "text/plain": [
              "<Client: scheduler='inproc://172.28.0.2/138/15' processes=1 cores=4>"
            ]
          },
          "metadata": {
            "tags": []
          },
          "execution_count": 61
        }
      ]
    },
    {
      "cell_type": "code",
      "metadata": {
        "id": "w-tLiFKrmZDM",
        "colab_type": "code",
        "outputId": "c1c0c228-2b9a-43c8-d0e5-6fee427ef657",
        "colab": {
          "base_uri": "https://localhost:8080/",
          "height": 105
        }
      },
      "source": [
        "path = '/content/drive/My Drive/05_Sync/FFE/FireNetwork/00_input'\n",
        "path_output = '/content/drive/My Drive/05_Sync/FFE/FireNetwork/00_output'\n",
        "path_split = '/content/drive/My Drive/05_Sync/FFE/FireNetwork/00_output/split_dataframes'\n",
        "\n",
        "!ls \"/content/drive/My Drive/05_Sync/FFE/FireNetwork/00_input/\"\n",
        "!ls '/content/drive/My Drive/05_Sync/FFE/FireNetwork/00_output/split_dataframes'"
      ],
      "execution_count": 62,
      "outputs": [
        {
          "output_type": "stream",
          "text": [
            "buildings_raw.cpg      buildings_raw_pts.mshp  buildings_raw.shp\n",
            "buildings_raw.dbf      buildings_raw_pts.prj   buildings_raw.shx\n",
            "buildings_raw.prj      buildings_raw_pts.shp   GD_wind.csv\n",
            "buildings_raw_pts.cpg  buildings_raw_pts.shx   source_target.csv\n",
            "buildings_raw_pts.dbf  buildings_raw.qpj\n"
          ],
          "name": "stdout"
        }
      ]
    },
    {
      "cell_type": "code",
      "metadata": {
        "colab_type": "code",
        "id": "PZosFepFncaX",
        "colab": {}
      },
      "source": [
        "def load_data(file_name, minx, miny, maxx, maxy):\n",
        "    # crop data\n",
        "    bbox = box(minx, miny, maxx, maxy)\n",
        "    # building point dataset\n",
        "    gdf_buildings = gpd.read_file(os.path.join(path, file_name), bbox=bbox)\n",
        "    gdf_buildings['X'] = gdf_buildings.geometry.centroid.x\n",
        "    gdf_buildings['Y'] = gdf_buildings.geometry.centroid.y\n",
        "\n",
        "    # print(gdf_buildings.dtypes)\n",
        "    max_extent = gdf_buildings.total_bounds\n",
        "    data_size = getsizeof(gdf_buildings) /(1024.0**3)\n",
        "    print(\"Shapefile extent : {}\".format(max_extent))\n",
        "    print(\"Asset loaded : {}\".format(len(gdf_buildings)))\n",
        "    # print(\"Data size:{} GB'\".format(data_size))\n",
        "    # gdf_buildings.IgnProb_bl = 0.02\n",
        "    # xmin,ymin,xmax,ymax = gdf_buildings.total_bounds\n",
        "\n",
        "    # # Precision of float32 is sufficient for lat and lon\n",
        "    # float_columns = ['SHAPE_Leng','SHAPE_Area',\n",
        "    #                 'IgnProb_bl','RandProb']\n",
        "    # gdf_buildings[float_columns] = gdf_buildings[float_columns].astype('float32')\n",
        "    # int_columns = ['TARGET_FID','Combustibl',\n",
        "    #                 'AU2013Num','RandProb']\n",
        "    # gdf_buildings[int_columns] = gdf_buildings[int_columns].astype('int32')\n",
        "    # data_size = getsizeof(gdf_buildings)/(1024.0**3)\n",
        "    # print(\"resized Data size:{} GB'\".format(data_size))\n",
        "\n",
        "    return gdf_buildings\n",
        "\n",
        "\n",
        "def clean_up_file(prefix, path_path):\n",
        "    files = glob.glob(os.path.join(path_path, prefix))\n",
        "    for file in files:\n",
        "        print(file)\n",
        "        os.remove(file)"
      ],
      "execution_count": 0,
      "outputs": []
    },
    {
      "cell_type": "code",
      "metadata": {
        "id": "A_cSSLBC42v9",
        "colab_type": "code",
        "colab": {}
      },
      "source": [
        "clean_up_file(\"*\", path_split)"
      ],
      "execution_count": 0,
      "outputs": []
    },
    {
      "cell_type": "code",
      "metadata": {
        "id": "vc9ZZUD_cepw",
        "colab_type": "code",
        "colab": {}
      },
      "source": [
        "# %%time\n",
        "# load data\n",
        "# gdf = load_data(\"buildings_raw.shp\", 1748570, 5425500, 1749500, 5427600) # small\n",
        "# gdf = load_data(\"buildings_raw.shp\", 1745000, 5424148, 1750000, 5430000) # larger\n",
        "gdf = load_data(\"buildings_raw.shp\", 1740508, 5420049, 1755776, 5443033) # whole\n",
        "gdf.plot(column='IgnProb_bl', cmap='hsv', legend=True)"
      ],
      "execution_count": 0,
      "outputs": []
    },
    {
      "cell_type": "code",
      "metadata": {
        "id": "ZJlFxDFhM7az",
        "colab_type": "code",
        "colab": {}
      },
      "source": [
        "# %%time\n",
        "# create edge list from id\n",
        "fid = gdf.TARGET_FID.values\n",
        "x = gdf.X.values\n",
        "y = gdf.Y.values\n",
        "\n",
        "@jit(nopython=True)\n",
        "def square(x):\n",
        "    return x ** 2\n",
        "\n",
        "@jit(nopython=True)\n",
        "def distance(x, y):\n",
        "    return np.sqrt(square(x) + square(y))\n",
        "\n",
        "@jit(nopython=True)\n",
        "def bearing(x, y):\n",
        "    azimuth = np.degrees(np.arctan2(x, y))\n",
        "    return (azimuth + 360) % 360\n",
        "\n",
        "@jit(nopython=True)\n",
        "def edge_list(fid, x, y):\n",
        "  list_s = []\n",
        "  list_t = []\n",
        "  list_distance = []\n",
        "  list_bearing = []\n",
        "  for idx_s, s in enumerate(fid):\n",
        "    for idx_t, t in enumerate(fid):\n",
        "\n",
        "      Vx = (x[idx_s] - x[idx_t])\n",
        "      Vy = (y[idx_s] - y[idx_t])\n",
        "\n",
        "      dist = distance(Vx, Vy)\n",
        "      bear = bearing(Vx, Vy)\n",
        "\n",
        "      if dist < 100 and dist != 0:\n",
        "        \n",
        "        list_s.append(s)\n",
        "        list_t.append(t)\n",
        "        list_distance.append(dist)\n",
        "        list_bearing.append(bear)\n",
        "\n",
        "  return list_s, list_t, list_distance, list_bearing\n"
      ],
      "execution_count": 0,
      "outputs": []
    },
    {
      "cell_type": "code",
      "metadata": {
        "id": "pQHEbtNaA2AS",
        "colab_type": "code",
        "outputId": "ec43a9bc-f336-4849-9fc3-cc2b2ee58352",
        "colab": {
          "base_uri": "https://localhost:8080/",
          "height": 52
        }
      },
      "source": [
        "%%time\n",
        "source, target, distance, bearing = edge_list(fid, x, y)"
      ],
      "execution_count": 67,
      "outputs": [
        {
          "output_type": "stream",
          "text": [
            "CPU times: user 4min 27s, sys: 2.12 s, total: 4min 29s\n",
            "Wall time: 4min 27s\n"
          ],
          "name": "stdout"
        }
      ]
    },
    {
      "cell_type": "code",
      "metadata": {
        "id": "62rQOZMcJHza",
        "colab_type": "code",
        "colab": {}
      },
      "source": [
        "def to_dask_df(source, target, distance, bearing):\n",
        "  list_of_lists = [source, target, distance, bearing]\n",
        "  list_of_arrays = []\n",
        "  for l in list_of_lists:\n",
        "    a = da.array(l)\n",
        "    list_of_arrays.append(a)\n",
        "\n",
        "  # generate dask dataframe\n",
        "  ddf = dd.concat([dd.from_dask_array(c) for c in list_of_arrays], axis = 1) \n",
        "  # name columns\n",
        "  ddf.columns = ['source', 'target', 'distance', 'bearing'] # [str(c) for c in list_of_list] \n",
        "\n",
        "  return ddf\n"
      ],
      "execution_count": 0,
      "outputs": []
    },
    {
      "cell_type": "code",
      "metadata": {
        "id": "fVXAdCRxK-ci",
        "colab_type": "code",
        "colab": {}
      },
      "source": [
        "ddf = to_dask_df(source, target, distance, bearing)"
      ],
      "execution_count": 0,
      "outputs": []
    },
    {
      "cell_type": "code",
      "metadata": {
        "id": "G7h3tKuXLyXc",
        "colab_type": "code",
        "colab": {
          "base_uri": "https://localhost:8080/",
          "height": 171
        },
        "outputId": "94e1356c-abb1-4c7b-e0df-5e2198a794d7"
      },
      "source": [
        "ddf"
      ],
      "execution_count": 77,
      "outputs": [
        {
          "output_type": "execute_result",
          "data": {
            "text/html": [
              "<div><strong>Dask DataFrame Structure:</strong></div>\n",
              "<div>\n",
              "<style scoped>\n",
              "    .dataframe tbody tr th:only-of-type {\n",
              "        vertical-align: middle;\n",
              "    }\n",
              "\n",
              "    .dataframe tbody tr th {\n",
              "        vertical-align: top;\n",
              "    }\n",
              "\n",
              "    .dataframe thead th {\n",
              "        text-align: right;\n",
              "    }\n",
              "</style>\n",
              "<table border=\"1\" class=\"dataframe\">\n",
              "  <thead>\n",
              "    <tr style=\"text-align: right;\">\n",
              "      <th></th>\n",
              "      <th>source</th>\n",
              "      <th>target</th>\n",
              "      <th>distance</th>\n",
              "      <th>bearing</th>\n",
              "    </tr>\n",
              "    <tr>\n",
              "      <th>npartitions=1</th>\n",
              "      <th></th>\n",
              "      <th></th>\n",
              "      <th></th>\n",
              "      <th></th>\n",
              "    </tr>\n",
              "  </thead>\n",
              "  <tbody>\n",
              "    <tr>\n",
              "      <th>0</th>\n",
              "      <td>int64</td>\n",
              "      <td>int64</td>\n",
              "      <td>float64</td>\n",
              "      <td>float64</td>\n",
              "    </tr>\n",
              "    <tr>\n",
              "      <th>3457221</th>\n",
              "      <td>...</td>\n",
              "      <td>...</td>\n",
              "      <td>...</td>\n",
              "      <td>...</td>\n",
              "    </tr>\n",
              "  </tbody>\n",
              "</table>\n",
              "</div>\n",
              "<div>Dask Name: rename, 18 tasks</div>"
            ],
            "text/plain": [
              "Dask DataFrame Structure:\n",
              "              source target distance  bearing\n",
              "npartitions=1                                \n",
              "0              int64  int64  float64  float64\n",
              "3457221          ...    ...      ...      ...\n",
              "Dask Name: rename, 18 tasks"
            ]
          },
          "metadata": {
            "tags": []
          },
          "execution_count": 77
        }
      ]
    },
    {
      "cell_type": "code",
      "metadata": {
        "id": "RUaTSxxTV5Mq",
        "colab_type": "code",
        "colab": {}
      },
      "source": [
        "def write_to_parquet(daskDF):\n",
        "  # ddf = daskDF.compute()\n",
        "  daskDF.to_parquet(os.path.join(path_output, 'dask_edge_list', 'edge_data.parquet'), engine='pyarrow')\n",
        "  return"
      ],
      "execution_count": 0,
      "outputs": []
    },
    {
      "cell_type": "code",
      "metadata": {
        "id": "mxbtyWw6Gmrx",
        "colab_type": "code",
        "colab": {
          "base_uri": "https://localhost:8080/",
          "height": 52
        },
        "outputId": "4613c739-9fdd-40b9-8f38-24be39f8ae2b"
      },
      "source": [
        "%%time\n",
        "write_to_parquet(daskDF=ddf)"
      ],
      "execution_count": 72,
      "outputs": [
        {
          "output_type": "stream",
          "text": [
            "CPU times: user 764 ms, sys: 202 ms, total: 966 ms\n",
            "Wall time: 989 ms\n"
          ],
          "name": "stdout"
        }
      ]
    },
    {
      "cell_type": "code",
      "metadata": {
        "id": "twF7JJGRDNqD",
        "colab_type": "code",
        "colab": {}
      },
      "source": [
        "# ddf = dd.read_parquet(os.path.join(path_output, 'dask_edge_list', 'edge_data.parquet'), engine='pyarrow')\n",
        "# ddf"
      ],
      "execution_count": 0,
      "outputs": []
    }
  ]
}