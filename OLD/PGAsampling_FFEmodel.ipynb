{
  "nbformat": 4,
  "nbformat_minor": 0,
  "metadata": {
    "colab": {
      "name": "PGAsampling_FFEmodel.ipynb",
      "provenance": [],
      "collapsed_sections": [],
      "mount_file_id": "14vigVa273xEFvxoANQXAAKnhojT_7cGE",
      "authorship_tag": "ABX9TyNCla3bYTKwvaf6RincroWa",
      "include_colab_link": true
    },
    "kernelspec": {
      "display_name": "Python 3",
      "language": "python",
      "name": "python3"
    },
    "language_info": {
      "codemirror_mode": {
        "name": "ipython",
        "version": 3
      },
      "file_extension": ".py",
      "mimetype": "text/x-python",
      "name": "python",
      "nbconvert_exporter": "python",
      "pygments_lexer": "ipython3",
      "version": "3.7.3"
    }
  },
  "cells": [
    {
      "cell_type": "markdown",
      "metadata": {
        "id": "view-in-github",
        "colab_type": "text"
      },
      "source": [
        "<a href=\"https://colab.research.google.com/github/37stu37/FFE/blob/master/PGAsampling_FFEmodel.ipynb\" target=\"_parent\"><img src=\"https://colab.research.google.com/assets/colab-badge.svg\" alt=\"Open In Colab\"/></a>"
      ]
    },
    {
      "cell_type": "code",
      "metadata": {
        "colab_type": "code",
        "id": "iUCr_aWqqCgi",
        "colab": {}
      },
      "source": [
        "# Load the Drive helper and mount\n",
        "from google.colab import drive"
      ],
      "execution_count": 0,
      "outputs": []
    },
    {
      "cell_type": "code",
      "metadata": {
        "id": "l6GizzOq26Ts",
        "colab_type": "code",
        "colab": {
          "base_uri": "https://localhost:8080/",
          "height": 51
        },
        "outputId": "94f2f566-b49c-4b44-9264-f97ee3078254"
      },
      "source": [
        "%%time \n",
        "%%capture\n",
        "!apt update\n",
        "!apt upgrade\n",
        "!apt install gdal-bin python-gdal python3-gdal \n",
        "# Install rtree - Geopandas requirment\n",
        "!apt install python3-rtree \n",
        "# Install Geopandas\n",
        "!pip install git+git://github.com/geopandas/geopandas.git\n",
        "# Install descartes - Geopandas requirment\n",
        "!pip install descartes"
      ],
      "execution_count": 2,
      "outputs": [
        {
          "output_type": "stream",
          "text": [
            "CPU times: user 711 ms, sys: 107 ms, total: 819 ms\n",
            "Wall time: 1min 35s\n"
          ],
          "name": "stdout"
        }
      ]
    },
    {
      "cell_type": "code",
      "metadata": {
        "colab_type": "code",
        "id": "grpFz1VLrD2j",
        "colab": {}
      },
      "source": [
        "import glob\n",
        "from math import sqrt\n",
        "import os\n",
        "import matplotlib.pyplot as plt\n",
        "from matplotlib.pyplot import imshow\n",
        "import numpy as np\n",
        "import pandas as pd\n",
        "import geopandas as gpd\n",
        "import math\n",
        "\n",
        "%matplotlib inline"
      ],
      "execution_count": 0,
      "outputs": []
    },
    {
      "cell_type": "markdown",
      "metadata": {
        "id": "iKNvE5WGpIAS",
        "colab_type": "text"
      },
      "source": [
        "# Mount drive\n",
        "\n",
        "\n",
        "---\n",
        "\n"
      ]
    },
    {
      "cell_type": "code",
      "metadata": {
        "colab_type": "code",
        "id": "-Rt9UL_JrncP",
        "colab": {
          "base_uri": "https://localhost:8080/",
          "height": 34
        },
        "outputId": "8e630076-c799-42ae-dc50-9d15c8a7f9b5"
      },
      "source": [
        "root = drive.mount('/content/drive')"
      ],
      "execution_count": 4,
      "outputs": [
        {
          "output_type": "stream",
          "text": [
            "Drive already mounted at /content/drive; to attempt to forcibly remount, call drive.mount(\"/content/drive\", force_remount=True).\n"
          ],
          "name": "stdout"
        }
      ]
    },
    {
      "cell_type": "markdown",
      "metadata": {
        "id": "ETAj6Rg2pO8L",
        "colab_type": "text"
      },
      "source": [
        "# Path to input\n",
        "\n",
        "\n",
        "---\n",
        "\n"
      ]
    },
    {
      "cell_type": "code",
      "metadata": {
        "id": "fogLuZKJqY1O",
        "colab_type": "code",
        "colab": {}
      },
      "source": [
        "path = '/content/drive/My Drive/Colab Notebooks/FFE/data/input'\n",
        "pathPGAs = '/content/drive/My Drive/Colab Notebooks/FFE/data/input/PGAs'\n",
        "\n",
        "path_output = '/content/drive/My Drive/Colab Notebooks/FFE/data/input/Ignition_prob_from_PGAs'"
      ],
      "execution_count": 0,
      "outputs": []
    },
    {
      "cell_type": "code",
      "metadata": {
        "id": "RFk0JLPTqceh",
        "colab_type": "code",
        "colab": {
          "base_uri": "https://localhost:8080/",
          "height": 71
        },
        "outputId": "507a531d-03b4-4ad6-ffcf-2123b29f76ca"
      },
      "source": [
        "print(os.listdir(path))\n",
        "print(os.listdir(pathPGAs))"
      ],
      "execution_count": 23,
      "outputs": [
        {
          "output_type": "stream",
          "text": [
            "['buildings_raw.cpg', 'buildings_raw.prj', 'buildings_raw.shp', 'buildings_raw.shx', 'buildings_raw.qpj', 'buildings_raw.dbf', 'GD_wind.csv', 'SA2.qpj', 'SA2.prj', 'SA2.dbf', 'SA2.shp', 'SA2.cpg', 'SA2.shx', 'PGAs', 'Ignition_prob_from_PGAs']\n",
            "['WairarapNich.prj', 'WairarapNich.dbf', 'WairarapNich.cpg', 'WairarapNich.shx', 'WairarapNich.qpj', 'WairarapNich.shp', 'WellWHV.prj', 'WellWHV.shp', 'WellWHV.dbf', 'WellWHV.qpj', 'WellWHV.shx', 'Wairau.qpj', 'Wairau.dbf', 'Wairau.shx', 'Wairau.prj', 'Wairau.shp', 'HikWgtmin.shp', 'HikWgtmin.dbf', 'HikWgtmin.qpj', 'HikWgtmin.prj', 'HikWgtmin.shx', 'HikWgtmax.qpj', 'HikWgtmax.shx', 'HikWgtmax.shp', 'HikWgtmax.prj', 'HikWgtmax.dbf']\n"
          ],
          "name": "stdout"
        }
      ]
    },
    {
      "cell_type": "markdown",
      "metadata": {
        "id": "Gxf6O2HHpVar",
        "colab_type": "text"
      },
      "source": [
        "# Load section from exisiting functions\n",
        "\n",
        "\n",
        "---\n",
        "\n"
      ]
    },
    {
      "cell_type": "code",
      "metadata": {
        "id": "M52l3JuS8now",
        "colab_type": "code",
        "colab": {}
      },
      "source": [
        "# import functions\n",
        "# !git clone https://github.com/37stu37/FFE/.git\n",
        "# %load /content/drive/My Drive/Colab Notebooks/FFE/sampling_PGA.ipynb"
      ],
      "execution_count": 0,
      "outputs": []
    },
    {
      "cell_type": "code",
      "metadata": {
        "id": "0kOsT-nyEcCb",
        "colab_type": "code",
        "colab": {}
      },
      "source": [
        "def Ignition_Probability(SA_data, PGA_data, percentile, building_data):\n",
        "  data = SA_data.merge(PGA_data, how='left', left_on='SA2_ID', right_on='SA2')\n",
        "  data['SA_IgnPrb'] = 1/(np.exp(-1*(-6.755+8.463+data[percentile]+0.0000984+data['PopDensity']+0.001523+data['BldgFloo_1'])))\n",
        "  data['IgnProb_bl'] = 1 - np.power(1-data['SA_IgnPrb'], +1/data['NumberBldg'])\n",
        "  data.drop('geometry_y', axis=1, inplace=True)\n",
        "  data.rename(columns={'geometry_x': 'geometry'}, inplace=True)\n",
        "  crs = {'init': 'EPSG:2193'}\n",
        "  data_gdf = gpd.GeoDataFrame(data)\n",
        "  buildings_with_ignition = gpd.sjoin(building_data, data_gdf, how='inner', op='within')\n",
        "  buildings_with_ignition = buildings_with_ignition[['TARGET_FID', 'suburb_loc', 'Combustibl', 'SHAPE_Leng', 'SHAPE_Area',\n",
        "       'AU2013Num', 'IgnProb_bl_left', 'RandProb', 'geometry']]\n",
        "  buildings_with_ignition.rename(columns={'IgnProb_bl_left': 'IgnProb_bl'}, inplace=True)\n",
        "  return buildings_with_ignition"
      ],
      "execution_count": 0,
      "outputs": []
    },
    {
      "cell_type": "markdown",
      "metadata": {
        "id": "7guKawTwtuyK",
        "colab_type": "text"
      },
      "source": [
        "# Iterate through PGA files and create PGA output fils\n",
        "\n",
        "\n",
        "---\n",
        "\n"
      ]
    },
    {
      "cell_type": "code",
      "metadata": {
        "id": "3jmuit76t3vy",
        "colab_type": "code",
        "colab": {}
      },
      "source": [
        "# SA2 input data\n",
        "SA2 = gpd.read_file(os.path.join(path, \"SA2.shp\"))\n",
        "# buildings data\n",
        "buildings = gpd.read_file(os.path.join(path, \"buildings_raw.shp\"))\n",
        "# PGA files\n",
        "percentiles = ['pone', 'ptwo', 'pthree', 'pfour', 'pfive', 'psix', 'pseven']\n",
        "for (root,dirs,files) in os.walk(os.path.join(pathPGAs)): \n",
        "    print (root) \n",
        "    # print (dirs) \n",
        "    print (files) \n",
        "    for file in files:        \n",
        "        if file.endswith(\".shp\"):  \n",
        "            print(file)\n",
        "            for percentile in percentiles:\n",
        "                print (percentile)\n",
        "                PGA = gpd.read_file(os.path.join(pathPGAs, file))\n",
        "                ign_map = Ignition_Probability(SA2, PGA, percentile, buildings)\n",
        "                ign_map.to_file(os.path.join(path_output, \"buildings_\"+str(file)+\"_\"+str(percentile)+\".shp\"))"
      ],
      "execution_count": 0,
      "outputs": []
    }
  ]
}