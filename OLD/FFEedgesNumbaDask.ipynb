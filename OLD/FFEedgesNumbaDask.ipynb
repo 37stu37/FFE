{
  "nbformat": 4,
  "nbformat_minor": 0,
  "metadata": {
    "colab": {
      "name": "FFEedgesNumbaDask.ipynb",
      "provenance": [],
      "collapsed_sections": [],
      "toc_visible": true,
      "machine_shape": "hm",
      "include_colab_link": true
    },
    "kernelspec": {
      "name": "python3",
      "display_name": "Python 3"
    }
  },
  "cells": [
    {
      "cell_type": "markdown",
      "metadata": {
        "id": "view-in-github",
        "colab_type": "text"
      },
      "source": [
        "<a href=\"https://colab.research.google.com/github/37stu37/FFE/blob/master/FFEedgesNumbaDask.ipynb\" target=\"_parent\"><img src=\"https://colab.research.google.com/assets/colab-badge.svg\" alt=\"Open In Colab\"/></a>"
      ]
    },
    {
      "cell_type": "code",
      "metadata": {
        "id": "L4KVd4Q42tFl",
        "colab_type": "code",
        "colab": {
          "base_uri": "https://localhost:8080/",
          "height": 128
        },
        "outputId": "c9335b03-3271-498c-b0c5-02f6b4219518"
      },
      "source": [
        "from google.colab import drive\n",
        "drive.mount('/content/drive')"
      ],
      "execution_count": 1,
      "outputs": [
        {
          "output_type": "stream",
          "text": [
            "Go to this URL in a browser: https://accounts.google.com/o/oauth2/auth?client_id=947318989803-6bn6qk8qdgf4n4g3pfee6491hc0brc4i.apps.googleusercontent.com&redirect_uri=urn%3aietf%3awg%3aoauth%3a2.0%3aoob&response_type=code&scope=email%20https%3a%2f%2fwww.googleapis.com%2fauth%2fdocs.test%20https%3a%2f%2fwww.googleapis.com%2fauth%2fdrive%20https%3a%2f%2fwww.googleapis.com%2fauth%2fdrive.photos.readonly%20https%3a%2f%2fwww.googleapis.com%2fauth%2fpeopleapi.readonly\n",
            "\n",
            "Enter your authorization code:\n",
            "··········\n",
            "Mounted at /content/drive\n"
          ],
          "name": "stdout"
        }
      ]
    },
    {
      "cell_type": "code",
      "metadata": {
        "id": "uKZJJqJ6DNv-",
        "colab_type": "code",
        "colab": {
          "base_uri": "https://localhost:8080/",
          "height": 35
        },
        "outputId": "e426dbc9-60dc-4127-8429-995de595f704"
      },
      "source": [
        "%cd /content/drive/My Drive/Colab Notebooks/01_Repository/FFE\n",
        "# ! git pull"
      ],
      "execution_count": 8,
      "outputs": [
        {
          "output_type": "stream",
          "text": [
            "/content/drive/My Drive/Colab Notebooks/01_Repository/FFE\n"
          ],
          "name": "stdout"
        }
      ]
    },
    {
      "cell_type": "markdown",
      "metadata": {
        "id": "fBvUAn-8FhW5",
        "colab_type": "text"
      },
      "source": [
        "importing \n",
        "---\n",
        "\n"
      ]
    },
    {
      "cell_type": "code",
      "metadata": {
        "id": "uLEIMFiV55eq",
        "colab_type": "code",
        "colab": {
          "base_uri": "https://localhost:8080/",
          "height": 54
        },
        "outputId": "72910312-508f-4415-a4b8-ab5f4481069c"
      },
      "source": [
        "%%time \n",
        "%%capture\n",
        "!apt update\n",
        "!apt upgrade\n",
        "!apt install gdal-bin python-gdal python3-gdal \n",
        "# Install rtree - Geopandas requirment\n",
        "!apt install python3-rtree \n",
        "# Install Geopandas\n",
        "!pip install git+git://github.com/geopandas/geopandas.git\n",
        "# Install descartes - Geopandas requirment\n",
        "!pip install descartes"
      ],
      "execution_count": 2,
      "outputs": [
        {
          "output_type": "stream",
          "text": [
            "CPU times: user 736 ms, sys: 147 ms, total: 883 ms\n",
            "Wall time: 4min 54s\n"
          ],
          "name": "stdout"
        }
      ]
    },
    {
      "cell_type": "code",
      "metadata": {
        "id": "kr0PZxCvmWCl",
        "colab_type": "code",
        "colab": {
          "base_uri": "https://localhost:8080/",
          "height": 54
        },
        "outputId": "9fefb577-2ea8-4153-a91e-70c510de1493"
      },
      "source": [
        "%%time\n",
        "import datetime\n",
        "import glob\n",
        "from math import sqrt\n",
        "import os\n",
        "import matplotlib.pyplot as plt\n",
        "import numpy as np\n",
        "import pandas as pd\n",
        "import geopandas as gpd\n",
        "from scipy.spatial import distance\n",
        "from shapely.geometry import box\n",
        "from shapely.geometry import shape\n",
        "from shapely.geometry import Point\n",
        "import networkx as nx\n",
        "from sys import getsizeof\n",
        "from numba import jit\n",
        "import dask.dataframe as dd\n",
        "import dask.array as da\n",
        "import dask\n",
        "from dask.distributed import Client\n",
        "from dask.diagnostics import ProgressBar\n",
        "%matplotlib inline\n",
        "\n",
        "pd.options.mode.chained_assignment = None  # default='warn'"
      ],
      "execution_count": 46,
      "outputs": [
        {
          "output_type": "stream",
          "text": [
            "CPU times: user 1.35 ms, sys: 0 ns, total: 1.35 ms\n",
            "Wall time: 1.35 ms\n"
          ],
          "name": "stdout"
        }
      ]
    },
    {
      "cell_type": "code",
      "metadata": {
        "id": "mz4lyV9f3Sny",
        "colab_type": "code",
        "colab": {
          "base_uri": "https://localhost:8080/",
          "height": 272
        },
        "outputId": "744a408f-ce01-4897-b808-4a6dcc33dea0"
      },
      "source": [
        "# %%capture\n",
        "client = Client(processes=False)\n",
        "client"
      ],
      "execution_count": 9,
      "outputs": [
        {
          "output_type": "stream",
          "text": [
            "/usr/local/lib/python3.6/dist-packages/distributed/bokeh/core.py:57: UserWarning: \n",
            "Failed to start diagnostics server on port 8787. [Errno 99] Cannot assign requested address\n",
            "  warnings.warn('\\n' + msg)\n",
            "/usr/local/lib/python3.6/dist-packages/distributed/deploy/local.py:197: UserWarning: \n",
            "Could not launch service 'bokeh' on port 8787. Got the following message:\n",
            "\n",
            "[Errno 99] Cannot assign requested address\n",
            "  self.scheduler.start(scheduler_address)\n"
          ],
          "name": "stderr"
        },
        {
          "output_type": "execute_result",
          "data": {
            "text/html": [
              "<table style=\"border: 2px solid white;\">\n",
              "<tr>\n",
              "<td style=\"vertical-align: top; border: 0px solid white\">\n",
              "<h3>Client</h3>\n",
              "<ul>\n",
              "  <li><b>Scheduler: </b>inproc://172.28.0.2/141/13\n",
              "</ul>\n",
              "</td>\n",
              "<td style=\"vertical-align: top; border: 0px solid white\">\n",
              "<h3>Cluster</h3>\n",
              "<ul>\n",
              "  <li><b>Workers: </b>1</li>\n",
              "  <li><b>Cores: </b>4</li>\n",
              "  <li><b>Memory: </b>27.39 GB</li>\n",
              "</ul>\n",
              "</td>\n",
              "</tr>\n",
              "</table>"
            ],
            "text/plain": [
              "<Client: scheduler='inproc://172.28.0.2/141/13' processes=1 cores=4>"
            ]
          },
          "metadata": {
            "tags": []
          },
          "execution_count": 9
        }
      ]
    },
    {
      "cell_type": "markdown",
      "metadata": {
        "id": "K_1K7zSpFrVr",
        "colab_type": "text"
      },
      "source": [
        "runs\n",
        "---\n",
        "\n"
      ]
    },
    {
      "cell_type": "code",
      "metadata": {
        "id": "w-tLiFKrmZDM",
        "colab_type": "code",
        "colab": {}
      },
      "source": [
        "path = './data'\n",
        "pathShapefile = './data/shapefile'\n",
        "path_output = './output'"
      ],
      "execution_count": 11,
      "outputs": []
    },
    {
      "cell_type": "code",
      "metadata": {
        "id": "RmV12qcebhMI",
        "colab_type": "code",
        "colab": {}
      },
      "source": [
        "os.listdir(pathShapefile)"
      ],
      "execution_count": null,
      "outputs": []
    },
    {
      "cell_type": "markdown",
      "metadata": {
        "id": "QDAynt2Eaw7b",
        "colab_type": "text"
      },
      "source": [
        "**Load GIS data**\n",
        "\n",
        "\n",
        "\n",
        "---\n",
        "\n",
        "\n",
        "\n",
        "\n"
      ]
    },
    {
      "cell_type": "code",
      "metadata": {
        "colab_type": "code",
        "id": "PZosFepFncaX",
        "colab": {}
      },
      "source": [
        "def load_data(file_name, minx, miny, maxx, maxy):\n",
        "    # crop data\n",
        "    bbox = box(minx, miny, maxx, maxy)\n",
        "    # building point dataset\n",
        "    gdf_buildings = gpd.read_file(os.path.join(pathShapefile, file_name), bbox=bbox)\n",
        "    gdf_buildings['X'] = gdf_buildings.geometry.centroid.x\n",
        "    gdf_buildings['Y'] = gdf_buildings.geometry.centroid.y\n",
        "\n",
        "    # print(gdf_buildings.dtypes)\n",
        "    max_extent = gdf_buildings.total_bounds\n",
        "    data_size = getsizeof(gdf_buildings) /(1024.0**3)\n",
        "    print(\"Shapefile extent : {}\".format(max_extent))\n",
        "    print(\"Asset loaded : {}\".format(len(gdf_buildings)))\n",
        "    # print(\"Data size:{} GB'\".format(data_size))\n",
        "    # gdf_buildings.IgnProb_bl = 0.02\n",
        "    # xmin,ymin,xmax,ymax = gdf_buildings.total_bounds\n",
        "\n",
        "    # # Precision of float32 is sufficient for lat and lon\n",
        "    # float_columns = ['SHAPE_Leng','SHAPE_Area',\n",
        "    #                 'IgnProb_bl','RandProb']\n",
        "    # gdf_buildings[float_columns] = gdf_buildings[float_columns].astype('float32')\n",
        "    # int_columns = ['TARGET_FID','Combustibl',\n",
        "    #                 'AU2013Num','RandProb']\n",
        "    # gdf_buildings[int_columns] = gdf_buildings[int_columns].astype('int32')\n",
        "    # data_size = getsizeof(gdf_buildings)/(1024.0**3)\n",
        "    # print(\"resized Data size:{} GB'\".format(data_size))\n",
        "\n",
        "    return gdf_buildings\n",
        "\n",
        "\n",
        "def clean_up_file(prefix, path_path):\n",
        "    files = glob.glob(os.path.join(path_path, prefix))\n",
        "    for file in files:\n",
        "        print(file)\n",
        "        os.remove(file)"
      ],
      "execution_count": 15,
      "outputs": []
    },
    {
      "cell_type": "code",
      "metadata": {
        "id": "A_cSSLBC42v9",
        "colab_type": "code",
        "colab": {}
      },
      "source": [
        "# clean_up_file(\"*\", path_split)"
      ],
      "execution_count": null,
      "outputs": []
    },
    {
      "cell_type": "code",
      "metadata": {
        "id": "vc9ZZUD_cepw",
        "colab_type": "code",
        "colab": {
          "base_uri": "https://localhost:8080/",
          "height": 362
        },
        "outputId": "6743fa5e-a03b-40f4-a779-17ea2c3358c3"
      },
      "source": [
        "%%time\n",
        "# load data\n",
        "# gdf = load_data(\"buildings_raw.shp\", 1748570, 5425500, 1749500, 5427600) # small\n",
        "# gdf = load_data(\"buildings_raw.shp\", 1745000, 5424148, 1750000, 5430000) # larger\n",
        "gdf = load_data(\"WellWHV_Buildings.shp\", 1740508, 5420049, 1755776, 5443033) # whole\n",
        "gdf.plot(column='IgnProbBld', cmap='hsv', legend=True)"
      ],
      "execution_count": 20,
      "outputs": [
        {
          "output_type": "stream",
          "text": [
            "Shapefile extent : [1743666.2636 5421069.8387 1755072.1121 5443033.4851]\n",
            "Asset loaded : 73735\n",
            "CPU times: user 33.5 s, sys: 3.09 s, total: 36.6 s\n",
            "Wall time: 33.5 s\n"
          ],
          "name": "stdout"
        },
        {
          "output_type": "display_data",
          "data": {
            "image/png": "[encoded data removed]",
            "text/plain": [
              "<Figure size 432x288 with 2 Axes>"
            ]
          },
          "metadata": {
            "tags": [],
            "needs_background": "light"
          }
        }
      ]
    },
    {
      "cell_type": "code",
      "metadata": {
        "id": "kw4AYFw-elrQ",
        "colab_type": "code",
        "colab": {}
      },
      "source": [
        "gdf.insert(0, 'FID', range(0, len(gdf)))"
      ],
      "execution_count": 23,
      "outputs": []
    },
    {
      "cell_type": "code",
      "metadata": {
        "id": "n-cPfU3-b_14",
        "colab_type": "code",
        "colab": {
          "base_uri": "https://localhost:8080/",
          "height": 285
        },
        "outputId": "cc6e27e8-f837-4ccd-ab87-dd867eca9377"
      },
      "source": [
        "gdf.head()"
      ],
      "execution_count": 24,
      "outputs": [
        {
          "output_type": "execute_result",
          "data": {
            "text/html": [
              "<div>\n",
              "<style scoped>\n",
              "    .dataframe tbody tr th:only-of-type {\n",
              "        vertical-align: middle;\n",
              "    }\n",
              "\n",
              "    .dataframe tbody tr th {\n",
              "        vertical-align: top;\n",
              "    }\n",
              "\n",
              "    .dataframe thead th {\n",
              "        text-align: right;\n",
              "    }\n",
              "</style>\n",
              "<table border=\"1\" class=\"dataframe\">\n",
              "  <thead>\n",
              "    <tr style=\"text-align: right;\">\n",
              "      <th></th>\n",
              "      <th>FID</th>\n",
              "      <th>Replacemen</th>\n",
              "      <th>Combustibl</th>\n",
              "      <th>FloorArea</th>\n",
              "      <th>BLDG_ID</th>\n",
              "      <th>SA2_ID</th>\n",
              "      <th>NightOccup</th>\n",
              "      <th>IgnProbBld</th>\n",
              "      <th>geometry</th>\n",
              "      <th>X</th>\n",
              "      <th>Y</th>\n",
              "    </tr>\n",
              "  </thead>\n",
              "  <tbody>\n",
              "    <tr>\n",
              "      <th>0</th>\n",
              "      <td>0</td>\n",
              "      <td>271128.0</td>\n",
              "      <td>1</td>\n",
              "      <td>156.0</td>\n",
              "      <td>1</td>\n",
              "      <td>67</td>\n",
              "      <td>3.0</td>\n",
              "      <td>0.000040</td>\n",
              "      <td>POLYGON ((1748253.040 5422598.875, 1748260.639...</td>\n",
              "      <td>1.748256e+06</td>\n",
              "      <td>5.422592e+06</td>\n",
              "    </tr>\n",
              "    <tr>\n",
              "      <th>1</th>\n",
              "      <td>1</td>\n",
              "      <td>66044.0</td>\n",
              "      <td>1</td>\n",
              "      <td>38.0</td>\n",
              "      <td>2</td>\n",
              "      <td>75</td>\n",
              "      <td>1.0</td>\n",
              "      <td>0.000024</td>\n",
              "      <td>POLYGON ((1752652.050 5423208.879, 1752658.230...</td>\n",
              "      <td>1.752656e+06</td>\n",
              "      <td>5.423206e+06</td>\n",
              "    </tr>\n",
              "    <tr>\n",
              "      <th>2</th>\n",
              "      <td>2</td>\n",
              "      <td>56944.0</td>\n",
              "      <td>1</td>\n",
              "      <td>21.0</td>\n",
              "      <td>3</td>\n",
              "      <td>23</td>\n",
              "      <td>0.0</td>\n",
              "      <td>0.000101</td>\n",
              "      <td>POLYGON ((1750820.799 5434554.465, 1750819.180...</td>\n",
              "      <td>1.750818e+06</td>\n",
              "      <td>5.434553e+06</td>\n",
              "    </tr>\n",
              "    <tr>\n",
              "      <th>3</th>\n",
              "      <td>3</td>\n",
              "      <td>307626.0</td>\n",
              "      <td>1</td>\n",
              "      <td>177.0</td>\n",
              "      <td>4</td>\n",
              "      <td>38</td>\n",
              "      <td>3.0</td>\n",
              "      <td>0.000102</td>\n",
              "      <td>POLYGON ((1750052.705 5432505.105, 1750056.199...</td>\n",
              "      <td>1.750061e+06</td>\n",
              "      <td>5.432502e+06</td>\n",
              "    </tr>\n",
              "    <tr>\n",
              "      <th>4</th>\n",
              "      <td>4</td>\n",
              "      <td>342386.0</td>\n",
              "      <td>1</td>\n",
              "      <td>197.0</td>\n",
              "      <td>5</td>\n",
              "      <td>60</td>\n",
              "      <td>3.0</td>\n",
              "      <td>0.000081</td>\n",
              "      <td>POLYGON ((1748074.536 5424848.405, 1748075.076...</td>\n",
              "      <td>1.748083e+06</td>\n",
              "      <td>5.424849e+06</td>\n",
              "    </tr>\n",
              "  </tbody>\n",
              "</table>\n",
              "</div>"
            ],
            "text/plain": [
              "   FID  Replacemen  ...             X             Y\n",
              "0    0    271128.0  ...  1.748256e+06  5.422592e+06\n",
              "1    1     66044.0  ...  1.752656e+06  5.423206e+06\n",
              "2    2     56944.0  ...  1.750818e+06  5.434553e+06\n",
              "3    3    307626.0  ...  1.750061e+06  5.432502e+06\n",
              "4    4    342386.0  ...  1.748083e+06  5.424849e+06\n",
              "\n",
              "[5 rows x 11 columns]"
            ]
          },
          "metadata": {
            "tags": []
          },
          "execution_count": 24
        }
      ]
    },
    {
      "cell_type": "markdown",
      "metadata": {
        "id": "hE6o2sBraVVO",
        "colab_type": "text"
      },
      "source": [
        "**List of Functions**\n",
        "\n",
        "\n",
        "\n",
        "---\n",
        "\n",
        "\n",
        "\n"
      ]
    },
    {
      "cell_type": "code",
      "metadata": {
        "id": "ZJlFxDFhM7az",
        "colab_type": "code",
        "colab": {
          "base_uri": "https://localhost:8080/",
          "height": 54
        },
        "outputId": "4185def3-49e7-4239-87bd-9aa3977d2522"
      },
      "source": [
        "%%time\n",
        "# create edge list from id\n",
        "fid = gdf.FID.values\n",
        "x = gdf.X.values\n",
        "y = gdf.Y.values\n",
        "combustible = gdf.Combustibl.values\n",
        "\n",
        "@jit(nopython=True)\n",
        "def square(x):\n",
        "    return x ** 2\n",
        "\n",
        "@jit(nopython=True)\n",
        "def distance(x, y):\n",
        "    return np.sqrt(square(x) + square(y))\n",
        "\n",
        "@jit(nopython=True)\n",
        "def bearing(x, y):\n",
        "    azimuth = np.degrees(np.arctan2(x, y))\n",
        "    return (azimuth + 360) % 360\n",
        "\n",
        "@jit(nopython=True)\n",
        "def edge_list(fid, x, y, combustible):\n",
        "  list_s = []\n",
        "  list_t = []\n",
        "  list_distance = []\n",
        "  list_bearing = []\n",
        "  for idx_s, s in enumerate(fid):\n",
        "    if combustible[idx_s] != 0:\n",
        "        for idx_t, t in enumerate(fid):\n",
        "          if combustible[idx_t] != 0:\n",
        "\n",
        "            Vx = (x[idx_s] - x[idx_t])\n",
        "            Vy = (y[idx_s] - y[idx_t])\n",
        "\n",
        "            dist = distance(Vx, Vy)\n",
        "            bear = bearing(Vx, Vy)\n",
        "\n",
        "            if dist < 100 and dist != 0:\n",
        "              \n",
        "              list_s.append(s)\n",
        "              list_t.append(t)\n",
        "              list_distance.append(dist)\n",
        "              list_bearing.append(bear)\n",
        "\n",
        "  return list_s, list_t, list_distance, list_bearing"
      ],
      "execution_count": 52,
      "outputs": [
        {
          "output_type": "stream",
          "text": [
            "CPU times: user 45.2 ms, sys: 16.4 ms, total: 61.6 ms\n",
            "Wall time: 59.8 ms\n"
          ],
          "name": "stdout"
        }
      ]
    },
    {
      "cell_type": "code",
      "metadata": {
        "id": "62rQOZMcJHza",
        "colab_type": "code",
        "colab": {}
      },
      "source": [
        "def to_dask_df(source, target, distance, bearing):\n",
        "  list_of_lists = [source, target, distance, bearing]\n",
        "  list_of_arrays = []\n",
        "  for l in list_of_lists:\n",
        "    a = da.array(l)\n",
        "    list_of_arrays.append(a)\n",
        "\n",
        "  # generate dask dataframe\n",
        "  ddf = dd.concat([dd.from_dask_array(c) for c in list_of_arrays], axis = 1) \n",
        "  # name columns\n",
        "  ddf.columns = ['source', 'target', 'distance', 'bearing'] # [str(c) for c in list_of_list] \n",
        "\n",
        "  return ddf"
      ],
      "execution_count": 33,
      "outputs": []
    },
    {
      "cell_type": "code",
      "metadata": {
        "id": "KaAAprDSht4i",
        "colab_type": "code",
        "colab": {}
      },
      "source": [
        "def prepare_data(ddf, gdf):\n",
        "    gdf_short = gdf[['FID', 'geometry', 'IgnProbBld']]\n",
        "    df_short = pd.DataFrame(gdf_short)\n",
        "    # ddf = dd.read_parquet(os.path.join(path_output, 'dask_edge_list', file_name), engine='pyarrow')\n",
        "    ddf = ddf.compute()\n",
        "\n",
        "    # merge column of interest (geometries and Ignition probability)\n",
        "    df_source = ddf.merge(df_short, how='left', left_on='source', right_on='FID')\n",
        "    gdf_short = gdf[['FID', 'geometry']]\n",
        "    # df_short = pd.DataFrame(gdf_short)\n",
        "    df_target = ddf.merge(df_short, how='left', left_on='target', right_on='FID')\n",
        "\n",
        "    # reverse to geopandas\n",
        "\n",
        "    gdf_source = gpd.GeoDataFrame(df_source, geometry='geometry')\n",
        "    gdf_target = gpd.GeoDataFrame(df_target, geometry='geometry')\n",
        "\n",
        "    # calculate distance polygons\n",
        "    distance_series = gdf_source.distance(gdf_target)\n",
        "    ddf['distance'] = distance_series\n",
        "    ddf['IgnProbBld'] = df_source.IgnProbBld\n",
        "\n",
        "    return ddf"
      ],
      "execution_count": null,
      "outputs": []
    },
    {
      "cell_type": "code",
      "metadata": {
        "id": "RUaTSxxTV5Mq",
        "colab_type": "code",
        "colab": {}
      },
      "source": [
        "def write_to_parquet(daskDF):\n",
        "  # ddf = daskDF.compute()\n",
        "  daskDF.to_parquet(os.path.join(path_output, 'FinnShapeEdges.parquet'), engine='pyarrow')\n",
        "  return"
      ],
      "execution_count": 67,
      "outputs": []
    },
    {
      "cell_type": "code",
      "metadata": {
        "id": "ulo9yu2MaP-H",
        "colab_type": "code",
        "colab": {}
      },
      "source": [
        "# display network\n",
        "def display_network(edge_list_dataframe):\n",
        "    graph = nx.from_pandas_edgelist(edge_list_dataframe, edge_attr=True)\n",
        "    options = {'node_color': 'red', 'node_size': 50, 'width': 1, 'alpha': 0.4,\n",
        "               'with_labels': False, 'font_weight': 'bold'}\n",
        "    nx.draw_kamada_kawai(graph, **options)\n",
        "    plt.show()\n",
        "    return graph"
      ],
      "execution_count": 36,
      "outputs": []
    },
    {
      "cell_type": "markdown",
      "metadata": {
        "id": "yTupfo0Caeb2",
        "colab_type": "text"
      },
      "source": [
        "**Create edge list from polygon shapefile**\n",
        "\n",
        "\n",
        "---\n",
        "\n",
        "\n"
      ]
    },
    {
      "cell_type": "code",
      "metadata": {
        "id": "pQHEbtNaA2AS",
        "colab_type": "code",
        "colab": {
          "base_uri": "https://localhost:8080/",
          "height": 54
        },
        "outputId": "96a6da02-cc2a-4996-a3a7-52ab3b53a860"
      },
      "source": [
        "%%time\n",
        "source, target, distance, bearing = edge_list(fid, x, y, combustible)"
      ],
      "execution_count": 54,
      "outputs": [
        {
          "output_type": "stream",
          "text": [
            "CPU times: user 5min 5s, sys: 4.12 s, total: 5min 9s\n",
            "Wall time: 5min 3s\n"
          ],
          "name": "stdout"
        }
      ]
    },
    {
      "cell_type": "code",
      "metadata": {
        "id": "fVXAdCRxK-ci",
        "colab_type": "code",
        "colab": {
          "base_uri": "https://localhost:8080/",
          "height": 54
        },
        "outputId": "912deced-5921-4707-c404-e63179125b53"
      },
      "source": [
        "%%time\n",
        "# create an edge list from dask dataframe\n",
        "ddf = to_dask_df(source, target, distance, bearing)"
      ],
      "execution_count": 55,
      "outputs": [
        {
          "output_type": "stream",
          "text": [
            "CPU times: user 2.97 s, sys: 95 ms, total: 3.06 s\n",
            "Wall time: 2.92 s\n"
          ],
          "name": "stdout"
        }
      ]
    },
    {
      "cell_type": "code",
      "metadata": {
        "id": "idYyR9A8BCy-",
        "colab_type": "code",
        "colab": {
          "base_uri": "https://localhost:8080/",
          "height": 54
        },
        "outputId": "1f3db63f-79d9-4483-d7af-9c4f0e1bcdef"
      },
      "source": [
        "%%time\n",
        "# add geometries and distance between polygons\n",
        "ddf = prepare_data(ddf, gdf)"
      ],
      "execution_count": 56,
      "outputs": [
        {
          "output_type": "stream",
          "text": [
            "CPU times: user 2min 33s, sys: 4.05 s, total: 2min 37s\n",
            "Wall time: 2min 30s\n"
          ],
          "name": "stdout"
        }
      ]
    },
    {
      "cell_type": "code",
      "metadata": {
        "id": "u4qfLKd8jZ2M",
        "colab_type": "code",
        "colab": {
          "base_uri": "https://localhost:8080/",
          "height": 35
        },
        "outputId": "03ca81dc-46ac-4b24-ee5c-b456ebef058c"
      },
      "source": [
        "# check non combustible edge\n",
        "nonCom = gdf[gdf.Combustibl != 1]\n",
        "s = nonCom.FID\n",
        "test = ddf['source'].isin(s)\n",
        "any(test) # is one of the value True == Combustible FID in edges"
      ],
      "execution_count": 66,
      "outputs": [
        {
          "output_type": "execute_result",
          "data": {
            "text/plain": [
              "False"
            ]
          },
          "metadata": {
            "tags": []
          },
          "execution_count": 66
        }
      ]
    },
    {
      "cell_type": "code",
      "metadata": {
        "id": "mxbtyWw6Gmrx",
        "colab_type": "code",
        "colab": {}
      },
      "source": [
        "# export to parquet (would need deleting previous parquet)\n",
        "write_to_parquet(daskDF=ddf)"
      ],
      "execution_count": 68,
      "outputs": []
    },
    {
      "cell_type": "code",
      "metadata": {
        "id": "xcjZWvdaP7Sh",
        "colab_type": "code",
        "colab": {}
      },
      "source": [
        "%%time\n",
        "# # display network\n",
        "G = display_network(ddf)"
      ],
      "execution_count": null,
      "outputs": []
    },
    {
      "cell_type": "code",
      "metadata": {
        "id": "HfNi9Bl-rcYl",
        "colab_type": "code",
        "colab": {}
      },
      "source": [
        ""
      ],
      "execution_count": null,
      "outputs": []
    }
  ]
}