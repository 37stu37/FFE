{
  "nbformat": 4,
  "nbformat_minor": 0,
  "metadata": {
    "colab": {
      "name": "Untitled0.ipynb",
      "provenance": [],
      "machine_shape": "hm",
      "authorship_tag": "ABX9TyMy+ffKdjDCIk1FmsN19FWM",
      "include_colab_link": true
    },
    "kernelspec": {
      "name": "python3",
      "display_name": "Python 3"
    }
  },
  "cells": [
    {
      "cell_type": "markdown",
      "metadata": {
        "id": "view-in-github",
        "colab_type": "text"
      },
      "source": [
        "<a href=\"https://colab.research.google.com/github/37stu37/FFE/blob/master/edge_numba_Dask.ipynb\" target=\"_parent\"><img src=\"https://colab.research.google.com/assets/colab-badge.svg\" alt=\"Open In Colab\"/></a>"
      ]
    },
    {
      "cell_type": "code",
      "metadata": {
        "id": "uLEIMFiV55eq",
        "colab_type": "code",
        "outputId": "c0b8f4ab-2e10-4e49-c070-41aeb9004077",
        "colab": {
          "base_uri": "https://localhost:8080/",
          "height": 51
        }
      },
      "source": [
        "%%time \n",
        "%%capture\n",
        "!apt update\n",
        "!apt upgrade\n",
        "!apt install gdal-bin python-gdal python3-gdal \n",
        "# Install rtree - Geopandas requirment\n",
        "!apt install python3-rtree \n",
        "# Install Geopandas\n",
        "!pip install git+git://github.com/geopandas/geopandas.git\n",
        "# Install descartes - Geopandas requirment\n",
        "!pip install descartes"
      ],
      "execution_count": 83,
      "outputs": [
        {
          "output_type": "stream",
          "text": [
            "CPU times: user 2.31 s, sys: 813 ms, total: 3.12 s\n",
            "Wall time: 24.8 s\n"
          ],
          "name": "stdout"
        }
      ]
    },
    {
      "cell_type": "code",
      "metadata": {
        "id": "N0xvou966hTs",
        "colab_type": "code",
        "outputId": "2ba7446a-b6f7-41ff-b938-b6942f1aa227",
        "colab": {
          "base_uri": "https://localhost:8080/",
          "height": 34
        }
      },
      "source": [
        "# Load the Drive helper and mount\n",
        "from google.colab import drive\n",
        "%tensorflow_version 2.x\n",
        "# This will prompt for authorization.\n",
        "drive.mount('/content/drive')"
      ],
      "execution_count": 84,
      "outputs": [
        {
          "output_type": "stream",
          "text": [
            "Drive already mounted at /content/drive; to attempt to forcibly remount, call drive.mount(\"/content/drive\", force_remount=True).\n"
          ],
          "name": "stdout"
        }
      ]
    },
    {
      "cell_type": "code",
      "metadata": {
        "id": "kr0PZxCvmWCl",
        "colab_type": "code",
        "outputId": "f0f0c974-3474-4aaa-b55e-2f262dd7faf3",
        "colab": {
          "base_uri": "https://localhost:8080/",
          "height": 51
        }
      },
      "source": [
        "%%time\n",
        "import datetime\n",
        "import glob\n",
        "from math import sqrt\n",
        "import os\n",
        "import matplotlib.pyplot as plt\n",
        "import numpy as np\n",
        "import pandas as pd\n",
        "import geopandas as gpd\n",
        "from scipy.spatial import distance\n",
        "from shapely.geometry import box\n",
        "from shapely.geometry import shape\n",
        "from shapely.geometry import Point\n",
        "import networkx as nx\n",
        "from sys import getsizeof\n",
        "from numba import jit\n",
        "import dask.dataframe as dd\n",
        "import dask.array as da\n",
        "import dask\n",
        "from dask.distributed import Client\n",
        "from dask.diagnostics import ProgressBar\n",
        "%matplotlib inline\n",
        "\n",
        "pd.options.mode.chained_assignment = None  # default='warn'"
      ],
      "execution_count": 85,
      "outputs": [
        {
          "output_type": "stream",
          "text": [
            "CPU times: user 21 ms, sys: 10.2 ms, total: 31.2 ms\n",
            "Wall time: 30.9 ms\n"
          ],
          "name": "stdout"
        }
      ]
    },
    {
      "cell_type": "code",
      "metadata": {
        "id": "mz4lyV9f3Sny",
        "colab_type": "code",
        "outputId": "e3ebc633-22f2-40c9-cf50-348510ebadcf",
        "colab": {
          "base_uri": "https://localhost:8080/",
          "height": 262
        }
      },
      "source": [
        "client = Client(processes=False)\n",
        "client"
      ],
      "execution_count": 86,
      "outputs": [
        {
          "output_type": "stream",
          "text": [
            "/usr/local/lib/python3.6/dist-packages/distributed/bokeh/core.py:57: UserWarning: \n",
            "Failed to start diagnostics server on port 8787. [Errno 99] Cannot assign requested address\n",
            "  warnings.warn('\\n' + msg)\n",
            "/usr/local/lib/python3.6/dist-packages/distributed/deploy/local.py:197: UserWarning: \n",
            "Could not launch service 'bokeh' on port 8787. Got the following message:\n",
            "\n",
            "[Errno 99] Cannot assign requested address\n",
            "  self.scheduler.start(scheduler_address)\n"
          ],
          "name": "stderr"
        },
        {
          "output_type": "execute_result",
          "data": {
            "text/html": [
              "<table style=\"border: 2px solid white;\">\n",
              "<tr>\n",
              "<td style=\"vertical-align: top; border: 0px solid white\">\n",
              "<h3>Client</h3>\n",
              "<ul>\n",
              "  <li><b>Scheduler: </b>inproc://172.28.0.2/142/29\n",
              "</ul>\n",
              "</td>\n",
              "<td style=\"vertical-align: top; border: 0px solid white\">\n",
              "<h3>Cluster</h3>\n",
              "<ul>\n",
              "  <li><b>Workers: </b>1</li>\n",
              "  <li><b>Cores: </b>4</li>\n",
              "  <li><b>Memory: </b>27.40 GB</li>\n",
              "</ul>\n",
              "</td>\n",
              "</tr>\n",
              "</table>"
            ],
            "text/plain": [
              "<Client: scheduler='inproc://172.28.0.2/142/29' processes=1 cores=4>"
            ]
          },
          "metadata": {
            "tags": []
          },
          "execution_count": 86
        }
      ]
    },
    {
      "cell_type": "code",
      "metadata": {
        "id": "w-tLiFKrmZDM",
        "colab_type": "code",
        "outputId": "13bc1243-b105-476d-a406-32b3e5914c80",
        "colab": {
          "base_uri": "https://localhost:8080/",
          "height": 289
        }
      },
      "source": [
        "path = '/content/drive/My Drive/05_Sync/FFE/FireNetwork/00_input'\n",
        "path_output = '/content/drive/My Drive/05_Sync/FFE/FireNetwork/00_output'\n",
        "\n",
        "!ls \"/content/drive/My Drive/05_Sync/FFE/FireNetwork/00_input/\"\n",
        "!ls '/content/drive/My Drive/05_Sync/FFE/FireNetwork/00_output'"
      ],
      "execution_count": 87,
      "outputs": [
        {
          "output_type": "stream",
          "text": [
            "buildings_raw.cpg      buildings_raw_pts.mshp  buildings_raw.shp\n",
            "buildings_raw.dbf      buildings_raw_pts.prj   buildings_raw.shx\n",
            "buildings_raw.prj      buildings_raw_pts.shp   GD_wind.csv\n",
            "buildings_raw_pts.cpg  buildings_raw_pts.shx   source_target.csv\n",
            "buildings_raw_pts.dbf  buildings_raw.qpj\n",
            "dask_edge_list\t\t    output_scenario_19.parquet\n",
            "output_scenario_0.parquet   output_scenario_1.parquet\n",
            "output_scenario_10.parquet  output_scenario_2.parquet\n",
            "output_scenario_11.parquet  output_scenario_3.parquet\n",
            "output_scenario_12.parquet  output_scenario_4.parquet\n",
            "output_scenario_13.parquet  output_scenario_5.parquet\n",
            "output_scenario_14.parquet  output_scenario_6.parquet\n",
            "output_scenario_15.parquet  output_scenario_7.parquet\n",
            "output_scenario_16.parquet  output_scenario_8.parquet\n",
            "output_scenario_17.parquet  output_scenario_9.parquet\n",
            "output_scenario_18.parquet\n"
          ],
          "name": "stdout"
        }
      ]
    },
    {
      "cell_type": "markdown",
      "metadata": {
        "id": "QDAynt2Eaw7b",
        "colab_type": "text"
      },
      "source": [
        "**Load GIS data**\n",
        "\n",
        "\n",
        "\n",
        "---\n",
        "\n",
        "\n",
        "\n",
        "\n"
      ]
    },
    {
      "cell_type": "code",
      "metadata": {
        "colab_type": "code",
        "id": "PZosFepFncaX",
        "colab": {}
      },
      "source": [
        "def load_data(file_name, minx, miny, maxx, maxy):\n",
        "    # crop data\n",
        "    bbox = box(minx, miny, maxx, maxy)\n",
        "    # building point dataset\n",
        "    gdf_buildings = gpd.read_file(os.path.join(path, file_name), bbox=bbox)\n",
        "    gdf_buildings['X'] = gdf_buildings.geometry.centroid.x\n",
        "    gdf_buildings['Y'] = gdf_buildings.geometry.centroid.y\n",
        "\n",
        "    # print(gdf_buildings.dtypes)\n",
        "    max_extent = gdf_buildings.total_bounds\n",
        "    data_size = getsizeof(gdf_buildings) /(1024.0**3)\n",
        "    print(\"Shapefile extent : {}\".format(max_extent))\n",
        "    print(\"Asset loaded : {}\".format(len(gdf_buildings)))\n",
        "    # print(\"Data size:{} GB'\".format(data_size))\n",
        "    # gdf_buildings.IgnProb_bl = 0.02\n",
        "    # xmin,ymin,xmax,ymax = gdf_buildings.total_bounds\n",
        "\n",
        "    # # Precision of float32 is sufficient for lat and lon\n",
        "    # float_columns = ['SHAPE_Leng','SHAPE_Area',\n",
        "    #                 'IgnProb_bl','RandProb']\n",
        "    # gdf_buildings[float_columns] = gdf_buildings[float_columns].astype('float32')\n",
        "    # int_columns = ['TARGET_FID','Combustibl',\n",
        "    #                 'AU2013Num','RandProb']\n",
        "    # gdf_buildings[int_columns] = gdf_buildings[int_columns].astype('int32')\n",
        "    # data_size = getsizeof(gdf_buildings)/(1024.0**3)\n",
        "    # print(\"resized Data size:{} GB'\".format(data_size))\n",
        "\n",
        "    return gdf_buildings\n",
        "\n",
        "\n",
        "def clean_up_file(prefix, path_path):\n",
        "    files = glob.glob(os.path.join(path_path, prefix))\n",
        "    for file in files:\n",
        "        print(file)\n",
        "        os.remove(file)"
      ],
      "execution_count": 0,
      "outputs": []
    },
    {
      "cell_type": "code",
      "metadata": {
        "id": "A_cSSLBC42v9",
        "colab_type": "code",
        "colab": {}
      },
      "source": [
        "# clean_up_file(\"*\", path_split)"
      ],
      "execution_count": 0,
      "outputs": []
    },
    {
      "cell_type": "code",
      "metadata": {
        "id": "vc9ZZUD_cepw",
        "colab_type": "code",
        "outputId": "a70a62d9-d242-4052-f8a2-2379b0329ea3",
        "colab": {
          "base_uri": "https://localhost:8080/",
          "height": 357
        }
      },
      "source": [
        "%%time\n",
        "# load data\n",
        "# gdf = load_data(\"buildings_raw.shp\", 1748570, 5425500, 1749500, 5427600) # small\n",
        "# gdf = load_data(\"buildings_raw.shp\", 1745000, 5424148, 1750000, 5430000) # larger\n",
        "gdf = load_data(\"buildings_raw.shp\", 1740508, 5420049, 1755776, 5443033) # whole\n",
        "gdf.plot(column='IgnProb_bl', cmap='hsv', legend=True)"
      ],
      "execution_count": 90,
      "outputs": [
        {
          "output_type": "stream",
          "text": [
            "Shapefile extent : [1740507.1581502  5420048.34765005 1755776.95354986 5443033.48509979]\n",
            "Asset loaded : 74245\n",
            "CPU times: user 36.2 s, sys: 3.8 s, total: 40 s\n",
            "Wall time: 36.1 s\n"
          ],
          "name": "stdout"
        },
        {
          "output_type": "display_data",
          "data": {
            "image/png": "[encoded data removed]",
            "text/plain": [
              "<Figure size 432x288 with 2 Axes>"
            ]
          },
          "metadata": {
            "tags": []
          }
        }
      ]
    },
    {
      "cell_type": "markdown",
      "metadata": {
        "id": "hE6o2sBraVVO",
        "colab_type": "text"
      },
      "source": [
        "**List of Functions**\n",
        "\n",
        "\n",
        "\n",
        "---\n",
        "\n",
        "\n",
        "\n"
      ]
    },
    {
      "cell_type": "code",
      "metadata": {
        "id": "ZJlFxDFhM7az",
        "colab_type": "code",
        "outputId": "53e45c1c-11cb-475e-e0b4-886b60e13ec9",
        "colab": {
          "base_uri": "https://localhost:8080/",
          "height": 51
        }
      },
      "source": [
        "%%time\n",
        "# create edge list from id\n",
        "fid = gdf.TARGET_FID.values\n",
        "x = gdf.X.values\n",
        "y = gdf.Y.values\n",
        "\n",
        "@jit(nopython=True)\n",
        "def square(x):\n",
        "    return x ** 2\n",
        "\n",
        "@jit(nopython=True)\n",
        "def distance(x, y):\n",
        "    return np.sqrt(square(x) + square(y))\n",
        "\n",
        "@jit(nopython=True)\n",
        "def bearing(x, y):\n",
        "    azimuth = np.degrees(np.arctan2(x, y))\n",
        "    return (azimuth + 360) % 360\n",
        "\n",
        "@jit(nopython=True)\n",
        "def edge_list(fid, x, y):\n",
        "  list_s = []\n",
        "  list_t = []\n",
        "  list_distance = []\n",
        "  list_bearing = []\n",
        "  for idx_s, s in enumerate(fid):\n",
        "    for idx_t, t in enumerate(fid):\n",
        "\n",
        "      Vx = (x[idx_s] - x[idx_t])\n",
        "      Vy = (y[idx_s] - y[idx_t])\n",
        "\n",
        "      dist = distance(Vx, Vy)\n",
        "      bear = bearing(Vx, Vy)\n",
        "\n",
        "      if dist < 100 and dist != 0:\n",
        "        \n",
        "        list_s.append(s)\n",
        "        list_t.append(t)\n",
        "        list_distance.append(dist)\n",
        "        list_bearing.append(bear)\n",
        "\n",
        "  return list_s, list_t, list_distance, list_bearing"
      ],
      "execution_count": 91,
      "outputs": [
        {
          "output_type": "stream",
          "text": [
            "CPU times: user 10.4 ms, sys: 9.14 ms, total: 19.5 ms\n",
            "Wall time: 18.6 ms\n"
          ],
          "name": "stdout"
        }
      ]
    },
    {
      "cell_type": "code",
      "metadata": {
        "id": "62rQOZMcJHza",
        "colab_type": "code",
        "colab": {}
      },
      "source": [
        "def to_dask_df(source, target, distance, bearing):\n",
        "  list_of_lists = [source, target, distance, bearing]\n",
        "  list_of_arrays = []\n",
        "  for l in list_of_lists:\n",
        "    a = da.array(l)\n",
        "    list_of_arrays.append(a)\n",
        "\n",
        "  # generate dask dataframe\n",
        "  ddf = dd.concat([dd.from_dask_array(c) for c in list_of_arrays], axis = 1) \n",
        "  # name columns\n",
        "  ddf.columns = ['source', 'target', 'distance', 'bearing'] # [str(c) for c in list_of_list] \n",
        "\n",
        "  return ddf"
      ],
      "execution_count": 0,
      "outputs": []
    },
    {
      "cell_type": "code",
      "metadata": {
        "id": "jBLhWm3QAh_O",
        "colab_type": "code",
        "colab": {}
      },
      "source": [
        "def prepare_data(ddf, gdf):\n",
        "    gdf_short = gdf[['TARGET_FID', 'geometry', 'IgnProb_bl']]\n",
        "    df_short = pd.DataFrame(gdf_short)\n",
        "    # ddf = dd.read_parquet(os.path.join(path_output, 'dask_edge_list', file_name), engine='pyarrow')\n",
        "    ddf = ddf.compute()\n",
        "\n",
        "    # merge column of interest (geometries and Ignition probability)\n",
        "    df_source = ddf.merge(df_short, how='left', left_on='source', right_on='TARGET_FID')\n",
        "    gdf_short = gdf[['TARGET_FID', 'geometry']]\n",
        "    # df_short = pd.DataFrame(gdf_short)\n",
        "    df_target = ddf.merge(df_short, how='left', left_on='target', right_on='TARGET_FID')\n",
        "\n",
        "    # reverse to geopandas\n",
        "\n",
        "    gdf_source = gpd.GeoDataFrame(df_source, geometry='geometry')\n",
        "    gdf_target = gpd.GeoDataFrame(df_target, geometry='geometry')\n",
        "\n",
        "    # calculate distance polygons\n",
        "    distance_series = gdf_source.distance(gdf_target)\n",
        "    ddf['distance'] = distance_series\n",
        "    ddf['IgnProb_bl'] = df_source.IgnProb_bl\n",
        "\n",
        "    return ddf"
      ],
      "execution_count": 0,
      "outputs": []
    },
    {
      "cell_type": "code",
      "metadata": {
        "id": "RUaTSxxTV5Mq",
        "colab_type": "code",
        "colab": {}
      },
      "source": [
        "def write_to_parquet(daskDF):\n",
        "  # ddf = daskDF.compute()\n",
        "  daskDF.to_parquet(os.path.join(path_output, 'dask_edge_list', 'edge_data.parquet'), engine='pyarrow')\n",
        "  return"
      ],
      "execution_count": 0,
      "outputs": []
    },
    {
      "cell_type": "code",
      "metadata": {
        "id": "ulo9yu2MaP-H",
        "colab_type": "code",
        "colab": {}
      },
      "source": [
        "# display network\n",
        "def display_network(edge_list_dataframe):\n",
        "    graph = nx.from_pandas_edgelist(edge_list_dataframe, edge_attr=True)\n",
        "    options = {'node_color': 'red', 'node_size': 50, 'width': 1, 'alpha': 0.4,\n",
        "               'with_labels': False, 'font_weight': 'bold'}\n",
        "    nx.draw_kamada_kawai(graph, **options)\n",
        "    plt.show()\n",
        "    return graph"
      ],
      "execution_count": 0,
      "outputs": []
    },
    {
      "cell_type": "markdown",
      "metadata": {
        "id": "yTupfo0Caeb2",
        "colab_type": "text"
      },
      "source": [
        "**Create edge list from polygon shapefile**\n",
        "\n",
        "\n",
        "---\n",
        "\n",
        "\n"
      ]
    },
    {
      "cell_type": "code",
      "metadata": {
        "id": "pQHEbtNaA2AS",
        "colab_type": "code",
        "outputId": "896fbcf4-e75a-42b8-ce8f-7b8fde7b8890",
        "colab": {
          "base_uri": "https://localhost:8080/",
          "height": 51
        }
      },
      "source": [
        "%%time\n",
        "source, target, distance, bearing = edge_list(fid, x, y)"
      ],
      "execution_count": 96,
      "outputs": [
        {
          "output_type": "stream",
          "text": [
            "CPU times: user 4min 29s, sys: 4.65 s, total: 4min 34s\n",
            "Wall time: 4min 28s\n"
          ],
          "name": "stdout"
        }
      ]
    },
    {
      "cell_type": "code",
      "metadata": {
        "id": "fVXAdCRxK-ci",
        "colab_type": "code",
        "outputId": "44b96bdc-c24b-46c4-a117-7b47e2277c7c",
        "colab": {
          "base_uri": "https://localhost:8080/",
          "height": 51
        }
      },
      "source": [
        "%%time\n",
        "# create an edge list from dask dataframe\n",
        "ddf = to_dask_df(source, target, distance, bearing)"
      ],
      "execution_count": 97,
      "outputs": [
        {
          "output_type": "stream",
          "text": [
            "CPU times: user 3.14 s, sys: 91 ms, total: 3.23 s\n",
            "Wall time: 3.09 s\n"
          ],
          "name": "stdout"
        }
      ]
    },
    {
      "cell_type": "code",
      "metadata": {
        "id": "idYyR9A8BCy-",
        "colab_type": "code",
        "outputId": "4bec8369-b5b8-4c33-f839-a9edfa5d0eba",
        "colab": {
          "base_uri": "https://localhost:8080/",
          "height": 51
        }
      },
      "source": [
        "%%time\n",
        "# add geometries and distance between polygons\n",
        "ddf = prepare_data(ddf, gdf)"
      ],
      "execution_count": 98,
      "outputs": [
        {
          "output_type": "stream",
          "text": [
            "CPU times: user 2min 45s, sys: 6.34 s, total: 2min 51s\n",
            "Wall time: 2min 40s\n"
          ],
          "name": "stdout"
        }
      ]
    },
    {
      "cell_type": "code",
      "metadata": {
        "id": "mxbtyWw6Gmrx",
        "colab_type": "code",
        "colab": {}
      },
      "source": [
        "# export to parquet (would need deleting previous parquet)\n",
        "write_to_parquet(daskDF=ddf)"
      ],
      "execution_count": 0,
      "outputs": []
    },
    {
      "cell_type": "code",
      "metadata": {
        "id": "xcjZWvdaP7Sh",
        "colab_type": "code",
        "colab": {}
      },
      "source": [
        "# # display network\n",
        "# G = display_network(ddf)"
      ],
      "execution_count": 0,
      "outputs": []
    }
  ]
}