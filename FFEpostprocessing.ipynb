{
  "nbformat": 4,
  "nbformat_minor": 0,
  "metadata": {
    "colab": {
      "name": "FFEpostprocessing.ipynb",
      "provenance": [],
      "toc_visible": true,
      "include_colab_link": true
    },
    "kernelspec": {
      "name": "python3",
      "display_name": "Python 3"
    }
  },
  "cells": [
    {
      "cell_type": "markdown",
      "metadata": {
        "id": "view-in-github",
        "colab_type": "text"
      },
      "source": [
        "<a href=\"https://colab.research.google.com/github/37stu37/FFE/blob/master/FFEpostprocessing.ipynb\" target=\"_parent\"><img src=\"https://colab.research.google.com/assets/colab-badge.svg\" alt=\"Open In Colab\"/></a>"
      ]
    },
    {
      "cell_type": "code",
      "metadata": {
        "id": "HCjv_AITTkVk",
        "colab_type": "code",
        "colab": {
          "base_uri": "https://localhost:8080/",
          "height": 122
        },
        "outputId": "e541f9c4-2e7c-4662-c5a4-ce447dc1457a"
      },
      "source": [
        "from google.colab import drive\n",
        "drive.mount('/content/drive')"
      ],
      "execution_count": 1,
      "outputs": [
        {
          "output_type": "stream",
          "text": [
            "Go to this URL in a browser: https://accounts.google.com/o/oauth2/auth?client_id=947318989803-6bn6qk8qdgf4n4g3pfee6491hc0brc4i.apps.googleusercontent.com&redirect_uri=urn%3aietf%3awg%3aoauth%3a2.0%3aoob&response_type=code&scope=email%20https%3a%2f%2fwww.googleapis.com%2fauth%2fdocs.test%20https%3a%2f%2fwww.googleapis.com%2fauth%2fdrive%20https%3a%2f%2fwww.googleapis.com%2fauth%2fdrive.photos.readonly%20https%3a%2f%2fwww.googleapis.com%2fauth%2fpeopleapi.readonly\n",
            "\n",
            "Enter your authorization code:\n",
            "··········\n",
            "Mounted at /content/drive\n"
          ],
          "name": "stdout"
        }
      ]
    },
    {
      "cell_type": "markdown",
      "metadata": {
        "id": "GscCSHXuz1EQ",
        "colab_type": "text"
      },
      "source": [
        "**pip**\n",
        "---\n",
        "\n"
      ]
    },
    {
      "cell_type": "code",
      "metadata": {
        "id": "9cUU_cV1z4_W",
        "colab_type": "code",
        "colab": {
          "base_uri": "https://localhost:8080/",
          "height": 0
        },
        "outputId": "1f6f67e0-cf1c-4d18-bbb5-e68835c41bd9"
      },
      "source": [
        "%%time\n",
        "%%capture\n",
        "!apt update\n",
        "!apt upgrade\n",
        "!apt install gdal-bin python-gdal python3-gdal\n",
        "# Install rtree - Geopandas requirment\n",
        "!apt install python3-rtree\n",
        "# Install Geopandas\n",
        "!pip install git+git://github.com/geopandas/geopandas.git\n",
        "# Install descartes - Geopandas requirment\n",
        "!pip install descartes\n",
        "!pip install memory_profiler"
      ],
      "execution_count": 2,
      "outputs": [
        {
          "output_type": "stream",
          "text": [
            "CPU times: user 405 ms, sys: 87.1 ms, total: 492 ms\n",
            "Wall time: 1min 55s\n"
          ],
          "name": "stdout"
        }
      ]
    },
    {
      "cell_type": "markdown",
      "metadata": {
        "id": "1zt3Mso3zxUn",
        "colab_type": "text"
      },
      "source": [
        "**import**\n",
        "---\n",
        "\n"
      ]
    },
    {
      "cell_type": "code",
      "metadata": {
        "id": "PdshhEPMyxVr",
        "colab_type": "code",
        "colab": {}
      },
      "source": [
        "import glob\n",
        "import os\n",
        "import pathlib as Path\n",
        "from sys import getsizeof\n",
        "import dask\n",
        "import dask.dataframe as dd\n",
        "import geopandas as gpd\n",
        "import pandas as pd\n",
        "from dask.distributed import Client\n",
        "from shapely.geometry import box"
      ],
      "execution_count": 0,
      "outputs": []
    },
    {
      "cell_type": "code",
      "metadata": {
        "id": "C011k0YnzPIc",
        "colab_type": "code",
        "colab": {}
      },
      "source": [
        "%%capture\n",
        "client = Client(processes=False)\n",
        "client"
      ],
      "execution_count": 0,
      "outputs": []
    },
    {
      "cell_type": "code",
      "metadata": {
        "id": "s-SH34P6TeH9",
        "colab_type": "code",
        "colab": {
          "base_uri": "https://localhost:8080/",
          "height": 34
        },
        "outputId": "6688a47f-1167-4411-ad08-d1d26acd0cfa"
      },
      "source": [
        "%cd /content/drive/My Drive/Colab Notebooks/01_githubRepo/FFE"
      ],
      "execution_count": 12,
      "outputs": [
        {
          "output_type": "stream",
          "text": [
            "/content/drive/My Drive/Colab Notebooks/01_githubRepo/FFE\n"
          ],
          "name": "stdout"
        }
      ]
    },
    {
      "cell_type": "code",
      "metadata": {
        "id": "uBWDvLkMzRmF",
        "colab_type": "code",
        "colab": {}
      },
      "source": [
        "pathShapefile = './data/shapefile'\n",
        "path_output = '../../02_output'"
      ],
      "execution_count": 0,
      "outputs": []
    },
    {
      "cell_type": "code",
      "metadata": {
        "id": "XC_WvfjbVXfT",
        "colab_type": "code",
        "colab": {
          "base_uri": "https://localhost:8080/",
          "height": 51
        },
        "outputId": "02d3a18d-20bb-4a67-b1c5-792a9c0be102"
      },
      "source": [
        "!ls '../../02_output'"
      ],
      "execution_count": 23,
      "outputs": [
        {
          "output_type": "stream",
          "text": [
            "scenario1249_pid958_Activations.parquet  smallShapeEdges.parquet\n",
            "scenario1249_pid959_Activations.parquet\n"
          ],
          "name": "stdout"
        }
      ]
    },
    {
      "cell_type": "markdown",
      "metadata": {
        "id": "YJMszJtPznf-",
        "colab_type": "text"
      },
      "source": [
        "**definitions**\n",
        "---"
      ]
    },
    {
      "cell_type": "code",
      "metadata": {
        "id": "MdhDOrGtzTra",
        "colab_type": "code",
        "colab": {}
      },
      "source": [
        "@dask.delayed\n",
        "def read_and_concatenate_parquets(prefix, path=path_output):\n",
        "  L = []\n",
        "  files = glob.glob(os.path.join(path_output, prefix))# output_scenario_0_step_0.parquet\n",
        "  for file in files:\n",
        "    print(\"file loaded : {}\".format(file))\n",
        "    pqt = dd.read_parquet(file)\n",
        "    L.append(pqt)\n",
        "  df = dd.concat(L)\n",
        "  return df\n",
        "\n",
        "def count_fid_occurences(df):\n",
        "  count = df['source'].value_counts().compute()\n",
        "  count_df = pd.DataFrame({'source': count.index, 'count': count.values})\n",
        "  return count_df\n",
        "\n",
        "def load_shapefile(file_name, minx, miny, maxx, maxy):\n",
        "    # crop data\n",
        "    bbox = box(minx, miny, maxx, maxy)\n",
        "    # building point dataset\n",
        "    gdf_buildings = gpd.read_file(os.path.join(pathShapefile,file_name), bbox=bbox)\n",
        "    max_extent = gdf_buildings.total_bounds\n",
        "    data_size = getsizeof(gdf_buildings) /(1024.0**3)\n",
        "    print(\"Shapefile extent : {}\".format(max_extent))\n",
        "    print(\"Asset loaded : {}\".format(len(gdf_buildings)))\n",
        "    # gdf_buildings.plot(column='IgnProb_bl', cmap='hsv', legend=True)\n",
        "    return gdf_buildings\n",
        "\n",
        "def merge_coordinates_export_shape(ddf, gdf, name_output):\n",
        "  gdf = gdf[['TARGET_FID', 'geometry']]\n",
        "  df = pd.DataFrame(gdf)\n",
        "  # ddf = ddf.compute()\n",
        "  df_merge = ddf.merge(df, how='left', left_on='source', right_on='TARGET_FID')\n",
        "  gdf_merge = gpd.GeoDataFrame(df_merge, geometry='geometry')\n",
        "  gdf_merge.to_file(os.path.join(path_output, name_output + \".shp\"))\n",
        "\n",
        "  f, ax = plt.subplots(1, figsize=(12, 12))\n",
        "  countPlot = gdf_merge.plot(column='count', cmap='seismic', legend=True, ax=ax)\n",
        "  plt.savefig(os.path.join(path_output, 'smallMonteCarlo2500runs.jpg'), dpi=300)\n",
        "  plt.show()\n",
        "  return gdf_merge"
      ],
      "execution_count": 0,
      "outputs": []
    },
    {
      "cell_type": "markdown",
      "metadata": {
        "id": "sDxnRocLzkuM",
        "colab_type": "text"
      },
      "source": [
        "**runs**\n",
        "---\n",
        "\n"
      ]
    },
    {
      "cell_type": "code",
      "metadata": {
        "id": "1Pz3M0rmzcmS",
        "colab_type": "code",
        "colab": {}
      },
      "source": [
        "df = read_and_concatenate_parquets(\"scenario*\")"
      ],
      "execution_count": 0,
      "outputs": []
    },
    {
      "cell_type": "code",
      "metadata": {
        "id": "9ZUPIsOLVvUp",
        "colab_type": "code",
        "colab": {}
      },
      "source": [
        "t.to_parquet(os.path.join(path_output, 'smallMonteCarlo2500runs.parquet'), engine='pyarrow')"
      ],
      "execution_count": 0,
      "outputs": []
    },
    {
      "cell_type": "code",
      "metadata": {
        "id": "YeazwyRyVEXT",
        "colab_type": "code",
        "colab": {
          "base_uri": "https://localhost:8080/",
          "height": 51
        },
        "outputId": "5d67cd68-ed8d-4455-fb7e-0f364faafe41"
      },
      "source": [
        "count_df = count_fid_occurences(df)"
      ],
      "execution_count": 49,
      "outputs": [
        {
          "output_type": "stream",
          "text": [
            "file loaded : ../../02_output/scenario1249_pid958_Activations.parquet\n",
            "file loaded : ../../02_output/scenario1249_pid959_Activations.parquet\n"
          ],
          "name": "stdout"
        }
      ]
    },
    {
      "cell_type": "code",
      "metadata": {
        "id": "EFGh4kZzVicv",
        "colab_type": "code",
        "colab": {}
      },
      "source": [
        "count_df.describe()"
      ],
      "execution_count": 0,
      "outputs": []
    },
    {
      "cell_type": "code",
      "metadata": {
        "id": "rlgdqmoDVG83",
        "colab_type": "code",
        "colab": {}
      },
      "source": [
        "gdf = load_shapefile(\"buildings_raw.shp\", 1748570, 5425500, 1749500, 5427600) # small\n",
        "gdf_count = merge_coordinates_export_shape(count_df, gdf, \"smallBurnedBuildings\")"
      ],
      "execution_count": 0,
      "outputs": []
    },
    {
      "cell_type": "code",
      "metadata": {
        "id": "8odNEz1ZmSkC",
        "colab_type": "code",
        "colab": {}
      },
      "source": [
        ""
      ],
      "execution_count": 0,
      "outputs": []
    }
  ]
}