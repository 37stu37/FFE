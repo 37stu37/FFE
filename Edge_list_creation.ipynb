{
  "nbformat": 4,
  "nbformat_minor": 0,
  "metadata": {
    "colab": {
      "name": "Untitled0.ipynb",
      "provenance": [],
      "machine_shape": "hm",
      "authorship_tag": "ABX9TyNrMEgcR/cCZ5uOiTIR3Hk8",
      "include_colab_link": true
    },
    "kernelspec": {
      "name": "python3",
      "display_name": "Python 3"
    }
  },
  "cells": [
    {
      "cell_type": "markdown",
      "metadata": {
        "id": "view-in-github",
        "colab_type": "text"
      },
      "source": [
        "<a href=\"https://colab.research.google.com/github/37stu37/FFE/blob/master/Edge_list_creation.ipynb\" target=\"_parent\"><img src=\"https://colab.research.google.com/assets/colab-badge.svg\" alt=\"Open In Colab\"/></a>"
      ]
    },
    {
      "cell_type": "code",
      "metadata": {
        "id": "uLEIMFiV55eq",
        "colab_type": "code",
        "outputId": "85296a00-00fe-466d-cda8-265c9070f613",
        "colab": {
          "base_uri": "https://localhost:8080/",
          "height": 52
        }
      },
      "source": [
        "%%time \n",
        "%%capture\n",
        "!apt update\n",
        "!apt upgrade\n",
        "!apt install gdal-bin python-gdal python3-gdal \n",
        "# Install rtree - Geopandas requirment\n",
        "!apt install python3-rtree \n",
        "# Install Geopandas\n",
        "!pip install git+git://github.com/geopandas/geopandas.git\n",
        "# Install descartes - Geopandas requirment\n",
        "!pip install descartes"
      ],
      "execution_count": 1,
      "outputs": [
        {
          "output_type": "stream",
          "text": [
            "CPU times: user 252 ms, sys: 54.9 ms, total: 307 ms\n",
            "Wall time: 25.6 s\n"
          ],
          "name": "stdout"
        }
      ]
    },
    {
      "cell_type": "code",
      "metadata": {
        "id": "N0xvou966hTs",
        "colab_type": "code",
        "outputId": "86dfdcd5-d07d-462d-d662-8a9e4fae548a",
        "colab": {
          "base_uri": "https://localhost:8080/",
          "height": 52
        }
      },
      "source": [
        "# Load the Drive helper and mount\n",
        "from google.colab import drive\n",
        "%tensorflow_version 2.x\n",
        "# This will prompt for authorization.\n",
        "drive.mount('/content/drive')"
      ],
      "execution_count": 2,
      "outputs": [
        {
          "output_type": "stream",
          "text": [
            "TensorFlow 2.x selected.\n",
            "Drive already mounted at /content/drive; to attempt to forcibly remount, call drive.mount(\"/content/drive\", force_remount=True).\n"
          ],
          "name": "stdout"
        }
      ]
    },
    {
      "cell_type": "code",
      "metadata": {
        "id": "kr0PZxCvmWCl",
        "colab_type": "code",
        "outputId": "f23f9b79-f9eb-4167-d80d-5ae28d6b1171",
        "colab": {
          "base_uri": "https://localhost:8080/",
          "height": 52
        }
      },
      "source": [
        "%%time\n",
        "import datetime\n",
        "import glob\n",
        "import math\n",
        "import os\n",
        "import matplotlib.pyplot as plt\n",
        "import numpy as np\n",
        "import pandas as pd\n",
        "import geopandas as gpd\n",
        "from scipy.spatial import distance\n",
        "from shapely.geometry import box\n",
        "from shapely.geometry import shape\n",
        "from shapely.geometry import Point\n",
        "import networkx as nx\n",
        "from sys import getsizeof\n",
        "from numba import jit\n",
        "import dask.dataframe as dd\n",
        "import dask.array as da\n",
        "import dask\n",
        "from dask.distributed import Client\n",
        "from dask.diagnostics import ProgressBar\n",
        "%matplotlib inline\n",
        "\n",
        "pd.options.mode.chained_assignment = None  # default='warn'"
      ],
      "execution_count": 3,
      "outputs": [
        {
          "output_type": "stream",
          "text": [
            "CPU times: user 789 ms, sys: 82.7 ms, total: 871 ms\n",
            "Wall time: 882 ms\n"
          ],
          "name": "stdout"
        }
      ]
    },
    {
      "cell_type": "code",
      "metadata": {
        "id": "mz4lyV9f3Sny",
        "colab_type": "code",
        "outputId": "a5494b75-2183-44a6-80f7-f9c20632a295",
        "colab": {
          "base_uri": "https://localhost:8080/",
          "height": 262
        }
      },
      "source": [
        "client = Client(processes=False)\n",
        "client"
      ],
      "execution_count": 4,
      "outputs": [
        {
          "output_type": "stream",
          "text": [
            "/usr/local/lib/python3.6/dist-packages/distributed/bokeh/core.py:57: UserWarning: \n",
            "Failed to start diagnostics server on port 8787. [Errno 99] Cannot assign requested address\n",
            "  warnings.warn('\\n' + msg)\n",
            "/usr/local/lib/python3.6/dist-packages/distributed/deploy/local.py:197: UserWarning: \n",
            "Could not launch service 'bokeh' on port 8787. Got the following message:\n",
            "\n",
            "[Errno 99] Cannot assign requested address\n",
            "  self.scheduler.start(scheduler_address)\n"
          ],
          "name": "stderr"
        },
        {
          "output_type": "execute_result",
          "data": {
            "text/html": [
              "<table style=\"border: 2px solid white;\">\n",
              "<tr>\n",
              "<td style=\"vertical-align: top; border: 0px solid white\">\n",
              "<h3>Client</h3>\n",
              "<ul>\n",
              "  <li><b>Scheduler: </b>inproc://172.28.0.2/7905/1\n",
              "</ul>\n",
              "</td>\n",
              "<td style=\"vertical-align: top; border: 0px solid white\">\n",
              "<h3>Cluster</h3>\n",
              "<ul>\n",
              "  <li><b>Workers: </b>1</li>\n",
              "  <li><b>Cores: </b>4</li>\n",
              "  <li><b>Memory: </b>27.40 GB</li>\n",
              "</ul>\n",
              "</td>\n",
              "</tr>\n",
              "</table>"
            ],
            "text/plain": [
              "<Client: scheduler='inproc://172.28.0.2/7905/1' processes=1 cores=4>"
            ]
          },
          "metadata": {
            "tags": []
          },
          "execution_count": 4
        }
      ]
    },
    {
      "cell_type": "code",
      "metadata": {
        "id": "w-tLiFKrmZDM",
        "colab_type": "code",
        "outputId": "9228e0e2-8572-4bd2-915c-954614ee2d4b",
        "colab": {
          "base_uri": "https://localhost:8080/",
          "height": 105
        }
      },
      "source": [
        "path = '/content/drive/My Drive/05_Sync/FFE/FireNetwork/00_input'\n",
        "path_output = '/content/drive/My Drive/05_Sync/FFE/FireNetwork/00_output'\n",
        "\n",
        "!ls \"/content/drive/My Drive/05_Sync/FFE/FireNetwork/00_input\""
      ],
      "execution_count": 5,
      "outputs": [
        {
          "output_type": "stream",
          "text": [
            "buildings_raw.cpg      buildings_raw_pts.mshp  buildings_raw.shp\n",
            "buildings_raw.dbf      buildings_raw_pts.prj   buildings_raw.shx\n",
            "buildings_raw.prj      buildings_raw_pts.shp   GD_wind.csv\n",
            "buildings_raw_pts.cpg  buildings_raw_pts.shx   source_target.csv\n",
            "buildings_raw_pts.dbf  buildings_raw.qpj\n"
          ],
          "name": "stdout"
        }
      ]
    },
    {
      "cell_type": "code",
      "metadata": {
        "colab_type": "code",
        "id": "PZosFepFncaX",
        "colab": {}
      },
      "source": [
        "def load_data(file_name, minx, miny, maxx, maxy):\n",
        "    # crop data\n",
        "    bbox = box(minx, miny, maxx, maxy)\n",
        "    # building point dataset\n",
        "    gdf_buildings = gpd.read_file(os.path.join(path, file_name), bbox=bbox)\n",
        "    gdf_buildings['X'] = gdf_buildings.geometry.centroid.x\n",
        "    gdf_buildings['Y'] = gdf_buildings.geometry.centroid.y\n",
        "\n",
        "    # print(gdf_buildings.dtypes)\n",
        "    max_extent = gdf_buildings.total_bounds\n",
        "    data_size = getsizeof(gdf_buildings)/(1024.0**3)\n",
        "    print(\"Shapefile extent : {}\".format(max_extent))\n",
        "    print(\"Asset loaded : {}\".format(len(gdf_buildings)))\n",
        "    print(\"Data size:{} GB'\".format(data_size))\n",
        "    # gdf_buildings.IgnProb_bl = 0.02\n",
        "    # xmin,ymin,xmax,ymax = gdf_buildings.total_bounds\n",
        "\n",
        "    # # Precision of float32 is sufficient for lat and lon\n",
        "    # float_columns = ['SHAPE_Leng','SHAPE_Area',\n",
        "    #                 'IgnProb_bl','RandProb']\n",
        "    # gdf_buildings[float_columns] = gdf_buildings[float_columns].astype('float32')\n",
        "    # int_columns = ['TARGET_FID','Combustibl',\n",
        "    #                 'AU2013Num','RandProb']\n",
        "    # gdf_buildings[int_columns] = gdf_buildings[int_columns].astype('int32')\n",
        "    # data_size = getsizeof(gdf_buildings)/(1024.0**3)\n",
        "    print(\"resized Data size:{} GB'\".format(data_size))\n",
        "\n",
        "    return gdf_buildings"
      ],
      "execution_count": 0,
      "outputs": []
    },
    {
      "cell_type": "code",
      "metadata": {
        "id": "vc9ZZUD_cepw",
        "colab_type": "code",
        "outputId": "93c77e1b-c0be-490a-a1f2-19cb666a7a40",
        "colab": {
          "base_uri": "https://localhost:8080/",
          "height": 123
        }
      },
      "source": [
        "%%time\n",
        "# load data\n",
        "gdf = load_data(\"buildings_raw.shp\", 1748570, 5425500, 1749500, 5427600) # small\n",
        "# gdf = load_data(\"buildings_raw.shp\", 1745000, 5424148, 1750000, 5430000) # larger\n",
        "# gdf = load_data(\"buildings_raw.shp\", 1740508, 5420049, 1755776, 5443033) # whole\n",
        "# gdf.plot(column='IgnProb_bl', cmap='hsv', legend=True)"
      ],
      "execution_count": 7,
      "outputs": [
        {
          "output_type": "stream",
          "text": [
            "Shapefile extent : [1748498.0152998  5425264.79535007 1749563.95249987 5427653.74945021]\n",
            "Asset loaded : 1611\n",
            "Data size:0.0002206386998295784 GB'\n",
            "resized Data size:0.0002206386998295784 GB'\n",
            "CPU times: user 395 ms, sys: 43.5 ms, total: 439 ms\n",
            "Wall time: 450 ms\n"
          ],
          "name": "stdout"
        }
      ]
    },
    {
      "cell_type": "code",
      "metadata": {
        "id": "-K1Mapc9hMnb",
        "colab_type": "code",
        "colab": {}
      },
      "source": [
        "fid = gdf.TARGET_FID.values\n",
        "\n",
        "t = [fid] * len(fid)\n",
        "t = np.hstack(t)"
      ],
      "execution_count": 0,
      "outputs": []
    },
    {
      "cell_type": "code",
      "metadata": {
        "id": "p1DztDJ8hV_T",
        "colab_type": "code",
        "colab": {
          "base_uri": "https://localhost:8080/",
          "height": 34
        },
        "outputId": "2702a6bf-03e9-4da3-d619-ffed73604ded"
      },
      "source": [
        "len(t)"
      ],
      "execution_count": 9,
      "outputs": [
        {
          "output_type": "execute_result",
          "data": {
            "text/plain": [
              "2595321"
            ]
          },
          "metadata": {
            "tags": []
          },
          "execution_count": 9
        }
      ]
    },
    {
      "cell_type": "code",
      "metadata": {
        "id": "ZJlFxDFhM7az",
        "colab_type": "code",
        "colab": {}
      },
      "source": [
        "splits_of_dataframes = np.array_split(gdf, 100)\n",
        "fid = gdf.TARGET_FID.values\n",
        "x = gdf.X.values\n",
        "y = gdf.Y.values\n",
        "\n",
        "# @jit(parallel=True)\n",
        "def source_target(splits_df, id_gdf, x_gdf, y_gdf):\n",
        "  count = 0\n",
        "  for df in splits_df[0]:\n",
        "    count = count + 1\n",
        "    print('split loaded : {} / {}'.format(count, len(splits_df)))\n",
        "\n",
        "    # target\n",
        "    t = [id_gdf] * len(id_gdf)\n",
        "    t = np.hstack(t)\n",
        "    print(\"item in target : {}\".format(len(t)))\n",
        "    x_target = [x_gdf] * len(id_gdf)\n",
        "    x_target = np.hstack(x_target)\n",
        "    y_target = [y_gdf] * len(id_gdf)\n",
        "    y_target = np.hstack(y_target)\n",
        "\n",
        "    # source\n",
        "    s = np.repeat(id_gdf, len(id_gdf))\n",
        "    x_source = np.repeat(x_gdf, len(id_gdf))\n",
        "    y_source = np.repeat(y_gdf, len(id_gdf))\n",
        "    print(\"item in source : {}\".format(len(s)))\n",
        "\n",
        "    # add to dataframe\n",
        "    df = pd.DataFrame()\n",
        "    df['source'] = s\n",
        "    df['x_source'] = x_source\n",
        "    df['y_source'] = y_source\n",
        "    df['target'] = t \n",
        "    df['x_target'] = x_target\n",
        "    df['y_target'] = y_target\n",
        "\n",
        "    # filter on distance\n",
        "    df['distance'] = ((df.x_source - df.x_target)**2 + (df.y_source - df.y_target)**2)**0.5\n",
        "    df = df[(df.distance < 50) & (df.distance != 0)]\n",
        "    df['azimuth'] = np.degrees(da.arctan2((df.x_source.values - df.x_target.values), (df.y_source.values - df.y_target.values)))\n",
        "    df['bearing'] = (df.azimuth + 360) % 360\n",
        "\n",
        "    df.to_csv(os.path.join(path_output, 'split_dataframes', 'split_{}'.format(count)))\n",
        "\n",
        "  return"
      ],
      "execution_count": 0,
      "outputs": []
    },
    {
      "cell_type": "code",
      "metadata": {
        "id": "PHapubvgNbjJ",
        "colab_type": "code",
        "colab": {
          "base_uri": "https://localhost:8080/",
          "height": 638
        },
        "outputId": "2c41709f-80f7-4606-852c-0b45602a1466"
      },
      "source": [
        "%%time\n",
        "source_target(splits_of_dataframes, fid, x, y)"
      ],
      "execution_count": 33,
      "outputs": [
        {
          "output_type": "stream",
          "text": [
            "split loaded : 1 / 100\n",
            "item in target : 2595321\n",
            "item in source : 2595321\n",
            "split loaded : 2 / 100\n",
            "item in target : 2595321\n",
            "item in source : 2595321\n",
            "split loaded : 3 / 100\n",
            "item in target : 2595321\n",
            "item in source : 2595321\n",
            "split loaded : 4 / 100\n",
            "item in target : 2595321\n",
            "item in source : 2595321\n",
            "split loaded : 5 / 100\n",
            "item in target : 2595321\n",
            "item in source : 2595321\n",
            "split loaded : 6 / 100\n",
            "item in target : 2595321\n",
            "item in source : 2595321\n",
            "split loaded : 7 / 100\n",
            "item in target : 2595321\n",
            "item in source : 2595321\n",
            "split loaded : 8 / 100\n",
            "item in target : 2595321\n",
            "item in source : 2595321\n",
            "split loaded : 9 / 100\n",
            "item in target : 2595321\n",
            "item in source : 2595321\n",
            "split loaded : 10 / 100\n",
            "item in target : 2595321\n",
            "item in source : 2595321\n",
            "split loaded : 11 / 100\n",
            "item in target : 2595321\n",
            "item in source : 2595321\n",
            "CPU times: user 6.57 s, sys: 467 ms, total: 7.04 s\n",
            "Wall time: 7.06 s\n"
          ],
          "name": "stdout"
        }
      ]
    },
    {
      "cell_type": "code",
      "metadata": {
        "id": "kxw0QPZvt-6X",
        "colab_type": "code",
        "colab": {}
      },
      "source": [
        ""
      ],
      "execution_count": 0,
      "outputs": []
    }
  ]
}