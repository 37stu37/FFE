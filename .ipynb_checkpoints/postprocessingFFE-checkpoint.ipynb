{
 "cells": [
  {
   "cell_type": "markdown",
   "metadata": {
    "colab_type": "text",
    "id": "uOfLIueATXfR"
   },
   "source": [
    "\n",
    "#Installation\n",
    "---\n",
    "\n"
   ]
  },
  {
   "cell_type": "code",
   "execution_count": null,
   "metadata": {
    "colab": {},
    "colab_type": "code",
    "id": "FDNM-ERLM6US"
   },
   "outputs": [],
   "source": [
    "from pathlib import Path\n",
    "import os\n",
    "from datetime import date\n",
    "import re\n",
    "import glob"
   ]
  },
  {
   "cell_type": "code",
   "execution_count": null,
   "metadata": {
    "colab": {},
    "colab_type": "code",
    "id": "6T1J4QXZTmtV"
   },
   "outputs": [],
   "source": [
    "import pandas as pd\n",
    "import numpy as np\n",
    "import geopandas as gpd\n",
    "from shapely.geometry import box\n",
    "import dask.dataframe as dd\n",
    "pd.options.mode.chained_assignment = None"
   ]
  },
  {
   "cell_type": "code",
   "execution_count": null,
   "metadata": {},
   "outputs": [],
   "source": [
    "from IPython.core.interactiveshell import InteractiveShell\n",
    "InteractiveShell.ast_node_interactivity = \"all\""
   ]
  },
  {
   "cell_type": "code",
   "execution_count": null,
   "metadata": {
    "colab": {
     "base_uri": "https://localhost:8080/",
     "height": 35
    },
    "colab_type": "code",
    "id": "JALuOrvdSA-n",
    "outputId": "d7942dd1-132f-4407-fe97-10ebafccbc4d"
   },
   "outputs": [],
   "source": [
    "# Paths\n",
    "p = Path('C:/Users/alexd/Dropbox/FFE')\n",
    "pathShapefile = p / 'shapefile'\n",
    "pathParquets = Path('F:/output')\n",
    "\n",
    "print(len(os.listdir(pathParquets)))"
   ]
  },
  {
   "cell_type": "code",
   "execution_count": null,
   "metadata": {
    "colab": {},
    "colab_type": "code",
    "id": "ZuY6xBcuSBO6"
   },
   "outputs": [],
   "source": [
    "def read_and_concatenate_parquets(path=pathParquets):\n",
    "    L = []\n",
    "    files = pathParquets.glob('*scenario*')\n",
    "    for file in files:\n",
    "        print(f'{file} loaded file \\n {len(L)}/2999')\n",
    "        pqt = dd.read_parquet(file, engine='pyarrow')\n",
    "        L.append(pqt)\n",
    "    df = dd.concat(L)\n",
    "    return df\n",
    "\n",
    "    \n",
    "def count_fid_occurences(df):\n",
    "#     df.sort_values(by=['scenario'], inplace=True)\n",
    "#     df.drop_duplicates(subset =['scenario', 'source'], inplace = True) \n",
    "    count_df = df['source'].value_counts().compute()\n",
    "#     count_df.sort_values(by='scenario', inplace=True)\n",
    "    count_df = pd.DataFrame({'source': count_df.index, 'count': count_df.values})\n",
    "    count_df.to_parquet(str(pathShapefile) + '/' + f'CountBurn-{str(date.today())}.parquet', \n",
    "                        engine='auto', compression=\"GZIP\")# could be datetime.now\n",
    "    return count_df\n",
    "\n",
    "\n",
    "def Merge(countDf,nameShapefile):\n",
    "    gdfShape = gpd.read_file(pathShapefile / nameShapefile)\n",
    "    gdfShape.insert(0, 'FID', range(0, len(gdfShape)))\n",
    "    gdfShape.rename(columns={'FID': 'source'}, inplace=True)\n",
    "    gdfShape = gdfShape[['source', 'geometry']]\n",
    "    countDf.index.name = None\n",
    "    merged = countDf.merge(gdfShape, on=['source'], how='left')\n",
    "    return merged\n",
    "\n",
    "\n",
    "def createShapefile(df):\n",
    "    gdf = gpd.GeoDataFrame(df, geometry='geometry')\n",
    "    gdf.to_file(os.path.join(str(pathShapefile) + \"/\" + \"BurnscenarioWellington.shp\"))\n",
    "    return gdf"
   ]
  },
  {
   "cell_type": "code",
   "execution_count": null,
   "metadata": {},
   "outputs": [],
   "source": [
    "test0 = pd.read_parquet('F:\\output\\scenario0_2020-08-06.parquet')"
   ]
  },
  {
   "cell_type": "code",
   "execution_count": null,
   "metadata": {},
   "outputs": [],
   "source": [
    "test0.describe()"
   ]
  },
  {
   "cell_type": "code",
   "execution_count": null,
   "metadata": {
    "colab": {
     "base_uri": "https://localhost:8080/",
     "height": 799
    },
    "colab_type": "code",
    "id": "T4xnIavQcfjI",
    "outputId": "40f5b6c7-f695-4ee0-d832-ee7de9a4f21b"
   },
   "outputs": [],
   "source": [
    "%%time\n",
    "concatDf = read_and_concatenate_parquets()"
   ]
  },
  {
   "cell_type": "code",
   "execution_count": null,
   "metadata": {},
   "outputs": [],
   "source": [
    "concatDf.head()\n",
    "concatDf.tail()"
   ]
  },
  {
   "cell_type": "code",
   "execution_count": null,
   "metadata": {
    "colab": {},
    "colab_type": "code",
    "id": "eipphuX1_MB2"
   },
   "outputs": [],
   "source": [
    "%%time\n",
    "countConcatDf = count_fid_occurences(concatDf)\n",
    "countConcatDf"
   ]
  },
  {
   "cell_type": "code",
   "execution_count": null,
   "metadata": {
    "colab": {},
    "colab_type": "code",
    "id": "bEfmrSrBcfrY"
   },
   "outputs": [],
   "source": [
    "%%time\n",
    "mergedDf = Merge(countConcatDf, 'WellWHV_Buildings.shp')\n",
    "countShape = createShapefile(mergedDf)"
   ]
  },
  {
   "cell_type": "code",
   "execution_count": null,
   "metadata": {
    "colab": {},
    "colab_type": "code",
    "id": "RBFjXAo1UNgx"
   },
   "outputs": [],
   "source": [
    "import matplotlib.pyplot as plt\n",
    "import seaborn as sns\n",
    "# import contextily as ctx\n",
    "%matplotlib inline\n",
    "plt.style.use('seaborn-whitegrid')\n",
    "\n",
    "FinnMeshblockShape = gpd.read_file(pathShapefile / 'Finn_MeshBlockSummary.shp')\n",
    "countShape = gpd.read_file(pathShapefile / 'Burn3000scenarioWellington.shp')\n",
    "\n",
    "fig, (ax1, ax2) = plt.subplots(nrows=1, ncols=2, sharex=True, sharey=True, figsize=(12, 10))\n",
    "\n",
    "FinnMeshblockShape.plot(ax=ax1, column='WellWHV_Bu', cmap='YlOrRd', alpha=0.7, legend=True)\n",
    "# ctx.add_basemap(ax1, crs=2193)\n",
    "countShape.plot(ax=ax2, column='count', cmap='YlOrRd', alpha=0.7, legend=True)\n",
    "# ctx.add_basemap(ax2, crs=2193)\n",
    "\n",
    "ax1.set_title('Original burn count at meshblock level')\n",
    "ax1.ticklabel_format(useOffset=False, style='plain')\n",
    "ax2.set_title('Network burn count at individual building level')\n",
    "ax2.ticklabel_format(useOffset=False, style='plain')\n",
    "ax1.tick_params(direction='out', length=6)\n",
    "ax2.tick_params(direction=\"out\", length=6)\n",
    "\n",
    "fig.autofmt_xdate()\n",
    "plt.tight_layout()\n",
    "plt.savefig(pathShapefile / 'ComparisonGISvsNetwork_3000Burn.png', dpi=600)\n",
    "plt.show()"
   ]
  }
 ],
 "metadata": {
  "colab": {
   "authorship_tag": "ABX9TyOUu9RPs3YVIGoTN2aUBA+G",
   "include_colab_link": true,
   "machine_shape": "hm",
   "mount_file_id": "https://github.com/37stu37/FFE/blob/master/FFEpostProcessingRAPIDS.ipynb",
   "name": "FFEpostProcessingRAPIDS.ipynb",
   "provenance": []
  },
  "kernelspec": {
   "display_name": "Python 3",
   "language": "python",
   "name": "python3"
  },
  "language_info": {
   "codemirror_mode": {
    "name": "ipython",
    "version": 3
   },
   "file_extension": ".py",
   "mimetype": "text/x-python",
   "name": "python",
   "nbconvert_exporter": "python",
   "pygments_lexer": "ipython3",
   "version": "3.7.4"
  }
 },
 "nbformat": 4,
 "nbformat_minor": 1
}
