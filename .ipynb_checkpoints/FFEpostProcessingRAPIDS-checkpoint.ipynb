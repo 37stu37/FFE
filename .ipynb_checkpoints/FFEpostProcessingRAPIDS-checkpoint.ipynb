{
 "cells": [
  {
   "cell_type": "markdown",
   "metadata": {
    "colab_type": "text",
    "id": "view-in-github"
   },
   "source": [
    "<a href=\"https://colab.research.google.com/github/37stu37/FFE/blob/master/FFEpostProcessingRAPIDS.ipynb\" target=\"_parent\"><img src=\"https://colab.research.google.com/assets/colab-badge.svg\" alt=\"Open In Colab\"/></a>"
   ]
  },
  {
   "cell_type": "markdown",
   "metadata": {
    "colab_type": "text",
    "id": "uOfLIueATXfR"
   },
   "source": [
    "\n",
    "#Installation\n",
    "---\n",
    "\n"
   ]
  },
  {
   "cell_type": "code",
   "execution_count": 10,
   "metadata": {
    "colab": {
     "base_uri": "https://localhost:8080/",
     "height": 74
    },
    "colab_type": "code",
    "id": "mxJNvul8MZrQ",
    "outputId": "3adf5755-f581-46e4-e4ea-cbd8a2f6e912"
   },
   "outputs": [
    {
     "name": "stdout",
     "output_type": "stream",
     "text": [
      "NVIDIA-SMI has failed because it couldn't communicate with the NVIDIA driver. Make sure that the latest NVIDIA driver is installed and running.\n",
      "\n"
     ]
    }
   ],
   "source": [
    "!nvidia-smi # allocation must be Tesla T4, P4, or P100"
   ]
  },
  {
   "cell_type": "code",
   "execution_count": 11,
   "metadata": {
    "colab": {},
    "colab_type": "code",
    "id": "PUxCONGGVmSI"
   },
   "outputs": [],
   "source": [
    "# #no.of cores each processor is having \n",
    "# !lscpu | grep 'Core(s) per socket:'\n",
    "# #no.of threads each core is having\n",
    "# !lscpu | grep 'Thread(s) per core'"
   ]
  },
  {
   "cell_type": "code",
   "execution_count": 12,
   "metadata": {
    "colab": {},
    "colab_type": "code",
    "id": "m0jdXBRiDSzj"
   },
   "outputs": [],
   "source": [
    "# %%time\n",
    "# %%capture\n",
    "# # Install RAPIDS\n",
    "# !git clone https://github.com/rapidsai/rapidsai-csp-utils.git\n",
    "# !bash rapidsai-csp-utils/colab/rapids-colab.sh stable\n",
    "\n",
    "# import sys, os\n",
    "\n",
    "# dist_package_index = sys.path.index('/usr/local/lib/python3.6/dist-packages')\n",
    "# sys.path = sys.path[:dist_package_index] + ['/usr/local/lib/python3.6/site-packages'] + sys.path[dist_package_index:]\n",
    "# sys.path\n",
    "# exec(open('rapidsai-csp-utils/colab/update_modules.py').read(), globals())"
   ]
  },
  {
   "cell_type": "code",
   "execution_count": 13,
   "metadata": {
    "colab": {
     "base_uri": "https://localhost:8080/",
     "height": 54
    },
    "colab_type": "code",
    "id": "HFr9n7dFTVdB",
    "outputId": "dc1272af-fe65-4c77-aa49-3fcb2dfc509e"
   },
   "outputs": [
    {
     "name": "stdout",
     "output_type": "stream",
     "text": [
      "CPU times: user 252 ms, sys: 80.8 ms, total: 333 ms\n",
      "Wall time: 57 s\n"
     ]
    }
   ],
   "source": [
    "%%time\n",
    "%%capture\n",
    "!apt update\n",
    "!apt upgrade\n",
    "!apt install gdal-bin python-gdal python3-gdal\n",
    "# Install rtree - Geopandas requirment\n",
    "!apt install python3-rtree\n",
    "# Install Geopandas\n",
    "!pip install git+git://github.com/geopandas/geopandas.git\n",
    "# Install descartes - Geopandas requirment\n",
    "!pip install descartes\n",
    "!pip install memory_profiler\n",
    "# install parquet libraries\n",
    "!pip install git+https://github.com/dask/fastparquet\n",
    "!pip install python-snappy\n",
    "!pip install pyarrow "
   ]
  },
  {
   "cell_type": "code",
   "execution_count": 14,
   "metadata": {
    "colab": {},
    "colab_type": "code",
    "id": "FDNM-ERLM6US"
   },
   "outputs": [],
   "source": [
    "from pathlib import Path\n",
    "import os\n",
    "from datetime import date"
   ]
  },
  {
   "cell_type": "code",
   "execution_count": 15,
   "metadata": {
    "colab": {},
    "colab_type": "code",
    "id": "6T1J4QXZTmtV"
   },
   "outputs": [],
   "source": [
    "import pandas as pd\n",
    "import numpy as np\n",
    "import geopandas as gpd\n",
    "from shapely.geometry import box\n",
    "import dask.dataframe as dd\n",
    "pd.options.mode.chained_assignment = None"
   ]
  },
  {
   "cell_type": "code",
   "execution_count": 16,
   "metadata": {
    "colab": {},
    "colab_type": "code",
    "id": "WwhLWtM1NVdA"
   },
   "outputs": [],
   "source": [
    "# import cudf\n",
    "# import dask_cudf"
   ]
  },
  {
   "cell_type": "markdown",
   "metadata": {
    "colab_type": "text",
    "id": "_EiXzbe1SEy4"
   },
   "source": [
    "#Post-processing process \n",
    "\n",
    "1.   Load and concatenate parquet files into dask_cudf\n",
    "2.   Count 'Source\"\n",
    "1.   Merge with Shapefile (gdf)\n",
    "1.   Create output data\n",
    "\n",
    "\n",
    "\n",
    "\n",
    "\n",
    "\n",
    "\n"
   ]
  },
  {
   "cell_type": "code",
   "execution_count": 19,
   "metadata": {
    "colab": {
     "base_uri": "https://localhost:8080/",
     "height": 35
    },
    "colab_type": "code",
    "id": "JALuOrvdSA-n",
    "outputId": "d7942dd1-132f-4407-fe97-10ebafccbc4d"
   },
   "outputs": [
    {
     "name": "stdout",
     "output_type": "stream",
     "text": [
      "3000\n"
     ]
    }
   ],
   "source": [
    "# Paths\n",
    "pathShapefile = Path('/content/drive/My Drive/Colab Notebooks/01_Repository/FFE/data/shapefile')\n",
    "pathParquets = Path('/content/drive/My Drive/Colab Notebooks/02_Output/ffeFinnComparison')\n",
    "\n",
    "print(len(os.listdir(pathParquets)))"
   ]
  },
  {
   "cell_type": "code",
   "execution_count": 20,
   "metadata": {
    "colab": {},
    "colab_type": "code",
    "id": "ZuY6xBcuSBO6"
   },
   "outputs": [],
   "source": [
    "def read_and_concatenate_parquets(path=pathParquets):\n",
    "  L = []\n",
    "  files = pathParquets.glob('*.parquet')\n",
    "  number = 0\n",
    "  for file in files:\n",
    "    number += 1\n",
    "    print(f\"file loaded : {number}/{len(os.listdir(pathParquets))}\")\n",
    "    pqt = pd.read_parquet(file, engine='auto')\n",
    "    pqt.drop_duplicates(subset =\"source\", inplace = True)\n",
    "    L.append(pqt)\n",
    "  df = dd.concat(L)\n",
    "  return df\n",
    "\n",
    "def count_fid_occurences(df):\n",
    "  count = df['source'].value_counts().compute()\n",
    "  count_df = pd.DataFrame({'source': count.index, 'count': count.values})\n",
    "  count_df.to_parquet(str(pathShapefile) + '/' + f'CountBurn-{str(date.today())}.parquet', engine='auto', compression=\"GZIP\")# could be datetime.now\n",
    "  return count_df\n",
    "\n",
    "def Merge(countDf,nameShapefile):\n",
    "  # Shapefile\n",
    "  gdfShape = gpd.read_file(pathShapefile / nameShapefile)\n",
    "  gdfShape.insert(0, 'FID', range(0, len(gdfShape)))\n",
    "  gdfShape.rename(columns={'FID': 'source'}, inplace=True)\n",
    "  gdfShape = gdfShape[['source', 'geometry']]\n",
    "  # gdf = pd.DataFrame(gdfShape)\n",
    "  # cudf_gdf = cudf.DataFrame.from_pandas(gdf)\n",
    "  # cudf_gdf.rename(columns={'FID': 'source'}, inplace=True)\n",
    "  # cudf_gdf = cudf_gdf[['source', 'geometry']]\n",
    "  # countDf as cudf\n",
    "  # cudf_countDf = cudf.DataFrame.from_pandas(countDf)\n",
    "  # merge\n",
    "  merged = countDf.merge(gdfShape, on=['source'], how='left')\n",
    "  return merged\n",
    "\n",
    "def createShapefile(df):\n",
    "  # df = df.to_pandas()\n",
    "  gdf = gpd.GeoDataFrame(df, geometry='geometry')\n",
    "  # gdf.plot(column='count', cmap='hsv', legend=True)\n",
    "  gdf.to_file(os.path.join(str(pathShapefile) + \"/\" + \"Burn3000scenarioWellington.shp\"))\n",
    "  return gdf"
   ]
  },
  {
   "cell_type": "code",
   "execution_count": null,
   "metadata": {
    "colab": {
     "base_uri": "https://localhost:8080/",
     "height": 799
    },
    "colab_type": "code",
    "id": "T4xnIavQcfjI",
    "outputId": "40f5b6c7-f695-4ee0-d832-ee7de9a4f21b"
   },
   "outputs": [
    {
     "name": "stdout",
     "output_type": "stream",
     "text": [
      "file loaded : 150/3000\n",
      "file loaded : 151/3000\n",
      "file loaded : 152/3000\n",
      "file loaded : 153/3000\n",
      "file loaded : 154/3000\n",
      "file loaded : 155/3000\n",
      "file loaded : 156/3000\n",
      "file loaded : 157/3000\n",
      "file loaded : 158/3000\n",
      "file loaded : 159/3000\n",
      "file loaded : 160/3000\n",
      "file loaded : 161/3000\n",
      "file loaded : 162/3000\n",
      "file loaded : 163/3000\n",
      "file loaded : 164/3000\n",
      "file loaded : 165/3000\n",
      "file loaded : 166/3000\n",
      "file loaded : 167/3000\n",
      "file loaded : 168/3000\n",
      "file loaded : 169/3000\n",
      "file loaded : 170/3000\n",
      "file loaded : 171/3000\n",
      "file loaded : 172/3000\n",
      "file loaded : 173/3000\n",
      "file loaded : 174/3000\n",
      "file loaded : 175/3000\n",
      "file loaded : 176/3000\n",
      "file loaded : 177/3000\n",
      "file loaded : 178/3000\n",
      "file loaded : 179/3000\n",
      "file loaded : 180/3000\n",
      "file loaded : 181/3000\n",
      "file loaded : 182/3000\n",
      "file loaded : 183/3000\n",
      "file loaded : 184/3000\n",
      "file loaded : 185/3000\n",
      "file loaded : 186/3000\n",
      "file loaded : 187/3000\n",
      "file loaded : 188/3000\n",
      "file loaded : 189/3000\n",
      "file loaded : 190/3000\n",
      "file loaded : 191/3000\n",
      "file loaded : 192/3000\n"
     ]
    }
   ],
   "source": [
    "%%time\n",
    "concatDf = read_and_concatenate_parquets()"
   ]
  },
  {
   "cell_type": "code",
   "execution_count": null,
   "metadata": {
    "colab": {},
    "colab_type": "code",
    "id": "7M5xL0pstWxb"
   },
   "outputs": [],
   "source": [
    "concatDf.head()"
   ]
  },
  {
   "cell_type": "code",
   "execution_count": null,
   "metadata": {
    "colab": {},
    "colab_type": "code",
    "id": "eipphuX1_MB2"
   },
   "outputs": [],
   "source": [
    "%%time\n",
    "countConcatDf = count_fid_occurences(concatDf)"
   ]
  },
  {
   "cell_type": "code",
   "execution_count": null,
   "metadata": {
    "colab": {},
    "colab_type": "code",
    "id": "qpaoLe4oDqjp"
   },
   "outputs": [],
   "source": [
    "countConcatDf"
   ]
  },
  {
   "cell_type": "code",
   "execution_count": null,
   "metadata": {
    "colab": {},
    "colab_type": "code",
    "id": "bEfmrSrBcfrY"
   },
   "outputs": [],
   "source": [
    "%%time\n",
    "mergedDf = Merge(countConcatDf, 'WellWHV_Buildings.shp')\n",
    "countShape = createShapefile(mergedDf)"
   ]
  },
  {
   "cell_type": "code",
   "execution_count": null,
   "metadata": {
    "colab": {},
    "colab_type": "code",
    "id": "Vde4I9F2ELfa"
   },
   "outputs": [],
   "source": [
    "%%capture\n",
    "!pip3 install contextily"
   ]
  },
  {
   "cell_type": "code",
   "execution_count": null,
   "metadata": {
    "colab": {},
    "colab_type": "code",
    "id": "RBFjXAo1UNgx"
   },
   "outputs": [],
   "source": [
    "import matplotlib.pyplot as plt\n",
    "import seaborn as sns\n",
    "import contextily as ctx\n",
    "%matplotlib inline\n",
    "plt.style.use('seaborn-whitegrid')\n",
    "\n",
    "FinnMeshblockShape = gpd.read_file(pathShapefile / 'Finn_MeshBlockSummary.shp')\n",
    "countShape = gpd.read_file(pathShapefile / 'Burn3000scenarioWellington.shp')\n",
    "\n",
    "fig, (ax1, ax2) = plt.subplots(nrows=1, ncols=2, sharex=True, sharey=True, figsize=(12, 10))\n",
    "\n",
    "p1 = originalShape.plot(ax=ax1, column='WellWHV_Bu', cmap='YlOrRd', alpha=0.7, legend=True)\n",
    "ctx.add_basemap(ax1, crs=2193)\n",
    "p2 = countShape.plot(ax=ax2, column='count', cmap='YlOrRd', alpha=0.7, legend=True)\n",
    "ctx.add_basemap(ax2, crs=2193)\n",
    "\n",
    "ax1.set_title('Original burn count at meshblock level')\n",
    "ax1.ticklabel_format(useOffset=False, style='plain')\n",
    "ax2.set_title('Network burn count at individual building level')\n",
    "ax2.ticklabel_format(useOffset=False, style='plain')\n",
    "ax1.tick_params(direction='out', length=6)\n",
    "ax2.tick_params(direction=\"out\", length=6)\n",
    "\n",
    "fig.autofmt_xdate()\n",
    "plt.tight_layout()\n",
    "plt.savefig(pathShapefile / 'ComparisonGISvsNetwork_3000Burn.png', dpi=600)\n",
    "plt.show()"
   ]
  },
  {
   "cell_type": "code",
   "execution_count": null,
   "metadata": {
    "colab": {},
    "colab_type": "code",
    "id": "t4lcOorDDOI-"
   },
   "outputs": [],
   "source": []
  }
 ],
 "metadata": {
  "colab": {
   "authorship_tag": "ABX9TyOUu9RPs3YVIGoTN2aUBA+G",
   "include_colab_link": true,
   "machine_shape": "hm",
   "mount_file_id": "https://github.com/37stu37/FFE/blob/master/FFEpostProcessingRAPIDS.ipynb",
   "name": "FFEpostProcessingRAPIDS.ipynb",
   "provenance": []
  },
  "kernelspec": {
   "display_name": "Python 3",
   "language": "python",
   "name": "python3"
  },
  "language_info": {
   "codemirror_mode": {
    "name": "ipython",
    "version": 3
   },
   "file_extension": ".py",
   "mimetype": "text/x-python",
   "name": "python",
   "nbconvert_exporter": "python",
   "pygments_lexer": "ipython3",
   "version": "3.7.3"
  }
 },
 "nbformat": 4,
 "nbformat_minor": 1
}
