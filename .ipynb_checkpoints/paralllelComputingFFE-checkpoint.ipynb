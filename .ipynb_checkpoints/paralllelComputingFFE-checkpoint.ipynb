{
 "cells": [
  {
   "cell_type": "code",
   "execution_count": 24,
   "metadata": {},
   "outputs": [],
   "source": [
    "from IPython.core.interactiveshell import InteractiveShell\n",
    "InteractiveShell.ast_node_interactivity = \"all\""
   ]
  },
  {
   "cell_type": "markdown",
   "metadata": {
    "colab_type": "text",
    "id": "m42Qt2fkaDi8"
   },
   "source": [
    "**Imports**\n",
    "---\n",
    "\n"
   ]
  },
  {
   "cell_type": "code",
   "execution_count": 25,
   "metadata": {
    "colab": {},
    "colab_type": "code",
    "id": "7O35x2t8T4Dk"
   },
   "outputs": [],
   "source": [
    "import numpy as np\n",
    "import pandas as pd\n",
    "from pathlib import Path\n",
    "import sys\n",
    "import os\n",
    "import glob\n",
    "import multiprocessing as mp\n",
    "\n",
    "\n",
    "pd.options.mode.chained_assignment = None  # default='warn'"
   ]
  },
  {
   "cell_type": "code",
   "execution_count": 26,
   "metadata": {
    "colab": {},
    "colab_type": "code",
    "id": "NRP6grinJyed"
   },
   "outputs": [],
   "source": [
    "p = Path('/Users/alex/Dropbox/FFE')\n",
    "\n",
    "edge_file = p / 'FinnShapeEdges.parquet'\n",
    "wind_file = p / 'Copy of GD_wind.csv'\n",
    "folder = p / 'output'"
   ]
  },
  {
   "cell_type": "code",
   "execution_count": 27,
   "metadata": {
    "colab": {},
    "colab_type": "code",
    "id": "QtfIG4oqTqPD"
   },
   "outputs": [],
   "source": [
    "# load dataaaa\n",
    "wind_data = pd.read_csv(wind_file) \n",
    "edgelist = pd.read_parquet(edge_file, engine='pyarrow')"
   ]
  },
  {
   "cell_type": "code",
   "execution_count": 28,
   "metadata": {},
   "outputs": [],
   "source": [
    "rngFile = edgelist[['source', 'IgnProbBld']]\n",
    "rngFile.drop_duplicates(inplace=True)"
   ]
  },
  {
   "cell_type": "markdown",
   "metadata": {
    "colab_type": "text",
    "id": "Bk2RVZxgIxrX"
   },
   "source": [
    "**Definitions & parallel computing**\n",
    "---"
   ]
  },
  {
   "cell_type": "code",
   "execution_count": 16,
   "metadata": {
    "colab": {},
    "colab_type": "code",
    "id": "PyLLVwevIoNa"
   },
   "outputs": [],
   "source": [
    "# num_cores = multiprocessing.cpu_count()\n",
    "# print(num_cores)\n",
    "# # need to do this on Shell / Terminal:\n",
    "# conda install ipyparallel\n",
    "# ipcluster nbextension enable --user\n",
    "# ipcluster start # or ipcluster start -n 4"
   ]
  },
  {
   "cell_type": "code",
   "execution_count": 34,
   "metadata": {},
   "outputs": [
    {
     "data": {
      "text/plain": [
       "[0, 1, 2, 3]"
      ]
     },
     "execution_count": 34,
     "metadata": {},
     "output_type": "execute_result"
    }
   ],
   "source": [
    "import ipyparallel as ipp\n",
    "client = ipp.Client()\n",
    "dview = client[:]\n",
    "client.ids"
   ]
  },
  {
   "cell_type": "code",
   "execution_count": 39,
   "metadata": {},
   "outputs": [
    {
     "name": "stdout",
     "output_type": "stream",
     "text": [
      "importing numpy on engine(s)\n",
      "importing pandas on engine(s)\n",
      "importing Path from pathlib on engine(s)\n",
      "importing sys on engine(s)\n",
      "importing os on engine(s)\n",
      "importing glob on engine(s)\n"
     ]
    }
   ],
   "source": [
    "# add variables to all engines\n",
    "dview[\"edgelist\"]=edgelist\n",
    "dview[\"rngFile\"]=rngFile\n",
    "dview[\"wind_data\"]=wind_data\n",
    "dview[\"folder\"]=folder\n",
    "\n",
    "# add all libraries to engines\n",
    "with dview.sync_imports():\n",
    "    import numpy as np\n",
    "    import pandas as pd\n",
    "    from pathlib import Path\n",
    "    import sys\n",
    "    import os\n",
    "    import glob"
   ]
  },
  {
   "cell_type": "code",
   "execution_count": 40,
   "metadata": {
    "colab": {},
    "colab_type": "code",
    "id": "Q7pHNrjZN8Zw"
   },
   "outputs": [],
   "source": [
    "%%px\n",
    "\n",
    "def wind_scenario(wind_data):\n",
    "      import numpy as np\n",
    "      i = np.random.randint(0, wind_data.values.shape[0])\n",
    "      w = wind_data.values[i, 2]\n",
    "      dist = wind_data.values[i, 1]\n",
    "      b = wind_data.values[i, 3]\n",
    "      bear_max = b + 45  # wind direction\n",
    "      bear_min = b - 45\n",
    "      if b == 360:\n",
    "          bear_max = 45\n",
    "      if b <= 0:  # should not be necessary\n",
    "          bear_min = 0\n",
    "      if b == 999:\n",
    "          bear_max = 999\n",
    "          bear_min = 0\n",
    "      return bear_max, bear_min, dist # wind characteristics, bearing and distance\n",
    "\n",
    "\n",
    "def ignition(rngList=rngFile, edges=edgelist):\n",
    "    rngList['rng'] = np.random.uniform(0, 1, size=rngList.values.shape[0])\n",
    "    rngList = rngList[rngList['rng'] < rngList['IgnProbBld']]\n",
    "    NewActiveEdges = edges[edges['source'].isin(rngList['source'])]\n",
    "    return NewActiveEdges\n",
    "\n",
    "\n",
    "def mask(t, activeEdges_d, listActivatedSources_d, w_b_max, w_b_min, w_d):\n",
    "    import numpy as np\n",
    "    if t==0: # special case at time=0\n",
    "        return activeEdges_d\n",
    "    else:\n",
    "        mask = (activeEdges_d.bearing.values < w_b_max) & (activeEdges_d.bearing.values < w_b_min) & (activeEdges_d.distance < w_d)\n",
    "        NewActiveEdges = activeEdges_d[mask]\n",
    "        NewActiveEdges = NewActiveEdges[~NewActiveEdges.source.isin(listActivatedSources_d)]\n",
    "        return NewActiveEdges\n",
    "\n",
    "\n",
    "def propagation(activeEdges_d, edges=edgelist):\n",
    "    import numpy as np\n",
    "    import pandas as pd\n",
    "    NewActiveEdges = edges[edges.source.isin(activeEdges_d.target)]\n",
    "    return NewActiveEdges\n"
   ]
  },
  {
   "cell_type": "code",
   "execution_count": 41,
   "metadata": {},
   "outputs": [],
   "source": [
    "@dview.parallel(block = False) # The @parallel decorator breaks up elementwise operations and distributes them.\n",
    "def ffe_runs(n):\n",
    "    import numpy as np\n",
    "    import pandas as pd\n",
    "    for scenario in n:\n",
    "        # initial setup\n",
    "        listActivatedSources = []\n",
    "        listScenarioDataframes = []\n",
    "        condition = True\n",
    "        time = 0 \n",
    "        # wind conditions\n",
    "        w_bearing_max, w_bearing_min, w_distance = wind_scenario(wind_data)\n",
    "        # ignition / initial state and edges selection\n",
    "        ActiveEdges = ignition()\n",
    "        # print(f\"{len(ActiveEdges)} ignitions\")\n",
    "        if ActiveEdges.empty:\n",
    "            continue\n",
    "        while condition: # spread burn zone\n",
    "            ActiveEdges = mask(time, ActiveEdges, listActivatedSources, w_bearing_max, w_bearing_min, w_distance)\n",
    "            if ActiveEdges.empty: #no more buildings to burn\n",
    "                break\n",
    "            listScenarioDataframes.append(ActiveEdges)\n",
    "            listActivatedSources.extend(ActiveEdges.source.values)\n",
    "            ActiveEdges = propagation(ActiveEdges)\n",
    "            time += 1\n",
    "        \n",
    "        print(f'finishing pid {os.getpid()} scenario --- {scenario} time ---- {time}')\n",
    "\n",
    "        Activations = pd.concat(listScenarioDataframes)\n",
    "        Activations[\"scenario\"] = scenario\n",
    "        Activations[\"pid\"] = os.getpid()\n",
    "        Activations.to_parquet(str(folder) + '/' + f'scenario{scenario}_pid{os.getpid()}.parquet', engine='auto', compression=\"GZIP\")\n",
    "        "
   ]
  },
  {
   "cell_type": "markdown",
   "metadata": {
    "colab_type": "text",
    "id": "g9Vq0cczZSy4"
   },
   "source": [
    "**Main**\n",
    "---\n",
    "\n",
    "\n",
    "---\n",
    "\n"
   ]
  },
  {
   "cell_type": "code",
   "execution_count": 42,
   "metadata": {},
   "outputs": [
    {
     "name": "stdout",
     "output_type": "stream",
     "text": [
      "CPU times: user 5.39 ms, sys: 1.12 ms, total: 6.51 ms\n",
      "Wall time: 6.71 ms\n"
     ]
    },
    {
     "data": {
      "text/plain": [
       "<AsyncMapResult: ffe_runs>"
      ]
     },
     "execution_count": 42,
     "metadata": {},
     "output_type": "execute_result"
    }
   ],
   "source": [
    "%%time\n",
    "ffe_runs(range(300))"
   ]
  },
  {
   "cell_type": "markdown",
   "metadata": {
    "colab_type": "text",
    "id": "ydETTY_fZB3Q"
   },
   "source": [
    "\n",
    "**Backup**\n",
    "---\n",
    "\n",
    "\n",
    "\n",
    "---\n",
    "\n"
   ]
  },
  {
   "cell_type": "code",
   "execution_count": 22,
   "metadata": {},
   "outputs": [],
   "source": [
    "def clean_up(path=folder):\n",
    "    files = path.glob('*scenario*')\n",
    "    for f in files:\n",
    "        print(f)\n",
    "        os.remove(f)"
   ]
  },
  {
   "cell_type": "code",
   "execution_count": 23,
   "metadata": {
    "colab": {},
    "colab_type": "code",
    "id": "zOHXu6ShOQJU"
   },
   "outputs": [],
   "source": [
    "clean_up()"
   ]
  },
  {
   "cell_type": "code",
   "execution_count": null,
   "metadata": {},
   "outputs": [],
   "source": []
  }
 ],
 "metadata": {
  "colab": {
   "collapsed_sections": [],
   "include_colab_link": true,
   "machine_shape": "hm",
   "name": "FFErunsParallel.ipynb",
   "provenance": []
  },
  "kernelspec": {
   "display_name": "Python 3",
   "language": "python",
   "name": "python3"
  },
  "language_info": {
   "codemirror_mode": {
    "name": "ipython",
    "version": 3
   },
   "file_extension": ".py",
   "mimetype": "text/x-python",
   "name": "python",
   "nbconvert_exporter": "python",
   "pygments_lexer": "ipython3",
   "version": "3.7.3"
  }
 },
 "nbformat": 4,
 "nbformat_minor": 1
}
