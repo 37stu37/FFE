{
 "cells": [
  {
   "cell_type": "markdown",
   "metadata": {
    "colab_type": "text",
    "id": "uOfLIueATXfR"
   },
   "source": [
    "\n",
    "#Installation\n",
    "---\n",
    "\n"
   ]
  },
  {
   "cell_type": "code",
   "execution_count": 3,
   "metadata": {
    "colab": {},
    "colab_type": "code",
    "id": "FDNM-ERLM6US"
   },
   "outputs": [],
   "source": [
    "from pathlib import Path\n",
    "import os\n",
    "from datetime import date\n",
    "import re"
   ]
  },
  {
   "cell_type": "code",
   "execution_count": 4,
   "metadata": {
    "colab": {},
    "colab_type": "code",
    "id": "6T1J4QXZTmtV"
   },
   "outputs": [],
   "source": [
    "import pandas as pd\n",
    "import numpy as np\n",
    "import geopandas as gpd\n",
    "from shapely.geometry import box\n",
    "import dask.dataframe as dd\n",
    "pd.options.mode.chained_assignment = None"
   ]
  },
  {
   "cell_type": "code",
   "execution_count": 69,
   "metadata": {
    "colab": {
     "base_uri": "https://localhost:8080/",
     "height": 35
    },
    "colab_type": "code",
    "id": "JALuOrvdSA-n",
    "outputId": "d7942dd1-132f-4407-fe97-10ebafccbc4d"
   },
   "outputs": [
    {
     "name": "stdout",
     "output_type": "stream",
     "text": [
      "10\n"
     ]
    }
   ],
   "source": [
    "# Paths\n",
    "p = Path('Z:\\FFE')\n",
    "pathShapefile = Path(p / 'shapefile')\n",
    "pathParquets = Path(p / 'output')\n",
    "\n",
    "print(len(os.listdir(pathParquets)))"
   ]
  },
  {
   "cell_type": "code",
   "execution_count": 90,
   "metadata": {
    "colab": {},
    "colab_type": "code",
    "id": "ZuY6xBcuSBO6"
   },
   "outputs": [],
   "source": [
    "def get_list_pids(path=pathParquets):\n",
    "    pidList = []\n",
    "    updtScenariolist = []\n",
    "    files = pathParquets.glob('*.parquet')\n",
    "    for file in files:\n",
    "        regex = r\"pid\\d*\"\n",
    "        pidNames = re.findall(regex, str(file))\n",
    "        for pidName in pidNames:\n",
    "          print(f\" file pid {pidName}\")\n",
    "          pidList.append(pidName)\n",
    "    pidList = list(set(pidList))\n",
    "    updtScenariolist = np.arange(0, 3000, 300).tolist()\n",
    "    return pidList, updtScenariolist\n",
    "\n",
    "\n",
    "def read_and_concatenate_parquets(pidList,incrList,path=pathParquets):\n",
    "    L = []\n",
    "    for idx, val in enumerate(pidList):\n",
    "        files = pathParquets.glob('*'+str(val)+'.parquet')\n",
    "        for file in files:\n",
    "            print(file)\n",
    "            pqt = pd.read_parquet(file, engine='auto')\n",
    "            pqt['scenario']=pqt['scenario']+incrList[idx]\n",
    "#             print(pqt.head())\n",
    "            L.append(pqt)\n",
    "            print(len(L))\n",
    "    df = dd.concat(L)\n",
    "    return df\n",
    "\n",
    "    \n",
    "def count_fid_occurences(df):\n",
    "    count_df = df.groupby(['scenario', 'source'])[['source']].count().rename(columns={'count':'count'}).compute()\n",
    "    count_df = count_df.rename(columns={'oldName1': 'newName1', 'oldName2': 'newName2'})\n",
    "    count_df.to_parquet(str(pathShapefile) + '/' + f'CountBurn-{str(date.today())}.parquet', \n",
    "                        engine='auto', compression=\"GZIP\")# could be datetime.now\n",
    "    return count_df\n",
    "\n",
    "\n",
    "def Merge(countDf,nameShapefile):\n",
    "  # Shapefile\n",
    "  gdfShape = gpd.read_file(pathShapefile / nameShapefile)\n",
    "  gdfShape.insert(0, 'FID', range(0, len(gdfShape)))\n",
    "  gdfShape.rename(columns={'FID': 'source'}, inplace=True)\n",
    "  gdfShape = gdfShape[['source', 'geometry']]\n",
    "  merged = countDf.merge(gdfShape, on=['source'], how='left')\n",
    "  return merged\n",
    "\n",
    "\n",
    "def createShapefile(df):\n",
    "  # df = df.to_pandas()\n",
    "  gdf = gpd.GeoDataFrame(df, geometry='geometry')\n",
    "  # gdf.plot(column='count', cmap='hsv', legend=True)\n",
    "  gdf.to_file(os.path.join(str(pathShapefile) + \"/\" + \"Burn3000scenarioWellington.shp\"))\n",
    "  return gdf"
   ]
  },
  {
   "cell_type": "code",
   "execution_count": 91,
   "metadata": {},
   "outputs": [
    {
     "name": "stdout",
     "output_type": "stream",
     "text": [
      " file pid pid167572\n",
      " file pid pid167573\n",
      " file pid pid167575\n",
      " file pid pid150543\n",
      " file pid pid150542\n",
      " file pid pid167574\n",
      " file pid pid150539\n",
      " file pid pid150540\n",
      " file pid pid167576\n",
      " file pid pid150541\n"
     ]
    }
   ],
   "source": [
    "p, i = get_list_pids()"
   ]
  },
  {
   "cell_type": "code",
   "execution_count": 92,
   "metadata": {
    "colab": {
     "base_uri": "https://localhost:8080/",
     "height": 799
    },
    "colab_type": "code",
    "id": "T4xnIavQcfjI",
    "outputId": "40f5b6c7-f695-4ee0-d832-ee7de9a4f21b",
    "scrolled": false
   },
   "outputs": [
    {
     "name": "stdout",
     "output_type": "stream",
     "text": [
      "/Users/alex/PycharmProjects/FFE/data/test_parquets/scenario0_pid150540.parquet\n",
      "1\n",
      "/Users/alex/PycharmProjects/FFE/data/test_parquets/scenario0_pid167572.parquet\n",
      "2\n",
      "/Users/alex/PycharmProjects/FFE/data/test_parquets/scenario0_pid167576.parquet\n",
      "3\n",
      "/Users/alex/PycharmProjects/FFE/data/test_parquets/scenario0_pid150543.parquet\n",
      "4\n",
      "/Users/alex/PycharmProjects/FFE/data/test_parquets/scenario0_pid167573.parquet\n",
      "5\n",
      "/Users/alex/PycharmProjects/FFE/data/test_parquets/scenario0_pid167575.parquet\n",
      "6\n",
      "/Users/alex/PycharmProjects/FFE/data/test_parquets/scenario0_pid150539.parquet\n",
      "7\n",
      "/Users/alex/PycharmProjects/FFE/data/test_parquets/scenario0_pid150541.parquet\n",
      "8\n",
      "/Users/alex/PycharmProjects/FFE/data/test_parquets/scenario0_pid150542.parquet\n",
      "9\n",
      "/Users/alex/PycharmProjects/FFE/data/test_parquets/scenario0_pid167574.parquet\n",
      "10\n",
      "CPU times: user 390 ms, sys: 97.6 ms, total: 488 ms\n",
      "Wall time: 394 ms\n"
     ]
    }
   ],
   "source": [
    "%%time\n",
    "concatDf = read_and_concatenate_parquets(pidList=p,incrList=i)"
   ]
  },
  {
   "cell_type": "code",
   "execution_count": 93,
   "metadata": {
    "colab": {},
    "colab_type": "code",
    "id": "eipphuX1_MB2"
   },
   "outputs": [
    {
     "name": "stdout",
     "output_type": "stream",
     "text": [
      "CPU times: user 238 ms, sys: 36.5 ms, total: 274 ms\n",
      "Wall time: 257 ms\n"
     ]
    }
   ],
   "source": [
    "%%time\n",
    "countConcatDf = count_fid_occurences(concatDf)\n",
    "countConcatDf"
   ]
  },
  {
   "cell_type": "code",
   "execution_count": null,
   "metadata": {
    "colab": {},
    "colab_type": "code",
    "id": "bEfmrSrBcfrY"
   },
   "outputs": [],
   "source": [
    "%%time\n",
    "mergedDf = Merge(countConcatDf, 'WellWHV_Buildings.shp')\n",
    "countShape = createShapefile(mergedDf)"
   ]
  },
  {
   "cell_type": "code",
   "execution_count": null,
   "metadata": {
    "colab": {},
    "colab_type": "code",
    "id": "RBFjXAo1UNgx"
   },
   "outputs": [],
   "source": [
    "import matplotlib.pyplot as plt\n",
    "import seaborn as sns\n",
    "import contextily as ctx\n",
    "%matplotlib inline\n",
    "plt.style.use('seaborn-whitegrid')\n",
    "\n",
    "FinnMeshblockShape = gpd.read_file(pathShapefile / 'Finn_MeshBlockSummary.shp')\n",
    "countShape = gpd.read_file(pathShapefile / 'Burn3000scenarioWellington.shp')\n",
    "\n",
    "fig, (ax1, ax2) = plt.subplots(nrows=1, ncols=2, sharex=True, sharey=True, figsize=(12, 10))\n",
    "\n",
    "p1 = originalShape.plot(ax=ax1, column='WellWHV_Bu', cmap='YlOrRd', alpha=0.7, legend=True)\n",
    "ctx.add_basemap(ax1, crs=2193)\n",
    "p2 = countShape.plot(ax=ax2, column='count', cmap='YlOrRd', alpha=0.7, legend=True)\n",
    "ctx.add_basemap(ax2, crs=2193)\n",
    "\n",
    "ax1.set_title('Original burn count at meshblock level')\n",
    "ax1.ticklabel_format(useOffset=False, style='plain')\n",
    "ax2.set_title('Network burn count at individual building level')\n",
    "ax2.ticklabel_format(useOffset=False, style='plain')\n",
    "ax1.tick_params(direction='out', length=6)\n",
    "ax2.tick_params(direction=\"out\", length=6)\n",
    "\n",
    "fig.autofmt_xdate()\n",
    "plt.tight_layout()\n",
    "plt.savefig(pathShapefile / 'ComparisonGISvsNetwork_3000Burn.png', dpi=600)\n",
    "plt.show()"
   ]
  },
  {
   "cell_type": "code",
   "execution_count": null,
   "metadata": {
    "colab": {},
    "colab_type": "code",
    "id": "t4lcOorDDOI-"
   },
   "outputs": [],
   "source": []
  }
 ],
 "metadata": {
  "colab": {
   "authorship_tag": "ABX9TyOUu9RPs3YVIGoTN2aUBA+G",
   "include_colab_link": true,
   "machine_shape": "hm",
   "mount_file_id": "https://github.com/37stu37/FFE/blob/master/FFEpostProcessingRAPIDS.ipynb",
   "name": "FFEpostProcessingRAPIDS.ipynb",
   "provenance": []
  },
  "kernelspec": {
   "display_name": "Python 3",
   "language": "python",
   "name": "python3"
  },
  "language_info": {
   "codemirror_mode": {
    "name": "ipython",
    "version": 3
   },
   "file_extension": ".py",
   "mimetype": "text/x-python",
   "name": "python",
   "nbconvert_exporter": "python",
   "pygments_lexer": "ipython3",
   "version": "3.7.4"
  }
 },
 "nbformat": 4,
 "nbformat_minor": 1
}
