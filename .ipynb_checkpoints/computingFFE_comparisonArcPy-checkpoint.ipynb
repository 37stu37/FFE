{
 "cells": [
  {
   "cell_type": "markdown",
   "metadata": {
    "colab_type": "text",
    "id": "m42Qt2fkaDi8"
   },
   "source": [
    "# Import"
   ]
  },
  {
   "cell_type": "code",
   "execution_count": 1,
   "metadata": {
    "ExecuteTime": {
     "end_time": "2020-09-02T03:44:44.255464Z",
     "start_time": "2020-09-02T03:44:44.250594Z"
    }
   },
   "outputs": [],
   "source": [
    "from IPython.core.interactiveshell import InteractiveShell\n",
    "InteractiveShell.ast_node_interactivity = \"all\""
   ]
  },
  {
   "cell_type": "code",
   "execution_count": 2,
   "metadata": {
    "ExecuteTime": {
     "end_time": "2020-09-02T03:47:35.434425Z",
     "start_time": "2020-09-02T03:47:35.428660Z"
    },
    "colab": {},
    "colab_type": "code",
    "id": "7O35x2t8T4Dk"
   },
   "outputs": [],
   "source": [
    "import numpy as np\n",
    "import pandas as pd\n",
    "# import dask\n",
    "import dask.dataframe as dd\n",
    "import geopandas as gpd\n",
    "\n",
    "from pathlib import Path\n",
    "import sys\n",
    "import os\n",
    "import glob\n",
    "import multiprocessing as mp\n",
    "from datetime import date\n",
    "\n",
    "from tqdm.notebook import tqdm\n",
    "\n",
    "pd.options.mode.chained_assignment = None  # default='warn'"
   ]
  },
  {
   "cell_type": "markdown",
   "metadata": {},
   "source": [
    "# Data"
   ]
  },
  {
   "cell_type": "code",
   "execution_count": 3,
   "metadata": {
    "ExecuteTime": {
     "end_time": "2020-09-02T03:47:56.187322Z",
     "start_time": "2020-09-02T03:47:56.174246Z"
    },
    "colab": {},
    "colab_type": "code",
    "id": "QtfIG4oqTqPD",
    "tags": []
   },
   "outputs": [
    {
     "name": "stdout",
     "output_type": "stream",
     "text": [
      "CPU times: user 177 µs, sys: 0 ns, total: 177 µs\n",
      "Wall time: 171 µs\n"
     ]
    }
   ],
   "source": [
    "%%time\n",
    "# Folders\n",
    "repository = Path.cwd()\n",
    "dataFolder = repository.parent.parent / 'InOutRepoData' / 'FFE'\n",
    "folder = repository / 'data' / 'comparison_arcpy'"
   ]
  },
  {
   "cell_type": "code",
   "execution_count": 14,
   "metadata": {
    "tags": []
   },
   "outputs": [
    {
     "name": "stdout",
     "output_type": "stream",
     "text": [
      "CPU times: user 179 ms, sys: 124 ms, total: 302 ms\n",
      "Wall time: 248 ms\n"
     ]
    }
   ],
   "source": [
    "%%time\n",
    "# Data\n",
    "\n",
    "wind_data = pd.read_csv(repository / 'data' / 'Copy_of_GD_wind.csv')\n",
    "\n",
    "edgelist = pd.read_parquet(repository / 'data' / 'Copy_of_edge_data.parquet', engine='pyarrow')"
   ]
  },
  {
   "cell_type": "markdown",
   "metadata": {},
   "source": [
    "**data from the scenario HikWgtnMin_pfour_1-100     \n",
    "scenario1 initial ignition BLDG_ID : 217, 686, 32, 166, 15, 937, 46 which translate into edge_id 216, 685, 31, 165, 14, 936, 45 (because based on index)**\n",
    "\n",
    "**Wind speed - critical distance 45m\n",
    "Wind direction NW**\n",
    "\n",
    "**18min processing time**"
   ]
  },
  {
   "cell_type": "code",
   "execution_count": 6,
   "metadata": {},
   "outputs": [],
   "source": [
    "rngdata = {'source':[216, 685, 31, 165, 14, 936, 45], 'IgnProb_bl':[1, 1, 1, 1, 1, 1, 1]} \n",
    "rngFile = pd.DataFrame(rngdata)"
   ]
  },
  {
   "cell_type": "markdown",
   "metadata": {},
   "source": [
    "## Parallel computing set up"
   ]
  },
  {
   "cell_type": "markdown",
   "metadata": {},
   "source": [
    "## Functions"
   ]
  },
  {
   "cell_type": "code",
   "execution_count": 10,
   "metadata": {
    "code_folding": [
     2,
     20,
     33,
     43,
     54
    ],
    "colab": {},
    "colab_type": "code",
    "id": "Q7pHNrjZN8Zw"
   },
   "outputs": [],
   "source": [
    "# %%px\n",
    "\n",
    "def wind_scenario(wind_data):\n",
    "      import numpy as np\n",
    "      i = np.random.randint(0, wind_data.values.shape[0])\n",
    "      w = wind_data.values[i, 2]\n",
    "      dist = wind_data.values[i, 1]\n",
    "      b = wind_data.values[i, 3]\n",
    "      bear_max = b + 45  # wind direction\n",
    "      bear_min = b - 45\n",
    "      if b == 360:\n",
    "          bear_max = 45\n",
    "      if b <= 0:  # should not be necessary\n",
    "          bear_min = 0\n",
    "      if b == 999:\n",
    "          bear_max = 999\n",
    "          bear_min = 0\n",
    "      return bear_max, bear_min, dist # wind characteristics, bearing and distance\n",
    "\n",
    "\n",
    "def ignition(rngList=rngFile, edges=edgelist):\n",
    "    import numpy as np\n",
    "    import pandas as pd\n",
    "    rngList['rng'] = np.random.uniform(0, 1, size=rngList.values.shape[0])\n",
    "    rngList = rngList[rngList['rng'] < rngList['IgnProb_bl']]\n",
    "    initialIgnitions = len(rngList)\n",
    "    NewActiveEdges = edges[edges['source'].isin(rngList['source'])]\n",
    "    return NewActiveEdges, initialIgnitions\n",
    "\n",
    "\n",
    "def mask(t, activeEdges_d, listActivatedSources_d, w_b_max, w_b_min, w_d):\n",
    "    import numpy as np\n",
    "    if t==0: # special case at time=0\n",
    "        return activeEdges_d\n",
    "    else:\n",
    "        mask = (activeEdges_d.bearing.values < w_b_max) & (activeEdges_d.bearing.values < w_b_min) & (activeEdges_d.distance < w_d)\n",
    "        NewActiveEdges = activeEdges_d[mask]\n",
    "        NewActiveEdges = NewActiveEdges[~NewActiveEdges.source.isin(listActivatedSources_d)]\n",
    "        return NewActiveEdges\n",
    "\n",
    "\n",
    "def propagation(activeEdges_d, edges=edgelist):\n",
    "    import numpy as np\n",
    "    import pandas as pd\n",
    "    NewActiveEdges = edges[edges.source.isin(activeEdges_d.target)]\n",
    "    return NewActiveEdges"
   ]
  },
  {
   "cell_type": "code",
   "execution_count": 20,
   "metadata": {
    "code_folding": [
     1
    ]
   },
   "outputs": [],
   "source": [
    "# @dview.parallel(block = False) # The @parallel decorator breaks up elementwise operations and distributes them.\n",
    "def ffe_runs(n):\n",
    "    import numpy as np\n",
    "    import pandas as pd\n",
    "    from datetime import date\n",
    "    for scenario in n:\n",
    "        # initial setup\n",
    "        listActivatedSources = []\n",
    "        listScenarioDataframes = []\n",
    "        condition = True\n",
    "        time = 0 \n",
    "        # wind conditions\n",
    "        w_bearing_max, w_bearing_min, w_distance = wind_scenario(wind_data)\n",
    "        # ignition / initial state and edges selection\n",
    "        ActiveEdges, numberIgnitions = ignition()\n",
    "        if ActiveEdges.empty:\n",
    "            print(f\"no ignitions {numberIgnitions}\")\n",
    "            condition = False\n",
    "            continue\n",
    "        while condition: # spread burn zone\n",
    "            ActiveEdges = mask(time, ActiveEdges, listActivatedSources, w_bearing_max, w_bearing_min, w_distance)\n",
    "            if ActiveEdges.empty: #no more buildings to burn\n",
    "                break\n",
    "            burns = ActiveEdges.drop_duplicates(['source'], inplace=False)\n",
    "#             print(f\"Active edges {len(ActiveEdges)} / no duplicate = {len(burns)}\")\n",
    "            burns['time'] = time\n",
    "            listScenarioDataframes.append(burns)\n",
    "            listActivatedSources.extend(ActiveEdges.source.values)\n",
    "            ActiveEdges = propagation(ActiveEdges)\n",
    "            time += 1\n",
    "        \n",
    "        print(f'finishing scenario --- {scenario} time ---- {time} \\n started with {numberIgnitions} ignitions ')\n",
    "\n",
    "        Activations = pd.concat(listScenarioDataframes)\n",
    "        Activations[\"scenario\"] = scenario\n",
    "        Activations[\"InitialIgnitions\"] = numberIgnitions\n",
    "        Activations.to_parquet(folder / f'scenario{scenario}_{str(date.today())}.parquet', engine='auto', compression=\"GZIP\")"
   ]
  },
  {
   "cell_type": "markdown",
   "metadata": {
    "colab_type": "text",
    "id": "g9Vq0cczZSy4"
   },
   "source": [
    "# Run"
   ]
  },
  {
   "cell_type": "code",
   "execution_count": 21,
   "metadata": {},
   "outputs": [
    {
     "name": "stdout",
     "output_type": "stream",
     "text": [
      "finishing scenario --- 0 time ---- 83 \n",
      " started with 7 ignitions \n",
      "CPU times: user 10.1 s, sys: 2.38 s, total: 12.4 s\n",
      "Wall time: 12.5 s\n"
     ]
    }
   ],
   "source": [
    "%%time\n",
    "ffe_runs(range(1))"
   ]
  },
  {
   "cell_type": "markdown",
   "metadata": {
    "colab_type": "text",
    "id": "ydETTY_fZB3Q"
   },
   "source": [
    "\n",
    "### Post processing and comparison"
   ]
  },
  {
   "cell_type": "code",
   "execution_count": 7,
   "metadata": {},
   "outputs": [],
   "source": [
    "comparisonFolder = Path('/home/alexd/InOutRepoData/FFE/ProbaScenariosInput/comparisonArcPyResults')"
   ]
  },
  {
   "cell_type": "code",
   "execution_count": 13,
   "metadata": {},
   "outputs": [
    {
     "data": {
      "text/html": [
       "<div>\n",
       "<style scoped>\n",
       "    .dataframe tbody tr th:only-of-type {\n",
       "        vertical-align: middle;\n",
       "    }\n",
       "\n",
       "    .dataframe tbody tr th {\n",
       "        vertical-align: top;\n",
       "    }\n",
       "\n",
       "    .dataframe thead th {\n",
       "        text-align: right;\n",
       "    }\n",
       "</style>\n",
       "<table border=\"1\" class=\"dataframe\">\n",
       "  <thead>\n",
       "    <tr style=\"text-align: right;\">\n",
       "      <th></th>\n",
       "      <th>OBJECTID</th>\n",
       "      <th>Replacemen</th>\n",
       "      <th>Combustibl</th>\n",
       "      <th>FloorArea</th>\n",
       "      <th>BLDG_ID</th>\n",
       "      <th>SA2_ID</th>\n",
       "      <th>NightOccup</th>\n",
       "      <th>IgnProbBld</th>\n",
       "      <th>Ignited1</th>\n",
       "    </tr>\n",
       "  </thead>\n",
       "  <tbody>\n",
       "    <tr>\n",
       "      <th>0</th>\n",
       "      <td>1.0</td>\n",
       "      <td>271128.0</td>\n",
       "      <td>1</td>\n",
       "      <td>156.0</td>\n",
       "      <td>1</td>\n",
       "      <td>67</td>\n",
       "      <td>3.0</td>\n",
       "      <td>0.000069</td>\n",
       "      <td>0</td>\n",
       "    </tr>\n",
       "    <tr>\n",
       "      <th>1</th>\n",
       "      <td>2.0</td>\n",
       "      <td>66044.0</td>\n",
       "      <td>1</td>\n",
       "      <td>38.0</td>\n",
       "      <td>2</td>\n",
       "      <td>75</td>\n",
       "      <td>1.0</td>\n",
       "      <td>0.000085</td>\n",
       "      <td>0</td>\n",
       "    </tr>\n",
       "    <tr>\n",
       "      <th>2</th>\n",
       "      <td>3.0</td>\n",
       "      <td>56944.0</td>\n",
       "      <td>1</td>\n",
       "      <td>21.0</td>\n",
       "      <td>3</td>\n",
       "      <td>23</td>\n",
       "      <td>0.0</td>\n",
       "      <td>0.000107</td>\n",
       "      <td>0</td>\n",
       "    </tr>\n",
       "    <tr>\n",
       "      <th>3</th>\n",
       "      <td>4.0</td>\n",
       "      <td>307626.0</td>\n",
       "      <td>1</td>\n",
       "      <td>177.0</td>\n",
       "      <td>4</td>\n",
       "      <td>38</td>\n",
       "      <td>3.0</td>\n",
       "      <td>0.000063</td>\n",
       "      <td>38</td>\n",
       "    </tr>\n",
       "    <tr>\n",
       "      <th>4</th>\n",
       "      <td>5.0</td>\n",
       "      <td>342386.0</td>\n",
       "      <td>1</td>\n",
       "      <td>197.0</td>\n",
       "      <td>5</td>\n",
       "      <td>60</td>\n",
       "      <td>3.0</td>\n",
       "      <td>0.000103</td>\n",
       "      <td>0</td>\n",
       "    </tr>\n",
       "    <tr>\n",
       "      <th>...</th>\n",
       "      <td>...</td>\n",
       "      <td>...</td>\n",
       "      <td>...</td>\n",
       "      <td>...</td>\n",
       "      <td>...</td>\n",
       "      <td>...</td>\n",
       "      <td>...</td>\n",
       "      <td>...</td>\n",
       "      <td>...</td>\n",
       "    </tr>\n",
       "    <tr>\n",
       "      <th>73730</th>\n",
       "      <td>73731.0</td>\n",
       "      <td>330220.0</td>\n",
       "      <td>1</td>\n",
       "      <td>190.0</td>\n",
       "      <td>73731</td>\n",
       "      <td>33</td>\n",
       "      <td>3.0</td>\n",
       "      <td>0.000069</td>\n",
       "      <td>0</td>\n",
       "    </tr>\n",
       "    <tr>\n",
       "      <th>73731</th>\n",
       "      <td>73732.0</td>\n",
       "      <td>357378.0</td>\n",
       "      <td>1</td>\n",
       "      <td>132.0</td>\n",
       "      <td>73732</td>\n",
       "      <td>63</td>\n",
       "      <td>2.0</td>\n",
       "      <td>0.000085</td>\n",
       "      <td>0</td>\n",
       "    </tr>\n",
       "    <tr>\n",
       "      <th>73732</th>\n",
       "      <td>73733.0</td>\n",
       "      <td>939420.0</td>\n",
       "      <td>1</td>\n",
       "      <td>340.0</td>\n",
       "      <td>73733</td>\n",
       "      <td>23</td>\n",
       "      <td>5.0</td>\n",
       "      <td>0.000107</td>\n",
       "      <td>0</td>\n",
       "    </tr>\n",
       "    <tr>\n",
       "      <th>73733</th>\n",
       "      <td>73734.0</td>\n",
       "      <td>307626.0</td>\n",
       "      <td>1</td>\n",
       "      <td>177.0</td>\n",
       "      <td>73734</td>\n",
       "      <td>64</td>\n",
       "      <td>3.0</td>\n",
       "      <td>0.000285</td>\n",
       "      <td>0</td>\n",
       "    </tr>\n",
       "    <tr>\n",
       "      <th>73734</th>\n",
       "      <td>73735.0</td>\n",
       "      <td>179781.0</td>\n",
       "      <td>1</td>\n",
       "      <td>66.0</td>\n",
       "      <td>73735</td>\n",
       "      <td>46</td>\n",
       "      <td>2.0</td>\n",
       "      <td>0.000168</td>\n",
       "      <td>0</td>\n",
       "    </tr>\n",
       "  </tbody>\n",
       "</table>\n",
       "<p>73735 rows × 9 columns</p>\n",
       "</div>"
      ],
      "text/plain": [
       "       OBJECTID  Replacemen  Combustibl  FloorArea  BLDG_ID  SA2_ID  \\\n",
       "0           1.0    271128.0           1      156.0        1      67   \n",
       "1           2.0     66044.0           1       38.0        2      75   \n",
       "2           3.0     56944.0           1       21.0        3      23   \n",
       "3           4.0    307626.0           1      177.0        4      38   \n",
       "4           5.0    342386.0           1      197.0        5      60   \n",
       "...         ...         ...         ...        ...      ...     ...   \n",
       "73730   73731.0    330220.0           1      190.0    73731      33   \n",
       "73731   73732.0    357378.0           1      132.0    73732      63   \n",
       "73732   73733.0    939420.0           1      340.0    73733      23   \n",
       "73733   73734.0    307626.0           1      177.0    73734      64   \n",
       "73734   73735.0    179781.0           1       66.0    73735      46   \n",
       "\n",
       "       NightOccup  IgnProbBld  Ignited1  \n",
       "0             3.0    0.000069         0  \n",
       "1             1.0    0.000085         0  \n",
       "2             0.0    0.000107         0  \n",
       "3             3.0    0.000063        38  \n",
       "4             3.0    0.000103         0  \n",
       "...           ...         ...       ...  \n",
       "73730         3.0    0.000069         0  \n",
       "73731         2.0    0.000085         0  \n",
       "73732         5.0    0.000107         0  \n",
       "73733         3.0    0.000285         0  \n",
       "73734         2.0    0.000168         0  \n",
       "\n",
       "[73735 rows x 9 columns]"
      ]
     },
     "execution_count": 13,
     "metadata": {},
     "output_type": "execute_result"
    },
    {
     "data": {
      "text/html": [
       "<div>\n",
       "<style scoped>\n",
       "    .dataframe tbody tr th:only-of-type {\n",
       "        vertical-align: middle;\n",
       "    }\n",
       "\n",
       "    .dataframe tbody tr th {\n",
       "        vertical-align: top;\n",
       "    }\n",
       "\n",
       "    .dataframe thead th {\n",
       "        text-align: right;\n",
       "    }\n",
       "</style>\n",
       "<table border=\"1\" class=\"dataframe\">\n",
       "  <thead>\n",
       "    <tr style=\"text-align: right;\">\n",
       "      <th></th>\n",
       "      <th>source</th>\n",
       "      <th>target</th>\n",
       "      <th>distance</th>\n",
       "      <th>bearing</th>\n",
       "      <th>IgnProb_bl</th>\n",
       "      <th>time</th>\n",
       "      <th>scenario</th>\n",
       "      <th>InitialIgnitions</th>\n",
       "    </tr>\n",
       "  </thead>\n",
       "  <tbody>\n",
       "    <tr>\n",
       "      <th>515</th>\n",
       "      <td>14</td>\n",
       "      <td>3033</td>\n",
       "      <td>75.748970</td>\n",
       "      <td>224.277611</td>\n",
       "      <td>0.000326</td>\n",
       "      <td>0</td>\n",
       "      <td>0</td>\n",
       "      <td>7</td>\n",
       "    </tr>\n",
       "    <tr>\n",
       "      <th>1238</th>\n",
       "      <td>31</td>\n",
       "      <td>28</td>\n",
       "      <td>23.863988</td>\n",
       "      <td>44.646598</td>\n",
       "      <td>0.000352</td>\n",
       "      <td>0</td>\n",
       "      <td>0</td>\n",
       "      <td>7</td>\n",
       "    </tr>\n",
       "    <tr>\n",
       "      <th>1934</th>\n",
       "      <td>45</td>\n",
       "      <td>46</td>\n",
       "      <td>75.747227</td>\n",
       "      <td>231.780053</td>\n",
       "      <td>0.000476</td>\n",
       "      <td>0</td>\n",
       "      <td>0</td>\n",
       "      <td>7</td>\n",
       "    </tr>\n",
       "    <tr>\n",
       "      <th>7080</th>\n",
       "      <td>165</td>\n",
       "      <td>24118</td>\n",
       "      <td>60.728622</td>\n",
       "      <td>277.114749</td>\n",
       "      <td>0.000167</td>\n",
       "      <td>0</td>\n",
       "      <td>0</td>\n",
       "      <td>7</td>\n",
       "    </tr>\n",
       "    <tr>\n",
       "      <th>9296</th>\n",
       "      <td>216</td>\n",
       "      <td>29015</td>\n",
       "      <td>15.098701</td>\n",
       "      <td>207.438212</td>\n",
       "      <td>0.000234</td>\n",
       "      <td>0</td>\n",
       "      <td>0</td>\n",
       "      <td>7</td>\n",
       "    </tr>\n",
       "    <tr>\n",
       "      <th>...</th>\n",
       "      <td>...</td>\n",
       "      <td>...</td>\n",
       "      <td>...</td>\n",
       "      <td>...</td>\n",
       "      <td>...</td>\n",
       "      <td>...</td>\n",
       "      <td>...</td>\n",
       "      <td>...</td>\n",
       "    </tr>\n",
       "    <tr>\n",
       "      <th>1620224</th>\n",
       "      <td>35699</td>\n",
       "      <td>34856</td>\n",
       "      <td>9.052844</td>\n",
       "      <td>55.727160</td>\n",
       "      <td>0.000362</td>\n",
       "      <td>81</td>\n",
       "      <td>0</td>\n",
       "      <td>7</td>\n",
       "    </tr>\n",
       "    <tr>\n",
       "      <th>1620274</th>\n",
       "      <td>35700</td>\n",
       "      <td>34856</td>\n",
       "      <td>5.491216</td>\n",
       "      <td>25.324895</td>\n",
       "      <td>0.000362</td>\n",
       "      <td>81</td>\n",
       "      <td>0</td>\n",
       "      <td>7</td>\n",
       "    </tr>\n",
       "    <tr>\n",
       "      <th>1567686</th>\n",
       "      <td>34847</td>\n",
       "      <td>34868</td>\n",
       "      <td>33.237173</td>\n",
       "      <td>26.008368</td>\n",
       "      <td>0.000362</td>\n",
       "      <td>82</td>\n",
       "      <td>0</td>\n",
       "      <td>7</td>\n",
       "    </tr>\n",
       "    <tr>\n",
       "      <th>1568107</th>\n",
       "      <td>34856</td>\n",
       "      <td>35150</td>\n",
       "      <td>0.557125</td>\n",
       "      <td>19.652963</td>\n",
       "      <td>0.000362</td>\n",
       "      <td>82</td>\n",
       "      <td>0</td>\n",
       "      <td>7</td>\n",
       "    </tr>\n",
       "    <tr>\n",
       "      <th>1568455</th>\n",
       "      <td>34866</td>\n",
       "      <td>34865</td>\n",
       "      <td>1.160386</td>\n",
       "      <td>8.038995</td>\n",
       "      <td>0.000362</td>\n",
       "      <td>82</td>\n",
       "      <td>0</td>\n",
       "      <td>7</td>\n",
       "    </tr>\n",
       "  </tbody>\n",
       "</table>\n",
       "<p>5496 rows × 8 columns</p>\n",
       "</div>"
      ],
      "text/plain": [
       "         source  target   distance     bearing  IgnProb_bl  time  scenario  \\\n",
       "515          14    3033  75.748970  224.277611    0.000326     0         0   \n",
       "1238         31      28  23.863988   44.646598    0.000352     0         0   \n",
       "1934         45      46  75.747227  231.780053    0.000476     0         0   \n",
       "7080        165   24118  60.728622  277.114749    0.000167     0         0   \n",
       "9296        216   29015  15.098701  207.438212    0.000234     0         0   \n",
       "...         ...     ...        ...         ...         ...   ...       ...   \n",
       "1620224   35699   34856   9.052844   55.727160    0.000362    81         0   \n",
       "1620274   35700   34856   5.491216   25.324895    0.000362    81         0   \n",
       "1567686   34847   34868  33.237173   26.008368    0.000362    82         0   \n",
       "1568107   34856   35150   0.557125   19.652963    0.000362    82         0   \n",
       "1568455   34866   34865   1.160386    8.038995    0.000362    82         0   \n",
       "\n",
       "         InitialIgnitions  \n",
       "515                     7  \n",
       "1238                    7  \n",
       "1934                    7  \n",
       "7080                    7  \n",
       "9296                    7  \n",
       "...                   ...  \n",
       "1620224                 7  \n",
       "1620274                 7  \n",
       "1567686                 7  \n",
       "1568107                 7  \n",
       "1568455                 7  \n",
       "\n",
       "[5496 rows x 8 columns]"
      ]
     },
     "execution_count": 13,
     "metadata": {},
     "output_type": "execute_result"
    }
   ],
   "source": [
    "testNetScenario = pd.read_parquet(comparisonFolder / 'scenario0_2020-09-04.parquet')\n",
    "testArc = gpd.read_file(comparisonFolder / 'HikWgtnMin_pfourARCPY.shp')\n",
    "testArcScenario = testArc.iloc[:,:9]\n",
    "\n",
    "testArcScenario\n",
    "testNetScenario"
   ]
  },
  {
   "cell_type": "code",
   "execution_count": 15,
   "metadata": {},
   "outputs": [],
   "source": [
    "# merge geometry to scenario\n",
    "# merge each line / source with geometry \n",
    "shape = gpd.read_file('data/shapefile/BuildingFootprints.shp')\n",
    "shape = shape[['BLDG_ID', 'geometry']]\n",
    "ScenarioARC = pd.merge(testArcScenario, shape, how='left', left_on='BLDG_ID', right_index=True)\n",
    "ScenarioNET = pd.merge(, shape, how='left', left_on='BLDG_ID', right_index=True)"
   ]
  },
  {
   "cell_type": "markdown",
   "metadata": {},
   "source": [
    "#### Create Gif for comparisons "
   ]
  },
  {
   "cell_type": "code",
   "execution_count": 71,
   "metadata": {
    "code_folding": []
   },
   "outputs": [],
   "source": [
    "def save_png(df, path):\n",
    "    gdf = gpd.GeoDataFrame(df, geometry=df.geometry)\n",
    "    mapShape = gpd.read_file(path / 'WellWHV_Buildings.shp')\n",
    "    for t in tqdm(range(max(gdf.time))):\n",
    "        gdfT = gdf[gdf.time<=t]\n",
    "        # plot\n",
    "        fig, ax = plt.subplots(figsize = (20,16)) \n",
    "        gdfT.plot(color=\"red\", edgecolor=None, ax=ax)\n",
    "        mapShape.geometry.boundary.plot(color=None,edgecolor='k',linewidth = 0.1,ax=ax)\n",
    "        # savefig\n",
    "        plt.savefig(os.path.join(str(pathShapefile), 'gif', f'{t}.png'), dpi=70)\n",
    "        plt.close()"
   ]
  },
  {
   "cell_type": "code",
   "execution_count": 72,
   "metadata": {},
   "outputs": [
    {
     "data": {
      "application/vnd.jupyter.widget-view+json": {
       "model_id": "769fcd0d760d4ee89c6f1564e01b2d02",
       "version_major": 2,
       "version_minor": 0
      },
      "text/plain": [
       "HBox(children=(FloatProgress(value=0.0, max=145.0), HTML(value='')))"
      ]
     },
     "metadata": {},
     "output_type": "display_data"
    },
    {
     "name": "stdout",
     "output_type": "stream",
     "text": [
      "\n"
     ]
    }
   ],
   "source": [
    "save_png(worstScenario, path=pathShapefile)"
   ]
  }
 ],
 "metadata": {
  "colab": {
   "collapsed_sections": [],
   "include_colab_link": true,
   "machine_shape": "hm",
   "name": "FFErunsParallel.ipynb",
   "provenance": []
  },
  "gist": {
   "data": {
    "description": "paralllelComputingFFE_EQsampling.ipynb",
    "public": true
   },
   "id": ""
  },
  "kernelspec": {
   "display_name": "Python 3",
   "language": "python",
   "name": "python3"
  },
  "language_info": {
   "codemirror_mode": {
    "name": "ipython",
    "version": 3
   },
   "file_extension": ".py",
   "mimetype": "text/x-python",
   "name": "python",
   "nbconvert_exporter": "python",
   "pygments_lexer": "ipython3",
   "version": "3.8.3"
  },
  "notify_time": "5",
  "varInspector": {
   "cols": {
    "lenName": 16,
    "lenType": 16,
    "lenVar": 40
   },
   "kernels_config": {
    "python": {
     "delete_cmd_postfix": "",
     "delete_cmd_prefix": "del ",
     "library": "var_list.py",
     "varRefreshCmd": "print(var_dic_list())"
    },
    "r": {
     "delete_cmd_postfix": ") ",
     "delete_cmd_prefix": "rm(",
     "library": "var_list.r",
     "varRefreshCmd": "cat(var_dic_list()) "
    }
   },
   "position": {
    "height": "144.716px",
    "left": "774.812px",
    "right": "20px",
    "top": "122.991px",
    "width": "350px"
   },
   "types_to_exclude": [
    "module",
    "function",
    "builtin_function_or_method",
    "instance",
    "_Feature"
   ],
   "window_display": false
  }
 },
 "nbformat": 4,
 "nbformat_minor": 4
}
