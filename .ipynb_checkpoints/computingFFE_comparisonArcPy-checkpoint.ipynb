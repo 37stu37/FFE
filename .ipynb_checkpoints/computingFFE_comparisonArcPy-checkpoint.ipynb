{
 "cells": [
  {
   "cell_type": "markdown",
   "metadata": {
    "colab_type": "text",
    "id": "m42Qt2fkaDi8"
   },
   "source": [
    "# Import"
   ]
  },
  {
   "cell_type": "code",
   "execution_count": 1,
   "metadata": {
    "ExecuteTime": {
     "end_time": "2020-09-08T05:41:15.201756Z",
     "start_time": "2020-09-08T05:41:15.197097Z"
    }
   },
   "outputs": [],
   "source": [
    "from IPython.core.interactiveshell import InteractiveShell\n",
    "InteractiveShell.ast_node_interactivity = \"all\""
   ]
  },
  {
   "cell_type": "code",
   "execution_count": 2,
   "metadata": {
    "ExecuteTime": {
     "end_time": "2020-09-08T05:58:00.773032Z",
     "start_time": "2020-09-08T05:57:59.425233Z"
    },
    "colab": {},
    "colab_type": "code",
    "id": "7O35x2t8T4Dk"
   },
   "outputs": [
    {
     "name": "stderr",
     "output_type": "stream",
     "text": [
      "In /Users/alex/anaconda3/lib/python3.7/site-packages/matplotlib/mpl-data/stylelib/_classic_test.mplstyle: \n",
      "The text.latex.preview rcparam was deprecated in Matplotlib 3.3 and will be removed two minor releases later.\n",
      "In /Users/alex/anaconda3/lib/python3.7/site-packages/matplotlib/mpl-data/stylelib/_classic_test.mplstyle: \n",
      "The mathtext.fallback_to_cm rcparam was deprecated in Matplotlib 3.3 and will be removed two minor releases later.\n",
      "In /Users/alex/anaconda3/lib/python3.7/site-packages/matplotlib/mpl-data/stylelib/_classic_test.mplstyle: Support for setting the 'mathtext.fallback_to_cm' rcParam is deprecated since 3.3 and will be removed two minor releases later; use 'mathtext.fallback : 'cm' instead.\n",
      "In /Users/alex/anaconda3/lib/python3.7/site-packages/matplotlib/mpl-data/stylelib/_classic_test.mplstyle: \n",
      "The validate_bool_maybe_none function was deprecated in Matplotlib 3.3 and will be removed two minor releases later.\n",
      "In /Users/alex/anaconda3/lib/python3.7/site-packages/matplotlib/mpl-data/stylelib/_classic_test.mplstyle: \n",
      "The savefig.jpeg_quality rcparam was deprecated in Matplotlib 3.3 and will be removed two minor releases later.\n",
      "In /Users/alex/anaconda3/lib/python3.7/site-packages/matplotlib/mpl-data/stylelib/_classic_test.mplstyle: \n",
      "The keymap.all_axes rcparam was deprecated in Matplotlib 3.3 and will be removed two minor releases later.\n",
      "In /Users/alex/anaconda3/lib/python3.7/site-packages/matplotlib/mpl-data/stylelib/_classic_test.mplstyle: \n",
      "The animation.avconv_path rcparam was deprecated in Matplotlib 3.3 and will be removed two minor releases later.\n",
      "In /Users/alex/anaconda3/lib/python3.7/site-packages/matplotlib/mpl-data/stylelib/_classic_test.mplstyle: \n",
      "The animation.avconv_args rcparam was deprecated in Matplotlib 3.3 and will be removed two minor releases later.\n"
     ]
    }
   ],
   "source": [
    "import numpy as np\n",
    "import pandas as pd\n",
    "# import dask\n",
    "import dask.dataframe as dd\n",
    "import geopandas as gpd\n",
    "\n",
    "from pathlib import Path\n",
    "import sys\n",
    "import os\n",
    "import glob\n",
    "import multiprocessing as mp\n",
    "from datetime import date\n",
    "\n",
    "from tqdm.notebook import tqdm\n",
    "from dask.diagnostics import ProgressBar\n",
    "\n",
    "import contextily as ctx\n",
    "import matplotlib.pyplot as plt\n",
    "\n",
    "pd.options.mode.chained_assignment = None  # default='warn'"
   ]
  },
  {
   "cell_type": "markdown",
   "metadata": {},
   "source": [
    "# Data"
   ]
  },
  {
   "cell_type": "code",
   "execution_count": 66,
   "metadata": {
    "ExecuteTime": {
     "end_time": "2020-09-08T05:58:02.058408Z",
     "start_time": "2020-09-08T05:58:02.040951Z"
    },
    "colab": {},
    "colab_type": "code",
    "id": "QtfIG4oqTqPD",
    "tags": []
   },
   "outputs": [
    {
     "name": "stdout",
     "output_type": "stream",
     "text": [
      "CPU times: user 264 µs, sys: 232 µs, total: 496 µs\n",
      "Wall time: 391 µs\n"
     ]
    }
   ],
   "source": [
    "%%time\n",
    "# Folders\n",
    "repository = Path.cwd()\n",
    "\n",
    "dataFolder = repository.parent.parent / 'InOutRepoData' / 'FFE'\n",
    "folder = repository / 'data' / 'comparison_arcpy'\n",
    "comparisonFolder = dataFolder / 'ProbaScenariosInput' / 'comparisonArcPyResults'"
   ]
  },
  {
   "cell_type": "code",
   "execution_count": 67,
   "metadata": {
    "ExecuteTime": {
     "end_time": "2020-09-08T05:58:03.281853Z",
     "start_time": "2020-09-08T05:58:02.954835Z"
    },
    "tags": []
   },
   "outputs": [
    {
     "name": "stdout",
     "output_type": "stream",
     "text": [
      "CPU times: user 270 ms, sys: 322 ms, total: 592 ms\n",
      "Wall time: 707 ms\n"
     ]
    }
   ],
   "source": [
    "%%time\n",
    "# Data\n",
    "wind_data = pd.read_csv(repository / 'data' / 'Copy_of_GD_wind.csv')\n",
    "edgelist = pd.read_parquet(repository / 'data' / 'BLDG_ID_ShapeEdges.parquet', engine='pyarrow')"
   ]
  },
  {
   "cell_type": "code",
   "execution_count": 68,
   "metadata": {},
   "outputs": [],
   "source": [
    "summaryArc = gpd.read_file(comparisonFolder / 'HikWgtnMin_pfourARCPY.shp')\n",
    "detailsArc = pd.read_csv(comparisonFolder / \"ScenSum_HikWgtnMin_pfour_1-100ARCPY.csv\")"
   ]
  },
  {
   "cell_type": "code",
   "execution_count": 106,
   "metadata": {},
   "outputs": [
    {
     "data": {
      "text/html": [
       "<div>\n",
       "<style scoped>\n",
       "    .dataframe tbody tr th:only-of-type {\n",
       "        vertical-align: middle;\n",
       "    }\n",
       "\n",
       "    .dataframe tbody tr th {\n",
       "        vertical-align: top;\n",
       "    }\n",
       "\n",
       "    .dataframe thead th {\n",
       "        text-align: right;\n",
       "    }\n",
       "</style>\n",
       "<table border=\"1\" class=\"dataframe\">\n",
       "  <thead>\n",
       "    <tr style=\"text-align: right;\">\n",
       "      <th></th>\n",
       "      <th>ID</th>\n",
       "      <th>critical_distance</th>\n",
       "      <th>direction</th>\n",
       "      <th>bearing</th>\n",
       "    </tr>\n",
       "  </thead>\n",
       "  <tbody>\n",
       "    <tr>\n",
       "      <th>8778</th>\n",
       "      <td>9769</td>\n",
       "      <td>45</td>\n",
       "      <td>S</td>\n",
       "      <td>180</td>\n",
       "    </tr>\n",
       "  </tbody>\n",
       "</table>\n",
       "</div>"
      ],
      "text/plain": [
       "        ID  critical_distance direction  bearing\n",
       "8778  9769                 45         S      180"
      ]
     },
     "execution_count": 106,
     "metadata": {},
     "output_type": "execute_result"
    },
    {
     "name": "stdout",
     "output_type": "stream",
     "text": [
      "6040      6041\n",
      "19623    19624\n",
      "21700    21701\n",
      "28757    28758\n",
      "40701    40702\n",
      "41548    41549\n",
      "58067    58068\n",
      "Name: BLDG_ID, dtype: int64 --- 7 ignitions\n"
     ]
    }
   ],
   "source": [
    "# selection of scenario\n",
    "\n",
    "scenarioNumber = 1\n",
    "scenarioSelected = detailsArc[detailsArc[\"Scenario\"]==scenarioNumber]\n",
    "\n",
    "WindID = scenarioSelected.WindRecord.values\n",
    "\n",
    "windSelected = wind_data[wind_data[\"ID\"]==WindID[0]]\n",
    "windSelected\n",
    "\n",
    "listIgnitions = summaryArc[\"BLDG_ID\"][summaryArc[f\"Ignited{scenarioNumber}\"]==1]\n",
    "# listIgnitions = summaryArc[f\"Ignited{scenarioNumber}\"][summaryArc[f\"Ignited{scenarioNumber}\"]==1]\n",
    "print(listIgnitions, f\"--- {len(listIgnitions)} ignitions\")"
   ]
  },
  {
   "cell_type": "code",
   "execution_count": 109,
   "metadata": {
    "ExecuteTime": {
     "end_time": "2020-09-08T06:10:25.756409Z",
     "start_time": "2020-09-08T06:10:25.749763Z"
    }
   },
   "outputs": [
    {
     "data": {
      "text/html": [
       "<div>\n",
       "<style scoped>\n",
       "    .dataframe tbody tr th:only-of-type {\n",
       "        vertical-align: middle;\n",
       "    }\n",
       "\n",
       "    .dataframe tbody tr th {\n",
       "        vertical-align: top;\n",
       "    }\n",
       "\n",
       "    .dataframe thead th {\n",
       "        text-align: right;\n",
       "    }\n",
       "</style>\n",
       "<table border=\"1\" class=\"dataframe\">\n",
       "  <thead>\n",
       "    <tr style=\"text-align: right;\">\n",
       "      <th></th>\n",
       "      <th>source</th>\n",
       "      <th>IgnProb_bl</th>\n",
       "    </tr>\n",
       "  </thead>\n",
       "  <tbody>\n",
       "    <tr>\n",
       "      <th>0</th>\n",
       "      <td>6041</td>\n",
       "      <td>1</td>\n",
       "    </tr>\n",
       "    <tr>\n",
       "      <th>1</th>\n",
       "      <td>19624</td>\n",
       "      <td>1</td>\n",
       "    </tr>\n",
       "    <tr>\n",
       "      <th>2</th>\n",
       "      <td>21701</td>\n",
       "      <td>1</td>\n",
       "    </tr>\n",
       "    <tr>\n",
       "      <th>3</th>\n",
       "      <td>28758</td>\n",
       "      <td>1</td>\n",
       "    </tr>\n",
       "    <tr>\n",
       "      <th>4</th>\n",
       "      <td>40702</td>\n",
       "      <td>1</td>\n",
       "    </tr>\n",
       "    <tr>\n",
       "      <th>5</th>\n",
       "      <td>41549</td>\n",
       "      <td>1</td>\n",
       "    </tr>\n",
       "    <tr>\n",
       "      <th>6</th>\n",
       "      <td>58068</td>\n",
       "      <td>1</td>\n",
       "    </tr>\n",
       "  </tbody>\n",
       "</table>\n",
       "</div>"
      ],
      "text/plain": [
       "   source  IgnProb_bl\n",
       "0    6041           1\n",
       "1   19624           1\n",
       "2   21701           1\n",
       "3   28758           1\n",
       "4   40702           1\n",
       "5   41549           1\n",
       "6   58068           1"
      ]
     },
     "execution_count": 109,
     "metadata": {},
     "output_type": "execute_result"
    }
   ],
   "source": [
    "rngdata = {'source':list(listIgnitions.values), \n",
    "           'IgnProb_bl':[1] * len(list(listIgnitions.index))} \n",
    "rngFile = pd.DataFrame(rngdata)\n",
    "rngFile"
   ]
  },
  {
   "cell_type": "code",
   "execution_count": 110,
   "metadata": {},
   "outputs": [
    {
     "data": {
      "text/html": [
       "<div>\n",
       "<style scoped>\n",
       "    .dataframe tbody tr th:only-of-type {\n",
       "        vertical-align: middle;\n",
       "    }\n",
       "\n",
       "    .dataframe tbody tr th {\n",
       "        vertical-align: top;\n",
       "    }\n",
       "\n",
       "    .dataframe thead th {\n",
       "        text-align: right;\n",
       "    }\n",
       "</style>\n",
       "<table border=\"1\" class=\"dataframe\">\n",
       "  <thead>\n",
       "    <tr style=\"text-align: right;\">\n",
       "      <th></th>\n",
       "      <th>OBJECTID</th>\n",
       "      <th>Replacemen</th>\n",
       "      <th>Combustibl</th>\n",
       "      <th>FloorArea</th>\n",
       "      <th>BLDG_ID</th>\n",
       "      <th>SA2_ID</th>\n",
       "      <th>NightOccup</th>\n",
       "      <th>IgnProbBld</th>\n",
       "      <th>Ignited1</th>\n",
       "      <th>Ignited2</th>\n",
       "      <th>...</th>\n",
       "      <th>Ignited94</th>\n",
       "      <th>Ignited95</th>\n",
       "      <th>Ignited96</th>\n",
       "      <th>Ignited97</th>\n",
       "      <th>Ignited98</th>\n",
       "      <th>Ignited99</th>\n",
       "      <th>Ignited100</th>\n",
       "      <th>Shape_Leng</th>\n",
       "      <th>Shape_Area</th>\n",
       "      <th>geometry</th>\n",
       "    </tr>\n",
       "  </thead>\n",
       "  <tbody>\n",
       "    <tr>\n",
       "      <th>0</th>\n",
       "      <td>1.0</td>\n",
       "      <td>271128.0</td>\n",
       "      <td>1</td>\n",
       "      <td>156.0</td>\n",
       "      <td>1</td>\n",
       "      <td>67</td>\n",
       "      <td>3.0</td>\n",
       "      <td>0.000069</td>\n",
       "      <td>0</td>\n",
       "      <td>0</td>\n",
       "      <td>...</td>\n",
       "      <td>0</td>\n",
       "      <td>0</td>\n",
       "      <td>0</td>\n",
       "      <td>0</td>\n",
       "      <td>0</td>\n",
       "      <td>0</td>\n",
       "      <td>0</td>\n",
       "      <td>45.051241</td>\n",
       "      <td>113.167605</td>\n",
       "      <td>POLYGON ((1748253.040 5422598.875, 1748260.639...</td>\n",
       "    </tr>\n",
       "    <tr>\n",
       "      <th>1</th>\n",
       "      <td>2.0</td>\n",
       "      <td>66044.0</td>\n",
       "      <td>1</td>\n",
       "      <td>38.0</td>\n",
       "      <td>2</td>\n",
       "      <td>75</td>\n",
       "      <td>1.0</td>\n",
       "      <td>0.000085</td>\n",
       "      <td>0</td>\n",
       "      <td>0</td>\n",
       "      <td>...</td>\n",
       "      <td>0</td>\n",
       "      <td>0</td>\n",
       "      <td>0</td>\n",
       "      <td>0</td>\n",
       "      <td>0</td>\n",
       "      <td>0</td>\n",
       "      <td>0</td>\n",
       "      <td>26.385538</td>\n",
       "      <td>43.480369</td>\n",
       "      <td>POLYGON ((1752652.050 5423208.879, 1752658.230...</td>\n",
       "    </tr>\n",
       "    <tr>\n",
       "      <th>2</th>\n",
       "      <td>3.0</td>\n",
       "      <td>56944.0</td>\n",
       "      <td>1</td>\n",
       "      <td>21.0</td>\n",
       "      <td>3</td>\n",
       "      <td>23</td>\n",
       "      <td>0.0</td>\n",
       "      <td>0.000107</td>\n",
       "      <td>0</td>\n",
       "      <td>0</td>\n",
       "      <td>...</td>\n",
       "      <td>0</td>\n",
       "      <td>0</td>\n",
       "      <td>0</td>\n",
       "      <td>0</td>\n",
       "      <td>0</td>\n",
       "      <td>0</td>\n",
       "      <td>0</td>\n",
       "      <td>18.403319</td>\n",
       "      <td>20.965948</td>\n",
       "      <td>POLYGON ((1750820.799 5434554.465, 1750819.180...</td>\n",
       "    </tr>\n",
       "    <tr>\n",
       "      <th>3</th>\n",
       "      <td>4.0</td>\n",
       "      <td>307626.0</td>\n",
       "      <td>1</td>\n",
       "      <td>177.0</td>\n",
       "      <td>4</td>\n",
       "      <td>38</td>\n",
       "      <td>3.0</td>\n",
       "      <td>0.000063</td>\n",
       "      <td>38</td>\n",
       "      <td>0</td>\n",
       "      <td>...</td>\n",
       "      <td>0</td>\n",
       "      <td>0</td>\n",
       "      <td>0</td>\n",
       "      <td>0</td>\n",
       "      <td>0</td>\n",
       "      <td>0</td>\n",
       "      <td>0</td>\n",
       "      <td>58.186276</td>\n",
       "      <td>171.309410</td>\n",
       "      <td>POLYGON ((1750052.705 5432505.105, 1750056.199...</td>\n",
       "    </tr>\n",
       "    <tr>\n",
       "      <th>4</th>\n",
       "      <td>5.0</td>\n",
       "      <td>342386.0</td>\n",
       "      <td>1</td>\n",
       "      <td>197.0</td>\n",
       "      <td>5</td>\n",
       "      <td>60</td>\n",
       "      <td>3.0</td>\n",
       "      <td>0.000103</td>\n",
       "      <td>0</td>\n",
       "      <td>0</td>\n",
       "      <td>...</td>\n",
       "      <td>0</td>\n",
       "      <td>0</td>\n",
       "      <td>0</td>\n",
       "      <td>0</td>\n",
       "      <td>0</td>\n",
       "      <td>0</td>\n",
       "      <td>0</td>\n",
       "      <td>49.754989</td>\n",
       "      <td>139.654520</td>\n",
       "      <td>POLYGON ((1748074.536 5424848.405, 1748075.076...</td>\n",
       "    </tr>\n",
       "    <tr>\n",
       "      <th>...</th>\n",
       "      <td>...</td>\n",
       "      <td>...</td>\n",
       "      <td>...</td>\n",
       "      <td>...</td>\n",
       "      <td>...</td>\n",
       "      <td>...</td>\n",
       "      <td>...</td>\n",
       "      <td>...</td>\n",
       "      <td>...</td>\n",
       "      <td>...</td>\n",
       "      <td>...</td>\n",
       "      <td>...</td>\n",
       "      <td>...</td>\n",
       "      <td>...</td>\n",
       "      <td>...</td>\n",
       "      <td>...</td>\n",
       "      <td>...</td>\n",
       "      <td>...</td>\n",
       "      <td>...</td>\n",
       "      <td>...</td>\n",
       "      <td>...</td>\n",
       "    </tr>\n",
       "    <tr>\n",
       "      <th>73730</th>\n",
       "      <td>73731.0</td>\n",
       "      <td>330220.0</td>\n",
       "      <td>1</td>\n",
       "      <td>190.0</td>\n",
       "      <td>73731</td>\n",
       "      <td>33</td>\n",
       "      <td>3.0</td>\n",
       "      <td>0.000069</td>\n",
       "      <td>0</td>\n",
       "      <td>0</td>\n",
       "      <td>...</td>\n",
       "      <td>0</td>\n",
       "      <td>0</td>\n",
       "      <td>0</td>\n",
       "      <td>0</td>\n",
       "      <td>0</td>\n",
       "      <td>0</td>\n",
       "      <td>0</td>\n",
       "      <td>61.407311</td>\n",
       "      <td>177.604857</td>\n",
       "      <td>POLYGON ((1752362.052 5434499.195, 1752375.208...</td>\n",
       "    </tr>\n",
       "    <tr>\n",
       "      <th>73731</th>\n",
       "      <td>73732.0</td>\n",
       "      <td>357378.0</td>\n",
       "      <td>1</td>\n",
       "      <td>132.0</td>\n",
       "      <td>73732</td>\n",
       "      <td>63</td>\n",
       "      <td>2.0</td>\n",
       "      <td>0.000085</td>\n",
       "      <td>0</td>\n",
       "      <td>0</td>\n",
       "      <td>...</td>\n",
       "      <td>0</td>\n",
       "      <td>0</td>\n",
       "      <td>0</td>\n",
       "      <td>0</td>\n",
       "      <td>0</td>\n",
       "      <td>0</td>\n",
       "      <td>0</td>\n",
       "      <td>47.878356</td>\n",
       "      <td>131.582598</td>\n",
       "      <td>POLYGON ((1750067.567 5426183.099, 1750072.253...</td>\n",
       "    </tr>\n",
       "    <tr>\n",
       "      <th>73732</th>\n",
       "      <td>73733.0</td>\n",
       "      <td>939420.0</td>\n",
       "      <td>1</td>\n",
       "      <td>340.0</td>\n",
       "      <td>73733</td>\n",
       "      <td>23</td>\n",
       "      <td>5.0</td>\n",
       "      <td>0.000107</td>\n",
       "      <td>0</td>\n",
       "      <td>0</td>\n",
       "      <td>...</td>\n",
       "      <td>0</td>\n",
       "      <td>0</td>\n",
       "      <td>0</td>\n",
       "      <td>0</td>\n",
       "      <td>0</td>\n",
       "      <td>0</td>\n",
       "      <td>0</td>\n",
       "      <td>66.320877</td>\n",
       "      <td>247.412371</td>\n",
       "      <td>POLYGON ((1750235.005 5434626.103, 1750243.300...</td>\n",
       "    </tr>\n",
       "    <tr>\n",
       "      <th>73733</th>\n",
       "      <td>73734.0</td>\n",
       "      <td>307626.0</td>\n",
       "      <td>1</td>\n",
       "      <td>177.0</td>\n",
       "      <td>73734</td>\n",
       "      <td>64</td>\n",
       "      <td>3.0</td>\n",
       "      <td>0.000285</td>\n",
       "      <td>0</td>\n",
       "      <td>0</td>\n",
       "      <td>...</td>\n",
       "      <td>2</td>\n",
       "      <td>0</td>\n",
       "      <td>0</td>\n",
       "      <td>0</td>\n",
       "      <td>0</td>\n",
       "      <td>0</td>\n",
       "      <td>0</td>\n",
       "      <td>47.441329</td>\n",
       "      <td>110.982676</td>\n",
       "      <td>POLYGON ((1750454.255 5425527.410, 1750464.941...</td>\n",
       "    </tr>\n",
       "    <tr>\n",
       "      <th>73734</th>\n",
       "      <td>73735.0</td>\n",
       "      <td>179781.0</td>\n",
       "      <td>1</td>\n",
       "      <td>66.0</td>\n",
       "      <td>73735</td>\n",
       "      <td>46</td>\n",
       "      <td>2.0</td>\n",
       "      <td>0.000168</td>\n",
       "      <td>0</td>\n",
       "      <td>0</td>\n",
       "      <td>...</td>\n",
       "      <td>0</td>\n",
       "      <td>0</td>\n",
       "      <td>0</td>\n",
       "      <td>0</td>\n",
       "      <td>0</td>\n",
       "      <td>0</td>\n",
       "      <td>0</td>\n",
       "      <td>32.617933</td>\n",
       "      <td>66.193350</td>\n",
       "      <td>POLYGON ((1748120.325 5428916.918, 1748125.955...</td>\n",
       "    </tr>\n",
       "  </tbody>\n",
       "</table>\n",
       "<p>73735 rows × 111 columns</p>\n",
       "</div>"
      ],
      "text/plain": [
       "       OBJECTID  Replacemen  Combustibl  FloorArea  BLDG_ID  SA2_ID  \\\n",
       "0           1.0    271128.0           1      156.0        1      67   \n",
       "1           2.0     66044.0           1       38.0        2      75   \n",
       "2           3.0     56944.0           1       21.0        3      23   \n",
       "3           4.0    307626.0           1      177.0        4      38   \n",
       "4           5.0    342386.0           1      197.0        5      60   \n",
       "...         ...         ...         ...        ...      ...     ...   \n",
       "73730   73731.0    330220.0           1      190.0    73731      33   \n",
       "73731   73732.0    357378.0           1      132.0    73732      63   \n",
       "73732   73733.0    939420.0           1      340.0    73733      23   \n",
       "73733   73734.0    307626.0           1      177.0    73734      64   \n",
       "73734   73735.0    179781.0           1       66.0    73735      46   \n",
       "\n",
       "       NightOccup  IgnProbBld  Ignited1  Ignited2  ...  Ignited94  Ignited95  \\\n",
       "0             3.0    0.000069         0         0  ...          0          0   \n",
       "1             1.0    0.000085         0         0  ...          0          0   \n",
       "2             0.0    0.000107         0         0  ...          0          0   \n",
       "3             3.0    0.000063        38         0  ...          0          0   \n",
       "4             3.0    0.000103         0         0  ...          0          0   \n",
       "...           ...         ...       ...       ...  ...        ...        ...   \n",
       "73730         3.0    0.000069         0         0  ...          0          0   \n",
       "73731         2.0    0.000085         0         0  ...          0          0   \n",
       "73732         5.0    0.000107         0         0  ...          0          0   \n",
       "73733         3.0    0.000285         0         0  ...          2          0   \n",
       "73734         2.0    0.000168         0         0  ...          0          0   \n",
       "\n",
       "       Ignited96  Ignited97  Ignited98  Ignited99  Ignited100  Shape_Leng  \\\n",
       "0              0          0          0          0           0   45.051241   \n",
       "1              0          0          0          0           0   26.385538   \n",
       "2              0          0          0          0           0   18.403319   \n",
       "3              0          0          0          0           0   58.186276   \n",
       "4              0          0          0          0           0   49.754989   \n",
       "...          ...        ...        ...        ...         ...         ...   \n",
       "73730          0          0          0          0           0   61.407311   \n",
       "73731          0          0          0          0           0   47.878356   \n",
       "73732          0          0          0          0           0   66.320877   \n",
       "73733          0          0          0          0           0   47.441329   \n",
       "73734          0          0          0          0           0   32.617933   \n",
       "\n",
       "       Shape_Area                                           geometry  \n",
       "0      113.167605  POLYGON ((1748253.040 5422598.875, 1748260.639...  \n",
       "1       43.480369  POLYGON ((1752652.050 5423208.879, 1752658.230...  \n",
       "2       20.965948  POLYGON ((1750820.799 5434554.465, 1750819.180...  \n",
       "3      171.309410  POLYGON ((1750052.705 5432505.105, 1750056.199...  \n",
       "4      139.654520  POLYGON ((1748074.536 5424848.405, 1748075.076...  \n",
       "...           ...                                                ...  \n",
       "73730  177.604857  POLYGON ((1752362.052 5434499.195, 1752375.208...  \n",
       "73731  131.582598  POLYGON ((1750067.567 5426183.099, 1750072.253...  \n",
       "73732  247.412371  POLYGON ((1750235.005 5434626.103, 1750243.300...  \n",
       "73733  110.982676  POLYGON ((1750454.255 5425527.410, 1750464.941...  \n",
       "73734   66.193350  POLYGON ((1748120.325 5428916.918, 1748125.955...  \n",
       "\n",
       "[73735 rows x 111 columns]"
      ]
     },
     "execution_count": 110,
     "metadata": {},
     "output_type": "execute_result"
    }
   ],
   "source": [
    "summaryArc"
   ]
  },
  {
   "cell_type": "markdown",
   "metadata": {},
   "source": [
    "## Parallel computing set up"
   ]
  },
  {
   "cell_type": "markdown",
   "metadata": {},
   "source": [
    "## Functions"
   ]
  },
  {
   "cell_type": "code",
   "execution_count": 111,
   "metadata": {
    "ExecuteTime": {
     "end_time": "2020-09-08T06:10:26.587234Z",
     "start_time": "2020-09-08T06:10:26.572690Z"
    },
    "code_folding": [
     2,
     23,
     33,
     46
    ],
    "colab": {},
    "colab_type": "code",
    "id": "Q7pHNrjZN8Zw"
   },
   "outputs": [],
   "source": [
    "# %%px\n",
    "\n",
    "def wind_scenario(wind_data=windSelected):\n",
    "    import numpy as np\n",
    "    i = 0\n",
    "    w = wind_data.values[i, 2]\n",
    "    dist = wind_data.values[i, 1]\n",
    "    b = wind_data.values[i, 3]\n",
    "    bear_max = b + 45  # wind direction\n",
    "    bear_min = b - 45\n",
    "    if b == 360:\n",
    "        bear_max = 45\n",
    "    if b <= 0:  # should not be necessary\n",
    "        bear_min = 0\n",
    "    if b == 999:\n",
    "        bear_max = 999\n",
    "        bear_min = 0\n",
    "        \n",
    "    print(f\"w_direction : {b}, w_bearing_max : {bear_max}, w_bearing_min : {bear_min}, w_distance : {dist}\")\n",
    "    return bear_max, bear_min, dist  # wind characteristics, bearing and distance\n",
    "\n",
    "\n",
    "def ignition(rngList=rngFile, edges=edgelist):\n",
    "    import numpy as np\n",
    "    import pandas as pd\n",
    "    rngList['rng'] = np.random.uniform(0, 1, size=rngList.values.shape[0])\n",
    "    rngList = rngList[rngList['rng'] < rngList['IgnProb_bl']]\n",
    "    initialIgnitions = len(rngList)\n",
    "    NewActiveEdges = edges[edges['source'].isin(rngList['source'])]\n",
    "    return NewActiveEdges, initialIgnitions\n",
    "\n",
    "\n",
    "def mask(t, activeEdges_d, listActivatedSources_d, w_b_max, w_b_min, w_d):\n",
    "    import numpy as np\n",
    "    if t == 0:  # special case at time=0\n",
    "        return activeEdges_d\n",
    "    else:\n",
    "        mask = (activeEdges_d.bearing.values < w_b_max) & (\n",
    "            activeEdges_d.bearing.values > w_b_min) & (activeEdges_d.distance < w_d)\n",
    "        NewActiveEdges = activeEdges_d[mask]\n",
    "        NewActiveEdges = NewActiveEdges[~NewActiveEdges.source.isin(\n",
    "            listActivatedSources_d)]\n",
    "        return NewActiveEdges\n",
    "\n",
    "\n",
    "def propagation(activeEdges_d, edges=edgelist):\n",
    "    import numpy as np\n",
    "    import pandas as pd\n",
    "    NewActiveEdges = edges[edges.source.isin(activeEdges_d.target)]\n",
    "    return NewActiveEdges"
   ]
  },
  {
   "cell_type": "code",
   "execution_count": 112,
   "metadata": {
    "ExecuteTime": {
     "end_time": "2020-09-08T06:10:27.292802Z",
     "start_time": "2020-09-08T06:10:27.280494Z"
    },
    "code_folding": []
   },
   "outputs": [],
   "source": [
    "# @dview.parallel(block = False) # The @parallel decorator breaks up elementwise operations and distributes them.\n",
    "def ffe_runs(n):\n",
    "    import numpy as np\n",
    "    import pandas as pd\n",
    "    from datetime import date\n",
    "    for scenario in tqdm(n):\n",
    "        # initial setup\n",
    "        listActivatedSources = []\n",
    "        listScenarioDataframes = []\n",
    "        condition = True\n",
    "        time = 0 \n",
    "        # wind conditions\n",
    "        w_bearing_max, w_bearing_min, w_distance = wind_scenario()\n",
    "        # ignition / initial state and edges selection\n",
    "        ActiveEdges, numberIgnitions = ignition()\n",
    "        if ActiveEdges.empty:\n",
    "            print(f\"no ignitions {numberIgnitions}\")\n",
    "            condition = False\n",
    "            continue\n",
    "        while condition: # spread burn zone\n",
    "            ActiveEdges = mask(time, ActiveEdges, listActivatedSources, w_bearing_max, w_bearing_min, w_distance)\n",
    "            if ActiveEdges.empty: #no more buildings to burn\n",
    "                break\n",
    "            burns = ActiveEdges.drop_duplicates(['source'], inplace=False)\n",
    "#             print(f\"Active edges {len(ActiveEdges)} / no duplicate = {len(burns)}\")\n",
    "            burns['time'] = time\n",
    "            listScenarioDataframes.append(burns)\n",
    "            listActivatedSources.extend(ActiveEdges.source.values)\n",
    "            ActiveEdges = propagation(ActiveEdges)\n",
    "            time += 1\n",
    "        \n",
    "        print(f'finishing scenario --- {scenario} time ---- {time} \\n started with {numberIgnitions} ignitions ')\n",
    "\n",
    "        Activations = pd.concat(listScenarioDataframes)\n",
    "        Activations[\"scenario\"] = scenario\n",
    "        Activations[\"InitialIgnitions\"] = numberIgnitions\n",
    "        Activations.to_parquet(folder / f'wind_{w_bearing_max}_{w_bearing_min}_{w_distance}_scenario_{str(date.today())}.parquet', engine='auto', compression=\"GZIP\")\n",
    "    return f'wind_{w_bearing_max}_{w_bearing_min}_{w_distance}_scenario_{str(date.today())}'"
   ]
  },
  {
   "cell_type": "markdown",
   "metadata": {
    "colab_type": "text",
    "id": "g9Vq0cczZSy4"
   },
   "source": [
    "# Run"
   ]
  },
  {
   "cell_type": "code",
   "execution_count": 113,
   "metadata": {
    "ExecuteTime": {
     "end_time": "2020-09-08T06:10:36.426986Z",
     "start_time": "2020-09-08T06:10:29.282062Z"
    },
    "tags": []
   },
   "outputs": [
    {
     "data": {
      "application/vnd.jupyter.widget-view+json": {
       "model_id": "508d7578713d49fa89146c597e8632bd",
       "version_major": 2,
       "version_minor": 0
      },
      "text/plain": [
       "HBox(children=(FloatProgress(value=0.0, max=1.0), HTML(value='')))"
      ]
     },
     "metadata": {},
     "output_type": "display_data"
    },
    {
     "name": "stdout",
     "output_type": "stream",
     "text": [
      "w_direction : 180, w_bearing_max : 225, w_bearing_min : 135, w_distance : 45\n",
      "finishing scenario --- 0 time ---- 39 \n",
      " started with 7 ignitions \n",
      "\n",
      "CPU times: user 5.22 s, sys: 743 ms, total: 5.96 s\n",
      "Wall time: 6.37 s\n"
     ]
    }
   ],
   "source": [
    "%%time\n",
    "fileName = ffe_runs(range(1))"
   ]
  },
  {
   "cell_type": "markdown",
   "metadata": {
    "colab_type": "text",
    "id": "ydETTY_fZB3Q"
   },
   "source": [
    "\n",
    "### Post processing and comparison"
   ]
  },
  {
   "cell_type": "code",
   "execution_count": 114,
   "metadata": {
    "ExecuteTime": {
     "end_time": "2020-09-08T06:10:52.411885Z",
     "start_time": "2020-09-08T06:10:37.850443Z"
    },
    "code_folding": [],
    "tags": []
   },
   "outputs": [],
   "source": [
    "# load scenarios Arc & Network\n",
    "testNetScenario = pd.read_parquet(folder / f'{fileName}.parquet')\n",
    "testArcScenario = summaryArc[['OBJECTID', 'Replacemen', 'Combustibl', 'FloorArea', 'BLDG_ID',\n",
    "       'SA2_ID', 'NightOccup', 'IgnProbBld', f\"Ignited{scenarioNumber}\",'Shape_Leng', 'Shape_Area']]\n",
    "# del testArc"
   ]
  },
  {
   "cell_type": "code",
   "execution_count": 115,
   "metadata": {
    "ExecuteTime": {
     "end_time": "2020-09-08T06:11:15.855085Z",
     "start_time": "2020-09-08T06:10:53.037183Z"
    },
    "code_folding": [],
    "tags": []
   },
   "outputs": [
    {
     "name": "stderr",
     "output_type": "stream",
     "text": [
      "/Users/alex/anaconda3/lib/python3.7/site-packages/ipykernel_launcher.py:14: UserWarning: Column names longer than 10 characters will be truncated when saved to ESRI Shapefile.\n",
      "  \n"
     ]
    },
    {
     "name": "stdout",
     "output_type": "stream",
     "text": [
      "CPU times: user 24.2 s, sys: 1.43 s, total: 25.7 s\n",
      "Wall time: 30.6 s\n"
     ]
    }
   ],
   "source": [
    "%%time\n",
    "# merge geometry to scenario an save to shapefile\n",
    "shape = gpd.read_file('data/shapefile/BuildingFootprints.shp')\n",
    "shape = shape[['BLDG_ID', 'geometry']]\n",
    "# shape\n",
    "ScenarioARC = pd.merge(testArcScenario, shape, how='left', on='BLDG_ID')\n",
    "ScenarioNET = pd.merge(testNetScenario, shape, how='left', left_on='source', right_on='BLDG_ID')\n",
    "# create as Geodataframe\n",
    "ScenarioARC = gpd.GeoDataFrame(ScenarioARC, geometry=ScenarioARC.geometry)\n",
    "ScenarioNET = gpd.GeoDataFrame(ScenarioNET, geometry=ScenarioNET.geometry)\n",
    "ScenarioNET = ScenarioNET.set_crs(epsg=2193)\n",
    "\n",
    "# save as shapefile\n",
    "ScenarioARC.to_file(comparisonFolder / f'Ignited{scenarioNumber}_ScenarioARC.shp',driver ='ESRI Shapefile') #, driver=\"GeoJSON\")\n",
    "ScenarioNET.to_file(comparisonFolder / f'Ignited{scenarioNumber}_ScenarioNET_{fileName}.shp',driver ='ESRI Shapefile') #, driver=\"GeoJSON\")"
   ]
  },
  {
   "cell_type": "markdown",
   "metadata": {},
   "source": [
    "#### Create Gif for comparisons "
   ]
  },
  {
   "cell_type": "code",
   "execution_count": 77,
   "metadata": {
    "ExecuteTime": {
     "end_time": "2020-09-08T06:17:13.330541Z",
     "start_time": "2020-09-08T06:17:13.303425Z"
    },
    "code_folding": [
     0
    ]
   },
   "outputs": [],
   "source": [
    "def save_ignitionsMaps(geoARC, geoNET, columnNameARC=f'Ignited{scenarioNumber}', columnNameNET=\"time\"):\n",
    "    \n",
    "    mapShape = gpd.read_file('data/shapefile/BuildingFootprints.shp')\n",
    "    maxNumber = max(max(geoNET[columnNameNET]), max(geoARC[columnNameARC]))\n",
    "    print(f\"maxNumber of iterations : {maxNumber}\")\n",
    "    \n",
    "    for i in tqdm(range(maxNumber)):\n",
    "        ImapARC = geoARC[(geoARC[columnNameARC]<=i) & (geoARC[columnNameARC]>0)]\n",
    "        ImapNET = geoNET[geoNET[columnNameNET]<=i]\n",
    "\n",
    "        fig, (ax1, ax2) = plt.subplots(nrows=1, ncols=2, sharex=True, sharey=True, figsize=(15, 10))\n",
    "\n",
    "        ImapARC.plot(color=\"red\", edgecolor=None, ax=ax1)\n",
    "        mapShape.geometry.boundary.plot(color=None,edgecolor='k',linewidth = 0.1,ax=ax1)\n",
    "        ImapNET.plot(color=\"red\", edgecolor=None, ax=ax2)\n",
    "        mapShape.geometry.boundary.plot(color=None,edgecolor='k',linewidth = 0.1,ax=ax2)\n",
    "\n",
    "        ax1.set_title('ArcPy scenario')\n",
    "        ax1.ticklabel_format(useOffset=False, style='plain')\n",
    "        ax1.tick_params(direction='out', length=6)\n",
    "        ax2.set_title('Network scenario')\n",
    "        ax2.ticklabel_format(useOffset=False, style='plain')\n",
    "        ax2.tick_params(direction=\"out\", length=6)\n",
    "\n",
    "        fig.autofmt_xdate()\n",
    "        plt.tight_layout()\n",
    "        plt.savefig(comparisonFolder / 'comparisonGIF' / f\"{i}.png\", dpi=70)\n",
    "        plt.close()"
   ]
  },
  {
   "cell_type": "code",
   "execution_count": 78,
   "metadata": {
    "ExecuteTime": {
     "end_time": "2020-09-08T06:36:17.689839Z",
     "start_time": "2020-09-08T06:17:14.768129Z"
    }
   },
   "outputs": [
    {
     "name": "stdout",
     "output_type": "stream",
     "text": [
      "maxNumber of iterations : 93\n"
     ]
    },
    {
     "data": {
      "application/vnd.jupyter.widget-view+json": {
       "model_id": "a7925eb573824496b5b7c142c972e7fa",
       "version_major": 2,
       "version_minor": 0
      },
      "text/plain": [
       "HBox(children=(FloatProgress(value=0.0, max=93.0), HTML(value='')))"
      ]
     },
     "metadata": {},
     "output_type": "display_data"
    },
    {
     "name": "stderr",
     "output_type": "stream",
     "text": [
      "/Users/alex/anaconda3/lib/python3.7/site-packages/geopandas/plotting.py:607: UserWarning: The GeoDataFrame you are attempting to plot is empty. Nothing has been displayed.\n",
      "  UserWarning,\n"
     ]
    },
    {
     "name": "stdout",
     "output_type": "stream",
     "text": [
      "\n"
     ]
    }
   ],
   "source": [
    "save_ignitionsMaps(ScenarioARC, ScenarioNET)"
   ]
  },
  {
   "cell_type": "code",
   "execution_count": null,
   "metadata": {},
   "outputs": [],
   "source": []
  }
 ],
 "metadata": {
  "colab": {
   "collapsed_sections": [],
   "include_colab_link": true,
   "machine_shape": "hm",
   "name": "FFErunsParallel.ipynb",
   "provenance": []
  },
  "gist": {
   "data": {
    "description": "paralllelComputingFFE_EQsampling.ipynb",
    "public": true
   },
   "id": ""
  },
  "kernelspec": {
   "display_name": "Python 3",
   "language": "python",
   "name": "python3"
  },
  "language_info": {
   "codemirror_mode": {
    "name": "ipython",
    "version": 3
   },
   "file_extension": ".py",
   "mimetype": "text/x-python",
   "name": "python",
   "nbconvert_exporter": "python",
   "pygments_lexer": "ipython3",
   "version": "3.7.3"
  },
  "notify_time": "5",
  "varInspector": {
   "cols": {
    "lenName": 16,
    "lenType": 16,
    "lenVar": 40
   },
   "kernels_config": {
    "python": {
     "delete_cmd_postfix": "",
     "delete_cmd_prefix": "del ",
     "library": "var_list.py",
     "varRefreshCmd": "print(var_dic_list())"
    },
    "r": {
     "delete_cmd_postfix": ") ",
     "delete_cmd_prefix": "rm(",
     "library": "var_list.r",
     "varRefreshCmd": "cat(var_dic_list()) "
    }
   },
   "position": {
    "height": "424.716px",
    "left": "774.812px",
    "right": "20px",
    "top": "122.991px",
    "width": "374.006px"
   },
   "types_to_exclude": [
    "module",
    "function",
    "builtin_function_or_method",
    "instance",
    "_Feature"
   ],
   "window_display": false
  }
 },
 "nbformat": 4,
 "nbformat_minor": 4
}
