{
 "cells": [
  {
   "cell_type": "markdown",
   "metadata": {
    "colab_type": "text",
    "id": "m42Qt2fkaDi8"
   },
   "source": [
    "# Import"
   ]
  },
  {
   "cell_type": "code",
   "execution_count": 1,
   "metadata": {
    "ExecuteTime": {
     "end_time": "2020-09-08T05:41:15.201756Z",
     "start_time": "2020-09-08T05:41:15.197097Z"
    }
   },
   "outputs": [],
   "source": [
    "from IPython.core.interactiveshell import InteractiveShell\n",
    "InteractiveShell.ast_node_interactivity = \"all\""
   ]
  },
  {
   "cell_type": "code",
   "execution_count": 4,
   "metadata": {
    "ExecuteTime": {
     "end_time": "2020-09-08T05:58:00.773032Z",
     "start_time": "2020-09-08T05:57:59.425233Z"
    },
    "colab": {},
    "colab_type": "code",
    "id": "7O35x2t8T4Dk"
   },
   "outputs": [],
   "source": [
    "import numpy as np\n",
    "import pandas as pd\n",
    "# import dask\n",
    "import dask.dataframe as dd\n",
    "import geopandas as gpd\n",
    "\n",
    "from pathlib import Path\n",
    "import sys\n",
    "import os\n",
    "import glob\n",
    "import multiprocessing as mp\n",
    "from datetime import date\n",
    "\n",
    "from tqdm.notebook import tqdm\n",
    "from dask.diagnostics import ProgressBar\n",
    "\n",
    "import contextily as ctx\n",
    "import matplotlib.pyplot as plt\n",
    "\n",
    "pd.options.mode.chained_assignment = None  # default='warn'"
   ]
  },
  {
   "cell_type": "markdown",
   "metadata": {},
   "source": [
    "# Data"
   ]
  },
  {
   "cell_type": "code",
   "execution_count": 5,
   "metadata": {
    "ExecuteTime": {
     "end_time": "2020-09-08T05:58:02.058408Z",
     "start_time": "2020-09-08T05:58:02.040951Z"
    },
    "colab": {},
    "colab_type": "code",
    "id": "QtfIG4oqTqPD",
    "tags": []
   },
   "outputs": [
    {
     "name": "stdout",
     "output_type": "stream",
     "text": [
      "CPU times: user 121 µs, sys: 105 µs, total: 226 µs\n",
      "Wall time: 291 µs\n"
     ]
    }
   ],
   "source": [
    "%%time\n",
    "# Folders\n",
    "repository = Path.cwd()\n",
    "dataFolder = repository.parent.parent / 'InOutRepoData' / 'FFE'\n",
    "folder = repository / 'data' / 'comparison_arcpy'"
   ]
  },
  {
   "cell_type": "code",
   "execution_count": 6,
   "metadata": {
    "ExecuteTime": {
     "end_time": "2020-09-08T05:58:03.281853Z",
     "start_time": "2020-09-08T05:58:02.954835Z"
    },
    "tags": []
   },
   "outputs": [
    {
     "name": "stdout",
     "output_type": "stream",
     "text": [
      "CPU times: user 255 ms, sys: 253 ms, total: 508 ms\n",
      "Wall time: 321 ms\n"
     ]
    }
   ],
   "source": [
    "%%time\n",
    "# Data\n",
    "\n",
    "wind_data = pd.read_csv(repository / 'data' / 'Copy_of_GD_wind.csv')\n",
    "edgelist = pd.read_parquet(repository / 'data' / 'BLDG_ID_ShapeEdges.parquet', engine='pyarrow')"
   ]
  },
  {
   "cell_type": "markdown",
   "metadata": {},
   "source": [
    "**data from the scenario HikWgtnMin_pfour_1-100     \n",
    "scenario1 initial ignition BLDG_ID : 217, 686, 32, 166, 15, 937, 46 which translate into edge_id 216, 685, 31, 165, 14, 936, 45**\n",
    "\n",
    "**Wind speed - critical distance 45m\n",
    "Wind direction NW**\n",
    "\n",
    "**18min processing time**"
   ]
  },
  {
   "cell_type": "code",
   "execution_count": 62,
   "metadata": {
    "ExecuteTime": {
     "end_time": "2020-09-08T06:10:25.756409Z",
     "start_time": "2020-09-08T06:10:25.749763Z"
    }
   },
   "outputs": [],
   "source": [
    "rngdata = {'source':[6041, 19624, 21701, 28758, \n",
    "                     40702,41549, 58068], \n",
    "           'IgnProb_bl':[1, 1, 1, 1, 1, 1, 1]} \n",
    "rngFile = pd.DataFrame(rngdata)"
   ]
  },
  {
   "cell_type": "markdown",
   "metadata": {},
   "source": [
    "## Parallel computing set up"
   ]
  },
  {
   "cell_type": "markdown",
   "metadata": {},
   "source": [
    "## Functions"
   ]
  },
  {
   "cell_type": "code",
   "execution_count": 63,
   "metadata": {
    "ExecuteTime": {
     "end_time": "2020-09-08T06:10:26.587234Z",
     "start_time": "2020-09-08T06:10:26.572690Z"
    },
    "code_folding": [
     23,
     33,
     46
    ],
    "colab": {},
    "colab_type": "code",
    "id": "Q7pHNrjZN8Zw"
   },
   "outputs": [],
   "source": [
    "# %%px\n",
    "\n",
    "def wind_scenario(wind_data):\n",
    "    import numpy as np\n",
    "    i=6407 # index for wind event (if 6407 => 45m distance, direction NW)\n",
    "#     i = np.random.randint(0, wind_data.values.shape[0])\n",
    "    w = wind_data.values[i, 2]\n",
    "    dist = wind_data.values[i, 1]\n",
    "    b = wind_data.values[i, 3]\n",
    "    bear_max = b + 45  # wind direction\n",
    "    bear_min = b - 45\n",
    "    if b == 360:\n",
    "        bear_max = 45\n",
    "    if b <= 0:  # should not be necessary\n",
    "        bear_min = 0\n",
    "    if b == 999:\n",
    "        bear_max = 999\n",
    "        bear_min = 0\n",
    "        \n",
    "    print(f\"w_direction : {b}, w_bearing_max : {bear_max}, w_bearing_min : {bear_min}, w_distance : {dist}\")\n",
    "    return bear_max, bear_min, dist  # wind characteristics, bearing and distance\n",
    "\n",
    "\n",
    "def ignition(rngList=rngFile, edges=edgelist):\n",
    "    import numpy as np\n",
    "    import pandas as pd\n",
    "    rngList['rng'] = np.random.uniform(0, 1, size=rngList.values.shape[0])\n",
    "    rngList = rngList[rngList['rng'] < rngList['IgnProb_bl']]\n",
    "    initialIgnitions = len(rngList)\n",
    "    NewActiveEdges = edges[edges['source'].isin(rngList['source'])]\n",
    "    return NewActiveEdges, initialIgnitions\n",
    "\n",
    "\n",
    "def mask(t, activeEdges_d, listActivatedSources_d, w_b_max, w_b_min, w_d):\n",
    "    import numpy as np\n",
    "    if t == 0:  # special case at time=0\n",
    "        return activeEdges_d\n",
    "    else:\n",
    "        mask = (activeEdges_d.bearing.values < w_b_max) & (\n",
    "            activeEdges_d.bearing.values > w_b_min) & (activeEdges_d.distance < w_d)\n",
    "        NewActiveEdges = activeEdges_d[mask]\n",
    "        NewActiveEdges = NewActiveEdges[~NewActiveEdges.source.isin(\n",
    "            listActivatedSources_d)]\n",
    "        return NewActiveEdges\n",
    "\n",
    "\n",
    "def propagation(activeEdges_d, edges=edgelist):\n",
    "    import numpy as np\n",
    "    import pandas as pd\n",
    "    NewActiveEdges = edges[edges.source.isin(activeEdges_d.target)]\n",
    "    return NewActiveEdges"
   ]
  },
  {
   "cell_type": "code",
   "execution_count": 64,
   "metadata": {
    "ExecuteTime": {
     "end_time": "2020-09-08T06:10:27.292802Z",
     "start_time": "2020-09-08T06:10:27.280494Z"
    },
    "code_folding": []
   },
   "outputs": [],
   "source": [
    "# @dview.parallel(block = False) # The @parallel decorator breaks up elementwise operations and distributes them.\n",
    "def ffe_runs(n):\n",
    "    import numpy as np\n",
    "    import pandas as pd\n",
    "    from datetime import date\n",
    "    for scenario in tqdm(n):\n",
    "        # initial setup\n",
    "        listActivatedSources = []\n",
    "        listScenarioDataframes = []\n",
    "        condition = True\n",
    "        time = 0 \n",
    "        # wind conditions\n",
    "        w_bearing_max, w_bearing_min, w_distance = wind_scenario(wind_data)\n",
    "        # ignition / initial state and edges selection\n",
    "        ActiveEdges, numberIgnitions = ignition()\n",
    "        if ActiveEdges.empty:\n",
    "            print(f\"no ignitions {numberIgnitions}\")\n",
    "            condition = False\n",
    "            continue\n",
    "        while condition: # spread burn zone\n",
    "            ActiveEdges = mask(time, ActiveEdges, listActivatedSources, w_bearing_max, w_bearing_min, w_distance)\n",
    "            if ActiveEdges.empty: #no more buildings to burn\n",
    "                break\n",
    "            burns = ActiveEdges.drop_duplicates(['source'], inplace=False)\n",
    "#             print(f\"Active edges {len(ActiveEdges)} / no duplicate = {len(burns)}\")\n",
    "            burns['time'] = time\n",
    "            listScenarioDataframes.append(burns)\n",
    "            listActivatedSources.extend(ActiveEdges.source.values)\n",
    "            ActiveEdges = propagation(ActiveEdges)\n",
    "            time += 1\n",
    "        \n",
    "        print(f'finishing scenario --- {scenario} time ---- {time} \\n started with {numberIgnitions} ignitions ')\n",
    "\n",
    "        Activations = pd.concat(listScenarioDataframes)\n",
    "        Activations[\"scenario\"] = scenario\n",
    "        Activations[\"InitialIgnitions\"] = numberIgnitions\n",
    "        Activations.to_parquet(folder / f'wind9807_scenario{scenario}_{str(date.today())}.parquet', engine='auto', compression=\"GZIP\")"
   ]
  },
  {
   "cell_type": "markdown",
   "metadata": {
    "colab_type": "text",
    "id": "g9Vq0cczZSy4"
   },
   "source": [
    "# Run"
   ]
  },
  {
   "cell_type": "code",
   "execution_count": 65,
   "metadata": {
    "ExecuteTime": {
     "end_time": "2020-09-08T06:10:36.426986Z",
     "start_time": "2020-09-08T06:10:29.282062Z"
    },
    "tags": []
   },
   "outputs": [
    {
     "data": {
      "application/vnd.jupyter.widget-view+json": {
       "model_id": "76a8baf3b5e34c4c9d61cc70381c1eff",
       "version_major": 2,
       "version_minor": 0
      },
      "text/plain": [
       "HBox(children=(FloatProgress(value=0.0, max=1.0), HTML(value='')))"
      ]
     },
     "metadata": {},
     "output_type": "display_data"
    },
    {
     "name": "stdout",
     "output_type": "stream",
     "text": [
      "w_direction : 315, w_bearing_max : 360, w_bearing_min : 270, w_distance : 45\n",
      "finishing scenario --- 0 time ---- 47 \n",
      " started with 7 ignitions \n",
      "\n",
      "CPU times: user 6.43 s, sys: 551 ms, total: 6.98 s\n",
      "Wall time: 7.14 s\n"
     ]
    }
   ],
   "source": [
    "%%time\n",
    "ffe_runs(range(1))"
   ]
  },
  {
   "cell_type": "markdown",
   "metadata": {
    "colab_type": "text",
    "id": "ydETTY_fZB3Q"
   },
   "source": [
    "\n",
    "### Post processing and comparison"
   ]
  },
  {
   "cell_type": "code",
   "execution_count": 66,
   "metadata": {
    "ExecuteTime": {
     "end_time": "2020-09-08T06:10:36.897004Z",
     "start_time": "2020-09-08T06:10:36.889675Z"
    },
    "code_folding": [
     0
    ]
   },
   "outputs": [],
   "source": [
    "# set directories\n",
    "repoFolder = Path.cwd()\n",
    "comparisonFolder = repoFolder.parent.parent / 'InOutRepoData' / 'FFE' / 'ProbaScenariosInput' / 'comparisonArcPyResults'"
   ]
  },
  {
   "cell_type": "code",
   "execution_count": 68,
   "metadata": {
    "ExecuteTime": {
     "end_time": "2020-09-08T06:10:52.411885Z",
     "start_time": "2020-09-08T06:10:37.850443Z"
    },
    "code_folding": [
     0
    ],
    "tags": []
   },
   "outputs": [
    {
     "name": "stdout",
     "output_type": "stream",
     "text": [
      "CPU times: user 13.8 s, sys: 630 ms, total: 14.4 s\n",
      "Wall time: 14.5 s\n"
     ]
    }
   ],
   "source": [
    "# load scenarios Arc & Network\n",
    "testNetScenario = pd.read_parquet(folder / f'wind9807_scenario0_{str(date.today())}.parquet')\n",
    "testArc = gpd.read_file(comparisonFolder / 'HikWgtnMin_pfourARCPY.shp')\n",
    "testArcScenario = testArc.iloc[:,:9]\n",
    "del testArc"
   ]
  },
  {
   "cell_type": "code",
   "execution_count": 69,
   "metadata": {
    "ExecuteTime": {
     "end_time": "2020-09-08T06:11:15.855085Z",
     "start_time": "2020-09-08T06:10:53.037183Z"
    },
    "code_folding": [
     0
    ],
    "tags": []
   },
   "outputs": [
    {
     "name": "stderr",
     "output_type": "stream",
     "text": [
      "/Users/alex/anaconda3/lib/python3.7/site-packages/ipykernel_launcher.py:14: UserWarning: Column names longer than 10 characters will be truncated when saved to ESRI Shapefile.\n",
      "  \n"
     ]
    }
   ],
   "source": [
    "# merge geometry to scenario an save to shapefile\n",
    "shape = gpd.read_file('data/shapefile/BuildingFootprints.shp')\n",
    "shape = shape[['BLDG_ID', 'geometry']]\n",
    "# shape\n",
    "ScenarioARC = pd.merge(testArcScenario, shape, how='left', on='BLDG_ID')\n",
    "ScenarioNET = pd.merge(testNetScenario, shape, how='left', left_on='source', right_on='BLDG_ID')\n",
    "# create as Geodataframe\n",
    "ScenarioARC = gpd.GeoDataFrame(ScenarioARC, geometry=ScenarioARC.geometry)\n",
    "ScenarioNET = gpd.GeoDataFrame(ScenarioNET, geometry=ScenarioNET.geometry)\n",
    "ScenarioNET = ScenarioNET.set_crs(epsg=2193)\n",
    "\n",
    "# save as shapefile\n",
    "ScenarioARC.to_file(comparisonFolder / 'ScenarioARC.shp',driver ='ESRI Shapefile') #, driver=\"GeoJSON\")\n",
    "ScenarioNET.to_file(comparisonFolder / 'wind9807__ScenarioNET.shp',driver ='ESRI Shapefile') #, driver=\"GeoJSON\")"
   ]
  },
  {
   "cell_type": "markdown",
   "metadata": {},
   "source": [
    "#### Create Gif for comparisons "
   ]
  },
  {
   "cell_type": "code",
   "execution_count": 76,
   "metadata": {
    "ExecuteTime": {
     "end_time": "2020-09-08T06:17:12.601301Z",
     "start_time": "2020-09-08T06:17:12.594622Z"
    },
    "code_folding": [
     0
    ]
   },
   "outputs": [
    {
     "name": "stdout",
     "output_type": "stream",
     "text": [
      "93\n",
      "46\n"
     ]
    }
   ],
   "source": [
    "# print max number of runs for each scenario\n",
    "print(ScenarioARC.Ignited1.max())\n",
    "print(ScenarioNET.time.max())"
   ]
  },
  {
   "cell_type": "code",
   "execution_count": 77,
   "metadata": {
    "ExecuteTime": {
     "end_time": "2020-09-08T06:17:13.330541Z",
     "start_time": "2020-09-08T06:17:13.303425Z"
    },
    "code_folding": [
     0
    ]
   },
   "outputs": [],
   "source": [
    "def save_ignitionsMaps(geoARC, geoNET, columnNameARC, columnNameNET):\n",
    "    \n",
    "    mapShape = gpd.read_file('data/shapefile/BuildingFootprints.shp')\n",
    "    maxNumber = max(max(geoNET[columnNameNET]), max(geoARC[columnNameARC]))\n",
    "    print(f\"maxNumber of iterations : {maxNumber}\")\n",
    "    \n",
    "    for i in tqdm(range(maxNumber)):\n",
    "        ImapARC = geoARC[(geoARC[columnNameARC]<=i) & (geoARC[columnNameARC]>0)]\n",
    "        ImapNET = geoNET[geoNET[columnNameNET]<=i]\n",
    "\n",
    "        fig, (ax1, ax2) = plt.subplots(nrows=1, ncols=2, sharex=True, sharey=True, figsize=(15, 10))\n",
    "\n",
    "        ImapARC.plot(color=\"red\", edgecolor=None, ax=ax1)\n",
    "        mapShape.geometry.boundary.plot(color=None,edgecolor='k',linewidth = 0.1,ax=ax1)\n",
    "        ImapNET.plot(color=\"red\", edgecolor=None, ax=ax2)\n",
    "        mapShape.geometry.boundary.plot(color=None,edgecolor='k',linewidth = 0.1,ax=ax2)\n",
    "\n",
    "        ax1.set_title('ArcPy scenario')\n",
    "        ax1.ticklabel_format(useOffset=False, style='plain')\n",
    "        ax1.tick_params(direction='out', length=6)\n",
    "        ax2.set_title('Network scenario')\n",
    "        ax2.ticklabel_format(useOffset=False, style='plain')\n",
    "        ax2.tick_params(direction=\"out\", length=6)\n",
    "\n",
    "        fig.autofmt_xdate()\n",
    "        plt.tight_layout()\n",
    "        plt.savefig(comparisonFolder / 'comparisonGIF' / f\"{i}.png\", dpi=70)\n",
    "        plt.close()"
   ]
  },
  {
   "cell_type": "code",
   "execution_count": 78,
   "metadata": {
    "ExecuteTime": {
     "end_time": "2020-09-08T06:36:17.689839Z",
     "start_time": "2020-09-08T06:17:14.768129Z"
    }
   },
   "outputs": [
    {
     "name": "stdout",
     "output_type": "stream",
     "text": [
      "maxNumber of iterations : 93\n"
     ]
    },
    {
     "data": {
      "application/vnd.jupyter.widget-view+json": {
       "model_id": "a7925eb573824496b5b7c142c972e7fa",
       "version_major": 2,
       "version_minor": 0
      },
      "text/plain": [
       "HBox(children=(FloatProgress(value=0.0, max=93.0), HTML(value='')))"
      ]
     },
     "metadata": {},
     "output_type": "display_data"
    },
    {
     "name": "stderr",
     "output_type": "stream",
     "text": [
      "/Users/alex/anaconda3/lib/python3.7/site-packages/geopandas/plotting.py:607: UserWarning: The GeoDataFrame you are attempting to plot is empty. Nothing has been displayed.\n",
      "  UserWarning,\n"
     ]
    },
    {
     "name": "stdout",
     "output_type": "stream",
     "text": [
      "\n"
     ]
    }
   ],
   "source": [
    "save_ignitionsMaps(ScenarioARC, ScenarioNET, \"Ignited1\", \"time\")"
   ]
  },
  {
   "cell_type": "code",
   "execution_count": null,
   "metadata": {},
   "outputs": [],
   "source": []
  }
 ],
 "metadata": {
  "colab": {
   "collapsed_sections": [],
   "include_colab_link": true,
   "machine_shape": "hm",
   "name": "FFErunsParallel.ipynb",
   "provenance": []
  },
  "gist": {
   "data": {
    "description": "paralllelComputingFFE_EQsampling.ipynb",
    "public": true
   },
   "id": ""
  },
  "kernelspec": {
   "display_name": "Python 3",
   "language": "python",
   "name": "python3"
  },
  "language_info": {
   "codemirror_mode": {
    "name": "ipython",
    "version": 3
   },
   "file_extension": ".py",
   "mimetype": "text/x-python",
   "name": "python",
   "nbconvert_exporter": "python",
   "pygments_lexer": "ipython3",
   "version": "3.7.3"
  },
  "notify_time": "5",
  "varInspector": {
   "cols": {
    "lenName": 16,
    "lenType": 16,
    "lenVar": 40
   },
   "kernels_config": {
    "python": {
     "delete_cmd_postfix": "",
     "delete_cmd_prefix": "del ",
     "library": "var_list.py",
     "varRefreshCmd": "print(var_dic_list())"
    },
    "r": {
     "delete_cmd_postfix": ") ",
     "delete_cmd_prefix": "rm(",
     "library": "var_list.r",
     "varRefreshCmd": "cat(var_dic_list()) "
    }
   },
   "position": {
    "height": "457.727px",
    "left": "774.812px",
    "right": "20px",
    "top": "122.991px",
    "width": "374.006px"
   },
   "types_to_exclude": [
    "module",
    "function",
    "builtin_function_or_method",
    "instance",
    "_Feature"
   ],
   "window_display": false
  }
 },
 "nbformat": 4,
 "nbformat_minor": 4
}
