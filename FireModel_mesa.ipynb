{
  "nbformat": 4,
  "nbformat_minor": 0,
  "metadata": {
    "colab": {
      "name": "FireModel_mesa.ipynb",
      "provenance": [],
      "authorship_tag": "ABX9TyPpM5zgXgmcnC3bo/WOkxrB",
      "include_colab_link": true
    },
    "kernelspec": {
      "name": "python3",
      "display_name": "Python 3"
    }
  },
  "cells": [
    {
      "cell_type": "markdown",
      "metadata": {
        "id": "view-in-github",
        "colab_type": "text"
      },
      "source": [
        "<a href=\"https://colab.research.google.com/github/37stu37/FFE/blob/master/FireModel_mesa.ipynb\" target=\"_parent\"><img src=\"https://colab.research.google.com/assets/colab-badge.svg\" alt=\"Open In Colab\"/></a>"
      ]
    },
    {
      "cell_type": "code",
      "metadata": {
        "colab_type": "code",
        "id": "7O-fKfCcDUlM",
        "colab": {}
      },
      "source": [
        "# !git clone https://github.com/projectmesa/mesa.git\n",
        "# !git clone https://github.com/Corvince/mesa-geo.git"
      ],
      "execution_count": 0,
      "outputs": []
    },
    {
      "cell_type": "code",
      "metadata": {
        "id": "AXNRLO1CixX9",
        "colab_type": "code",
        "colab": {}
      },
      "source": [
        "%%time \n",
        "!apt update\n",
        "!apt upgrade\n",
        "!apt install gdal-bin python-gdal python3-gdal \n",
        "# Install rtree - Geopandas requirment\n",
        "!apt install python3-rtree \n",
        "# Install Geopandas\n",
        "!pip install git+git://github.com/geopandas/geopandas.git\n",
        "# Install descartes - Geopandas requirment\n",
        "!pip install descartes \n",
        "\n",
        "# install rasterio\n",
        "!pip install rasterio\n",
        "\n",
        "# install mesa\n",
        "!pip install git+https://github.com/projectmesa/mesa\n",
        "\n",
        "# install mesa-geo\n",
        "!pip install git+https://github.com/corvince/mesa-geo.git#egg=mesa-geo"
      ],
      "execution_count": 0,
      "outputs": []
    },
    {
      "cell_type": "code",
      "metadata": {
        "id": "d3tAJ2xdtkZF",
        "colab_type": "code",
        "colab": {}
      },
      "source": [
        "import random\n",
        "\n",
        "import numpy as np\n",
        "\n",
        "import matplotlib.pyplot as plt\n",
        "%matplotlib inline\n",
        "\n",
        "from mesa import Model, Agent\n",
        "from mesa.time import RandomActivation\n",
        "from mesa.space import Grid\n",
        "from mesa.datacollection import DataCollector\n",
        "from mesa.batchrunner import BatchRunner\n",
        "from mesa_geo import GeoSpace, GeoAgent, AgentCreator"
      ],
      "execution_count": 0,
      "outputs": []
    },
    {
      "cell_type": "code",
      "metadata": {
        "id": "B59h_pkDtrVq",
        "colab_type": "code",
        "colab": {}
      },
      "source": [
        "class TreeCell(Agent):\n",
        "    '''\n",
        "    A tree cell.\n",
        "    \n",
        "    Attributes:\n",
        "        x, y: Grid coordinates\n",
        "        condition: Can be \"Fine\", \"On Fire\", or \"Burned Out\"\n",
        "        unique_id: (x,y) tuple. \n",
        "    \n",
        "    unique_id isn't strictly necessary here, but it's good practice to give one to each\n",
        "    agent anyway.\n",
        "    '''\n",
        "    def __init__(self, model, pos):\n",
        "        '''\n",
        "        Create a new tree.\n",
        "        Args:\n",
        "            pos: The tree's coordinates on the grid. Used as the unique_id\n",
        "        '''\n",
        "        super().__init__(pos, model)\n",
        "        self.pos = pos\n",
        "        self.unique_id = pos\n",
        "        self.condition = \"Fine\"\n",
        "        \n",
        "    def step(self):\n",
        "        '''\n",
        "        If the tree is on fire, spread it to fine trees nearby.\n",
        "        '''\n",
        "        if self.condition == \"On Fire\":\n",
        "            neighbors = self.model.grid.get_neighbors(self.pos, moore=False)\n",
        "            for neighbor in neighbors:\n",
        "                if neighbor.condition == \"Fine\":\n",
        "                    neighbor.condition = \"On Fire\"\n",
        "            self.condition = \"Burned Out\""
      ],
      "execution_count": 0,
      "outputs": []
    },
    {
      "cell_type": "code",
      "metadata": {
        "id": "aRFJkiu0tyHA",
        "colab_type": "code",
        "colab": {}
      },
      "source": [
        "class TreeCell(Agent):\n",
        "    '''\n",
        "    A tree cell.\n",
        "    \n",
        "    Attributes:\n",
        "        x, y: Grid coordinates\n",
        "        condition: Can be \"Fine\", \"On Fire\", or \"Burned Out\"\n",
        "        unique_id: (x,y) tuple. \n",
        "    \n",
        "    unique_id isn't strictly necessary here, but it's good practice to give one to each\n",
        "    agent anyway.\n",
        "    '''\n",
        "    def __init__(self, model, pos):\n",
        "        '''\n",
        "        Create a new tree.\n",
        "        Args:\n",
        "            pos: The tree's coordinates on the grid. Used as the unique_id\n",
        "        '''\n",
        "        super().__init__(pos, model)\n",
        "        self.pos = pos\n",
        "        self.unique_id = pos\n",
        "        self.condition = \"Fine\"\n",
        "        \n",
        "    def step(self):\n",
        "        '''\n",
        "        If the tree is on fire, spread it to fine trees nearby.\n",
        "        '''\n",
        "        if self.condition == \"On Fire\":\n",
        "            neighbors = self.model.grid.get_neighbors(self.pos, moore=False)\n",
        "            for neighbor in neighbors:\n",
        "                if neighbor.condition == \"Fine\":\n",
        "                    neighbor.condition = \"On Fire\"\n",
        "            self.condition = \"Burned Out\""
      ],
      "execution_count": 0,
      "outputs": []
    }
  ]
}