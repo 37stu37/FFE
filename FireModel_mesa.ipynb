{
  "nbformat": 4,
  "nbformat_minor": 0,
  "metadata": {
    "colab": {
      "name": "FireModel_mesa.ipynb",
      "provenance": [],
      "authorship_tag": "ABX9TyNArKEq4iTPoMK+wq+Gb+aq",
      "include_colab_link": true
    },
    "kernelspec": {
      "name": "python3",
      "display_name": "Python 3"
    }
  },
  "cells": [
    {
      "cell_type": "markdown",
      "metadata": {
        "id": "view-in-github",
        "colab_type": "text"
      },
      "source": [
        "<a href=\"https://colab.research.google.com/github/37stu37/FFE/blob/master/FireModel_mesa.ipynb\" target=\"_parent\"><img src=\"https://colab.research.google.com/assets/colab-badge.svg\" alt=\"Open In Colab\"/></a>"
      ]
    },
    {
      "cell_type": "code",
      "metadata": {
        "id": "sB2E05GA2OmX",
        "colab_type": "code",
        "colab": {
          "base_uri": "https://localhost:8080/",
          "height": 578
        },
        "outputId": "2d5553c8-03e3-463e-ca60-cbacd3d6ae85"
      },
      "source": [
        "!pip install git+https://github.com/projectmesa/mesa"
      ],
      "execution_count": 8,
      "outputs": [
        {
          "output_type": "stream",
          "text": [
            "Collecting git+https://github.com/projectmesa/mesa\n",
            "  Cloning https://github.com/projectmesa/mesa to /tmp/pip-req-build-zgixch4d\n",
            "  Running command git clone -q https://github.com/projectmesa/mesa /tmp/pip-req-build-zgixch4d\n",
            "Requirement already satisfied (use --upgrade to upgrade): Mesa==0.8.6 from git+https://github.com/projectmesa/mesa in /usr/local/lib/python3.6/dist-packages\n",
            "Requirement already satisfied: click in /usr/local/lib/python3.6/dist-packages (from Mesa==0.8.6) (7.0)\n",
            "Requirement already satisfied: cookiecutter in /usr/local/lib/python3.6/dist-packages (from Mesa==0.8.6) (1.7.0)\n",
            "Requirement already satisfied: networkx in /usr/local/lib/python3.6/dist-packages (from Mesa==0.8.6) (2.4)\n",
            "Requirement already satisfied: numpy in /usr/local/lib/python3.6/dist-packages (from Mesa==0.8.6) (1.17.5)\n",
            "Requirement already satisfied: pandas in /usr/local/lib/python3.6/dist-packages (from Mesa==0.8.6) (0.25.3)\n",
            "Requirement already satisfied: tornado in /usr/local/lib/python3.6/dist-packages (from Mesa==0.8.6) (4.5.3)\n",
            "Requirement already satisfied: tqdm in /usr/local/lib/python3.6/dist-packages (from Mesa==0.8.6) (4.28.1)\n",
            "Requirement already satisfied: jinja2>=2.7 in /usr/local/lib/python3.6/dist-packages (from cookiecutter->Mesa==0.8.6) (2.11.1)\n",
            "Requirement already satisfied: binaryornot>=0.2.0 in /usr/local/lib/python3.6/dist-packages (from cookiecutter->Mesa==0.8.6) (0.4.4)\n",
            "Requirement already satisfied: poyo>=0.1.0 in /usr/local/lib/python3.6/dist-packages (from cookiecutter->Mesa==0.8.6) (0.5.0)\n",
            "Requirement already satisfied: future>=0.15.2 in /usr/local/lib/python3.6/dist-packages (from cookiecutter->Mesa==0.8.6) (0.16.0)\n",
            "Requirement already satisfied: requests>=2.18.0 in /usr/local/lib/python3.6/dist-packages (from cookiecutter->Mesa==0.8.6) (2.21.0)\n",
            "Requirement already satisfied: whichcraft>=0.4.0 in /usr/local/lib/python3.6/dist-packages (from cookiecutter->Mesa==0.8.6) (0.6.1)\n",
            "Requirement already satisfied: jinja2-time>=0.1.0 in /usr/local/lib/python3.6/dist-packages (from cookiecutter->Mesa==0.8.6) (0.2.0)\n",
            "Requirement already satisfied: decorator>=4.3.0 in /usr/local/lib/python3.6/dist-packages (from networkx->Mesa==0.8.6) (4.4.1)\n",
            "Requirement already satisfied: python-dateutil>=2.6.1 in /usr/local/lib/python3.6/dist-packages (from pandas->Mesa==0.8.6) (2.6.1)\n",
            "Requirement already satisfied: pytz>=2017.2 in /usr/local/lib/python3.6/dist-packages (from pandas->Mesa==0.8.6) (2018.9)\n",
            "Requirement already satisfied: MarkupSafe>=0.23 in /usr/local/lib/python3.6/dist-packages (from jinja2>=2.7->cookiecutter->Mesa==0.8.6) (1.1.1)\n",
            "Requirement already satisfied: chardet>=3.0.2 in /usr/local/lib/python3.6/dist-packages (from binaryornot>=0.2.0->cookiecutter->Mesa==0.8.6) (3.0.4)\n",
            "Requirement already satisfied: idna<2.9,>=2.5 in /usr/local/lib/python3.6/dist-packages (from requests>=2.18.0->cookiecutter->Mesa==0.8.6) (2.8)\n",
            "Requirement already satisfied: urllib3<1.25,>=1.21.1 in /usr/local/lib/python3.6/dist-packages (from requests>=2.18.0->cookiecutter->Mesa==0.8.6) (1.24.3)\n",
            "Requirement already satisfied: certifi>=2017.4.17 in /usr/local/lib/python3.6/dist-packages (from requests>=2.18.0->cookiecutter->Mesa==0.8.6) (2019.11.28)\n",
            "Requirement already satisfied: arrow in /usr/local/lib/python3.6/dist-packages (from jinja2-time>=0.1.0->cookiecutter->Mesa==0.8.6) (0.15.5)\n",
            "Requirement already satisfied: six>=1.5 in /usr/local/lib/python3.6/dist-packages (from python-dateutil>=2.6.1->pandas->Mesa==0.8.6) (1.12.0)\n",
            "Building wheels for collected packages: Mesa\n",
            "  Building wheel for Mesa (setup.py) ... \u001b[?25l\u001b[?25hdone\n",
            "  Created wheel for Mesa: filename=Mesa-0.8.6-cp36-none-any.whl size=651614 sha256=1755d2fad34ebb5f90d4eed3c98eb8dbf67c60034cebc5dcf144b9e0a33968ba\n",
            "  Stored in directory: /tmp/pip-ephem-wheel-cache-phjb7uyf/wheels/0c/25/18/4eacb1c326da7f3d35d3c205bb51e7cdc48c0fe43f20f4def5\n",
            "Successfully built Mesa\n"
          ],
          "name": "stdout"
        }
      ]
    },
    {
      "cell_type": "code",
      "metadata": {
        "id": "T0Gg10Ts1XCh",
        "colab_type": "code",
        "colab": {
          "base_uri": "https://localhost:8080/",
          "height": 255
        },
        "outputId": "67bdb0c5-038e-43f6-ff7d-c613b246549c"
      },
      "source": [
        "# !git clone https://github.com/projectmesa/mesa.git\n",
        "# !git clone https://github.com/Corvince/mesa-geo.git"
      ],
      "execution_count": 2,
      "outputs": [
        {
          "output_type": "stream",
          "text": [
            "Cloning into 'mesa'...\n",
            "remote: Enumerating objects: 72, done.\u001b[K\n",
            "remote: Counting objects: 100% (72/72), done.\u001b[K\n",
            "remote: Compressing objects: 100% (59/59), done.\u001b[K\n",
            "remote: Total 6650 (delta 39), reused 26 (delta 12), pack-reused 6578\u001b[K\n",
            "Receiving objects: 100% (6650/6650), 8.66 MiB | 18.96 MiB/s, done.\n",
            "Resolving deltas: 100% (4209/4209), done.\n",
            "Cloning into 'mesa-geo'...\n",
            "remote: Enumerating objects: 25, done.\u001b[K\n",
            "remote: Counting objects: 100% (25/25), done.\u001b[K\n",
            "remote: Compressing objects: 100% (17/17), done.\u001b[K\n",
            "remote: Total 244 (delta 10), reused 14 (delta 7), pack-reused 219\u001b[K\n",
            "Receiving objects: 100% (244/244), 1.45 MiB | 16.35 MiB/s, done.\n",
            "Resolving deltas: 100% (103/103), done.\n"
          ],
          "name": "stdout"
        }
      ]
    },
    {
      "cell_type": "code",
      "metadata": {
        "id": "d3tAJ2xdtkZF",
        "colab_type": "code",
        "colab": {}
      },
      "source": [
        "import random\n",
        "\n",
        "import numpy as np\n",
        "\n",
        "import matplotlib.pyplot as plt\n",
        "%matplotlib inline\n",
        "\n",
        "from mesa import Model, Agent\n",
        "from mesa.time import RandomActivation\n",
        "from mesa.space import Grid\n",
        "from mesa.datacollection import DataCollector\n",
        "from mesa.batchrunner import BatchRunner"
      ],
      "execution_count": 0,
      "outputs": []
    },
    {
      "cell_type": "code",
      "metadata": {
        "id": "B59h_pkDtrVq",
        "colab_type": "code",
        "colab": {}
      },
      "source": [
        "class TreeCell(Agent):\n",
        "    '''\n",
        "    A tree cell.\n",
        "    \n",
        "    Attributes:\n",
        "        x, y: Grid coordinates\n",
        "        condition: Can be \"Fine\", \"On Fire\", or \"Burned Out\"\n",
        "        unique_id: (x,y) tuple. \n",
        "    \n",
        "    unique_id isn't strictly necessary here, but it's good practice to give one to each\n",
        "    agent anyway.\n",
        "    '''\n",
        "    def __init__(self, model, pos):\n",
        "        '''\n",
        "        Create a new tree.\n",
        "        Args:\n",
        "            pos: The tree's coordinates on the grid. Used as the unique_id\n",
        "        '''\n",
        "        super().__init__(pos, model)\n",
        "        self.pos = pos\n",
        "        self.unique_id = pos\n",
        "        self.condition = \"Fine\"\n",
        "        \n",
        "    def step(self):\n",
        "        '''\n",
        "        If the tree is on fire, spread it to fine trees nearby.\n",
        "        '''\n",
        "        if self.condition == \"On Fire\":\n",
        "            neighbors = self.model.grid.get_neighbors(self.pos, moore=False)\n",
        "            for neighbor in neighbors:\n",
        "                if neighbor.condition == \"Fine\":\n",
        "                    neighbor.condition = \"On Fire\"\n",
        "            self.condition = \"Burned Out\""
      ],
      "execution_count": 0,
      "outputs": []
    },
    {
      "cell_type": "code",
      "metadata": {
        "id": "aRFJkiu0tyHA",
        "colab_type": "code",
        "colab": {}
      },
      "source": [
        "class TreeCell(Agent):\n",
        "    '''\n",
        "    A tree cell.\n",
        "    \n",
        "    Attributes:\n",
        "        x, y: Grid coordinates\n",
        "        condition: Can be \"Fine\", \"On Fire\", or \"Burned Out\"\n",
        "        unique_id: (x,y) tuple. \n",
        "    \n",
        "    unique_id isn't strictly necessary here, but it's good practice to give one to each\n",
        "    agent anyway.\n",
        "    '''\n",
        "    def __init__(self, model, pos):\n",
        "        '''\n",
        "        Create a new tree.\n",
        "        Args:\n",
        "            pos: The tree's coordinates on the grid. Used as the unique_id\n",
        "        '''\n",
        "        super().__init__(pos, model)\n",
        "        self.pos = pos\n",
        "        self.unique_id = pos\n",
        "        self.condition = \"Fine\"\n",
        "        \n",
        "    def step(self):\n",
        "        '''\n",
        "        If the tree is on fire, spread it to fine trees nearby.\n",
        "        '''\n",
        "        if self.condition == \"On Fire\":\n",
        "            neighbors = self.model.grid.get_neighbors(self.pos, moore=False)\n",
        "            for neighbor in neighbors:\n",
        "                if neighbor.condition == \"Fine\":\n",
        "                    neighbor.condition = \"On Fire\"\n",
        "            self.condition = \"Burned Out\""
      ],
      "execution_count": 0,
      "outputs": []
    }
  ]
}