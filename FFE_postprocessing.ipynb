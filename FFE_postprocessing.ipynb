{
  "nbformat": 4,
  "nbformat_minor": 0,
  "metadata": {
    "colab": {
      "name": "Untitled0.ipynb",
      "provenance": [],
      "mount_file_id": "1v1lbaBCbEeaRXlLWebf43rMrzybni93G",
      "authorship_tag": "ABX9TyPF1FJ1iLpvP85FwX7bzwOX",
      "include_colab_link": true
    },
    "kernelspec": {
      "name": "python3",
      "display_name": "Python 3"
    }
  },
  "cells": [
    {
      "cell_type": "markdown",
      "metadata": {
        "id": "view-in-github",
        "colab_type": "text"
      },
      "source": [
        "<a href=\"https://colab.research.google.com/github/37stu37/FFE/blob/master/FFE_postprocessing.ipynb\" target=\"_parent\"><img src=\"https://colab.research.google.com/assets/colab-badge.svg\" alt=\"Open In Colab\"/></a>"
      ]
    },
    {
      "cell_type": "code",
      "metadata": {
        "id": "38DjDo5m4fUl",
        "colab_type": "code",
        "outputId": "308e5353-cc49-4d76-fed0-e166f7fbde0c",
        "colab": {
          "base_uri": "https://localhost:8080/",
          "height": 122
        }
      },
      "source": [
        "# Load the Drive helper and mount\n",
        "from google.colab import drive\n",
        "%tensorflow_version 2.x\n",
        "# This will prompt for authorization.\n",
        "drive.mount('/content/drive')"
      ],
      "execution_count": 1,
      "outputs": [
        {
          "output_type": "stream",
          "text": [
            "Go to this URL in a browser: https://accounts.google.com/o/oauth2/auth?client_id=947318989803-6bn6qk8qdgf4n4g3pfee6491hc0brc4i.apps.googleusercontent.com&redirect_uri=urn%3aietf%3awg%3aoauth%3a2.0%3aoob&response_type=code&scope=email%20https%3a%2f%2fwww.googleapis.com%2fauth%2fdocs.test%20https%3a%2f%2fwww.googleapis.com%2fauth%2fdrive%20https%3a%2f%2fwww.googleapis.com%2fauth%2fdrive.photos.readonly%20https%3a%2f%2fwww.googleapis.com%2fauth%2fpeopleapi.readonly\n",
            "\n",
            "Enter your authorization code:\n",
            "··········\n",
            "Mounted at /content/drive\n"
          ],
          "name": "stdout"
        }
      ]
    },
    {
      "cell_type": "code",
      "metadata": {
        "id": "AHUpIqTnsn8O",
        "colab_type": "code",
        "outputId": "765e7941-762e-4abf-bbc6-0a08765cef64",
        "colab": {
          "base_uri": "https://localhost:8080/",
          "height": 51
        }
      },
      "source": [
        "%%time \n",
        "%%capture\n",
        "!apt update\n",
        "!apt upgrade\n",
        "!apt install gdal-bin python-gdal python3-gdal \n",
        "# Install rtree - Geopandas requirment\n",
        "!apt install python3-rtree \n",
        "# Install Geopandas\n",
        "!pip install git+git://github.com/geopandas/geopandas.git\n",
        "# Install descartes - Geopandas requirment\n",
        "!pip install descartes \n",
        "!pip install memory_profiler"
      ],
      "execution_count": 2,
      "outputs": [
        {
          "output_type": "stream",
          "text": [
            "CPU times: user 589 ms, sys: 170 ms, total: 759 ms\n",
            "Wall time: 1min 25s\n"
          ],
          "name": "stdout"
        }
      ]
    },
    {
      "cell_type": "code",
      "metadata": {
        "id": "DIHmXBmk4kLL",
        "colab_type": "code",
        "outputId": "82afe81d-873a-4fcf-af98-c5a39cb4f183",
        "colab": {
          "base_uri": "https://localhost:8080/",
          "height": 51
        }
      },
      "source": [
        "%%time\n",
        "import datetime\n",
        "import glob\n",
        "import shutil\n",
        "from math import sqrt\n",
        "import os\n",
        "import matplotlib.pyplot as plt\n",
        "import bokeh\n",
        "import numpy as np\n",
        "import pandas as pd\n",
        "import geopandas as gpd\n",
        "from scipy.spatial import distance\n",
        "from shapely.geometry import box\n",
        "from shapely.geometry import shape\n",
        "from shapely.geometry import Point\n",
        "import networkx as nx\n",
        "from sys import getsizeof\n",
        "from numba import jit\n",
        "import dask.dataframe as dd\n",
        "import dask.array as da\n",
        "import dask\n",
        "from dask.distributed import Client\n",
        "from dask.diagnostics import ProgressBar\n",
        "%matplotlib inline\n",
        "%load_ext memory_profiler\n",
        "\n",
        "pd.options.mode.chained_assignment = None  # default='warn'"
      ],
      "execution_count": 3,
      "outputs": [
        {
          "output_type": "stream",
          "text": [
            "CPU times: user 950 ms, sys: 147 ms, total: 1.1 s\n",
            "Wall time: 2.83 s\n"
          ],
          "name": "stdout"
        }
      ]
    },
    {
      "cell_type": "code",
      "metadata": {
        "id": "gHzvowFt4lAs",
        "colab_type": "code",
        "outputId": "1d0fc838-6697-4ca5-a19d-0705c5003d82",
        "colab": {
          "base_uri": "https://localhost:8080/",
          "height": 262
        }
      },
      "source": [
        "client = Client(processes=False)\n",
        "client"
      ],
      "execution_count": 4,
      "outputs": [
        {
          "output_type": "stream",
          "text": [
            "/usr/local/lib/python3.6/dist-packages/distributed/bokeh/core.py:57: UserWarning: \n",
            "Failed to start diagnostics server on port 8787. [Errno 99] Cannot assign requested address\n",
            "  warnings.warn('\\n' + msg)\n",
            "/usr/local/lib/python3.6/dist-packages/distributed/deploy/local.py:197: UserWarning: \n",
            "Could not launch service 'bokeh' on port 8787. Got the following message:\n",
            "\n",
            "[Errno 99] Cannot assign requested address\n",
            "  self.scheduler.start(scheduler_address)\n"
          ],
          "name": "stderr"
        },
        {
          "output_type": "execute_result",
          "data": {
            "text/html": [
              "<table style=\"border: 2px solid white;\">\n",
              "<tr>\n",
              "<td style=\"vertical-align: top; border: 0px solid white\">\n",
              "<h3>Client</h3>\n",
              "<ul>\n",
              "  <li><b>Scheduler: </b>inproc://172.28.0.2/120/1\n",
              "</ul>\n",
              "</td>\n",
              "<td style=\"vertical-align: top; border: 0px solid white\">\n",
              "<h3>Cluster</h3>\n",
              "<ul>\n",
              "  <li><b>Workers: </b>1</li>\n",
              "  <li><b>Cores: </b>2</li>\n",
              "  <li><b>Memory: </b>13.66 GB</li>\n",
              "</ul>\n",
              "</td>\n",
              "</tr>\n",
              "</table>"
            ],
            "text/plain": [
              "<Client: scheduler='inproc://172.28.0.2/120/1' processes=1 cores=2>"
            ]
          },
          "metadata": {
            "tags": []
          },
          "execution_count": 4
        }
      ]
    },
    {
      "cell_type": "code",
      "metadata": {
        "id": "_CYH84Tq4r4p",
        "colab_type": "code",
        "colab": {}
      },
      "source": [
        "path = '/content/drive/My Drive/05_Sync/FFE/FireNetwork/00_input'\n",
        "path_output = '/content/drive/My Drive/05_Sync/FFE/FireNetwork/00_output'"
      ],
      "execution_count": 0,
      "outputs": []
    },
    {
      "cell_type": "code",
      "metadata": {
        "id": "qKwRdpcN4t1L",
        "colab_type": "code",
        "colab": {}
      },
      "source": [
        "# @dask.delayed\n",
        "def read_and_concatenate_parquets(prefix, path=path_output):\n",
        "  L = []\n",
        "  files = glob.glob(os.path.join(path_output, prefix))# output_scenario_0_step_0.parquet\n",
        "  for file in files:\n",
        "    pqt = dd.read_parquet(file)\n",
        "    L.append(pqt)\n",
        "  df = dd.concat(L)\n",
        "  return df"
      ],
      "execution_count": 0,
      "outputs": []
    },
    {
      "cell_type": "code",
      "metadata": {
        "colab_type": "code",
        "id": "EvxCdsnFb7kA",
        "colab": {}
      },
      "source": [
        "def count_fid_occurences(df):\n",
        "  count = df.groupby(['source'])['count'].sum().compute()\n",
        "  count_df = count.to_frame()\n",
        "  # count_df['count'] = count\n",
        "  # count_df['source'] = count_df.index\n",
        "  # count_df = count_df.reset_index()\n",
        "  # count_df = count_df.drop(columns='index')\n",
        "  return count_df"
      ],
      "execution_count": 0,
      "outputs": []
    },
    {
      "cell_type": "code",
      "metadata": {
        "id": "x5Kc8edMMXNV",
        "colab_type": "code",
        "colab": {}
      },
      "source": [
        "def load_shapefile(file_name, minx, miny, maxx, maxy):\n",
        "    # crop data\n",
        "    bbox = box(minx, miny, maxx, maxy)\n",
        "    # building point dataset\n",
        "    gdf_buildings = gpd.read_file(os.path.join(path, file_name), bbox=bbox)\n",
        "    max_extent = gdf_buildings.total_bounds\n",
        "    data_size = getsizeof(gdf_buildings) /(1024.0**3)\n",
        "    print(\"Shapefile extent : {}\".format(max_extent))\n",
        "    print(\"Asset loaded : {}\".format(len(gdf_buildings)))\n",
        "    # gdf.plot(column='IgnProb_bl', cmap='hsv', legend=True)\n",
        "    return gdf_buildings"
      ],
      "execution_count": 0,
      "outputs": []
    },
    {
      "cell_type": "code",
      "metadata": {
        "id": "aynSO44CJcQx",
        "colab_type": "code",
        "colab": {}
      },
      "source": [
        "def merge_coordinates_export_shape(ddf, gdf, name_output):\n",
        "  gdf = gdf[['TARGET_FID', 'geometry']]\n",
        "  df = pd.DataFrame(gdf)\n",
        "  # ddf = ddf.compute()\n",
        "  df_merge = ddf.merge(df, how='left', left_on='source', right_on='TARGET_FID')\n",
        "  gdf_merge = gpd.GeoDataFrame(df_merge, geometry='geometry')\n",
        "  gdf_merge.plot(column='count', cmap='seismic', legend=True)\n",
        "  gdf_merge.to_file(os.path.join(path_output, \"shapefiles\", name_output + \".shp\"))\n",
        "  return gdf_merge"
      ],
      "execution_count": 0,
      "outputs": []
    },
    {
      "cell_type": "code",
      "metadata": {
        "id": "2pb6yiAn-OPd",
        "colab_type": "code",
        "colab": {}
      },
      "source": [
        "# %%time\n",
        "# %memit\n",
        "df = read_and_concatenate_parquets(\"output_scenario*\")\n",
        "count_df = count_fid_occurences(df)"
      ],
      "execution_count": 0,
      "outputs": []
    },
    {
      "cell_type": "code",
      "metadata": {
        "id": "4sg0KktJMk4p",
        "colab_type": "code",
        "colab": {
          "base_uri": "https://localhost:8080/",
          "height": 51
        },
        "outputId": "b41d8b0f-fd72-47ce-d095-30cce3c7492b"
      },
      "source": [
        "gdf = load_shapefile(\"buildings_raw.shp\", 1740508, 5420049, 1755776, 5443033) # whole"
      ],
      "execution_count": 43,
      "outputs": [
        {
          "output_type": "stream",
          "text": [
            "Shapefile extent : [1740507.1581502  5420048.34765005 1755776.95354986 5443033.48509979]\n",
            "Asset loaded : 74245\n"
          ],
          "name": "stdout"
        }
      ]
    },
    {
      "cell_type": "code",
      "metadata": {
        "id": "sBQTH3k6O_Cv",
        "colab_type": "code",
        "colab": {
          "base_uri": "https://localhost:8080/",
          "height": 340
        },
        "outputId": "247b4491-77ea-416f-85df-66689599d208"
      },
      "source": [
        "%%time\n",
        "%memit\n",
        "gdf_count = merge_coordinates_export_shape(count_df, gdf, \"burned_buildings\")"
      ],
      "execution_count": 48,
      "outputs": [
        {
          "output_type": "stream",
          "text": [
            "peak memory: 668.75 MiB, increment: 0.24 MiB\n",
            "CPU times: user 37.1 s, sys: 3.01 s, total: 40.1 s\n",
            "Wall time: 50.4 s\n"
          ],
          "name": "stdout"
        },
        {
          "output_type": "display_data",
          "data": {
            "image/png": "[encoded data removed]",
            "text/plain": [
              "<Figure size 432x288 with 2 Axes>"
            ]
          },
          "metadata": {
            "tags": []
          }
        }
      ]
    },
    {
      "cell_type": "code",
      "metadata": {
        "id": "KOCS3ae3YP6t",
        "colab_type": "code",
        "colab": {}
      },
      "source": [
        "from bokeh.plotting import figure\n",
        "from bokeh.io import show, output_notebook\n",
        "\n",
        "# Create the blank plot\n",
        "p = figure(plot_height = 600, plot_width = 600, \n",
        "           title = 'Histogram of Burn Count',\n",
        "          x_axis_label = 'Delay (min)]', \n",
        "           y_axis_label = 'Number of Burned Buildings')\n",
        "\n",
        "# Add a quad glyph\n",
        "hist, edges = np.histogram(count_df, density=True, bins=50)\n",
        "p.quad(top=hist, bottom=0, fill_color='red', line_color='black') # left=edges[:-1], right=edges[1:], \n",
        "\n",
        "# Set to output the plot in the notebook\n",
        "output_notebook()\n",
        "# Show the plot\n",
        "show(p)"
      ],
      "execution_count": 0,
      "outputs": []
    }
  ]
}