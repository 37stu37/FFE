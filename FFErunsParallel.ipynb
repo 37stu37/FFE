{
  "nbformat": 4,
  "nbformat_minor": 0,
  "metadata": {
    "kernelspec": {
      "display_name": "Python 3",
      "language": "python",
      "name": "python3"
    },
    "language_info": {
      "codemirror_mode": {
        "name": "ipython",
        "version": 3
      },
      "file_extension": ".py",
      "mimetype": "text/x-python",
      "name": "python",
      "nbconvert_exporter": "python",
      "pygments_lexer": "ipython3",
      "version": "3.7.3"
    },
    "colab": {
      "name": "FFErunsParallel.ipynb",
      "provenance": [],
      "collapsed_sections": [],
      "toc_visible": true,
      "machine_shape": "hm",
      "include_colab_link": true
    }
  },
  "cells": [
    {
      "cell_type": "markdown",
      "metadata": {
        "id": "view-in-github",
        "colab_type": "text"
      },
      "source": [
        "<a href=\"https://colab.research.google.com/github/37stu37/FFE/blob/master/FFErunsParallel.ipynb\" target=\"_parent\"><img src=\"https://colab.research.google.com/assets/colab-badge.svg\" alt=\"Open In Colab\"/></a>"
      ]
    },
    {
      "cell_type": "code",
      "metadata": {
        "id": "Q60FM7ZmLRAp",
        "colab_type": "code",
        "colab": {
          "base_uri": "https://localhost:8080/",
          "height": 34
        },
        "outputId": "2a704f6d-d01a-4718-f889-e082ebb24db4"
      },
      "source": [
        "from google.colab import drive\n",
        "drive.mount('/content/drive')"
      ],
      "execution_count": 14,
      "outputs": [
        {
          "output_type": "stream",
          "text": [
            "Drive already mounted at /content/drive; to attempt to forcibly remount, call drive.mount(\"/content/drive\", force_remount=True).\n"
          ],
          "name": "stdout"
        }
      ]
    },
    {
      "cell_type": "code",
      "metadata": {
        "id": "tVopy6D8J8u5",
        "colab_type": "code",
        "colab": {
          "base_uri": "https://localhost:8080/",
          "height": 34
        },
        "outputId": "bdbca5ad-d2ac-4e28-9043-559213bb130b"
      },
      "source": [
        "!pwd"
      ],
      "execution_count": 15,
      "outputs": [
        {
          "output_type": "stream",
          "text": [
            "/content/drive/My Drive/Colab Notebooks/01_Repository/FFE\n"
          ],
          "name": "stdout"
        }
      ]
    },
    {
      "cell_type": "markdown",
      "metadata": {
        "id": "m42Qt2fkaDi8",
        "colab_type": "text"
      },
      "source": [
        "**Imports**\n",
        "---\n",
        "\n"
      ]
    },
    {
      "cell_type": "code",
      "metadata": {
        "id": "uKZJJqJ6DNv-",
        "colab_type": "code",
        "colab": {
          "base_uri": "https://localhost:8080/",
          "height": 34
        },
        "outputId": "78777c3c-7c0e-4780-ea73-fe1c10bd7cb7"
      },
      "source": [
        "%cd /content/drive/My Drive/Colab Notebooks/01_Repository/FFE"
      ],
      "execution_count": 16,
      "outputs": [
        {
          "output_type": "stream",
          "text": [
            "/content/drive/My Drive/Colab Notebooks/01_Repository/FFE\n"
          ],
          "name": "stdout"
        }
      ]
    },
    {
      "cell_type": "code",
      "metadata": {
        "id": "4XlNrKZfdLpN",
        "colab_type": "code",
        "colab": {}
      },
      "source": [
        "%%capture\n",
        "!pip install memory_profiler\n",
        "!pip install git+https://github.com/dask/fastparquet"
      ],
      "execution_count": null,
      "outputs": []
    },
    {
      "cell_type": "code",
      "metadata": {
        "id": "7O35x2t8T4Dk",
        "colab_type": "code",
        "colab": {}
      },
      "source": [
        "import numpy as np\n",
        "import pandas as pd\n",
        "from pathlib import Path\n",
        "import memory_profiler as mem_profile\n",
        "import sys\n",
        "import os\n",
        "import glob\n",
        "import multiprocessing as mp\n",
        "# import zipfile\n",
        "from zipfile import ZipFile \n",
        "\n",
        "\n",
        "pd.options.mode.chained_assignment = None  # default='warn'"
      ],
      "execution_count": 18,
      "outputs": []
    },
    {
      "cell_type": "markdown",
      "metadata": {
        "id": "-k0T2KtSZ6iK",
        "colab_type": "text"
      },
      "source": [
        "**Load data from zip file**\n",
        "---\n",
        "\n"
      ]
    },
    {
      "cell_type": "code",
      "metadata": {
        "id": "NRP6grinJyed",
        "colab_type": "code",
        "colab": {}
      },
      "source": [
        "edge_file = './output/FinnShapeEdges.parquet'\n",
        "wind_file = './data/Copy of GD_wind.csv'\n",
        "folder = '../../02_Output/ffeFinnComparison'"
      ],
      "execution_count": 19,
      "outputs": []
    },
    {
      "cell_type": "code",
      "metadata": {
        "id": "QtfIG4oqTqPD",
        "colab_type": "code",
        "colab": {}
      },
      "source": [
        "# load data\n",
        "wind_data = pd.read_csv(wind_file) \n",
        "edgelist = pd.read_parquet(edge_file, engine='pyarrow')"
      ],
      "execution_count": 20,
      "outputs": []
    },
    {
      "cell_type": "code",
      "metadata": {
        "id": "RWVAvauKu_Lx",
        "colab_type": "code",
        "colab": {
          "base_uri": "https://localhost:8080/",
          "height": 419
        },
        "outputId": "c4a82eb4-05d2-463c-d7ca-f485e0997d5e"
      },
      "source": [
        "edgelist"
      ],
      "execution_count": 21,
      "outputs": [
        {
          "output_type": "execute_result",
          "data": {
            "text/html": [
              "<div>\n",
              "<style scoped>\n",
              "    .dataframe tbody tr th:only-of-type {\n",
              "        vertical-align: middle;\n",
              "    }\n",
              "\n",
              "    .dataframe tbody tr th {\n",
              "        vertical-align: top;\n",
              "    }\n",
              "\n",
              "    .dataframe thead th {\n",
              "        text-align: right;\n",
              "    }\n",
              "</style>\n",
              "<table border=\"1\" class=\"dataframe\">\n",
              "  <thead>\n",
              "    <tr style=\"text-align: right;\">\n",
              "      <th></th>\n",
              "      <th>source</th>\n",
              "      <th>target</th>\n",
              "      <th>distance</th>\n",
              "      <th>bearing</th>\n",
              "      <th>IgnProbBld</th>\n",
              "    </tr>\n",
              "  </thead>\n",
              "  <tbody>\n",
              "    <tr>\n",
              "      <th>0</th>\n",
              "      <td>0</td>\n",
              "      <td>41</td>\n",
              "      <td>60.968041</td>\n",
              "      <td>212.179941</td>\n",
              "      <td>0.000040</td>\n",
              "    </tr>\n",
              "    <tr>\n",
              "      <th>1</th>\n",
              "      <td>0</td>\n",
              "      <td>391</td>\n",
              "      <td>15.516658</td>\n",
              "      <td>177.323424</td>\n",
              "      <td>0.000040</td>\n",
              "    </tr>\n",
              "    <tr>\n",
              "      <th>2</th>\n",
              "      <td>0</td>\n",
              "      <td>2658</td>\n",
              "      <td>21.955722</td>\n",
              "      <td>211.123870</td>\n",
              "      <td>0.000040</td>\n",
              "    </tr>\n",
              "    <tr>\n",
              "      <th>3</th>\n",
              "      <td>0</td>\n",
              "      <td>5879</td>\n",
              "      <td>70.803928</td>\n",
              "      <td>136.343138</td>\n",
              "      <td>0.000040</td>\n",
              "    </tr>\n",
              "    <tr>\n",
              "      <th>4</th>\n",
              "      <td>0</td>\n",
              "      <td>6831</td>\n",
              "      <td>56.944753</td>\n",
              "      <td>315.930929</td>\n",
              "      <td>0.000040</td>\n",
              "    </tr>\n",
              "    <tr>\n",
              "      <th>...</th>\n",
              "      <td>...</td>\n",
              "      <td>...</td>\n",
              "      <td>...</td>\n",
              "      <td>...</td>\n",
              "      <td>...</td>\n",
              "    </tr>\n",
              "    <tr>\n",
              "      <th>3174925</th>\n",
              "      <td>73734</td>\n",
              "      <td>61496</td>\n",
              "      <td>50.604073</td>\n",
              "      <td>38.305974</td>\n",
              "      <td>0.000253</td>\n",
              "    </tr>\n",
              "    <tr>\n",
              "      <th>3174926</th>\n",
              "      <td>73734</td>\n",
              "      <td>64897</td>\n",
              "      <td>1.027726</td>\n",
              "      <td>314.500873</td>\n",
              "      <td>0.000253</td>\n",
              "    </tr>\n",
              "    <tr>\n",
              "      <th>3174927</th>\n",
              "      <td>73734</td>\n",
              "      <td>65052</td>\n",
              "      <td>50.627069</td>\n",
              "      <td>32.191654</td>\n",
              "      <td>0.000253</td>\n",
              "    </tr>\n",
              "    <tr>\n",
              "      <th>3174928</th>\n",
              "      <td>73734</td>\n",
              "      <td>70488</td>\n",
              "      <td>75.132354</td>\n",
              "      <td>231.759090</td>\n",
              "      <td>0.000253</td>\n",
              "    </tr>\n",
              "    <tr>\n",
              "      <th>3174929</th>\n",
              "      <td>73734</td>\n",
              "      <td>70502</td>\n",
              "      <td>13.301427</td>\n",
              "      <td>357.051472</td>\n",
              "      <td>0.000253</td>\n",
              "    </tr>\n",
              "  </tbody>\n",
              "</table>\n",
              "<p>3174930 rows × 5 columns</p>\n",
              "</div>"
            ],
            "text/plain": [
              "         source  target   distance     bearing  IgnProbBld\n",
              "0             0      41  60.968041  212.179941    0.000040\n",
              "1             0     391  15.516658  177.323424    0.000040\n",
              "2             0    2658  21.955722  211.123870    0.000040\n",
              "3             0    5879  70.803928  136.343138    0.000040\n",
              "4             0    6831  56.944753  315.930929    0.000040\n",
              "...         ...     ...        ...         ...         ...\n",
              "3174925   73734   61496  50.604073   38.305974    0.000253\n",
              "3174926   73734   64897   1.027726  314.500873    0.000253\n",
              "3174927   73734   65052  50.627069   32.191654    0.000253\n",
              "3174928   73734   70488  75.132354  231.759090    0.000253\n",
              "3174929   73734   70502  13.301427  357.051472    0.000253\n",
              "\n",
              "[3174930 rows x 5 columns]"
            ]
          },
          "metadata": {
            "tags": []
          },
          "execution_count": 21
        }
      ]
    },
    {
      "cell_type": "markdown",
      "metadata": {
        "id": "IwzlmWDDZzNw",
        "colab_type": "text"
      },
      "source": [
        "**Definitions**\n",
        "---\n",
        "\n"
      ]
    },
    {
      "cell_type": "code",
      "metadata": {
        "id": "Q7pHNrjZN8Zw",
        "colab_type": "code",
        "colab": {}
      },
      "source": [
        "# %%timeit\n",
        "def wind_scenario(wind_data):\n",
        "      i = np.random.randint(0, wind_data.values.shape[0])\n",
        "      w = wind_data.values[i, 2]\n",
        "      dist = wind_data.values[i, 1]\n",
        "      b = wind_data.values[i, 3]\n",
        "      bear_max = b + 45  # wind direction\n",
        "      bear_min = b - 45\n",
        "      if b == 360:\n",
        "          bear_max = 45\n",
        "      if b <= 0:  # should not be necessary\n",
        "          bear_min = 0\n",
        "      if b == 999:\n",
        "          bear_max = 999\n",
        "          bear_min = 0\n",
        "      return bear_max, bear_min, dist # wind characteristics, bearing and distance\n",
        "\n",
        "\n",
        "def ignition(edges=edgelist):\n",
        "    rng = np.random.uniform(0, 1, size=edges.values.shape[0])\n",
        "    mask = rng < edges.IgnProbBld.values\n",
        "    NewActiveEdges = edges[mask]\n",
        "    return NewActiveEdges\n",
        "\n",
        "\n",
        "def mask(t, activeEdges_d, listActivatedSources_d, w_b_max, w_b_min, w_d):\n",
        "    if t==0: # special case at time=0\n",
        "        return activeEdges_d\n",
        "    else:\n",
        "        mask = (activeEdges_d.bearing.values < w_b_max) & (activeEdges_d.bearing.values < w_b_min) & (activeEdges_d.distance < w_d)\n",
        "        NewActiveEdges = activeEdges_d[mask]\n",
        "        NewActiveEdges = NewActiveEdges[~NewActiveEdges.source.isin(listActivatedSources_d)]\n",
        "        return NewActiveEdges\n",
        "\n",
        "\n",
        "def propagation(activeEdges_d, edges=edgelist):\n",
        "    NewActiveEdges = edges[edges.source.isin(activeEdges_d.target)]\n",
        "    return NewActiveEdges\n",
        "\n",
        "def clean_up(path):\n",
        "    files = glob.glob(path)\n",
        "    print(\" {} files removed\".format(len(files)))\n",
        "    for f in files:\n",
        "      os.remove(f)\n",
        "      \n",
        "def ffe_runs(n):\n",
        "    listScenarioDataframes = []\n",
        "    for scenario in range(n):\n",
        "        # initial setup\n",
        "        condition = True\n",
        "        listActivatedSources = []\n",
        "        time = 0 \n",
        "        # wind conditions\n",
        "        w_bearing_max, w_bearing_min, w_distance = wind_scenario(wind_data)\n",
        "        # ignition / initial state and edges selection\n",
        "        ActiveEdges = ignition()\n",
        "        if ActiveEdges.empty:\n",
        "            continue\n",
        "        while condition:\n",
        "            ActiveEdges = mask(time, ActiveEdges, listActivatedSources, w_bearing_max, w_bearing_min, w_distance)\n",
        "            if ActiveEdges.empty:\n",
        "                break\n",
        "            listScenarioDataframes.append(ActiveEdges)\n",
        "            listActivatedSources.extend(ActiveEdges.source.values)\n",
        "            ActiveEdges = propagation(ActiveEdges)\n",
        "            time += 1\n",
        "        \n",
        "        # print(f'finishing pid {os.getpid()} scenario --- {scenario}')\n",
        "        \n",
        "    print(\"scenario : {}, process id: {}\".format(scenario, os.getpid()))\n",
        "    Activations = pd.concat(listScenarioDataframes)\n",
        "    Activations[\"scenario\"] = scenario\n",
        "    Activations[\"pid\"] = os.getpid()\n",
        "    # change to 'auto' as pyarrow is giving problem\n",
        "    Activations.to_parquet(str(folder) + '/' + f'scenario{scenario}_pid{os.getpid()}_Activations.parquet', engine='auto', compression=\"GZIP\")\n",
        "    # # line to test feather format\n",
        "    # Activations.reset_index(inplace=True)\n",
        "    # Activations.to_feather(str(folder) + '/' + f'scenario{scenario}_pid{os.getpid()}_Activations.ftr')"
      ],
      "execution_count": 65,
      "outputs": []
    },
    {
      "cell_type": "markdown",
      "metadata": {
        "id": "g9Vq0cczZSy4",
        "colab_type": "text"
      },
      "source": [
        "**Main**\n",
        "---\n",
        "\n",
        "\n",
        "---\n",
        "\n"
      ]
    },
    {
      "cell_type": "code",
      "metadata": {
        "id": "cnDhYvazIOG4",
        "colab_type": "code",
        "colab": {
          "base_uri": "https://localhost:8080/",
          "height": 119
        },
        "outputId": "e95e630b-ba8d-4af3-f6df-67d9a7e20683"
      },
      "source": [
        "# run process on all available cores - need to input number of scenarios required\n",
        "%%time\n",
        "n_scenario = [2] * mp.cpu_count()\n",
        "pool = mp.Pool()\n",
        "results = pool.map(ffe_runs, n_scenario)"
      ],
      "execution_count": 64,
      "outputs": [
        {
          "output_type": "stream",
          "text": [
            "scenario : 1, process id: 2218\n",
            "scenario : 1, process id: 2217\n",
            "scenario : 1, process id: 2215\n",
            "scenario : 1, process id: 2216\n",
            "CPU times: user 141 ms, sys: 170 ms, total: 312 ms\n",
            "Wall time: 23.7 s\n"
          ],
          "name": "stdout"
        }
      ]
    },
    {
      "cell_type": "markdown",
      "metadata": {
        "id": "ydETTY_fZB3Q",
        "colab_type": "text"
      },
      "source": [
        "\n",
        "**Backup**\n",
        "---\n",
        "\n",
        "\n",
        "\n",
        "---\n",
        "\n"
      ]
    },
    {
      "cell_type": "code",
      "metadata": {
        "id": "zOHXu6ShOQJU",
        "colab_type": "code",
        "colab": {
          "base_uri": "https://localhost:8080/",
          "height": 34
        },
        "outputId": "4d267c89-8417-40f5-fb7b-a48b08f64bde"
      },
      "source": [
        "clean_up('/content/drive/My Drive/Colab Notebooks/02_Output/ffeFinnComparison/scenario*')"
      ],
      "execution_count": 61,
      "outputs": [
        {
          "output_type": "stream",
          "text": [
            " 4 files removed\n"
          ],
          "name": "stdout"
        }
      ]
    },
    {
      "cell_type": "code",
      "metadata": {
        "id": "wshLyMF0Oyr-",
        "colab_type": "code",
        "colab": {}
      },
      "source": [
        "# pqt = pd.read_parquet(\"/content/drive/My Drive/04_Cloud/01_Work/GNS/008_FFE/runs/output/scenario0_pid1998_Activations.parquet\")"
      ],
      "execution_count": null,
      "outputs": []
    },
    {
      "cell_type": "code",
      "metadata": {
        "id": "PyLLVwevIoNa",
        "colab_type": "code",
        "colab": {}
      },
      "source": [
        "# num_cores = multiprocessing.cpu_count()\n",
        "# print(num_cores)"
      ],
      "execution_count": null,
      "outputs": []
    }
  ]
}