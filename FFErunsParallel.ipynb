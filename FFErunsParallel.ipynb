{
  "nbformat": 4,
  "nbformat_minor": 0,
  "metadata": {
    "kernelspec": {
      "display_name": "Python 3",
      "language": "python",
      "name": "python3"
    },
    "language_info": {
      "codemirror_mode": {
        "name": "ipython",
        "version": 3
      },
      "file_extension": ".py",
      "mimetype": "text/x-python",
      "name": "python",
      "nbconvert_exporter": "python",
      "pygments_lexer": "ipython3",
      "version": "3.7.3"
    },
    "colab": {
      "name": "FFErunsParallel.ipynb",
      "provenance": [],
      "collapsed_sections": [],
      "machine_shape": "hm",
      "include_colab_link": true
    }
  },
  "cells": [
    {
      "cell_type": "markdown",
      "metadata": {
        "id": "view-in-github",
        "colab_type": "text"
      },
      "source": [
        "<a href=\"https://colab.research.google.com/github/37stu37/FFE/blob/master/FFErunsParallel.ipynb\" target=\"_parent\"><img src=\"https://colab.research.google.com/assets/colab-badge.svg\" alt=\"Open In Colab\"/></a>"
      ]
    },
    {
      "cell_type": "code",
      "metadata": {
        "id": "Q60FM7ZmLRAp",
        "colab_type": "code",
        "colab": {
          "base_uri": "https://localhost:8080/",
          "height": 128
        },
        "outputId": "062cdf6c-bf1d-4e05-96e9-269b2a47026f"
      },
      "source": [
        "from google.colab import drive\n",
        "drive.mount('/content/drive')"
      ],
      "execution_count": 1,
      "outputs": [
        {
          "output_type": "stream",
          "text": [
            "Go to this URL in a browser: https://accounts.google.com/o/oauth2/auth?client_id=947318989803-6bn6qk8qdgf4n4g3pfee6491hc0brc4i.apps.googleusercontent.com&redirect_uri=urn%3aietf%3awg%3aoauth%3a2.0%3aoob&response_type=code&scope=email%20https%3a%2f%2fwww.googleapis.com%2fauth%2fdocs.test%20https%3a%2f%2fwww.googleapis.com%2fauth%2fdrive%20https%3a%2f%2fwww.googleapis.com%2fauth%2fdrive.photos.readonly%20https%3a%2f%2fwww.googleapis.com%2fauth%2fpeopleapi.readonly\n",
            "\n",
            "Enter your authorization code:\n",
            "··········\n",
            "Mounted at /content/drive\n"
          ],
          "name": "stdout"
        }
      ]
    },
    {
      "cell_type": "markdown",
      "metadata": {
        "id": "m42Qt2fkaDi8",
        "colab_type": "text"
      },
      "source": [
        "**Imports**\n",
        "---\n",
        "\n"
      ]
    },
    {
      "cell_type": "code",
      "metadata": {
        "id": "7O35x2t8T4Dk",
        "colab_type": "code",
        "colab": {}
      },
      "source": [
        "import numpy as np\n",
        "import pandas as pd\n",
        "from pathlib import Path\n",
        "import sys\n",
        "import os\n",
        "import glob\n",
        "import multiprocessing as mp\n",
        "\n",
        "\n",
        "pd.options.mode.chained_assignment = None  # default='warn'"
      ],
      "execution_count": 3,
      "outputs": []
    },
    {
      "cell_type": "code",
      "metadata": {
        "id": "LWbJ3Ku9XIJv",
        "colab_type": "code",
        "colab": {}
      },
      "source": [
        "os.chdir('/content/drive/My Drive/Colab Notebooks/01_Repository/FFE')"
      ],
      "execution_count": 25,
      "outputs": []
    },
    {
      "cell_type": "code",
      "metadata": {
        "id": "NRP6grinJyed",
        "colab_type": "code",
        "colab": {}
      },
      "source": [
        "edge_file = './output/FinnShapeEdges.parquet'\n",
        "wind_file = './data/Copy of GD_wind.csv'\n",
        "folder = '../../02_Output/ffeFinnComparison'"
      ],
      "execution_count": 26,
      "outputs": []
    },
    {
      "cell_type": "markdown",
      "metadata": {
        "id": "-k0T2KtSZ6iK",
        "colab_type": "text"
      },
      "source": [
        "**Load files and update edgelist for proper ignition probabilities**\n",
        "---\n",
        "\n"
      ]
    },
    {
      "cell_type": "code",
      "metadata": {
        "id": "QtfIG4oqTqPD",
        "colab_type": "code",
        "colab": {}
      },
      "source": [
        "# load data\n",
        "wind_data = pd.read_csv(wind_file) \n",
        "edgelist = pd.read_parquet(edge_file, engine='pyarrow')"
      ],
      "execution_count": 27,
      "outputs": []
    },
    {
      "cell_type": "markdown",
      "metadata": {
        "id": "YdlOSi-IIOLd",
        "colab_type": "text"
      },
      "source": [
        "***probability of Ignition must be divided by the number of time the \"source\" is present in the edge list !!!!***"
      ]
    },
    {
      "cell_type": "code",
      "metadata": {
        "id": "UNQ4yVICIqQO",
        "colab_type": "code",
        "colab": {}
      },
      "source": [
        "FreqCorrection = edgelist[[\"source\"]]\n",
        "FreqCorrection['freq'] = edgelist.groupby('source')['source'].transform('count')\n",
        "FreqCorrection.drop_duplicates(inplace=True)"
      ],
      "execution_count": null,
      "outputs": []
    },
    {
      "cell_type": "code",
      "metadata": {
        "id": "sjyo4HitMB5d",
        "colab_type": "code",
        "colab": {}
      },
      "source": [
        "edgelist = edgelist.merge(FreqCorrection, on=['source'], how='left')\n",
        "edgelist['IgnProbBld'] = edgelist['IgnProbBld'] / edgelist['freq']\n",
        "# corrected edgelist with proper Ignition probability\n",
        "edgelist.drop(\"freq\", axis=1, inplace=True)"
      ],
      "execution_count": null,
      "outputs": []
    },
    {
      "cell_type": "markdown",
      "metadata": {
        "id": "Bk2RVZxgIxrX",
        "colab_type": "text"
      },
      "source": [
        "**Definitions**\n",
        "---"
      ]
    },
    {
      "cell_type": "code",
      "metadata": {
        "id": "Q7pHNrjZN8Zw",
        "colab_type": "code",
        "colab": {}
      },
      "source": [
        "# %%timeit\n",
        "def wind_scenario(wind_data):\n",
        "      i = np.random.randint(0, wind_data.values.shape[0])\n",
        "      w = wind_data.values[i, 2]\n",
        "      dist = wind_data.values[i, 1]\n",
        "      b = wind_data.values[i, 3]\n",
        "      bear_max = b + 45  # wind direction\n",
        "      bear_min = b - 45\n",
        "      if b == 360:\n",
        "          bear_max = 45\n",
        "      if b <= 0:  # should not be necessary\n",
        "          bear_min = 0\n",
        "      if b == 999:\n",
        "          bear_max = 999\n",
        "          bear_min = 0\n",
        "      return bear_max, bear_min, dist # wind characteristics, bearing and distance\n",
        "\n",
        "\n",
        "def ignition(edges=edgelist):\n",
        "    rng = np.random.uniform(0, 1, size=edges.values.shape[0])\n",
        "    mask = rng < edges.IgnProbBld.values\n",
        "    NewActiveEdges = edges[mask]\n",
        "    return NewActiveEdges\n",
        "\n",
        "\n",
        "def mask(t, activeEdges_d, listActivatedSources_d, w_b_max, w_b_min, w_d):\n",
        "    if t==0: # special case at time=0\n",
        "        return activeEdges_d\n",
        "    else:\n",
        "        mask = (activeEdges_d.bearing.values < w_b_max) & (activeEdges_d.bearing.values < w_b_min) & (activeEdges_d.distance < w_d)\n",
        "        NewActiveEdges = activeEdges_d[mask]\n",
        "        NewActiveEdges = NewActiveEdges[~NewActiveEdges.source.isin(listActivatedSources_d)]\n",
        "        return NewActiveEdges\n",
        "\n",
        "\n",
        "def propagation(activeEdges_d, edges=edgelist):\n",
        "    NewActiveEdges = edges[edges.source.isin(activeEdges_d.target)]\n",
        "    return NewActiveEdges\n",
        "\n",
        "\n",
        "def clean_up(path):\n",
        "    files = glob.glob(path)\n",
        "    print(\" {} files removed\".format(len(files)))\n",
        "    for f in files:\n",
        "      os.remove(f)\n",
        "\n",
        "\n",
        "def ffe_runs(n):\n",
        "    for scenario in range(n):\n",
        "        # initial setup\n",
        "        listActivatedSources = []\n",
        "        listScenarioDataframes = []\n",
        "        condition = True\n",
        "        time = 0 \n",
        "        # wind conditions\n",
        "        w_bearing_max, w_bearing_min, w_distance = wind_scenario(wind_data)\n",
        "        # ignition / initial state and edges selection\n",
        "        ActiveEdges = ignition()\n",
        "        # print(f\"{len(ActiveEdges)} ignitions\")\n",
        "        if ActiveEdges.empty:\n",
        "            continue\n",
        "        while condition: # spread burn zone\n",
        "            ActiveEdges = mask(time, ActiveEdges, listActivatedSources, w_bearing_max, w_bearing_min, w_distance)\n",
        "            if ActiveEdges.empty: #no more buildings to burn\n",
        "                break\n",
        "            listScenarioDataframes.append(ActiveEdges)\n",
        "            listActivatedSources.extend(ActiveEdges.source.values)\n",
        "            ActiveEdges = propagation(ActiveEdges)\n",
        "            time += 1\n",
        "        \n",
        "        print(f'finishing pid {os.getpid()} scenario --- {scenario} time ---- {time}')\n",
        "\n",
        "        Activations = pd.concat(listScenarioDataframes)\n",
        "        Activations[\"scenario\"] = scenario\n",
        "        Activations[\"pid\"] = os.getpid()\n",
        "        Activations.to_parquet(str(folder) + '/' + f'scenario{scenario}_pid{os.getpid()}.parquet', engine='auto', compression=\"GZIP\")\n",
        "        "
      ],
      "execution_count": 22,
      "outputs": []
    },
    {
      "cell_type": "markdown",
      "metadata": {
        "id": "g9Vq0cczZSy4",
        "colab_type": "text"
      },
      "source": [
        "**Main**\n",
        "---\n",
        "\n",
        "\n",
        "---\n",
        "\n"
      ]
    },
    {
      "cell_type": "code",
      "metadata": {
        "id": "qOYh6T3UD7TE",
        "colab_type": "code",
        "colab": {}
      },
      "source": [
        "ffe_runs(20)"
      ],
      "execution_count": null,
      "outputs": []
    },
    {
      "cell_type": "markdown",
      "metadata": {
        "id": "ETe6dNlQX6Iq",
        "colab_type": "text"
      },
      "source": [
        "##multiprocessing"
      ]
    },
    {
      "cell_type": "code",
      "metadata": {
        "id": "cnDhYvazIOG4",
        "colab_type": "code",
        "colab": {
          "base_uri": "https://localhost:8080/",
          "height": 68
        },
        "outputId": "4c0db123-b7de-4517-ad9e-be7be46067a6"
      },
      "source": [
        "# run process on all available cores - need to input number of scenarios required\n",
        "# %%time\n",
        "# scenario_needed = 3000\n",
        "# listPool = [int(scenario_needed/mp.cpu_count())] * mp.cpu_count() # to avoid RAM overload on CPU\n",
        "\n",
        "# print(f'{mp.cpu_count()} cores for {sum(listPool)} scenarios')\n",
        "# print(f'{len(listPool)} processes (pid) with {listPool[0]} scenarios each')\n",
        "# print(f'A total of {sum(listPool)} scenarios will be created')"
      ],
      "execution_count": null,
      "outputs": [
        {
          "output_type": "stream",
          "text": [
            "4 cores for 3000 scenarios\n",
            "4 processes (pid) with 750 scenarios each\n",
            "A total of 3000 scenarios will be created\n"
          ],
          "name": "stdout"
        }
      ]
    },
    {
      "cell_type": "code",
      "metadata": {
        "id": "FhTI5_jgykqc",
        "colab_type": "code",
        "colab": {}
      },
      "source": [
        "%%time\n",
        "# multiprocessing Main\n",
        "# print(\"Started\")\n",
        "# p = mp.Pool()\n",
        "# results = p.map(ffe_runs, listPool)\n",
        "# print(\"Complete\")"
      ],
      "execution_count": null,
      "outputs": []
    },
    {
      "cell_type": "markdown",
      "metadata": {
        "id": "ydETTY_fZB3Q",
        "colab_type": "text"
      },
      "source": [
        "\n",
        "**Backup**\n",
        "---\n",
        "\n",
        "\n",
        "\n",
        "---\n",
        "\n"
      ]
    },
    {
      "cell_type": "code",
      "metadata": {
        "id": "rSpb6R4lX5-X",
        "colab_type": "code",
        "colab": {
          "base_uri": "https://localhost:8080/",
          "height": 35
        },
        "outputId": "28c2dc0e-1e1d-4963-e66d-a04272808506"
      },
      "source": [
        "# p = Path('/content/drive/My Drive/Colab Notebooks/02_Output/ffeFinnComparison')\n",
        "# pid1415 = pd.read_parquet(p / 'scenario0_pid1415.parquet')\n",
        "# pid1416 = pd.read_parquet(p / 'scenario0_pid1416.parquet')\n",
        "# os.listdir(folder)"
      ],
      "execution_count": 24,
      "outputs": [
        {
          "output_type": "execute_result",
          "data": {
            "text/plain": [
              "['.ipynb_checkpoints']"
            ]
          },
          "metadata": {
            "tags": []
          },
          "execution_count": 24
        }
      ]
    },
    {
      "cell_type": "code",
      "metadata": {
        "id": "zOHXu6ShOQJU",
        "colab_type": "code",
        "colab": {
          "base_uri": "https://localhost:8080/",
          "height": 35
        },
        "outputId": "2064bfb7-8591-4790-f772-2ffcc3d3e934"
      },
      "source": [
        "# clean_up('/content/drive/My Drive/Colab Notebooks/02_Output/ffeFinnComparison/scenario*')"
      ],
      "execution_count": 23,
      "outputs": [
        {
          "output_type": "stream",
          "text": [
            " 3000 files removed\n"
          ],
          "name": "stdout"
        }
      ]
    },
    {
      "cell_type": "code",
      "metadata": {
        "id": "wshLyMF0Oyr-",
        "colab_type": "code",
        "colab": {}
      },
      "source": [
        "# pqt = pd.read_parquet(\"/content/drive/My Drive/04_Cloud/01_Work/GNS/008_FFE/runs/output/scenario0_pid1998_Activations.parquet\")"
      ],
      "execution_count": null,
      "outputs": []
    },
    {
      "cell_type": "code",
      "metadata": {
        "id": "PyLLVwevIoNa",
        "colab_type": "code",
        "colab": {}
      },
      "source": [
        "# num_cores = multiprocessing.cpu_count()\n",
        "# print(num_cores)"
      ],
      "execution_count": null,
      "outputs": []
    }
  ]
}