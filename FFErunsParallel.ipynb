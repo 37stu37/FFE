{
  "nbformat": 4,
  "nbformat_minor": 0,
  "metadata": {
    "kernelspec": {
      "display_name": "Python 3",
      "language": "python",
      "name": "python3"
    },
    "language_info": {
      "codemirror_mode": {
        "name": "ipython",
        "version": 3
      },
      "file_extension": ".py",
      "mimetype": "text/x-python",
      "name": "python",
      "nbconvert_exporter": "python",
      "pygments_lexer": "ipython3",
      "version": "3.7.3"
    },
    "colab": {
      "name": "FFErunsParallel.ipynb",
      "provenance": [],
      "collapsed_sections": [],
      "machine_shape": "hm",
      "include_colab_link": true
    }
  },
  "cells": [
    {
      "cell_type": "markdown",
      "metadata": {
        "id": "view-in-github",
        "colab_type": "text"
      },
      "source": [
        "<a href=\"https://colab.research.google.com/github/37stu37/FFE/blob/master/FFErunsParallel.ipynb\" target=\"_parent\"><img src=\"https://colab.research.google.com/assets/colab-badge.svg\" alt=\"Open In Colab\"/></a>"
      ]
    },
    {
      "cell_type": "code",
      "metadata": {
        "id": "Q60FM7ZmLRAp",
        "colab_type": "code",
        "colab": {
          "base_uri": "https://localhost:8080/",
          "height": 54
        },
        "outputId": "f106326a-bdb4-43dd-8b21-79dbfa7fc5ca"
      },
      "source": [
        "from google.colab import drive\n",
        "drive.mount('/content/drive')"
      ],
      "execution_count": 81,
      "outputs": [
        {
          "output_type": "stream",
          "text": [
            "Drive already mounted at /content/drive; to attempt to forcibly remount, call drive.mount(\"/content/drive\", force_remount=True).\n"
          ],
          "name": "stdout"
        }
      ]
    },
    {
      "cell_type": "markdown",
      "metadata": {
        "id": "m42Qt2fkaDi8",
        "colab_type": "text"
      },
      "source": [
        "**Imports**\n",
        "---\n",
        "\n"
      ]
    },
    {
      "cell_type": "code",
      "metadata": {
        "id": "uKZJJqJ6DNv-",
        "colab_type": "code",
        "colab": {
          "base_uri": "https://localhost:8080/",
          "height": 34
        },
        "outputId": "11db5c2b-2cf9-402b-b85a-ba7da6f61a60"
      },
      "source": [
        "%cd /content/drive/My Drive/Colab Notebooks/01_Repository/FFE"
      ],
      "execution_count": 82,
      "outputs": [
        {
          "output_type": "stream",
          "text": [
            "/content/drive/My Drive/Colab Notebooks/01_Repository/FFE\n"
          ],
          "name": "stdout"
        }
      ]
    },
    {
      "cell_type": "code",
      "metadata": {
        "id": "7O35x2t8T4Dk",
        "colab_type": "code",
        "colab": {}
      },
      "source": [
        "import numpy as np\n",
        "import pandas as pd\n",
        "from pathlib import Path\n",
        "import sys\n",
        "import os\n",
        "import glob\n",
        "import multiprocessing as mp\n",
        "\n",
        "\n",
        "pd.options.mode.chained_assignment = None  # default='warn'"
      ],
      "execution_count": 83,
      "outputs": []
    },
    {
      "cell_type": "markdown",
      "metadata": {
        "id": "-k0T2KtSZ6iK",
        "colab_type": "text"
      },
      "source": [
        "**Load data from zip file**\n",
        "---\n",
        "\n"
      ]
    },
    {
      "cell_type": "code",
      "metadata": {
        "id": "NRP6grinJyed",
        "colab_type": "code",
        "colab": {}
      },
      "source": [
        "edge_file = './output/FinnShapeEdges.parquet'\n",
        "wind_file = './data/Copy of GD_wind.csv'\n",
        "folder = '../../02_Output/ffeFinnComparison'"
      ],
      "execution_count": 84,
      "outputs": []
    },
    {
      "cell_type": "code",
      "metadata": {
        "id": "QtfIG4oqTqPD",
        "colab_type": "code",
        "colab": {}
      },
      "source": [
        "# load data\n",
        "wind_data = pd.read_csv(wind_file) \n",
        "edgelist = pd.read_parquet(edge_file, engine='pyarrow')"
      ],
      "execution_count": 85,
      "outputs": []
    },
    {
      "cell_type": "markdown",
      "metadata": {
        "id": "YdlOSi-IIOLd",
        "colab_type": "text"
      },
      "source": [
        "***probability of Ignition must be divided by the number of time the \"source\" is present in the edge list !!!!***"
      ]
    },
    {
      "cell_type": "code",
      "metadata": {
        "id": "3UG-Ky9qG-gf",
        "colab_type": "code",
        "colab": {
          "base_uri": "https://localhost:8080/",
          "height": 170
        },
        "outputId": "73f1f874-42d6-4ae4-f215-e05c318dba8a"
      },
      "source": [
        "edgelist['IgnProbBld'].describe()"
      ],
      "execution_count": 86,
      "outputs": [
        {
          "output_type": "execute_result",
          "data": {
            "text/plain": [
              "count    3.174930e+06\n",
              "mean     1.198209e-04\n",
              "std      1.813387e-04\n",
              "min      2.440851e-05\n",
              "25%      5.970669e-05\n",
              "50%      9.173903e-05\n",
              "75%      1.227407e-04\n",
              "max      5.239063e-03\n",
              "Name: IgnProbBld, dtype: float64"
            ]
          },
          "metadata": {
            "tags": []
          },
          "execution_count": 86
        }
      ]
    },
    {
      "cell_type": "code",
      "metadata": {
        "id": "gO7g8J3nHhY1",
        "colab_type": "code",
        "colab": {
          "base_uri": "https://localhost:8080/",
          "height": 34
        },
        "outputId": "11807d8b-a6dc-4564-f662-acf3ea6d44eb"
      },
      "source": [
        "print(len(edgelist), \"&\", len(edgelist.source.unique()))"
      ],
      "execution_count": 87,
      "outputs": [
        {
          "output_type": "stream",
          "text": [
            "3174930 & 69824\n"
          ],
          "name": "stdout"
        }
      ]
    },
    {
      "cell_type": "code",
      "metadata": {
        "id": "UNQ4yVICIqQO",
        "colab_type": "code",
        "colab": {}
      },
      "source": [
        "FreqCorrection = edgelist[[\"source\"]]\n",
        "FreqCorrection['freq'] = edgelist.groupby('source')['source'].transform('count')\n",
        "FreqCorrection.drop_duplicates(inplace=True)\n",
        "FreqCorrection"
      ],
      "execution_count": null,
      "outputs": []
    },
    {
      "cell_type": "code",
      "metadata": {
        "id": "TC5rtKelLe5V",
        "colab_type": "code",
        "colab": {}
      },
      "source": [
        "edgelist = edgelist.merge(FreqCorrection, on=['source'], how='left')\n",
        "edgelist['IgnProbBld'] = edgelist['IgnProbBld'] / edgelist['freq']\n",
        "edgelist"
      ],
      "execution_count": null,
      "outputs": []
    },
    {
      "cell_type": "code",
      "metadata": {
        "id": "sjyo4HitMB5d",
        "colab_type": "code",
        "colab": {}
      },
      "source": [
        "# corrected edgelist with proper Ignition probability\n",
        "edgelist.drop(\"freq\", axis=1, inplace=True)"
      ],
      "execution_count": 90,
      "outputs": []
    },
    {
      "cell_type": "markdown",
      "metadata": {
        "id": "Bk2RVZxgIxrX",
        "colab_type": "text"
      },
      "source": [
        "**Definitions**\n",
        "---"
      ]
    },
    {
      "cell_type": "code",
      "metadata": {
        "id": "Q7pHNrjZN8Zw",
        "colab_type": "code",
        "colab": {}
      },
      "source": [
        "# %%timeit\n",
        "def wind_scenario(wind_data):\n",
        "      i = np.random.randint(0, wind_data.values.shape[0])\n",
        "      w = wind_data.values[i, 2]\n",
        "      dist = wind_data.values[i, 1]\n",
        "      b = wind_data.values[i, 3]\n",
        "      bear_max = b + 45  # wind direction\n",
        "      bear_min = b - 45\n",
        "      if b == 360:\n",
        "          bear_max = 45\n",
        "      if b <= 0:  # should not be necessary\n",
        "          bear_min = 0\n",
        "      if b == 999:\n",
        "          bear_max = 999\n",
        "          bear_min = 0\n",
        "      return bear_max, bear_min, dist # wind characteristics, bearing and distance\n",
        "\n",
        "\n",
        "def ignition(edges=edgelist):\n",
        "    rng = np.random.uniform(0, 1, size=edges.values.shape[0])\n",
        "    mask = rng < edges.IgnProbBld.values\n",
        "    NewActiveEdges = edges[mask]\n",
        "    return NewActiveEdges\n",
        "\n",
        "\n",
        "def mask(t, activeEdges_d, listActivatedSources_d, w_b_max, w_b_min, w_d):\n",
        "    if t==0: # special case at time=0\n",
        "        return activeEdges_d\n",
        "    else:\n",
        "        mask = (activeEdges_d.bearing.values < w_b_max) & (activeEdges_d.bearing.values < w_b_min) & (activeEdges_d.distance < w_d)\n",
        "        NewActiveEdges = activeEdges_d[mask]\n",
        "        NewActiveEdges = NewActiveEdges[~NewActiveEdges.source.isin(listActivatedSources_d)]\n",
        "        return NewActiveEdges\n",
        "\n",
        "\n",
        "def propagation(activeEdges_d, edges=edgelist):\n",
        "    NewActiveEdges = edges[edges.source.isin(activeEdges_d.target)]\n",
        "    return NewActiveEdges\n",
        "\n",
        "\n",
        "def clean_up(path):\n",
        "    files = glob.glob(path)\n",
        "    print(\" {} files removed\".format(len(files)))\n",
        "    for f in files:\n",
        "      os.remove(f)\n",
        "\n",
        "\n",
        "def ffe_runs(n):\n",
        "    for scenario in range(n):\n",
        "        # initial setup\n",
        "        listActivatedSources = []\n",
        "        listScenarioDataframes = []\n",
        "        condition = True\n",
        "        time = 0 \n",
        "        # wind conditions\n",
        "        w_bearing_max, w_bearing_min, w_distance = wind_scenario(wind_data)\n",
        "        # ignition / initial state and edges selection\n",
        "        ActiveEdges = ignition()\n",
        "        print(f\"{len(ActiveEdges)} ignitions\")\n",
        "        if ActiveEdges.empty:\n",
        "            continue\n",
        "        while condition: # spread burn zone\n",
        "            ActiveEdges = mask(time, ActiveEdges, listActivatedSources, w_bearing_max, w_bearing_min, w_distance)\n",
        "            if ActiveEdges.empty: #no more buildings to burn\n",
        "                break\n",
        "            listScenarioDataframes.append(ActiveEdges)\n",
        "            listActivatedSources.extend(ActiveEdges.source.values)\n",
        "            ActiveEdges = propagation(ActiveEdges)\n",
        "            time += 1\n",
        "        \n",
        "        print(f'finishing pid {os.getpid()} scenario --- {scenario} time ---- {time}')\n",
        "\n",
        "        Activations = pd.concat(listScenarioDataframes)\n",
        "        Activations[\"scenario\"] = scenario\n",
        "        Activations[\"pid\"] = os.getpid()\n",
        "        Activations.to_parquet(str(folder) + '/' + f'scenario{scenario}_pid{os.getpid()}.parquet', engine='auto', compression=\"GZIP\")\n",
        "        "
      ],
      "execution_count": 91,
      "outputs": []
    },
    {
      "cell_type": "code",
      "metadata": {
        "id": "qOYh6T3UD7TE",
        "colab_type": "code",
        "colab": {}
      },
      "source": [
        "# ffe_runs(20)"
      ],
      "execution_count": null,
      "outputs": []
    },
    {
      "cell_type": "markdown",
      "metadata": {
        "id": "g9Vq0cczZSy4",
        "colab_type": "text"
      },
      "source": [
        "**Main**\n",
        "---\n",
        "\n",
        "\n",
        "---\n",
        "\n"
      ]
    },
    {
      "cell_type": "code",
      "metadata": {
        "id": "cnDhYvazIOG4",
        "colab_type": "code",
        "colab": {
          "base_uri": "https://localhost:8080/",
          "height": 68
        },
        "outputId": "73fd4fa8-73b7-4492-b76e-17058c8e1913"
      },
      "source": [
        "# run process on all available cores - need to input number of scenarios required\n",
        "# %%time\n",
        "scenario_needed = 3000\n",
        "listPool = [int(scenario_needed/mp.cpu_count())] * mp.cpu_count() # to avoid RAM overload on CPU\n",
        "\n",
        "print(f'{mp.cpu_count()} cores for {sum(listPool)} scenarios')\n",
        "print(f'{len(listPool)} processes (pid) with {listPool[0]} scenarios each')\n",
        "print(f'A total of {sum(listPool)} scenarios will be created')"
      ],
      "execution_count": null,
      "outputs": [
        {
          "output_type": "stream",
          "text": [
            "4 cores for 280 scenarios\n",
            "4 processes (pid) with 70 scenarios each\n",
            "A total of 280 scenarios will be created\n"
          ],
          "name": "stdout"
        }
      ]
    },
    {
      "cell_type": "code",
      "metadata": {
        "id": "FhTI5_jgykqc",
        "colab_type": "code",
        "colab": {}
      },
      "source": [
        "%%time\n",
        "# multiprocessing Main\n",
        "print(\"Started\")\n",
        "p = mp.Pool()\n",
        "results = p.map(ffe_runs, listPool)\n",
        "print(\"Complete\")"
      ],
      "execution_count": null,
      "outputs": []
    },
    {
      "cell_type": "markdown",
      "metadata": {
        "id": "ydETTY_fZB3Q",
        "colab_type": "text"
      },
      "source": [
        "\n",
        "**Backup**\n",
        "---\n",
        "\n",
        "\n",
        "\n",
        "---\n",
        "\n"
      ]
    },
    {
      "cell_type": "code",
      "metadata": {
        "id": "rSpb6R4lX5-X",
        "colab_type": "code",
        "colab": {
          "base_uri": "https://localhost:8080/",
          "height": 34
        },
        "outputId": "62dfcf58-9307-4740-8b37-66abe5d18086"
      },
      "source": [
        "len(os.listdir(folder))"
      ],
      "execution_count": 12,
      "outputs": [
        {
          "output_type": "execute_result",
          "data": {
            "text/plain": [
              "3001"
            ]
          },
          "metadata": {
            "tags": []
          },
          "execution_count": 12
        }
      ]
    },
    {
      "cell_type": "code",
      "metadata": {
        "id": "zOHXu6ShOQJU",
        "colab_type": "code",
        "colab": {
          "base_uri": "https://localhost:8080/",
          "height": 34
        },
        "outputId": "ac8cae88-c6ce-4b4c-b736-651ab19d191e"
      },
      "source": [
        "# clean_up('/content/drive/My Drive/Colab Notebooks/02_Output/ffeFinnComparison/scenario*')"
      ],
      "execution_count": 95,
      "outputs": [
        {
          "output_type": "stream",
          "text": [
            " 15 files removed\n"
          ],
          "name": "stdout"
        }
      ]
    },
    {
      "cell_type": "code",
      "metadata": {
        "id": "wshLyMF0Oyr-",
        "colab_type": "code",
        "colab": {}
      },
      "source": [
        "# pqt = pd.read_parquet(\"/content/drive/My Drive/04_Cloud/01_Work/GNS/008_FFE/runs/output/scenario0_pid1998_Activations.parquet\")"
      ],
      "execution_count": null,
      "outputs": []
    },
    {
      "cell_type": "code",
      "metadata": {
        "id": "PyLLVwevIoNa",
        "colab_type": "code",
        "colab": {}
      },
      "source": [
        "# num_cores = multiprocessing.cpu_count()\n",
        "# print(num_cores)"
      ],
      "execution_count": null,
      "outputs": []
    }
  ]
}