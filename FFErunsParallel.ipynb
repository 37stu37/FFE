{
  "nbformat": 4,
  "nbformat_minor": 0,
  "metadata": {
    "kernelspec": {
      "display_name": "Python 3",
      "language": "python",
      "name": "python3"
    },
    "language_info": {
      "codemirror_mode": {
        "name": "ipython",
        "version": 3
      },
      "file_extension": ".py",
      "mimetype": "text/x-python",
      "name": "python",
      "nbconvert_exporter": "python",
      "pygments_lexer": "ipython3",
      "version": "3.7.3"
    },
    "colab": {
      "name": "FFErunsParallel.ipynb",
      "provenance": [],
      "collapsed_sections": [],
      "machine_shape": "hm",
      "include_colab_link": true
    }
  },
  "cells": [
    {
      "cell_type": "markdown",
      "metadata": {
        "id": "view-in-github",
        "colab_type": "text"
      },
      "source": [
        "<a href=\"https://colab.research.google.com/github/37stu37/FFE/blob/master/FFErunsParallel.ipynb\" target=\"_parent\"><img src=\"https://colab.research.google.com/assets/colab-badge.svg\" alt=\"Open In Colab\"/></a>"
      ]
    },
    {
      "cell_type": "code",
      "metadata": {
        "id": "Q60FM7ZmLRAp",
        "colab_type": "code",
        "colab": {
          "base_uri": "https://localhost:8080/",
          "height": 54
        },
        "outputId": "4cd41312-cf4b-42d2-9af0-2acd176a3d09"
      },
      "source": [
        "from google.colab import drive\n",
        "drive.mount('/content/drive')"
      ],
      "execution_count": 1,
      "outputs": [
        {
          "output_type": "stream",
          "text": [
            "Drive already mounted at /content/drive; to attempt to forcibly remount, call drive.mount(\"/content/drive\", force_remount=True).\n"
          ],
          "name": "stdout"
        }
      ]
    },
    {
      "cell_type": "code",
      "metadata": {
        "id": "tVopy6D8J8u5",
        "colab_type": "code",
        "colab": {
          "base_uri": "https://localhost:8080/",
          "height": 34
        },
        "outputId": "991f8e63-91fa-4473-dc83-8502b671c18d"
      },
      "source": [
        "!pwd"
      ],
      "execution_count": 2,
      "outputs": [
        {
          "output_type": "stream",
          "text": [
            "/content\n"
          ],
          "name": "stdout"
        }
      ]
    },
    {
      "cell_type": "markdown",
      "metadata": {
        "id": "m42Qt2fkaDi8",
        "colab_type": "text"
      },
      "source": [
        "**Imports**\n",
        "---\n",
        "\n"
      ]
    },
    {
      "cell_type": "code",
      "metadata": {
        "id": "uKZJJqJ6DNv-",
        "colab_type": "code",
        "colab": {
          "base_uri": "https://localhost:8080/",
          "height": 0
        },
        "outputId": "1d49f9f1-0ba9-487f-d413-e8753b0032a5"
      },
      "source": [
        "%cd /content/drive/My Drive/Colab Notebooks/01_Repository/FFE"
      ],
      "execution_count": 3,
      "outputs": [
        {
          "output_type": "stream",
          "text": [
            "/content/drive/My Drive/Colab Notebooks/01_Repository/FFE\n"
          ],
          "name": "stdout"
        }
      ]
    },
    {
      "cell_type": "code",
      "metadata": {
        "id": "4XlNrKZfdLpN",
        "colab_type": "code",
        "colab": {}
      },
      "source": [
        "%%capture\n",
        "!pip install memory_profiler\n",
        "!pip install git+https://github.com/dask/fastparquet"
      ],
      "execution_count": 4,
      "outputs": []
    },
    {
      "cell_type": "code",
      "metadata": {
        "id": "7O35x2t8T4Dk",
        "colab_type": "code",
        "colab": {}
      },
      "source": [
        "import numpy as np\n",
        "import pandas as pd\n",
        "from pathlib import Path\n",
        "import memory_profiler as mem_profile\n",
        "import sys\n",
        "import os\n",
        "import glob\n",
        "import multiprocessing as mp\n",
        "# import zipfile\n",
        "from zipfile import ZipFile \n",
        "\n",
        "\n",
        "pd.options.mode.chained_assignment = None  # default='warn'"
      ],
      "execution_count": 5,
      "outputs": []
    },
    {
      "cell_type": "markdown",
      "metadata": {
        "id": "-k0T2KtSZ6iK",
        "colab_type": "text"
      },
      "source": [
        "**Load data from zip file**\n",
        "---\n",
        "\n"
      ]
    },
    {
      "cell_type": "code",
      "metadata": {
        "id": "NRP6grinJyed",
        "colab_type": "code",
        "colab": {}
      },
      "source": [
        "edge_file = './output/FinnShapeEdges.parquet'\n",
        "wind_file = './data/Copy of GD_wind.csv'\n",
        "folder = '../../02_Output/ffeFinnComparison'"
      ],
      "execution_count": 6,
      "outputs": []
    },
    {
      "cell_type": "code",
      "metadata": {
        "id": "QtfIG4oqTqPD",
        "colab_type": "code",
        "colab": {}
      },
      "source": [
        "# load data\n",
        "wind_data = pd.read_csv(wind_file) \n",
        "edgelist = pd.read_parquet(edge_file, engine='pyarrow')"
      ],
      "execution_count": 7,
      "outputs": []
    },
    {
      "cell_type": "markdown",
      "metadata": {
        "id": "Bk2RVZxgIxrX",
        "colab_type": "text"
      },
      "source": [
        "**Definitions**\n",
        "---"
      ]
    },
    {
      "cell_type": "code",
      "metadata": {
        "id": "Q7pHNrjZN8Zw",
        "colab_type": "code",
        "colab": {}
      },
      "source": [
        "# %%timeit\n",
        "def wind_scenario(wind_data):\n",
        "      i = np.random.randint(0, wind_data.values.shape[0])\n",
        "      w = wind_data.values[i, 2]\n",
        "      dist = wind_data.values[i, 1]\n",
        "      b = wind_data.values[i, 3]\n",
        "      bear_max = b + 45  # wind direction\n",
        "      bear_min = b - 45\n",
        "      if b == 360:\n",
        "          bear_max = 45\n",
        "      if b <= 0:  # should not be necessary\n",
        "          bear_min = 0\n",
        "      if b == 999:\n",
        "          bear_max = 999\n",
        "          bear_min = 0\n",
        "      return bear_max, bear_min, dist # wind characteristics, bearing and distance\n",
        "\n",
        "\n",
        "def ignition(edges=edgelist):\n",
        "    rng = np.random.uniform(0, 1, size=edges.values.shape[0])\n",
        "    mask = rng < edges.IgnProbBld.values\n",
        "    NewActiveEdges = edges[mask]\n",
        "    return NewActiveEdges\n",
        "\n",
        "\n",
        "def mask(t, activeEdges_d, listActivatedSources_d, w_b_max, w_b_min, w_d):\n",
        "    if t==0: # special case at time=0\n",
        "        return activeEdges_d\n",
        "    else:\n",
        "        mask = (activeEdges_d.bearing.values < w_b_max) & (activeEdges_d.bearing.values < w_b_min) & (activeEdges_d.distance < w_d)\n",
        "        NewActiveEdges = activeEdges_d[mask]\n",
        "        NewActiveEdges = NewActiveEdges[~NewActiveEdges.source.isin(listActivatedSources_d)]\n",
        "        return NewActiveEdges\n",
        "\n",
        "\n",
        "def propagation(activeEdges_d, edges=edgelist):\n",
        "    NewActiveEdges = edges[edges.source.isin(activeEdges_d.target)]\n",
        "    return NewActiveEdges\n",
        "\n",
        "\n",
        "def clean_up(path):\n",
        "    files = glob.glob(path)\n",
        "    print(\" {} files removed\".format(len(files)))\n",
        "    for f in files:\n",
        "      os.remove(f)\n",
        "\n",
        "\n",
        "def ffe_runs(n):\n",
        "    for scenario in range(n):\n",
        "        # initial setup\n",
        "        listActivatedSources = []\n",
        "        listScenarioDataframes = []\n",
        "        condition = True\n",
        "        time = 0 \n",
        "        # wind conditions\n",
        "        w_bearing_max, w_bearing_min, w_distance = wind_scenario(wind_data)\n",
        "        # ignition / initial state and edges selection\n",
        "        ActiveEdges = ignition()\n",
        "        if ActiveEdges.empty:\n",
        "            continue\n",
        "        while condition: # spread burn zone\n",
        "            ActiveEdges = mask(time, ActiveEdges, listActivatedSources, w_bearing_max, w_bearing_min, w_distance)\n",
        "            if ActiveEdges.empty: #no more buildings to burn\n",
        "                break\n",
        "            listScenarioDataframes.append(ActiveEdges)\n",
        "            listActivatedSources.extend(ActiveEdges.source.values)\n",
        "            ActiveEdges = propagation(ActiveEdges)\n",
        "            time += 1\n",
        "        \n",
        "        print(f'finishing pid {os.getpid()} scenario --- {scenario} time ---- {time}')\n",
        "\n",
        "        Activations = pd.concat(listScenarioDataframes)\n",
        "        Activations[\"scenario\"] = scenario\n",
        "        Activations[\"pid\"] = os.getpid()\n",
        "        Activations.to_parquet(str(folder) + '/' + f'scenario{scenario}_pid{os.getpid()}.parquet', engine='auto', compression=\"GZIP\")\n",
        "        "
      ],
      "execution_count": 9,
      "outputs": []
    },
    {
      "cell_type": "markdown",
      "metadata": {
        "id": "g9Vq0cczZSy4",
        "colab_type": "text"
      },
      "source": [
        "**Main**\n",
        "---\n",
        "\n",
        "\n",
        "---\n",
        "\n"
      ]
    },
    {
      "cell_type": "code",
      "metadata": {
        "id": "cnDhYvazIOG4",
        "colab_type": "code",
        "colab": {
          "base_uri": "https://localhost:8080/",
          "height": 68
        },
        "outputId": "c95a69d8-857e-4457-b896-0b56465ef5a3"
      },
      "source": [
        "# run process on all available cores - need to input number of scenarios required\n",
        "# %%time\n",
        "scenario_needed = 3000\n",
        "listPool = [int(scenario_needed/mp.cpu_count())] * mp.cpu_count() # to avoid RAM overload on CPU\n",
        "\n",
        "print(f'{mp.cpu_count()} cores for {sum(listPool)} scenarios')\n",
        "print(f'{len(listPool)} processes (pid) with {listPool[0]} scenarios each')\n",
        "print(f'A total of {sum(listPool)} will be created')"
      ],
      "execution_count": 12,
      "outputs": [
        {
          "output_type": "stream",
          "text": [
            "4 cores for 3000 scenarios\n",
            "4 processes (pid) with 750 scenarios each\n",
            "A total of 3000 will be created\n"
          ],
          "name": "stdout"
        }
      ]
    },
    {
      "cell_type": "code",
      "metadata": {
        "id": "FhTI5_jgykqc",
        "colab_type": "code",
        "colab": {
          "base_uri": "https://localhost:8080/",
          "height": 1000
        },
        "outputId": "297a61c3-5413-4558-ba38-5168b55130b2"
      },
      "source": [
        "%%time\n",
        "# multiprocessing\n",
        "print(\"Started\")\n",
        "p = mp.Pool()\n",
        "results = p.map(ffe_runs, listPool)\n",
        "print(\"Complete\")"
      ],
      "execution_count": null,
      "outputs": [
        {
          "output_type": "stream",
          "text": [
            "Started\n",
            "finishing pid 23070 scenario --- 0 time ---- 22\n",
            "finishing pid 23073 scenario --- 0 time ---- 22\n",
            "finishing pid 23071 scenario --- 0 time ---- 22\n",
            "finishing pid 23072 scenario --- 0 time ---- 22\n",
            "finishing pid 23070 scenario --- 1 time ---- 1\n",
            "finishing pid 23073 scenario --- 1 time ---- 1\n",
            "finishing pid 23071 scenario --- 1 time ---- 1\n",
            "finishing pid 23072 scenario --- 1 time ---- 1\n",
            "finishing pid 23070 scenario --- 2 time ---- 13\n",
            "finishing pid 23073 scenario --- 2 time ---- 13\n",
            "finishing pid 23071 scenario --- 2 time ---- 13\n",
            "finishing pid 23072 scenario --- 2 time ---- 13\n",
            "finishing pid 23070 scenario --- 3 time ---- 11\n",
            "finishing pid 23073 scenario --- 3 time ---- 11\n",
            "finishing pid 23071 scenario --- 3 time ---- 11\n",
            "finishing pid 23072 scenario --- 3 time ---- 11\n",
            "finishing pid 23070 scenario --- 4 time ---- 1\n",
            "finishing pid 23073 scenario --- 4 time ---- 1\n",
            "finishing pid 23071 scenario --- 4 time ---- 1\n",
            "finishing pid 23072 scenario --- 4 time ---- 1\n",
            "finishing pid 23073 scenario --- 5 time ---- 1\n",
            "finishing pid 23070 scenario --- 5 time ---- 1\n",
            "finishing pid 23071 scenario --- 5 time ---- 1\n",
            "finishing pid 23072 scenario --- 5 time ---- 1\n",
            "finishing pid 23073 scenario --- 6 time ---- 11\n",
            "finishing pid 23071 scenario --- 6 time ---- 11\n",
            "finishing pid 23070 scenario --- 6 time ---- 11\n",
            "finishing pid 23072 scenario --- 6 time ---- 11\n",
            "finishing pid 23073 scenario --- 7 time ---- 10\n",
            "finishing pid 23071 scenario --- 7 time ---- 10\n",
            "finishing pid 23072 scenario --- 7 time ---- 10\n",
            "finishing pid 23070 scenario --- 7 time ---- 10\n",
            "finishing pid 23073 scenario --- 8 time ---- 13\n",
            "finishing pid 23071 scenario --- 8 time ---- 13\n",
            "finishing pid 23070 scenario --- 8 time ---- 13\n",
            "finishing pid 23072 scenario --- 8 time ---- 13\n",
            "finishing pid 23071 scenario --- 9 time ---- 58\n",
            "finishing pid 23073 scenario --- 9 time ---- 58\n",
            "finishing pid 23070 scenario --- 9 time ---- 58\n",
            "finishing pid 23072 scenario --- 9 time ---- 58\n",
            "finishing pid 23071 scenario --- 10 time ---- 98\n",
            "finishing pid 23073 scenario --- 10 time ---- 98\n",
            "finishing pid 23072 scenario --- 10 time ---- 98\n",
            "finishing pid 23070 scenario --- 10 time ---- 98\n",
            "finishing pid 23071 scenario --- 11 time ---- 42\n",
            "finishing pid 23073 scenario --- 11 time ---- 42\n",
            "finishing pid 23072 scenario --- 11 time ---- 42\n",
            "finishing pid 23070 scenario --- 11 time ---- 42\n",
            "finishing pid 23071 scenario --- 12 time ---- 24\n",
            "finishing pid 23073 scenario --- 12 time ---- 24\n",
            "finishing pid 23072 scenario --- 12 time ---- 24\n",
            "finishing pid 23070 scenario --- 12 time ---- 24\n",
            "finishing pid 23071 scenario --- 13 time ---- 89\n",
            "finishing pid 23072 scenario --- 13 time ---- 89\n",
            "finishing pid 23070 scenario --- 13 time ---- 89\n",
            "finishing pid 23073 scenario --- 13 time ---- 89\n",
            "finishing pid 23071 scenario --- 14 time ---- 1\n",
            "finishing pid 23071 scenario --- 15 time ---- 1\n",
            "finishing pid 23072 scenario --- 14 time ---- 1\n",
            "finishing pid 23070 scenario --- 14 time ---- 1\n",
            "finishing pid 23071 scenario --- 16 time ---- 1\n",
            "finishing pid 23072 scenario --- 15 time ---- 1\n",
            "finishing pid 23070 scenario --- 15 time ---- 1\n",
            "finishing pid 23072 scenario --- 16 time ---- 1\n",
            "finishing pid 23073 scenario --- 14 time ---- 1\n",
            "finishing pid 23070 scenario --- 16 time ---- 1\n",
            "finishing pid 23073 scenario --- 15 time ---- 1\n",
            "finishing pid 23073 scenario --- 16 time ---- 1\n",
            "finishing pid 23071 scenario --- 17 time ---- 12\n",
            "finishing pid 23072 scenario --- 17 time ---- 12\n",
            "finishing pid 23070 scenario --- 17 time ---- 12\n",
            "finishing pid 23073 scenario --- 17 time ---- 12\n",
            "finishing pid 23071 scenario --- 18 time ---- 13\n",
            "finishing pid 23072 scenario --- 18 time ---- 13\n",
            "finishing pid 23070 scenario --- 18 time ---- 13\n",
            "finishing pid 23073 scenario --- 18 time ---- 13\n",
            "finishing pid 23071 scenario --- 19 time ---- 60\n",
            "finishing pid 23072 scenario --- 19 time ---- 60\n",
            "finishing pid 23070 scenario --- 19 time ---- 60\n",
            "finishing pid 23073 scenario --- 19 time ---- 60\n",
            "finishing pid 23071 scenario --- 20 time ---- 1\n",
            "finishing pid 23072 scenario --- 20 time ---- 1\n",
            "finishing pid 23070 scenario --- 20 time ---- 1\n",
            "finishing pid 23071 scenario --- 21 time ---- 11\n",
            "finishing pid 23073 scenario --- 20 time ---- 1\n",
            "finishing pid 23072 scenario --- 21 time ---- 11\n",
            "finishing pid 23070 scenario --- 21 time ---- 11\n",
            "finishing pid 23073 scenario --- 21 time ---- 11\n",
            "finishing pid 23071 scenario --- 22 time ---- 46\n",
            "finishing pid 23070 scenario --- 22 time ---- 46\n",
            "finishing pid 23072 scenario --- 22 time ---- 46\n",
            "finishing pid 23073 scenario --- 22 time ---- 46\n",
            "finishing pid 23071 scenario --- 23 time ---- 10\n",
            "finishing pid 23071 scenario --- 24 time ---- 1\n",
            "finishing pid 23070 scenario --- 23 time ---- 10\n",
            "finishing pid 23072 scenario --- 23 time ---- 10\n",
            "finishing pid 23070 scenario --- 24 time ---- 1\n",
            "finishing pid 23072 scenario --- 24 time ---- 1\n",
            "finishing pid 23073 scenario --- 23 time ---- 10\n",
            "finishing pid 23073 scenario --- 24 time ---- 1\n",
            "finishing pid 23071 scenario --- 25 time ---- 78\n",
            "finishing pid 23070 scenario --- 25 time ---- 78\n",
            "finishing pid 23073 scenario --- 25 time ---- 78\n",
            "finishing pid 23072 scenario --- 25 time ---- 78\n",
            "finishing pid 23071 scenario --- 26 time ---- 31\n",
            "finishing pid 23070 scenario --- 26 time ---- 31\n",
            "finishing pid 23073 scenario --- 26 time ---- 31\n",
            "finishing pid 23072 scenario --- 26 time ---- 31\n",
            "finishing pid 23071 scenario --- 27 time ---- 36\n",
            "finishing pid 23070 scenario --- 27 time ---- 36\n",
            "finishing pid 23071 scenario --- 28 time ---- 8\n",
            "finishing pid 23073 scenario --- 27 time ---- 36\n",
            "finishing pid 23072 scenario --- 27 time ---- 36\n",
            "finishing pid 23070 scenario --- 28 time ---- 8\n",
            "finishing pid 23073 scenario --- 28 time ---- 8\n",
            "finishing pid 23072 scenario --- 28 time ---- 8\n",
            "finishing pid 23071 scenario --- 29 time ---- 102\n",
            "finishing pid 23070 scenario --- 29 time ---- 102\n",
            "finishing pid 23072 scenario --- 29 time ---- 102\n",
            "finishing pid 23073 scenario --- 29 time ---- 102\n",
            "finishing pid 23071 scenario --- 30 time ---- 32\n",
            "finishing pid 23070 scenario --- 30 time ---- 32\n",
            "finishing pid 23072 scenario --- 30 time ---- 32\n",
            "finishing pid 23073 scenario --- 30 time ---- 32\n",
            "finishing pid 23071 scenario --- 31 time ---- 41\n",
            "finishing pid 23070 scenario --- 31 time ---- 41\n",
            "finishing pid 23072 scenario --- 31 time ---- 41\n",
            "finishing pid 23073 scenario --- 31 time ---- 41\n",
            "finishing pid 23071 scenario --- 32 time ---- 62\n",
            "finishing pid 23070 scenario --- 32 time ---- 62\n",
            "finishing pid 23072 scenario --- 32 time ---- 62\n",
            "finishing pid 23073 scenario --- 32 time ---- 62\n",
            "finishing pid 23071 scenario --- 33 time ---- 80\n",
            "finishing pid 23070 scenario --- 33 time ---- 80\n",
            "finishing pid 23072 scenario --- 33 time ---- 80\n",
            "finishing pid 23071 scenario --- 34 time ---- 11\n",
            "finishing pid 23070 scenario --- 34 time ---- 11\n",
            "finishing pid 23073 scenario --- 33 time ---- 80\n",
            "finishing pid 23072 scenario --- 34 time ---- 11\n",
            "finishing pid 23073 scenario --- 34 time ---- 11\n",
            "finishing pid 23071 scenario --- 35 time ---- 36\n",
            "finishing pid 23070 scenario --- 35 time ---- 36\n",
            "finishing pid 23072 scenario --- 35 time ---- 36\n",
            "finishing pid 23073 scenario --- 35 time ---- 36\n",
            "finishing pid 23071 scenario --- 36 time ---- 80\n",
            "finishing pid 23070 scenario --- 36 time ---- 80\n",
            "finishing pid 23072 scenario --- 36 time ---- 80\n",
            "finishing pid 23073 scenario --- 36 time ---- 80\n",
            "finishing pid 23071 scenario --- 37 time ---- 1\n",
            "finishing pid 23070 scenario --- 37 time ---- 1\n",
            "finishing pid 23071 scenario --- 38 time ---- 1\n",
            "finishing pid 23070 scenario --- 38 time ---- 1\n",
            "finishing pid 23072 scenario --- 37 time ---- 1\n",
            "finishing pid 23072 scenario --- 38 time ---- 1\n",
            "finishing pid 23073 scenario --- 37 time ---- 1\n",
            "finishing pid 23073 scenario --- 38 time ---- 1\n",
            "finishing pid 23071 scenario --- 39 time ---- 68\n",
            "finishing pid 23070 scenario --- 39 time ---- 68\n",
            "finishing pid 23071 scenario --- 40 time ---- 1\n",
            "finishing pid 23070 scenario --- 40 time ---- 1\n",
            "finishing pid 23071 scenario --- 41 time ---- 10\n",
            "finishing pid 23070 scenario --- 41 time ---- 10\n",
            "finishing pid 23072 scenario --- 39 time ---- 68\n",
            "finishing pid 23073 scenario --- 39 time ---- 68\n",
            "finishing pid 23072 scenario --- 40 time ---- 1\n",
            "finishing pid 23073 scenario --- 40 time ---- 1\n",
            "finishing pid 23072 scenario --- 41 time ---- 10\n",
            "finishing pid 23073 scenario --- 41 time ---- 10\n",
            "finishing pid 23071 scenario --- 42 time ---- 62\n",
            "finishing pid 23070 scenario --- 42 time ---- 62\n",
            "finishing pid 23072 scenario --- 42 time ---- 62\n",
            "finishing pid 23073 scenario --- 42 time ---- 62\n",
            "finishing pid 23071 scenario --- 43 time ---- 84\n",
            "finishing pid 23070 scenario --- 43 time ---- 84\n",
            "finishing pid 23073 scenario --- 43 time ---- 84\n",
            "finishing pid 23072 scenario --- 43 time ---- 84\n",
            "finishing pid 23071 scenario --- 44 time ---- 22\n",
            "finishing pid 23070 scenario --- 44 time ---- 22\n",
            "finishing pid 23073 scenario --- 44 time ---- 22\n",
            "finishing pid 23072 scenario --- 44 time ---- 22\n",
            "finishing pid 23070 scenario --- 45 time ---- 68\n",
            "finishing pid 23071 scenario --- 45 time ---- 68\n",
            "finishing pid 23073 scenario --- 45 time ---- 68\n",
            "finishing pid 23072 scenario --- 45 time ---- 68\n",
            "finishing pid 23070 scenario --- 46 time ---- 51\n",
            "finishing pid 23071 scenario --- 46 time ---- 51\n",
            "finishing pid 23073 scenario --- 46 time ---- 51\n",
            "finishing pid 23072 scenario --- 46 time ---- 51\n",
            "finishing pid 23070 scenario --- 47 time ---- 76\n",
            "finishing pid 23071 scenario --- 47 time ---- 76\n",
            "finishing pid 23073 scenario --- 47 time ---- 76\n",
            "finishing pid 23072 scenario --- 47 time ---- 76\n",
            "finishing pid 23070 scenario --- 48 time ---- 9\n",
            "finishing pid 23071 scenario --- 48 time ---- 9\n",
            "finishing pid 23070 scenario --- 49 time ---- 23\n",
            "finishing pid 23073 scenario --- 48 time ---- 9\n",
            "finishing pid 23072 scenario --- 48 time ---- 9\n",
            "finishing pid 23071 scenario --- 49 time ---- 23\n",
            "finishing pid 23073 scenario --- 49 time ---- 23\n",
            "finishing pid 23072 scenario --- 49 time ---- 23\n",
            "finishing pid 23070 scenario --- 50 time ---- 90\n",
            "finishing pid 23073 scenario --- 50 time ---- 90\n",
            "finishing pid 23071 scenario --- 50 time ---- 90\n",
            "finishing pid 23072 scenario --- 50 time ---- 90\n",
            "finishing pid 23070 scenario --- 51 time ---- 46\n",
            "finishing pid 23071 scenario --- 51 time ---- 46\n",
            "finishing pid 23073 scenario --- 51 time ---- 46\n",
            "finishing pid 23070 scenario --- 52 time ---- 38\n",
            "finishing pid 23071 scenario --- 52 time ---- 38\n",
            "finishing pid 23073 scenario --- 52 time ---- 38\n",
            "finishing pid 23072 scenario --- 51 time ---- 46\n",
            "finishing pid 23072 scenario --- 52 time ---- 38\n",
            "finishing pid 23070 scenario --- 53 time ---- 93\n",
            "finishing pid 23071 scenario --- 53 time ---- 93\n",
            "finishing pid 23070 scenario --- 54 time ---- 10\n",
            "finishing pid 23073 scenario --- 53 time ---- 93\n",
            "finishing pid 23071 scenario --- 54 time ---- 10\n",
            "finishing pid 23070 scenario --- 55 time ---- 10\n",
            "finishing pid 23071 scenario --- 55 time ---- 10\n",
            "finishing pid 23070 scenario --- 56 time ---- 8\n",
            "finishing pid 23073 scenario --- 54 time ---- 10\n",
            "finishing pid 23071 scenario --- 56 time ---- 8\n",
            "finishing pid 23073 scenario --- 55 time ---- 10\n",
            "finishing pid 23073 scenario --- 56 time ---- 8\n",
            "finishing pid 23072 scenario --- 53 time ---- 93\n",
            "finishing pid 23072 scenario --- 54 time ---- 10\n",
            "finishing pid 23072 scenario --- 55 time ---- 10\n",
            "finishing pid 23072 scenario --- 56 time ---- 8\n",
            "finishing pid 23070 scenario --- 57 time ---- 72\n",
            "finishing pid 23071 scenario --- 57 time ---- 72\n",
            "finishing pid 23073 scenario --- 57 time ---- 72\n",
            "finishing pid 23070 scenario --- 58 time ---- 49\n",
            "finishing pid 23071 scenario --- 58 time ---- 49\n",
            "finishing pid 23072 scenario --- 57 time ---- 72\n",
            "finishing pid 23073 scenario --- 58 time ---- 49\n",
            "finishing pid 23072 scenario --- 58 time ---- 49\n",
            "finishing pid 23070 scenario --- 59 time ---- 45\n",
            "finishing pid 23071 scenario --- 59 time ---- 45\n",
            "finishing pid 23073 scenario --- 59 time ---- 45\n",
            "finishing pid 23072 scenario --- 59 time ---- 45\n",
            "finishing pid 23070 scenario --- 60 time ---- 66\n",
            "finishing pid 23071 scenario --- 60 time ---- 66\n",
            "finishing pid 23073 scenario --- 60 time ---- 66\n",
            "finishing pid 23070 scenario --- 61 time ---- 29\n",
            "finishing pid 23070 scenario --- 62 time ---- 1\n",
            "finishing pid 23071 scenario --- 61 time ---- 29\n",
            "finishing pid 23071 scenario --- 62 time ---- 1\n",
            "finishing pid 23073 scenario --- 61 time ---- 29\n",
            "finishing pid 23073 scenario --- 62 time ---- 1\n",
            "finishing pid 23070 scenario --- 63 time ---- 25\n",
            "finishing pid 23071 scenario --- 63 time ---- 25\n",
            "finishing pid 23073 scenario --- 63 time ---- 25\n",
            "finishing pid 23072 scenario --- 60 time ---- 66\n",
            "finishing pid 23072 scenario --- 61 time ---- 29\n",
            "finishing pid 23072 scenario --- 62 time ---- 1\n",
            "finishing pid 23072 scenario --- 63 time ---- 25\n",
            "finishing pid 23071 scenario --- 64 time ---- 75\n",
            "finishing pid 23070 scenario --- 64 time ---- 75\n",
            "finishing pid 23073 scenario --- 64 time ---- 75\n",
            "finishing pid 23071 scenario --- 65 time ---- 42\n",
            "finishing pid 23070 scenario --- 65 time ---- 42\n"
          ],
          "name": "stdout"
        }
      ]
    },
    {
      "cell_type": "markdown",
      "metadata": {
        "id": "ydETTY_fZB3Q",
        "colab_type": "text"
      },
      "source": [
        "\n",
        "**Backup**\n",
        "---\n",
        "\n",
        "\n",
        "\n",
        "---\n",
        "\n"
      ]
    },
    {
      "cell_type": "code",
      "metadata": {
        "id": "rSpb6R4lX5-X",
        "colab_type": "code",
        "colab": {}
      },
      "source": [
        "os.listdir(folder)"
      ],
      "execution_count": null,
      "outputs": []
    },
    {
      "cell_type": "code",
      "metadata": {
        "id": "zOHXu6ShOQJU",
        "colab_type": "code",
        "colab": {}
      },
      "source": [
        "# clean_up('/content/drive/My Drive/Colab Notebooks/02_Output/ffeFinnComparison/scenario*')"
      ],
      "execution_count": null,
      "outputs": []
    },
    {
      "cell_type": "code",
      "metadata": {
        "id": "wshLyMF0Oyr-",
        "colab_type": "code",
        "colab": {}
      },
      "source": [
        "# pqt = pd.read_parquet(\"/content/drive/My Drive/04_Cloud/01_Work/GNS/008_FFE/runs/output/scenario0_pid1998_Activations.parquet\")"
      ],
      "execution_count": null,
      "outputs": []
    },
    {
      "cell_type": "code",
      "metadata": {
        "id": "PyLLVwevIoNa",
        "colab_type": "code",
        "colab": {}
      },
      "source": [
        "# num_cores = multiprocessing.cpu_count()\n",
        "# print(num_cores)"
      ],
      "execution_count": null,
      "outputs": []
    }
  ]
}