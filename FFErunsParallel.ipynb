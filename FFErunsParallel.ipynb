{
  "nbformat": 4,
  "nbformat_minor": 0,
  "metadata": {
    "kernelspec": {
      "display_name": "Python 3",
      "language": "python",
      "name": "python3"
    },
    "language_info": {
      "codemirror_mode": {
        "name": "ipython",
        "version": 3
      },
      "file_extension": ".py",
      "mimetype": "text/x-python",
      "name": "python",
      "nbconvert_exporter": "python",
      "pygments_lexer": "ipython3",
      "version": "3.7.3"
    },
    "colab": {
      "name": "FFErunsParallel.ipynb",
      "provenance": [],
      "collapsed_sections": [],
      "toc_visible": true,
      "machine_shape": "hm",
      "include_colab_link": true
    }
  },
  "cells": [
    {
      "cell_type": "markdown",
      "metadata": {
        "id": "view-in-github",
        "colab_type": "text"
      },
      "source": [
        "<a href=\"https://colab.research.google.com/github/37stu37/FFE/blob/master/FFErunsParallel.ipynb\" target=\"_parent\"><img src=\"https://colab.research.google.com/assets/colab-badge.svg\" alt=\"Open In Colab\"/></a>"
      ]
    },
    {
      "cell_type": "code",
      "metadata": {
        "id": "Q60FM7ZmLRAp",
        "colab_type": "code",
        "colab": {
          "base_uri": "https://localhost:8080/",
          "height": 54
        },
        "outputId": "2e1406de-ef07-4a59-f635-4f23e8e85009"
      },
      "source": [
        "from google.colab import drive\n",
        "drive.mount('/content/drive')"
      ],
      "execution_count": 6,
      "outputs": [
        {
          "output_type": "stream",
          "text": [
            "Drive already mounted at /content/drive; to attempt to forcibly remount, call drive.mount(\"/content/drive\", force_remount=True).\n"
          ],
          "name": "stdout"
        }
      ]
    },
    {
      "cell_type": "markdown",
      "metadata": {
        "id": "m42Qt2fkaDi8",
        "colab_type": "text"
      },
      "source": [
        "**Imports**\n",
        "---\n",
        "\n"
      ]
    },
    {
      "cell_type": "code",
      "metadata": {
        "id": "uKZJJqJ6DNv-",
        "colab_type": "code",
        "colab": {
          "base_uri": "https://localhost:8080/",
          "height": 34
        },
        "outputId": "efc8b112-8ff0-41f4-a5d7-5d153b615cfa"
      },
      "source": [
        "%cd /content/drive/My Drive/Colab Notebooks/01_Repository/FFE"
      ],
      "execution_count": 7,
      "outputs": [
        {
          "output_type": "stream",
          "text": [
            "/content/drive/My Drive/Colab Notebooks/01_Repository/FFE\n"
          ],
          "name": "stdout"
        }
      ]
    },
    {
      "cell_type": "code",
      "metadata": {
        "id": "7O35x2t8T4Dk",
        "colab_type": "code",
        "colab": {}
      },
      "source": [
        "import numpy as np\n",
        "import pandas as pd\n",
        "from pathlib import Path\n",
        "import sys\n",
        "import os\n",
        "import glob\n",
        "import multiprocessing as mp\n",
        "\n",
        "\n",
        "pd.options.mode.chained_assignment = None  # default='warn'"
      ],
      "execution_count": 8,
      "outputs": []
    },
    {
      "cell_type": "markdown",
      "metadata": {
        "id": "-k0T2KtSZ6iK",
        "colab_type": "text"
      },
      "source": [
        "**Load data from zip file**\n",
        "---\n",
        "\n"
      ]
    },
    {
      "cell_type": "code",
      "metadata": {
        "id": "NRP6grinJyed",
        "colab_type": "code",
        "colab": {}
      },
      "source": [
        "edge_file = './output/FinnShapeEdges.parquet'\n",
        "wind_file = './data/Copy of GD_wind.csv'\n",
        "folder = '../../02_Output/ffeFinnComparison'"
      ],
      "execution_count": 9,
      "outputs": []
    },
    {
      "cell_type": "code",
      "metadata": {
        "id": "QtfIG4oqTqPD",
        "colab_type": "code",
        "colab": {}
      },
      "source": [
        "# load data\n",
        "wind_data = pd.read_csv(wind_file) \n",
        "edgelist = pd.read_parquet(edge_file, engine='pyarrow')"
      ],
      "execution_count": 10,
      "outputs": []
    },
    {
      "cell_type": "markdown",
      "metadata": {
        "id": "YdlOSi-IIOLd",
        "colab_type": "text"
      },
      "source": [
        "***probability of Ignition must be divided by the number of time the \"source\" is present in the edge list !!!!***"
      ]
    },
    {
      "cell_type": "code",
      "metadata": {
        "id": "3UG-Ky9qG-gf",
        "colab_type": "code",
        "colab": {
          "base_uri": "https://localhost:8080/",
          "height": 170
        },
        "outputId": "a2bc4bd4-8bde-4337-eb33-20e0ec139492"
      },
      "source": [
        "edgelist['IgnProbBld'].describe()"
      ],
      "execution_count": 63,
      "outputs": [
        {
          "output_type": "execute_result",
          "data": {
            "text/plain": [
              "count    3.174930e+06\n",
              "mean     1.198209e-04\n",
              "std      1.813387e-04\n",
              "min      2.440851e-05\n",
              "25%      5.970669e-05\n",
              "50%      9.173903e-05\n",
              "75%      1.227407e-04\n",
              "max      5.239063e-03\n",
              "Name: IgnProbBld, dtype: float64"
            ]
          },
          "metadata": {
            "tags": []
          },
          "execution_count": 63
        }
      ]
    },
    {
      "cell_type": "code",
      "metadata": {
        "id": "gO7g8J3nHhY1",
        "colab_type": "code",
        "colab": {
          "base_uri": "https://localhost:8080/",
          "height": 34
        },
        "outputId": "8c31fb2c-a5f1-4e04-d817-89bb3a8ecfa3"
      },
      "source": [
        "print(len(edgelist), \"&\", len(edgelist.source.unique()))"
      ],
      "execution_count": 64,
      "outputs": [
        {
          "output_type": "stream",
          "text": [
            "3174930 & 69824\n"
          ],
          "name": "stdout"
        }
      ]
    },
    {
      "cell_type": "code",
      "metadata": {
        "id": "UNQ4yVICIqQO",
        "colab_type": "code",
        "colab": {}
      },
      "source": [
        "FreqCorrection = edgelist[[\"source\"]]\n",
        "FreqCorrection['freq'] = edgelist.groupby('source')['source'].transform('count')\n",
        "FreqCorrection.drop_duplicates(inplace=True)\n",
        "FreqCorrection"
      ],
      "execution_count": null,
      "outputs": []
    },
    {
      "cell_type": "code",
      "metadata": {
        "id": "TC5rtKelLe5V",
        "colab_type": "code",
        "colab": {}
      },
      "source": [
        "edgelist = edgelist.merge(FreqCorrection, on=['source'], how='left')\n",
        "edgelist['IgnProbBld'] = edgelist['IgnProbBld'] / edgelist['freq']\n",
        "edgelist"
      ],
      "execution_count": 74,
      "outputs": []
    },
    {
      "cell_type": "code",
      "metadata": {
        "id": "sjyo4HitMB5d",
        "colab_type": "code",
        "colab": {}
      },
      "source": [
        "# corrected edgelist with proper Ignition probability\n",
        "edgelist.drop(\"freq\", axis=1, inplace=True)"
      ],
      "execution_count": 76,
      "outputs": []
    },
    {
      "cell_type": "markdown",
      "metadata": {
        "id": "Bk2RVZxgIxrX",
        "colab_type": "text"
      },
      "source": [
        "**Definitions**\n",
        "---"
      ]
    },
    {
      "cell_type": "code",
      "metadata": {
        "id": "Q7pHNrjZN8Zw",
        "colab_type": "code",
        "colab": {}
      },
      "source": [
        "# %%timeit\n",
        "def wind_scenario(wind_data):\n",
        "      i = np.random.randint(0, wind_data.values.shape[0])\n",
        "      w = wind_data.values[i, 2]\n",
        "      dist = wind_data.values[i, 1]\n",
        "      b = wind_data.values[i, 3]\n",
        "      bear_max = b + 45  # wind direction\n",
        "      bear_min = b - 45\n",
        "      if b == 360:\n",
        "          bear_max = 45\n",
        "      if b <= 0:  # should not be necessary\n",
        "          bear_min = 0\n",
        "      if b == 999:\n",
        "          bear_max = 999\n",
        "          bear_min = 0\n",
        "      return bear_max, bear_min, dist # wind characteristics, bearing and distance\n",
        "\n",
        "\n",
        "def ignition(edges=edgelist):\n",
        "    rng = np.random.uniform(0, 1, size=edges.values.shape[0])\n",
        "    mask = rng < edges.IgnProbBld.values\n",
        "    NewActiveEdges = edges[mask]\n",
        "    return NewActiveEdges\n",
        "\n",
        "\n",
        "def mask(t, activeEdges_d, listActivatedSources_d, w_b_max, w_b_min, w_d):\n",
        "    if t==0: # special case at time=0\n",
        "        return activeEdges_d\n",
        "    else:\n",
        "        mask = (activeEdges_d.bearing.values < w_b_max) & (activeEdges_d.bearing.values < w_b_min) & (activeEdges_d.distance < w_d)\n",
        "        NewActiveEdges = activeEdges_d[mask]\n",
        "        NewActiveEdges = NewActiveEdges[~NewActiveEdges.source.isin(listActivatedSources_d)]\n",
        "        return NewActiveEdges\n",
        "\n",
        "\n",
        "def propagation(activeEdges_d, edges=edgelist):\n",
        "    NewActiveEdges = edges[edges.source.isin(activeEdges_d.target)]\n",
        "    return NewActiveEdges\n",
        "\n",
        "\n",
        "def clean_up(path):\n",
        "    files = glob.glob(path)\n",
        "    print(\" {} files removed\".format(len(files)))\n",
        "    for f in files:\n",
        "      os.remove(f)\n",
        "\n",
        "\n",
        "def ffe_runs(n):\n",
        "    for scenario in range(n):\n",
        "        # initial setup\n",
        "        listActivatedSources = []\n",
        "        listScenarioDataframes = []\n",
        "        condition = True\n",
        "        time = 0 \n",
        "        # wind conditions\n",
        "        w_bearing_max, w_bearing_min, w_distance = wind_scenario(wind_data)\n",
        "        # ignition / initial state and edges selection\n",
        "        ActiveEdges = ignition()\n",
        "        print(f\"{len(ActiveEdges)} ignitions\")\n",
        "        if ActiveEdges.empty:\n",
        "            continue\n",
        "        while condition: # spread burn zone\n",
        "            ActiveEdges = mask(time, ActiveEdges, listActivatedSources, w_bearing_max, w_bearing_min, w_distance)\n",
        "            if ActiveEdges.empty: #no more buildings to burn\n",
        "                break\n",
        "            listScenarioDataframes.append(ActiveEdges)\n",
        "            listActivatedSources.extend(ActiveEdges.source.values)\n",
        "            ActiveEdges = propagation(ActiveEdges)\n",
        "            time += 1\n",
        "        \n",
        "        print(f'finishing pid {os.getpid()} scenario --- {scenario} time ---- {time}')\n",
        "\n",
        "        Activations = pd.concat(listScenarioDataframes)\n",
        "        Activations[\"scenario\"] = scenario\n",
        "        Activations[\"pid\"] = os.getpid()\n",
        "        Activations.to_parquet(str(folder) + '/' + f'scenario{scenario}_pid{os.getpid()}.parquet', engine='auto', compression=\"GZIP\")\n",
        "        "
      ],
      "execution_count": 79,
      "outputs": []
    },
    {
      "cell_type": "code",
      "metadata": {
        "id": "qOYh6T3UD7TE",
        "colab_type": "code",
        "colab": {}
      },
      "source": [
        "ffe_runs(20)"
      ],
      "execution_count": null,
      "outputs": []
    },
    {
      "cell_type": "code",
      "metadata": {
        "id": "-icknqPMEVd0",
        "colab_type": "code",
        "colab": {}
      },
      "source": [
        "test = pd.read_parquet('/content/drive/My Drive/Colab Notebooks/02_Output/ffeFinnComparison/scenario0_pid138.parquet')"
      ],
      "execution_count": 39,
      "outputs": []
    },
    {
      "cell_type": "code",
      "metadata": {
        "colab_type": "code",
        "id": "3FuffZJ1EEMh",
        "colab": {
          "base_uri": "https://localhost:8080/",
          "height": 34
        },
        "outputId": "c668d3f5-14d6-4405-a794-80de8a7757fb"
      },
      "source": [
        "clean_up('/content/drive/My Drive/Colab Notebooks/02_Output/ffeFinnComparison/scenario*')"
      ],
      "execution_count": 44,
      "outputs": [
        {
          "output_type": "stream",
          "text": [
            " 2 files removed\n"
          ],
          "name": "stdout"
        }
      ]
    },
    {
      "cell_type": "markdown",
      "metadata": {
        "id": "g9Vq0cczZSy4",
        "colab_type": "text"
      },
      "source": [
        "**Main**\n",
        "---\n",
        "\n",
        "\n",
        "---\n",
        "\n"
      ]
    },
    {
      "cell_type": "code",
      "metadata": {
        "id": "cnDhYvazIOG4",
        "colab_type": "code",
        "colab": {
          "base_uri": "https://localhost:8080/",
          "height": 68
        },
        "outputId": "73fd4fa8-73b7-4492-b76e-17058c8e1913"
      },
      "source": [
        "# run process on all available cores - need to input number of scenarios required\n",
        "# %%time\n",
        "scenario_needed = 10\n",
        "listPool = [int(scenario_needed/mp.cpu_count())] * mp.cpu_count() # to avoid RAM overload on CPU\n",
        "\n",
        "print(f'{mp.cpu_count()} cores for {sum(listPool)} scenarios')\n",
        "print(f'{len(listPool)} processes (pid) with {listPool[0]} scenarios each')\n",
        "print(f'A total of {sum(listPool)} scenarios will be created')"
      ],
      "execution_count": null,
      "outputs": [
        {
          "output_type": "stream",
          "text": [
            "4 cores for 280 scenarios\n",
            "4 processes (pid) with 70 scenarios each\n",
            "A total of 280 scenarios will be created\n"
          ],
          "name": "stdout"
        }
      ]
    },
    {
      "cell_type": "code",
      "metadata": {
        "id": "FhTI5_jgykqc",
        "colab_type": "code",
        "colab": {}
      },
      "source": [
        "%%time\n",
        "# multiprocessing Main\n",
        "print(\"Started\")\n",
        "p = mp.Pool()\n",
        "results = p.map(ffe_runs, listPool)\n",
        "print(\"Complete\")"
      ],
      "execution_count": null,
      "outputs": []
    },
    {
      "cell_type": "markdown",
      "metadata": {
        "id": "ydETTY_fZB3Q",
        "colab_type": "text"
      },
      "source": [
        "\n",
        "**Backup**\n",
        "---\n",
        "\n",
        "\n",
        "\n",
        "---\n",
        "\n"
      ]
    },
    {
      "cell_type": "code",
      "metadata": {
        "id": "rSpb6R4lX5-X",
        "colab_type": "code",
        "colab": {
          "base_uri": "https://localhost:8080/",
          "height": 34
        },
        "outputId": "62dfcf58-9307-4740-8b37-66abe5d18086"
      },
      "source": [
        "len(os.listdir(folder))"
      ],
      "execution_count": 12,
      "outputs": [
        {
          "output_type": "execute_result",
          "data": {
            "text/plain": [
              "3001"
            ]
          },
          "metadata": {
            "tags": []
          },
          "execution_count": 12
        }
      ]
    },
    {
      "cell_type": "code",
      "metadata": {
        "id": "zOHXu6ShOQJU",
        "colab_type": "code",
        "colab": {
          "base_uri": "https://localhost:8080/",
          "height": 34
        },
        "outputId": "12ce924a-cc10-4128-b064-c70cc3cbd4ab"
      },
      "source": [
        "clean_up('/content/drive/My Drive/Colab Notebooks/02_Output/ffeFinnComparison/scenario*')"
      ],
      "execution_count": 13,
      "outputs": [
        {
          "output_type": "stream",
          "text": [
            " 3000 files removed\n"
          ],
          "name": "stdout"
        }
      ]
    },
    {
      "cell_type": "code",
      "metadata": {
        "id": "wshLyMF0Oyr-",
        "colab_type": "code",
        "colab": {}
      },
      "source": [
        "# pqt = pd.read_parquet(\"/content/drive/My Drive/04_Cloud/01_Work/GNS/008_FFE/runs/output/scenario0_pid1998_Activations.parquet\")"
      ],
      "execution_count": null,
      "outputs": []
    },
    {
      "cell_type": "code",
      "metadata": {
        "id": "PyLLVwevIoNa",
        "colab_type": "code",
        "colab": {}
      },
      "source": [
        "# num_cores = multiprocessing.cpu_count()\n",
        "# print(num_cores)"
      ],
      "execution_count": null,
      "outputs": []
    }
  ]
}