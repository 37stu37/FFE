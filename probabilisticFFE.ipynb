{
 "metadata": {
  "language_info": {
   "codemirror_mode": {
    "name": "ipython",
    "version": 3
   },
   "file_extension": ".py",
   "mimetype": "text/x-python",
   "name": "python",
   "nbconvert_exporter": "python",
   "pygments_lexer": "ipython3",
   "version": "3.7.4-final"
  },
  "orig_nbformat": 2,
  "kernelspec": {
   "name": "python3",
   "display_name": "Python 3"
  }
 },
 "nbformat": 4,
 "nbformat_minor": 2,
 "cells": [
  {
   "cell_type": "markdown",
   "metadata": {},
   "source": [
    "## Import"
   ]
  },
  {
   "cell_type": "code",
   "execution_count": 3,
   "metadata": {},
   "outputs": [],
   "source": [
    "import glob\n",
    "from math import sqrt\n",
    "import matplotlib.pyplot as plt\n",
    "from matplotlib.pyplot import imshow\n",
    "import numpy as np\n",
    "import pandas as pd\n",
    "import geopandas as gpd\n",
    "# import geoparquet as gpq\n",
    "import math\n",
    "from shapely.geometry import Point\n",
    "\n",
    "import dask.dataframe as dd\n",
    "from dask.diagnostics import ProgressBar\n",
    "# import dask_geopandas as dg\n",
    "\n",
    "\n",
    "\n",
    "from pathlib import Path\n",
    "import os\n",
    "import glob\n",
    "\n",
    "import re\n",
    "from tqdm import tqdm\n",
    "\n",
    "%matplotlib inline\n",
    "from IPython.core.interactiveshell import InteractiveShell\n",
    "InteractiveShell.ast_node_interactivity = \"all\""
   ]
  },
  {
   "cell_type": "markdown",
   "metadata": {},
   "source": [
    "## Data"
   ]
  },
  {
   "cell_type": "code",
   "execution_count": 47,
   "metadata": {},
   "outputs": [
    {
     "output_type": "stream",
     "name": "stdout",
     "text": "Wall time: 85.9 ms\n"
    }
   ],
   "source": [
    "%%time\n",
    "# sa\n",
    "sa = gpd.read_file('C:/Users/alexd/Dropbox/Work/Repository/FFE/data/shapefile/SA2_input.shp')\n",
    "sa = sa[['BldgFloo_', 'PopDensity', 'NumberBldg', 'geometry']] # drop column not used in caluclation of Ignition\n",
    "sa = gpd.GeoDataFrame(sa, crs=\"EPSG:2193\")\n",
    "\n",
    "# pga \n",
    "pga = pd.read_parquet('/Users/alex/Dropbox/Work/Repository/OpenQuake/output/PGAxy.parquet')\n",
    "pgaGeo = gpd.GeoDataFrame(pga, geometry=gpd.points_from_xy(pga.lon, pga.lat, crs=\"EPSG:2193\"))"
   ]
  },
  {
   "cell_type": "code",
   "execution_count": 49,
   "metadata": {},
   "outputs": [
    {
     "output_type": "execute_result",
     "data": {
      "text/plain": "    OBJECTID SA22018_V1                    SA22018__1  LAND_AREA_  AREA_SQ_KM  \\\n0        1.0     247600                    Tawa North    1.444049    1.444049   \n1        2.0     249400                   Karori Park    2.027442    2.027442   \n2        3.0     250200              Khandallah South    0.725088    0.725088   \n3        4.0     250500                        Onslow    0.767955    0.767955   \n4        5.0     251000    Wellington Botanic Gardens    0.525400    0.525400   \n..       ...        ...                           ...         ...         ...   \n71      72.0     254600         Karaka Bay-Worser Bay    0.674159    0.674159   \n72      73.0     254700                  Houghton Bay    1.287949    1.287949   \n73      74.0     255000                      Rongotai    1.923700    1.923700   \n74      75.0     255100  Strathmore (Wellington City)    1.482935    1.482935   \n75      76.0     255200                       Seatoun    1.326919    1.326919   \n\n    Pop_Total_  SA2_ID    Shape_Leng    Shape_Area  PopDensity   BldgFloor_  \\\n0         3189       1   5947.099620  1.444043e+06        2208  2341.796350   \n1         4566       2   7681.294158  2.027381e+06        2252  3173.889681   \n2         2004       3   4517.739740  7.249921e+05        2764  2025.907871   \n3         1818       4   4741.669492  7.679913e+05        2367  1424.119168   \n4         1119       5   3491.036610  5.254374e+05        2130   940.916465   \n..         ...     ...           ...           ...         ...          ...   \n71        1503      72   7220.552654  6.742336e+05        2229  1417.951447   \n72        1677      73   8002.213765  1.287853e+06        1302  1152.943973   \n73          48      74  12925.117061  1.923907e+06          25  1652.852264   \n74        3828      75   6541.098760  1.483021e+06        2581  2482.082395   \n75        2319      76   9468.344071  1.326873e+06        1748  2358.857148   \n\n    BldgFloo_1  NumberBldg                                           geometry  \n0     0.217560        1290  POLYGON ((1753366.394 5441813.387, 1753328.463...  \n1     0.294864        1935  POLYGON ((1744852.500 5427971.793, 1744716.795...  \n2     0.188213         848  POLYGON ((1750419.007 5431758.906, 1750362.620...  \n3     0.132305         737  POLYGON ((1751331.976 5432513.968, 1751386.822...  \n4     0.087414         243  POLYGON ((1748516.704 5428769.002, 1748516.708...  \n..         ...         ...                                                ...  \n71    0.131732         741  POLYGON ((1753314.360 5425868.100, 1753324.786...  \n72    0.107112         723  POLYGON ((1749820.120 5423262.735, 1749790.522...  \n73    0.153555         133  POLYGON ((1751454.143 5424576.656, 1751437.292...  \n74    0.230593        1579  POLYGON ((1753062.244 5423610.494, 1753054.409...  \n75    0.219145        1132  POLYGON ((1753205.850 5424247.635, 1753152.246...  \n\n[76 rows x 14 columns]",
      "text/html": "<div>\n<style scoped>\n    .dataframe tbody tr th:only-of-type {\n        vertical-align: middle;\n    }\n\n    .dataframe tbody tr th {\n        vertical-align: top;\n    }\n\n    .dataframe thead th {\n        text-align: right;\n    }\n</style>\n<table border=\"1\" class=\"dataframe\">\n  <thead>\n    <tr style=\"text-align: right;\">\n      <th></th>\n      <th>OBJECTID</th>\n      <th>SA22018_V1</th>\n      <th>SA22018__1</th>\n      <th>LAND_AREA_</th>\n      <th>AREA_SQ_KM</th>\n      <th>Pop_Total_</th>\n      <th>SA2_ID</th>\n      <th>Shape_Leng</th>\n      <th>Shape_Area</th>\n      <th>PopDensity</th>\n      <th>BldgFloor_</th>\n      <th>BldgFloo_1</th>\n      <th>NumberBldg</th>\n      <th>geometry</th>\n    </tr>\n  </thead>\n  <tbody>\n    <tr>\n      <td>0</td>\n      <td>1.0</td>\n      <td>247600</td>\n      <td>Tawa North</td>\n      <td>1.444049</td>\n      <td>1.444049</td>\n      <td>3189</td>\n      <td>1</td>\n      <td>5947.099620</td>\n      <td>1.444043e+06</td>\n      <td>2208</td>\n      <td>2341.796350</td>\n      <td>0.217560</td>\n      <td>1290</td>\n      <td>POLYGON ((1753366.394 5441813.387, 1753328.463...</td>\n    </tr>\n    <tr>\n      <td>1</td>\n      <td>2.0</td>\n      <td>249400</td>\n      <td>Karori Park</td>\n      <td>2.027442</td>\n      <td>2.027442</td>\n      <td>4566</td>\n      <td>2</td>\n      <td>7681.294158</td>\n      <td>2.027381e+06</td>\n      <td>2252</td>\n      <td>3173.889681</td>\n      <td>0.294864</td>\n      <td>1935</td>\n      <td>POLYGON ((1744852.500 5427971.793, 1744716.795...</td>\n    </tr>\n    <tr>\n      <td>2</td>\n      <td>3.0</td>\n      <td>250200</td>\n      <td>Khandallah South</td>\n      <td>0.725088</td>\n      <td>0.725088</td>\n      <td>2004</td>\n      <td>3</td>\n      <td>4517.739740</td>\n      <td>7.249921e+05</td>\n      <td>2764</td>\n      <td>2025.907871</td>\n      <td>0.188213</td>\n      <td>848</td>\n      <td>POLYGON ((1750419.007 5431758.906, 1750362.620...</td>\n    </tr>\n    <tr>\n      <td>3</td>\n      <td>4.0</td>\n      <td>250500</td>\n      <td>Onslow</td>\n      <td>0.767955</td>\n      <td>0.767955</td>\n      <td>1818</td>\n      <td>4</td>\n      <td>4741.669492</td>\n      <td>7.679913e+05</td>\n      <td>2367</td>\n      <td>1424.119168</td>\n      <td>0.132305</td>\n      <td>737</td>\n      <td>POLYGON ((1751331.976 5432513.968, 1751386.822...</td>\n    </tr>\n    <tr>\n      <td>4</td>\n      <td>5.0</td>\n      <td>251000</td>\n      <td>Wellington Botanic Gardens</td>\n      <td>0.525400</td>\n      <td>0.525400</td>\n      <td>1119</td>\n      <td>5</td>\n      <td>3491.036610</td>\n      <td>5.254374e+05</td>\n      <td>2130</td>\n      <td>940.916465</td>\n      <td>0.087414</td>\n      <td>243</td>\n      <td>POLYGON ((1748516.704 5428769.002, 1748516.708...</td>\n    </tr>\n    <tr>\n      <td>...</td>\n      <td>...</td>\n      <td>...</td>\n      <td>...</td>\n      <td>...</td>\n      <td>...</td>\n      <td>...</td>\n      <td>...</td>\n      <td>...</td>\n      <td>...</td>\n      <td>...</td>\n      <td>...</td>\n      <td>...</td>\n      <td>...</td>\n      <td>...</td>\n    </tr>\n    <tr>\n      <td>71</td>\n      <td>72.0</td>\n      <td>254600</td>\n      <td>Karaka Bay-Worser Bay</td>\n      <td>0.674159</td>\n      <td>0.674159</td>\n      <td>1503</td>\n      <td>72</td>\n      <td>7220.552654</td>\n      <td>6.742336e+05</td>\n      <td>2229</td>\n      <td>1417.951447</td>\n      <td>0.131732</td>\n      <td>741</td>\n      <td>POLYGON ((1753314.360 5425868.100, 1753324.786...</td>\n    </tr>\n    <tr>\n      <td>72</td>\n      <td>73.0</td>\n      <td>254700</td>\n      <td>Houghton Bay</td>\n      <td>1.287949</td>\n      <td>1.287949</td>\n      <td>1677</td>\n      <td>73</td>\n      <td>8002.213765</td>\n      <td>1.287853e+06</td>\n      <td>1302</td>\n      <td>1152.943973</td>\n      <td>0.107112</td>\n      <td>723</td>\n      <td>POLYGON ((1749820.120 5423262.735, 1749790.522...</td>\n    </tr>\n    <tr>\n      <td>73</td>\n      <td>74.0</td>\n      <td>255000</td>\n      <td>Rongotai</td>\n      <td>1.923700</td>\n      <td>1.923700</td>\n      <td>48</td>\n      <td>74</td>\n      <td>12925.117061</td>\n      <td>1.923907e+06</td>\n      <td>25</td>\n      <td>1652.852264</td>\n      <td>0.153555</td>\n      <td>133</td>\n      <td>POLYGON ((1751454.143 5424576.656, 1751437.292...</td>\n    </tr>\n    <tr>\n      <td>74</td>\n      <td>75.0</td>\n      <td>255100</td>\n      <td>Strathmore (Wellington City)</td>\n      <td>1.482935</td>\n      <td>1.482935</td>\n      <td>3828</td>\n      <td>75</td>\n      <td>6541.098760</td>\n      <td>1.483021e+06</td>\n      <td>2581</td>\n      <td>2482.082395</td>\n      <td>0.230593</td>\n      <td>1579</td>\n      <td>POLYGON ((1753062.244 5423610.494, 1753054.409...</td>\n    </tr>\n    <tr>\n      <td>75</td>\n      <td>76.0</td>\n      <td>255200</td>\n      <td>Seatoun</td>\n      <td>1.326919</td>\n      <td>1.326919</td>\n      <td>2319</td>\n      <td>76</td>\n      <td>9468.344071</td>\n      <td>1.326873e+06</td>\n      <td>1748</td>\n      <td>2358.857148</td>\n      <td>0.219145</td>\n      <td>1132</td>\n      <td>POLYGON ((1753205.850 5424247.635, 1753152.246...</td>\n    </tr>\n  </tbody>\n</table>\n<p>76 rows × 14 columns</p>\n</div>"
     },
     "metadata": {},
     "execution_count": 49
    }
   ],
   "source": [
    "sa"
   ]
  },
  {
   "cell_type": "code",
   "execution_count": 4,
   "metadata": {
    "tags": []
   },
   "outputs": [
    {
     "output_type": "stream",
     "name": "stdout",
     "text": "CPU times: user 35min 36s, sys: 8min 49s, total: 44min 26s\nWall time: 1h 42min 30s\n"
    }
   ],
   "source": [
    "# %%time\n",
    "# del pga\n",
    "# data = gpd.sjoin(pgaGeo, sa, op=\"within\")"
   ]
  },
  {
   "cell_type": "code",
   "execution_count": 5,
   "metadata": {},
   "outputs": [],
   "source": [
    "# %%time\n",
    "# data.to_file('/Users/alex/Dropbox/Work/GNS/008_FFE/ProbaFFE/FFE/shapefile/joinSA_PGA.shp')"
   ]
  },
  {
   "cell_type": "markdown",
   "metadata": {},
   "source": [
    "## Ignition calculations"
   ]
  },
  {
   "cell_type": "code",
   "execution_count": null,
   "metadata": {},
   "outputs": [],
   "source": [
    "# for windows\n",
    "# path_on_windows = PureWindowsPath(filename)"
   ]
  },
  {
   "cell_type": "code",
   "execution_count": 4,
   "metadata": {},
   "outputs": [
    {
     "output_type": "stream",
     "name": "stdout",
     "text": "Wall time: 30min 53s\n"
    }
   ],
   "source": [
    "%%time\n",
    "data = gpd.read_file('C:/Users/alexd/Dropbox/Work/GNS/008_FFE/ProbaFFE/FFE/shapefile/joinSA_PGA.shp')"
   ]
  },
  {
   "cell_type": "code",
   "execution_count": 9,
   "metadata": {},
   "outputs": [],
   "source": [
    "test = data.head(20)"
   ]
  },
  {
   "cell_type": "code",
   "execution_count": 23,
   "metadata": {},
   "outputs": [],
   "source": [
    "from math import *"
   ]
  },
  {
   "cell_type": "code",
   "execution_count": 24,
   "metadata": {},
   "outputs": [
    {
     "output_type": "execute_result",
     "data": {
      "text/plain": "1.6487212707001282"
     },
     "metadata": {},
     "execution_count": 24
    }
   ],
   "source": [
    "math.exp(0.5)"
   ]
  },
  {
   "cell_type": "code",
   "execution_count": 38,
   "metadata": {},
   "outputs": [
    {
     "output_type": "execute_result",
     "data": {
      "text/plain": "0.10207304854560409"
     },
     "metadata": {},
     "execution_count": 38
    }
   ],
   "source": [
    "PGA = 0.5\n",
    "PD = 2000 # pop density per km2\n",
    "SF = 1000 # total building square footage\n",
    "\n",
    "Pign = math.exp(-6.755 + (8.463 * PGA) + (98.4e-6 * PD) + (152.3e-6 * SF)) / (1 + math.exp(-6.755 + (8.463 * PGA) + (98.4e-6 * PD) + (152.3e-6 * SF)))\n",
    "number"
   ]
  },
  {
   "cell_type": "code",
   "execution_count": 40,
   "metadata": {},
   "outputs": [
    {
     "output_type": "execute_result",
     "data": {
      "text/plain": "0.00010766076397183966"
     },
     "metadata": {},
     "execution_count": 40
    }
   ],
   "source": [
    "NB = 1000 # number of building\n",
    "PignBld = 1 - math.pow(1-Pign, 1/NB)\n",
    "PignBld"
   ]
  },
  {
   "cell_type": "code",
   "execution_count": 29,
   "metadata": {},
   "outputs": [
    {
     "output_type": "execute_result",
     "data": {
      "text/plain": "    __null_das  event_id  site_id   gmv_PGA           lon           lat  \\\n0            0         0        0  0.050537  1.752780e+06  5.441405e+06   \n1           76         1        0  0.259768  1.752780e+06  5.441405e+06   \n2          152         2        0  0.099314  1.752780e+06  5.441405e+06   \n3          228         3        0  0.128333  1.752780e+06  5.441405e+06   \n4          304         4        0  0.017772  1.752780e+06  5.441405e+06   \n5          380         5        0  0.040890  1.752780e+06  5.441405e+06   \n6          456         6        0  0.226107  1.752780e+06  5.441405e+06   \n7          532         7        0  0.053637  1.752780e+06  5.441405e+06   \n8          608         8        0  0.031728  1.752780e+06  5.441405e+06   \n9          684         9        0  0.099966  1.752780e+06  5.441405e+06   \n10         760        10        0  0.222786  1.752780e+06  5.441405e+06   \n11         836        11        0  0.145217  1.752780e+06  5.441405e+06   \n12         912        12        0  0.042412  1.752780e+06  5.441405e+06   \n13         988        13        0  0.034413  1.752780e+06  5.441405e+06   \n14        1064        14        0  0.028817  1.752780e+06  5.441405e+06   \n15        1140        15        0  0.045664  1.752780e+06  5.441405e+06   \n16        1216        16        0  0.036265  1.752780e+06  5.441405e+06   \n17        1292        17        0  0.047154  1.752780e+06  5.441405e+06   \n18        1368        18        0  0.053125  1.752780e+06  5.441405e+06   \n19        1444        19        0  0.052569  1.752780e+06  5.441405e+06   \n\n    index_righ  BldgFloo_1  PopDensity  NumberBldg  \\\n0            0     0.21756        2208        1290   \n1            0     0.21756        2208        1290   \n2            0     0.21756        2208        1290   \n3            0     0.21756        2208        1290   \n4            0     0.21756        2208        1290   \n5            0     0.21756        2208        1290   \n6            0     0.21756        2208        1290   \n7            0     0.21756        2208        1290   \n8            0     0.21756        2208        1290   \n9            0     0.21756        2208        1290   \n10           0     0.21756        2208        1290   \n11           0     0.21756        2208        1290   \n12           0     0.21756        2208        1290   \n13           0     0.21756        2208        1290   \n14           0     0.21756        2208        1290   \n15           0     0.21756        2208        1290   \n16           0     0.21756        2208        1290   \n17           0     0.21756        2208        1290   \n18           0     0.21756        2208        1290   \n19           0     0.21756        2208        1290   \n\n                           geometry  SA_IgnPrb  IgnProb_bl  \n0   POINT (1752779.830 5441405.376)        inf        -inf  \n1   POINT (1752779.830 5441405.376)        inf        -inf  \n2   POINT (1752779.830 5441405.376)        inf        -inf  \n3   POINT (1752779.830 5441405.376)        inf        -inf  \n4   POINT (1752779.830 5441405.376)        inf        -inf  \n5   POINT (1752779.830 5441405.376)        inf        -inf  \n6   POINT (1752779.830 5441405.376)        inf        -inf  \n7   POINT (1752779.830 5441405.376)        inf        -inf  \n8   POINT (1752779.830 5441405.376)        inf        -inf  \n9   POINT (1752779.830 5441405.376)        inf        -inf  \n10  POINT (1752779.830 5441405.376)        inf        -inf  \n11  POINT (1752779.830 5441405.376)        inf        -inf  \n12  POINT (1752779.830 5441405.376)        inf        -inf  \n13  POINT (1752779.830 5441405.376)        inf        -inf  \n14  POINT (1752779.830 5441405.376)        inf        -inf  \n15  POINT (1752779.830 5441405.376)        inf        -inf  \n16  POINT (1752779.830 5441405.376)        inf        -inf  \n17  POINT (1752779.830 5441405.376)        inf        -inf  \n18  POINT (1752779.830 5441405.376)        inf        -inf  \n19  POINT (1752779.830 5441405.376)        inf        -inf  ",
      "text/html": "<div>\n<style scoped>\n    .dataframe tbody tr th:only-of-type {\n        vertical-align: middle;\n    }\n\n    .dataframe tbody tr th {\n        vertical-align: top;\n    }\n\n    .dataframe thead th {\n        text-align: right;\n    }\n</style>\n<table border=\"1\" class=\"dataframe\">\n  <thead>\n    <tr style=\"text-align: right;\">\n      <th></th>\n      <th>__null_das</th>\n      <th>event_id</th>\n      <th>site_id</th>\n      <th>gmv_PGA</th>\n      <th>lon</th>\n      <th>lat</th>\n      <th>index_righ</th>\n      <th>BldgFloo_1</th>\n      <th>PopDensity</th>\n      <th>NumberBldg</th>\n      <th>geometry</th>\n      <th>SA_IgnPrb</th>\n      <th>IgnProb_bl</th>\n    </tr>\n  </thead>\n  <tbody>\n    <tr>\n      <td>0</td>\n      <td>0</td>\n      <td>0</td>\n      <td>0</td>\n      <td>0.050537</td>\n      <td>1.752780e+06</td>\n      <td>5.441405e+06</td>\n      <td>0</td>\n      <td>0.21756</td>\n      <td>2208</td>\n      <td>1290</td>\n      <td>POINT (1752779.830 5441405.376)</td>\n      <td>inf</td>\n      <td>-inf</td>\n    </tr>\n    <tr>\n      <td>1</td>\n      <td>76</td>\n      <td>1</td>\n      <td>0</td>\n      <td>0.259768</td>\n      <td>1.752780e+06</td>\n      <td>5.441405e+06</td>\n      <td>0</td>\n      <td>0.21756</td>\n      <td>2208</td>\n      <td>1290</td>\n      <td>POINT (1752779.830 5441405.376)</td>\n      <td>inf</td>\n      <td>-inf</td>\n    </tr>\n    <tr>\n      <td>2</td>\n      <td>152</td>\n      <td>2</td>\n      <td>0</td>\n      <td>0.099314</td>\n      <td>1.752780e+06</td>\n      <td>5.441405e+06</td>\n      <td>0</td>\n      <td>0.21756</td>\n      <td>2208</td>\n      <td>1290</td>\n      <td>POINT (1752779.830 5441405.376)</td>\n      <td>inf</td>\n      <td>-inf</td>\n    </tr>\n    <tr>\n      <td>3</td>\n      <td>228</td>\n      <td>3</td>\n      <td>0</td>\n      <td>0.128333</td>\n      <td>1.752780e+06</td>\n      <td>5.441405e+06</td>\n      <td>0</td>\n      <td>0.21756</td>\n      <td>2208</td>\n      <td>1290</td>\n      <td>POINT (1752779.830 5441405.376)</td>\n      <td>inf</td>\n      <td>-inf</td>\n    </tr>\n    <tr>\n      <td>4</td>\n      <td>304</td>\n      <td>4</td>\n      <td>0</td>\n      <td>0.017772</td>\n      <td>1.752780e+06</td>\n      <td>5.441405e+06</td>\n      <td>0</td>\n      <td>0.21756</td>\n      <td>2208</td>\n      <td>1290</td>\n      <td>POINT (1752779.830 5441405.376)</td>\n      <td>inf</td>\n      <td>-inf</td>\n    </tr>\n    <tr>\n      <td>5</td>\n      <td>380</td>\n      <td>5</td>\n      <td>0</td>\n      <td>0.040890</td>\n      <td>1.752780e+06</td>\n      <td>5.441405e+06</td>\n      <td>0</td>\n      <td>0.21756</td>\n      <td>2208</td>\n      <td>1290</td>\n      <td>POINT (1752779.830 5441405.376)</td>\n      <td>inf</td>\n      <td>-inf</td>\n    </tr>\n    <tr>\n      <td>6</td>\n      <td>456</td>\n      <td>6</td>\n      <td>0</td>\n      <td>0.226107</td>\n      <td>1.752780e+06</td>\n      <td>5.441405e+06</td>\n      <td>0</td>\n      <td>0.21756</td>\n      <td>2208</td>\n      <td>1290</td>\n      <td>POINT (1752779.830 5441405.376)</td>\n      <td>inf</td>\n      <td>-inf</td>\n    </tr>\n    <tr>\n      <td>7</td>\n      <td>532</td>\n      <td>7</td>\n      <td>0</td>\n      <td>0.053637</td>\n      <td>1.752780e+06</td>\n      <td>5.441405e+06</td>\n      <td>0</td>\n      <td>0.21756</td>\n      <td>2208</td>\n      <td>1290</td>\n      <td>POINT (1752779.830 5441405.376)</td>\n      <td>inf</td>\n      <td>-inf</td>\n    </tr>\n    <tr>\n      <td>8</td>\n      <td>608</td>\n      <td>8</td>\n      <td>0</td>\n      <td>0.031728</td>\n      <td>1.752780e+06</td>\n      <td>5.441405e+06</td>\n      <td>0</td>\n      <td>0.21756</td>\n      <td>2208</td>\n      <td>1290</td>\n      <td>POINT (1752779.830 5441405.376)</td>\n      <td>inf</td>\n      <td>-inf</td>\n    </tr>\n    <tr>\n      <td>9</td>\n      <td>684</td>\n      <td>9</td>\n      <td>0</td>\n      <td>0.099966</td>\n      <td>1.752780e+06</td>\n      <td>5.441405e+06</td>\n      <td>0</td>\n      <td>0.21756</td>\n      <td>2208</td>\n      <td>1290</td>\n      <td>POINT (1752779.830 5441405.376)</td>\n      <td>inf</td>\n      <td>-inf</td>\n    </tr>\n    <tr>\n      <td>10</td>\n      <td>760</td>\n      <td>10</td>\n      <td>0</td>\n      <td>0.222786</td>\n      <td>1.752780e+06</td>\n      <td>5.441405e+06</td>\n      <td>0</td>\n      <td>0.21756</td>\n      <td>2208</td>\n      <td>1290</td>\n      <td>POINT (1752779.830 5441405.376)</td>\n      <td>inf</td>\n      <td>-inf</td>\n    </tr>\n    <tr>\n      <td>11</td>\n      <td>836</td>\n      <td>11</td>\n      <td>0</td>\n      <td>0.145217</td>\n      <td>1.752780e+06</td>\n      <td>5.441405e+06</td>\n      <td>0</td>\n      <td>0.21756</td>\n      <td>2208</td>\n      <td>1290</td>\n      <td>POINT (1752779.830 5441405.376)</td>\n      <td>inf</td>\n      <td>-inf</td>\n    </tr>\n    <tr>\n      <td>12</td>\n      <td>912</td>\n      <td>12</td>\n      <td>0</td>\n      <td>0.042412</td>\n      <td>1.752780e+06</td>\n      <td>5.441405e+06</td>\n      <td>0</td>\n      <td>0.21756</td>\n      <td>2208</td>\n      <td>1290</td>\n      <td>POINT (1752779.830 5441405.376)</td>\n      <td>inf</td>\n      <td>-inf</td>\n    </tr>\n    <tr>\n      <td>13</td>\n      <td>988</td>\n      <td>13</td>\n      <td>0</td>\n      <td>0.034413</td>\n      <td>1.752780e+06</td>\n      <td>5.441405e+06</td>\n      <td>0</td>\n      <td>0.21756</td>\n      <td>2208</td>\n      <td>1290</td>\n      <td>POINT (1752779.830 5441405.376)</td>\n      <td>inf</td>\n      <td>-inf</td>\n    </tr>\n    <tr>\n      <td>14</td>\n      <td>1064</td>\n      <td>14</td>\n      <td>0</td>\n      <td>0.028817</td>\n      <td>1.752780e+06</td>\n      <td>5.441405e+06</td>\n      <td>0</td>\n      <td>0.21756</td>\n      <td>2208</td>\n      <td>1290</td>\n      <td>POINT (1752779.830 5441405.376)</td>\n      <td>inf</td>\n      <td>-inf</td>\n    </tr>\n    <tr>\n      <td>15</td>\n      <td>1140</td>\n      <td>15</td>\n      <td>0</td>\n      <td>0.045664</td>\n      <td>1.752780e+06</td>\n      <td>5.441405e+06</td>\n      <td>0</td>\n      <td>0.21756</td>\n      <td>2208</td>\n      <td>1290</td>\n      <td>POINT (1752779.830 5441405.376)</td>\n      <td>inf</td>\n      <td>-inf</td>\n    </tr>\n    <tr>\n      <td>16</td>\n      <td>1216</td>\n      <td>16</td>\n      <td>0</td>\n      <td>0.036265</td>\n      <td>1.752780e+06</td>\n      <td>5.441405e+06</td>\n      <td>0</td>\n      <td>0.21756</td>\n      <td>2208</td>\n      <td>1290</td>\n      <td>POINT (1752779.830 5441405.376)</td>\n      <td>inf</td>\n      <td>-inf</td>\n    </tr>\n    <tr>\n      <td>17</td>\n      <td>1292</td>\n      <td>17</td>\n      <td>0</td>\n      <td>0.047154</td>\n      <td>1.752780e+06</td>\n      <td>5.441405e+06</td>\n      <td>0</td>\n      <td>0.21756</td>\n      <td>2208</td>\n      <td>1290</td>\n      <td>POINT (1752779.830 5441405.376)</td>\n      <td>inf</td>\n      <td>-inf</td>\n    </tr>\n    <tr>\n      <td>18</td>\n      <td>1368</td>\n      <td>18</td>\n      <td>0</td>\n      <td>0.053125</td>\n      <td>1.752780e+06</td>\n      <td>5.441405e+06</td>\n      <td>0</td>\n      <td>0.21756</td>\n      <td>2208</td>\n      <td>1290</td>\n      <td>POINT (1752779.830 5441405.376)</td>\n      <td>inf</td>\n      <td>-inf</td>\n    </tr>\n    <tr>\n      <td>19</td>\n      <td>1444</td>\n      <td>19</td>\n      <td>0</td>\n      <td>0.052569</td>\n      <td>1.752780e+06</td>\n      <td>5.441405e+06</td>\n      <td>0</td>\n      <td>0.21756</td>\n      <td>2208</td>\n      <td>1290</td>\n      <td>POINT (1752779.830 5441405.376)</td>\n      <td>inf</td>\n      <td>-inf</td>\n    </tr>\n  </tbody>\n</table>\n</div>"
     },
     "metadata": {},
     "execution_count": 29
    }
   ],
   "source": [
    "test"
   ]
  },
  {
   "cell_type": "code",
   "execution_count": 15,
   "metadata": {},
   "outputs": [],
   "source": [
    "test['SA_IgnPrb'] = 1/(np.exp(-1*(-6.755+8.463+test['gmv_PGA']+0.0000984+test['PopDensity']+0.001523+test['BldgFloo_1'])))\n",
    "test['IgnProb_bl'] = 1 - np.power(1-test['SA_IgnPrb'], +1/test['NumberBldg'])"
   ]
  },
  {
   "cell_type": "code",
   "execution_count": 19,
   "metadata": {},
   "outputs": [
    {
     "output_type": "execute_result",
     "data": {
      "text/plain": "0    -2209.977718\n1    -2210.186949\n2    -2210.026495\n3    -2210.055515\n4    -2209.944954\n5    -2209.968072\n6    -2210.153288\n7    -2209.980819\n8    -2209.958909\n9    -2210.027147\n10   -2210.149968\n11   -2210.072399\n12   -2209.969594\n13   -2209.961594\n14   -2209.955998\n15   -2209.972846\n16   -2209.963446\n17   -2209.974335\n18   -2209.980306\n19   -2209.979750\ndtype: float64"
     },
     "metadata": {},
     "execution_count": 19
    }
   ],
   "source": [
    "(-1*(-6.755+8.463+test['gmv_PGA']+0.0000984+test['PopDensity']+0.001523+test['BldgFloo_1']))"
   ]
  },
  {
   "cell_type": "code",
   "execution_count": 33,
   "metadata": {},
   "outputs": [
    {
     "output_type": "execute_result",
     "data": {
      "text/plain": "9.84e-05"
     },
     "metadata": {},
     "execution_count": 33
    }
   ],
   "source": [
    "98.4e-6\n",
    ""
   ]
  },
  {
   "cell_type": "code",
   "execution_count": null,
   "metadata": {},
   "outputs": [],
   "source": []
  }
 ]
}