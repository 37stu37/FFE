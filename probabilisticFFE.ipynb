{
 "metadata": {
  "language_info": {
   "codemirror_mode": {
    "name": "ipython",
    "version": 3
   },
   "file_extension": ".py",
   "mimetype": "text/x-python",
   "name": "python",
   "nbconvert_exporter": "python",
   "pygments_lexer": "ipython3",
   "version": "3.7.4-final"
  },
  "orig_nbformat": 2,
  "kernelspec": {
   "name": "python3",
   "display_name": "Python 3"
  }
 },
 "nbformat": 4,
 "nbformat_minor": 2,
 "cells": [
  {
   "cell_type": "markdown",
   "metadata": {},
   "source": [
    "## Import"
   ]
  },
  {
   "cell_type": "code",
   "execution_count": 2,
   "metadata": {},
   "outputs": [],
   "source": [
    "import glob\n",
    "from math import sqrt\n",
    "import matplotlib.pyplot as plt\n",
    "from matplotlib.pyplot import imshow\n",
    "import numpy as np\n",
    "import pandas as pd\n",
    "import geopandas as gpd\n",
    "# import geoparquet as gpq\n",
    "\n",
    "from math import *\n",
    "from shapely.geometry import Point\n",
    "\n",
    "import dask.dataframe as dd\n",
    "from dask.diagnostics import ProgressBar\n",
    "# import dask_geopandas as dg\n",
    "\n",
    "\n",
    "\n",
    "from pathlib import Path\n",
    "import os\n",
    "import glob\n",
    "\n",
    "import re\n",
    "from tqdm import tqdm\n",
    "\n",
    "%matplotlib inline\n",
    "from IPython.core.interactiveshell import InteractiveShell\n",
    "InteractiveShell.ast_node_interactivity = \"all\""
   ]
  },
  {
   "cell_type": "markdown",
   "metadata": {},
   "source": [
    "## Data"
   ]
  },
  {
   "cell_type": "code",
   "execution_count": 3,
   "metadata": {},
   "outputs": [
    {
     "output_type": "stream",
     "name": "stdout",
     "text": "Wall time: 3min 6s\n"
    }
   ],
   "source": [
    "%%time\n",
    "# sa\n",
    "sa = gpd.read_file('C:/Users/alexd/Dropbox/Work/Repository/FFE/data/shapefile/SA2_input.shp')\n",
    "sa = sa[['BldgFloor_', 'PopDensity', 'NumberBldg', 'geometry', 'SA2_ID']] # drop column not used in caluclation of Ignition\n",
    "sa = gpd.GeoDataFrame(sa, crs=\"EPSG:2193\")\n",
    "\n",
    "# pga \n",
    "pga = pd.read_parquet('C:/Users/alexd/Dropbox/Work/Repository/OpenQuake/output/PGAxy.parquet')\n",
    "pgaGeo = gpd.GeoDataFrame(pga, geometry=gpd.points_from_xy(pga.lon, pga.lat))#, crs=\"EPSG:2193\"))\n",
    "\n",
    "del pga"
   ]
  },
  {
   "cell_type": "code",
   "execution_count": 4,
   "metadata": {
    "tags": []
   },
   "outputs": [
    {
     "output_type": "stream",
     "name": "stdout",
     "text": "Wall time: 22min 17s\n"
    }
   ],
   "source": [
    "%%time\n",
    "data = gpd.sjoin(pgaGeo, sa, op=\"within\")"
   ]
  },
  {
   "cell_type": "markdown",
   "metadata": {},
   "source": [
    "## Ignition calculations and save join shapefile"
   ]
  },
  {
   "cell_type": "code",
   "execution_count": 5,
   "metadata": {},
   "outputs": [],
   "source": [
    "from numba import jit\n",
    "\n",
    "gmv_PGA = data.gmv_PGA.values\n",
    "PopDensity = data.PopDensity\n",
    "BldFloor = data.BldgFloor_.values\n",
    "NbrBld = data.NumberBldg.values\n",
    "\n",
    "@jit\n",
    "def ignition_district(PGAs, PD, SF):\n",
    "    Pign = np.exp(-6.755 + (8.463 * PGAs) + (98.4e-6 * PD) + (152.3e-6 * SF)) / (1 + np.exp(-6.755 + (8.463 * PGAs) + (98.4e-6 * PD) + (152.3e-6 * SF)))\n",
    "    return Pign\n",
    "\n",
    "\n",
    "@jit\n",
    "def ignition_buildings(IgnDistrict, NBbld):\n",
    "    PignBld = 1 - np.power(1-IgnDistrict, 1/NBbld)\n",
    "    return PignBld"
   ]
  },
  {
   "cell_type": "code",
   "execution_count": 6,
   "metadata": {},
   "outputs": [
    {
     "output_type": "stream",
     "name": "stdout",
     "text": "Wall time: 3.77 s\n"
    }
   ],
   "source": [
    "%%time\n",
    "Pignition_district = ignition_district(gmv_PGA, PopDensity, BldFloor)\n",
    "Pignition_buildings = ignition_buildings(Pignition_district, NbrBld)"
   ]
  },
  {
   "cell_type": "code",
   "execution_count": 7,
   "metadata": {},
   "outputs": [],
   "source": [
    "data['IgnProb'] = Pignition_buildings\n",
    "joinSA_PGA = data[['event_id', 'site_id', 'SA2_ID','gmv_PGA', 'lon', 'lat', 'geometry','IgnProb']]"
   ]
  },
  {
   "cell_type": "code",
   "execution_count": 8,
   "metadata": {},
   "outputs": [
    {
     "output_type": "stream",
     "name": "stdout",
     "text": "Wall time: 53min 29s\n"
    }
   ],
   "source": [
    "%%time\n",
    "joinSA_PGA.crs = \"EPSG:2193\"\n",
    "joinSA_PGA.to_file('C:/Users/alexd/Dropbox/Work/InOutRepoData/FFE/joinSA_PGA.shp')"
   ]
  },
  {
   "cell_type": "code",
   "execution_count": 28,
   "metadata": {},
   "outputs": [],
   "source": [
    "# del pgaGeo\n",
    "# del sa\n",
    "# del data\n",
    "# del PopDensity\n",
    "# del Pignition_district\n",
    "# del Pignition_buildings\n",
    "# del BldFloor\n",
    "# del NbrBld\n",
    "# del gmv_PGA"
   ]
  },
  {
   "cell_type": "code",
   "execution_count": null,
   "metadata": {},
   "outputs": [],
   "source": []
  }
 ]
}