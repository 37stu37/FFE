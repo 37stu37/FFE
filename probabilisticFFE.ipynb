{
 "metadata": {
  "language_info": {
   "codemirror_mode": {
    "name": "ipython",
    "version": 3
   },
   "file_extension": ".py",
   "mimetype": "text/x-python",
   "name": "python",
   "nbconvert_exporter": "python",
   "pygments_lexer": "ipython3",
   "version": "3.7.3-final"
  },
  "orig_nbformat": 2,
  "kernelspec": {
   "name": "python_defaultSpec_1598845220895",
   "display_name": "Python 3.7.3 64-bit ('base': conda)"
  }
 },
 "nbformat": 4,
 "nbformat_minor": 2,
 "cells": [
  {
   "cell_type": "markdown",
   "metadata": {},
   "source": [
    "## Import"
   ]
  },
  {
   "cell_type": "code",
   "execution_count": 1,
   "metadata": {},
   "outputs": [],
   "source": [
    "import glob\n",
    "from math import sqrt\n",
    "import matplotlib.pyplot as plt\n",
    "from matplotlib.pyplot import imshow\n",
    "import numpy as np\n",
    "import pandas as pd\n",
    "import geopandas as gpd\n",
    "import geoparquet as gpq\n",
    "import math\n",
    "from shapely.geometry import Point\n",
    "\n",
    "import dask.dataframe as dd\n",
    "from dask.diagnostics import ProgressBar\n",
    "import dask_geopandas as dg\n",
    "\n",
    "\n",
    "\n",
    "from pathlib import Path\n",
    "import os\n",
    "import glob\n",
    "\n",
    "import re\n",
    "from tqdm import tqdm\n",
    "\n",
    "%matplotlib inline\n",
    "from IPython.core.interactiveshell import InteractiveShell\n",
    "InteractiveShell.ast_node_interactivity = \"all\""
   ]
  },
  {
   "cell_type": "markdown",
   "metadata": {},
   "source": [
    "## Data"
   ]
  },
  {
   "cell_type": "code",
   "execution_count": 2,
   "metadata": {},
   "outputs": [],
   "source": [
    "%%time\n",
    "# sa\n",
    "sa = gpd.read_file('data/shapefile/Finn_SA2Summary.shp')\n",
    "sa = sa[['BldgFloo_1', 'PopDensity', 'NumberBldg', 'geometry']] # drop column not used in caluclation of Ignition\n",
    "sa = gpd.GeoDataFrame(sa, crs=\"EPSG:2193\")\n",
    "\n",
    "# pga \n",
    "pga = pd.read_parquet('/Users/alex/Dropbox/Work/Repository/OpenQuake/output/PGAxy.parquet')\n",
    "pgaGeo = gpd.GeoDataFrame(pga, geometry=gpd.points_from_xy(pga.lon, pga.lat, crs=\"EPSG:2193\"))"
   ]
  },
  {
   "cell_type": "code",
   "execution_count": 4,
   "metadata": {
    "tags": []
   },
   "outputs": [
    {
     "output_type": "stream",
     "name": "stdout",
     "text": "CPU times: user 35min 36s, sys: 8min 49s, total: 44min 26s\nWall time: 1h 42min 30s\n"
    }
   ],
   "source": [
    "# %%time\n",
    "# del pga\n",
    "# data = gpd.sjoin(pgaGeo, sa, op=\"within\")"
   ]
  },
  {
   "cell_type": "code",
   "execution_count": 5,
   "metadata": {},
   "outputs": [],
   "source": [
    "# %%time\n",
    "# data.to_file('/Users/alex/Dropbox/Work/GNS/008_FFE/ProbaFFE/FFE/shapefile/joinSA_PGA.shp')"
   ]
  },
  {
   "cell_type": "markdown",
   "metadata": {},
   "source": [
    "## Ignition calculations"
   ]
  },
  {
   "cell_type": "code",
   "execution_count": 7,
   "metadata": {},
   "outputs": [
    {
     "output_type": "execute_result",
     "data": {
      "text/plain": "__null_dask_index__\n0      2208\n76     2208\n152    2208\n228    2208\n304    2208\nName: PopDensity, dtype: int64"
     },
     "metadata": {},
     "execution_count": 7
    }
   ],
   "source": [
    "data.head(5)['PopDensity']"
   ]
  },
  {
   "cell_type": "code",
   "execution_count": null,
   "metadata": {},
   "outputs": [],
   "source": [
    "data['SA_IgnPrb'] = 1/(np.exp(-1*(-6.755+8.463+data[percentile]+0.0000984+data['PopDensity']+0.001523+data['BldgFloo_1'])))\n",
    "data['IgnProb_bl'] = 1 - np.power(1-data['SA_IgnPrb'], +1/data['NumberBldg'])"
   ]
  }
 ]
}