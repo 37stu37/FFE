{
 "metadata": {
  "language_info": {
   "codemirror_mode": {
    "name": "ipython",
    "version": 3
   },
   "file_extension": ".py",
   "mimetype": "text/x-python",
   "name": "python",
   "nbconvert_exporter": "python",
   "pygments_lexer": "ipython3",
   "version": "3.7.4-final"
  },
  "orig_nbformat": 2,
  "kernelspec": {
   "name": "python3",
   "display_name": "Python 3"
  }
 },
 "nbformat": 4,
 "nbformat_minor": 2,
 "cells": [
  {
   "cell_type": "markdown",
   "metadata": {},
   "source": [
    "## Import"
   ]
  },
  {
   "cell_type": "code",
   "execution_count": 1,
   "metadata": {},
   "outputs": [],
   "source": [
    "import glob\n",
    "from math import sqrt\n",
    "import matplotlib.pyplot as plt\n",
    "from matplotlib.pyplot import imshow\n",
    "import numpy as np\n",
    "import pandas as pd\n",
    "import geopandas as gpd\n",
    "# import geoparquet as gpq\n",
    "\n",
    "from math import *\n",
    "from shapely.geometry import Point\n",
    "\n",
    "import dask.dataframe as dd\n",
    "from dask.diagnostics import ProgressBar\n",
    "# import dask_geopandas as dg\n",
    "\n",
    "\n",
    "\n",
    "from pathlib import Path\n",
    "import os\n",
    "import glob\n",
    "\n",
    "import re\n",
    "from tqdm import tqdm\n",
    "\n",
    "%matplotlib inline\n",
    "from IPython.core.interactiveshell import InteractiveShell\n",
    "InteractiveShell.ast_node_interactivity = \"all\""
   ]
  },
  {
   "cell_type": "markdown",
   "metadata": {},
   "source": [
    "## Data"
   ]
  },
  {
   "cell_type": "code",
   "execution_count": 7,
   "metadata": {},
   "outputs": [
    {
     "output_type": "stream",
     "name": "stdout",
     "text": "Wall time: 3min 22s\n"
    }
   ],
   "source": [
    "%%time\n",
    "# sa\n",
    "sa = gpd.read_file('C:/Users/alexd/Dropbox/Work/Repository/FFE/data/shapefile/SA2_input.shp')\n",
    "sa = sa[['BldgFloor_', 'PopDensity', 'NumberBldg', 'geometry', 'SA_ID']] # drop column not used in caluclation of Ignition\n",
    "sa = gpd.GeoDataFrame(sa, crs=\"EPSG:2193\")\n",
    "\n",
    "# pga \n",
    "pga = pd.read_parquet('C:/Users/alexd/Dropbox/Work/Repository/OpenQuake/output/PGAxy.parquet')\n",
    "pgaGeo = gpd.GeoDataFrame(pga, geometry=gpd.points_from_xy(pga.lon, pga.lat))#, crs=\"EPSG:2193\"))"
   ]
  },
  {
   "cell_type": "code",
   "execution_count": 8,
   "metadata": {
    "tags": []
   },
   "outputs": [
    {
     "output_type": "stream",
     "name": "stdout",
     "text": "Wall time: 25min 13s\n"
    }
   ],
   "source": [
    "%%time\n",
    "del pga\n",
    "data = gpd.sjoin(pgaGeo, sa, op=\"within\")"
   ]
  },
  {
   "cell_type": "markdown",
   "metadata": {},
   "source": [
    "## Ignition calculations"
   ]
  },
  {
   "cell_type": "code",
   "execution_count": 35,
   "metadata": {},
   "outputs": [],
   "source": [
    "from numba import jit\n",
    "\n",
    "gmv_PGA = data.gmv_PGA.values\n",
    "PopDensity = data.PopDensity\n",
    "BldFloor = data.BldgFloor_.values\n",
    "NbrBld = data.NumberBldg.values\n",
    "\n",
    "@jit\n",
    "def ignition_district(PGAs, PD, SF):\n",
    "    Pign = np.exp(-6.755 + (8.463 * PGAs) + (98.4e-6 * PD) + (152.3e-6 * SF)) / (1 + np.exp(-6.755 + (8.463 * PGAs) + (98.4e-6 * PD) + (152.3e-6 * SF)))\n",
    "    return Pign\n",
    "\n",
    "\n",
    "@jit\n",
    "def ignition_buildings(IgnDistrict, NBbld):\n",
    "    PignBld = 1 - np.power(1-IgnDistrict, 1/NBbld)\n",
    "    return PignBld"
   ]
  },
  {
   "cell_type": "code",
   "execution_count": 36,
   "metadata": {},
   "outputs": [
    {
     "output_type": "stream",
     "name": "stdout",
     "text": "Wall time: 3.37 s\n"
    }
   ],
   "source": [
    "%%time\n",
    "Pignition_district = ignition_district(gmv_PGA, PopDensity, BldFloor)\n",
    "Pignition_buildings = ignition_buildings(Pignition_district, NbrBld)"
   ]
  },
  {
   "cell_type": "code",
   "execution_count": 47,
   "metadata": {},
   "outputs": [],
   "source": [
    "data['IgnProb'] = Pignition_buildings\n",
    "joinSA_PGA = data[['event_id', 'site_id', 'gmv_PGA', 'lon', 'lat', 'geometry','IgnProb']]"
   ]
  },
  {
   "cell_type": "code",
   "execution_count": 51,
   "metadata": {},
   "outputs": [
    {
     "output_type": "execute_result",
     "data": {
      "text/plain": "                     event_id  site_id   gmv_PGA           lon           lat  \\\n__null_dask_index__                                                            \n0                           0        0  0.050537  1.752780e+06  5.441405e+06   \n76                          1        0  0.259768  1.752780e+06  5.441405e+06   \n152                         2        0  0.099314  1.752780e+06  5.441405e+06   \n228                         3        0  0.128333  1.752780e+06  5.441405e+06   \n304                         4        0  0.017772  1.752780e+06  5.441405e+06   \n...                       ...      ...       ...           ...           ...   \n400537                 277403       75  0.078601  1.753387e+06  5.423233e+06   \n400613                 277404       75  0.030152  1.753387e+06  5.423233e+06   \n400689                 277405       75  0.132138  1.753387e+06  5.423233e+06   \n400765                 277406       75  0.077682  1.753387e+06  5.423233e+06   \n400841                 277407       75  0.027701  1.753387e+06  5.423233e+06   \n\n                                            geometry   IgnProb  \n__null_dask_index__                                             \n0                    POINT (1752779.830 5441405.376)  0.000002  \n76                   POINT (1752779.830 5441405.376)  0.000014  \n152                  POINT (1752779.830 5441405.376)  0.000004  \n228                  POINT (1752779.830 5441405.376)  0.000005  \n304                  POINT (1752779.830 5441405.376)  0.000002  \n...                                              ...       ...  \n400537               POINT (1753386.853 5423232.530)  0.000003  \n400613               POINT (1753386.853 5423232.530)  0.000002  \n400689               POINT (1753386.853 5423232.530)  0.000005  \n400765               POINT (1753386.853 5423232.530)  0.000003  \n400841               POINT (1753386.853 5423232.530)  0.000002  \n\n[20336384 rows x 7 columns]",
      "text/html": "<div>\n<style scoped>\n    .dataframe tbody tr th:only-of-type {\n        vertical-align: middle;\n    }\n\n    .dataframe tbody tr th {\n        vertical-align: top;\n    }\n\n    .dataframe thead th {\n        text-align: right;\n    }\n</style>\n<table border=\"1\" class=\"dataframe\">\n  <thead>\n    <tr style=\"text-align: right;\">\n      <th></th>\n      <th>event_id</th>\n      <th>site_id</th>\n      <th>gmv_PGA</th>\n      <th>lon</th>\n      <th>lat</th>\n      <th>geometry</th>\n      <th>IgnProb</th>\n    </tr>\n    <tr>\n      <th>__null_dask_index__</th>\n      <th></th>\n      <th></th>\n      <th></th>\n      <th></th>\n      <th></th>\n      <th></th>\n      <th></th>\n    </tr>\n  </thead>\n  <tbody>\n    <tr>\n      <td>0</td>\n      <td>0</td>\n      <td>0</td>\n      <td>0.050537</td>\n      <td>1.752780e+06</td>\n      <td>5.441405e+06</td>\n      <td>POINT (1752779.830 5441405.376)</td>\n      <td>0.000002</td>\n    </tr>\n    <tr>\n      <td>76</td>\n      <td>1</td>\n      <td>0</td>\n      <td>0.259768</td>\n      <td>1.752780e+06</td>\n      <td>5.441405e+06</td>\n      <td>POINT (1752779.830 5441405.376)</td>\n      <td>0.000014</td>\n    </tr>\n    <tr>\n      <td>152</td>\n      <td>2</td>\n      <td>0</td>\n      <td>0.099314</td>\n      <td>1.752780e+06</td>\n      <td>5.441405e+06</td>\n      <td>POINT (1752779.830 5441405.376)</td>\n      <td>0.000004</td>\n    </tr>\n    <tr>\n      <td>228</td>\n      <td>3</td>\n      <td>0</td>\n      <td>0.128333</td>\n      <td>1.752780e+06</td>\n      <td>5.441405e+06</td>\n      <td>POINT (1752779.830 5441405.376)</td>\n      <td>0.000005</td>\n    </tr>\n    <tr>\n      <td>304</td>\n      <td>4</td>\n      <td>0</td>\n      <td>0.017772</td>\n      <td>1.752780e+06</td>\n      <td>5.441405e+06</td>\n      <td>POINT (1752779.830 5441405.376)</td>\n      <td>0.000002</td>\n    </tr>\n    <tr>\n      <td>...</td>\n      <td>...</td>\n      <td>...</td>\n      <td>...</td>\n      <td>...</td>\n      <td>...</td>\n      <td>...</td>\n      <td>...</td>\n    </tr>\n    <tr>\n      <td>400537</td>\n      <td>277403</td>\n      <td>75</td>\n      <td>0.078601</td>\n      <td>1.753387e+06</td>\n      <td>5.423233e+06</td>\n      <td>POINT (1753386.853 5423232.530)</td>\n      <td>0.000003</td>\n    </tr>\n    <tr>\n      <td>400613</td>\n      <td>277404</td>\n      <td>75</td>\n      <td>0.030152</td>\n      <td>1.753387e+06</td>\n      <td>5.423233e+06</td>\n      <td>POINT (1753386.853 5423232.530)</td>\n      <td>0.000002</td>\n    </tr>\n    <tr>\n      <td>400689</td>\n      <td>277405</td>\n      <td>75</td>\n      <td>0.132138</td>\n      <td>1.753387e+06</td>\n      <td>5.423233e+06</td>\n      <td>POINT (1753386.853 5423232.530)</td>\n      <td>0.000005</td>\n    </tr>\n    <tr>\n      <td>400765</td>\n      <td>277406</td>\n      <td>75</td>\n      <td>0.077682</td>\n      <td>1.753387e+06</td>\n      <td>5.423233e+06</td>\n      <td>POINT (1753386.853 5423232.530)</td>\n      <td>0.000003</td>\n    </tr>\n    <tr>\n      <td>400841</td>\n      <td>277407</td>\n      <td>75</td>\n      <td>0.027701</td>\n      <td>1.753387e+06</td>\n      <td>5.423233e+06</td>\n      <td>POINT (1753386.853 5423232.530)</td>\n      <td>0.000002</td>\n    </tr>\n  </tbody>\n</table>\n<p>20336384 rows × 7 columns</p>\n</div>"
     },
     "metadata": {},
     "execution_count": 51
    }
   ],
   "source": [
    "%%time\n",
    "joinSA_PGA.to_file('C:/Users/alexd/Dropbox/Work/GNS/008_FFE/ProbaFFE/FFE/shapefile/inout_probamodel/joinSA_PGA.shp')"
   ]
  },
  {
   "cell_type": "code",
   "execution_count": null,
   "metadata": {},
   "outputs": [],
   "source": []
  }
 ]
}