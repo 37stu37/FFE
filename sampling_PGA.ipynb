{
  "nbformat": 4,
  "nbformat_minor": 0,
  "metadata": {
    "colab": {
      "name": "sampling_PGA.ipynb",
      "provenance": [],
      "authorship_tag": "ABX9TyP0h26x+X7n+O0nbEZZLok2",
      "include_colab_link": true
    },
    "kernelspec": {
      "name": "python3",
      "display_name": "Python 3"
    }
  },
  "cells": [
    {
      "cell_type": "markdown",
      "metadata": {
        "id": "view-in-github",
        "colab_type": "text"
      },
      "source": [
        "<a href=\"https://colab.research.google.com/github/37stu37/FFE/blob/master/sampling_PGA.ipynb\" target=\"_parent\"><img src=\"https://colab.research.google.com/assets/colab-badge.svg\" alt=\"Open In Colab\"/></a>"
      ]
    },
    {
      "cell_type": "code",
      "metadata": {
        "id": "CeUkq-13by7W",
        "colab_type": "code",
        "colab": {
          "base_uri": "https://localhost:8080/",
          "height": 51
        },
        "outputId": "6856e783-f29a-4a08-b853-519b143d7fa7"
      },
      "source": [
        "%%time \n",
        "%%capture\n",
        "!apt update\n",
        "!apt upgrade\n",
        "!apt install gdal-bin python-gdal python3-gdal \n",
        "# Install rtree - Geopandas requirment\n",
        "!apt install python3-rtree \n",
        "# Install Geopandas\n",
        "!pip install git+git://github.com/geopandas/geopandas.git\n",
        "# Install descartes - Geopandas requirment\n",
        "!pip install descartes"
      ],
      "execution_count": 1,
      "outputs": [
        {
          "output_type": "stream",
          "text": [
            "CPU times: user 691 ms, sys: 93.6 ms, total: 785 ms\n",
            "Wall time: 1min 32s\n"
          ],
          "name": "stdout"
        }
      ]
    },
    {
      "cell_type": "code",
      "metadata": {
        "id": "jZgVxGtdccKY",
        "colab_type": "code",
        "colab": {
          "base_uri": "https://localhost:8080/",
          "height": 122
        },
        "outputId": "6ef8510e-66fa-4357-8221-5fbb2fd52aaf"
      },
      "source": [
        "# Load the Drive helper and mount\n",
        "from google.colab import drive\n",
        "%tensorflow_version 2.x\n",
        "# This will prompt for authorization.\n",
        "drive.mount('/content/drive')"
      ],
      "execution_count": 2,
      "outputs": [
        {
          "output_type": "stream",
          "text": [
            "Go to this URL in a browser: https://accounts.google.com/o/oauth2/auth?client_id=947318989803-6bn6qk8qdgf4n4g3pfee6491hc0brc4i.apps.googleusercontent.com&redirect_uri=urn%3aietf%3awg%3aoauth%3a2.0%3aoob&response_type=code&scope=email%20https%3a%2f%2fwww.googleapis.com%2fauth%2fdocs.test%20https%3a%2f%2fwww.googleapis.com%2fauth%2fdrive%20https%3a%2f%2fwww.googleapis.com%2fauth%2fdrive.photos.readonly%20https%3a%2f%2fwww.googleapis.com%2fauth%2fpeopleapi.readonly\n",
            "\n",
            "Enter your authorization code:\n",
            "··········\n",
            "Mounted at /content/drive\n"
          ],
          "name": "stdout"
        }
      ]
    },
    {
      "cell_type": "code",
      "metadata": {
        "id": "c4wtUwIycldK",
        "colab_type": "code",
        "colab": {}
      },
      "source": [
        "import glob\n",
        "from math import sqrt\n",
        "import os\n",
        "import matplotlib.pyplot as plt\n",
        "from matplotlib.pyplot import imshow\n",
        "import numpy as np\n",
        "import pandas as pd\n",
        "import geopandas as gpd\n",
        "import math\n",
        "\n",
        "%matplotlib inline"
      ],
      "execution_count": 0,
      "outputs": []
    },
    {
      "cell_type": "code",
      "metadata": {
        "id": "nOO_Z0e9c3JZ",
        "colab_type": "code",
        "colab": {
          "base_uri": "https://localhost:8080/",
          "height": 425
        },
        "outputId": "c54e3ee5-6150-46e2-ad33-f51ca4f9c226"
      },
      "source": [
        "path = '/content/drive/My Drive/05_Sync/FFE/FireNetwork/00_input'\n",
        "!ls '/content/drive/My Drive/05_Sync/FFE/FireNetwork/00_input'"
      ],
      "execution_count": 4,
      "outputs": [
        {
          "output_type": "stream",
          "text": [
            "buildings_raw.cpg\t\t   outputs_centroids_allpga_1000GMFsPERCENTILES\n",
            "buildings_raw.dbf\t\t   SA2.cpg\n",
            "buildings_raw.prj\t\t   SA2.dbf\n",
            "buildings_raw_pts.cpg\t\t   SA2.prj\n",
            "buildings_raw_pts.dbf\t\t   SA2.qpj\n",
            "buildings_raw_pts.mshp\t\t   SA2.shp\n",
            "buildings_raw_pts.prj\t\t   SA2.shx\n",
            "buildings_raw_pts.shp\t\t   source_target.csv\n",
            "buildings_raw_pts.shx\t\t   WairarapNich.cpg\n",
            "buildings_raw.qpj\t\t   WairarapNich.dbf\n",
            "buildings_raw.shp\t\t   WairarapNich.prj\n",
            "buildings_raw.shx\t\t   WairarapNich.qpj\n",
            "GD_wind.csv\t\t\t   WairarapNich.shp\n",
            "HikWgtmax.dbf\t\t\t   WairarapNich.shx\n",
            "HikWgtmax.prj\t\t\t   Wairau.dbf\n",
            "HikWgtmax.qpj\t\t\t   Wairau.prj\n",
            "HikWgtmax.shp\t\t\t   Wairau.qpj\n",
            "HikWgtmax.shx\t\t\t   Wairau.shp\n",
            "HikWgtmin.dbf\t\t\t   Wairau.shx\n",
            "HikWgtmin.prj\t\t\t   WellWHV.dbf\n",
            "HikWgtmin.qpj\t\t\t   WellWHV.prj\n",
            "HikWgtmin.shp\t\t\t   WellWHV.qpj\n",
            "HikWgtmin.shx\t\t\t   WellWHV.shp\n",
            "outputs_centroids_allpga_1000GMFs  WellWHV.shx\n"
          ],
          "name": "stdout"
        }
      ]
    },
    {
      "cell_type": "code",
      "metadata": {
        "id": "BUSLygj2dF-r",
        "colab_type": "code",
        "colab": {}
      },
      "source": [
        "# SA2 input data\n",
        "SA2 = gpd.read_file(os.path.join(path, \"SA2.shp\"))\n",
        "# PGA input data\n",
        "PGA = gpd.read_file(os.path.join(path, \"WellWHV.shp\"))\n",
        "# buildings data\n",
        "buildings = gpd.read_file(os.path.join(path, \"buildings_raw.shp\"))"
      ],
      "execution_count": 0,
      "outputs": []
    },
    {
      "cell_type": "code",
      "metadata": {
        "id": "BpqGjfeqmUM8",
        "colab_type": "code",
        "colab": {
          "base_uri": "https://localhost:8080/",
          "height": 187
        },
        "outputId": "3a863e35-aeeb-41a1-d024-29bc37758f82"
      },
      "source": [
        "SA2.columns, PGA.columns, buildings.columns"
      ],
      "execution_count": 30,
      "outputs": [
        {
          "output_type": "execute_result",
          "data": {
            "text/plain": [
              "(Index(['OBJECTID', 'SA22018_V1', 'SA22018__1', 'LAND_AREA_', 'AREA_SQ_KM',\n",
              "        'Pop_Total_', 'SA2_ID', 'Shape_Leng', 'Shape_Area', 'PopDensity',\n",
              "        'BldgFloor_', 'BldgFloo_1', 'NumberBldg', 'geometry'],\n",
              "       dtype='object'),\n",
              " Index(['SA2', 'sid', 'lon', 'lat', 'mean', 'pone', 'ptwo', 'pthree', 'pfour',\n",
              "        'pfive', 'psix', 'pseven', 'geometry'],\n",
              "       dtype='object'),\n",
              " Index(['TARGET_FID', 'suburb_loc', 'Combustibl', 'SHAPE_Leng', 'SHAPE_Area',\n",
              "        'AU2013Num', 'IgnProb_bl', 'RandProb', 'geometry'],\n",
              "       dtype='object'))"
            ]
          },
          "metadata": {
            "tags": []
          },
          "execution_count": 30
        }
      ]
    },
    {
      "cell_type": "code",
      "metadata": {
        "id": "LH14FduQn78S",
        "colab_type": "code",
        "colab": {}
      },
      "source": [
        "buildings.suburb_loc"
      ],
      "execution_count": 0,
      "outputs": []
    },
    {
      "cell_type": "code",
      "metadata": {
        "id": "gUruVNiDe_jP",
        "colab_type": "code",
        "colab": {
          "base_uri": "https://localhost:8080/",
          "height": 290
        },
        "outputId": "6a13d1d7-614a-49a1-c1b1-3a47b1a59565"
      },
      "source": [
        "#plot\n",
        "fig, (ax1, ax2, ax3) = plt.subplots(ncols=3, sharex=True, sharey=True)\n",
        "fig.suptitle('SA2 / PGA / buildings')\n",
        "SA2.plot(ax=ax1, column='SA2_ID')\n",
        "PGA.plot(ax=ax2, column='SA2')\n",
        "buildings.plot(ax=ax3, column='suburb_loc')"
      ],
      "execution_count": 36,
      "outputs": [
        {
          "output_type": "execute_result",
          "data": {
            "text/plain": [
              "<matplotlib.axes._subplots.AxesSubplot at 0x7fcc01603a90>"
            ]
          },
          "metadata": {
            "tags": []
          },
          "execution_count": 36
        },
        {
          "output_type": "display_data",
          "data": {
            "image/png": "[encoded data removed]",
            "text/plain": [
              "<Figure size 432x288 with 3 Axes>"
            ]
          },
          "metadata": {
            "tags": []
          }
        }
      ]
    },
    {
      "cell_type": "code",
      "metadata": {
        "id": "cDeR94r7fHE5",
        "colab_type": "code",
        "colab": {}
      },
      "source": [
        "def merge(data1, data2):\n",
        "  return data1.merge(data2, how='left', left_on='SA2_ID', right_on='SA2')\\\n",
        "\n",
        "def IgnitionProbability_SA2():\n",
        "  data = merge(SA2, PGA)\n",
        "  data['SA_IgnPrb'] = 1/(math.exp(-1*(-6.755+8.)))"
      ],
      "execution_count": 0,
      "outputs": []
    }
  ]
}