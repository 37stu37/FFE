"""
calculate ignition probability from SA2 data

"""
