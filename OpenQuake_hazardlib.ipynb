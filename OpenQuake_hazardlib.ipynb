{
  "nbformat": 4,
  "nbformat_minor": 0,
  "metadata": {
    "colab": {
      "name": "OpenQuake_hazardlib.ipynb",
      "provenance": [],
      "authorship_tag": "ABX9TyMSrQaWQRqCsDRnPYibcu/4",
      "include_colab_link": true
    },
    "kernelspec": {
      "name": "python3",
      "display_name": "Python 3"
    }
  },
  "cells": [
    {
      "cell_type": "markdown",
      "metadata": {
        "id": "view-in-github",
        "colab_type": "text"
      },
      "source": [
        "<a href=\"https://colab.research.google.com/github/37stu37/FFE/blob/master/OpenQuake_hazardlib.ipynb\" target=\"_parent\"><img src=\"https://colab.research.google.com/assets/colab-badge.svg\" alt=\"Open In Colab\"/></a>"
      ]
    },
    {
      "cell_type": "code",
      "metadata": {
        "id": "_2BfupS1P0ID",
        "colab_type": "code",
        "colab": {
          "base_uri": "https://localhost:8080/",
          "height": 153
        },
        "outputId": "f8247ffb-7824-4e87-db00-6b4d500cb28e"
      },
      "source": [
        "!git clone https://github.com/gem/oq-engine.git"
      ],
      "execution_count": 1,
      "outputs": [
        {
          "output_type": "stream",
          "text": [
            "Cloning into 'oq-engine'...\n",
            "remote: Enumerating objects: 93, done.\u001b[K\n",
            "remote: Counting objects: 100% (93/93), done.\u001b[K\n",
            "remote: Compressing objects: 100% (71/71), done.\u001b[K\n",
            "remote: Total 509831 (delta 46), reused 45 (delta 21), pack-reused 509738\u001b[K\n",
            "Receiving objects: 100% (509831/509831), 780.92 MiB | 27.98 MiB/s, done.\n",
            "Resolving deltas: 100% (314980/314980), done.\n",
            "Checking out files: 100% (6209/6209), done.\n"
          ],
          "name": "stdout"
        }
      ]
    }
  ]
}