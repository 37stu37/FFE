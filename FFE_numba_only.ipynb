{
  "nbformat": 4,
  "nbformat_minor": 0,
  "metadata": {
    "colab": {
      "name": "Untitled0.ipynb",
      "provenance": [],
      "mount_file_id": "https://github.com/37stu37/FFE/blob/master/FFE_network_one_file_run.ipynb",
      "authorship_tag": "ABX9TyNIHfSkrNXrGnyGggGb4vjz",
      "include_colab_link": true
    },
    "kernelspec": {
      "name": "python3",
      "display_name": "Python 3"
    },
    "accelerator": "GPU"
  },
  "cells": [
    {
      "cell_type": "markdown",
      "metadata": {
        "id": "view-in-github",
        "colab_type": "text"
      },
      "source": [
        "<a href=\"https://colab.research.google.com/github/37stu37/FFE/blob/master/FFE_numba_only.ipynb\" target=\"_parent\"><img src=\"https://colab.research.google.com/assets/colab-badge.svg\" alt=\"Open In Colab\"/></a>"
      ]
    },
    {
      "cell_type": "code",
      "metadata": {
        "id": "QGCGL2eCzyEv",
        "colab_type": "code",
        "outputId": "df117067-d1c8-40b7-afad-4ec0609eca7a",
        "colab": {
          "base_uri": "https://localhost:8080/",
          "height": 52
        }
      },
      "source": [
        "%%time \n",
        "%%capture\n",
        "!apt update\n",
        "!apt upgrade\n",
        "!apt install gdal-bin python-gdal python3-gdal \n",
        "# Install rtree - Geopandas requirment\n",
        "!apt install python3-rtree \n",
        "# Install Geopandas\n",
        "!pip install git+git://github.com/geopandas/geopandas.git\n",
        "# Install descartes - Geopandas requirment\n",
        "!pip install descartes \n",
        "!pip install memory_profiler"
      ],
      "execution_count": 2,
      "outputs": [
        {
          "output_type": "stream",
          "text": [
            "CPU times: user 448 ms, sys: 77.2 ms, total: 525 ms\n",
            "Wall time: 1min 27s\n"
          ],
          "name": "stdout"
        }
      ]
    },
    {
      "cell_type": "code",
      "metadata": {
        "id": "0PipQ4HNTjKW",
        "colab_type": "code",
        "outputId": "6c80c88c-5de6-4b26-9cb9-923995e79438",
        "colab": {
          "base_uri": "https://localhost:8080/",
          "height": 143
        }
      },
      "source": [
        "# Load the Drive helper and mount\n",
        "from google.colab import drive\n",
        "%tensorflow_version 2.x\n",
        "# This will prompt for authorization.\n",
        "drive.mount('/content/drive')"
      ],
      "execution_count": 3,
      "outputs": [
        {
          "output_type": "stream",
          "text": [
            "TensorFlow 2.x selected.\n",
            "Go to this URL in a browser: https://accounts.google.com/o/oauth2/auth?client_id=947318989803-6bn6qk8qdgf4n4g3pfee6491hc0brc4i.apps.googleusercontent.com&redirect_uri=urn%3aietf%3awg%3aoauth%3a2.0%3aoob&response_type=code&scope=email%20https%3a%2f%2fwww.googleapis.com%2fauth%2fdocs.test%20https%3a%2f%2fwww.googleapis.com%2fauth%2fdrive%20https%3a%2f%2fwww.googleapis.com%2fauth%2fdrive.photos.readonly%20https%3a%2f%2fwww.googleapis.com%2fauth%2fpeopleapi.readonly\n",
            "\n",
            "Enter your authorization code:\n",
            "··········\n",
            "Mounted at /content/drive\n"
          ],
          "name": "stdout"
        }
      ]
    },
    {
      "cell_type": "code",
      "metadata": {
        "id": "kr0PZxCvmWCl",
        "colab_type": "code",
        "outputId": "396be2a0-2e36-42b0-a012-50de5c5266cf",
        "colab": {
          "base_uri": "https://localhost:8080/",
          "height": 52
        }
      },
      "source": [
        "%%time\n",
        "import datetime\n",
        "import glob\n",
        "from math import sqrt\n",
        "import os\n",
        "import matplotlib.pyplot as plt\n",
        "import bokeh\n",
        "import numpy as np\n",
        "import pandas as pd\n",
        "import geopandas as gpd\n",
        "from scipy.spatial import distance\n",
        "from shapely.geometry import box\n",
        "from shapely.geometry import shape\n",
        "from shapely.geometry import Point\n",
        "import networkx as nx\n",
        "from sys import getsizeof\n",
        "from numba import jit\n",
        "import dask.dataframe as dd\n",
        "import dask.array as da\n",
        "import dask\n",
        "from dask.distributed import Client\n",
        "from dask.diagnostics import ProgressBar\n",
        "%matplotlib inline\n",
        "%load_ext memory_profiler\n",
        "\n",
        "pd.options.mode.chained_assignment = None  # default='warn'"
      ],
      "execution_count": 4,
      "outputs": [
        {
          "output_type": "stream",
          "text": [
            "CPU times: user 810 ms, sys: 130 ms, total: 940 ms\n",
            "Wall time: 2.77 s\n"
          ],
          "name": "stdout"
        }
      ]
    },
    {
      "cell_type": "code",
      "metadata": {
        "id": "mz4lyV9f3Sny",
        "colab_type": "code",
        "outputId": "ff2a646c-f88f-45ea-d772-363b3535572c",
        "colab": {
          "base_uri": "https://localhost:8080/",
          "height": 262
        }
      },
      "source": [
        "client = Client(processes=False)\n",
        "client"
      ],
      "execution_count": 5,
      "outputs": [
        {
          "output_type": "stream",
          "text": [
            "/usr/local/lib/python3.6/dist-packages/distributed/bokeh/core.py:57: UserWarning: \n",
            "Failed to start diagnostics server on port 8787. [Errno 99] Cannot assign requested address\n",
            "  warnings.warn('\\n' + msg)\n",
            "/usr/local/lib/python3.6/dist-packages/distributed/deploy/local.py:197: UserWarning: \n",
            "Could not launch service 'bokeh' on port 8787. Got the following message:\n",
            "\n",
            "[Errno 99] Cannot assign requested address\n",
            "  self.scheduler.start(scheduler_address)\n"
          ],
          "name": "stderr"
        },
        {
          "output_type": "execute_result",
          "data": {
            "text/html": [
              "<table style=\"border: 2px solid white;\">\n",
              "<tr>\n",
              "<td style=\"vertical-align: top; border: 0px solid white\">\n",
              "<h3>Client</h3>\n",
              "<ul>\n",
              "  <li><b>Scheduler: </b>inproc://172.28.0.2/121/1\n",
              "</ul>\n",
              "</td>\n",
              "<td style=\"vertical-align: top; border: 0px solid white\">\n",
              "<h3>Cluster</h3>\n",
              "<ul>\n",
              "  <li><b>Workers: </b>1</li>\n",
              "  <li><b>Cores: </b>2</li>\n",
              "  <li><b>Memory: </b>13.66 GB</li>\n",
              "</ul>\n",
              "</td>\n",
              "</tr>\n",
              "</table>"
            ],
            "text/plain": [
              "<Client: scheduler='inproc://172.28.0.2/121/1' processes=1 cores=2>"
            ]
          },
          "metadata": {
            "tags": []
          },
          "execution_count": 5
        }
      ]
    },
    {
      "cell_type": "markdown",
      "metadata": {
        "id": "O2tMnwAEmqpF",
        "colab_type": "text"
      },
      "source": [
        "Set up the path  to data and output"
      ]
    },
    {
      "cell_type": "code",
      "metadata": {
        "id": "w-tLiFKrmZDM",
        "colab_type": "code",
        "outputId": "0c859b65-7746-44f5-e376-d0ca5ceeae11",
        "colab": {
          "base_uri": "https://localhost:8080/",
          "height": 123
        }
      },
      "source": [
        "path = '/content/drive/My Drive/05_Sync/FFE/FireNetwork/00_input'\n",
        "path_output = '/content/drive/My Drive/05_Sync/FFE/FireNetwork/00_output'\n",
        "\n",
        "!ls \"/content/drive/My Drive/05_Sync/FFE/FireNetwork/00_input\"\n",
        "!ls '/content/drive/My Drive/05_Sync/FFE/FireNetwork/00_output/dask_edge_list'"
      ],
      "execution_count": 6,
      "outputs": [
        {
          "output_type": "stream",
          "text": [
            "buildings_raw.cpg      buildings_raw_pts.mshp  buildings_raw.shp\n",
            "buildings_raw.dbf      buildings_raw_pts.prj   buildings_raw.shx\n",
            "buildings_raw.prj      buildings_raw_pts.shp   GD_wind.csv\n",
            "buildings_raw_pts.cpg  buildings_raw_pts.shx   source_target.csv\n",
            "buildings_raw_pts.dbf  buildings_raw.qpj\n",
            "edge_data.parquet\n"
          ],
          "name": "stdout"
        }
      ]
    },
    {
      "cell_type": "markdown",
      "metadata": {
        "id": "N6kl25fSmjGN",
        "colab_type": "text"
      },
      "source": [
        "Create the functions to be used by the algorithm"
      ]
    },
    {
      "cell_type": "code",
      "metadata": {
        "id": "aZBv57Y0KIcp",
        "colab_type": "code",
        "colab": {
          "base_uri": "https://localhost:8080/",
          "height": 178
        },
        "outputId": "598c8b9a-df68-4ac8-b70e-c22d5001e206"
      },
      "source": [
        "EDGES = dd.read_parquet(os.path.join(path_output, 'dask_edge_list', 'edge_data.parquet'), engine='pyarrow')\n",
        "print(EDGES)"
      ],
      "execution_count": 7,
      "outputs": [
        {
          "output_type": "stream",
          "text": [
            "/usr/local/lib/python3.6/dist-packages/fsspec/implementations/local.py:33: FutureWarning: The default value of auto_mkdir=True has been deprecated and will be changed to auto_mkdir=False by default in a future release.\n",
            "  FutureWarning,\n"
          ],
          "name": "stderr"
        },
        {
          "output_type": "stream",
          "text": [
            "Dask DataFrame Structure:\n",
            "              source target distance  bearing IgnProb_bl\n",
            "npartitions=1                                           \n",
            "               int64  int64  float64  float64    float64\n",
            "                 ...    ...      ...      ...        ...\n",
            "Dask Name: read-parquet, 1 tasks\n"
          ],
          "name": "stdout"
        }
      ]
    },
    {
      "cell_type": "code",
      "metadata": {
        "id": "6K8GSAGtRYfo",
        "colab_type": "code",
        "colab": {}
      },
      "source": [
        "def output_df_as_arrays(edges):\n",
        "  source = edges.source\n",
        "  target = edges.target\n",
        "  distance = edges.distance\n",
        "  bearing = edges.bearing\n",
        "  ign_probability = edges.IgnProb_bl\n",
        "  return source, target, distance, bearing, ign_probability"
      ],
      "execution_count": 0,
      "outputs": []
    },
    {
      "cell_type": "code",
      "metadata": {
        "id": "AUxzQ-o0T7Rf",
        "colab_type": "code",
        "colab": {
          "base_uri": "https://localhost:8080/",
          "height": 70
        },
        "outputId": "c1d93e84-c344-48e3-a75f-6624a8e37367"
      },
      "source": [
        "%%time\n",
        "%memit\n",
        "data_source, data_target, data_distance, data_bearing, data_ign_probability = output_df_as_arrays(EDGES)"
      ],
      "execution_count": 9,
      "outputs": [
        {
          "output_type": "stream",
          "text": [
            "peak memory: 291.93 MiB, increment: 0.21 MiB\n",
            "CPU times: user 87.5 ms, sys: 41.9 ms, total: 129 ms\n",
            "Wall time: 266 ms\n"
          ],
          "name": "stdout"
        }
      ]
    },
    {
      "cell_type": "code",
      "metadata": {
        "id": "J9H08CSY1fhg",
        "colab_type": "code",
        "colab": {}
      },
      "source": [
        "# wind scenario\n",
        "@jit\n",
        "def wind_scenario(file_name):\n",
        "    # wind scenario conditions\n",
        "    wind_data = pd.read_csv(os.path.join(path, file_name))\n",
        "    i = np.random.randint(0, wind_data.shape[0])\n",
        "    w = wind_data.iloc[i, 2]\n",
        "    d = wind_data.iloc[i, 1]\n",
        "    b = wind_data.iloc[i, 3]\n",
        "    # wind direction\n",
        "    wind_bearing_max = b + 45\n",
        "    wind_bearing_min = b - 45\n",
        "    if b == 360:\n",
        "        wind_bearing_max = 45\n",
        "    if b <= 0:  # should not be necessary\n",
        "        wind_bearing_min = 0\n",
        "    if b == 999:\n",
        "        wind_bearing_max = 999\n",
        "        wind_bearing_min = 0\n",
        "    \n",
        "    return wind_bearing_max, wind_bearing_min, d"
      ],
      "execution_count": 0,
      "outputs": []
    },
    {
      "cell_type": "code",
      "metadata": {
        "id": "IIjsYRaVMvp2",
        "colab_type": "code",
        "colab": {}
      },
      "source": [
        "# create ignitions\n",
        "@jit\n",
        "def ignitions(source, ign_probability):\n",
        "  source_list = []\n",
        "\n",
        "  rng = np.random.random()\n",
        "\n",
        "  for idx, p in enumerate(ign_probability):\n",
        "      if ign_probability[idx] < rng:\n",
        "        source_list.append(source[idx])\n",
        "\n",
        "  return source_list"
      ],
      "execution_count": 0,
      "outputs": []
    },
    {
      "cell_type": "code",
      "metadata": {
        "id": "lMwRlajrMvoY",
        "colab_type": "code",
        "colab": {}
      },
      "source": [
        "# conditions of fire propagation\n",
        "@jit\n",
        "def conditional_spread(fires,already_burnt,\n",
        "                      edges_sources,edges_targets,edges_distances, edges_bearings,\n",
        "                      wind_bearing_max,wind_bearing_min,wind_distance):\n",
        "  new_fires = []\n",
        "  for (s,t,d,b) in zip(edges_sources,edges_targets,edges_distances,edges_bearings): \n",
        "    if s in fires and t not in already_burnt:\n",
        "        if d < wind_distance:\n",
        "            if b < wind_bearing_max and b > wind_bearing_min:\n",
        "                new_fires.append(t)\n",
        "\n",
        "  already_burnt.extend(fires)\n",
        "  \n",
        "  return new_fires, already_burnt"
      ],
      "execution_count": 0,
      "outputs": []
    },
    {
      "cell_type": "code",
      "metadata": {
        "colab_type": "code",
        "id": "_sR7dhoLujXq",
        "colab": {}
      },
      "source": [
        "# burned assets\n",
        "@jit\n",
        "def burnt_assets(already_burn, fires):\n",
        "  return already_burn.append(fires)"
      ],
      "execution_count": 0,
      "outputs": []
    },
    {
      "cell_type": "code",
      "metadata": {
        "id": "xa9nJc2nMvi7",
        "colab_type": "code",
        "colab": {}
      },
      "source": [
        "@jit\n",
        "def main(number_of_scenarios, EDGES):\n",
        "  DATA_sources, DATA_targets, DATA_distances, DATA_bearings, DATA_ign_probability = output_df_as_arrays(EDGES)\n",
        "  burn_list = []\n",
        "  scenario_list = []\n",
        "  step_list = []\n",
        "  # --- SCENARIOS\n",
        "  print(\"number of scenarios : {}\".format(number_of_scenarios))\n",
        "  for scenario in range(number_of_scenarios):\n",
        "      BURNED = []\n",
        "      print(\"--- SCENARIO : {}\".format(scenario))\n",
        "      FIRES = ignitions(DATA_sources, DATA_ign_probability)\n",
        "      if len(FIRES) == 0:\n",
        "          print(\"no fire\")\n",
        "          continue\n",
        "      WIND_bearing_max, WIND_bearing_min, WIND_distance = wind_scenario('GD_wind.csv')\n",
        "      # --------- STEPS\n",
        "      for step in range(len(EDGES)):\n",
        "          print(\"--------- STEP : {}\".format(step))\n",
        "          FIRES, BURNED = conditional_spread(FIRES,BURNED,\n",
        "                      DATA_sources,DATA_targets,DATA_distances, DATA_bearings,\n",
        "                      WIND_bearing_max,WIND_bearing_min,WIND_distance)\n",
        "          if len(FIRES) == 0:\n",
        "            print(\"no fire\")\n",
        "            burn_list.extend(BURNED)\n",
        "            [5] * 4\n",
        "            step_list.append([step]*len(burn_list))\n",
        "            break\n",
        "          burn_list.extend(BURNED)\n",
        "      scenario_list.extend([scenario]*len(burn_list))\n",
        "  return burn_list, scenario_list, step_list"
      ],
      "execution_count": 0,
      "outputs": []
    },
    {
      "cell_type": "code",
      "metadata": {
        "id": "FXDI561DMvg0",
        "colab_type": "code",
        "colab": {
          "base_uri": "https://localhost:8080/",
          "height": 70
        },
        "outputId": "8fbebbb7-fa3c-4567-dc08-664f416a44a2"
      },
      "source": [
        "%%time\n",
        "# with ProgressBar():\n",
        "# load data\n",
        "# EDGES = dd.read_parquet(os.path.join(path_output, 'dask_edge_list', 'edge_data.parquet'), engine='pyarrow')\n",
        "EDGES = pd.read_parquet(os.path.join(path_output, 'dask_edge_list', 'edge_data.parquet'), engine='pyarrow')\n",
        "# run main\n",
        "list_BURN, list_scenarios, list_steps = main(10, EDGES)"
      ],
      "execution_count": 0,
      "outputs": [
        {
          "output_type": "stream",
          "text": [
            "number of scenarios : 10\n",
            "--- SCENARIO : 0\n",
            "--------- STEP : 0\n"
          ],
          "name": "stdout"
        }
      ]
    },
    {
      "cell_type": "code",
      "metadata": {
        "id": "6_1D-wW9Mvfd",
        "colab_type": "code",
        "colab": {}
      },
      "source": [
        ""
      ],
      "execution_count": 0,
      "outputs": []
    },
    {
      "cell_type": "code",
      "metadata": {
        "id": "_wWtWGMfMvak",
        "colab_type": "code",
        "colab": {}
      },
      "source": [
        ""
      ],
      "execution_count": 0,
      "outputs": []
    },
    {
      "cell_type": "code",
      "metadata": {
        "id": "ZEzMBEwOQ9to",
        "colab_type": "code",
        "colab": {}
      },
      "source": [
        ""
      ],
      "execution_count": 0,
      "outputs": []
    },
    {
      "cell_type": "code",
      "metadata": {
        "id": "wV_ZbGhuQ9rf",
        "colab_type": "code",
        "colab": {}
      },
      "source": [
        ""
      ],
      "execution_count": 0,
      "outputs": []
    },
    {
      "cell_type": "code",
      "metadata": {
        "id": "B1g9bpRjQ9qR",
        "colab_type": "code",
        "colab": {}
      },
      "source": [
        ""
      ],
      "execution_count": 0,
      "outputs": []
    },
    {
      "cell_type": "code",
      "metadata": {
        "id": "ymtVZWeHQ9os",
        "colab_type": "code",
        "colab": {}
      },
      "source": [
        ""
      ],
      "execution_count": 0,
      "outputs": []
    },
    {
      "cell_type": "code",
      "metadata": {
        "id": "a26cpVHCQ9jl",
        "colab_type": "code",
        "colab": {}
      },
      "source": [
        ""
      ],
      "execution_count": 0,
      "outputs": []
    },
    {
      "cell_type": "code",
      "metadata": {
        "id": "kDBn7iOWQ9fa",
        "colab_type": "code",
        "colab": {}
      },
      "source": [
        ""
      ],
      "execution_count": 0,
      "outputs": []
    },
    {
      "cell_type": "code",
      "metadata": {
        "id": "GMY_nW6oXo-F",
        "colab_type": "code",
        "colab": {}
      },
      "source": [
        "%%time\n",
        "# check convergence\n",
        "from itertools import groupby\n",
        "number_of_burns_per_scenarios = [len(list(group)) for key, group in groupby(scos)]\n",
        "cumulative_number_of_burns_per_scenarios = list(np.cumsum(number_of_burns_per_scenarios))\n",
        "scenario_list = list(set(scos))\n",
        "scenario_list = [x+1 for x in scenario_list]\n",
        "\n",
        "average_burn_per_scenario = [c / s for c,s in zip(cumulative_number_of_burns_per_scenarios, scenario_list)]"
      ],
      "execution_count": 0,
      "outputs": []
    },
    {
      "cell_type": "code",
      "metadata": {
        "id": "OW0ImekxY5FA",
        "colab_type": "code",
        "colab": {}
      },
      "source": [
        "plt.plot(scenario_list, average_burn_per_scenario)"
      ],
      "execution_count": 0,
      "outputs": []
    }
  ]
}