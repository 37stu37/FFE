{
 "cells": [
  {
   "cell_type": "code",
   "execution_count": 43,
   "metadata": {},
   "outputs": [],
   "source": [
    "from IPython.core.interactiveshell import InteractiveShell\n",
    "InteractiveShell.ast_node_interactivity = \"all\""
   ]
  },
  {
   "cell_type": "markdown",
   "metadata": {
    "colab_type": "text",
    "id": "m42Qt2fkaDi8"
   },
   "source": [
    "**Imports**\n",
    "---\n",
    "\n"
   ]
  },
  {
   "cell_type": "code",
   "execution_count": 44,
   "metadata": {
    "colab": {},
    "colab_type": "code",
    "id": "7O35x2t8T4Dk"
   },
   "outputs": [],
   "source": [
    "import numpy as np\n",
    "import pandas as pd\n",
    "from pathlib import Path\n",
    "import sys\n",
    "import os\n",
    "import glob\n",
    "import multiprocessing as mp\n",
    "\n",
    "\n",
    "pd.options.mode.chained_assignment = None  # default='warn'"
   ]
  },
  {
   "cell_type": "code",
   "execution_count": 45,
   "metadata": {
    "colab": {},
    "colab_type": "code",
    "id": "NRP6grinJyed"
   },
   "outputs": [],
   "source": [
    "p = Path('/Users/alex/Dropbox/FFE')\n",
    "\n",
    "edge_file = p / 'FinnShapeEdges.parquet'\n",
    "wind_file = p / 'Copy of GD_wind.csv'\n",
    "folder = p / 'output'"
   ]
  },
  {
   "cell_type": "code",
   "execution_count": 46,
   "metadata": {
    "colab": {},
    "colab_type": "code",
    "id": "QtfIG4oqTqPD"
   },
   "outputs": [],
   "source": [
    "# load dataaaa\n",
    "wind_data = pd.read_csv(wind_file) \n",
    "edgelist = pd.read_parquet(edge_file, engine='pyarrow')"
   ]
  },
  {
   "cell_type": "code",
   "execution_count": 47,
   "metadata": {},
   "outputs": [],
   "source": [
    "rngFile = edgelist[['source', 'IgnProbBld']]\n",
    "rngFile.drop_duplicates(inplace=True)"
   ]
  },
  {
   "cell_type": "markdown",
   "metadata": {
    "colab_type": "text",
    "id": "Bk2RVZxgIxrX"
   },
   "source": [
    "**Definitions & parallel computing**\n",
    "---"
   ]
  },
  {
   "cell_type": "code",
   "execution_count": 48,
   "metadata": {
    "colab": {},
    "colab_type": "code",
    "id": "PyLLVwevIoNa"
   },
   "outputs": [],
   "source": [
    "# num_cores = multiprocessing.cpu_count()\n",
    "# print(num_cores)\n",
    "# # need to do this on Shell / Terminal:\n",
    "# conda install ipyparallel\n",
    "# ipcluster nbextension enable --user\n",
    "# ipcluster start # or ipcluster start -n 4"
   ]
  },
  {
   "cell_type": "code",
   "execution_count": 49,
   "metadata": {},
   "outputs": [
    {
     "data": {
      "text/plain": [
       "[0, 1, 2, 3]"
      ]
     },
     "execution_count": 49,
     "metadata": {},
     "output_type": "execute_result"
    }
   ],
   "source": [
    "import ipyparallel as ipp\n",
    "client = ipp.Client()\n",
    "dview = client[:]\n",
    "client.ids"
   ]
  },
  {
   "cell_type": "code",
   "execution_count": 50,
   "metadata": {},
   "outputs": [
    {
     "name": "stdout",
     "output_type": "stream",
     "text": [
      "importing numpy on engine(s)\n",
      "importing pandas on engine(s)\n",
      "importing Path from pathlib on engine(s)\n",
      "importing sys on engine(s)\n",
      "importing os on engine(s)\n",
      "importing glob on engine(s)\n"
     ]
    },
    {
     "ename": "KeyboardInterrupt",
     "evalue": "",
     "output_type": "error",
     "traceback": [
      "\u001b[0;31m---------------------------------------------------------------------------\u001b[0m",
      "\u001b[0;31mKeyboardInterrupt\u001b[0m                         Traceback (most recent call last)",
      "\u001b[0;32m<ipython-input-50-1e6e59e8fcfb>\u001b[0m in \u001b[0;36m<module>\u001b[0;34m\u001b[0m\n\u001b[1;32m     12\u001b[0m     \u001b[0;32mimport\u001b[0m \u001b[0msys\u001b[0m\u001b[0;34m\u001b[0m\u001b[0;34m\u001b[0m\u001b[0m\n\u001b[1;32m     13\u001b[0m     \u001b[0;32mimport\u001b[0m \u001b[0mos\u001b[0m\u001b[0;34m\u001b[0m\u001b[0;34m\u001b[0m\u001b[0m\n\u001b[0;32m---> 14\u001b[0;31m     \u001b[0;32mimport\u001b[0m \u001b[0mglob\u001b[0m\u001b[0;34m\u001b[0m\u001b[0;34m\u001b[0m\u001b[0m\n\u001b[0m",
      "\u001b[0;32m~/anaconda3/lib/python3.7/contextlib.py\u001b[0m in \u001b[0;36m__exit__\u001b[0;34m(self, type, value, traceback)\u001b[0m\n\u001b[1;32m    117\u001b[0m         \u001b[0;32mif\u001b[0m \u001b[0mtype\u001b[0m \u001b[0;32mis\u001b[0m \u001b[0;32mNone\u001b[0m\u001b[0;34m:\u001b[0m\u001b[0;34m\u001b[0m\u001b[0;34m\u001b[0m\u001b[0m\n\u001b[1;32m    118\u001b[0m             \u001b[0;32mtry\u001b[0m\u001b[0;34m:\u001b[0m\u001b[0;34m\u001b[0m\u001b[0;34m\u001b[0m\u001b[0m\n\u001b[0;32m--> 119\u001b[0;31m                 \u001b[0mnext\u001b[0m\u001b[0;34m(\u001b[0m\u001b[0mself\u001b[0m\u001b[0;34m.\u001b[0m\u001b[0mgen\u001b[0m\u001b[0;34m)\u001b[0m\u001b[0;34m\u001b[0m\u001b[0;34m\u001b[0m\u001b[0m\n\u001b[0m\u001b[1;32m    120\u001b[0m             \u001b[0;32mexcept\u001b[0m \u001b[0mStopIteration\u001b[0m\u001b[0;34m:\u001b[0m\u001b[0;34m\u001b[0m\u001b[0;34m\u001b[0m\u001b[0m\n\u001b[1;32m    121\u001b[0m                 \u001b[0;32mreturn\u001b[0m \u001b[0;32mFalse\u001b[0m\u001b[0;34m\u001b[0m\u001b[0;34m\u001b[0m\u001b[0m\n",
      "\u001b[0;32m~/anaconda3/lib/python3.7/site-packages/ipyparallel/client/view.py\u001b[0m in \u001b[0;36msync_imports\u001b[0;34m(self, local, quiet)\u001b[0m\n\u001b[1;32m    485\u001b[0m         \u001b[0;32mfor\u001b[0m \u001b[0mr\u001b[0m \u001b[0;32min\u001b[0m \u001b[0mresults\u001b[0m\u001b[0;34m:\u001b[0m\u001b[0;34m\u001b[0m\u001b[0;34m\u001b[0m\u001b[0m\n\u001b[1;32m    486\u001b[0m             \u001b[0;31m# raise possible remote ImportErrors here\u001b[0m\u001b[0;34m\u001b[0m\u001b[0;34m\u001b[0m\u001b[0;34m\u001b[0m\u001b[0m\n\u001b[0;32m--> 487\u001b[0;31m             \u001b[0mr\u001b[0m\u001b[0;34m.\u001b[0m\u001b[0mget\u001b[0m\u001b[0;34m(\u001b[0m\u001b[0;34m)\u001b[0m\u001b[0;34m\u001b[0m\u001b[0;34m\u001b[0m\u001b[0m\n\u001b[0m\u001b[1;32m    488\u001b[0m \u001b[0;34m\u001b[0m\u001b[0m\n\u001b[1;32m    489\u001b[0m     \u001b[0;32mdef\u001b[0m \u001b[0muse_dill\u001b[0m\u001b[0;34m(\u001b[0m\u001b[0mself\u001b[0m\u001b[0;34m)\u001b[0m\u001b[0;34m:\u001b[0m\u001b[0;34m\u001b[0m\u001b[0;34m\u001b[0m\u001b[0m\n",
      "\u001b[0;32m~/anaconda3/lib/python3.7/site-packages/ipyparallel/client/asyncresult.py\u001b[0m in \u001b[0;36mget\u001b[0;34m(self, timeout)\u001b[0m\n\u001b[1;32m    161\u001b[0m         \"\"\"\n\u001b[1;32m    162\u001b[0m         \u001b[0;32mif\u001b[0m \u001b[0;32mnot\u001b[0m \u001b[0mself\u001b[0m\u001b[0;34m.\u001b[0m\u001b[0mready\u001b[0m\u001b[0;34m(\u001b[0m\u001b[0;34m)\u001b[0m\u001b[0;34m:\u001b[0m\u001b[0;34m\u001b[0m\u001b[0;34m\u001b[0m\u001b[0m\n\u001b[0;32m--> 163\u001b[0;31m             \u001b[0mself\u001b[0m\u001b[0;34m.\u001b[0m\u001b[0mwait\u001b[0m\u001b[0;34m(\u001b[0m\u001b[0mtimeout\u001b[0m\u001b[0;34m)\u001b[0m\u001b[0;34m\u001b[0m\u001b[0;34m\u001b[0m\u001b[0m\n\u001b[0m\u001b[1;32m    164\u001b[0m \u001b[0;34m\u001b[0m\u001b[0m\n\u001b[1;32m    165\u001b[0m         \u001b[0;32mif\u001b[0m \u001b[0mself\u001b[0m\u001b[0;34m.\u001b[0m\u001b[0m_ready\u001b[0m\u001b[0;34m:\u001b[0m\u001b[0;34m\u001b[0m\u001b[0;34m\u001b[0m\u001b[0m\n",
      "\u001b[0;32m~/anaconda3/lib/python3.7/site-packages/ipyparallel/client/asyncresult.py\u001b[0m in \u001b[0;36mwait\u001b[0;34m(self, timeout)\u001b[0m\n\u001b[1;32m    211\u001b[0m             \u001b[0mtimeout\u001b[0m \u001b[0;34m=\u001b[0m \u001b[0;32mNone\u001b[0m\u001b[0;34m\u001b[0m\u001b[0;34m\u001b[0m\u001b[0m\n\u001b[1;32m    212\u001b[0m \u001b[0;34m\u001b[0m\u001b[0m\n\u001b[0;32m--> 213\u001b[0;31m         \u001b[0mself\u001b[0m\u001b[0;34m.\u001b[0m\u001b[0m_ready_event\u001b[0m\u001b[0;34m.\u001b[0m\u001b[0mwait\u001b[0m\u001b[0;34m(\u001b[0m\u001b[0mtimeout\u001b[0m\u001b[0;34m)\u001b[0m\u001b[0;34m\u001b[0m\u001b[0;34m\u001b[0m\u001b[0m\n\u001b[0m\u001b[1;32m    214\u001b[0m         \u001b[0mself\u001b[0m\u001b[0;34m.\u001b[0m\u001b[0mwait_for_output\u001b[0m\u001b[0;34m(\u001b[0m\u001b[0;36m0\u001b[0m\u001b[0;34m)\u001b[0m\u001b[0;34m\u001b[0m\u001b[0;34m\u001b[0m\u001b[0m\n\u001b[1;32m    215\u001b[0m         \u001b[0;32mreturn\u001b[0m \u001b[0mself\u001b[0m\u001b[0;34m.\u001b[0m\u001b[0m_ready\u001b[0m\u001b[0;34m\u001b[0m\u001b[0;34m\u001b[0m\u001b[0m\n",
      "\u001b[0;32m~/anaconda3/lib/python3.7/threading.py\u001b[0m in \u001b[0;36mwait\u001b[0;34m(self, timeout)\u001b[0m\n\u001b[1;32m    550\u001b[0m             \u001b[0msignaled\u001b[0m \u001b[0;34m=\u001b[0m \u001b[0mself\u001b[0m\u001b[0;34m.\u001b[0m\u001b[0m_flag\u001b[0m\u001b[0;34m\u001b[0m\u001b[0;34m\u001b[0m\u001b[0m\n\u001b[1;32m    551\u001b[0m             \u001b[0;32mif\u001b[0m \u001b[0;32mnot\u001b[0m \u001b[0msignaled\u001b[0m\u001b[0;34m:\u001b[0m\u001b[0;34m\u001b[0m\u001b[0;34m\u001b[0m\u001b[0m\n\u001b[0;32m--> 552\u001b[0;31m                 \u001b[0msignaled\u001b[0m \u001b[0;34m=\u001b[0m \u001b[0mself\u001b[0m\u001b[0;34m.\u001b[0m\u001b[0m_cond\u001b[0m\u001b[0;34m.\u001b[0m\u001b[0mwait\u001b[0m\u001b[0;34m(\u001b[0m\u001b[0mtimeout\u001b[0m\u001b[0;34m)\u001b[0m\u001b[0;34m\u001b[0m\u001b[0;34m\u001b[0m\u001b[0m\n\u001b[0m\u001b[1;32m    553\u001b[0m             \u001b[0;32mreturn\u001b[0m \u001b[0msignaled\u001b[0m\u001b[0;34m\u001b[0m\u001b[0;34m\u001b[0m\u001b[0m\n\u001b[1;32m    554\u001b[0m \u001b[0;34m\u001b[0m\u001b[0m\n",
      "\u001b[0;32m~/anaconda3/lib/python3.7/threading.py\u001b[0m in \u001b[0;36mwait\u001b[0;34m(self, timeout)\u001b[0m\n\u001b[1;32m    294\u001b[0m         \u001b[0;32mtry\u001b[0m\u001b[0;34m:\u001b[0m    \u001b[0;31m# restore state no matter what (e.g., KeyboardInterrupt)\u001b[0m\u001b[0;34m\u001b[0m\u001b[0;34m\u001b[0m\u001b[0m\n\u001b[1;32m    295\u001b[0m             \u001b[0;32mif\u001b[0m \u001b[0mtimeout\u001b[0m \u001b[0;32mis\u001b[0m \u001b[0;32mNone\u001b[0m\u001b[0;34m:\u001b[0m\u001b[0;34m\u001b[0m\u001b[0;34m\u001b[0m\u001b[0m\n\u001b[0;32m--> 296\u001b[0;31m                 \u001b[0mwaiter\u001b[0m\u001b[0;34m.\u001b[0m\u001b[0macquire\u001b[0m\u001b[0;34m(\u001b[0m\u001b[0;34m)\u001b[0m\u001b[0;34m\u001b[0m\u001b[0;34m\u001b[0m\u001b[0m\n\u001b[0m\u001b[1;32m    297\u001b[0m                 \u001b[0mgotit\u001b[0m \u001b[0;34m=\u001b[0m \u001b[0;32mTrue\u001b[0m\u001b[0;34m\u001b[0m\u001b[0;34m\u001b[0m\u001b[0m\n\u001b[1;32m    298\u001b[0m             \u001b[0;32melse\u001b[0m\u001b[0;34m:\u001b[0m\u001b[0;34m\u001b[0m\u001b[0;34m\u001b[0m\u001b[0m\n",
      "\u001b[0;31mKeyboardInterrupt\u001b[0m: "
     ]
    }
   ],
   "source": [
    "# add variables to all engines\n",
    "dview[\"edgelist\"]=edgelist\n",
    "dview[\"rngFile\"]=rngFile\n",
    "dview[\"wind_data\"]=wind_data\n",
    "dview[\"folder\"]=folder\n",
    "\n",
    "# add all libraries to engines\n",
    "with dview.sync_imports():\n",
    "    import numpy as np\n",
    "    import pandas as pd\n",
    "    from pathlib import Path\n",
    "    import sys\n",
    "    import os\n",
    "    import glob"
   ]
  },
  {
   "cell_type": "code",
   "execution_count": null,
   "metadata": {
    "colab": {},
    "colab_type": "code",
    "id": "Q7pHNrjZN8Zw"
   },
   "outputs": [],
   "source": [
    "%%px\n",
    "\n",
    "def wind_scenario(wind_data):\n",
    "      import numpy as np\n",
    "      i = np.random.randint(0, wind_data.values.shape[0])\n",
    "      w = wind_data.values[i, 2]\n",
    "      dist = wind_data.values[i, 1]\n",
    "      b = wind_data.values[i, 3]\n",
    "      bear_max = b + 45  # wind direction\n",
    "      bear_min = b - 45\n",
    "      if b == 360:\n",
    "          bear_max = 45\n",
    "      if b <= 0:  # should not be necessary\n",
    "          bear_min = 0\n",
    "      if b == 999:\n",
    "          bear_max = 999\n",
    "          bear_min = 0\n",
    "      return bear_max, bear_min, dist # wind characteristics, bearing and distance\n",
    "\n",
    "\n",
    "def ignition(rngList=rngFile, edges=edgelist):\n",
    "    rngList['rng'] = np.random.uniform(0, 1, size=rngList.values.shape[0])\n",
    "    rngList = rngList[rngList['rng'] < rngList['IgnProbBld']]\n",
    "    NewActiveEdges = edges[edges['source'].isin(rngList['source'])]\n",
    "    return NewActiveEdges\n",
    "\n",
    "\n",
    "def mask(t, activeEdges_d, listActivatedSources_d, w_b_max, w_b_min, w_d):\n",
    "    import numpy as np\n",
    "    if t==0: # special case at time=0\n",
    "        return activeEdges_d\n",
    "    else:\n",
    "        mask = (activeEdges_d.bearing.values < w_b_max) & (activeEdges_d.bearing.values < w_b_min) & (activeEdges_d.distance < w_d)\n",
    "        NewActiveEdges = activeEdges_d[mask]\n",
    "        NewActiveEdges = NewActiveEdges[~NewActiveEdges.source.isin(listActivatedSources_d)]\n",
    "        return NewActiveEdges\n",
    "\n",
    "\n",
    "def propagation(activeEdges_d, edges=edgelist):\n",
    "    import numpy as np\n",
    "    import pandas as pd\n",
    "    NewActiveEdges = edges[edges.source.isin(activeEdges_d.target)]\n",
    "    return NewActiveEdges\n"
   ]
  },
  {
   "cell_type": "code",
   "execution_count": null,
   "metadata": {},
   "outputs": [],
   "source": [
    "@dview.parallel(block = False) # The @parallel decorator breaks up elementwise operations and distributes them.\n",
    "def ffe_runs(n):\n",
    "    import numpy as np\n",
    "    import pandas as pd\n",
    "    for scenario in n:\n",
    "        # initial setup\n",
    "        listActivatedSources = []\n",
    "        listScenarioDataframes = []\n",
    "        condition = True\n",
    "        time = 0 \n",
    "        # wind conditions\n",
    "        w_bearing_max, w_bearing_min, w_distance = wind_scenario(wind_data)\n",
    "        # ignition / initial state and edges selection\n",
    "        ActiveEdges = ignition()\n",
    "        # print(f\"{len(ActiveEdges)} ignitions\")\n",
    "        if ActiveEdges.empty:\n",
    "            continue\n",
    "        while condition: # spread burn zone\n",
    "            ActiveEdges = mask(time, ActiveEdges, listActivatedSources, w_bearing_max, w_bearing_min, w_distance)\n",
    "            if ActiveEdges.empty: #no more buildings to burn\n",
    "                break\n",
    "            listScenarioDataframes.append(ActiveEdges)\n",
    "            listActivatedSources.extend(ActiveEdges.source.values)\n",
    "            ActiveEdges = propagation(ActiveEdges)\n",
    "            time += 1\n",
    "        \n",
    "        print(f'finishing pid {os.getpid()} scenario --- {scenario} time ---- {time}')\n",
    "\n",
    "        Activations = pd.concat(listScenarioDataframes)\n",
    "        Activations[\"scenario\"] = scenario\n",
    "        Activations[\"pid\"] = os.getpid()\n",
    "        Activations.to_parquet(str(folder) + '/' + f'scenario{scenario}_pid{os.getpid()}.parquet', engine='auto', compression=\"GZIP\")\n",
    "        "
   ]
  },
  {
   "cell_type": "markdown",
   "metadata": {
    "colab_type": "text",
    "id": "g9Vq0cczZSy4"
   },
   "source": [
    "**Main**\n",
    "---\n",
    "\n",
    "\n",
    "---\n",
    "\n"
   ]
  },
  {
   "cell_type": "code",
   "execution_count": null,
   "metadata": {},
   "outputs": [],
   "source": [
    "%%time\n",
    "ffe_runs(range(300))"
   ]
  },
  {
   "cell_type": "markdown",
   "metadata": {
    "colab_type": "text",
    "id": "ydETTY_fZB3Q"
   },
   "source": [
    "\n",
    "**Backup**\n",
    "---\n",
    "\n",
    "\n",
    "\n",
    "---\n",
    "\n"
   ]
  },
  {
   "cell_type": "code",
   "execution_count": 51,
   "metadata": {},
   "outputs": [],
   "source": [
    "def clean_up(path=folder):\n",
    "    files = path.glob('*scenario*')\n",
    "    for f in files:\n",
    "        print(f)\n",
    "        os.remove(f)"
   ]
  },
  {
   "cell_type": "code",
   "execution_count": 52,
   "metadata": {
    "colab": {},
    "colab_type": "code",
    "id": "zOHXu6ShOQJU"
   },
   "outputs": [
    {
     "name": "stdout",
     "output_type": "stream",
     "text": [
      "/Users/alex/Dropbox/FFE/output/scenario234_pid40089.parquet\n",
      "/Users/alex/Dropbox/FFE/output/scenario203_pid40087.parquet\n",
      "/Users/alex/Dropbox/FFE/output/scenario58_pid40083.parquet\n",
      "/Users/alex/Dropbox/FFE/output/scenario184_pid40087.parquet\n",
      "/Users/alex/Dropbox/FFE/output/scenario122_pid40086.parquet\n",
      "/Users/alex/Dropbox/FFE/output/scenario162_pid40087.parquet\n",
      "/Users/alex/Dropbox/FFE/output/scenario251_pid40089.parquet\n",
      "/Users/alex/Dropbox/FFE/output/scenario75_pid40086.parquet\n",
      "/Users/alex/Dropbox/FFE/output/scenario93_pid40086.parquet\n",
      "/Users/alex/Dropbox/FFE/output/scenario22_pid40083.parquet\n",
      "/Users/alex/Dropbox/FFE/output/scenario103_pid40086.parquet\n",
      "/Users/alex/Dropbox/FFE/output/scenario270_pid40089.parquet\n",
      "/Users/alex/Dropbox/FFE/output/scenario6_pid40083.parquet\n",
      "/Users/alex/Dropbox/FFE/output/scenario47_pid40083.parquet\n",
      "/Users/alex/Dropbox/FFE/output/scenario264_pid40089.parquet\n",
      "/Users/alex/Dropbox/FFE/output/scenario157_pid40087.parquet\n",
      "/Users/alex/Dropbox/FFE/output/scenario169_pid40087.parquet\n",
      "/Users/alex/Dropbox/FFE/output/scenario117_pid40086.parquet\n",
      "/Users/alex/Dropbox/FFE/output/scenario129_pid40086.parquet\n",
      "/Users/alex/Dropbox/FFE/output/scenario282_pid40089.parquet\n",
      "/Users/alex/Dropbox/FFE/output/scenario36_pid40083.parquet\n",
      "/Users/alex/Dropbox/FFE/output/scenario87_pid40086.parquet\n",
      "/Users/alex/Dropbox/FFE/output/scenario53_pid40083.parquet\n",
      "/Users/alex/Dropbox/FFE/output/scenario98_pid40086.parquet\n",
      "/Users/alex/Dropbox/FFE/output/scenario29_pid40083.parquet\n",
      "/Users/alex/Dropbox/FFE/output/scenario17_pid40083.parquet\n",
      "/Users/alex/Dropbox/FFE/output/scenario245_pid40089.parquet\n",
      "/Users/alex/Dropbox/FFE/output/scenario176_pid40087.parquet\n",
      "/Users/alex/Dropbox/FFE/output/scenario108_pid40086.parquet\n",
      "/Users/alex/Dropbox/FFE/output/scenario190_pid40087.parquet\n",
      "/Users/alex/Dropbox/FFE/output/scenario136_pid40086.parquet\n",
      "/Users/alex/Dropbox/FFE/output/scenario48_pid40083.parquet\n",
      "/Users/alex/Dropbox/FFE/output/scenario9_pid40083.parquet\n",
      "/Users/alex/Dropbox/FFE/output/scenario241_pid40089.parquet\n",
      "/Users/alex/Dropbox/FFE/output/scenario172_pid40087.parquet\n",
      "/Users/alex/Dropbox/FFE/output/scenario132_pid40086.parquet\n",
      "/Users/alex/Dropbox/FFE/output/scenario194_pid40087.parquet\n",
      "/Users/alex/Dropbox/FFE/output/scenario13_pid40083.parquet\n",
      "/Users/alex/Dropbox/FFE/output/scenario83_pid40086.parquet\n",
      "/Users/alex/Dropbox/FFE/output/scenario32_pid40083.parquet\n",
      "/Users/alex/Dropbox/FFE/output/scenario260_pid40089.parquet\n",
      "/Users/alex/Dropbox/FFE/output/scenario153_pid40087.parquet\n",
      "/Users/alex/Dropbox/FFE/output/scenario113_pid40086.parquet\n",
      "/Users/alex/Dropbox/FFE/output/scenario286_pid40089.parquet\n",
      "/Users/alex/Dropbox/FFE/output/scenario57_pid40083.parquet\n",
      "/Users/alex/Dropbox/FFE/output/scenario139_pid40086.parquet\n",
      "/Users/alex/Dropbox/FFE/output/scenario107_pid40086.parquet\n",
      "/Users/alex/Dropbox/FFE/output/scenario179_pid40087.parquet\n",
      "/Users/alex/Dropbox/FFE/output/scenario274_pid40089.parquet\n",
      "/Users/alex/Dropbox/FFE/output/scenario18_pid40083.parquet\n",
      "/Users/alex/Dropbox/FFE/output/scenario26_pid40083.parquet\n",
      "/Users/alex/Dropbox/FFE/output/scenario97_pid40086.parquet\n",
      "/Users/alex/Dropbox/FFE/output/scenario2_pid40083.parquet\n",
      "/Users/alex/Dropbox/FFE/output/scenario43_pid40083.parquet\n",
      "/Users/alex/Dropbox/FFE/output/scenario62_pid40083.parquet\n",
      "/Users/alex/Dropbox/FFE/output/scenario230_pid40089.parquet\n",
      "/Users/alex/Dropbox/FFE/output/scenario88_pid40086.parquet\n",
      "/Users/alex/Dropbox/FFE/output/scenario39_pid40083.parquet\n",
      "/Users/alex/Dropbox/FFE/output/scenario126_pid40086.parquet\n",
      "/Users/alex/Dropbox/FFE/output/scenario180_pid40087.parquet\n",
      "/Users/alex/Dropbox/FFE/output/scenario118_pid40086.parquet\n",
      "/Users/alex/Dropbox/FFE/output/scenario166_pid40087.parquet\n",
      "/Users/alex/Dropbox/FFE/output/scenario158_pid40087.parquet\n",
      "/Users/alex/Dropbox/FFE/output/scenario255_pid40089.parquet\n",
      "/Users/alex/Dropbox/FFE/output/scenario46_pid40083.parquet\n",
      "/Users/alex/Dropbox/FFE/output/scenario7_pid40083.parquet\n",
      "/Users/alex/Dropbox/FFE/output/scenario23_pid40083.parquet\n",
      "/Users/alex/Dropbox/FFE/output/scenario271_pid40089.parquet\n",
      "/Users/alex/Dropbox/FFE/output/scenario102_pid40086.parquet\n",
      "/Users/alex/Dropbox/FFE/output/scenario92_pid40086.parquet\n",
      "/Users/alex/Dropbox/FFE/output/scenario250_pid40089.parquet\n",
      "/Users/alex/Dropbox/FFE/output/scenario163_pid40087.parquet\n",
      "/Users/alex/Dropbox/FFE/output/scenario123_pid40086.parquet\n",
      "/Users/alex/Dropbox/FFE/output/scenario185_pid40087.parquet\n",
      "/Users/alex/Dropbox/FFE/output/scenario235_pid40089.parquet\n",
      "/Users/alex/Dropbox/FFE/output/scenario59_pid40083.parquet\n",
      "/Users/alex/Dropbox/FFE/output/scenario202_pid40087.parquet\n",
      "/Users/alex/Dropbox/FFE/output/scenario28_pid40083.parquet\n",
      "/Users/alex/Dropbox/FFE/output/scenario16_pid40083.parquet\n",
      "/Users/alex/Dropbox/FFE/output/scenario109_pid40086.parquet\n",
      "/Users/alex/Dropbox/FFE/output/scenario137_pid40086.parquet\n",
      "/Users/alex/Dropbox/FFE/output/scenario191_pid40087.parquet\n",
      "/Users/alex/Dropbox/FFE/output/scenario177_pid40087.parquet\n",
      "/Users/alex/Dropbox/FFE/output/scenario244_pid40089.parquet\n",
      "/Users/alex/Dropbox/FFE/output/scenario99_pid40086.parquet\n",
      "/Users/alex/Dropbox/FFE/output/scenario52_pid40083.parquet\n",
      "/Users/alex/Dropbox/FFE/output/scenario86_pid40086.parquet\n",
      "/Users/alex/Dropbox/FFE/output/scenario283_pid40089.parquet\n",
      "/Users/alex/Dropbox/FFE/output/scenario116_pid40086.parquet\n",
      "/Users/alex/Dropbox/FFE/output/scenario128_pid40086.parquet\n",
      "/Users/alex/Dropbox/FFE/output/scenario156_pid40087.parquet\n",
      "/Users/alex/Dropbox/FFE/output/scenario168_pid40087.parquet\n",
      "/Users/alex/Dropbox/FFE/output/scenario265_pid40089.parquet\n",
      "/Users/alex/Dropbox/FFE/output/scenario37_pid40083.parquet\n",
      "/Users/alex/Dropbox/FFE/output/scenario56_pid40083.parquet\n",
      "/Users/alex/Dropbox/FFE/output/scenario33_pid40083.parquet\n",
      "/Users/alex/Dropbox/FFE/output/scenario112_pid40086.parquet\n",
      "/Users/alex/Dropbox/FFE/output/scenario152_pid40087.parquet\n",
      "/Users/alex/Dropbox/FFE/output/scenario261_pid40089.parquet\n",
      "/Users/alex/Dropbox/FFE/output/scenario82_pid40086.parquet\n",
      "/Users/alex/Dropbox/FFE/output/scenario195_pid40087.parquet\n",
      "/Users/alex/Dropbox/FFE/output/scenario133_pid40086.parquet\n",
      "/Users/alex/Dropbox/FFE/output/scenario173_pid40087.parquet\n",
      "/Users/alex/Dropbox/FFE/output/scenario240_pid40089.parquet\n",
      "/Users/alex/Dropbox/FFE/output/scenario12_pid40083.parquet\n",
      "/Users/alex/Dropbox/FFE/output/scenario225_pid40089.parquet\n",
      "/Users/alex/Dropbox/FFE/output/scenario8_pid40083.parquet\n",
      "/Users/alex/Dropbox/FFE/output/scenario49_pid40083.parquet\n",
      "/Users/alex/Dropbox/FFE/output/scenario38_pid40083.parquet\n",
      "/Users/alex/Dropbox/FFE/output/scenario254_pid40089.parquet\n",
      "/Users/alex/Dropbox/FFE/output/scenario167_pid40087.parquet\n",
      "/Users/alex/Dropbox/FFE/output/scenario159_pid40087.parquet\n",
      "/Users/alex/Dropbox/FFE/output/scenario181_pid40087.parquet\n",
      "/Users/alex/Dropbox/FFE/output/scenario127_pid40086.parquet\n",
      "/Users/alex/Dropbox/FFE/output/scenario119_pid40086.parquet\n",
      "/Users/alex/Dropbox/FFE/output/scenario89_pid40086.parquet\n",
      "/Users/alex/Dropbox/FFE/output/scenario63_pid40083.parquet\n",
      "/Users/alex/Dropbox/FFE/output/scenario231_pid40089.parquet\n",
      "/Users/alex/Dropbox/FFE/output/scenario142_pid40086.parquet\n",
      "/Users/alex/Dropbox/FFE/output/scenario42_pid40083.parquet\n",
      "/Users/alex/Dropbox/FFE/output/scenario3_pid40083.parquet\n",
      "/Users/alex/Dropbox/FFE/output/scenario96_pid40086.parquet\n",
      "/Users/alex/Dropbox/FFE/output/scenario275_pid40089.parquet\n",
      "/Users/alex/Dropbox/FFE/output/scenario178_pid40087.parquet\n",
      "/Users/alex/Dropbox/FFE/output/scenario138_pid40086.parquet\n",
      "/Users/alex/Dropbox/FFE/output/scenario106_pid40086.parquet\n",
      "/Users/alex/Dropbox/FFE/output/scenario19_pid40083.parquet\n",
      "/Users/alex/Dropbox/FFE/output/scenario27_pid40083.parquet\n",
      "/Users/alex/Dropbox/FFE/output/scenario192_pid40087.parquet\n",
      "/Users/alex/Dropbox/FFE/output/scenario134_pid40086.parquet\n",
      "/Users/alex/Dropbox/FFE/output/scenario279_pid40089.parquet\n",
      "/Users/alex/Dropbox/FFE/output/scenario247_pid40089.parquet\n",
      "/Users/alex/Dropbox/FFE/output/scenario174_pid40087.parquet\n",
      "/Users/alex/Dropbox/FFE/output/scenario15_pid40083.parquet\n",
      "/Users/alex/Dropbox/FFE/output/scenario51_pid40083.parquet\n",
      "/Users/alex/Dropbox/FFE/output/scenario34_pid40083.parquet\n",
      "/Users/alex/Dropbox/FFE/output/scenario115_pid40086.parquet\n",
      "/Users/alex/Dropbox/FFE/output/scenario280_pid40089.parquet\n",
      "/Users/alex/Dropbox/FFE/output/scenario266_pid40089.parquet\n",
      "/Users/alex/Dropbox/FFE/output/scenario258_pid40089.parquet\n",
      "/Users/alex/Dropbox/FFE/output/scenario155_pid40087.parquet\n",
      "/Users/alex/Dropbox/FFE/output/scenario85_pid40086.parquet\n",
      "/Users/alex/Dropbox/FFE/output/scenario229_pid40089.parquet\n",
      "/Users/alex/Dropbox/FFE/output/scenario4_pid40083.parquet\n",
      "/Users/alex/Dropbox/FFE/output/scenario45_pid40083.parquet\n",
      "/Users/alex/Dropbox/FFE/output/scenario91_pid40086.parquet\n",
      "/Users/alex/Dropbox/FFE/output/scenario77_pid40086.parquet\n",
      "/Users/alex/Dropbox/FFE/output/scenario272_pid40089.parquet\n",
      "/Users/alex/Dropbox/FFE/output/scenario101_pid40086.parquet\n",
      "/Users/alex/Dropbox/FFE/output/scenario199_pid40087.parquet\n",
      "/Users/alex/Dropbox/FFE/output/scenario20_pid40083.parquet\n"
     ]
    },
    {
     "name": "stdout",
     "output_type": "stream",
     "text": [
      "/Users/alex/Dropbox/FFE/output/scenario160_pid40087.parquet\n",
      "/Users/alex/Dropbox/FFE/output/scenario253_pid40089.parquet\n",
      "/Users/alex/Dropbox/FFE/output/scenario186_pid40087.parquet\n",
      "/Users/alex/Dropbox/FFE/output/scenario120_pid40086.parquet\n",
      "/Users/alex/Dropbox/FFE/output/scenario64_pid40083.parquet\n",
      "/Users/alex/Dropbox/FFE/output/scenario201_pid40087.parquet\n",
      "/Users/alex/Dropbox/FFE/output/scenario236_pid40089.parquet\n",
      "/Users/alex/Dropbox/FFE/output/scenario164_pid40087.parquet\n",
      "/Users/alex/Dropbox/FFE/output/scenario257_pid40089.parquet\n",
      "/Users/alex/Dropbox/FFE/output/scenario269_pid40089.parquet\n",
      "/Users/alex/Dropbox/FFE/output/scenario124_pid40086.parquet\n",
      "/Users/alex/Dropbox/FFE/output/scenario182_pid40087.parquet\n",
      "/Users/alex/Dropbox/FFE/output/scenario232_pid40089.parquet\n",
      "/Users/alex/Dropbox/FFE/output/scenario141_pid40086.parquet\n",
      "/Users/alex/Dropbox/FFE/output/scenario60_pid40083.parquet\n",
      "/Users/alex/Dropbox/FFE/output/scenario0_pid40083.parquet\n",
      "/Users/alex/Dropbox/FFE/output/scenario41_pid40083.parquet\n",
      "/Users/alex/Dropbox/FFE/output/scenario24_pid40083.parquet\n",
      "/Users/alex/Dropbox/FFE/output/scenario248_pid40089.parquet\n",
      "/Users/alex/Dropbox/FFE/output/scenario276_pid40089.parquet\n",
      "/Users/alex/Dropbox/FFE/output/scenario105_pid40086.parquet\n",
      "/Users/alex/Dropbox/FFE/output/scenario95_pid40086.parquet\n",
      "/Users/alex/Dropbox/FFE/output/scenario239_pid40089.parquet\n",
      "/Users/alex/Dropbox/FFE/output/scenario55_pid40083.parquet\n",
      "/Users/alex/Dropbox/FFE/output/scenario81_pid40086.parquet\n",
      "/Users/alex/Dropbox/FFE/output/scenario189_pid40087.parquet\n",
      "/Users/alex/Dropbox/FFE/output/scenario111_pid40086.parquet\n",
      "/Users/alex/Dropbox/FFE/output/scenario284_pid40089.parquet\n",
      "/Users/alex/Dropbox/FFE/output/scenario262_pid40089.parquet\n",
      "/Users/alex/Dropbox/FFE/output/scenario151_pid40087.parquet\n",
      "/Users/alex/Dropbox/FFE/output/scenario30_pid40083.parquet\n",
      "/Users/alex/Dropbox/FFE/output/scenario11_pid40083.parquet\n",
      "/Users/alex/Dropbox/FFE/output/scenario130_pid40086.parquet\n",
      "/Users/alex/Dropbox/FFE/output/scenario196_pid40087.parquet\n",
      "/Users/alex/Dropbox/FFE/output/scenario243_pid40089.parquet\n",
      "/Users/alex/Dropbox/FFE/output/scenario170_pid40087.parquet\n",
      "/Users/alex/Dropbox/FFE/output/scenario78_pid40086.parquet\n",
      "/Users/alex/Dropbox/FFE/output/scenario226_pid40089.parquet\n",
      "/Users/alex/Dropbox/FFE/output/scenario84_pid40086.parquet\n",
      "/Users/alex/Dropbox/FFE/output/scenario35_pid40083.parquet\n",
      "/Users/alex/Dropbox/FFE/output/scenario154_pid40087.parquet\n",
      "/Users/alex/Dropbox/FFE/output/scenario267_pid40089.parquet\n",
      "/Users/alex/Dropbox/FFE/output/scenario259_pid40089.parquet\n",
      "/Users/alex/Dropbox/FFE/output/scenario281_pid40089.parquet\n",
      "/Users/alex/Dropbox/FFE/output/scenario114_pid40086.parquet\n",
      "/Users/alex/Dropbox/FFE/output/scenario50_pid40083.parquet\n",
      "/Users/alex/Dropbox/FFE/output/scenario175_pid40087.parquet\n",
      "/Users/alex/Dropbox/FFE/output/scenario278_pid40089.parquet\n",
      "/Users/alex/Dropbox/FFE/output/scenario246_pid40089.parquet\n",
      "/Users/alex/Dropbox/FFE/output/scenario135_pid40086.parquet\n",
      "/Users/alex/Dropbox/FFE/output/scenario193_pid40087.parquet\n",
      "/Users/alex/Dropbox/FFE/output/scenario14_pid40083.parquet\n",
      "/Users/alex/Dropbox/FFE/output/scenario200_pid40087.parquet\n",
      "/Users/alex/Dropbox/FFE/output/scenario237_pid40089.parquet\n",
      "/Users/alex/Dropbox/FFE/output/scenario121_pid40086.parquet\n",
      "/Users/alex/Dropbox/FFE/output/scenario187_pid40087.parquet\n",
      "/Users/alex/Dropbox/FFE/output/scenario252_pid40089.parquet\n",
      "/Users/alex/Dropbox/FFE/output/scenario161_pid40087.parquet\n",
      "/Users/alex/Dropbox/FFE/output/scenario100_pid40086.parquet\n",
      "/Users/alex/Dropbox/FFE/output/scenario198_pid40087.parquet\n",
      "/Users/alex/Dropbox/FFE/output/scenario273_pid40089.parquet\n",
      "/Users/alex/Dropbox/FFE/output/scenario21_pid40083.parquet\n",
      "/Users/alex/Dropbox/FFE/output/scenario76_pid40086.parquet\n",
      "/Users/alex/Dropbox/FFE/output/scenario90_pid40086.parquet\n",
      "/Users/alex/Dropbox/FFE/output/scenario228_pid40089.parquet\n",
      "/Users/alex/Dropbox/FFE/output/scenario44_pid40083.parquet\n",
      "/Users/alex/Dropbox/FFE/output/scenario5_pid40083.parquet\n",
      "/Users/alex/Dropbox/FFE/output/scenario94_pid40086.parquet\n",
      "/Users/alex/Dropbox/FFE/output/scenario25_pid40083.parquet\n",
      "/Users/alex/Dropbox/FFE/output/scenario104_pid40086.parquet\n",
      "/Users/alex/Dropbox/FFE/output/scenario249_pid40089.parquet\n",
      "/Users/alex/Dropbox/FFE/output/scenario277_pid40089.parquet\n",
      "/Users/alex/Dropbox/FFE/output/scenario40_pid40083.parquet\n",
      "/Users/alex/Dropbox/FFE/output/scenario1_pid40083.parquet\n",
      "/Users/alex/Dropbox/FFE/output/scenario140_pid40086.parquet\n",
      "/Users/alex/Dropbox/FFE/output/scenario233_pid40089.parquet\n",
      "/Users/alex/Dropbox/FFE/output/scenario204_pid40087.parquet\n",
      "/Users/alex/Dropbox/FFE/output/scenario61_pid40083.parquet\n",
      "/Users/alex/Dropbox/FFE/output/scenario183_pid40087.parquet\n",
      "/Users/alex/Dropbox/FFE/output/scenario125_pid40086.parquet\n",
      "/Users/alex/Dropbox/FFE/output/scenario256_pid40089.parquet\n",
      "/Users/alex/Dropbox/FFE/output/scenario268_pid40089.parquet\n",
      "/Users/alex/Dropbox/FFE/output/scenario165_pid40087.parquet\n",
      "/Users/alex/Dropbox/FFE/output/scenario227_pid40089.parquet\n",
      "/Users/alex/Dropbox/FFE/output/scenario79_pid40086.parquet\n",
      "/Users/alex/Dropbox/FFE/output/scenario10_pid40083.parquet\n",
      "/Users/alex/Dropbox/FFE/output/scenario171_pid40087.parquet\n",
      "/Users/alex/Dropbox/FFE/output/scenario242_pid40089.parquet\n",
      "/Users/alex/Dropbox/FFE/output/scenario197_pid40087.parquet\n",
      "/Users/alex/Dropbox/FFE/output/scenario131_pid40086.parquet\n",
      "/Users/alex/Dropbox/FFE/output/scenario150_pid40087.parquet\n",
      "/Users/alex/Dropbox/FFE/output/scenario263_pid40089.parquet\n",
      "/Users/alex/Dropbox/FFE/output/scenario285_pid40089.parquet\n",
      "/Users/alex/Dropbox/FFE/output/scenario188_pid40087.parquet\n",
      "/Users/alex/Dropbox/FFE/output/scenario110_pid40086.parquet\n",
      "/Users/alex/Dropbox/FFE/output/scenario31_pid40083.parquet\n",
      "/Users/alex/Dropbox/FFE/output/scenario80_pid40086.parquet\n",
      "/Users/alex/Dropbox/FFE/output/scenario238_pid40089.parquet\n",
      "/Users/alex/Dropbox/FFE/output/scenario54_pid40083.parquet\n"
     ]
    }
   ],
   "source": [
    "clean_up()"
   ]
  },
  {
   "cell_type": "code",
   "execution_count": null,
   "metadata": {},
   "outputs": [],
   "source": []
  }
 ],
 "metadata": {
  "colab": {
   "collapsed_sections": [],
   "include_colab_link": true,
   "machine_shape": "hm",
   "name": "FFErunsParallel.ipynb",
   "provenance": []
  },
  "kernelspec": {
   "display_name": "Python 3",
   "language": "python",
   "name": "python3"
  },
  "language_info": {
   "codemirror_mode": {
    "name": "ipython",
    "version": 3
   },
   "file_extension": ".py",
   "mimetype": "text/x-python",
   "name": "python",
   "nbconvert_exporter": "python",
   "pygments_lexer": "ipython3",
   "version": "3.7.3"
  }
 },
 "nbformat": 4,
 "nbformat_minor": 1
}
