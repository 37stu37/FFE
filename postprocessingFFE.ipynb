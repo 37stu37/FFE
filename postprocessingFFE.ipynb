{
 "cells": [
  {
   "cell_type": "markdown",
   "metadata": {
    "colab_type": "text",
    "id": "uOfLIueATXfR"
   },
   "source": [
    "\n",
    "#Installation\n",
    "---\n",
    "\n"
   ]
  },
  {
   "cell_type": "code",
   "execution_count": 1,
   "metadata": {
    "colab": {},
    "colab_type": "code",
    "id": "FDNM-ERLM6US"
   },
   "outputs": [],
   "source": [
    "from pathlib import Path\n",
    "import os\n",
    "from datetime import date\n",
    "import re\n",
    "import glob"
   ]
  },
  {
   "cell_type": "code",
   "execution_count": 2,
   "metadata": {
    "colab": {},
    "colab_type": "code",
    "id": "6T1J4QXZTmtV"
   },
   "outputs": [],
   "source": [
    "import pandas as pd\n",
    "import numpy as np\n",
    "import geopandas as gpd\n",
    "from shapely.geometry import box\n",
    "import dask.dataframe as dd\n",
    "pd.options.mode.chained_assignment = None"
   ]
  },
  {
   "cell_type": "code",
   "execution_count": 3,
   "metadata": {},
   "outputs": [],
   "source": [
    "from IPython.core.interactiveshell import InteractiveShell\n",
    "InteractiveShell.ast_node_interactivity = \"all\""
   ]
  },
  {
   "cell_type": "code",
   "execution_count": 4,
   "metadata": {
    "colab": {
     "base_uri": "https://localhost:8080/",
     "height": 35
    },
    "colab_type": "code",
    "id": "JALuOrvdSA-n",
    "outputId": "d7942dd1-132f-4407-fe97-10ebafccbc4d"
   },
   "outputs": [
    {
     "name": "stdout",
     "output_type": "stream",
     "text": [
      "2999\n"
     ]
    }
   ],
   "source": [
    "# Paths\n",
    "p = Path('C:/Users/alexd/Dropbox/FFE')\n",
    "pathShapefile = p / 'shapefile'\n",
    "pathParquets = p / 'output'\n",
    "\n",
    "print(len(os.listdir(pathParquets)))"
   ]
  },
  {
   "cell_type": "code",
   "execution_count": 5,
   "metadata": {
    "colab": {},
    "colab_type": "code",
    "id": "ZuY6xBcuSBO6"
   },
   "outputs": [],
   "source": [
    "def read_and_concatenate_parquets(path=pathParquets):\n",
    "    L = []\n",
    "    files = pathParquets.glob('*scenario*')\n",
    "    for file in files:\n",
    "#         print(f'{file} loaded file \\n {len(L)}/2999')\n",
    "        pqt = dd.read_parquet(file, engine='pyarrow')\n",
    "        L.append(pqt)\n",
    "    df = dd.concat(L)\n",
    "    return df\n",
    "\n",
    "    \n",
    "def count_fid_occurences(df): \n",
    "    count_df = df['source'].value_counts().compute()\n",
    "    count_df = pd.DataFrame({'FID': count_df.index, 'count': count_df.values})\n",
    "    count_df.to_parquet(str(pathShapefile) + '/' + f'CountBurn-{str(date.today())}.parquet', \n",
    "                        engine='auto', compression=\"GZIP\")# could be datetime.now\n",
    "    return count_df\n",
    "\n",
    "\n",
    "def Merge(countDf,nameShapefile):\n",
    "    gdfShape = gpd.read_file(pathShapefile / nameShapefile)\n",
    "    gdfShape.insert(0, 'FID', range(0, len(gdfShape)))\n",
    "    m = pd.merge(countConcatDf,gdfShape, how='left',on='FID')\n",
    "    merged = countDf.merge(gdfShape, on=['FID'], how='left')\n",
    "    return merged\n",
    "\n",
    "\n",
    "def createShapefile(df):\n",
    "    gdf = gpd.GeoDataFrame(df, geometry='geometry')\n",
    "    gdf.to_file(os.path.join(str(pathShapefile) + \"/\" + \"BurnscenarioWellington.shp\"))\n",
    "    return gdf"
   ]
  },
  {
   "cell_type": "markdown",
   "metadata": {},
   "source": [
    "**Create count files**"
   ]
  },
  {
   "cell_type": "code",
   "execution_count": 6,
   "metadata": {
    "colab": {
     "base_uri": "https://localhost:8080/",
     "height": 799
    },
    "colab_type": "code",
    "id": "T4xnIavQcfjI",
    "outputId": "40f5b6c7-f695-4ee0-d832-ee7de9a4f21b"
   },
   "outputs": [
    {
     "name": "stdout",
     "output_type": "stream",
     "text": [
      "Wall time: 49.1 s\n"
     ]
    }
   ],
   "source": [
    "%%time\n",
    "concatDf = read_and_concatenate_parquets()\n",
    "\n",
    "countConcatDf = count_fid_occurences(concatDf)\n",
    "\n",
    "mergedDf = Merge(countConcatDf, 'WellWHV_Buildings.shp')\n",
    "countShape = createShapefile(mergedDf)"
   ]
  },
  {
   "cell_type": "markdown",
   "metadata": {},
   "source": [
    "**Plot**"
   ]
  },
  {
   "cell_type": "code",
   "execution_count": null,
   "metadata": {
    "colab": {},
    "colab_type": "code",
    "id": "RBFjXAo1UNgx"
   },
   "outputs": [
    {
     "data": {
      "text/plain": [
       "<matplotlib.axes._subplots.AxesSubplot at 0x15706e9d148>"
      ]
     },
     "execution_count": 74,
     "metadata": {},
     "output_type": "execute_result"
    }
   ],
   "source": [
    "import matplotlib.pyplot as plt\n",
    "import seaborn as sns\n",
    "# import contextily as ctx\n",
    "%matplotlib inline\n",
    "plt.style.use('seaborn-darkgrid')\n",
    "\n",
    "FinnMeshblockShape = gpd.read_file(pathShapefile / 'Finn_MeshBlockSummary.shp')\n",
    "# countShape = gpd.read_file(pathShapefile / 'Burn3000scenarioWellington.shp')\n",
    "\n",
    "fig, (ax1, ax2) = plt.subplots(nrows=1, ncols=2, sharex=True, sharey=True, figsize=(15, 10))\n",
    "\n",
    "FinnMeshblockShape.plot(ax=ax1, column='WellWHV_Bu', cmap='YlOrRd', alpha=0.7, legend=True)\n",
    "# ctx.add_basemap(ax1, crs=2193)\n",
    "countShape.plot(ax=ax2, column='count', cmap='YlOrRd', alpha=0.7, legend=True)\n",
    "# ctx.add_basemap(ax2, crs=2193)\n",
    "\n",
    "ax1.set_title('Finn burn count at meshblock level')\n",
    "ax1.ticklabel_format(useOffset=False, style='plain')\n",
    "ax1.tick_params(direction='out', length=6)\n",
    "ax2.set_title('Burn count at individual building level')\n",
    "ax2.ticklabel_format(useOffset=False, style='plain')\n",
    "ax2.tick_params(direction=\"out\", length=6)\n",
    "\n",
    "fig.autofmt_xdate()\n",
    "plt.tight_layout()\n",
    "plt.savefig(pathShapefile / 'ComparisonGISvsNetwork_3000Burn.png', dpi=600)\n",
    "plt.show()"
   ]
  },
  {
   "cell_type": "markdown",
   "metadata": {},
   "source": [
    "**Plot distributions**"
   ]
  },
  {
   "cell_type": "code",
   "execution_count": 13,
   "metadata": {},
   "outputs": [
    {
     "data": {
      "text/plain": [
       "<matplotlib.axes._subplots.AxesSubplot at 0x15702b89b08>"
      ]
     },
     "execution_count": 13,
     "metadata": {},
     "output_type": "execute_result"
    },
    {
     "data": {
      "text/plain": [
       "Text(0.5, 1.0, 'Distribution of fires')"
      ]
     },
     "execution_count": 13,
     "metadata": {},
     "output_type": "execute_result"
    },
    {
     "data": {
      "image/png": "[encoded data removed]",
      "text/plain": [
       "<Figure size 432x288 with 1 Axes>"
      ]
     },
     "metadata": {},
     "output_type": "display_data"
    }
   ],
   "source": [
    "plt.style.use('seaborn-whitegrid')\n",
    "fig, (ax1) = plt.subplots(nrows=1, ncols=1)#, figsize=(15, 10))\n",
    "\n",
    "countConcatDf['count'].plot('hist', ax=ax1, alpha=0.8)\n",
    "\n",
    "ax1.set_title('Distribution of fires')\n",
    "ax1.ticklabel_format(useOffset=False, style='plain')\n",
    "ax1.tick_params(direction=\"out\", length=6)\n",
    "\n",
    "fig.autofmt_xdate()\n",
    "plt.tight_layout()\n",
    "# plt.savefig(pathShapefile / 'ComparisonGISvsNetwork_3000Burn.png', dpi=600)\n",
    "plt.show()"
   ]
  },
  {
   "cell_type": "code",
   "execution_count": 31,
   "metadata": {},
   "outputs": [
    {
     "data": {
      "text/plain": [
       "<matplotlib.axes._subplots.AxesSubplot at 0x25c1f4b7048>"
      ]
     },
     "execution_count": 31,
     "metadata": {},
     "output_type": "execute_result"
    },
    {
     "data": {
      "text/plain": [
       "Text(0.5, 1.0, 'Distribution of ignitions')"
      ]
     },
     "execution_count": 31,
     "metadata": {},
     "output_type": "execute_result"
    },
    {
     "data": {
      "image/png": "[encoded data removed]",
      "text/plain": [
       "<Figure size 432x288 with 1 Axes>"
      ]
     },
     "metadata": {},
     "output_type": "display_data"
    }
   ],
   "source": [
    "c = concatDf.drop_duplicates('scenario').compute()\n",
    "\n",
    "plt.style.use('seaborn-whitegrid')\n",
    "fig, (ax1) = plt.subplots(nrows=1, ncols=1)#, figsize=(15, 10))\n",
    "\n",
    "c['InitialIgnitions'].plot('hist', ax=ax1, alpha=0.8)\n",
    "\n",
    "ax1.set_title('Distribution of ignitions')\n",
    "ax1.ticklabel_format(useOffset=False, style='plain')\n",
    "ax1.tick_params(direction=\"out\", length=6)\n",
    "\n",
    "fig.autofmt_xdate()\n",
    "plt.tight_layout()\n",
    "# plt.savefig(pathShapefile / 'ComparisonGISvsNetwork_3000Burn.png', dpi=600)\n",
    "plt.show()"
   ]
  },
  {
   "cell_type": "markdown",
   "metadata": {},
   "source": [
    "**Loss calculation**"
   ]
  },
  {
   "cell_type": "code",
   "execution_count": 28,
   "metadata": {},
   "outputs": [],
   "source": [
    "ccDf = concatDf[['source', 'scenario']].compute() \n",
    "ccDfLoss = pd.merge(ccDf, costData, how='left', left_on='source', right_on='FID') # would need to work with Dask !!\n",
    "ccDflossCum = ccDfLoss.groupby(['scenario'])['Replacemen'].sum().reset_index()"
   ]
  },
  {
   "cell_type": "code",
   "execution_count": 62,
   "metadata": {},
   "outputs": [],
   "source": [
    "FinnLosses = np.array([0, 125000000, 263888888.9, 680555555.6, 1062500000, 1340277778, 2000000000, \n",
    "              2555555556, 2972222222, 5020833333, 5402777778, 5854166667, 6305555556, 6444444444,\n",
    "              6965277778, 7243055556, 7381944444, 7902777778, 8145833333, 10263888889, 12347222222, \n",
    "              13215277778, 14152777778])\n",
    "\n",
    "FinnProbability = np.array([0, 0.507380074, 0.556457565, 0.566789668, 0.584870849, 0.605535055, \n",
    "                   0.719188192, 0.763099631, 0.770848708, 0.773431734, 0.804428044, 0.845756458,\n",
    "                   0.871586716, 0.871586716, 0.918081181, 0.923247232, 0.938745387, 0.949077491, \n",
    "                   0.959409594, 0.972324723, 0.982656827, 0.985239852, 0.990405904])"
   ]
  },
  {
   "cell_type": "code",
   "execution_count": 71,
   "metadata": {},
   "outputs": [
    {
     "data": {
      "text/plain": [
       "[<matplotlib.lines.Line2D at 0x15708497608>]"
      ]
     },
     "execution_count": 71,
     "metadata": {},
     "output_type": "execute_result"
    },
    {
     "data": {
      "text/plain": [
       "[<matplotlib.lines.Line2D at 0x157085ddac8>]"
      ]
     },
     "execution_count": 71,
     "metadata": {},
     "output_type": "execute_result"
    },
    {
     "data": {
      "text/plain": [
       "[<matplotlib.lines.Line2D at 0x157085ddf48>]"
      ]
     },
     "execution_count": 71,
     "metadata": {},
     "output_type": "execute_result"
    },
    {
     "data": {
      "text/plain": [
       "Text(0.5, 1.0, 'Cumulative distribution of losses')"
      ]
     },
     "execution_count": 71,
     "metadata": {},
     "output_type": "execute_result"
    },
    {
     "data": {
      "text/plain": [
       "<matplotlib.legend.Legend at 0x1570858c508>"
      ]
     },
     "execution_count": 71,
     "metadata": {},
     "output_type": "execute_result"
    },
    {
     "data": {
      "text/plain": [
       "[Text(0, 0.5, 'Probability'), Text(0.5, 0, 'Losses in $NZ billions')]"
      ]
     },
     "execution_count": 71,
     "metadata": {},
     "output_type": "execute_result"
    },
    {
     "data": {
      "text/plain": [
       "(-4.99999955, 20)"
      ]
     },
     "execution_count": 71,
     "metadata": {},
     "output_type": "execute_result"
    },
    {
     "data": {
      "image/png": "[encoded data removed]",
      "text/plain": [
       "<Figure size 432x288 with 1 Axes>"
      ]
     },
     "metadata": {},
     "output_type": "display_data"
    }
   ],
   "source": [
    "lossLevels = np.arange(1000, 100e9, 10000)\n",
    "excLess = np.array([np.count_nonzero(ccDflossCum.Replacemen.values <= x) for x in lossLevels])/3000\n",
    "excMore = np.array([np.count_nonzero(ccDflossCum.Replacemen.values >= x) for x in lossLevels])/3000\n",
    "\n",
    "\n",
    "plt.style.use('seaborn-whitegrid')\n",
    "fig, (ax1) = plt.subplots(nrows=1, ncols=1)#, figsize=(15, 10))\n",
    "\n",
    "ax1.plot(lossLevels/1e9, excLess, linewidth=2, label='loss inferior')\n",
    "ax1.plot(lossLevels/1e9, excMore, linewidth=2, label='loss excedence')\n",
    "ax1.plot(FinnLosses/1e9, FinnProbability, linewidth=2, label='Finn loss inferior')\n",
    "\n",
    "ax1.set_title('Cumulative distribution of losses')\n",
    "ax1.ticklabel_format(useOffset=False, style= 'scientific')\n",
    "ax1.tick_params(direction=\"out\", length=6)\n",
    "ax1.legend(loc=\"center right\", frameon=True)\n",
    "ax1.set(xlabel=\"Losses in $NZ billions\", ylabel=\"Probability\")\n",
    "# ax1.set_xscale('log')\n",
    "ax1.set_xlim([None, 20])\n",
    "\n",
    "fig.autofmt_xdate()\n",
    "plt.tight_layout()\n",
    "plt.savefig(pathShapefile / 'ExcLosses.png', dpi=600)\n",
    "plt.show()\n"
   ]
  },
  {
   "cell_type": "code",
   "execution_count": 70,
   "metadata": {},
   "outputs": [
    {
     "data": {
      "text/plain": [
       "<matplotlib.axes._subplots.AxesSubplot at 0x15708495408>"
      ]
     },
     "execution_count": 70,
     "metadata": {},
     "output_type": "execute_result"
    },
    {
     "data": {
      "text/plain": [
       "Text(0.5, 1.0, 'Distribution of losses')"
      ]
     },
     "execution_count": 70,
     "metadata": {},
     "output_type": "execute_result"
    },
    {
     "data": {
      "text/plain": [
       "Text(0.5, 0, 'Loss $NZ')"
      ]
     },
     "execution_count": 70,
     "metadata": {},
     "output_type": "execute_result"
    },
    {
     "data": {
      "image/png": "[encoded data removed]",
      "text/plain": [
       "<Figure size 432x288 with 1 Axes>"
      ]
     },
     "metadata": {},
     "output_type": "display_data"
    }
   ],
   "source": [
    "plt.style.use('seaborn-whitegrid')\n",
    "fig, (ax1) = plt.subplots(nrows=1, ncols=1)#, figsize=(15, 10))\n",
    "\n",
    "ccDflossCum.Replacemen.plot('hist', alpha=0.8)\n",
    "\n",
    "ax1.set_title('Distribution of losses')\n",
    "ax1.ticklabel_format(useOffset=False, style= 'scientific')\n",
    "ax1.tick_params(direction=\"out\", length=6)\n",
    "# ax1.set_yscale('log')\n",
    "ax1.set_xlabel('Loss $NZ')\n",
    "\n",
    "fig.autofmt_xdate()\n",
    "plt.tight_layout()\n",
    "plt.savefig(pathShapefile / 'DsitributionLosses.png', dpi=600)\n",
    "plt.show()"
   ]
  },
  {
   "cell_type": "code",
   "execution_count": null,
   "metadata": {},
   "outputs": [],
   "source": []
  }
 ],
 "metadata": {
  "colab": {
   "authorship_tag": "ABX9TyOUu9RPs3YVIGoTN2aUBA+G",
   "include_colab_link": true,
   "machine_shape": "hm",
   "mount_file_id": "https://github.com/37stu37/FFE/blob/master/FFEpostProcessingRAPIDS.ipynb",
   "name": "FFEpostProcessingRAPIDS.ipynb",
   "provenance": []
  },
  "kernelspec": {
   "display_name": "Python 3",
   "language": "python",
   "name": "python3"
  },
  "language_info": {
   "codemirror_mode": {
    "name": "ipython",
    "version": 3
   },
   "file_extension": ".py",
   "mimetype": "text/x-python",
   "name": "python",
   "nbconvert_exporter": "python",
   "pygments_lexer": "ipython3",
   "version": "3.7.4"
  }
 },
 "nbformat": 4,
 "nbformat_minor": 4
}
