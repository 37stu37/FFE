{
 "cells": [
  {
   "cell_type": "code",
   "execution_count": 26,
   "metadata": {
    "ExecuteTime": {
     "end_time": "2020-09-13T22:22:51.156503Z",
     "start_time": "2020-09-13T22:22:51.140571Z"
    }
   },
   "outputs": [
    {
     "name": "stdout",
     "output_type": "stream",
     "text": [
      "The memory_profiler extension is already loaded. To reload it, use:\n",
      "  %reload_ext memory_profiler\n"
     ]
    }
   ],
   "source": [
    "from IPython.core.interactiveshell import InteractiveShell\n",
    "InteractiveShell.ast_node_interactivity = \"all\"\n",
    "\n",
    "import numpy as np\n",
    "import pandas as pd\n",
    "import dask.dataframe as dd\n",
    "import geopandas as gpd\n",
    "\n",
    "from pathlib import Path\n",
    "import sys\n",
    "import os\n",
    "import glob\n",
    "import multiprocessing as mp\n",
    "from datetime import date\n",
    "\n",
    "from tqdm.notebook import tqdm\n",
    "\n",
    "from bokeh.plotting import figure, output_file, show\n",
    "\n",
    "pd.options.mode.chained_assignment = None  # default='warn'\n",
    "%load_ext memory_profiler"
   ]
  },
  {
   "cell_type": "code",
   "execution_count": 27,
   "metadata": {
    "ExecuteTime": {
     "end_time": "2020-09-13T22:23:41.625750Z",
     "start_time": "2020-09-13T22:22:51.604226Z"
    }
   },
   "outputs": [
    {
     "name": "stdout",
     "output_type": "stream",
     "text": [
      "CPU times: user 342 ms, sys: 395 ms, total: 738 ms\n",
      "Wall time: 50 s\n"
     ]
    }
   ],
   "source": [
    "%%time\n",
    "# Folders\n",
    "p = Path.cwd()\n",
    "dataFolder = p.parent.parent / 'InOutRepoData' / 'FFE'\n",
    "folder = dataFolder / 'OneScenarioOuput'\n",
    "\n",
    "# Data\n",
    "wind_data = pd.read_csv(p / 'data' / 'Copy_of_GD_wind.csv')\n",
    "edgelist = pd.read_parquet(p / 'data' / 'FinnShapeEdges_old.parquet', engine='pyarrow')"
   ]
  },
  {
   "cell_type": "code",
   "execution_count": 28,
   "metadata": {
    "ExecuteTime": {
     "end_time": "2020-09-13T22:23:42.246151Z",
     "start_time": "2020-09-13T22:23:42.189615Z"
    }
   },
   "outputs": [
    {
     "data": {
      "text/html": [
       "<div>\n",
       "<style scoped>\n",
       "    .dataframe tbody tr th:only-of-type {\n",
       "        vertical-align: middle;\n",
       "    }\n",
       "\n",
       "    .dataframe tbody tr th {\n",
       "        vertical-align: top;\n",
       "    }\n",
       "\n",
       "    .dataframe thead th {\n",
       "        text-align: right;\n",
       "    }\n",
       "</style>\n",
       "<table border=\"1\" class=\"dataframe\">\n",
       "  <thead>\n",
       "    <tr style=\"text-align: right;\">\n",
       "      <th></th>\n",
       "      <th>source</th>\n",
       "      <th>target</th>\n",
       "      <th>distance</th>\n",
       "      <th>bearing</th>\n",
       "      <th>IgnProbBld</th>\n",
       "    </tr>\n",
       "  </thead>\n",
       "  <tbody>\n",
       "    <tr>\n",
       "      <th>0</th>\n",
       "      <td>0</td>\n",
       "      <td>41</td>\n",
       "      <td>60.968041</td>\n",
       "      <td>212.179941</td>\n",
       "      <td>0.000040</td>\n",
       "    </tr>\n",
       "    <tr>\n",
       "      <th>1</th>\n",
       "      <td>0</td>\n",
       "      <td>391</td>\n",
       "      <td>15.516658</td>\n",
       "      <td>177.323424</td>\n",
       "      <td>0.000040</td>\n",
       "    </tr>\n",
       "    <tr>\n",
       "      <th>2</th>\n",
       "      <td>0</td>\n",
       "      <td>2658</td>\n",
       "      <td>21.955722</td>\n",
       "      <td>211.123870</td>\n",
       "      <td>0.000040</td>\n",
       "    </tr>\n",
       "    <tr>\n",
       "      <th>3</th>\n",
       "      <td>0</td>\n",
       "      <td>5879</td>\n",
       "      <td>70.803928</td>\n",
       "      <td>136.343138</td>\n",
       "      <td>0.000040</td>\n",
       "    </tr>\n",
       "    <tr>\n",
       "      <th>4</th>\n",
       "      <td>0</td>\n",
       "      <td>6831</td>\n",
       "      <td>56.944753</td>\n",
       "      <td>315.930929</td>\n",
       "      <td>0.000040</td>\n",
       "    </tr>\n",
       "    <tr>\n",
       "      <th>...</th>\n",
       "      <td>...</td>\n",
       "      <td>...</td>\n",
       "      <td>...</td>\n",
       "      <td>...</td>\n",
       "      <td>...</td>\n",
       "    </tr>\n",
       "    <tr>\n",
       "      <th>3174925</th>\n",
       "      <td>73734</td>\n",
       "      <td>61496</td>\n",
       "      <td>50.604073</td>\n",
       "      <td>38.305974</td>\n",
       "      <td>0.000253</td>\n",
       "    </tr>\n",
       "    <tr>\n",
       "      <th>3174926</th>\n",
       "      <td>73734</td>\n",
       "      <td>64897</td>\n",
       "      <td>1.027726</td>\n",
       "      <td>314.500873</td>\n",
       "      <td>0.000253</td>\n",
       "    </tr>\n",
       "    <tr>\n",
       "      <th>3174927</th>\n",
       "      <td>73734</td>\n",
       "      <td>65052</td>\n",
       "      <td>50.627069</td>\n",
       "      <td>32.191654</td>\n",
       "      <td>0.000253</td>\n",
       "    </tr>\n",
       "    <tr>\n",
       "      <th>3174928</th>\n",
       "      <td>73734</td>\n",
       "      <td>70488</td>\n",
       "      <td>75.132354</td>\n",
       "      <td>231.759090</td>\n",
       "      <td>0.000253</td>\n",
       "    </tr>\n",
       "    <tr>\n",
       "      <th>3174929</th>\n",
       "      <td>73734</td>\n",
       "      <td>70502</td>\n",
       "      <td>13.301427</td>\n",
       "      <td>357.051472</td>\n",
       "      <td>0.000253</td>\n",
       "    </tr>\n",
       "  </tbody>\n",
       "</table>\n",
       "<p>3174930 rows × 5 columns</p>\n",
       "</div>"
      ],
      "text/plain": [
       "         source  target   distance     bearing  IgnProbBld\n",
       "0             0      41  60.968041  212.179941    0.000040\n",
       "1             0     391  15.516658  177.323424    0.000040\n",
       "2             0    2658  21.955722  211.123870    0.000040\n",
       "3             0    5879  70.803928  136.343138    0.000040\n",
       "4             0    6831  56.944753  315.930929    0.000040\n",
       "...         ...     ...        ...         ...         ...\n",
       "3174925   73734   61496  50.604073   38.305974    0.000253\n",
       "3174926   73734   64897   1.027726  314.500873    0.000253\n",
       "3174927   73734   65052  50.627069   32.191654    0.000253\n",
       "3174928   73734   70488  75.132354  231.759090    0.000253\n",
       "3174929   73734   70502  13.301427  357.051472    0.000253\n",
       "\n",
       "[3174930 rows x 5 columns]"
      ]
     },
     "execution_count": 28,
     "metadata": {},
     "output_type": "execute_result"
    }
   ],
   "source": [
    "edgelist"
   ]
  },
  {
   "cell_type": "code",
   "execution_count": 29,
   "metadata": {
    "ExecuteTime": {
     "end_time": "2020-09-13T22:23:44.265897Z",
     "start_time": "2020-09-13T22:23:43.324526Z"
    }
   },
   "outputs": [
    {
     "data": {
      "text/plain": [
       "count    69824.000000\n",
       "mean         0.000129\n",
       "std          0.000223\n",
       "min          0.000024\n",
       "25%          0.000061\n",
       "50%          0.000092\n",
       "75%          0.000124\n",
       "max          0.005239\n",
       "Name: IgnProbBld, dtype: float64"
      ]
     },
     "execution_count": 29,
     "metadata": {},
     "output_type": "execute_result"
    },
    {
     "data": {
      "text/plain": [
       "count    69824.000000\n",
       "mean     36867.715742\n",
       "std      21298.611168\n",
       "min          0.000000\n",
       "25%      18424.750000\n",
       "50%      36860.500000\n",
       "75%      55315.250000\n",
       "max      73734.000000\n",
       "Name: source, dtype: float64"
      ]
     },
     "execution_count": 29,
     "metadata": {},
     "output_type": "execute_result"
    }
   ],
   "source": [
    "rngFile = edgelist[['source', 'IgnProbBld']]\n",
    "rngFile.drop_duplicates(['source'], inplace=True)\n",
    "rngFile.IgnProbBld.describe()\n",
    "rngFile.source.describe()"
   ]
  },
  {
   "cell_type": "markdown",
   "metadata": {},
   "source": [
    "Shoud look like this to match with Finn's original run:\n",
    "\n",
    "\n",
    "Out[6]:\n",
    "\n",
    "count    69824.000000\n",
    "mean         0.000129\n",
    "std          0.000223\n",
    "min          0.000024\n",
    "25%          0.000061\n",
    "50%          0.000092\n",
    "75%          0.000124\n",
    "max          0.005239\n",
    "Name: IgnProbBld, dtype: float64\n",
    "\n",
    "Out[6]:\n",
    "\n",
    "count    69824.000000\n",
    "mean     36867.715742\n",
    "std      21298.611168\n",
    "min          0.000000\n",
    "25%      18424.750000\n",
    "50%      36860.500000\n",
    "75%      55315.250000\n",
    "max      73734.000000\n",
    "Name: source, dtype: float64"
   ]
  },
  {
   "cell_type": "code",
   "execution_count": 30,
   "metadata": {
    "ExecuteTime": {
     "end_time": "2020-09-13T22:23:44.649976Z",
     "start_time": "2020-09-13T22:23:44.645399Z"
    }
   },
   "outputs": [],
   "source": [
    "# num_cores = multiprocessing.cpu_count()\n",
    "# print(num_cores)\n",
    "# # need to do this on Shell / Terminal:\n",
    "# conda install ipyparallel\n",
    "# ipcluster nbextension enable --user\n",
    "# ipcluster start # or ipcluster start -n 4"
   ]
  },
  {
   "cell_type": "code",
   "execution_count": 31,
   "metadata": {
    "ExecuteTime": {
     "end_time": "2020-09-13T22:23:44.999288Z",
     "start_time": "2020-09-13T22:23:44.946666Z"
    }
   },
   "outputs": [
    {
     "data": {
      "text/plain": [
       "[0, 1, 2, 3]"
      ]
     },
     "execution_count": 31,
     "metadata": {},
     "output_type": "execute_result"
    }
   ],
   "source": [
    "import ipyparallel as ipp\n",
    "client = ipp.Client()\n",
    "dview = client[:]# limit to 10 cores for now\n",
    "client.ids"
   ]
  },
  {
   "cell_type": "code",
   "execution_count": 32,
   "metadata": {
    "ExecuteTime": {
     "end_time": "2020-09-13T22:23:52.045022Z",
     "start_time": "2020-09-13T22:23:45.407052Z"
    }
   },
   "outputs": [
    {
     "name": "stdout",
     "output_type": "stream",
     "text": [
      "importing numpy on engine(s)\n",
      "importing pandas on engine(s)\n",
      "importing dask.dataframe on engine(s)\n",
      "importing geopandas on engine(s)\n",
      "importing Path from pathlib on engine(s)\n",
      "importing sys on engine(s)\n",
      "importing os on engine(s)\n",
      "importing glob on engine(s)\n",
      "importing multiprocessing on engine(s)\n",
      "importing date from datetime on engine(s)\n",
      "importing tqdm from tqdm.notebook on engine(s)\n"
     ]
    }
   ],
   "source": [
    "# add variables to all engines\n",
    "dview[\"edgelist\"]=edgelist\n",
    "dview[\"rngFile\"]=rngFile\n",
    "dview[\"wind_data\"]=wind_data\n",
    "dview[\"folder\"]=folder\n",
    "\n",
    "# add all libraries to engines\n",
    "with dview.sync_imports():\n",
    "    import numpy as np\n",
    "    import pandas as pd\n",
    "    import dask.dataframe as dd\n",
    "    import geopandas as gpd\n",
    "\n",
    "    from pathlib import Path\n",
    "    import sys\n",
    "    import os\n",
    "    import glob\n",
    "    import multiprocessing as mp\n",
    "    from datetime import date\n",
    "\n",
    "    from tqdm.notebook import tqdm"
   ]
  },
  {
   "cell_type": "code",
   "execution_count": 33,
   "metadata": {
    "ExecuteTime": {
     "end_time": "2020-09-13T22:23:52.808894Z",
     "start_time": "2020-09-13T22:23:52.604588Z"
    },
    "code_folding": [
     2,
     30,
     40,
     51
    ]
   },
   "outputs": [],
   "source": [
    "%%px\n",
    "\n",
    "def wind_scenario(wind_data):\n",
    "    import numpy as np\n",
    "    import pandas as pd\n",
    "    i = 0\n",
    "    w = wind_data.values[i, 2]\n",
    "    dist = wind_data.values[i, 1]\n",
    "    b = wind_data.values[i, 3]\n",
    "    \n",
    "    # need correction as bearing is where the wind is COMING FROM!\n",
    "    if b<=360 and b>180:\n",
    "        b = b-180\n",
    "    else:\n",
    "        b = b+180\n",
    "        \n",
    "    bear_max = b + 45  # wind direction\n",
    "    bear_min = b - 45\n",
    "    if b == 360:\n",
    "        bear_max = 45\n",
    "    if b <= 0:  # should not be necessary\n",
    "        bear_min = 0\n",
    "    if b == 999:\n",
    "        bear_max = 999\n",
    "        bear_min = 0\n",
    "        \n",
    "    print(f\"w_direction : {b}, w_bearing_max : {bear_max}, w_bearing_min : {bear_min}, w_distance : {dist}\")\n",
    "    return bear_max, bear_min, dist  # wind characteristics, bearing and distance\n",
    "\n",
    "\n",
    "def ignition(rngList=rngFile, edges=edgelist):\n",
    "    import numpy as np\n",
    "    import pandas as pd\n",
    "    rngList['rng'] = np.random.uniform(0, 1, size=rngList.values.shape[0])\n",
    "    rngList = rngList[rngList['rng'] < rngList['IgnProbBld']]\n",
    "    initialIgnitions = len(rngList)\n",
    "    NewActiveEdges = edges[edges['source'].isin(rngList['source'])]\n",
    "    return NewActiveEdges, initialIgnitions\n",
    "\n",
    "\n",
    "def mask(t, activeEdges_d, listActivatedSources_d, w_b_max, w_b_min, w_d):\n",
    "    import numpy as np\n",
    "    if t==0: # special case at time=0\n",
    "        return activeEdges_d\n",
    "    else:\n",
    "        mask = (activeEdges_d.bearing.values < w_b_max) & (activeEdges_d.bearing.values < w_b_min) & (activeEdges_d.distance < w_d)\n",
    "        NewActiveEdges = activeEdges_d[mask]\n",
    "        NewActiveEdges = NewActiveEdges[~NewActiveEdges.source.isin(listActivatedSources_d)]\n",
    "        return NewActiveEdges\n",
    "\n",
    "\n",
    "def propagation(activeEdges_d, edges=edgelist):\n",
    "    import numpy as np\n",
    "    import pandas as pd\n",
    "    NewActiveEdges = edges[edges.source.isin(activeEdges_d.target)]\n",
    "    return NewActiveEdges"
   ]
  },
  {
   "cell_type": "code",
   "execution_count": 34,
   "metadata": {
    "ExecuteTime": {
     "end_time": "2020-09-13T22:23:53.285932Z",
     "start_time": "2020-09-13T22:23:53.248625Z"
    },
    "code_folding": [
     1
    ]
   },
   "outputs": [],
   "source": [
    "@dview.parallel(block = False) # The @parallel decorator breaks up elementwise operations and distributes them.\n",
    "def ffe_runs(n):\n",
    "    import numpy as np\n",
    "    import pandas as pd\n",
    "    from datetime import date\n",
    "    import numpy as np\n",
    "    import pandas as pd\n",
    "    import dask.dataframe as dd\n",
    "    import geopandas as gpd\n",
    "\n",
    "    from pathlib import Path\n",
    "    import sys\n",
    "    import os\n",
    "    import glob\n",
    "    import multiprocessing as mp\n",
    "    from datetime import date\n",
    "\n",
    "    from tqdm.notebook import tqdm\n",
    "    for scenario in tqdm(n):\n",
    "        # initial setup\n",
    "        listActivatedSources = []\n",
    "        listScenarioDataframes = []\n",
    "        condition = True\n",
    "        time = 0 \n",
    "        # wind conditions\n",
    "        w_bearing_max, w_bearing_min, w_distance = wind_scenario(wind_data)\n",
    "        # ignition / initial state and edges selection\n",
    "        ActiveEdges, numberIgnitions = ignition()\n",
    "        if ActiveEdges.empty:\n",
    "            print(f\"no ignitions {numberIgnitions}\")\n",
    "            condition = False\n",
    "            continue\n",
    "        while condition: # spread burn zone\n",
    "            ActiveEdges = mask(time, ActiveEdges, listActivatedSources, w_bearing_max, w_bearing_min, w_distance)\n",
    "            if ActiveEdges.empty: #no more buildings to burn\n",
    "                break\n",
    "            burns = ActiveEdges.drop_duplicates(['source'], inplace=False)\n",
    "#             print(f\"Active edges {len(ActiveEdges)} / no duplicate = {len(burns)}\")\n",
    "            burns['time'] = time\n",
    "            listScenarioDataframes.append(burns)\n",
    "            listActivatedSources.extend(ActiveEdges.source.values)\n",
    "            ActiveEdges = propagation(ActiveEdges)\n",
    "            time += 1\n",
    "        \n",
    "        print(f'finishing scenario --- {scenario} time ---- {time} \\n started with {numberIgnitions} ignitions ')\n",
    "\n",
    "        Activations = pd.concat(listScenarioDataframes)\n",
    "        Activations[\"scenario\"] = scenario\n",
    "        Activations[\"InitialIgnitions\"] = numberIgnitions\n",
    "        Activations.to_parquet(str(folder) + '/' + f'scenario{scenario}_{str(date.today())}.parquet', engine='auto', compression=\"GZIP\")"
   ]
  },
  {
   "cell_type": "code",
   "execution_count": 35,
   "metadata": {
    "ExecuteTime": {
     "end_time": "2020-09-13T22:23:54.036809Z",
     "start_time": "2020-09-13T22:23:53.765525Z"
    }
   },
   "outputs": [
    {
     "data": {
      "text/plain": [
       "<AsyncMapResult: ffe_runs>"
      ]
     },
     "execution_count": 35,
     "metadata": {},
     "output_type": "execute_result"
    }
   ],
   "source": [
    "ffe_runs(range(3000))"
   ]
  },
  {
   "cell_type": "code",
   "execution_count": null,
   "metadata": {},
   "outputs": [],
   "source": []
  }
 ],
 "metadata": {
  "kernelspec": {
   "display_name": "Python 3",
   "language": "python",
   "name": "python3"
  },
  "language_info": {
   "codemirror_mode": {
    "name": "ipython",
    "version": 3
   },
   "file_extension": ".py",
   "mimetype": "text/x-python",
   "name": "python",
   "nbconvert_exporter": "python",
   "pygments_lexer": "ipython3",
   "version": "3.7.3"
  },
  "varInspector": {
   "cols": {
    "lenName": 16,
    "lenType": 16,
    "lenVar": 40
   },
   "kernels_config": {
    "python": {
     "delete_cmd_postfix": "",
     "delete_cmd_prefix": "del ",
     "library": "var_list.py",
     "varRefreshCmd": "print(var_dic_list())"
    },
    "r": {
     "delete_cmd_postfix": ") ",
     "delete_cmd_prefix": "rm(",
     "library": "var_list.r",
     "varRefreshCmd": "cat(var_dic_list()) "
    }
   },
   "position": {
    "height": "398.736px",
    "left": "1105.45px",
    "right": "20px",
    "top": "120px",
    "width": "620px"
   },
   "types_to_exclude": [
    "module",
    "function",
    "builtin_function_or_method",
    "instance",
    "_Feature"
   ],
   "window_display": false
  }
 },
 "nbformat": 4,
 "nbformat_minor": 4
}
