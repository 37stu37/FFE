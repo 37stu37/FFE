{
 "cells": [
  {
   "cell_type": "markdown",
   "metadata": {
    "colab_type": "text",
    "id": "m42Qt2fkaDi8"
   },
   "source": [
    "# Import"
   ]
  },
  {
   "cell_type": "code",
   "execution_count": 1,
   "metadata": {
    "ExecuteTime": {
     "end_time": "2020-09-07T22:43:50.905337Z",
     "start_time": "2020-09-07T22:43:50.899522Z"
    }
   },
   "outputs": [],
   "source": [
    "from IPython.core.interactiveshell import InteractiveShell\n",
    "InteractiveShell.ast_node_interactivity = \"all\""
   ]
  },
  {
   "cell_type": "code",
   "execution_count": 2,
   "metadata": {
    "ExecuteTime": {
     "end_time": "2020-09-07T22:43:53.399729Z",
     "start_time": "2020-09-07T22:43:51.375280Z"
    },
    "colab": {},
    "colab_type": "code",
    "id": "7O35x2t8T4Dk"
   },
   "outputs": [],
   "source": [
    "import numpy as np\n",
    "import pandas as pd\n",
    "# import dask\n",
    "import dask.dataframe as dd\n",
    "import geopandas as gpd\n",
    "\n",
    "from pathlib import Path\n",
    "import sys\n",
    "import os\n",
    "import glob\n",
    "import multiprocessing as mp\n",
    "from datetime import date\n",
    "\n",
    "from tqdm.notebook import tqdm\n",
    "from dask.diagnostics import ProgressBar\n",
    "\n",
    "pd.options.mode.chained_assignment = None  # default='warn'"
   ]
  },
  {
   "cell_type": "markdown",
   "metadata": {},
   "source": [
    "# Data"
   ]
  },
  {
   "cell_type": "code",
   "execution_count": 3,
   "metadata": {
    "ExecuteTime": {
     "end_time": "2020-09-07T22:43:53.504112Z",
     "start_time": "2020-09-07T22:43:53.492122Z"
    },
    "colab": {},
    "colab_type": "code",
    "id": "QtfIG4oqTqPD",
    "tags": []
   },
   "outputs": [
    {
     "output_type": "stream",
     "name": "stdout",
     "text": "CPU times: user 78 µs, sys: 77 µs, total: 155 µs\nWall time: 160 µs\n"
    }
   ],
   "source": [
    "%%time\n",
    "# Folders\n",
    "repository = Path.cwd()\n",
    "dataFolder = repository.parent.parent / 'InOutRepoData' / 'FFE'\n",
    "folder = repository / 'data' / 'comparison_arcpy'"
   ]
  },
  {
   "cell_type": "code",
   "execution_count": 4,
   "metadata": {
    "ExecuteTime": {
     "end_time": "2020-09-07T22:43:54.782737Z",
     "start_time": "2020-09-07T22:43:54.403743Z"
    },
    "tags": []
   },
   "outputs": [
    {
     "output_type": "stream",
     "name": "stdout",
     "text": "CPU times: user 269 ms, sys: 299 ms, total: 568 ms\nWall time: 423 ms\n"
    }
   ],
   "source": [
    "%%time\n",
    "# Data\n",
    "\n",
    "wind_data = pd.read_csv(repository / 'data' / 'Copy_of_GD_wind.csv')\n",
    "edgelist = pd.read_parquet(repository / 'data' / 'BLDG_ID_ShapeEdges.parquet', engine='pyarrow')"
   ]
  },
  {
   "cell_type": "markdown",
   "metadata": {},
   "source": [
    "**data from the scenario HikWgtnMin_pfour_1-100     \n",
    "scenario1 initial ignition BLDG_ID : 217, 686, 32, 166, 15, 937, 46 which translate into edge_id 216, 685, 31, 165, 14, 936, 45**\n",
    "\n",
    "**Wind speed - critical distance 45m\n",
    "Wind direction NW**\n",
    "\n",
    "**18min processing time**"
   ]
  },
  {
   "cell_type": "code",
   "execution_count": 5,
   "metadata": {
    "ExecuteTime": {
     "end_time": "2020-09-07T22:43:57.490660Z",
     "start_time": "2020-09-07T22:43:57.483611Z"
    }
   },
   "outputs": [],
   "source": [
    "rngdata = {'source':[6041, 19624, 21701, 28758, \n",
    "                     40702,41549, 58068], \n",
    "           'IgnProb_bl':[1, 1, 1, 1, 1, 1, 1]} \n",
    "rngFile = pd.DataFrame(rngdata)"
   ]
  },
  {
   "cell_type": "markdown",
   "metadata": {},
   "source": [
    "## Parallel computing set up"
   ]
  },
  {
   "cell_type": "markdown",
   "metadata": {},
   "source": [
    "## Functions"
   ]
  },
  {
   "cell_type": "code",
   "execution_count": 6,
   "metadata": {
    "ExecuteTime": {
     "end_time": "2020-09-07T22:43:59.333360Z",
     "start_time": "2020-09-07T22:43:59.313884Z"
    },
    "code_folding": [
     2,
     20,
     30,
     43
    ],
    "colab": {},
    "colab_type": "code",
    "id": "Q7pHNrjZN8Zw"
   },
   "outputs": [],
   "source": [
    "# %%px\n",
    "\n",
    "def wind_scenario(wind_data):\n",
    "    import numpy as np\n",
    "    i = np.random.randint(0, wind_data.values.shape[0])\n",
    "    w = wind_data.values[i, 2]\n",
    "    dist = wind_data.values[i, 1]\n",
    "    b = wind_data.values[i, 3]\n",
    "    bear_max = b + 45  # wind direction\n",
    "    bear_min = b - 45\n",
    "    if b == 360:\n",
    "        bear_max = 45\n",
    "    if b <= 0:  # should not be necessary\n",
    "        bear_min = 0\n",
    "    if b == 999:\n",
    "        bear_max = 999\n",
    "        bear_min = 0\n",
    "    return bear_max, bear_min, dist  # wind characteristics, bearing and distance\n",
    "\n",
    "\n",
    "def ignition(rngList=rngFile, edges=edgelist):\n",
    "    import numpy as np\n",
    "    import pandas as pd\n",
    "    rngList['rng'] = np.random.uniform(0, 1, size=rngList.values.shape[0])\n",
    "    rngList = rngList[rngList['rng'] < rngList['IgnProb_bl']]\n",
    "    initialIgnitions = len(rngList)\n",
    "    NewActiveEdges = edges[edges['source'].isin(rngList['source'])]\n",
    "    return NewActiveEdges, initialIgnitions\n",
    "\n",
    "\n",
    "def mask(t, activeEdges_d, listActivatedSources_d, w_b_max, w_b_min, w_d):\n",
    "    import numpy as np\n",
    "    if t == 0:  # special case at time=0\n",
    "        return activeEdges_d\n",
    "    else:\n",
    "        mask = (activeEdges_d.bearing.values < w_b_max) & (\n",
    "            activeEdges_d.bearing.values < w_b_min) & (activeEdges_d.distance < w_d)\n",
    "        NewActiveEdges = activeEdges_d[mask]\n",
    "        NewActiveEdges = NewActiveEdges[~NewActiveEdges.source.isin(\n",
    "            listActivatedSources_d)]\n",
    "        return NewActiveEdges\n",
    "\n",
    "\n",
    "def propagation(activeEdges_d, edges=edgelist):\n",
    "    import numpy as np\n",
    "    import pandas as pd\n",
    "    NewActiveEdges = edges[edges.source.isin(activeEdges_d.target)]\n",
    "    return NewActiveEdges"
   ]
  },
  {
   "cell_type": "code",
   "execution_count": 22,
   "metadata": {
    "ExecuteTime": {
     "end_time": "2020-09-07T22:46:18.267124Z",
     "start_time": "2020-09-07T22:46:18.256431Z"
    },
    "code_folding": [
     1
    ]
   },
   "outputs": [],
   "source": [
    "# @dview.parallel(block = False) # The @parallel decorator breaks up elementwise operations and distributes them.\n",
    "def ffe_runs(n):\n",
    "    import numpy as np\n",
    "    import pandas as pd\n",
    "    from datetime import date\n",
    "    for scenario in n:\n",
    "        # initial setup\n",
    "        listActivatedSources = []\n",
    "        listScenarioDataframes = []\n",
    "        condition = True\n",
    "        time = 0 \n",
    "        # wind conditions\n",
    "        # w_bearing_max, w_bearing_min, w_distance = wind_scenario(wind_data)\n",
    "        w_bearing_max = 190\n",
    "        w_bearing_min = 170\n",
    "        w_distance = 100\n",
    "        # ignition / initial state and edges selection\n",
    "        ActiveEdges, numberIgnitions = ignition()\n",
    "        if ActiveEdges.empty:\n",
    "            print(f\"no ignitions {numberIgnitions}\")\n",
    "            condition = False\n",
    "            continue\n",
    "        while condition: # spread burn zone\n",
    "            ActiveEdges = mask(time, ActiveEdges, listActivatedSources, w_bearing_max, w_bearing_min, w_distance)\n",
    "            if ActiveEdges.empty: #no more buildings to burn\n",
    "                break\n",
    "            burns = ActiveEdges.drop_duplicates(['source'], inplace=False)\n",
    "#             print(f\"Active edges {len(ActiveEdges)} / no duplicate = {len(burns)}\")\n",
    "            burns['time'] = time\n",
    "            listScenarioDataframes.append(burns)\n",
    "            listActivatedSources.extend(ActiveEdges.source.values)\n",
    "            ActiveEdges = propagation(ActiveEdges)\n",
    "            time += 1\n",
    "        \n",
    "        print(f'finishing scenario --- {scenario} time ---- {time} \\n started with {numberIgnitions} ignitions ')\n",
    "\n",
    "        Activations = pd.concat(listScenarioDataframes)\n",
    "        Activations[\"scenario\"] = scenario\n",
    "        Activations[\"InitialIgnitions\"] = numberIgnitions\n",
    "        Activations.to_parquet(folder / f'S170_190_100m_scenario{scenario}_{str(date.today())}.parquet', engine='auto', compression=\"GZIP\")"
   ]
  },
  {
   "cell_type": "markdown",
   "metadata": {
    "colab_type": "text",
    "id": "g9Vq0cczZSy4"
   },
   "source": [
    "# Run"
   ]
  },
  {
   "cell_type": "code",
   "execution_count": 23,
   "metadata": {
    "ExecuteTime": {
     "end_time": "2020-09-07T22:46:26.856326Z",
     "start_time": "2020-09-07T22:46:18.601525Z"
    },
    "tags": []
   },
   "outputs": [
    {
     "output_type": "stream",
     "name": "stdout",
     "text": "finishing scenario --- 0 time ---- 61 \n started with 7 ignitions \nCPU times: user 11.1 s, sys: 4.43 s, total: 15.5 s\nWall time: 19.3 s\n"
    }
   ],
   "source": [
    "%%time\n",
    "ffe_runs(range(1))"
   ]
  },
  {
   "cell_type": "markdown",
   "metadata": {
    "colab_type": "text",
    "id": "ydETTY_fZB3Q"
   },
   "source": [
    "\n",
    "### Post processing and comparison"
   ]
  },
  {
   "cell_type": "code",
   "execution_count": 24,
   "metadata": {
    "ExecuteTime": {
     "end_time": "2020-09-07T22:46:27.305598Z",
     "start_time": "2020-09-07T22:46:27.296581Z"
    }
   },
   "outputs": [],
   "source": [
    "repoFolder = Path.cwd()\n",
    "comparisonFolder = repoFolder.parent.parent / 'InOutRepoData' / 'FFE' / 'ProbaScenariosInput' / 'comparisonArcPyResults'"
   ]
  },
  {
   "cell_type": "code",
   "execution_count": 25,
   "metadata": {
    "ExecuteTime": {
     "end_time": "2020-09-07T22:46:27.754907Z",
     "start_time": "2020-09-07T22:46:27.745847Z"
    }
   },
   "outputs": [],
   "source": [
    "import contextily as ctx\n",
    "import matplotlib.pyplot as plt"
   ]
  },
  {
   "cell_type": "code",
   "execution_count": 28,
   "metadata": {
    "ExecuteTime": {
     "end_time": "2020-09-07T22:46:47.325085Z",
     "start_time": "2020-09-07T22:46:28.330322Z"
    },
    "tags": []
   },
   "outputs": [
    {
     "output_type": "stream",
     "name": "stdout",
     "text": "CPU times: user 15.6 s, sys: 917 ms, total: 16.5 s\nWall time: 17.9 s\n"
    }
   ],
   "source": [
    "%%time\n",
    "testNetScenario = pd.read_parquet(folder / f'S170_190_100m_scenario0_{str(date.today())}.parquet')\n",
    "testArc = gpd.read_file(comparisonFolder / 'HikWgtnMin_pfourARCPY.shp')\n",
    "testArcScenario = testArc.iloc[:,:9]\n",
    "del testArc"
   ]
  },
  {
   "cell_type": "code",
   "execution_count": 29,
   "metadata": {
    "ExecuteTime": {
     "end_time": "2020-09-07T22:47:32.571476Z",
     "start_time": "2020-09-07T22:47:08.087754Z"
    },
    "tags": []
   },
   "outputs": [
    {
     "output_type": "stream",
     "name": "stdout",
     "text": "CPU times: user 28.9 s, sys: 1.95 s, total: 30.9 s\nWall time: 34.5 s\n"
    }
   ],
   "source": [
    "%%time\n",
    "# merge geometry to scenario\n",
    "# merge each line / source with geometry \n",
    "shape = gpd.read_file('data/shapefile/BuildingFootprints.shp')\n",
    "shape = shape[['BLDG_ID', 'geometry']]\n",
    "# shape\n",
    "ScenarioARC = pd.merge(testArcScenario, shape, how='left', on='BLDG_ID')\n",
    "ScenarioNET = pd.merge(testNetScenario, shape, how='left', left_on='source', right_on='BLDG_ID')\n",
    "# create as Geodataframe\n",
    "ScenarioARC = gpd.GeoDataFrame(ScenarioARC, geometry=ScenarioARC.geometry)\n",
    "ScenarioNET = gpd.GeoDataFrame(ScenarioNET, geometry=ScenarioNET.geometry)\n",
    "ScenarioNET = ScenarioNET.set_crs(epsg=2193)\n",
    "\n",
    "# save as shapefile\n",
    "ScenarioARC.to_file(comparisonFolder / 'ScenarioARC.shp',driver ='ESRI Shapefile') #, driver=\"GeoJSON\")\n",
    "ScenarioNET.to_file(comparisonFolder / 'S170_190_100m_ScenarioNET.shp',driver ='ESRI Shapefile') #, driver=\"GeoJSON\")"
   ]
  },
  {
   "cell_type": "markdown",
   "metadata": {},
   "source": [
    "#### Create Gif for comparisons "
   ]
  },
  {
   "cell_type": "code",
   "execution_count": 20,
   "metadata": {
    "ExecuteTime": {
     "end_time": "2020-09-07T10:55:22.329366Z",
     "start_time": "2020-09-07T10:55:22.315433Z"
    },
    "code_folding": [
     0
    ]
   },
   "outputs": [],
   "source": [
    "def save_ignitionsMaps(geoARC, geoNET, columnNameARC, columnNameNET):\n",
    "    mapShape = gpd.read_file('data/shapefile/BuildingFootprints.shp')\n",
    "    for i in tqdm(range(max(geoNET[columnNameNET]))):\n",
    "        ImapARC = geoARC[(geoARC[columnNameARC]<=i) & (geoARC[columnNameARC]>0)]\n",
    "        ImapNET = geoNET[geoNET[columnNameNET]<=i]\n",
    "\n",
    "        fig, (ax1, ax2) = plt.subplots(nrows=1, ncols=2, sharex=True, sharey=True, figsize=(15, 10))\n",
    "\n",
    "        ImapARC.plot(color=\"red\", edgecolor=None, ax=ax1)\n",
    "        mapShape.geometry.boundary.plot(color=None,edgecolor='k',linewidth = 0.1,ax=ax1)\n",
    "        ImapNET.plot(color=\"red\", edgecolor=None, ax=ax2)\n",
    "        mapShape.geometry.boundary.plot(color=None,edgecolor='k',linewidth = 0.1,ax=ax2)\n",
    "\n",
    "        ax1.set_title('ArcPy scenario')\n",
    "        ax1.ticklabel_format(useOffset=False, style='plain')\n",
    "        ax1.tick_params(direction='out', length=6)\n",
    "        ax2.set_title('Network scenario')\n",
    "        ax2.ticklabel_format(useOffset=False, style='plain')\n",
    "        ax2.tick_params(direction=\"out\", length=6)\n",
    "\n",
    "        fig.autofmt_xdate()\n",
    "        plt.tight_layout()\n",
    "        plt.savefig(comparisonFolder / 'comparisonGIF' / f\"{i}.png\", dpi=70)\n",
    "        plt.close()"
   ]
  },
  {
   "cell_type": "code",
   "execution_count": 118,
   "metadata": {
    "ExecuteTime": {
     "end_time": "2020-09-07T11:49:19.730846Z",
     "start_time": "2020-09-07T10:55:22.655428Z"
    }
   },
   "outputs": [
    {
     "data": {
      "application/vnd.jupyter.widget-view+json": {
       "model_id": "c091fbe441a34b30b2c7da2f87cb84d4",
       "version_major": 2,
       "version_minor": 0
      },
      "text/plain": [
       "HBox(children=(FloatProgress(value=0.0, max=151.0), HTML(value='')))"
      ]
     },
     "metadata": {},
     "output_type": "display_data"
    },
    {
     "name": "stderr",
     "output_type": "stream",
     "text": [
      "/Users/alex/anaconda3/lib/python3.7/site-packages/geopandas/plotting.py:607: UserWarning: The GeoDataFrame you are attempting to plot is empty. Nothing has been displayed.\n",
      "  UserWarning,\n"
     ]
    },
    {
     "name": "stdout",
     "output_type": "stream",
     "text": [
      "\n"
     ]
    }
   ],
   "source": [
    "save_ignitionsMaps(ScenarioARC, ScenarioNET, \"Ignited1\", \"time\")"
   ]
  },
  {
   "cell_type": "code",
   "execution_count": null,
   "metadata": {},
   "outputs": [],
   "source": []
  }
 ],
 "metadata": {
  "colab": {
   "collapsed_sections": [],
   "include_colab_link": true,
   "machine_shape": "hm",
   "name": "FFErunsParallel.ipynb",
   "provenance": []
  },
  "gist": {
   "data": {
    "description": "paralllelComputingFFE_EQsampling.ipynb",
    "public": true
   },
   "id": ""
  },
  "kernelspec": {
   "display_name": "Python 3",
   "language": "python",
   "name": "python3"
  },
  "language_info": {
   "codemirror_mode": {
    "name": "ipython",
    "version": 3
   },
   "file_extension": ".py",
   "mimetype": "text/x-python",
   "name": "python",
   "nbconvert_exporter": "python",
   "pygments_lexer": "ipython3",
   "version": "3.7.3-final"
  },
  "notify_time": "5",
  "varInspector": {
   "cols": {
    "lenName": 16,
    "lenType": 16,
    "lenVar": 40
   },
   "kernels_config": {
    "python": {
     "delete_cmd_postfix": "",
     "delete_cmd_prefix": "del ",
     "library": "var_list.py",
     "varRefreshCmd": "print(var_dic_list())"
    },
    "r": {
     "delete_cmd_postfix": ") ",
     "delete_cmd_prefix": "rm(",
     "library": "var_list.r",
     "varRefreshCmd": "cat(var_dic_list()) "
    }
   },
   "position": {
    "height": "457.727px",
    "left": "774.812px",
    "right": "20px",
    "top": "122.991px",
    "width": "374.006px"
   },
   "types_to_exclude": [
    "module",
    "function",
    "builtin_function_or_method",
    "instance",
    "_Feature"
   ],
   "window_display": false
  }
 },
 "nbformat": 4,
 "nbformat_minor": 4
}