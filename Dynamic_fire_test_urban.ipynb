{
  "nbformat": 4,
  "nbformat_minor": 0,
  "metadata": {
    "kernelspec": {
      "name": "python3",
      "display_name": "Python 3"
    },
    "language_info": {
      "codemirror_mode": {
        "name": "ipython",
        "version": 3
      },
      "file_extension": ".py",
      "mimetype": "text/x-python",
      "name": "python",
      "nbconvert_exporter": "python",
      "pygments_lexer": "ipython3",
      "version": "3.6.6"
    },
    "colab": {
      "name": "Celular Automaton for Wildfires.ipynb",
      "provenance": [],
      "machine_shape": "hm",
      "include_colab_link": true
    },
    "accelerator": "GPU"
  },
  "cells": [
    {
      "cell_type": "markdown",
      "metadata": {
        "id": "view-in-github",
        "colab_type": "text"
      },
      "source": [
        "<a href=\"https://colab.research.google.com/github/37stu37/FFE/blob/master/Dynamic_fire_test_urban.ipynb\" target=\"_parent\"><img src=\"https://colab.research.google.com/assets/colab-badge.svg\" alt=\"Open In Colab\"/></a>"
      ]
    },
    {
      "cell_type": "code",
      "metadata": {
        "id": "AXNRLO1CixX9",
        "colab_type": "code",
        "outputId": "354bf87e-ce80-4624-fe11-5a6bccef7794",
        "colab": {
          "base_uri": "https://localhost:8080/",
          "height": 1000
        }
      },
      "source": [
        "%%time \n",
        "!apt update\n",
        "!apt upgrade\n",
        "!apt install gdal-bin python-gdal python3-gdal \n",
        "# Install rtree - Geopandas requirment\n",
        "!apt install python3-rtree \n",
        "# Install Geopandas\n",
        "!pip install git+git://github.com/geopandas/geopandas.git\n",
        "# Install descartes - Geopandas requirment\n",
        "!pip install descartes \n",
        "\n",
        "# install rasterio\n",
        "!pip install rasterio"
      ],
      "execution_count": 22,
      "outputs": [
        {
          "output_type": "stream",
          "text": [
            "\u001b[33m\r0% [Working]\u001b[0m\r            \rHit:1 https://cloud.r-project.org/bin/linux/ubuntu bionic-cran35/ InRelease\n",
            "\u001b[33m\r0% [Connecting to archive.ubuntu.com] [Connecting to security.ubuntu.com] [Wait\u001b[0m\u001b[33m\r0% [1 InRelease gpgv 3,626 B] [Connecting to archive.ubuntu.com] [Connecting to\u001b[0m\r                                                                               \rIgn:2 https://developer.download.nvidia.com/compute/cuda/repos/ubuntu1804/x86_64  InRelease\n",
            "\u001b[33m\r0% [1 InRelease gpgv 3,626 B] [Connecting to archive.ubuntu.com (91.189.88.173)\u001b[0m\u001b[33m\r0% [Connecting to archive.ubuntu.com (91.189.88.173)] [Connecting to security.u\u001b[0m\r                                                                               \rIgn:3 https://developer.download.nvidia.com/compute/machine-learning/repos/ubuntu1804/x86_64  InRelease\n",
            "\u001b[33m\r0% [Connecting to archive.ubuntu.com (91.189.88.162)] [Connecting to security.u\u001b[0m\r                                                                               \rHit:4 https://developer.download.nvidia.com/compute/cuda/repos/ubuntu1804/x86_64  Release\n",
            "Hit:5 https://developer.download.nvidia.com/compute/machine-learning/repos/ubuntu1804/x86_64  Release\n",
            "Hit:7 http://archive.ubuntu.com/ubuntu bionic InRelease\n",
            "Hit:8 http://ppa.launchpad.net/graphics-drivers/ppa/ubuntu bionic InRelease\n",
            "Hit:9 http://security.ubuntu.com/ubuntu bionic-security InRelease\n",
            "Hit:11 http://archive.ubuntu.com/ubuntu bionic-updates InRelease\n",
            "Hit:12 http://archive.ubuntu.com/ubuntu bionic-backports InRelease\n",
            "Hit:13 http://ppa.launchpad.net/marutter/c2d4u3.5/ubuntu bionic InRelease\n",
            "Reading package lists... Done\n",
            "Building dependency tree       \n",
            "Reading state information... Done\n",
            "4 packages can be upgraded. Run 'apt list --upgradable' to see them.\n",
            "Reading package lists... Done\n",
            "Building dependency tree       \n",
            "Reading state information... Done\n",
            "Calculating upgrade... Done\n",
            "The following packages were automatically installed and are no longer required:\n",
            "  libnvidia-common-430 linux-headers-4.15.0-76 linux-headers-4.15.0-76-generic\n",
            "Use 'apt autoremove' to remove them.\n",
            "The following packages have been kept back:\n",
            "  libcudnn7 libcudnn7-dev libnccl-dev libnccl2\n",
            "0 upgraded, 0 newly installed, 0 to remove and 4 not upgraded.\n",
            "Reading package lists... Done\n",
            "Building dependency tree       \n",
            "Reading state information... Done\n",
            "gdal-bin is already the newest version (2.2.3+dfsg-2).\n",
            "python-gdal is already the newest version (2.2.3+dfsg-2).\n",
            "python3-gdal is already the newest version (2.2.3+dfsg-2).\n",
            "The following packages were automatically installed and are no longer required:\n",
            "  libnvidia-common-430 linux-headers-4.15.0-76 linux-headers-4.15.0-76-generic\n",
            "Use 'apt autoremove' to remove them.\n",
            "0 upgraded, 0 newly installed, 0 to remove and 4 not upgraded.\n",
            "Reading package lists... Done\n",
            "Building dependency tree       \n",
            "Reading state information... Done\n",
            "python3-rtree is already the newest version (0.8.3+ds-1).\n",
            "The following packages were automatically installed and are no longer required:\n",
            "  libnvidia-common-430 linux-headers-4.15.0-76 linux-headers-4.15.0-76-generic\n",
            "Use 'apt autoremove' to remove them.\n",
            "0 upgraded, 0 newly installed, 0 to remove and 4 not upgraded.\n",
            "Collecting git+git://github.com/geopandas/geopandas.git\n",
            "  Cloning git://github.com/geopandas/geopandas.git to /tmp/pip-req-build-9p9ma9nm\n",
            "  Running command git clone -q git://github.com/geopandas/geopandas.git /tmp/pip-req-build-9p9ma9nm\n",
            "Requirement already satisfied (use --upgrade to upgrade): geopandas==0.7.0+2.g0a1799d from git+git://github.com/geopandas/geopandas.git in /usr/local/lib/python3.6/dist-packages\n",
            "Requirement already satisfied: pandas>=0.23.0 in /usr/local/lib/python3.6/dist-packages (from geopandas==0.7.0+2.g0a1799d) (0.25.3)\n",
            "Requirement already satisfied: shapely in /usr/local/lib/python3.6/dist-packages (from geopandas==0.7.0+2.g0a1799d) (1.7.0)\n",
            "Requirement already satisfied: fiona in /usr/local/lib/python3.6/dist-packages (from geopandas==0.7.0+2.g0a1799d) (1.8.13)\n",
            "Requirement already satisfied: pyproj>=2.2.0 in /usr/local/lib/python3.6/dist-packages (from geopandas==0.7.0+2.g0a1799d) (2.4.2.post1)\n",
            "Requirement already satisfied: pytz>=2017.2 in /usr/local/lib/python3.6/dist-packages (from pandas>=0.23.0->geopandas==0.7.0+2.g0a1799d) (2018.9)\n",
            "Requirement already satisfied: python-dateutil>=2.6.1 in /usr/local/lib/python3.6/dist-packages (from pandas>=0.23.0->geopandas==0.7.0+2.g0a1799d) (2.6.1)\n",
            "Requirement already satisfied: numpy>=1.13.3 in /usr/local/lib/python3.6/dist-packages (from pandas>=0.23.0->geopandas==0.7.0+2.g0a1799d) (1.17.5)\n",
            "Requirement already satisfied: click-plugins>=1.0 in /usr/local/lib/python3.6/dist-packages (from fiona->geopandas==0.7.0+2.g0a1799d) (1.1.1)\n",
            "Requirement already satisfied: cligj>=0.5 in /usr/local/lib/python3.6/dist-packages (from fiona->geopandas==0.7.0+2.g0a1799d) (0.5.0)\n",
            "Requirement already satisfied: attrs>=17 in /usr/local/lib/python3.6/dist-packages (from fiona->geopandas==0.7.0+2.g0a1799d) (19.3.0)\n",
            "Requirement already satisfied: click<8,>=4.0 in /usr/local/lib/python3.6/dist-packages (from fiona->geopandas==0.7.0+2.g0a1799d) (7.0)\n",
            "Requirement already satisfied: six>=1.7 in /usr/local/lib/python3.6/dist-packages (from fiona->geopandas==0.7.0+2.g0a1799d) (1.12.0)\n",
            "Requirement already satisfied: munch in /usr/local/lib/python3.6/dist-packages (from fiona->geopandas==0.7.0+2.g0a1799d) (2.5.0)\n",
            "Building wheels for collected packages: geopandas\n",
            "  Building wheel for geopandas (setup.py) ... \u001b[?25l\u001b[?25hdone\n",
            "  Created wheel for geopandas: filename=geopandas-0.7.0+2.g0a1799d-py2.py3-none-any.whl size=928219 sha256=788273c83ac1c11850c695f0c1922c2e9b1f01376ca7d4564ffbd2b1dbe67804\n",
            "  Stored in directory: /tmp/pip-ephem-wheel-cache-c_ezy2n6/wheels/91/24/71/376c9c67192694168352afcccc2d264248f7e2cc6192997186\n",
            "Successfully built geopandas\n",
            "Requirement already satisfied: descartes in /usr/local/lib/python3.6/dist-packages (1.1.0)\n",
            "Requirement already satisfied: matplotlib in /usr/local/lib/python3.6/dist-packages (from descartes) (3.1.3)\n",
            "Requirement already satisfied: cycler>=0.10 in /usr/local/lib/python3.6/dist-packages (from matplotlib->descartes) (0.10.0)\n",
            "Requirement already satisfied: kiwisolver>=1.0.1 in /usr/local/lib/python3.6/dist-packages (from matplotlib->descartes) (1.1.0)\n",
            "Requirement already satisfied: python-dateutil>=2.1 in /usr/local/lib/python3.6/dist-packages (from matplotlib->descartes) (2.6.1)\n",
            "Requirement already satisfied: numpy>=1.11 in /usr/local/lib/python3.6/dist-packages (from matplotlib->descartes) (1.17.5)\n",
            "Requirement already satisfied: pyparsing!=2.0.4,!=2.1.2,!=2.1.6,>=2.0.1 in /usr/local/lib/python3.6/dist-packages (from matplotlib->descartes) (2.4.6)\n",
            "Requirement already satisfied: six in /usr/local/lib/python3.6/dist-packages (from cycler>=0.10->matplotlib->descartes) (1.12.0)\n",
            "Requirement already satisfied: setuptools in /usr/local/lib/python3.6/dist-packages (from kiwisolver>=1.0.1->matplotlib->descartes) (45.1.0)\n",
            "Requirement already satisfied: rasterio in /usr/local/lib/python3.6/dist-packages (1.1.2)\n",
            "Requirement already satisfied: click<8,>=4.0 in /usr/local/lib/python3.6/dist-packages (from rasterio) (7.0)\n",
            "Requirement already satisfied: click-plugins in /usr/local/lib/python3.6/dist-packages (from rasterio) (1.1.1)\n",
            "Requirement already satisfied: numpy in /usr/local/lib/python3.6/dist-packages (from rasterio) (1.17.5)\n",
            "Requirement already satisfied: cligj>=0.5 in /usr/local/lib/python3.6/dist-packages (from rasterio) (0.5.0)\n",
            "Requirement already satisfied: attrs in /usr/local/lib/python3.6/dist-packages (from rasterio) (19.3.0)\n",
            "Requirement already satisfied: snuggs>=1.4.1 in /usr/local/lib/python3.6/dist-packages (from rasterio) (1.4.7)\n",
            "Requirement already satisfied: affine in /usr/local/lib/python3.6/dist-packages (from rasterio) (2.3.0)\n",
            "Requirement already satisfied: pyparsing>=2.1.6 in /usr/local/lib/python3.6/dist-packages (from snuggs>=1.4.1->rasterio) (2.4.6)\n",
            "CPU times: user 215 ms, sys: 83.4 ms, total: 299 ms\n",
            "Wall time: 34.7 s\n"
          ],
          "name": "stdout"
        }
      ]
    },
    {
      "cell_type": "code",
      "metadata": {
        "id": "uPA4ywxbv7TJ",
        "colab_type": "code",
        "colab": {
          "base_uri": "https://localhost:8080/",
          "height": 34
        },
        "outputId": "e5f3106e-c096-4bd4-d10b-a530af94eb99"
      },
      "source": [
        "# Load the Drive helper and mount\n",
        "from google.colab import drive\n",
        "# This will prompt for authorization.\n",
        "drive.mount('/content/drive')"
      ],
      "execution_count": 23,
      "outputs": [
        {
          "output_type": "stream",
          "text": [
            "Drive already mounted at /content/drive; to attempt to forcibly remount, call drive.mount(\"/content/drive\", force_remount=True).\n"
          ],
          "name": "stdout"
        }
      ]
    },
    {
      "cell_type": "code",
      "metadata": {
        "id": "-ZwkIgBCGuUG",
        "colab_type": "code",
        "colab": {}
      },
      "source": [
        "import os\n",
        "import sys\n",
        "import geopandas as gpd\n",
        "import matplotlib.pyplot as plt\n",
        "import rasterio\n",
        "from rasterio.plot import show\n",
        "from osgeo import gdal_array\n",
        "import numpy as np\n",
        "import pandas as pd\n",
        "import imageio\n",
        "import random\n",
        "from PIL import Image\n",
        "from matplotlib.pyplot import imshow"
      ],
      "execution_count": 0,
      "outputs": []
    },
    {
      "cell_type": "code",
      "metadata": {
        "id": "ngTBvGTSGxFd",
        "colab_type": "code",
        "colab": {
          "base_uri": "https://localhost:8080/",
          "height": 68
        },
        "outputId": "8231fd89-ca0a-4b93-8e3b-da375b438666"
      },
      "source": [
        "path = '/content/drive/My Drive/04_Cloud/01_Work/GNS/008_FFE/Colab_folder'\n",
        "!ls '/content/drive/My Drive/04_Cloud/01_Work/GNS/008_FFE/Colab_folder'"
      ],
      "execution_count": 25,
      "outputs": [
        {
          "output_type": "stream",
          "text": [
            "Fire_scenario_1.gif   GD_ignit_prob_crop.tif  img1.png\n",
            "GD_fuel_map_crop.tif  GD_ignit_prob.tif       img2.png\n",
            "GD_fuel_map.tif       GD_wind.csv\t      img.png\n"
          ],
          "name": "stdout"
        }
      ]
    },
    {
      "cell_type": "code",
      "metadata": {
        "id": "Ul7pyatPcQpY",
        "colab_type": "code",
        "colab": {}
      },
      "source": [
        "def load_data(path_to_data=path):\n",
        "    # load building map as a \"fuel\" map\n",
        "    fuel = gdal_array.LoadFile(os.path.join(path_to_data, 'GD_fuel_map_crop.tif'))  # 0 = no fuel; 1 = fuel\n",
        "    fuel[fuel < 0] = 0\n",
        "    # load probability of building ignition as an array\n",
        "    ignition = gdal_array.LoadFile(os.path.join(path_to_data, 'GD_ignit_prob_crop.tif'))  # probability from 0 to 1\n",
        "    ignition[ignition < 0] = 0\n",
        "    # load wind data\n",
        "    wind = pd.read_csv(os.path.join(path_to_data, 'GD_wind.csv'))\n",
        "    return fuel, ignition, wind"
      ],
      "execution_count": 0,
      "outputs": []
    },
    {
      "cell_type": "code",
      "metadata": {
        "id": "41CJGV6iqLEd",
        "colab_type": "code",
        "colab": {}
      },
      "source": [
        "fuel_map, ignition_probability_map, wind_df = load_data()"
      ],
      "execution_count": 0,
      "outputs": []
    },
    {
      "cell_type": "code",
      "metadata": {
        "id": "dEW0qQjoG2UN",
        "colab_type": "code",
        "colab": {}
      },
      "source": [
        "def wind_scenario(wind_data=wind_df):\n",
        "    i = np.random.randint(0, wind_data.shape[0])\n",
        "    wind = wind_data.iloc[i, 2]\n",
        "    distance = wind_data.iloc[i, 1]\n",
        "    return wind, distance"
      ],
      "execution_count": 0,
      "outputs": []
    },
    {
      "cell_type": "code",
      "metadata": {
        "id": "Glg_ggW9wfbt",
        "colab_type": "code",
        "colab": {}
      },
      "source": [
        "def gif(fireMap, s):\n",
        "  colored = np.zeros((fireMap.shape[0], fireMap.shape[1], fireMap.shape[2], 3),dtype=np.uint8)\n",
        "  for t in range(fireMap.shape[0]):\n",
        "      for x in range(fireMap[t].shape[0]):\n",
        "          for y in range(fireMap[t].shape[1]):\n",
        "            # print(t, x, y)\n",
        "            value = fireMap[t,x,y].copy()\n",
        "            if value == 0:\n",
        "                  colored[t,x,y] = [0, 0, 255] # Clear\n",
        "            elif value == 1: \n",
        "                colored[t,x,y] = [255, 128, 0]   # Fuel\n",
        "            elif value == 2: \n",
        "                colored[t,x,y] = [255,0,0]   # Burning\n",
        "\n",
        "  imageio.mimsave(os.path.join(path, 'Fire_scenario_{}.gif'.format(s)), colored)\n",
        "  print('Fire_scenario_{}.gif created'.format(s))"
      ],
      "execution_count": 0,
      "outputs": []
    },
    {
      "cell_type": "code",
      "metadata": {
        "id": "FgcX8QkqNafC",
        "colab_type": "code",
        "colab": {
          "base_uri": "https://localhost:8080/",
          "height": 269
        },
        "outputId": "9c9b112c-27bc-4a98-af2f-f99d0b22f223"
      },
      "source": [
        "fig, ax = plt.subplots(ncols=2)\n",
        "im0 = ax[0].imshow(fuel_map, cmap='jet', aspect='auto')\n",
        "im1 = ax[1].imshow(ignition_probability_map, cmap='jet', aspect='auto')\n",
        "\n",
        "plt.colorbar(im0, ax=ax) \n",
        "plt.show()"
      ],
      "execution_count": 57,
      "outputs": [
        {
          "output_type": "display_data",
          "data": {
            "image/png": "[encoded data removed]",
            "text/plain": [
              "<Figure size 432x288 with 3 Axes>"
            ]
          },
          "metadata": {
            "tags": []
          }
        }
      ]
    },
    {
      "cell_type": "code",
      "metadata": {
        "id": "iYfPWafZOFAN",
        "colab_type": "code",
        "colab": {}
      },
      "source": [
        ""
      ],
      "execution_count": 0,
      "outputs": []
    },
    {
      "cell_type": "code",
      "metadata": {
        "id": "xICmG5GwG41d",
        "colab_type": "code",
        "colab": {}
      },
      "source": [
        "def fire_propagation(scenarios, fuel=fuel_map, ignition_proba=ignition_probability_map):\n",
        "    fire_final_list = []\n",
        "    for scenario in range(scenarios):\n",
        "        wind, distance = wind_scenario()\n",
        "        print(wind, distance)\n",
        "        time_total = 1000\n",
        "        # initialize fire by creating random ignition from ignition probability map\n",
        "        random_map = np.random.random((ignition_proba.shape[0], ignition_proba.shape[1]))\n",
        "        ignition_map = ignition_proba - random_map\n",
        "        ignition_map[ignition_map < 0] = 0\n",
        "        ignition_map[ignition_map > 0] = 1\n",
        "        zeros = np.zeros((fuel_map.shape[0], fuel_map.shape[1], time_total - 1))\n",
        "        ignition_map = np.expand_dims(ignition_map, axis=2)\n",
        "        ignition = np.dstack((zeros, ignition_map))\n",
        "        ignition = np.moveaxis(ignition, -1, 0)\n",
        "        # initial fire map\n",
        "        fire = np.zeros((time_total, fuel_map.shape[0], fuel_map.shape[1]))\n",
        "        fire[0] = ignition[0] + fuel  # 0 = no fuel, 1 = fuel, 2 = fire\n",
        "\n",
        "        for time in range(1, time_total, 1):\n",
        "            # Make a copy of the original fire\n",
        "            fire[time] = fire[time - 1].copy()\n",
        "            for x in range(1, fire[0] - 1):\n",
        "                for y in range(1, fire[1] - 1):\n",
        "                    for d in range(distance, 1, -1):\n",
        "                        if fire[time - 1, x, y] == 2 and wind == 'buffer':  # It's on fire\n",
        "                            # If there's fuel surrounding it\n",
        "                            # set it on fire!\n",
        "                            if fire[time - 1, x - distance, y + distance] == 1:\n",
        "                                fire[time, x - distance, y + distance] = 2\n",
        "                            if fire[time - 1, x, y + distance] == 1:\n",
        "                                fire[time, x, y + distance] = 2\n",
        "                            if fire[time - 1, x + distance, y + distance] == 1:\n",
        "                                fire[time, x + distance, y + distance] = 2\n",
        "                            if fire[time - 1, x + distance, y] == 1:\n",
        "                                fire[time, x + distance, y] = 2\n",
        "                            if fire[time - 1, x + distance, y - distance] == 1:\n",
        "                                fire[time, x + distance, y - distance] = 2\n",
        "                            if fire[time - 1, x, y - distance] == 1:\n",
        "                                fire[time, x, y - distance] = 2\n",
        "                            if fire[time - 1, x - distance, y - distance] == 1:\n",
        "                                fire[time, x - distance, y - distance] = 2\n",
        "                            if fire[time - 1, x - distance, y] == 1:\n",
        "                                fire[time, x - distance, y] = 2\n",
        "\n",
        "                        if fire[time - 1, x, y] == 2 and wind == 'N':  # It's on fire\n",
        "                            # set it on fire!\n",
        "                            if fire[time - 1, x - distance, y + distance] == 1:\n",
        "                                fire[time, x - distance, y + distance] = 2\n",
        "                            if fire[time - 1, x, y + distance] == 1:\n",
        "                                fire[time, x, y + distance] = 2\n",
        "                            if fire[time - 1, x + distance, y + distance] == 1:\n",
        "                                fire[time, x + distance, y + distance] = 2\n",
        "\n",
        "                        if fire[time - 1, x, y] == 2 and wind == 'NE':  # It's on fire\n",
        "                            # set it on fire!\n",
        "                            if fire[time - 1, x, y + distance] == 1:\n",
        "                                fire[time, x, y + distance] = 2\n",
        "                            if fire[time - 1, x + distance, y + distance] == 1:\n",
        "                                fire[time, x + distance, y + distance] = 2\n",
        "                            if fire[time - 1, x + distance, y] == 1:\n",
        "                                fire[time, x + distance, y] = 2\n",
        "\n",
        "                        if fire[time - 1, x, y] == 2 and wind == 'E':  # It's on fire\n",
        "                            # set it on fire!\n",
        "                            if fire[time - 1, x + distance, y + distance] == 1:\n",
        "                                fire[time, x + distance, y + distance] = 2\n",
        "                            if fire[time - 1, x + distance, y] == 1:\n",
        "                                fire[time, x + distance, y] = 2\n",
        "                            if fire[time - 1, x + distance, y - distance] == 1:\n",
        "                                fire[time, x + distance, y + distance] = 2\n",
        "\n",
        "                        if fire[time - 1, x, y] == 2 and wind == 'SE':  # It's on fire\n",
        "                            # set it on fire!\n",
        "                            if fire[time - 1, x + distance, y] == 1:\n",
        "                                fire[time, x + distance, y] = 2\n",
        "                            if fire[time - 1, x + distance, y - distance] == 1:\n",
        "                                fire[time, x + distance, y + distance] = 2\n",
        "                            if fire[time - 1, x, y - distance] == 1:\n",
        "                                fire[time, x, y - distance] = 2\n",
        "\n",
        "                        if fire[time - 1, x, y] == 2 and wind == 'S':  # It's on fire\n",
        "                            # set it on fire!\n",
        "                            if fire[time - 1, x, y - distance] == 1:\n",
        "                                fire[time, x, y - distance] = 2\n",
        "                            if fire[time - 1, x - distance, y - distance] == 1:\n",
        "                                fire[time, x - distance, y - distance] = 2\n",
        "                            if fire[time - 1, x + distance, y - distance] == 1:\n",
        "                                fire[time, x + distance, y - distance] = 2\n",
        "\n",
        "                        if fire[time - 1, x, y] == 2 and wind == 'SW':  # It's on fire\n",
        "                            # set it on fire!\n",
        "                            if fire[time - 1, x, y - distance] == 1:\n",
        "                                fire[time, x, y - distance] = 2\n",
        "                            if fire[time - 1, x - distance, y - distance] == 1:\n",
        "                                fire[time, x - distance, y - distance] = 2\n",
        "                            if fire[time - 1, x - distance, y] == 1:\n",
        "                                fire[time, x - distance, y] = 2\n",
        "\n",
        "                        if fire[time - 1, x, y] == 2 and wind == 'W':  # It's on fire\n",
        "                            # set it on fire!\n",
        "                            if fire[time - 1, x - distance, y + distance] == 1:\n",
        "                                fire[time, x - distance, y + distance] = 2\n",
        "                            if fire[time - 1, x - distance, y - distance] == 1:\n",
        "                                fire[time, x - distance, y - distance] = 2\n",
        "                            if fire[time - 1, x - distance, y] == 1:\n",
        "                                fire[time, x - distance, y] = 2\n",
        "\n",
        "                        if fire[time - 1, x, y] == 2 and wind == 'NW':  # It's on fire\n",
        "                            # set it on fire!\n",
        "                            if fire[time - 1, x - distance, y + distance] == 1:\n",
        "                                fire[time, x - distance, y + distance] = 2\n",
        "                            if fire[time - 1, x - distance, y] == 1:\n",
        "                                fire[time, x - distance, y] = 2\n",
        "                            if fire[time - 1, x, y + distance] == 1:\n",
        "                                fire[time, x, y + distance] = 2\n",
        "\n",
        "                        \n",
        "                        im = Image.fromarray(fire[time])\n",
        "                        im.show()\n",
        "\n",
        "                        if np.array_equal(fire[time], fire[time - 1]) == True:\n",
        "                            fire_list.append(fire[time])\n",
        "                            pass\n",
        "                        else:\n",
        "                            continue\n",
        "\n",
        "          gif(fire, scenario)\n",
        "\n",
        "    return fire_final_list"
      ],
      "execution_count": 0,
      "outputs": []
    },
    {
      "cell_type": "code",
      "metadata": {
        "id": "BYOqD3iEhnNh",
        "colab_type": "code",
        "colab": {}
      },
      "source": [
        "final_fires_list = fire_propagation(5)"
      ],
      "execution_count": 0,
      "outputs": []
    },
    {
      "cell_type": "code",
      "metadata": {
        "id": "2E309QNOmTcj",
        "colab_type": "code",
        "colab": {}
      },
      "source": [
        "\n",
        "final_fires_array = np.array(final_fire_list)\n",
        "fire_impact = np.sum(final_fires_array)"
      ],
      "execution_count": 0,
      "outputs": []
    }
  ]
}