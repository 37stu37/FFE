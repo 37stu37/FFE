{
  "nbformat": 4,
  "nbformat_minor": 0,
  "metadata": {
    "kernelspec": {
      "name": "python3",
      "display_name": "Python 3"
    },
    "language_info": {
      "codemirror_mode": {
        "name": "ipython",
        "version": 3
      },
      "file_extension": ".py",
      "mimetype": "text/x-python",
      "name": "python",
      "nbconvert_exporter": "python",
      "pygments_lexer": "ipython3",
      "version": "3.6.6"
    },
    "colab": {
      "name": "Celular Automaton for Wildfires.ipynb",
      "provenance": [],
      "include_colab_link": true
    },
    "accelerator": "GPU"
  },
  "cells": [
    {
      "cell_type": "markdown",
      "metadata": {
        "id": "view-in-github",
        "colab_type": "text"
      },
      "source": [
        "<a href=\"https://colab.research.google.com/github/37stu37/FFE/blob/master/Dynamic_fire_test_urban.ipynb\" target=\"_parent\"><img src=\"https://colab.research.google.com/assets/colab-badge.svg\" alt=\"Open In Colab\"/></a>"
      ]
    },
    {
      "cell_type": "code",
      "metadata": {
        "id": "AXNRLO1CixX9",
        "colab_type": "code",
        "outputId": "95af76b5-49bc-4a83-ff0e-38cea65cbc86",
        "colab": {
          "base_uri": "https://localhost:8080/",
          "height": 1000
        }
      },
      "source": [
        "%%time \n",
        "!apt update\n",
        "!apt upgrade\n",
        "!apt install gdal-bin python-gdal python3-gdal \n",
        "# Install rtree - Geopandas requirment\n",
        "!apt install python3-rtree \n",
        "# Install Geopandas\n",
        "!pip install git+git://github.com/geopandas/geopandas.git\n",
        "# Install descartes - Geopandas requirment\n",
        "!pip install descartes \n",
        "\n",
        "# install rasterio\n",
        "!pip install rasterio[3]"
      ],
      "execution_count": 10,
      "outputs": [
        {
          "output_type": "stream",
          "text": [
            "\u001b[33m\r0% [Working]\u001b[0m\r            \rIgn:1 https://developer.download.nvidia.com/compute/cuda/repos/ubuntu1804/x86_64  InRelease\n",
            "\u001b[33m\r0% [Connecting to archive.ubuntu.com (91.189.88.162)] [Waiting for headers] [Co\u001b[0m\r                                                                               \rIgn:2 https://developer.download.nvidia.com/compute/machine-learning/repos/ubuntu1804/x86_64  InRelease\n",
            "\u001b[33m\r0% [Connecting to archive.ubuntu.com (91.189.88.162)] [Waiting for headers] [Co\u001b[0m\r                                                                               \rHit:3 https://developer.download.nvidia.com/compute/cuda/repos/ubuntu1804/x86_64  Release\n",
            "\u001b[33m\r0% [Connecting to archive.ubuntu.com (91.189.88.162)] [Waiting for headers] [Co\u001b[0m\u001b[33m\r0% [Release.gpg gpgv 564 B] [Connecting to archive.ubuntu.com (91.189.88.162)] \u001b[0m\r                                                                               \rHit:4 http://security.ubuntu.com/ubuntu bionic-security InRelease\n",
            "\u001b[33m\r0% [Release.gpg gpgv 564 B] [Connecting to archive.ubuntu.com (91.189.88.162)] \u001b[0m\r                                                                               \rHit:5 https://developer.download.nvidia.com/compute/machine-learning/repos/ubuntu1804/x86_64  Release\n",
            "\u001b[33m\r0% [Release.gpg gpgv 564 B] [Connecting to archive.ubuntu.com (91.189.88.162)] \u001b[0m\r                                                                               \rHit:6 https://cloud.r-project.org/bin/linux/ubuntu bionic-cran35/ InRelease\n",
            "\u001b[33m\r                                                                               \r0% [Release.gpg gpgv 564 B] [Waiting for headers] [Waiting for headers]\u001b[0m\r                                                                       \rHit:7 http://ppa.launchpad.net/graphics-drivers/ppa/ubuntu bionic InRelease\n",
            "\u001b[33m\r0% [Release.gpg gpgv 564 B] [Waiting for headers] [Connecting to ppa.launchpad.\u001b[0m\u001b[33m\r                                                                               \r0% [Waiting for headers] [Connecting to ppa.launchpad.net (91.189.95.83)]\u001b[0m\u001b[33m\r0% [4 InRelease gpgv 88.7 kB] [Waiting for headers] [Connecting to ppa.launchpa\u001b[0m\r                                                                               \rHit:9 http://archive.ubuntu.com/ubuntu bionic InRelease\n",
            "\u001b[33m\r                                                                               \r0% [4 InRelease gpgv 88.7 kB] [Connecting to ppa.launchpad.net (91.189.95.83)]\u001b[0m\u001b[33m\r                                                                              \r0% [Waiting for headers] [Waiting for headers]\u001b[0m\u001b[33m\r0% [Release.gpg gpgv 564 B] [Waiting for headers] [Waiting for headers]\u001b[0m\r                                                                       \rHit:10 http://archive.ubuntu.com/ubuntu bionic-updates InRelease\n",
            "Hit:11 http://ppa.launchpad.net/marutter/c2d4u3.5/ubuntu bionic InRelease\n",
            "Hit:13 http://archive.ubuntu.com/ubuntu bionic-backports InRelease\n",
            "Reading package lists... Done\n",
            "Building dependency tree       \n",
            "Reading state information... Done\n",
            "4 packages can be upgraded. Run 'apt list --upgradable' to see them.\n",
            "Reading package lists... Done\n",
            "Building dependency tree       \n",
            "Reading state information... Done\n",
            "Calculating upgrade... Done\n",
            "The following packages were automatically installed and are no longer required:\n",
            "  libnvidia-common-430 linux-headers-4.15.0-76 linux-headers-4.15.0-76-generic\n",
            "Use 'apt autoremove' to remove them.\n",
            "The following packages have been kept back:\n",
            "  libcudnn7 libcudnn7-dev libnccl-dev libnccl2\n",
            "0 upgraded, 0 newly installed, 0 to remove and 4 not upgraded.\n",
            "Reading package lists... Done\n",
            "Building dependency tree       \n",
            "Reading state information... Done\n",
            "gdal-bin is already the newest version (2.2.3+dfsg-2).\n",
            "python-gdal is already the newest version (2.2.3+dfsg-2).\n",
            "python3-gdal is already the newest version (2.2.3+dfsg-2).\n",
            "The following packages were automatically installed and are no longer required:\n",
            "  libnvidia-common-430 linux-headers-4.15.0-76 linux-headers-4.15.0-76-generic\n",
            "Use 'apt autoremove' to remove them.\n",
            "0 upgraded, 0 newly installed, 0 to remove and 4 not upgraded.\n",
            "Reading package lists... Done\n",
            "Building dependency tree       \n",
            "Reading state information... Done\n",
            "python3-rtree is already the newest version (0.8.3+ds-1).\n",
            "The following packages were automatically installed and are no longer required:\n",
            "  libnvidia-common-430 linux-headers-4.15.0-76 linux-headers-4.15.0-76-generic\n",
            "Use 'apt autoremove' to remove them.\n",
            "0 upgraded, 0 newly installed, 0 to remove and 4 not upgraded.\n",
            "Collecting git+git://github.com/geopandas/geopandas.git\n",
            "  Cloning git://github.com/geopandas/geopandas.git to /tmp/pip-req-build-iwo2gwih\n",
            "  Running command git clone -q git://github.com/geopandas/geopandas.git /tmp/pip-req-build-iwo2gwih\n",
            "Requirement already satisfied (use --upgrade to upgrade): geopandas==0.7.0+1.gbe2a8ea from git+git://github.com/geopandas/geopandas.git in /usr/local/lib/python3.6/dist-packages\n",
            "Requirement already satisfied: pandas>=0.23.0 in /usr/local/lib/python3.6/dist-packages (from geopandas==0.7.0+1.gbe2a8ea) (0.25.3)\n",
            "Requirement already satisfied: shapely in /usr/local/lib/python3.6/dist-packages (from geopandas==0.7.0+1.gbe2a8ea) (1.7.0)\n",
            "Requirement already satisfied: fiona in /usr/local/lib/python3.6/dist-packages (from geopandas==0.7.0+1.gbe2a8ea) (1.8.13)\n",
            "Requirement already satisfied: pyproj>=2.2.0 in /usr/local/lib/python3.6/dist-packages (from geopandas==0.7.0+1.gbe2a8ea) (2.4.2.post1)\n",
            "Requirement already satisfied: numpy>=1.13.3 in /usr/local/lib/python3.6/dist-packages (from pandas>=0.23.0->geopandas==0.7.0+1.gbe2a8ea) (1.17.5)\n",
            "Requirement already satisfied: pytz>=2017.2 in /usr/local/lib/python3.6/dist-packages (from pandas>=0.23.0->geopandas==0.7.0+1.gbe2a8ea) (2018.9)\n",
            "Requirement already satisfied: python-dateutil>=2.6.1 in /usr/local/lib/python3.6/dist-packages (from pandas>=0.23.0->geopandas==0.7.0+1.gbe2a8ea) (2.6.1)\n",
            "Requirement already satisfied: cligj>=0.5 in /usr/local/lib/python3.6/dist-packages (from fiona->geopandas==0.7.0+1.gbe2a8ea) (0.5.0)\n",
            "Requirement already satisfied: click<8,>=4.0 in /usr/local/lib/python3.6/dist-packages (from fiona->geopandas==0.7.0+1.gbe2a8ea) (7.0)\n",
            "Requirement already satisfied: attrs>=17 in /usr/local/lib/python3.6/dist-packages (from fiona->geopandas==0.7.0+1.gbe2a8ea) (19.3.0)\n",
            "Requirement already satisfied: munch in /usr/local/lib/python3.6/dist-packages (from fiona->geopandas==0.7.0+1.gbe2a8ea) (2.5.0)\n",
            "Requirement already satisfied: click-plugins>=1.0 in /usr/local/lib/python3.6/dist-packages (from fiona->geopandas==0.7.0+1.gbe2a8ea) (1.1.1)\n",
            "Requirement already satisfied: six>=1.7 in /usr/local/lib/python3.6/dist-packages (from fiona->geopandas==0.7.0+1.gbe2a8ea) (1.12.0)\n",
            "Building wheels for collected packages: geopandas\n",
            "  Building wheel for geopandas (setup.py) ... \u001b[?25l\u001b[?25hdone\n",
            "  Created wheel for geopandas: filename=geopandas-0.7.0+1.gbe2a8ea-py2.py3-none-any.whl size=928212 sha256=9deb286f011de9c0695ab94298b355ebfd7bbc1737179aa9b9b649c8f447a2ad\n",
            "  Stored in directory: /tmp/pip-ephem-wheel-cache-r8u1j6ki/wheels/91/24/71/376c9c67192694168352afcccc2d264248f7e2cc6192997186\n",
            "Successfully built geopandas\n",
            "Requirement already satisfied: descartes in /usr/local/lib/python3.6/dist-packages (1.1.0)\n",
            "Requirement already satisfied: matplotlib in /usr/local/lib/python3.6/dist-packages (from descartes) (3.1.3)\n",
            "Requirement already satisfied: numpy>=1.11 in /usr/local/lib/python3.6/dist-packages (from matplotlib->descartes) (1.17.5)\n",
            "Requirement already satisfied: cycler>=0.10 in /usr/local/lib/python3.6/dist-packages (from matplotlib->descartes) (0.10.0)\n",
            "Requirement already satisfied: pyparsing!=2.0.4,!=2.1.2,!=2.1.6,>=2.0.1 in /usr/local/lib/python3.6/dist-packages (from matplotlib->descartes) (2.4.6)\n",
            "Requirement already satisfied: python-dateutil>=2.1 in /usr/local/lib/python3.6/dist-packages (from matplotlib->descartes) (2.6.1)\n",
            "Requirement already satisfied: kiwisolver>=1.0.1 in /usr/local/lib/python3.6/dist-packages (from matplotlib->descartes) (1.1.0)\n",
            "Requirement already satisfied: six in /usr/local/lib/python3.6/dist-packages (from cycler>=0.10->matplotlib->descartes) (1.12.0)\n",
            "Requirement already satisfied: setuptools in /usr/local/lib/python3.6/dist-packages (from kiwisolver>=1.0.1->matplotlib->descartes) (45.1.0)\n",
            "Collecting rasterio[3]\n",
            "\u001b[?25l  Downloading https://files.pythonhosted.org/packages/be/e5/7052a3eef72af7e883a280d8dff64f4ea44cb92ec25ffb1d00ce27bc1a12/rasterio-1.1.2-cp36-cp36m-manylinux1_x86_64.whl (18.0MB)\n",
            "\u001b[K     |████████████████████████████████| 18.0MB 202kB/s \n",
            "\u001b[33m  WARNING: rasterio 1.1.2 does not provide the extra '3'\u001b[0m\n",
            "\u001b[?25hRequirement already satisfied: attrs in /usr/local/lib/python3.6/dist-packages (from rasterio[3]) (19.3.0)\n",
            "Collecting snuggs>=1.4.1\n",
            "  Downloading https://files.pythonhosted.org/packages/cc/0e/d27d6e806d6c0d1a2cfdc5d1f088e42339a0a54a09c3343f7f81ec8947ea/snuggs-1.4.7-py3-none-any.whl\n",
            "Requirement already satisfied: click-plugins in /usr/local/lib/python3.6/dist-packages (from rasterio[3]) (1.1.1)\n",
            "Requirement already satisfied: cligj>=0.5 in /usr/local/lib/python3.6/dist-packages (from rasterio[3]) (0.5.0)\n",
            "Requirement already satisfied: numpy in /usr/local/lib/python3.6/dist-packages (from rasterio[3]) (1.17.5)\n",
            "Collecting affine\n",
            "  Downloading https://files.pythonhosted.org/packages/ac/a6/1a39a1ede71210e3ddaf623982b06ecfc5c5c03741ae659073159184cd3e/affine-2.3.0-py2.py3-none-any.whl\n",
            "Requirement already satisfied: click<8,>=4.0 in /usr/local/lib/python3.6/dist-packages (from rasterio[3]) (7.0)\n",
            "Requirement already satisfied: pyparsing>=2.1.6 in /usr/local/lib/python3.6/dist-packages (from snuggs>=1.4.1->rasterio[3]) (2.4.6)\n",
            "Installing collected packages: snuggs, affine, rasterio\n",
            "Successfully installed affine-2.3.0 rasterio-1.1.2 snuggs-1.4.7\n",
            "CPU times: user 298 ms, sys: 77.5 ms, total: 376 ms\n",
            "Wall time: 27.1 s\n"
          ],
          "name": "stdout"
        }
      ]
    },
    {
      "cell_type": "code",
      "metadata": {
        "id": "uPA4ywxbv7TJ",
        "colab_type": "code",
        "outputId": "280e3cdd-65ef-4780-b014-46c1018b0d4c",
        "colab": {
          "base_uri": "https://localhost:8080/",
          "height": 34
        }
      },
      "source": [
        "# Load the Drive helper and mount\n",
        "from google.colab import drive\n",
        "# This will prompt for authorization.\n",
        "drive.mount('/content/drive')"
      ],
      "execution_count": 7,
      "outputs": [
        {
          "output_type": "stream",
          "text": [
            "Drive already mounted at /content/drive; to attempt to forcibly remount, call drive.mount(\"/content/drive\", force_remount=True).\n"
          ],
          "name": "stdout"
        }
      ]
    },
    {
      "cell_type": "code",
      "metadata": {
        "id": "-ZwkIgBCGuUG",
        "colab_type": "code",
        "colab": {}
      },
      "source": [
        "import os\n",
        "import geopandas as gpd\n",
        "import matplotlib.pyplot as plt\n",
        "import rasterio\n",
        "from rasterio.plot import show\n",
        "from osgeo import gdal_array\n",
        "import numpy as np\n",
        "import pandas as pd\n",
        "import imageio\n",
        "import random"
      ],
      "execution_count": 0,
      "outputs": []
    },
    {
      "cell_type": "code",
      "metadata": {
        "id": "ngTBvGTSGxFd",
        "colab_type": "code",
        "colab": {
          "base_uri": "https://localhost:8080/",
          "height": 34
        },
        "outputId": "fc8dacb4-76b1-487d-b306-0ff8c6b4296e"
      },
      "source": [
        "path = '/content/drive/My Drive/04_Cloud/01_Work/GNS/008_FFE/Colab_folder'\n",
        "!ls '/content/drive/My Drive/04_Cloud/01_Work/GNS/008_FFE/Colab_folder'"
      ],
      "execution_count": 12,
      "outputs": [
        {
          "output_type": "stream",
          "text": [
            "GD_fuel_map.tif  GD_ignit_prob.tif  GD_wind.csv\n"
          ],
          "name": "stdout"
        }
      ]
    },
    {
      "cell_type": "code",
      "metadata": {
        "id": "Ul7pyatPcQpY",
        "colab_type": "code",
        "colab": {
          "base_uri": "https://localhost:8080/",
          "height": 316
        },
        "outputId": "ae10d1f1-519d-4301-cd52-f284ad93304b"
      },
      "source": [
        "def load_data(path_to_data=path):\n",
        "    # load building map as a \"fuel\" map\n",
        "    fuel = gdal_array.LoadFile(os.path.join(path_to_data, 'GD_fuel_map.tif'))  # 0 = no fuel; 1 = fuel\n",
        "    # load probability of building ignition as an array\n",
        "    ignition = gdal_array.LoadFile(os.path.join(path_to_data, 'GD_ignit_prob.tif'))  # probability from 0 to 1\n",
        "    # load wind data\n",
        "    wind = pd.read_csv(os.path.join(path_to_data, 'GD_wind.csv'))\n",
        "    return fuel, ignition, wind\n",
        "\n",
        "\n",
        "fuel_map, ignition_probability_map, wind_df = load_data()"
      ],
      "execution_count": 14,
      "outputs": [
        {
          "output_type": "error",
          "ename": "AttributeError",
          "evalue": "ignored",
          "traceback": [
            "\u001b[0;31m---------------------------------------------------------------------------\u001b[0m",
            "\u001b[0;31mAttributeError\u001b[0m                            Traceback (most recent call last)",
            "\u001b[0;32m<ipython-input-14-b32261b19ab2>\u001b[0m in \u001b[0;36m<module>\u001b[0;34m()\u001b[0m\n\u001b[1;32m      9\u001b[0m \u001b[0;34m\u001b[0m\u001b[0m\n\u001b[1;32m     10\u001b[0m \u001b[0;34m\u001b[0m\u001b[0m\n\u001b[0;32m---> 11\u001b[0;31m \u001b[0mfuel_map\u001b[0m\u001b[0;34m,\u001b[0m \u001b[0mignition_probability_map\u001b[0m\u001b[0;34m,\u001b[0m \u001b[0mwind_df\u001b[0m \u001b[0;34m=\u001b[0m \u001b[0mload_data\u001b[0m\u001b[0;34m(\u001b[0m\u001b[0;34m)\u001b[0m\u001b[0;34m\u001b[0m\u001b[0;34m\u001b[0m\u001b[0m\n\u001b[0m",
            "\u001b[0;32m<ipython-input-14-b32261b19ab2>\u001b[0m in \u001b[0;36mload_data\u001b[0;34m(path_to_data)\u001b[0m\n\u001b[1;32m      5\u001b[0m     \u001b[0mignition\u001b[0m \u001b[0;34m=\u001b[0m \u001b[0mgdal_array\u001b[0m\u001b[0;34m.\u001b[0m\u001b[0mLoadFile\u001b[0m\u001b[0;34m(\u001b[0m\u001b[0mos\u001b[0m\u001b[0;34m.\u001b[0m\u001b[0mpath\u001b[0m\u001b[0;34m.\u001b[0m\u001b[0mjoin\u001b[0m\u001b[0;34m(\u001b[0m\u001b[0mpath_to_data\u001b[0m\u001b[0;34m,\u001b[0m \u001b[0;34m'GD_ignit_prob.tif'\u001b[0m\u001b[0;34m)\u001b[0m\u001b[0;34m)\u001b[0m  \u001b[0;31m# probability from 0 to 1\u001b[0m\u001b[0;34m\u001b[0m\u001b[0;34m\u001b[0m\u001b[0m\n\u001b[1;32m      6\u001b[0m     \u001b[0;31m# load wind data\u001b[0m\u001b[0;34m\u001b[0m\u001b[0;34m\u001b[0m\u001b[0;34m\u001b[0m\u001b[0m\n\u001b[0;32m----> 7\u001b[0;31m     \u001b[0mwind\u001b[0m \u001b[0;34m=\u001b[0m \u001b[0mpd\u001b[0m\u001b[0;34m.\u001b[0m\u001b[0mread\u001b[0m\u001b[0;34m(\u001b[0m\u001b[0mos\u001b[0m\u001b[0;34m.\u001b[0m\u001b[0mpath\u001b[0m\u001b[0;34m.\u001b[0m\u001b[0mjoin\u001b[0m\u001b[0;34m(\u001b[0m\u001b[0mpath_to_data\u001b[0m\u001b[0;34m,\u001b[0m \u001b[0;34m'GD_wind.csv'\u001b[0m\u001b[0;34m)\u001b[0m\u001b[0;34m)\u001b[0m\u001b[0;34m\u001b[0m\u001b[0;34m\u001b[0m\u001b[0m\n\u001b[0m\u001b[1;32m      8\u001b[0m     \u001b[0;32mreturn\u001b[0m \u001b[0mfuel\u001b[0m\u001b[0;34m,\u001b[0m \u001b[0mignition\u001b[0m\u001b[0;34m,\u001b[0m \u001b[0mwind\u001b[0m\u001b[0;34m\u001b[0m\u001b[0;34m\u001b[0m\u001b[0m\n\u001b[1;32m      9\u001b[0m \u001b[0;34m\u001b[0m\u001b[0m\n",
            "\u001b[0;31mAttributeError\u001b[0m: module 'pandas' has no attribute 'read'"
          ]
        }
      ]
    },
    {
      "cell_type": "code",
      "metadata": {
        "id": "dEW0qQjoG2UN",
        "colab_type": "code",
        "colab": {}
      },
      "source": [
        "def wind_scenario(wind_data=wind_df):\n",
        "    i = np.random.randint(0, wind_data.shape[0])\n",
        "    wind = wind_data.iloc[i, 2]\n",
        "    distance = wind_data.iloc[i, 1]\n",
        "    return wind, distance\n",
        "\n",
        "\n",
        "wind_direction, critical_distance = wind_scenario()"
      ],
      "execution_count": 0,
      "outputs": []
    },
    {
      "cell_type": "code",
      "metadata": {
        "id": "xICmG5GwG41d",
        "colab_type": "code",
        "colab": {}
      },
      "source": [
        "def fire_propagation(scenarios, fuel=fuel_map, wind=wind_direction, distance=critical_distance,\n",
        "                     ignition_map=ignition_probability_map):\n",
        "\n",
        "    for scenario in range(scenarios):\n",
        "        # fire hold the state of each cell\n",
        "        time_total = 1000\n",
        "        ignition = np.zeros((time_total, *fuel))\n",
        "        fire = np.zeros((time_total, *fuel))\n",
        "        fire_list = []\n",
        "        # initialize fire by creating random ignition from ignition probability map\n",
        "        ignition[0] = np.random.choice([0, 1], size=fuel,\n",
        "                                       p=ignition_map)  # ignition must not happen in non fuel cells !!\n",
        "        fire[0] = ignition[0] + fuel  # 0 = no fuel, 1 = fuel, 2 = fire\n",
        "\n",
        "        for time in range(1, time_total, 1):\n",
        "            # Make a copy of the original fire\n",
        "            fire[time] = fire[time - 1].copy()\n",
        "            for x in range(1, fuel[0] - 1):\n",
        "                for y in range(1, fuel[1] - 1):\n",
        "                    for d in range(distance, 1, -1):\n",
        "                        if fire[time - 1, x, y] == 2 and wind == 'buffer':  # It's on fire\n",
        "                            # If there's fuel surrounding it\n",
        "                            # set it on fire!\n",
        "                            if fire[time - 1, x - distance, y + distance] == 1:\n",
        "                                fire[time, x - distance, y + distance] = 2\n",
        "                            if fire[time - 1, x, y + distance] == 1:\n",
        "                                fire[time, x, y + distance] = 2\n",
        "                            if fire[time - 1, x + distance, y + distance] == 1:\n",
        "                                fire[time, x + distance, y + distance] = 2\n",
        "                            if fire[time - 1, x + distance, y] == 1:\n",
        "                                fire[time, x + distance, y] = 2\n",
        "                            if fire[time - 1, x + distance, y - distance] == 1:\n",
        "                                fire[time, x + distance, y - distance] = 2\n",
        "                            if fire[time - 1, x, y - distance] == 1:\n",
        "                                fire[time, x, y - distance] = 2\n",
        "                            if fire[time - 1, x - distance, y - distance] == 1:\n",
        "                                fire[time, x - distance, y - distance] = 2\n",
        "                            if fire[time - 1, x - distance, y] == 1:\n",
        "                                fire[time, x - distance, y] = 2\n",
        "\n",
        "                        if fire[time - 1, x, y] == 2 and wind == 'N':  # It's on fire\n",
        "                            # set it on fire!\n",
        "                            if fire[time - 1, x - distance, y + distance] == 1:\n",
        "                                fire[time, x - distance, y + distance] = 2\n",
        "                            if fire[time - 1, x, y + distance] == 1:\n",
        "                                fire[time, x, y + distance] = 2\n",
        "                            if fire[time - 1, x + distance, y + distance] == 1:\n",
        "                                fire[time, x + distance, y + distance] = 2\n",
        "\n",
        "                        if fire[time - 1, x, y] == 2 and wind == 'NE':  # It's on fire\n",
        "                            # set it on fire!\n",
        "                            if fire[time - 1, x, y + distance] == 1:\n",
        "                                fire[time, x, y + distance] = 2\n",
        "                            if fire[time - 1, x + distance, y + distance] == 1:\n",
        "                                fire[time, x + distance, y + distance] = 2\n",
        "                            if fire[time - 1, x + distance, y] == 1:\n",
        "                                fire[time, x + distance, y] = 2\n",
        "\n",
        "                        if fire[time - 1, x, y] == 2 and wind == 'E':  # It's on fire\n",
        "                            # set it on fire!\n",
        "                            if fire[time - 1, x + distance, y + distance] == 1:\n",
        "                                fire[time, x + distance, y + distance] = 2\n",
        "                            if fire[time - 1, x + distance, y] == 1:\n",
        "                                fire[time, x + distance, y] = 2\n",
        "                            if fire[time - 1, x + distance, y - distance] == 1:\n",
        "                                fire[time, x + distance, y + distance] = 2\n",
        "\n",
        "                        if fire[time - 1, x, y] == 2 and wind == 'SE':  # It's on fire\n",
        "                            # set it on fire!\n",
        "                            if fire[time - 1, x + distance, y] == 1:\n",
        "                                fire[time, x + distance, y] = 2\n",
        "                            if fire[time - 1, x + distance, y - distance] == 1:\n",
        "                                fire[time, x + distance, y + distance] = 2\n",
        "                            if fire[time - 1, x, y - distance] == 1:\n",
        "                                fire[time, x, y - distance] = 2\n",
        "\n",
        "                        if fire[time - 1, x, y] == 2 and wind == 'S':  # It's on fire\n",
        "                            # set it on fire!\n",
        "                            if fire[time - 1, x, y - distance] == 1:\n",
        "                                fire[time, x, y - distance] = 2\n",
        "                            if fire[time - 1, x - distance, y - distance] == 1:\n",
        "                                fire[time, x - distance, y - distance] = 2\n",
        "                            if fire[time - 1, x + distance, y - distance] == 1:\n",
        "                                fire[time, x + distance, y - distance] = 2\n",
        "\n",
        "                        if fire[time - 1, x, y] == 2 and wind == 'SW':  # It's on fire\n",
        "                            # set it on fire!\n",
        "                            if fire[time - 1, x, y - distance] == 1:\n",
        "                                fire[time, x, y - distance] = 2\n",
        "                            if fire[time - 1, x - distance, y - distance] == 1:\n",
        "                                fire[time, x - distance, y - distance] = 2\n",
        "                            if fire[time - 1, x - distance, y] == 1:\n",
        "                                fire[time, x - distance, y] = 2\n",
        "\n",
        "                        if fire[time - 1, x, y] == 2 and wind == 'W':  # It's on fire\n",
        "                            # set it on fire!\n",
        "                            if fire[time - 1, x - distance, y + distance] == 1:\n",
        "                                fire[time, x - distance, y + distance] = 2\n",
        "                            if fire[time - 1, x - distance, y - distance] == 1:\n",
        "                                fire[time, x - distance, y - distance] = 2\n",
        "                            if fire[time - 1, x - distance, y] == 1:\n",
        "                                fire[time, x - distance, y] = 2\n",
        "\n",
        "                        if fire[time - 1, x, y] == 2 and wind == 'NW':  # It's on fire\n",
        "                            # set it on fire!\n",
        "                            if fire[time - 1, x - distance, y + distance] == 1:\n",
        "                                fire[time, x - distance, y + distance] = 2\n",
        "                            if fire[time - 1, x - distance, y] == 1:\n",
        "                                fire[time, x - distance, y] = 2\n",
        "                            if fire[time - 1, x, y + distance] == 1:\n",
        "                                fire[time, x, y + distance] = 2\n",
        "\n",
        "                          fire[time].plot()\n",
        "\n",
        "                        if np.array_equal(fire[time], fire[time - 1]) == True:\n",
        "                            fire_list.append(fire[time])\n",
        "                            pass\n",
        "                        else:\n",
        "                            continue\n",
        "        return fire_list\n",
        "\n",
        "\n",
        "final_fire_maps = fire_propagation(1)\n"
      ],
      "execution_count": 0,
      "outputs": []
    }
  ]
}