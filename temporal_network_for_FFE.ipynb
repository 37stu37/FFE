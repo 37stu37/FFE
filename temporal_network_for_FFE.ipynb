{
  "nbformat": 4,
  "nbformat_minor": 0,
  "metadata": {
    "kernelspec": {
      "display_name": "Python 3",
      "language": "python",
      "name": "python3"
    },
    "language_info": {
      "codemirror_mode": {
        "name": "ipython",
        "version": 3
      },
      "file_extension": ".py",
      "mimetype": "text/x-python",
      "name": "python",
      "nbconvert_exporter": "python",
      "pygments_lexer": "ipython3",
      "version": "3.7.3"
    },
    "colab": {
      "name": "temporal_network_try.ipynb",
      "provenance": [],
      "include_colab_link": true
    }
  },
  "cells": [
    {
      "cell_type": "markdown",
      "metadata": {
        "id": "view-in-github",
        "colab_type": "text"
      },
      "source": [
        "<a href=\"https://colab.research.google.com/github/37stu37/FFE/blob/master/temporal_network_for_FFE.ipynb\" target=\"_parent\"><img src=\"https://colab.research.google.com/assets/colab-badge.svg\" alt=\"Open In Colab\"/></a>"
      ]
    },
    {
      "cell_type": "code",
      "metadata": {
        "id": "4XlNrKZfdLpN",
        "colab_type": "code",
        "colab": {}
      },
      "source": [
        "%%capture\n",
        "!pip install memory_profiler"
      ],
      "execution_count": 0,
      "outputs": []
    },
    {
      "cell_type": "code",
      "metadata": {
        "id": "Q60FM7ZmLRAp",
        "colab_type": "code",
        "outputId": "9baa66d5-9bce-4aab-c494-5a88a4b1eb35",
        "colab": {
          "base_uri": "https://localhost:8080/",
          "height": 122
        }
      },
      "source": [
        "from google.colab import drive\n",
        "drive.mount('/content/drive')"
      ],
      "execution_count": 2,
      "outputs": [
        {
          "output_type": "stream",
          "text": [
            "Go to this URL in a browser: https://accounts.google.com/o/oauth2/auth?client_id=947318989803-6bn6qk8qdgf4n4g3pfee6491hc0brc4i.apps.googleusercontent.com&redirect_uri=urn%3aietf%3awg%3aoauth%3a2.0%3aoob&response_type=code&scope=email%20https%3a%2f%2fwww.googleapis.com%2fauth%2fdocs.test%20https%3a%2f%2fwww.googleapis.com%2fauth%2fdrive%20https%3a%2f%2fwww.googleapis.com%2fauth%2fdrive.photos.readonly%20https%3a%2f%2fwww.googleapis.com%2fauth%2fpeopleapi.readonly\n",
            "\n",
            "Enter your authorization code:\n",
            "··········\n",
            "Mounted at /content/drive\n"
          ],
          "name": "stdout"
        }
      ]
    },
    {
      "cell_type": "code",
      "metadata": {
        "id": "WfgNAIvbI9mN",
        "colab_type": "code",
        "colab": {}
      },
      "source": [
        "from google.colab import drive\n",
        "drive.mount('/gdrive')"
      ],
      "execution_count": 0,
      "outputs": []
    },
    {
      "cell_type": "code",
      "metadata": {
        "id": "8do9j9g8I9lg",
        "colab_type": "code",
        "colab": {}
      },
      "source": [
        "with open('/gdrive/My Drive/foo.txt', 'w') as f:\n",
        "  f.write('Hello Google Drive!')\n",
        "!cat '/gdrive/My Drive/foo.txt'"
      ],
      "execution_count": 0,
      "outputs": []
    },
    {
      "cell_type": "code",
      "metadata": {
        "id": "7O35x2t8T4Dk",
        "colab_type": "code",
        "colab": {}
      },
      "source": [
        "import numpy as np\n",
        "import pandas as pd\n",
        "from pathlib import Path\n",
        "import memory_profiler as mem_profile\n",
        "import sys\n",
        "import os\n",
        "import multiprocessing\n",
        "\n",
        "pd.options.mode.chained_assignment = None  # default='warn'"
      ],
      "execution_count": 0,
      "outputs": []
    },
    {
      "cell_type": "code",
      "metadata": {
        "id": "MocViExvJDkN",
        "colab_type": "code",
        "colab": {}
      },
      "source": [
        "from google.colab import drive\n",
        "drive.mount('/gdrive')"
      ],
      "execution_count": 0,
      "outputs": []
    },
    {
      "cell_type": "code",
      "metadata": {
        "id": "HKDE018vJDje",
        "colab_type": "code",
        "colab": {}
      },
      "source": [
        "with open('/gdrive/My Drive/foo.txt', 'w') as f:\n",
        "  f.write('Hello Google Drive!')\n",
        "!cat '/gdrive/My Drive/foo.txt'"
      ],
      "execution_count": 0,
      "outputs": []
    },
    {
      "cell_type": "code",
      "metadata": {
        "id": "NQZTDiIo1CX_",
        "colab_type": "code",
        "colab": {}
      },
      "source": [
        "# import data\n",
        "folder = Path('/content/drive/My Drive/04_Cloud/01_Work/GNS/008_FFE/runs')\n",
        "edge_file = folder / 'data' / 'Copy of edge_data.parquet'\n",
        "wind_file = folder / 'data' / 'Copy of GD_wind.csv'\n",
        "\n",
        "wind_data = pd.read_csv(wind_file) \n",
        "edgelist = pd.read_parquet(edge_file, engine='pyarrow')"
      ],
      "execution_count": 0,
      "outputs": []
    },
    {
      "cell_type": "code",
      "metadata": {
        "id": "pLBvdq4kFYnH",
        "colab_type": "code",
        "colab": {}
      },
      "source": [
        "# %%timeit\n",
        "def wind_scenario(wind_data):\n",
        "      i = np.random.randint(0, wind_data.values.shape[0])\n",
        "      w = wind_data.values[i, 2]\n",
        "      dist = wind_data.values[i, 1]\n",
        "      b = wind_data.values[i, 3]\n",
        "      bear_max = b + 45  # wind direction\n",
        "      bear_min = b - 45\n",
        "      if b == 360:\n",
        "          bear_max = 45\n",
        "      if b <= 0:  # should not be necessary\n",
        "          bear_min = 0\n",
        "      if b == 999:\n",
        "          bear_max = 999\n",
        "          bear_min = 0\n",
        "      return bear_max, bear_min, dist # wind characteristics, bearing and distance\n",
        "\n",
        "\n",
        "def ignition(edges=edgelist):\n",
        "    rng = np.random.uniform(0, 1, size=edges.values.shape[0])\n",
        "    mask = rng < edges.IgnProb_bl.values\n",
        "    NewActiveEdges = edges[mask]\n",
        "    return NewActiveEdges\n",
        "\n",
        "\n",
        "def mask(t, activeEdges_d, listActivatedSources_d, w_b_max, w_b_min, w_d):\n",
        "    if t==0: # special case at time=0\n",
        "        return activeEdges_d\n",
        "    else:\n",
        "        mask = (activeEdges_d.bearing.values < w_b_max) & (activeEdges_d.bearing.values < w_b_min) & (activeEdges_d.distance < w_d)\n",
        "        NewActiveEdges = activeEdges_d[mask]\n",
        "        NewActiveEdges = NewActiveEdges[~NewActiveEdges.source.isin(listActivatedSources_d)]\n",
        "        return NewActiveEdges\n",
        "\n",
        "\n",
        "def propagation(activeEdges_d, edges=edgelist):\n",
        "    NewActiveEdges = edges[edges.source.isin(activeEdges_d.target)]\n",
        "    return NewActiveEdges\n"
      ],
      "execution_count": 0,
      "outputs": []
    },
    {
      "cell_type": "markdown",
      "metadata": {
        "id": "g9Vq0cczZSy4",
        "colab_type": "text"
      },
      "source": [
        "**Main**\n",
        "\n",
        "\n",
        "---\n",
        "\n"
      ]
    },
    {
      "cell_type": "code",
      "metadata": {
        "id": "Q7pHNrjZN8Zw",
        "colab_type": "code",
        "colab": {}
      },
      "source": [
        "def ffe_runs(n):\n",
        "    listScenarioDataframes = []\n",
        "    for scenario in range(n):\n",
        "        # initial setup\n",
        "        condition = True\n",
        "        # listScenarioDataframes = []\n",
        "        listActivatedSources = []\n",
        "        time = 0 \n",
        "        # wind conditions\n",
        "        w_bearing_max, w_bearing_min, w_distance = wind_scenario(wind_data)\n",
        "        # ignition / initial state and edges selection\n",
        "        ActiveEdges = ignition()\n",
        "        if ActiveEdges.empty:\n",
        "            continue\n",
        "        while condition:\n",
        "            ActiveEdges = mask(time, ActiveEdges, listActivatedSources, w_bearing_max, w_bearing_min, w_distance)\n",
        "            if ActiveEdges.empty:\n",
        "                break\n",
        "            listScenarioDataframes.append(ActiveEdges)\n",
        "            listActivatedSources.extend(ActiveEdges.source.values)\n",
        "            ActiveEdges = propagation(ActiveEdges)\n",
        "            # mem = mem_profile.memory_usage()\n",
        "            # memList =  sys.getsizeof(listScenarioDataframes)\n",
        "            # print(\"system memory : {} MB\".format(mem))\n",
        "            time += 1\n",
        "        \n",
        "        print(\"scenario : {}\".format(scenario))\n",
        "        print('process id:', os.getpid())\n",
        "        Activations = pd.concat(listScenarioDataframes)\n",
        "        Activations.to_parquet(folder / 'output' / 'scenario{}_time{}_Activations.parquet'.format(scenario, time), engine='pyarrow')"
      ],
      "execution_count": 0,
      "outputs": []
    },
    {
      "cell_type": "code",
      "metadata": {
        "id": "9LfdJ6G4iXzM",
        "colab_type": "code",
        "colab": {}
      },
      "source": [
        "# %%time\n",
        "# ffe_runs(10)"
      ],
      "execution_count": 0,
      "outputs": []
    },
    {
      "cell_type": "code",
      "metadata": {
        "id": "PyLLVwevIoNa",
        "colab_type": "code",
        "colab": {
          "base_uri": "https://localhost:8080/",
          "height": 34
        },
        "outputId": "f3f88696-0b1b-4647-8468-87f90ef605a0"
      },
      "source": [
        "num_cores = multiprocessing.cpu_count()\n",
        "print(num_cores)"
      ],
      "execution_count": 11,
      "outputs": [
        {
          "output_type": "stream",
          "text": [
            "2\n"
          ],
          "name": "stdout"
        }
      ]
    },
    {
      "cell_type": "code",
      "metadata": {
        "id": "cnDhYvazIOG4",
        "colab_type": "code",
        "colab": {
          "base_uri": "https://localhost:8080/",
          "height": 952
        },
        "outputId": "1bc97320-38bd-46bb-9598-d9adec6ceb42"
      },
      "source": [
        "# run process on all cores\n",
        "if __name__ == '__main__':\n",
        "    # what are your inputs, and what operation do you want to\n",
        "    # perform on each input. For example...\n",
        "    inputs = range(11)\n",
        "    #  removing processes argument makes the code run on all available cores\n",
        "    pool = mp.Pool(processes=2)\n",
        "    results = pool.map(ffe_runs, inputs)"
      ],
      "execution_count": 15,
      "outputs": [
        {
          "output_type": "stream",
          "text": [
            "scenario : 0\n",
            "scenario : 0\n",
            "scenario : 1\n",
            "scenario : 0\n",
            "scenario : 0\n",
            "scenario : 1\n",
            "scenario : 1\n",
            "scenario : 2\n",
            "scenario : 2\n",
            "scenario : 3\n",
            "scenario : 0\n",
            "scenario : 0\n",
            "scenario : 1\n",
            "scenario : 1\n",
            "scenario : 2\n",
            "scenario : 2\n",
            "scenario : 3\n",
            "scenario : 3\n",
            "scenario : 4\n",
            "scenario : 4\n",
            "scenario : 5\n",
            "scenario : 0\n",
            "scenario : 0\n",
            "scenario : 1\n",
            "scenario : 1\n",
            "scenario : 2\n",
            "scenario : 2\n",
            "scenario : 3\n",
            "scenario : 3\n",
            "scenario : 4\n",
            "scenario : 4\n",
            "scenario : 5\n",
            "scenario : 5\n",
            "scenario : 6\n",
            "scenario : 6\n",
            "scenario : 7\n",
            "scenario : 0\n",
            "scenario : 0\n",
            "scenario : 1\n",
            "scenario : 1\n",
            "scenario : 2\n",
            "scenario : 2\n",
            "scenario : 3\n",
            "scenario : 3\n",
            "scenario : 4\n",
            "scenario : 5\n",
            "scenario : 4\n",
            "scenario : 5\n",
            "scenario : 6\n",
            "scenario : 6\n",
            "scenario : 7\n",
            "scenario : 7\n",
            "scenario : 8\n",
            "scenario : 8\n",
            "scenario : 9\n"
          ],
          "name": "stdout"
        }
      ]
    }
  ]
}