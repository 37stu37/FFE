{
  "nbformat": 4,
  "nbformat_minor": 0,
  "metadata": {
    "colab": {
      "name": "Untitled0.ipynb",
      "provenance": [],
      "machine_shape": "hm",
      "authorship_tag": "ABX9TyOtFDGvllnuYMUoDMvBTzbm",
      "include_colab_link": true
    },
    "kernelspec": {
      "name": "python3",
      "display_name": "Python 3"
    }
  },
  "cells": [
    {
      "cell_type": "markdown",
      "metadata": {
        "id": "view-in-github",
        "colab_type": "text"
      },
      "source": [
        "<a href=\"https://colab.research.google.com/github/37stu37/FFE/blob/master/FFE_network_w_Dack.ipynb\" target=\"_parent\"><img src=\"https://colab.research.google.com/assets/colab-badge.svg\" alt=\"Open In Colab\"/></a>"
      ]
    },
    {
      "cell_type": "code",
      "metadata": {
        "id": "uLEIMFiV55eq",
        "colab_type": "code",
        "outputId": "7fb0c30a-8aca-410c-8ac0-707acb190346",
        "colab": {
          "base_uri": "https://localhost:8080/",
          "height": 52
        }
      },
      "source": [
        "%%time \n",
        "%%capture\n",
        "!apt update\n",
        "!apt upgrade\n",
        "!apt install gdal-bin python-gdal python3-gdal \n",
        "# Install rtree - Geopandas requirment\n",
        "!apt install python3-rtree \n",
        "# Install Geopandas\n",
        "!pip install git+git://github.com/geopandas/geopandas.git\n",
        "# Install descartes - Geopandas requirment\n",
        "!pip install descartes"
      ],
      "execution_count": 1,
      "outputs": [
        {
          "output_type": "stream",
          "text": [
            "CPU times: user 573 ms, sys: 83.9 ms, total: 657 ms\n",
            "Wall time: 1min 23s\n"
          ],
          "name": "stdout"
        }
      ]
    },
    {
      "cell_type": "code",
      "metadata": {
        "id": "N0xvou966hTs",
        "colab_type": "code",
        "outputId": "aa359bcc-a9a6-46ba-f891-716c7903456b",
        "colab": {
          "base_uri": "https://localhost:8080/",
          "height": 143
        }
      },
      "source": [
        "# Load the Drive helper and mount\n",
        "from google.colab import drive\n",
        "%tensorflow_version 2.x\n",
        "# This will prompt for authorization.\n",
        "drive.mount('/content/drive')"
      ],
      "execution_count": 2,
      "outputs": [
        {
          "output_type": "stream",
          "text": [
            "TensorFlow 2.x selected.\n",
            "Go to this URL in a browser: https://accounts.google.com/o/oauth2/auth?client_id=947318989803-6bn6qk8qdgf4n4g3pfee6491hc0brc4i.apps.googleusercontent.com&redirect_uri=urn%3aietf%3awg%3aoauth%3a2.0%3aoob&response_type=code&scope=email%20https%3a%2f%2fwww.googleapis.com%2fauth%2fdocs.test%20https%3a%2f%2fwww.googleapis.com%2fauth%2fdrive%20https%3a%2f%2fwww.googleapis.com%2fauth%2fdrive.photos.readonly%20https%3a%2f%2fwww.googleapis.com%2fauth%2fpeopleapi.readonly\n",
            "\n",
            "Enter your authorization code:\n",
            "··········\n",
            "Mounted at /content/drive\n"
          ],
          "name": "stdout"
        }
      ]
    },
    {
      "cell_type": "code",
      "metadata": {
        "id": "kr0PZxCvmWCl",
        "colab_type": "code",
        "outputId": "c9b4f991-7159-4d6c-955b-9ce13b0571b0",
        "colab": {
          "base_uri": "https://localhost:8080/",
          "height": 52
        }
      },
      "source": [
        "%%time\n",
        "import datetime\n",
        "import glob\n",
        "import math\n",
        "import os\n",
        "import matplotlib.pyplot as plt\n",
        "import numpy as np\n",
        "import pandas as pd\n",
        "import geopandas as gpd\n",
        "from scipy.spatial import distance\n",
        "from shapely.geometry import box\n",
        "from shapely.geometry import shape\n",
        "from shapely.geometry import Point\n",
        "import networkx as nx\n",
        "from sys import getsizeof\n",
        "from numba import jit\n",
        "import dask.dataframe as dd\n",
        "import dask.array as da\n",
        "import dask\n",
        "from dask.distributed import Client\n",
        "from dask.diagnostics import ProgressBar\n",
        "%matplotlib inline\n",
        "\n",
        "pd.options.mode.chained_assignment = None  # default='warn'"
      ],
      "execution_count": 3,
      "outputs": [
        {
          "output_type": "stream",
          "text": [
            "CPU times: user 848 ms, sys: 135 ms, total: 983 ms\n",
            "Wall time: 2.21 s\n"
          ],
          "name": "stdout"
        }
      ]
    },
    {
      "cell_type": "code",
      "metadata": {
        "id": "mz4lyV9f3Sny",
        "colab_type": "code",
        "outputId": "c09e0e7d-41a8-42ff-8402-e5c82218b815",
        "colab": {
          "base_uri": "https://localhost:8080/",
          "height": 262
        }
      },
      "source": [
        "client = Client(processes=False)\n",
        "client"
      ],
      "execution_count": 4,
      "outputs": [
        {
          "output_type": "stream",
          "text": [
            "/usr/local/lib/python3.6/dist-packages/distributed/bokeh/core.py:57: UserWarning: \n",
            "Failed to start diagnostics server on port 8787. [Errno 99] Cannot assign requested address\n",
            "  warnings.warn('\\n' + msg)\n",
            "/usr/local/lib/python3.6/dist-packages/distributed/deploy/local.py:197: UserWarning: \n",
            "Could not launch service 'bokeh' on port 8787. Got the following message:\n",
            "\n",
            "[Errno 99] Cannot assign requested address\n",
            "  self.scheduler.start(scheduler_address)\n"
          ],
          "name": "stderr"
        },
        {
          "output_type": "execute_result",
          "data": {
            "text/html": [
              "<table style=\"border: 2px solid white;\">\n",
              "<tr>\n",
              "<td style=\"vertical-align: top; border: 0px solid white\">\n",
              "<h3>Client</h3>\n",
              "<ul>\n",
              "  <li><b>Scheduler: </b>inproc://172.28.0.2/139/1\n",
              "</ul>\n",
              "</td>\n",
              "<td style=\"vertical-align: top; border: 0px solid white\">\n",
              "<h3>Cluster</h3>\n",
              "<ul>\n",
              "  <li><b>Workers: </b>1</li>\n",
              "  <li><b>Cores: </b>4</li>\n",
              "  <li><b>Memory: </b>27.40 GB</li>\n",
              "</ul>\n",
              "</td>\n",
              "</tr>\n",
              "</table>"
            ],
            "text/plain": [
              "<Client: scheduler='inproc://172.28.0.2/139/1' processes=1 cores=4>"
            ]
          },
          "metadata": {
            "tags": []
          },
          "execution_count": 4
        }
      ]
    },
    {
      "cell_type": "code",
      "metadata": {
        "id": "w-tLiFKrmZDM",
        "colab_type": "code",
        "outputId": "31a2bbcc-676a-477b-9b8d-54fb5a8c35d9",
        "colab": {
          "base_uri": "https://localhost:8080/",
          "height": 105
        }
      },
      "source": [
        "path = '/content/drive/My Drive/05_Sync/FFE/FireNetwork/00_input'\n",
        "path_output = '/content/drive/My Drive/05_Sync/FFE/FireNetwork/00_output'\n",
        "\n",
        "!ls \"/content/drive/My Drive/05_Sync/FFE/FireNetwork/00_input\""
      ],
      "execution_count": 5,
      "outputs": [
        {
          "output_type": "stream",
          "text": [
            "buildings_raw.cpg      buildings_raw_pts.mshp  buildings_raw.shp\n",
            "buildings_raw.dbf      buildings_raw_pts.prj   buildings_raw.shx\n",
            "buildings_raw.prj      buildings_raw_pts.shp   GD_wind.csv\n",
            "buildings_raw_pts.cpg  buildings_raw_pts.shx\n",
            "buildings_raw_pts.dbf  buildings_raw.qpj\n"
          ],
          "name": "stdout"
        }
      ]
    },
    {
      "cell_type": "code",
      "metadata": {
        "colab_type": "code",
        "id": "PZosFepFncaX",
        "colab": {}
      },
      "source": [
        "def load_data(file_name, minx, miny, maxx, maxy):\n",
        "    # crop data\n",
        "    bbox = box(minx, miny, maxx, maxy)\n",
        "    # building point dataset\n",
        "    gdf_buildings = gpd.read_file(os.path.join(path, file_name), bbox=bbox)\n",
        "    gdf_buildings['X'] = gdf_buildings.geometry.centroid.x\n",
        "    gdf_buildings['Y'] = gdf_buildings.geometry.centroid.y\n",
        "\n",
        "    # print(gdf_buildings.dtypes)\n",
        "    max_extent = gdf_buildings.total_bounds\n",
        "    data_size = getsizeof(gdf_buildings)/(1024.0**3)\n",
        "    print(\"Shapefile extent : {}\".format(max_extent))\n",
        "    print(\"Asset loaded : {}\".format(len(gdf_buildings)))\n",
        "    print(\"Data size:{} GB'\".format(data_size))\n",
        "    # gdf_buildings.IgnProb_bl = 0.02\n",
        "    # xmin,ymin,xmax,ymax = gdf_buildings.total_bounds\n",
        "\n",
        "    # Precision of float32 is sufficient for lat and lon\n",
        "    float_columns = ['SHAPE_Leng','SHAPE_Area',\n",
        "                    'IgnProb_bl','RandProb']\n",
        "    gdf_buildings[float_columns] = gdf_buildings[float_columns].astype('float32')\n",
        "    int_columns = ['TARGET_FID','Combustibl',\n",
        "                    'AU2013Num','RandProb']\n",
        "    gdf_buildings[int_columns] = gdf_buildings[int_columns].astype('int32')\n",
        "    data_size = getsizeof(gdf_buildings)/(1024.0**3)\n",
        "    print(\"resized Data size:{} GB'\".format(data_size))\n",
        "\n",
        "    return gdf_buildings\n",
        "\n",
        "\n",
        "def create_network(edge_list_dataframe):\n",
        "    graph = nx.from_pandas_edgelist(edge_list_dataframe, edge_attr=True)\n",
        "    # options = {'node_color': 'red', 'node_size': 50, 'width': 1, 'alpha': 0.4,\n",
        "    #            'with_labels': False, 'font_weight': 'bold'}\n",
        "    # nx.draw_kamada_kawai(graph, **options)\n",
        "    # plt.show()\n",
        "    return graph"
      ],
      "execution_count": 0,
      "outputs": []
    },
    {
      "cell_type": "code",
      "metadata": {
        "id": "vc9ZZUD_cepw",
        "colab_type": "code",
        "outputId": "949925ab-a218-45c7-fa33-5bd98c792253",
        "colab": {
          "base_uri": "https://localhost:8080/",
          "height": 123
        }
      },
      "source": [
        "%%time\n",
        "# load data\n",
        "gdf = load_data(\"buildings_raw.shp\", 1748570, 5425500, 1749500, 5427600) # small\n",
        "# gdf = load_data(\"buildings_raw.shp\", 1745000, 5424148, 1750000, 5430000) # larger\n",
        "# gdf = load_data(\"buildings_raw.shp\", 1740508, 5420049, 1755776, 5443033) # whole\n",
        "# with ProgressBar():\n",
        "#     gdf.plot(column='IgnProb_bl', cmap='hsv', legend=True)"
      ],
      "execution_count": 7,
      "outputs": [
        {
          "output_type": "stream",
          "text": [
            "Shapefile extent : [1748498.0152998  5425264.79535007 1749563.95249987 5427653.74945021]\n",
            "Asset loaded : 1611\n",
            "Data size:0.0002206386998295784 GB'\n",
            "resized Data size:0.0001786286011338234 GB'\n",
            "CPU times: user 859 ms, sys: 64.5 ms, total: 923 ms\n",
            "Wall time: 3.59 s\n"
          ],
          "name": "stdout"
        }
      ]
    },
    {
      "cell_type": "code",
      "metadata": {
        "id": "CFU8PcO9TMhW",
        "colab_type": "code",
        "colab": {}
      },
      "source": [
        "@jit\n",
        "def source_target(gdf):\n",
        "  fid = gdf.TARGET_FID.values\n",
        "  s = np.repeat(fid, len(fid))\n",
        "  t = [fid] * len(fid)\n",
        "  t = np.hstack(t)\n",
        "  return s, t"
      ],
      "execution_count": 0,
      "outputs": []
    },
    {
      "cell_type": "code",
      "metadata": {
        "id": "yvg-muUHVvef",
        "colab_type": "code",
        "colab": {}
      },
      "source": [
        "source, target = source_target(gdf)"
      ],
      "execution_count": 0,
      "outputs": []
    },
    {
      "cell_type": "code",
      "metadata": {
        "id": "usw4YI4kVoNU",
        "colab_type": "code",
        "colab": {}
      },
      "source": [
        "  df = pd.DataFrame()\n",
        "  df['source'] = source\n",
        "  df['target'] = target\n",
        "\n",
        "  df.to_csv(os.path.join(path, 'source_target.csv'))"
      ],
      "execution_count": 0,
      "outputs": []
    },
    {
      "cell_type": "code",
      "metadata": {
        "id": "BRRbLqn5WaVb",
        "colab_type": "code",
        "colab": {}
      },
      "source": [
        ""
      ],
      "execution_count": 0,
      "outputs": []
    },
    {
      "cell_type": "code",
      "metadata": {
        "id": "oDHtmbGWWaRv",
        "colab_type": "code",
        "colab": {}
      },
      "source": [
        ""
      ],
      "execution_count": 0,
      "outputs": []
    },
    {
      "cell_type": "code",
      "metadata": {
        "id": "2yQc-0-NWaQj",
        "colab_type": "code",
        "colab": {}
      },
      "source": [
        ""
      ],
      "execution_count": 0,
      "outputs": []
    },
    {
      "cell_type": "code",
      "metadata": {
        "id": "pI4QudFsWaPF",
        "colab_type": "code",
        "colab": {}
      },
      "source": [
        ""
      ],
      "execution_count": 0,
      "outputs": []
    },
    {
      "cell_type": "code",
      "metadata": {
        "id": "uWk-NrT9WaKC",
        "colab_type": "code",
        "colab": {}
      },
      "source": [
        ""
      ],
      "execution_count": 0,
      "outputs": []
    },
    {
      "cell_type": "code",
      "metadata": {
        "id": "NfX3i-7aWaH_",
        "colab_type": "code",
        "colab": {}
      },
      "source": [
        ""
      ],
      "execution_count": 0,
      "outputs": []
    },
    {
      "cell_type": "code",
      "metadata": {
        "id": "lxiEeol3WaB6",
        "colab_type": "code",
        "colab": {}
      },
      "source": [
        ""
      ],
      "execution_count": 0,
      "outputs": []
    },
    {
      "cell_type": "code",
      "metadata": {
        "id": "UL38Ze0sWZ_G",
        "colab_type": "code",
        "colab": {}
      },
      "source": [
        ""
      ],
      "execution_count": 0,
      "outputs": []
    },
    {
      "cell_type": "code",
      "metadata": {
        "id": "FLnVq60syc-w",
        "colab_type": "code",
        "outputId": "238f68bb-91e6-4181-9e3a-24bad129bd83",
        "colab": {
          "base_uri": "https://localhost:8080/",
          "height": 52
        }
      },
      "source": [
        "%%time\n",
        "@dask.delayed\n",
        "def create_source_list(gdf):\n",
        "  fid = gdf.TARGET_FID.values\n",
        "  source = np.repeat(fid, len(fid))\n",
        "  DAsource = da.from_array(source, chunks=10000)\n",
        "  return DAsource"
      ],
      "execution_count": 0,
      "outputs": [
        {
          "output_type": "stream",
          "text": [
            "CPU times: user 144 µs, sys: 20 µs, total: 164 µs\n",
            "Wall time: 159 µs\n"
          ],
          "name": "stdout"
        }
      ]
    },
    {
      "cell_type": "code",
      "metadata": {
        "id": "uo5Y12r1yscg",
        "colab_type": "code",
        "outputId": "6cef4705-37a1-4845-cd4b-57a2becc6d3c",
        "colab": {
          "base_uri": "https://localhost:8080/",
          "height": 52
        }
      },
      "source": [
        "%%time\n",
        "@dask.delayed\n",
        "def create_target_list(gdf):\n",
        "  fid = gdf.TARGET_FID.values\n",
        "  target = [fid] * len(fid)\n",
        "  target = np.hstack(target)\n",
        "  DAtarget = da.from_array(target, chunks=10000)\n",
        "  return DAtarget"
      ],
      "execution_count": 0,
      "outputs": [
        {
          "output_type": "stream",
          "text": [
            "CPU times: user 119 µs, sys: 16 µs, total: 135 µs\n",
            "Wall time: 120 µs\n"
          ],
          "name": "stdout"
        }
      ]
    },
    {
      "cell_type": "code",
      "metadata": {
        "id": "EBx1-WjCg9UH",
        "colab_type": "code",
        "outputId": "b75e91ea-aaa2-46aa-bf86-9914d4c91c90",
        "colab": {
          "base_uri": "https://localhost:8080/",
          "height": 52
        }
      },
      "source": [
        "%%time\n",
        "@dask.delayed\n",
        "def set_edges(Lsource, Ltarget):\n",
        "  DDF = dd.concat([dd.from_dask_array(DA) for DA in [Lsource, Ltarget]], axis = 1)\n",
        "  DDF.columns = ['source', 'target']\n",
        "  DDF['idx'] = 1\n",
        "  DDF['idx'] = np.cumsum(DDF['idx'])\n",
        "  DDF= DDF.set_index('idx')\n",
        "  return DDF"
      ],
      "execution_count": 0,
      "outputs": [
        {
          "output_type": "stream",
          "text": [
            "CPU times: user 108 µs, sys: 7 µs, total: 115 µs\n",
            "Wall time: 99.9 µs\n"
          ],
          "name": "stdout"
        }
      ]
    },
    {
      "cell_type": "code",
      "metadata": {
        "id": "TGpgmHCp2ppn",
        "colab_type": "code",
        "outputId": "6e66522b-2979-4e2f-be01-ef301928fb05",
        "colab": {
          "base_uri": "https://localhost:8080/",
          "height": 52
        }
      },
      "source": [
        "%%time\n",
        "s = create_source_list(gdf)\n",
        "t = create_target_list(gdf)\n",
        "edge_list = set_edges(s,t)"
      ],
      "execution_count": 0,
      "outputs": [
        {
          "output_type": "stream",
          "text": [
            "CPU times: user 0 ns, sys: 617 µs, total: 617 µs\n",
            "Wall time: 571 µs\n"
          ],
          "name": "stdout"
        }
      ]
    },
    {
      "cell_type": "code",
      "metadata": {
        "id": "IRzCUWzB3SJE",
        "colab_type": "code",
        "colab": {}
      },
      "source": [
        "@dask.delayed\n",
        "def merge_coordinates(largeDDF, gdf):\n",
        "  gdf = gdf[['TARGET_FID', 'X', 'Y']]\n",
        "  ddf = largeDDF.merge(gdf, how='left', left_on='source', right_on='TARGET_FID')\n",
        "  ddf2 = ddf.merge(gdf, how='left', left_on='target', right_on='TARGET_FID')\n",
        "  return ddf2"
      ],
      "execution_count": 0,
      "outputs": []
    },
    {
      "cell_type": "code",
      "metadata": {
        "id": "9GPzAxe558f7",
        "colab_type": "code",
        "colab": {}
      },
      "source": [
        "merge = merge_coordinates(edge_list, gdf)"
      ],
      "execution_count": 0,
      "outputs": []
    },
    {
      "cell_type": "code",
      "metadata": {
        "id": "o7rYOlFVAaY0",
        "colab_type": "code",
        "colab": {}
      },
      "source": [
        "@dask.delayed\n",
        "def filter(df):\n",
        "  df['distance'] = ((df.X_x.values - df.X_y.values)**2 + (df.Y_x.values - df.Y_y.values)**2)**0.5\n",
        "  df = df[(df.distance < 50) & (df.distance != 0)]\n",
        "  df['azimuth'] = np.degrees(da.arctan2((df.X_x.values - df.X_y.values), (df.Y_x.values - df.Y_y.values)))\n",
        "  df['bearing'] = (df.azimuth + 360) % 360\n",
        "  df = df.drop(columns=['TARGET_FID_x', 'TARGET_FID_y'])\n",
        "  return df"
      ],
      "execution_count": 0,
      "outputs": []
    },
    {
      "cell_type": "code",
      "metadata": {
        "id": "V80r1LnsERpU",
        "colab_type": "code",
        "colab": {}
      },
      "source": [
        "filtered_dask = filter(merge)"
      ],
      "execution_count": 0,
      "outputs": []
    },
    {
      "cell_type": "code",
      "metadata": {
        "id": "7fm4yhy7Hpv1",
        "colab_type": "code",
        "outputId": "75fa4f34-e1ca-43c6-85ad-785b09cd9c19",
        "colab": {
          "base_uri": "https://localhost:8080/",
          "height": 212
        }
      },
      "source": [
        "%%time\n",
        "# pbar = ProgressBar()\n",
        "# pbar.register()\n",
        "\n",
        "df = filtered_dask.compute()\n",
        "res = df.compute()"
      ],
      "execution_count": 0,
      "outputs": [
        {
          "output_type": "stream",
          "text": [
            "/usr/local/lib/python3.6/dist-packages/distributed/worker.py:2791: UserWarning: Large object of size 4.32 MB detected in task graph: \n",
            "  ('set_edges-d4395338-1d8e-4270-8a45-d9b890b1863d', ...  x 11 columns])\n",
            "Consider scattering large objects ahead of time\n",
            "with client.scatter to reduce scheduler burden and \n",
            "keep data on workers\n",
            "\n",
            "    future = client.submit(func, big_data)    # bad\n",
            "\n",
            "    big_future = client.scatter(big_data)     # good\n",
            "    future = client.submit(func, big_future)  # good\n",
            "  % (format_bytes(len(b)), s))\n"
          ],
          "name": "stderr"
        }
      ]
    },
    {
      "cell_type": "code",
      "metadata": {
        "id": "mCF1ero7UEfH",
        "colab_type": "code",
        "colab": {}
      },
      "source": [
        "res.reset_index(inplace=True)"
      ],
      "execution_count": 0,
      "outputs": []
    },
    {
      "cell_type": "code",
      "metadata": {
        "id": "qBhjrBZTJiN6",
        "colab_type": "code",
        "colab": {}
      },
      "source": [
        "res.to_csv(os.path.join(path_output, 'edge_dask.csv'))"
      ],
      "execution_count": 0,
      "outputs": []
    }
  ]
}