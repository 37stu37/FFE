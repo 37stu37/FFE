{
  "nbformat": 4,
  "nbformat_minor": 0,
  "metadata": {
    "colab": {
      "name": "Untitled0.ipynb",
      "provenance": [],
      "machine_shape": "hm",
      "authorship_tag": "ABX9TyPd30onI7x6QUzszG2I/ryZ",
      "include_colab_link": true
    },
    "kernelspec": {
      "name": "python3",
      "display_name": "Python 3"
    }
  },
  "cells": [
    {
      "cell_type": "markdown",
      "metadata": {
        "id": "view-in-github",
        "colab_type": "text"
      },
      "source": [
        "<a href=\"https://colab.research.google.com/github/37stu37/FFE/blob/master/FFE_network_w_Dack.ipynb\" target=\"_parent\"><img src=\"https://colab.research.google.com/assets/colab-badge.svg\" alt=\"Open In Colab\"/></a>"
      ]
    },
    {
      "cell_type": "code",
      "metadata": {
        "id": "uLEIMFiV55eq",
        "colab_type": "code",
        "outputId": "b0e753c8-5a5c-4731-ca45-ab4950962ac5",
        "colab": {
          "base_uri": "https://localhost:8080/",
          "height": 52
        }
      },
      "source": [
        "%%time \n",
        "%%capture\n",
        "!apt update\n",
        "!apt upgrade\n",
        "!apt install gdal-bin python-gdal python3-gdal \n",
        "# Install rtree - Geopandas requirment\n",
        "!apt install python3-rtree \n",
        "# Install Geopandas\n",
        "!pip install git+git://github.com/geopandas/geopandas.git\n",
        "# Install descartes - Geopandas requirment\n",
        "!pip install descartes"
      ],
      "execution_count": 387,
      "outputs": [
        {
          "output_type": "stream",
          "text": [
            "CPU times: user 3.59 s, sys: 855 ms, total: 4.44 s\n",
            "Wall time: 21.9 s\n"
          ],
          "name": "stdout"
        }
      ]
    },
    {
      "cell_type": "code",
      "metadata": {
        "id": "N0xvou966hTs",
        "colab_type": "code",
        "outputId": "de53c7ce-2cfb-495a-96da-45df80225700",
        "colab": {
          "base_uri": "https://localhost:8080/",
          "height": 34
        }
      },
      "source": [
        "# Load the Drive helper and mount\n",
        "from google.colab import drive\n",
        "%tensorflow_version 2.x\n",
        "# This will prompt for authorization.\n",
        "drive.mount('/content/drive')"
      ],
      "execution_count": 388,
      "outputs": [
        {
          "output_type": "stream",
          "text": [
            "Drive already mounted at /content/drive; to attempt to forcibly remount, call drive.mount(\"/content/drive\", force_remount=True).\n"
          ],
          "name": "stdout"
        }
      ]
    },
    {
      "cell_type": "code",
      "metadata": {
        "id": "kr0PZxCvmWCl",
        "colab_type": "code",
        "outputId": "a5d56e26-4c46-4fd1-8d9f-0bb2e8152e7d",
        "colab": {
          "base_uri": "https://localhost:8080/",
          "height": 52
        }
      },
      "source": [
        "%%time\n",
        "import datetime\n",
        "import glob\n",
        "import math\n",
        "import os\n",
        "import matplotlib.pyplot as plt\n",
        "import numpy as np\n",
        "import pandas as pd\n",
        "import geopandas as gpd\n",
        "from scipy.spatial import distance\n",
        "from shapely.geometry import box\n",
        "from shapely.geometry import shape\n",
        "from shapely.geometry import Point\n",
        "import networkx as nx\n",
        "from sys import getsizeof\n",
        "from numba import jit\n",
        "import dask.dataframe as dd\n",
        "import dask.array as da\n",
        "import dask\n",
        "from dask.distributed import Client\n",
        "from dask.diagnostics import ProgressBar\n",
        "%matplotlib inline\n",
        "\n",
        "pd.options.mode.chained_assignment = None  # default='warn'"
      ],
      "execution_count": 389,
      "outputs": [
        {
          "output_type": "stream",
          "text": [
            "CPU times: user 14.9 ms, sys: 6.3 ms, total: 21.2 ms\n",
            "Wall time: 20.8 ms\n"
          ],
          "name": "stdout"
        }
      ]
    },
    {
      "cell_type": "code",
      "metadata": {
        "id": "mz4lyV9f3Sny",
        "colab_type": "code",
        "outputId": "31de5d49-c8d2-45ee-fc37-cb703050fa93",
        "colab": {
          "base_uri": "https://localhost:8080/",
          "height": 262
        }
      },
      "source": [
        "client = Client(processes=False)\n",
        "client"
      ],
      "execution_count": 390,
      "outputs": [
        {
          "output_type": "stream",
          "text": [
            "/usr/local/lib/python3.6/dist-packages/distributed/bokeh/core.py:57: UserWarning: \n",
            "Failed to start diagnostics server on port 8787. [Errno 99] Cannot assign requested address\n",
            "  warnings.warn('\\n' + msg)\n",
            "/usr/local/lib/python3.6/dist-packages/distributed/deploy/local.py:197: UserWarning: \n",
            "Could not launch service 'bokeh' on port 8787. Got the following message:\n",
            "\n",
            "[Errno 99] Cannot assign requested address\n",
            "  self.scheduler.start(scheduler_address)\n"
          ],
          "name": "stderr"
        },
        {
          "output_type": "execute_result",
          "data": {
            "text/html": [
              "<table style=\"border: 2px solid white;\">\n",
              "<tr>\n",
              "<td style=\"vertical-align: top; border: 0px solid white\">\n",
              "<h3>Client</h3>\n",
              "<ul>\n",
              "  <li><b>Scheduler: </b>inproc://172.28.0.2/137/61\n",
              "</ul>\n",
              "</td>\n",
              "<td style=\"vertical-align: top; border: 0px solid white\">\n",
              "<h3>Cluster</h3>\n",
              "<ul>\n",
              "  <li><b>Workers: </b>1</li>\n",
              "  <li><b>Cores: </b>4</li>\n",
              "  <li><b>Memory: </b>27.40 GB</li>\n",
              "</ul>\n",
              "</td>\n",
              "</tr>\n",
              "</table>"
            ],
            "text/plain": [
              "<Client: scheduler='inproc://172.28.0.2/137/61' processes=1 cores=4>"
            ]
          },
          "metadata": {
            "tags": []
          },
          "execution_count": 390
        }
      ]
    },
    {
      "cell_type": "code",
      "metadata": {
        "id": "w-tLiFKrmZDM",
        "colab_type": "code",
        "outputId": "dd1c797f-e104-47ee-e60a-b546711fdb01",
        "colab": {
          "base_uri": "https://localhost:8080/",
          "height": 105
        }
      },
      "source": [
        "path = '/content/drive/My Drive/05_Sync/FFE/FireNetwork/00_input'\n",
        "path_output = '/content/drive/My Drive/05_Sync/FFE/FireNetwork/00_output'\n",
        "\n",
        "!ls \"/content/drive/My Drive/05_Sync/FFE/FireNetwork/00_input\""
      ],
      "execution_count": 391,
      "outputs": [
        {
          "output_type": "stream",
          "text": [
            "buildings_raw.cpg      buildings_raw_pts.mshp  buildings_raw.shp\n",
            "buildings_raw.dbf      buildings_raw_pts.prj   buildings_raw.shx\n",
            "buildings_raw.prj      buildings_raw_pts.shp   GD_wind.csv\n",
            "buildings_raw_pts.cpg  buildings_raw_pts.shx\n",
            "buildings_raw_pts.dbf  buildings_raw.qpj\n"
          ],
          "name": "stdout"
        }
      ]
    },
    {
      "cell_type": "code",
      "metadata": {
        "colab_type": "code",
        "id": "PZosFepFncaX",
        "colab": {}
      },
      "source": [
        "def load_data(file_name, minx, miny, maxx, maxy):\n",
        "    # crop data\n",
        "    bbox = box(minx, miny, maxx, maxy)\n",
        "    # building point dataset\n",
        "    gdf_buildings = gpd.read_file(os.path.join(path, file_name), bbox=bbox)\n",
        "    gdf_buildings['X'] = gdf_buildings.geometry.centroid.x\n",
        "    gdf_buildings['Y'] = gdf_buildings.geometry.centroid.y\n",
        "\n",
        "    # print(gdf_buildings.dtypes)\n",
        "    max_extent = gdf_buildings.total_bounds\n",
        "    data_size = getsizeof(gdf_buildings)/(1024.0**3)\n",
        "    print(\"Shapefile extent : {}\".format(max_extent))\n",
        "    print(\"Asset loaded : {}\".format(len(gdf_buildings)))\n",
        "    print(\"Data size:{} GB'\".format(data_size))\n",
        "    # gdf_buildings.IgnProb_bl = 0.02\n",
        "    # xmin,ymin,xmax,ymax = gdf_buildings.total_bounds\n",
        "\n",
        "    # Precision of float32 is sufficient for lat and lon\n",
        "    float_columns = ['SHAPE_Leng','SHAPE_Area',\n",
        "                    'IgnProb_bl','RandProb']\n",
        "    gdf_buildings[float_columns] = gdf_buildings[float_columns].astype('float32')\n",
        "    int_columns = ['TARGET_FID','Combustibl',\n",
        "                    'AU2013Num','RandProb']\n",
        "    gdf_buildings[int_columns] = gdf_buildings[int_columns].astype('int32')\n",
        "    data_size = getsizeof(gdf_buildings)/(1024.0**3)\n",
        "    print(\"resized Data size:{} GB'\".format(data_size))\n",
        "\n",
        "    return gdf_buildings\n",
        "\n",
        "\n",
        "def create_network(edge_list_dataframe):\n",
        "    graph = nx.from_pandas_edgelist(edge_list_dataframe, edge_attr=True)\n",
        "    # options = {'node_color': 'red', 'node_size': 50, 'width': 1, 'alpha': 0.4,\n",
        "    #            'with_labels': False, 'font_weight': 'bold'}\n",
        "    # nx.draw_kamada_kawai(graph, **options)\n",
        "    # plt.show()\n",
        "    return graph"
      ],
      "execution_count": 0,
      "outputs": []
    },
    {
      "cell_type": "code",
      "metadata": {
        "id": "vc9ZZUD_cepw",
        "colab_type": "code",
        "outputId": "29c0661c-3801-4145-9221-1569c027f507",
        "colab": {
          "base_uri": "https://localhost:8080/",
          "height": 395
        }
      },
      "source": [
        "%%time\n",
        "# load data\n",
        "# gdf = load_data(\"buildings_raw.shp\", 1748570, 5425500, 1749500, 5427600) # small\n",
        "gdf = load_data(\"buildings_raw.shp\", 1745000, 5424148, 1750000, 5430000) # larger\n",
        "# gdf = load_data(\"buildings_raw.shp\", 1740508, 5420049, 1755776, 5443033) # whole\n",
        "with ProgressBar():\n",
        "    gdf.plot(column='IgnProb_bl', cmap='hsv', legend=True)"
      ],
      "execution_count": 393,
      "outputs": [
        {
          "output_type": "stream",
          "text": [
            "Shapefile extent : [1744982.88584995 5424124.39445019 1750021.17164993 5430049.56759977]\n",
            "Asset loaded : 20340\n",
            "Data size:0.002749629318714142 GB'\n",
            "resized Data size:0.0022192224860191345 GB'\n",
            "CPU times: user 12.6 s, sys: 2.5 s, total: 15.1 s\n",
            "Wall time: 12.6 s\n"
          ],
          "name": "stdout"
        },
        {
          "output_type": "display_data",
          "data": {
            "image/png": "[encoded data removed]",
            "text/plain": [
              "<Figure size 432x288 with 2 Axes>"
            ]
          },
          "metadata": {
            "tags": []
          }
        }
      ]
    },
    {
      "cell_type": "code",
      "metadata": {
        "id": "FLnVq60syc-w",
        "colab_type": "code",
        "colab": {
          "base_uri": "https://localhost:8080/",
          "height": 52
        },
        "outputId": "238f68bb-91e6-4181-9e3a-24bad129bd83"
      },
      "source": [
        "%%time\n",
        "@dask.delayed\n",
        "def create_source_list(gdf):\n",
        "  fid = gdf.TARGET_FID.values\n",
        "  source = np.repeat(fid, len(fid))\n",
        "  DAsource = da.from_array(source, chunks=10000)\n",
        "  return DAsource"
      ],
      "execution_count": 394,
      "outputs": [
        {
          "output_type": "stream",
          "text": [
            "CPU times: user 144 µs, sys: 20 µs, total: 164 µs\n",
            "Wall time: 159 µs\n"
          ],
          "name": "stdout"
        }
      ]
    },
    {
      "cell_type": "code",
      "metadata": {
        "id": "uo5Y12r1yscg",
        "colab_type": "code",
        "colab": {
          "base_uri": "https://localhost:8080/",
          "height": 52
        },
        "outputId": "6cef4705-37a1-4845-cd4b-57a2becc6d3c"
      },
      "source": [
        "%%time\n",
        "@dask.delayed\n",
        "def create_target_list(gdf):\n",
        "  fid = gdf.TARGET_FID.values\n",
        "  target = [fid] * len(fid)\n",
        "  target = np.hstack(target)\n",
        "  DAtarget = da.from_array(target, chunks=10000)\n",
        "  return DAtarget"
      ],
      "execution_count": 395,
      "outputs": [
        {
          "output_type": "stream",
          "text": [
            "CPU times: user 119 µs, sys: 16 µs, total: 135 µs\n",
            "Wall time: 120 µs\n"
          ],
          "name": "stdout"
        }
      ]
    },
    {
      "cell_type": "code",
      "metadata": {
        "id": "EBx1-WjCg9UH",
        "colab_type": "code",
        "colab": {
          "base_uri": "https://localhost:8080/",
          "height": 52
        },
        "outputId": "b75e91ea-aaa2-46aa-bf86-9914d4c91c90"
      },
      "source": [
        "%%time\n",
        "@dask.delayed\n",
        "def set_edges(Lsource, Ltarget):\n",
        "  DDF = dd.concat([dd.from_dask_array(DA) for DA in [Lsource, Ltarget]], axis = 1)\n",
        "  DDF.columns = ['source', 'target']\n",
        "  DDF['idx'] = 1\n",
        "  DDF['idx'] = np.cumsum(DDF['idx'])\n",
        "  DDF= DDF.set_index('idx')\n",
        "  return DDF"
      ],
      "execution_count": 396,
      "outputs": [
        {
          "output_type": "stream",
          "text": [
            "CPU times: user 108 µs, sys: 7 µs, total: 115 µs\n",
            "Wall time: 99.9 µs\n"
          ],
          "name": "stdout"
        }
      ]
    },
    {
      "cell_type": "code",
      "metadata": {
        "id": "TGpgmHCp2ppn",
        "colab_type": "code",
        "colab": {
          "base_uri": "https://localhost:8080/",
          "height": 52
        },
        "outputId": "6e66522b-2979-4e2f-be01-ef301928fb05"
      },
      "source": [
        "%%time\n",
        "s = create_source_list(gdf)\n",
        "t = create_target_list(gdf)\n",
        "edge_list = set_edges(s,t)"
      ],
      "execution_count": 397,
      "outputs": [
        {
          "output_type": "stream",
          "text": [
            "CPU times: user 0 ns, sys: 617 µs, total: 617 µs\n",
            "Wall time: 571 µs\n"
          ],
          "name": "stdout"
        }
      ]
    },
    {
      "cell_type": "code",
      "metadata": {
        "id": "IRzCUWzB3SJE",
        "colab_type": "code",
        "colab": {}
      },
      "source": [
        "@dask.delayed\n",
        "def merge_coordinates(largeDDF, gdf):\n",
        "  gdf = gdf[['TARGET_FID', 'X', 'Y']]\n",
        "  ddf = largeDDF.merge(gdf, how='left', left_on='source', right_on='TARGET_FID')\n",
        "  ddf2 = ddf.merge(gdf, how='left', left_on='target', right_on='TARGET_FID')\n",
        "  return ddf2"
      ],
      "execution_count": 0,
      "outputs": []
    },
    {
      "cell_type": "code",
      "metadata": {
        "id": "9GPzAxe558f7",
        "colab_type": "code",
        "colab": {}
      },
      "source": [
        "merge = merge_coordinates(edge_list, gdf)"
      ],
      "execution_count": 0,
      "outputs": []
    },
    {
      "cell_type": "code",
      "metadata": {
        "id": "o7rYOlFVAaY0",
        "colab_type": "code",
        "colab": {}
      },
      "source": [
        "@dask.delayed\n",
        "def filter(df):\n",
        "  df['distance'] = ((df.X_x.values - df.X_y.values)**2 + (df.Y_x.values - df.Y_y.values)**2)**0.5\n",
        "  df = df[(df.distance < 50) & (df.distance != 0)]\n",
        "  df['azimuth'] = np.degrees(da.arctan2((df.X_x.values - df.X_y.values), (df.Y_x.values - df.Y_y.values)))\n",
        "  df['bearing'] = (df.azimuth + 360) % 360\n",
        "  df = df.drop(columns=['TARGET_FID_x', 'TARGET_FID_y'])\n",
        "  return df"
      ],
      "execution_count": 0,
      "outputs": []
    },
    {
      "cell_type": "code",
      "metadata": {
        "id": "V80r1LnsERpU",
        "colab_type": "code",
        "colab": {}
      },
      "source": [
        "filtered_dask = filter(merge)"
      ],
      "execution_count": 0,
      "outputs": []
    },
    {
      "cell_type": "code",
      "metadata": {
        "id": "7fm4yhy7Hpv1",
        "colab_type": "code",
        "colab": {
          "base_uri": "https://localhost:8080/",
          "height": 212
        },
        "outputId": "75fa4f34-e1ca-43c6-85ad-785b09cd9c19"
      },
      "source": [
        "%%time\n",
        "# pbar = ProgressBar()\n",
        "# pbar.register()\n",
        "\n",
        "df = filtered_dask.compute()\n",
        "res = df.compute()"
      ],
      "execution_count": 0,
      "outputs": [
        {
          "output_type": "stream",
          "text": [
            "/usr/local/lib/python3.6/dist-packages/distributed/worker.py:2791: UserWarning: Large object of size 4.32 MB detected in task graph: \n",
            "  ('set_edges-d4395338-1d8e-4270-8a45-d9b890b1863d', ...  x 11 columns])\n",
            "Consider scattering large objects ahead of time\n",
            "with client.scatter to reduce scheduler burden and \n",
            "keep data on workers\n",
            "\n",
            "    future = client.submit(func, big_data)    # bad\n",
            "\n",
            "    big_future = client.scatter(big_data)     # good\n",
            "    future = client.submit(func, big_future)  # good\n",
            "  % (format_bytes(len(b)), s))\n"
          ],
          "name": "stderr"
        }
      ]
    },
    {
      "cell_type": "code",
      "metadata": {
        "id": "mCF1ero7UEfH",
        "colab_type": "code",
        "colab": {}
      },
      "source": [
        "res.reset_index(inplace=True)"
      ],
      "execution_count": 0,
      "outputs": []
    },
    {
      "cell_type": "code",
      "metadata": {
        "id": "qBhjrBZTJiN6",
        "colab_type": "code",
        "colab": {}
      },
      "source": [
        "res.to_csv(os.path.join(path_output, 'edge_dask.csv'))"
      ],
      "execution_count": 0,
      "outputs": []
    }
  ]
}