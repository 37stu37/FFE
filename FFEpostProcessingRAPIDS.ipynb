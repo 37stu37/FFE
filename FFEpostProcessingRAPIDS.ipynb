{
  "nbformat": 4,
  "nbformat_minor": 0,
  "metadata": {
    "colab": {
      "name": "FFEpostProcessingRAPIDS.ipynb",
      "provenance": [],
      "toc_visible": true,
      "machine_shape": "hm",
      "mount_file_id": "https://github.com/37stu37/FFE/blob/master/FFEpostProcessingRAPIDS.ipynb",
      "authorship_tag": "ABX9TyOHTMhw4fZ44wPgu+erCvtm",
      "include_colab_link": true
    },
    "kernelspec": {
      "name": "python3",
      "display_name": "Python 3"
    },
    "accelerator": "GPU"
  },
  "cells": [
    {
      "cell_type": "markdown",
      "metadata": {
        "id": "view-in-github",
        "colab_type": "text"
      },
      "source": [
        "<a href=\"https://colab.research.google.com/github/37stu37/FFE/blob/master/FFEpostProcessingRAPIDS.ipynb\" target=\"_parent\"><img src=\"https://colab.research.google.com/assets/colab-badge.svg\" alt=\"Open In Colab\"/></a>"
      ]
    },
    {
      "cell_type": "markdown",
      "metadata": {
        "id": "uOfLIueATXfR",
        "colab_type": "text"
      },
      "source": [
        "\n",
        "#Installation\n",
        "---\n",
        "\n"
      ]
    },
    {
      "cell_type": "code",
      "metadata": {
        "id": "mxJNvul8MZrQ",
        "colab_type": "code",
        "colab": {
          "base_uri": "https://localhost:8080/",
          "height": 357
        },
        "outputId": "a3bd5254-e06c-415d-fdf6-8003684988a0"
      },
      "source": [
        "!nvidia-smi # allocation must be Tesla T4, P4, or P100"
      ],
      "execution_count": 3,
      "outputs": [
        {
          "output_type": "stream",
          "text": [
            "Tue Jul 28 21:03:09 2020       \n",
            "+-----------------------------------------------------------------------------+\n",
            "| NVIDIA-SMI 450.51.05    Driver Version: 418.67       CUDA Version: 10.1     |\n",
            "|-------------------------------+----------------------+----------------------+\n",
            "| GPU  Name        Persistence-M| Bus-Id        Disp.A | Volatile Uncorr. ECC |\n",
            "| Fan  Temp  Perf  Pwr:Usage/Cap|         Memory-Usage | GPU-Util  Compute M. |\n",
            "|                               |                      |               MIG M. |\n",
            "|===============================+======================+======================|\n",
            "|   0  Tesla P100-PCIE...  Off  | 00000000:00:04.0 Off |                    0 |\n",
            "| N/A   36C    P0    27W / 250W |      0MiB / 16280MiB |      0%      Default |\n",
            "|                               |                      |                 ERR! |\n",
            "+-------------------------------+----------------------+----------------------+\n",
            "                                                                               \n",
            "+-----------------------------------------------------------------------------+\n",
            "| Processes:                                                                  |\n",
            "|  GPU   GI   CI        PID   Type   Process name                  GPU Memory |\n",
            "|        ID   ID                                                   Usage      |\n",
            "|=============================================================================|\n",
            "|  No running processes found                                                 |\n",
            "+-----------------------------------------------------------------------------+\n"
          ],
          "name": "stdout"
        }
      ]
    },
    {
      "cell_type": "code",
      "metadata": {
        "id": "PUxCONGGVmSI",
        "colab_type": "code",
        "colab": {
          "base_uri": "https://localhost:8080/",
          "height": 51
        },
        "outputId": "1d162ade-31cc-4cb7-d93f-e2b4152cd732"
      },
      "source": [
        "#no.of cores each processor is having \n",
        "!lscpu | grep 'Core(s) per socket:'\n",
        "#no.of threads each core is having\n",
        "!lscpu | grep 'Thread(s) per core'"
      ],
      "execution_count": 4,
      "outputs": [
        {
          "output_type": "stream",
          "text": [
            "Core(s) per socket:  2\n",
            "Thread(s) per core:  2\n"
          ],
          "name": "stdout"
        }
      ]
    },
    {
      "cell_type": "code",
      "metadata": {
        "id": "m0jdXBRiDSzj",
        "colab_type": "code",
        "colab": {
          "base_uri": "https://localhost:8080/",
          "height": 51
        },
        "outputId": "d2325658-a861-4432-cc2b-66d77dc2c4f1"
      },
      "source": [
        "%%time\n",
        "%%capture\n",
        "# Install RAPIDS\n",
        "!git clone https://github.com/rapidsai/rapidsai-csp-utils.git\n",
        "!bash rapidsai-csp-utils/colab/rapids-colab.sh stable\n",
        "\n",
        "import sys, os\n",
        "\n",
        "dist_package_index = sys.path.index('/usr/local/lib/python3.6/dist-packages')\n",
        "sys.path = sys.path[:dist_package_index] + ['/usr/local/lib/python3.6/site-packages'] + sys.path[dist_package_index:]\n",
        "sys.path\n",
        "exec(open('rapidsai-csp-utils/colab/update_modules.py').read(), globals())"
      ],
      "execution_count": 5,
      "outputs": [
        {
          "output_type": "stream",
          "text": [
            "CPU times: user 673 ms, sys: 124 ms, total: 796 ms\n",
            "Wall time: 7min 20s\n"
          ],
          "name": "stdout"
        }
      ]
    },
    {
      "cell_type": "code",
      "metadata": {
        "id": "HFr9n7dFTVdB",
        "colab_type": "code",
        "colab": {
          "base_uri": "https://localhost:8080/",
          "height": 51
        },
        "outputId": "522118e3-5288-4825-c181-0111065f87c6"
      },
      "source": [
        "%%time\n",
        "%%capture\n",
        "!apt update\n",
        "!apt upgrade\n",
        "!apt install gdal-bin python-gdal python3-gdal\n",
        "# Install rtree - Geopandas requirment\n",
        "!apt install python3-rtree\n",
        "# Install Geopandas\n",
        "!pip install git+git://github.com/geopandas/geopandas.git\n",
        "# Install descartes - Geopandas requirment\n",
        "!pip install descartes\n",
        "!pip install memory_profiler\n",
        "# install parquet libraries\n",
        "!pip install git+https://github.com/dask/fastparquet\n",
        "!pip install python-snappy\n",
        "!pip install pyarrow "
      ],
      "execution_count": 6,
      "outputs": [
        {
          "output_type": "stream",
          "text": [
            "CPU times: user 605 ms, sys: 177 ms, total: 782 ms\n",
            "Wall time: 5min 58s\n"
          ],
          "name": "stdout"
        }
      ]
    },
    {
      "cell_type": "code",
      "metadata": {
        "id": "FDNM-ERLM6US",
        "colab_type": "code",
        "colab": {}
      },
      "source": [
        "from pathlib import Path\n",
        "import os\n",
        "from datetime import date"
      ],
      "execution_count": 7,
      "outputs": []
    },
    {
      "cell_type": "code",
      "metadata": {
        "id": "6T1J4QXZTmtV",
        "colab_type": "code",
        "colab": {}
      },
      "source": [
        "import pandas as pd\n",
        "import numpy as np\n",
        "import geopandas as gpd\n",
        "from shapely.geometry import box\n",
        "import dask.dataframe as dd"
      ],
      "execution_count": 8,
      "outputs": []
    },
    {
      "cell_type": "code",
      "metadata": {
        "id": "WwhLWtM1NVdA",
        "colab_type": "code",
        "colab": {}
      },
      "source": [
        "import cudf\n",
        "import dask_cudf"
      ],
      "execution_count": 9,
      "outputs": []
    },
    {
      "cell_type": "markdown",
      "metadata": {
        "id": "_EiXzbe1SEy4",
        "colab_type": "text"
      },
      "source": [
        "#Post-processing process \n",
        "\n",
        "1.   Load and concatenate parquet files into dask_cudf\n",
        "2.   Count 'Source\"\n",
        "1.   Merge with Shapefile (gdf)\n",
        "1.   Create output data\n",
        "\n",
        "\n",
        "\n",
        "\n",
        "\n",
        "\n",
        "\n"
      ]
    },
    {
      "cell_type": "code",
      "metadata": {
        "id": "JALuOrvdSA-n",
        "colab_type": "code",
        "colab": {
          "base_uri": "https://localhost:8080/",
          "height": 255
        },
        "outputId": "0b6179f9-6168-4500-e20d-c941b04c74fb"
      },
      "source": [
        "# Paths\n",
        "pathShapefile = Path('/content/drive/My Drive/Colab Notebooks/01_Repository/FFE/data/shapefile')\n",
        "pathParquets = Path('/content/drive/My Drive/Colab Notebooks/02_Output/ffeFinnComparison')\n",
        "\n",
        "os.listdir(pathShapefile)"
      ],
      "execution_count": 10,
      "outputs": [
        {
          "output_type": "execute_result",
          "data": {
            "text/plain": [
              "['buildings_raw.cpg',\n",
              " 'buildings_raw.dbf',\n",
              " 'buildings_raw.prj',\n",
              " 'buildings_raw.qpj',\n",
              " 'buildings_raw.shp',\n",
              " 'buildings_raw.shx',\n",
              " 'WellWHV_Buildings.prj',\n",
              " 'WellWHV_Buildings.cpg',\n",
              " 'WellWHV_Buildings.shp',\n",
              " 'WellWHV_Buildings.shx',\n",
              " 'WellWHV_Buildings.dbf',\n",
              " 'WellWHV_Buildings.sbn',\n",
              " 'WellWHV_Buildings.sbx',\n",
              " 'WellWHV_Buildings.shp.xml']"
            ]
          },
          "metadata": {
            "tags": []
          },
          "execution_count": 10
        }
      ]
    },
    {
      "cell_type": "code",
      "metadata": {
        "id": "ZuY6xBcuSBO6",
        "colab_type": "code",
        "colab": {}
      },
      "source": [
        "def read_and_concatenate_parquets(path=pathParquets):\n",
        "  L = []\n",
        "  files = pathParquets.glob('*.parquet')\n",
        "  number = 0\n",
        "  for file in files:\n",
        "    number += 1\n",
        "    print(f\"file loaded : {number}/{len(os.listdir(pathParquets))}\")\n",
        "    pqt = dd.read_parquet(file, engine='auto')\n",
        "    # pqt = pd.read_parquet(file, columns=['source'])#, engine='auto')\n",
        "    # pqtCudfDask = dask_cudf.from_dask_dataframe(pqt)\n",
        "    L.append(pqt)\n",
        "  df = dd.concat(L)\n",
        "  return df\n",
        "\n",
        "def count_fid_occurences(df):\n",
        "  count = df['source'].value_counts().compute()\n",
        "  count_df = pd.DataFrame({'source': count.index, 'count': count.values})\n",
        "  count_df.to_parquet(str(pathShapefile) + '/' + f'CountBurn-{str(date.today())}).parquet', engine='auto', compression=\"GZIP\")# could be datetime.now\n",
        "  return count_df\n",
        "\n",
        "def Merge(countDf,nameShapefile):\n",
        "  # Shapefile\n",
        "  gdfShape = gpd.read_file(pathShapefile / nameShapefile)\n",
        "  gdfShape.insert(0, 'FID', range(0, len(gdf)))\n",
        "  gdfShape.rename(columns={'FID': 'source'}, inplace=True)\n",
        "  gdfShape = gdfShape[['source', 'geometry']]\n",
        "  # gdf = pd.DataFrame(gdfShape)\n",
        "  # cudf_gdf = cudf.DataFrame.from_pandas(gdf)\n",
        "  # cudf_gdf.rename(columns={'FID': 'source'}, inplace=True)\n",
        "  # cudf_gdf = cudf_gdf[['source', 'geometry']]\n",
        "  # countDf as cudf\n",
        "  # cudf_countDf = cudf.DataFrame.from_pandas(countDf)\n",
        "  # merge\n",
        "  merged = countDf.merge(gdfShape, on=['source'], how='left')\n",
        "  return merged\n",
        "\n",
        "def createShapefile(df):\n",
        "  # df = df.to_pandas()\n",
        "  gdf = gpd.GeoDataFrame(df, geometry='geometry')\n",
        "  # gdf.plot(column='count', cmap='hsv', legend=True)\n",
        "  gdf.to_file(os.path.join(str(pathShapefile) + \"/\" + \"Burn3000scenarioWellington.shp\"))\n",
        "  return gdf"
      ],
      "execution_count": 12,
      "outputs": []
    },
    {
      "cell_type": "code",
      "metadata": {
        "id": "T4xnIavQcfjI",
        "colab_type": "code",
        "colab": {
          "base_uri": "https://localhost:8080/",
          "height": 1000
        },
        "outputId": "20e25337-b605-4dd7-c3bd-1b2026b71b6d"
      },
      "source": [
        "%%time\n",
        "concatDf = read_and_concatenate_parquets()\n",
        "countConcatDf = count_fid_occurences(concatDf)"
      ],
      "execution_count": null,
      "outputs": [
        {
          "output_type": "stream",
          "text": [
            "file loaded : 567/2981\n",
            "file loaded : 568/2981\n",
            "file loaded : 569/2981\n",
            "file loaded : 570/2981\n",
            "file loaded : 571/2981\n",
            "file loaded : 572/2981\n",
            "file loaded : 573/2981\n",
            "file loaded : 574/2981\n",
            "file loaded : 575/2981\n",
            "file loaded : 576/2981\n",
            "file loaded : 577/2981\n",
            "file loaded : 578/2981\n",
            "file loaded : 579/2981\n",
            "file loaded : 580/2981\n",
            "file loaded : 581/2981\n",
            "file loaded : 582/2981\n",
            "file loaded : 583/2981\n",
            "file loaded : 584/2981\n",
            "file loaded : 585/2981\n",
            "file loaded : 586/2981\n",
            "file loaded : 587/2981\n",
            "file loaded : 588/2981\n",
            "file loaded : 589/2981\n",
            "file loaded : 590/2981\n",
            "file loaded : 591/2981\n",
            "file loaded : 592/2981\n",
            "file loaded : 593/2981\n",
            "file loaded : 594/2981\n",
            "file loaded : 595/2981\n",
            "file loaded : 596/2981\n",
            "file loaded : 597/2981\n",
            "file loaded : 598/2981\n",
            "file loaded : 599/2981\n",
            "file loaded : 600/2981\n",
            "file loaded : 601/2981\n",
            "file loaded : 602/2981\n",
            "file loaded : 603/2981\n",
            "file loaded : 604/2981\n",
            "file loaded : 605/2981\n",
            "file loaded : 606/2981\n",
            "file loaded : 607/2981\n",
            "file loaded : 608/2981\n",
            "file loaded : 609/2981\n",
            "file loaded : 610/2981\n",
            "file loaded : 611/2981\n",
            "file loaded : 612/2981\n",
            "file loaded : 613/2981\n",
            "file loaded : 614/2981\n",
            "file loaded : 615/2981\n",
            "file loaded : 616/2981\n",
            "file loaded : 617/2981\n",
            "file loaded : 618/2981\n",
            "file loaded : 619/2981\n",
            "file loaded : 620/2981\n",
            "file loaded : 621/2981\n",
            "file loaded : 622/2981\n",
            "file loaded : 623/2981\n",
            "file loaded : 624/2981\n",
            "file loaded : 625/2981\n",
            "file loaded : 626/2981\n",
            "file loaded : 627/2981\n",
            "file loaded : 628/2981\n",
            "file loaded : 629/2981\n",
            "file loaded : 630/2981\n",
            "file loaded : 631/2981\n",
            "file loaded : 632/2981\n",
            "file loaded : 633/2981\n",
            "file loaded : 634/2981\n",
            "file loaded : 635/2981\n",
            "file loaded : 636/2981\n",
            "file loaded : 637/2981\n",
            "file loaded : 638/2981\n",
            "file loaded : 639/2981\n",
            "file loaded : 640/2981\n",
            "file loaded : 641/2981\n"
          ],
          "name": "stdout"
        }
      ]
    },
    {
      "cell_type": "code",
      "metadata": {
        "id": "bEfmrSrBcfrY",
        "colab_type": "code",
        "colab": {}
      },
      "source": [
        "mergedDf = Merge(countConcatDf, 'WellWHV_Buildings.shp')\n",
        "countShape = createShapefile(df)"
      ],
      "execution_count": null,
      "outputs": []
    },
    {
      "cell_type": "code",
      "metadata": {
        "id": "RBFjXAo1UNgx",
        "colab_type": "code",
        "colab": {}
      },
      "source": [
        "import matplotlib as plt\n",
        "import contextily as ctx\n",
        "%matplotlib inline\n",
        "plt.style.use('seaborn-whitegrid')\n",
        "\n",
        "originalShape = gpd.read_file(pathShapefile / 'WellWHV_Buildings.shp')\n",
        "\n",
        "fig, (ax1, ax2) = plt.subplots(nrows=1, ncols=2, sharex=True, sharey=True, figsize=(12, 10))\n",
        "\n",
        "p1 = originalShape.plot(ax=ax1, column='IgnProbBld', cmap='hsv', alpha=0.7, legend=True)\n",
        "ctx.add_basemap(ax1, crs=2193)\n",
        "p2 = countShape.plot(ax=ax2, column='count', cmap='YlOrRd', alpha=0.7, legend=True)\n",
        "ctx.add_basemap(ax2, crs=2193)\n",
        "\n",
        "ax1.set_title('Original Shapefile - Ignition Probability')\n",
        "ax1.ticklabel_format(useOffset=False, style='plain')\n",
        "ax2.set_title('Burn Count')\n",
        "ax2.ticklabel_format(useOffset=False, style='plain')\n",
        "ax1.tick_params(direction='out', length=6)\n",
        "ax2.tick_params(direction=\"out\", length=6)\n",
        "\n",
        "fig.autofmt_xdate()\n",
        "plt.tight_layout()\n",
        "plt.show()"
      ],
      "execution_count": null,
      "outputs": []
    }
  ]
}