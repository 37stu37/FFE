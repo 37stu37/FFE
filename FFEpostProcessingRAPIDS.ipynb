{
  "nbformat": 4,
  "nbformat_minor": 0,
  "metadata": {
    "colab": {
      "name": "FFEpostProcessingRAPIDS.ipynb",
      "provenance": [],
      "machine_shape": "hm",
      "mount_file_id": "https://github.com/37stu37/FFE/blob/master/FFEpostProcessingRAPIDS.ipynb",
      "authorship_tag": "ABX9TyNzpckJgobRAbA1FzNqf7u1",
      "include_colab_link": true
    },
    "kernelspec": {
      "name": "python3",
      "display_name": "Python 3"
    },
    "accelerator": "GPU"
  },
  "cells": [
    {
      "cell_type": "markdown",
      "metadata": {
        "id": "view-in-github",
        "colab_type": "text"
      },
      "source": [
        "<a href=\"https://colab.research.google.com/github/37stu37/FFE/blob/master/FFEpostProcessingRAPIDS.ipynb\" target=\"_parent\"><img src=\"https://colab.research.google.com/assets/colab-badge.svg\" alt=\"Open In Colab\"/></a>"
      ]
    },
    {
      "cell_type": "markdown",
      "metadata": {
        "id": "uOfLIueATXfR",
        "colab_type": "text"
      },
      "source": [
        "\n",
        "#Installation\n",
        "---\n",
        "\n"
      ]
    },
    {
      "cell_type": "code",
      "metadata": {
        "id": "mxJNvul8MZrQ",
        "colab_type": "code",
        "colab": {
          "base_uri": "https://localhost:8080/",
          "height": 381
        },
        "outputId": "742a4e41-50f3-4be6-b92a-27e48a9f90ba"
      },
      "source": [
        "!nvidia-smi # allocation must be Tesla T4, P4, or P100"
      ],
      "execution_count": 3,
      "outputs": [
        {
          "output_type": "stream",
          "text": [
            "Wed Jul 29 19:12:47 2020       \n",
            "+-----------------------------------------------------------------------------+\n",
            "| NVIDIA-SMI 450.51.05    Driver Version: 418.67       CUDA Version: 10.1     |\n",
            "|-------------------------------+----------------------+----------------------+\n",
            "| GPU  Name        Persistence-M| Bus-Id        Disp.A | Volatile Uncorr. ECC |\n",
            "| Fan  Temp  Perf  Pwr:Usage/Cap|         Memory-Usage | GPU-Util  Compute M. |\n",
            "|                               |                      |               MIG M. |\n",
            "|===============================+======================+======================|\n",
            "|   0  Tesla P100-PCIE...  Off  | 00000000:00:04.0 Off |                    0 |\n",
            "| N/A   42C    P0    27W / 250W |      0MiB / 16280MiB |      0%      Default |\n",
            "|                               |                      |                 ERR! |\n",
            "+-------------------------------+----------------------+----------------------+\n",
            "                                                                               \n",
            "+-----------------------------------------------------------------------------+\n",
            "| Processes:                                                                  |\n",
            "|  GPU   GI   CI        PID   Type   Process name                  GPU Memory |\n",
            "|        ID   ID                                                   Usage      |\n",
            "|=============================================================================|\n",
            "|  No running processes found                                                 |\n",
            "+-----------------------------------------------------------------------------+\n"
          ],
          "name": "stdout"
        }
      ]
    },
    {
      "cell_type": "code",
      "metadata": {
        "id": "PUxCONGGVmSI",
        "colab_type": "code",
        "colab": {
          "base_uri": "https://localhost:8080/",
          "height": 54
        },
        "outputId": "9d32ccff-344a-46ad-f6dc-36682f915d7d"
      },
      "source": [
        "#no.of cores each processor is having \n",
        "!lscpu | grep 'Core(s) per socket:'\n",
        "#no.of threads each core is having\n",
        "!lscpu | grep 'Thread(s) per core'"
      ],
      "execution_count": 4,
      "outputs": [
        {
          "output_type": "stream",
          "text": [
            "Core(s) per socket:  2\n",
            "Thread(s) per core:  2\n"
          ],
          "name": "stdout"
        }
      ]
    },
    {
      "cell_type": "code",
      "metadata": {
        "id": "m0jdXBRiDSzj",
        "colab_type": "code",
        "colab": {
          "base_uri": "https://localhost:8080/",
          "height": 54
        },
        "outputId": "8d9f676d-2e64-4f3c-f3ad-22051ba79241"
      },
      "source": [
        "%%time\n",
        "%%capture\n",
        "# Install RAPIDS\n",
        "!git clone https://github.com/rapidsai/rapidsai-csp-utils.git\n",
        "!bash rapidsai-csp-utils/colab/rapids-colab.sh stable\n",
        "\n",
        "import sys, os\n",
        "\n",
        "dist_package_index = sys.path.index('/usr/local/lib/python3.6/dist-packages')\n",
        "sys.path = sys.path[:dist_package_index] + ['/usr/local/lib/python3.6/site-packages'] + sys.path[dist_package_index:]\n",
        "sys.path\n",
        "exec(open('rapidsai-csp-utils/colab/update_modules.py').read(), globals())"
      ],
      "execution_count": 5,
      "outputs": [
        {
          "output_type": "stream",
          "text": [
            "CPU times: user 887 ms, sys: 157 ms, total: 1.04 s\n",
            "Wall time: 8min 24s\n"
          ],
          "name": "stdout"
        }
      ]
    },
    {
      "cell_type": "code",
      "metadata": {
        "id": "HFr9n7dFTVdB",
        "colab_type": "code",
        "colab": {
          "base_uri": "https://localhost:8080/",
          "height": 54
        },
        "outputId": "16a68355-5c56-4a47-e4c8-0978ef0a0dc8"
      },
      "source": [
        "%%time\n",
        "%%capture\n",
        "!apt update\n",
        "!apt upgrade\n",
        "!apt install gdal-bin python-gdal python3-gdal\n",
        "# Install rtree - Geopandas requirment\n",
        "!apt install python3-rtree\n",
        "# Install Geopandas\n",
        "!pip install git+git://github.com/geopandas/geopandas.git\n",
        "# Install descartes - Geopandas requirment\n",
        "!pip install descartes\n",
        "!pip install memory_profiler\n",
        "# install parquet libraries\n",
        "!pip install git+https://github.com/dask/fastparquet\n",
        "!pip install python-snappy\n",
        "!pip install pyarrow "
      ],
      "execution_count": 6,
      "outputs": [
        {
          "output_type": "stream",
          "text": [
            "CPU times: user 842 ms, sys: 176 ms, total: 1.02 s\n",
            "Wall time: 6min 34s\n"
          ],
          "name": "stdout"
        }
      ]
    },
    {
      "cell_type": "code",
      "metadata": {
        "id": "FDNM-ERLM6US",
        "colab_type": "code",
        "colab": {}
      },
      "source": [
        "from pathlib import Path\n",
        "import os\n",
        "from datetime import date"
      ],
      "execution_count": 7,
      "outputs": []
    },
    {
      "cell_type": "code",
      "metadata": {
        "id": "6T1J4QXZTmtV",
        "colab_type": "code",
        "colab": {}
      },
      "source": [
        "import pandas as pd\n",
        "import numpy as np\n",
        "import geopandas as gpd\n",
        "from shapely.geometry import box\n",
        "import dask.dataframe as dd\n",
        "pd.options.mode.chained_assignment = None"
      ],
      "execution_count": 8,
      "outputs": []
    },
    {
      "cell_type": "code",
      "metadata": {
        "id": "WwhLWtM1NVdA",
        "colab_type": "code",
        "colab": {}
      },
      "source": [
        "import cudf\n",
        "import dask_cudf"
      ],
      "execution_count": 9,
      "outputs": []
    },
    {
      "cell_type": "markdown",
      "metadata": {
        "id": "_EiXzbe1SEy4",
        "colab_type": "text"
      },
      "source": [
        "#Post-processing process \n",
        "\n",
        "1.   Load and concatenate parquet files into dask_cudf\n",
        "2.   Count 'Source\"\n",
        "1.   Merge with Shapefile (gdf)\n",
        "1.   Create output data\n",
        "\n",
        "\n",
        "\n",
        "\n",
        "\n",
        "\n",
        "\n"
      ]
    },
    {
      "cell_type": "code",
      "metadata": {
        "id": "JALuOrvdSA-n",
        "colab_type": "code",
        "colab": {
          "base_uri": "https://localhost:8080/",
          "height": 55
        },
        "outputId": "ddcc89d5-450b-4060-b791-e66f91c15dac"
      },
      "source": [
        "# Paths\n",
        "pathShapefile = Path('/content/drive/My Drive/Colab Notebooks/01_Repository/FFE/data/shapefile')\n",
        "pathParquets = Path('/content/drive/My Drive/Colab Notebooks/02_Output/ffeFinnComparison')\n",
        "\n",
        "print(os.listdir(pathShapefile), len(os.listdir(pathParquets)))"
      ],
      "execution_count": 10,
      "outputs": [
        {
          "output_type": "stream",
          "text": [
            "['buildings_raw.cpg', 'buildings_raw.dbf', 'buildings_raw.prj', 'buildings_raw.qpj', 'buildings_raw.shp', 'buildings_raw.shx', 'WellWHV_Buildings.prj', 'WellWHV_Buildings.cpg', 'WellWHV_Buildings.shp', 'WellWHV_Buildings.shx', 'WellWHV_Buildings.dbf', 'WellWHV_Buildings.sbn', 'WellWHV_Buildings.sbx', 'WellWHV_Buildings.shp.xml', 'Burn3000scenarioWellington.shp', 'Burn3000scenarioWellington.dbf', 'Burn3000scenarioWellington.cpg', 'Burn3000scenarioWellington.prj', 'Burn3000scenarioWellington.shx', 'Finn_MeshBlockSummary.prj', 'Finn_MeshBlockSummary.cpg', 'Finn_MeshBlockSummary.qpj', 'Finn_MeshBlockSummary.dbf', 'Finn_MeshBlockSummary.shp', 'Finn_MeshBlockSummary.shx', 'Finn_SA2Summary.shp', 'Finn_SA2Summary.cpg', 'Finn_SA2Summary.dbf', 'Finn_SA2Summary.prj', 'Finn_SA2Summary.qpj', 'Finn_SA2Summary.shx', 'CountBurn-2020-07-29).parquet'] 3001\n"
          ],
          "name": "stdout"
        }
      ]
    },
    {
      "cell_type": "code",
      "metadata": {
        "id": "ZuY6xBcuSBO6",
        "colab_type": "code",
        "colab": {}
      },
      "source": [
        "def read_and_concatenate_parquets(path=pathParquets):\n",
        "  L = []\n",
        "  files = pathParquets.glob('*.parquet')\n",
        "  number = 0\n",
        "  for file in files:\n",
        "    number += 1\n",
        "    print(f\"file loaded : {number}/{len(os.listdir(pathParquets))}\")\n",
        "    pqt = pd.read_parquet(file, engine='auto')\n",
        "    pqt.drop_duplicates(subset =\"source\", inplace = True)\n",
        "    L.append(pqt)\n",
        "  df = dd.concat(L)\n",
        "  return df\n",
        "\n",
        "def count_fid_occurences(df):\n",
        "  count = df['source'].value_counts().compute()\n",
        "  count_df = pd.DataFrame({'source': count.index, 'count': count.values})\n",
        "  count_df.to_parquet(str(pathShapefile) + '/' + f'CountBurn-{str(date.today())}).parquet', engine='auto', compression=\"GZIP\")# could be datetime.now\n",
        "  return count_df\n",
        "\n",
        "def Merge(countDf,nameShapefile):\n",
        "  # Shapefile\n",
        "  gdfShape = gpd.read_file(pathShapefile / nameShapefile)\n",
        "  gdfShape.insert(0, 'FID', range(0, len(gdfShape)))\n",
        "  gdfShape.rename(columns={'FID': 'source'}, inplace=True)\n",
        "  gdfShape = gdfShape[['source', 'geometry']]\n",
        "  # gdf = pd.DataFrame(gdfShape)\n",
        "  # cudf_gdf = cudf.DataFrame.from_pandas(gdf)\n",
        "  # cudf_gdf.rename(columns={'FID': 'source'}, inplace=True)\n",
        "  # cudf_gdf = cudf_gdf[['source', 'geometry']]\n",
        "  # countDf as cudf\n",
        "  # cudf_countDf = cudf.DataFrame.from_pandas(countDf)\n",
        "  # merge\n",
        "  merged = countDf.merge(gdfShape, on=['source'], how='left')\n",
        "  return merged\n",
        "\n",
        "def createShapefile(df):\n",
        "  # df = df.to_pandas()\n",
        "  gdf = gpd.GeoDataFrame(df, geometry='geometry')\n",
        "  # gdf.plot(column='count', cmap='hsv', legend=True)\n",
        "  gdf.to_file(os.path.join(str(pathShapefile) + \"/\" + \"Burn3000scenarioWellington.shp\"))\n",
        "  return gdf"
      ],
      "execution_count": 60,
      "outputs": []
    },
    {
      "cell_type": "code",
      "metadata": {
        "id": "T4xnIavQcfjI",
        "colab_type": "code",
        "colab": {}
      },
      "source": [
        "%%time\n",
        "concatDf = read_and_concatenate_parquets()"
      ],
      "execution_count": null,
      "outputs": []
    },
    {
      "cell_type": "code",
      "metadata": {
        "id": "7M5xL0pstWxb",
        "colab_type": "code",
        "colab": {
          "base_uri": "https://localhost:8080/",
          "height": 198
        },
        "outputId": "22fa3a96-bfe4-42ff-b769-fb8e6a507691"
      },
      "source": [
        "concatDf.head()"
      ],
      "execution_count": 62,
      "outputs": [
        {
          "output_type": "execute_result",
          "data": {
            "text/html": [
              "<div>\n",
              "<style scoped>\n",
              "    .dataframe tbody tr th:only-of-type {\n",
              "        vertical-align: middle;\n",
              "    }\n",
              "\n",
              "    .dataframe tbody tr th {\n",
              "        vertical-align: top;\n",
              "    }\n",
              "\n",
              "    .dataframe thead th {\n",
              "        text-align: right;\n",
              "    }\n",
              "</style>\n",
              "<table border=\"1\" class=\"dataframe\">\n",
              "  <thead>\n",
              "    <tr style=\"text-align: right;\">\n",
              "      <th></th>\n",
              "      <th>source</th>\n",
              "      <th>target</th>\n",
              "      <th>distance</th>\n",
              "      <th>bearing</th>\n",
              "      <th>IgnProbBld</th>\n",
              "      <th>scenario</th>\n",
              "      <th>pid</th>\n",
              "    </tr>\n",
              "  </thead>\n",
              "  <tbody>\n",
              "    <tr>\n",
              "      <th>7388</th>\n",
              "      <td>170</td>\n",
              "      <td>28249</td>\n",
              "      <td>68.394308</td>\n",
              "      <td>322.375819</td>\n",
              "      <td>0.000155</td>\n",
              "      <td>638</td>\n",
              "      <td>499</td>\n",
              "    </tr>\n",
              "    <tr>\n",
              "      <th>23611</th>\n",
              "      <td>530</td>\n",
              "      <td>5499</td>\n",
              "      <td>30.503705</td>\n",
              "      <td>229.538987</td>\n",
              "      <td>0.000032</td>\n",
              "      <td>638</td>\n",
              "      <td>499</td>\n",
              "    </tr>\n",
              "    <tr>\n",
              "      <th>28592</th>\n",
              "      <td>645</td>\n",
              "      <td>2470</td>\n",
              "      <td>19.815045</td>\n",
              "      <td>64.564272</td>\n",
              "      <td>0.000099</td>\n",
              "      <td>638</td>\n",
              "      <td>499</td>\n",
              "    </tr>\n",
              "    <tr>\n",
              "      <th>41678</th>\n",
              "      <td>949</td>\n",
              "      <td>52679</td>\n",
              "      <td>41.119870</td>\n",
              "      <td>73.630562</td>\n",
              "      <td>0.000203</td>\n",
              "      <td>638</td>\n",
              "      <td>499</td>\n",
              "    </tr>\n",
              "    <tr>\n",
              "      <th>46422</th>\n",
              "      <td>1061</td>\n",
              "      <td>55683</td>\n",
              "      <td>60.329133</td>\n",
              "      <td>45.623601</td>\n",
              "      <td>0.000322</td>\n",
              "      <td>638</td>\n",
              "      <td>499</td>\n",
              "    </tr>\n",
              "  </tbody>\n",
              "</table>\n",
              "</div>"
            ],
            "text/plain": [
              "       source  target   distance     bearing  IgnProbBld  scenario  pid\n",
              "7388      170   28249  68.394308  322.375819    0.000155       638  499\n",
              "23611     530    5499  30.503705  229.538987    0.000032       638  499\n",
              "28592     645    2470  19.815045   64.564272    0.000099       638  499\n",
              "41678     949   52679  41.119870   73.630562    0.000203       638  499\n",
              "46422    1061   55683  60.329133   45.623601    0.000322       638  499"
            ]
          },
          "metadata": {
            "tags": []
          },
          "execution_count": 62
        }
      ]
    },
    {
      "cell_type": "code",
      "metadata": {
        "id": "eipphuX1_MB2",
        "colab_type": "code",
        "colab": {
          "base_uri": "https://localhost:8080/",
          "height": 54
        },
        "outputId": "c43153e3-0f53-4ffc-db2e-cb35c1f7d9f0"
      },
      "source": [
        "%%time\n",
        "countConcatDf = count_fid_occurences(concatDf)"
      ],
      "execution_count": 63,
      "outputs": [
        {
          "output_type": "stream",
          "text": [
            "CPU times: user 26.8 s, sys: 2.33 s, total: 29.1 s\n",
            "Wall time: 12.7 s\n"
          ],
          "name": "stdout"
        }
      ]
    },
    {
      "cell_type": "code",
      "metadata": {
        "id": "qpaoLe4oDqjp",
        "colab_type": "code",
        "colab": {
          "base_uri": "https://localhost:8080/",
          "height": 407
        },
        "outputId": "d3dd3961-a4ed-4428-baa5-862dee9cbd84"
      },
      "source": [
        "countConcatDf"
      ],
      "execution_count": 64,
      "outputs": [
        {
          "output_type": "execute_result",
          "data": {
            "text/html": [
              "<div>\n",
              "<style scoped>\n",
              "    .dataframe tbody tr th:only-of-type {\n",
              "        vertical-align: middle;\n",
              "    }\n",
              "\n",
              "    .dataframe tbody tr th {\n",
              "        vertical-align: top;\n",
              "    }\n",
              "\n",
              "    .dataframe thead th {\n",
              "        text-align: right;\n",
              "    }\n",
              "</style>\n",
              "<table border=\"1\" class=\"dataframe\">\n",
              "  <thead>\n",
              "    <tr style=\"text-align: right;\">\n",
              "      <th></th>\n",
              "      <th>source</th>\n",
              "      <th>count</th>\n",
              "    </tr>\n",
              "  </thead>\n",
              "  <tbody>\n",
              "    <tr>\n",
              "      <th>0</th>\n",
              "      <td>20730</td>\n",
              "      <td>2368</td>\n",
              "    </tr>\n",
              "    <tr>\n",
              "      <th>1</th>\n",
              "      <td>33902</td>\n",
              "      <td>2356</td>\n",
              "    </tr>\n",
              "    <tr>\n",
              "      <th>2</th>\n",
              "      <td>3893</td>\n",
              "      <td>2324</td>\n",
              "    </tr>\n",
              "    <tr>\n",
              "      <th>3</th>\n",
              "      <td>29682</td>\n",
              "      <td>2304</td>\n",
              "    </tr>\n",
              "    <tr>\n",
              "      <th>4</th>\n",
              "      <td>51503</td>\n",
              "      <td>2292</td>\n",
              "    </tr>\n",
              "    <tr>\n",
              "      <th>...</th>\n",
              "      <td>...</td>\n",
              "      <td>...</td>\n",
              "    </tr>\n",
              "    <tr>\n",
              "      <th>69201</th>\n",
              "      <td>60212</td>\n",
              "      <td>4</td>\n",
              "    </tr>\n",
              "    <tr>\n",
              "      <th>69202</th>\n",
              "      <td>9988</td>\n",
              "      <td>4</td>\n",
              "    </tr>\n",
              "    <tr>\n",
              "      <th>69203</th>\n",
              "      <td>40847</td>\n",
              "      <td>4</td>\n",
              "    </tr>\n",
              "    <tr>\n",
              "      <th>69204</th>\n",
              "      <td>6980</td>\n",
              "      <td>4</td>\n",
              "    </tr>\n",
              "    <tr>\n",
              "      <th>69205</th>\n",
              "      <td>25169</td>\n",
              "      <td>4</td>\n",
              "    </tr>\n",
              "  </tbody>\n",
              "</table>\n",
              "<p>69206 rows × 2 columns</p>\n",
              "</div>"
            ],
            "text/plain": [
              "       source  count\n",
              "0       20730   2368\n",
              "1       33902   2356\n",
              "2        3893   2324\n",
              "3       29682   2304\n",
              "4       51503   2292\n",
              "...       ...    ...\n",
              "69201   60212      4\n",
              "69202    9988      4\n",
              "69203   40847      4\n",
              "69204    6980      4\n",
              "69205   25169      4\n",
              "\n",
              "[69206 rows x 2 columns]"
            ]
          },
          "metadata": {
            "tags": []
          },
          "execution_count": 64
        }
      ]
    },
    {
      "cell_type": "code",
      "metadata": {
        "id": "bEfmrSrBcfrY",
        "colab_type": "code",
        "colab": {
          "base_uri": "https://localhost:8080/",
          "height": 54
        },
        "outputId": "13f1e45f-5119-4d12-f6bd-546e23848bcf"
      },
      "source": [
        "%%time\n",
        "mergedDf = Merge(countConcatDf, 'WellWHV_Buildings.shp')\n",
        "countShape = createShapefile(mergedDf)"
      ],
      "execution_count": 66,
      "outputs": [
        {
          "output_type": "stream",
          "text": [
            "CPU times: user 23.6 s, sys: 3.06 s, total: 26.6 s\n",
            "Wall time: 44.4 s\n"
          ],
          "name": "stdout"
        }
      ]
    },
    {
      "cell_type": "code",
      "metadata": {
        "id": "Vde4I9F2ELfa",
        "colab_type": "code",
        "colab": {
          "base_uri": "https://localhost:8080/",
          "height": 692
        },
        "outputId": "4775f58d-cfca-4d9a-bead-27b735cb203d"
      },
      "source": [
        "%%capture\n",
        "!pip3 install contextily"
      ],
      "execution_count": 68,
      "outputs": [
        {
          "output_type": "stream",
          "text": [
            "Collecting contextily\n",
            "  Downloading contextily-1.0.0-py3-none-any.whl (23 kB)\n",
            "Requirement already satisfied: matplotlib in /usr/local/lib/python3.6/site-packages (from contextily) (3.3.0)\n",
            "Collecting geopy\n",
            "  Downloading geopy-2.0.0-py3-none-any.whl (111 kB)\n",
            "\u001b[K     |████████████████████████████████| 111 kB 3.9 MB/s \n",
            "\u001b[?25hCollecting rasterio\n",
            "  Downloading rasterio-1.1.5-cp36-cp36m-manylinux1_x86_64.whl (18.2 MB)\n",
            "\u001b[K     |████████████████████████████████| 18.2 MB 42 kB/s \n",
            "\u001b[?25hRequirement already satisfied: requests in /usr/local/lib/python3.6/site-packages (from contextily) (2.24.0)\n",
            "Requirement already satisfied: pillow in /usr/local/lib/python3.6/site-packages (from contextily) (7.2.0)\n",
            "Collecting mercantile\n",
            "  Downloading mercantile-1.1.5-py3-none-any.whl (13 kB)\n",
            "Requirement already satisfied: joblib in /usr/local/lib/python3.6/site-packages (from contextily) (0.16.0)\n",
            "Requirement already satisfied: kiwisolver>=1.0.1 in /usr/local/lib/python3.6/site-packages (from matplotlib->contextily) (1.2.0)\n",
            "Requirement already satisfied: pyparsing!=2.0.4,!=2.1.2,!=2.1.6,>=2.0.3 in /usr/local/lib/python3.6/site-packages (from matplotlib->contextily) (2.4.7)\n",
            "Requirement already satisfied: cycler>=0.10 in /usr/local/lib/python3.6/site-packages (from matplotlib->contextily) (0.10.0)\n",
            "Requirement already satisfied: numpy>=1.15 in /usr/local/lib/python3.6/site-packages (from matplotlib->contextily) (1.19.1)\n",
            "Requirement already satisfied: python-dateutil>=2.1 in /usr/local/lib/python3.6/site-packages (from matplotlib->contextily) (2.8.1)\n",
            "Collecting geographiclib<2,>=1.49\n",
            "  Downloading geographiclib-1.50-py3-none-any.whl (38 kB)\n",
            "Collecting affine\n",
            "  Downloading affine-2.3.0-py2.py3-none-any.whl (15 kB)\n",
            "Collecting snuggs>=1.4.1\n",
            "  Downloading snuggs-1.4.7-py3-none-any.whl (5.4 kB)\n",
            "Requirement already satisfied: click-plugins in /usr/local/lib/python3.6/site-packages (from rasterio->contextily) (1.1.1)\n",
            "Requirement already satisfied: cligj>=0.5 in /usr/local/lib/python3.6/site-packages (from rasterio->contextily) (0.5.0)\n",
            "Requirement already satisfied: click<8,>=4.0 in /usr/local/lib/python3.6/site-packages (from rasterio->contextily) (7.1.2)\n",
            "Requirement already satisfied: attrs in /usr/local/lib/python3.6/site-packages (from rasterio->contextily) (19.3.0)\n",
            "Requirement already satisfied: urllib3!=1.25.0,!=1.25.1,<1.26,>=1.21.1 in /usr/local/lib/python3.6/site-packages (from requests->contextily) (1.25.10)\n",
            "Requirement already satisfied: certifi>=2017.4.17 in /usr/local/lib/python3.6/site-packages (from requests->contextily) (2020.6.20)\n",
            "Requirement already satisfied: chardet<4,>=3.0.2 in /usr/local/lib/python3.6/site-packages (from requests->contextily) (3.0.4)\n",
            "Requirement already satisfied: idna<3,>=2.5 in /usr/local/lib/python3.6/site-packages (from requests->contextily) (2.10)\n",
            "Requirement already satisfied: six in /usr/local/lib/python3.6/site-packages (from cycler>=0.10->matplotlib->contextily) (1.15.0)\n",
            "Installing collected packages: geographiclib, geopy, affine, snuggs, rasterio, mercantile, contextily\n",
            "Successfully installed affine-2.3.0 contextily-1.0.0 geographiclib-1.50 geopy-2.0.0 mercantile-1.1.5 rasterio-1.1.5 snuggs-1.4.7\n"
          ],
          "name": "stdout"
        }
      ]
    },
    {
      "cell_type": "code",
      "metadata": {
        "id": "RBFjXAo1UNgx",
        "colab_type": "code",
        "colab": {
          "base_uri": "https://localhost:8080/",
          "height": 244
        },
        "outputId": "151e32ea-e69b-4b84-f8c9-54c8456f3af9"
      },
      "source": [
        "import matplotlib as plt\n",
        "import contextily as ctx\n",
        "%matplotlib inline\n",
        "plt.style.use('seaborn-whitegrid')\n",
        "\n",
        "originalShape = gpd.read_file(pathShapefile / 'WellWHV_Buildings.shp')\n",
        "\n",
        "fig, (ax1, ax2) = plt.subplots(nrows=1, ncols=2, sharex=True, sharey=True, figsize=(12, 10))\n",
        "\n",
        "p1 = originalShape.plot(ax=ax1, column='IgnProbBld', cmap='hsv', alpha=0.7, legend=True)\n",
        "ctx.add_basemap(ax1, crs=2193)\n",
        "p2 = countShape.plot(ax=ax2, column='count', cmap='YlOrRd', alpha=0.7, legend=True)\n",
        "ctx.add_basemap(ax2, crs=2193)\n",
        "\n",
        "ax1.set_title('Original Shapefile - Ignition Probability')\n",
        "ax1.ticklabel_format(useOffset=False, style='plain')\n",
        "ax2.set_title('Burn Count')\n",
        "ax2.ticklabel_format(useOffset=False, style='plain')\n",
        "ax1.tick_params(direction='out', length=6)\n",
        "ax2.tick_params(direction=\"out\", length=6)\n",
        "\n",
        "fig.autofmt_xdate()\n",
        "plt.tight_layout()\n",
        "plt.show()"
      ],
      "execution_count": 69,
      "outputs": [
        {
          "output_type": "error",
          "ename": "AttributeError",
          "evalue": "ignored",
          "traceback": [
            "\u001b[0;31m---------------------------------------------------------------------------\u001b[0m",
            "\u001b[0;31mAttributeError\u001b[0m                            Traceback (most recent call last)",
            "\u001b[0;32m<ipython-input-69-b78f1acfaa78>\u001b[0m in \u001b[0;36m<module>\u001b[0;34m()\u001b[0m\n\u001b[1;32m      6\u001b[0m \u001b[0moriginalShape\u001b[0m \u001b[0;34m=\u001b[0m \u001b[0mgpd\u001b[0m\u001b[0;34m.\u001b[0m\u001b[0mread_file\u001b[0m\u001b[0;34m(\u001b[0m\u001b[0mpathShapefile\u001b[0m \u001b[0;34m/\u001b[0m \u001b[0;34m'WellWHV_Buildings.shp'\u001b[0m\u001b[0;34m)\u001b[0m\u001b[0;34m\u001b[0m\u001b[0;34m\u001b[0m\u001b[0m\n\u001b[1;32m      7\u001b[0m \u001b[0;34m\u001b[0m\u001b[0m\n\u001b[0;32m----> 8\u001b[0;31m \u001b[0mfig\u001b[0m\u001b[0;34m,\u001b[0m \u001b[0;34m(\u001b[0m\u001b[0max1\u001b[0m\u001b[0;34m,\u001b[0m \u001b[0max2\u001b[0m\u001b[0;34m)\u001b[0m \u001b[0;34m=\u001b[0m \u001b[0mplt\u001b[0m\u001b[0;34m.\u001b[0m\u001b[0msubplots\u001b[0m\u001b[0;34m(\u001b[0m\u001b[0mnrows\u001b[0m\u001b[0;34m=\u001b[0m\u001b[0;36m1\u001b[0m\u001b[0;34m,\u001b[0m \u001b[0mncols\u001b[0m\u001b[0;34m=\u001b[0m\u001b[0;36m2\u001b[0m\u001b[0;34m,\u001b[0m \u001b[0msharex\u001b[0m\u001b[0;34m=\u001b[0m\u001b[0;32mTrue\u001b[0m\u001b[0;34m,\u001b[0m \u001b[0msharey\u001b[0m\u001b[0;34m=\u001b[0m\u001b[0;32mTrue\u001b[0m\u001b[0;34m,\u001b[0m \u001b[0mfigsize\u001b[0m\u001b[0;34m=\u001b[0m\u001b[0;34m(\u001b[0m\u001b[0;36m12\u001b[0m\u001b[0;34m,\u001b[0m \u001b[0;36m10\u001b[0m\u001b[0;34m)\u001b[0m\u001b[0;34m)\u001b[0m\u001b[0;34m\u001b[0m\u001b[0;34m\u001b[0m\u001b[0m\n\u001b[0m\u001b[1;32m      9\u001b[0m \u001b[0;34m\u001b[0m\u001b[0m\n\u001b[1;32m     10\u001b[0m \u001b[0mp1\u001b[0m \u001b[0;34m=\u001b[0m \u001b[0moriginalShape\u001b[0m\u001b[0;34m.\u001b[0m\u001b[0mplot\u001b[0m\u001b[0;34m(\u001b[0m\u001b[0max\u001b[0m\u001b[0;34m=\u001b[0m\u001b[0max1\u001b[0m\u001b[0;34m,\u001b[0m \u001b[0mcolumn\u001b[0m\u001b[0;34m=\u001b[0m\u001b[0;34m'IgnProbBld'\u001b[0m\u001b[0;34m,\u001b[0m \u001b[0mcmap\u001b[0m\u001b[0;34m=\u001b[0m\u001b[0;34m'hsv'\u001b[0m\u001b[0;34m,\u001b[0m \u001b[0malpha\u001b[0m\u001b[0;34m=\u001b[0m\u001b[0;36m0.7\u001b[0m\u001b[0;34m,\u001b[0m \u001b[0mlegend\u001b[0m\u001b[0;34m=\u001b[0m\u001b[0;32mTrue\u001b[0m\u001b[0;34m)\u001b[0m\u001b[0;34m\u001b[0m\u001b[0;34m\u001b[0m\u001b[0m\n",
            "\u001b[0;31mAttributeError\u001b[0m: module 'matplotlib' has no attribute 'subplots'"
          ]
        }
      ]
    }
  ]
}