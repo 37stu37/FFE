{
 "cells": [
  {
   "cell_type": "markdown",
   "metadata": {
    "colab_type": "text",
    "id": "fBvUAn-8FhW5"
   },
   "source": [
    "importing \n",
    "---\n",
    "\n"
   ]
  },
  {
   "cell_type": "code",
   "execution_count": 1,
   "metadata": {
    "ExecuteTime": {
     "end_time": "2020-09-08T03:46:16.056136Z",
     "start_time": "2020-09-08T03:46:10.857802Z"
    },
    "colab": {
     "base_uri": "https://localhost:8080/",
     "height": 54
    },
    "colab_type": "code",
    "id": "kr0PZxCvmWCl",
    "outputId": "9fefb577-2ea8-4153-a91e-70c510de1493",
    "tags": []
   },
   "outputs": [
    {
     "name": "stdout",
     "output_type": "stream",
     "text": [
      "CPU times: user 2.16 s, sys: 731 ms, total: 2.89 s\n",
      "Wall time: 5.19 s\n"
     ]
    }
   ],
   "source": [
    "%%time\n",
    "import datetime\n",
    "import glob\n",
    "from math import sqrt\n",
    "import os\n",
    "import matplotlib.pyplot as plt\n",
    "import numpy as np\n",
    "import pandas as pd\n",
    "import geopandas as gpd\n",
    "from scipy.spatial import distance\n",
    "from shapely.geometry import box\n",
    "from shapely.geometry import shape\n",
    "from shapely.geometry import Point\n",
    "import networkx as nx\n",
    "from sys import getsizeof\n",
    "from numba import jit\n",
    "import dask.dataframe as dd\n",
    "import dask.array as da\n",
    "import dask\n",
    "from dask.distributed import Client\n",
    "from dask.diagnostics import ProgressBar\n",
    "\n",
    "from pathlib import Path\n",
    "\n",
    "%matplotlib inline\n",
    "\n",
    "pd.options.mode.chained_assignment = None  # default='warn'"
   ]
  },
  {
   "cell_type": "code",
   "execution_count": 2,
   "metadata": {
    "ExecuteTime": {
     "end_time": "2020-09-08T03:46:16.924776Z",
     "start_time": "2020-09-08T03:46:16.087959Z"
    },
    "colab": {
     "base_uri": "https://localhost:8080/",
     "height": 272
    },
    "colab_type": "code",
    "id": "mz4lyV9f3Sny",
    "outputId": "744a408f-ce01-4897-b808-4a6dcc33dea0"
   },
   "outputs": [
    {
     "data": {
      "text/html": [
       "<table style=\"border: 2px solid white;\">\n",
       "<tr>\n",
       "<td style=\"vertical-align: top; border: 0px solid white\">\n",
       "<h3 style=\"text-align: left;\">Client</h3>\n",
       "<ul style=\"text-align: left; list-style: none; margin: 0; padding: 0;\">\n",
       "  <li><b>Scheduler: </b>inproc://192.168.1.10/40493/1</li>\n",
       "  <li><b>Dashboard: </b><a href='http://192.168.1.10:8787/status' target='_blank'>http://192.168.1.10:8787/status</a></li>\n",
       "</ul>\n",
       "</td>\n",
       "<td style=\"vertical-align: top; border: 0px solid white\">\n",
       "<h3 style=\"text-align: left;\">Cluster</h3>\n",
       "<ul style=\"text-align: left; list-style:none; margin: 0; padding: 0;\">\n",
       "  <li><b>Workers: </b>1</li>\n",
       "  <li><b>Cores: </b>4</li>\n",
       "  <li><b>Memory: </b>8.59 GB</li>\n",
       "</ul>\n",
       "</td>\n",
       "</tr>\n",
       "</table>"
      ],
      "text/plain": [
       "<Client: 'inproc://192.168.1.10/40493/1' processes=1 threads=4, memory=8.59 GB>"
      ]
     },
     "execution_count": 2,
     "metadata": {},
     "output_type": "execute_result"
    }
   ],
   "source": [
    "# %%capture\n",
    "client = Client(processes=False)\n",
    "client"
   ]
  },
  {
   "cell_type": "markdown",
   "metadata": {
    "colab_type": "text",
    "id": "K_1K7zSpFrVr"
   },
   "source": [
    "runs\n",
    "---\n",
    "\n"
   ]
  },
  {
   "cell_type": "code",
   "execution_count": 3,
   "metadata": {
    "ExecuteTime": {
     "end_time": "2020-09-08T03:46:17.013415Z",
     "start_time": "2020-09-08T03:46:17.006517Z"
    },
    "colab": {},
    "colab_type": "code",
    "id": "w-tLiFKrmZDM"
   },
   "outputs": [],
   "source": [
    "repository = Path.cwd()\n",
    "\n",
    "path = repository / 'data'\n",
    "pathShapefile = repository / 'data' / 'shapefile'\n",
    "path_output = path"
   ]
  },
  {
   "cell_type": "code",
   "execution_count": 4,
   "metadata": {
    "ExecuteTime": {
     "end_time": "2020-09-08T03:46:17.086919Z",
     "start_time": "2020-09-08T03:46:17.077605Z"
    },
    "colab": {},
    "colab_type": "code",
    "id": "RmV12qcebhMI"
   },
   "outputs": [
    {
     "data": {
      "text/plain": [
       "['SA2_input.qpj',\n",
       " 'SA2_input.prj',\n",
       " 'BuildingFootprints.geojson',\n",
       " 'SA2_input.geojson',\n",
       " 'BuildingFootprints.prj',\n",
       " 'BuildingFootprints.qpj',\n",
       " 'SA2_input.cpg',\n",
       " 'SA2_input.shp',\n",
       " 'BuildingFootprints.dbf',\n",
       " 'SA2_input.shx',\n",
       " 'BuildingFootprints.shx',\n",
       " '.ipynb_checkpoints',\n",
       " 'BuildingFootprints.shp',\n",
       " 'BuildingFootprints.cpg',\n",
       " 'SA2_input.dbf']"
      ]
     },
     "execution_count": 4,
     "metadata": {},
     "output_type": "execute_result"
    }
   ],
   "source": [
    "os.listdir(pathShapefile)"
   ]
  },
  {
   "cell_type": "markdown",
   "metadata": {
    "colab_type": "text",
    "id": "QDAynt2Eaw7b"
   },
   "source": [
    "**Load GIS data**\n",
    "\n",
    "\n",
    "\n",
    "---\n",
    "\n",
    "\n",
    "\n",
    "\n"
   ]
  },
  {
   "cell_type": "code",
   "execution_count": 5,
   "metadata": {
    "ExecuteTime": {
     "end_time": "2020-09-08T03:46:17.147174Z",
     "start_time": "2020-09-08T03:46:17.138193Z"
    },
    "code_folding": [
     0,
     30
    ],
    "colab": {},
    "colab_type": "code",
    "id": "PZosFepFncaX"
   },
   "outputs": [],
   "source": [
    "def load_data(file_name, minx, miny, maxx, maxy):\n",
    "    # crop data\n",
    "    bbox = box(minx, miny, maxx, maxy)\n",
    "    # building point dataset\n",
    "    gdf_buildings = gpd.read_file(os.path.join(pathShapefile, file_name), bbox=bbox)\n",
    "    gdf_buildings['X'] = gdf_buildings.geometry.centroid.x\n",
    "    gdf_buildings['Y'] = gdf_buildings.geometry.centroid.y\n",
    "\n",
    "    # print(gdf_buildings.dtypes)\n",
    "    max_extent = gdf_buildings.total_bounds\n",
    "    data_size = getsizeof(gdf_buildings) /(1024.0**3)\n",
    "    print(\"Shapefile extent : {}\".format(max_extent))\n",
    "    print(\"Asset loaded : {}\".format(len(gdf_buildings)))\n",
    "    # print(\"Data size:{} GB'\".format(data_size))\n",
    "    # gdf_buildings.IgnProb_bl = 0.02\n",
    "    # xmin,ymin,xmax,ymax = gdf_buildings.total_bounds\n",
    "\n",
    "    # # Precision of float32 is sufficient for lat and lon\n",
    "    # float_columns = ['SHAPE_Leng','SHAPE_Area',\n",
    "    #                 'IgnProb_bl','RandProb']\n",
    "    # gdf_buildings[float_columns] = gdf_buildings[float_columns].astype('float32')\n",
    "    # int_columns = ['TARGET_FID','Combustibl',\n",
    "    #                 'AU2013Num','RandProb']\n",
    "    # gdf_buildings[int_columns] = gdf_buildings[int_columns].astype('int32')\n",
    "    # data_size = getsizeof(gdf_buildings)/(1024.0**3)\n",
    "    # print(\"resized Data size:{} GB'\".format(data_size))\n",
    "\n",
    "    return gdf_buildings\n",
    "\n",
    "\n",
    "def clean_up_file(prefix, path_path):\n",
    "    files = glob.glob(os.path.join(path_path, prefix))\n",
    "    for file in files:\n",
    "        print(file)\n",
    "        os.remove(file)"
   ]
  },
  {
   "cell_type": "code",
   "execution_count": 6,
   "metadata": {
    "ExecuteTime": {
     "end_time": "2020-09-08T03:46:17.200605Z",
     "start_time": "2020-09-08T03:46:17.194455Z"
    },
    "colab": {},
    "colab_type": "code",
    "id": "A_cSSLBC42v9"
   },
   "outputs": [],
   "source": [
    "# clean_up_file(\"*\", path_split)"
   ]
  },
  {
   "cell_type": "code",
   "execution_count": 7,
   "metadata": {
    "ExecuteTime": {
     "end_time": "2020-09-08T03:46:52.866182Z",
     "start_time": "2020-09-08T03:46:17.321938Z"
    },
    "colab": {
     "base_uri": "https://localhost:8080/",
     "height": 362
    },
    "colab_type": "code",
    "id": "vc9ZZUD_cepw",
    "outputId": "6743fa5e-a03b-40f4-a779-17ea2c3358c3",
    "tags": []
   },
   "outputs": [
    {
     "name": "stdout",
     "output_type": "stream",
     "text": [
      "Shapefile extent : [1743666.2636 5421069.8387 1755072.1121 5443033.4851]\n",
      "Asset loaded : 73735\n",
      "CPU times: user 30.7 s, sys: 1.48 s, total: 32.2 s\n",
      "Wall time: 33.8 s\n"
     ]
    },
    {
     "data": {
      "text/plain": [
       "<matplotlib.axes._subplots.AxesSubplot at 0x7fc4d16a70b8>"
      ]
     },
     "execution_count": 7,
     "metadata": {},
     "output_type": "execute_result"
    },
    {
     "data": {
      "image/png": "[encoded data removed]",
      "text/plain": [
       "<Figure size 432x288 with 2 Axes>"
      ]
     },
     "metadata": {
      "needs_background": "light"
     },
     "output_type": "display_data"
    }
   ],
   "source": [
    "%%time\n",
    "# load data\n",
    "# gdf = load_data(\"buildings_raw.shp\", 1748570, 5425500, 1749500, 5427600) # small\n",
    "# gdf = load_data(\"buildings_raw.shp\", 1745000, 5424148, 1750000, 5430000) # larger\n",
    "gdf = load_data(\"BuildingFootprints.shp\", 1740508, 5420049, 1755776, 5443033) # whole\n",
    "gdf.plot(column='BLDG_ID', cmap='hsv', legend=True)"
   ]
  },
  {
   "cell_type": "markdown",
   "metadata": {
    "colab_type": "text",
    "id": "hE6o2sBraVVO"
   },
   "source": [
    "**List of Functions**\n",
    "\n",
    "\n",
    "\n",
    "---\n",
    "\n",
    "\n",
    "\n"
   ]
  },
  {
   "cell_type": "code",
   "execution_count": 19,
   "metadata": {
    "ExecuteTime": {
     "end_time": "2020-09-08T03:57:40.978259Z",
     "start_time": "2020-09-08T03:57:40.862231Z"
    },
    "code_folding": [
     8,
     13,
     18,
     25
    ],
    "colab": {
     "base_uri": "https://localhost:8080/",
     "height": 54
    },
    "colab_type": "code",
    "id": "ZJlFxDFhM7az",
    "outputId": "4185def3-49e7-4239-87bd-9aa3977d2522"
   },
   "outputs": [],
   "source": [
    "fid = gdf.BLDG_ID.values  # building id\n",
    "x = gdf.X.values\n",
    "y = gdf.Y.values\n",
    "combustible = gdf.Combustibl.values\n",
    "\n",
    "\n",
    "@jit(nopython=True)\n",
    "def square(x):\n",
    "    return x ** 2\n",
    "\n",
    "\n",
    "@jit(nopython=True)\n",
    "def distance(x, y):\n",
    "    return np.sqrt(square(x) + square(y))\n",
    "\n",
    "\n",
    "@jit(nopython=True)\n",
    "def bearing(x, y):\n",
    "    b = np.degrees(np.arctan2(x,y))\n",
    "#     degrees = (degrees + 360) % 360\n",
    "    return (b + 360) % 360\n",
    "\n",
    "\n",
    "@jit(nopython=True)\n",
    "def edge_list(fid, x, y, combustible):\n",
    "    list_s = []\n",
    "    list_t = []\n",
    "    list_distance = []\n",
    "    list_bearing = []\n",
    "    for idx_s, s in enumerate(fid):\n",
    "        if combustible[idx_s] != 0:\n",
    "            for idx_t, t in enumerate(fid):\n",
    "                if combustible[idx_t] != 0:\n",
    "\n",
    "                    Vx = (x[idx_t] - x[idx_s])\n",
    "                    Vy = (y[idx_t] - y[idx_s])\n",
    "\n",
    "                    dist = distance(Vx, Vy)\n",
    "                    bear = bearing(Vx, Vy)\n",
    "\n",
    "                    if dist < 100 and dist != 0:\n",
    "\n",
    "                        list_s.append(s)\n",
    "                        list_t.append(t)\n",
    "                        list_distance.append(dist)\n",
    "                        list_bearing.append(bear)\n",
    "\n",
    "    return list_s, list_t, list_distance, list_bearing"
   ]
  },
  {
   "cell_type": "code",
   "execution_count": 20,
   "metadata": {
    "ExecuteTime": {
     "end_time": "2020-09-08T03:57:43.319019Z",
     "start_time": "2020-09-08T03:57:43.309643Z"
    },
    "code_folding": [
     0
    ],
    "colab": {},
    "colab_type": "code",
    "id": "62rQOZMcJHza"
   },
   "outputs": [],
   "source": [
    "def to_dask_df(source, target, distance, bearing):\n",
    "    list_of_lists = [source, target, distance, bearing]\n",
    "    list_of_arrays = []\n",
    "    for l in list_of_lists:\n",
    "        a = da.array(l)\n",
    "        list_of_arrays.append(a)\n",
    "\n",
    "    # generate dask dataframe\n",
    "    ddf = dd.concat([dd.from_dask_array(c) for c in list_of_arrays], axis=1)\n",
    "    # name columns\n",
    "    ddf.columns = ['source', 'target', 'distance',\n",
    "                   'bearing']  # [str(c) for c in list_of_list]\n",
    "\n",
    "    return ddf"
   ]
  },
  {
   "cell_type": "code",
   "execution_count": 21,
   "metadata": {
    "ExecuteTime": {
     "end_time": "2020-09-08T03:57:45.708829Z",
     "start_time": "2020-09-08T03:57:45.695371Z"
    },
    "code_folding": [
     0
    ],
    "colab": {},
    "colab_type": "code",
    "id": "KaAAprDSht4i"
   },
   "outputs": [],
   "source": [
    "def prepare_data(ddf, gdf):\n",
    "    gdf_short = gdf[['BLDG_ID', 'geometry']]\n",
    "    df_short = pd.DataFrame(gdf_short)\n",
    "    # ddf = dd.read_parquet(os.path.join(path_output, 'dask_edge_list', file_name), engine='pyarrow')\n",
    "    ddf = ddf.compute()\n",
    "\n",
    "    # merge column of interest (geometries and Ignition probability)\n",
    "    df_source = ddf.merge(df_short, how='left', left_on='source', right_on='BLDG_ID')\n",
    "#     gdf_short = gdf[['BLDG_ID', 'geometry']]\n",
    "    # df_short = pd.DataFrame(gdf_short)\n",
    "    df_target = ddf.merge(df_short, how='left', left_on='target', right_on='BLDG_ID')\n",
    "\n",
    "    # reverse to geopandas\n",
    "    gdf_source = gpd.GeoDataFrame(df_source, geometry='geometry')\n",
    "    gdf_target = gpd.GeoDataFrame(df_target, geometry='geometry')\n",
    "\n",
    "    # calculate distance polygons\n",
    "    distance_series = gdf_source.distance(gdf_target)\n",
    "    ddf['distance'] = distance_series\n",
    "\n",
    "    return ddf"
   ]
  },
  {
   "cell_type": "code",
   "execution_count": 22,
   "metadata": {
    "ExecuteTime": {
     "end_time": "2020-09-08T03:57:48.112640Z",
     "start_time": "2020-09-08T03:57:48.104288Z"
    },
    "code_folding": [],
    "colab": {},
    "colab_type": "code",
    "id": "RUaTSxxTV5Mq"
   },
   "outputs": [],
   "source": [
    "def write_to_parquet(daskDF):\n",
    "    # ddf = daskDF.compute()\n",
    "    daskDF.to_parquet(os.path.join(\n",
    "        path_output, 'BLDG_ID_ShapeEdges.parquet'), engine='pyarrow')\n",
    "    return"
   ]
  },
  {
   "cell_type": "code",
   "execution_count": 23,
   "metadata": {
    "ExecuteTime": {
     "end_time": "2020-09-08T03:57:50.374668Z",
     "start_time": "2020-09-08T03:57:50.366405Z"
    },
    "code_folding": [
     1
    ],
    "colab": {},
    "colab_type": "code",
    "id": "ulo9yu2MaP-H"
   },
   "outputs": [],
   "source": [
    "# display network\n",
    "def display_network(edge_list_dataframe):\n",
    "    graph = nx.from_pandas_edgelist(edge_list_dataframe, edge_attr=True)\n",
    "    options = {'node_color': 'red', 'node_size': 50, 'width': 1, 'alpha': 0.4,\n",
    "               'with_labels': False, 'font_weight': 'bold'}\n",
    "    nx.draw_kamada_kawai(graph, **options)\n",
    "    plt.show()\n",
    "    return graph"
   ]
  },
  {
   "cell_type": "markdown",
   "metadata": {
    "colab_type": "text",
    "id": "yTupfo0Caeb2"
   },
   "source": [
    "**Create edge list from polygon shapefile**\n",
    "\n",
    "\n",
    "---\n",
    "\n",
    "\n"
   ]
  },
  {
   "cell_type": "code",
   "execution_count": null,
   "metadata": {
    "ExecuteTime": {
     "start_time": "2020-09-08T03:57:46.058Z"
    },
    "colab": {
     "base_uri": "https://localhost:8080/",
     "height": 54
    },
    "colab_type": "code",
    "id": "pQHEbtNaA2AS",
    "outputId": "96a6da02-cc2a-4996-a3a7-52ab3b53a860"
   },
   "outputs": [],
   "source": [
    "%%time\n",
    "source, target, distance, bearing = edge_list(fid, x, y, combustible)"
   ]
  },
  {
   "cell_type": "code",
   "execution_count": null,
   "metadata": {
    "ExecuteTime": {
     "start_time": "2020-09-08T03:57:47.216Z"
    },
    "colab": {
     "base_uri": "https://localhost:8080/",
     "height": 54
    },
    "colab_type": "code",
    "id": "fVXAdCRxK-ci",
    "outputId": "912deced-5921-4707-c404-e63179125b53"
   },
   "outputs": [],
   "source": [
    "# %%time\n",
    "# create an edge list from dask dataframe\n",
    "ddf = to_dask_df(source, target, distance, bearing)"
   ]
  },
  {
   "cell_type": "code",
   "execution_count": null,
   "metadata": {
    "ExecuteTime": {
     "start_time": "2020-09-08T03:57:47.884Z"
    },
    "colab": {
     "base_uri": "https://localhost:8080/",
     "height": 54
    },
    "colab_type": "code",
    "id": "idYyR9A8BCy-",
    "outputId": "1f3db63f-79d9-4483-d7af-9c4f0e1bcdef"
   },
   "outputs": [],
   "source": [
    "# %%time\n",
    "# add geometries and distance between polygons\n",
    "ddf = prepare_data(ddf, gdf)"
   ]
  },
  {
   "cell_type": "code",
   "execution_count": null,
   "metadata": {
    "ExecuteTime": {
     "start_time": "2020-09-08T03:57:49.112Z"
    },
    "colab": {
     "base_uri": "https://localhost:8080/",
     "height": 35
    },
    "colab_type": "code",
    "id": "u4qfLKd8jZ2M",
    "outputId": "03ca81dc-46ac-4b24-ee5c-b456ebef058c"
   },
   "outputs": [],
   "source": [
    "# check non combustible edge\n",
    "nonCom = gdf[gdf.Combustibl != 1]\n",
    "s = nonCom.BLDG_ID\n",
    "test = ddf['source'].isin(s)\n",
    "any(test) # is one of the value True == Combustible FID in edges"
   ]
  },
  {
   "cell_type": "code",
   "execution_count": null,
   "metadata": {
    "ExecuteTime": {
     "start_time": "2020-09-08T03:57:51.676Z"
    },
    "colab": {},
    "colab_type": "code",
    "id": "mxbtyWw6Gmrx"
   },
   "outputs": [],
   "source": [
    "# export to parquet (would need deleting previous parquet)\n",
    "write_to_parquet(daskDF=ddf)"
   ]
  },
  {
   "cell_type": "code",
   "execution_count": null,
   "metadata": {
    "ExecuteTime": {
     "start_time": "2020-09-08T03:57:52.852Z"
    }
   },
   "outputs": [],
   "source": [
    "ddf.head()"
   ]
  },
  {
   "cell_type": "code",
   "execution_count": 24,
   "metadata": {
    "ExecuteTime": {
     "end_time": "2020-09-08T03:32:00.440063Z",
     "start_time": "2020-09-08T03:31:50.852718Z"
    },
    "colab": {},
    "colab_type": "code",
    "id": "xcjZWvdaP7Sh"
   },
   "outputs": [
    {
     "ename": "KeyboardInterrupt",
     "evalue": "",
     "output_type": "error",
     "traceback": [
      "\u001b[0;31m---------------------------------------------------------------------------\u001b[0m",
      "\u001b[0;31mKeyboardInterrupt\u001b[0m                         Traceback (most recent call last)",
      "\u001b[0;32m<timed exec>\u001b[0m in \u001b[0;36m<module>\u001b[0;34m\u001b[0m\n",
      "\u001b[0;32m<ipython-input-18-ea66502eeda4>\u001b[0m in \u001b[0;36mdisplay_network\u001b[0;34m(edge_list_dataframe)\u001b[0m\n\u001b[1;32m      1\u001b[0m \u001b[0;31m# display network\u001b[0m\u001b[0;34m\u001b[0m\u001b[0;34m\u001b[0m\u001b[0;34m\u001b[0m\u001b[0m\n\u001b[1;32m      2\u001b[0m \u001b[0;32mdef\u001b[0m \u001b[0mdisplay_network\u001b[0m\u001b[0;34m(\u001b[0m\u001b[0medge_list_dataframe\u001b[0m\u001b[0;34m)\u001b[0m\u001b[0;34m:\u001b[0m\u001b[0;34m\u001b[0m\u001b[0;34m\u001b[0m\u001b[0m\n\u001b[0;32m----> 3\u001b[0;31m     \u001b[0mgraph\u001b[0m \u001b[0;34m=\u001b[0m \u001b[0mnx\u001b[0m\u001b[0;34m.\u001b[0m\u001b[0mfrom_pandas_edgelist\u001b[0m\u001b[0;34m(\u001b[0m\u001b[0medge_list_dataframe\u001b[0m\u001b[0;34m,\u001b[0m \u001b[0medge_attr\u001b[0m\u001b[0;34m=\u001b[0m\u001b[0;32mTrue\u001b[0m\u001b[0;34m)\u001b[0m\u001b[0;34m\u001b[0m\u001b[0;34m\u001b[0m\u001b[0m\n\u001b[0m\u001b[1;32m      4\u001b[0m     options = {'node_color': 'red', 'node_size': 50, 'width': 1, 'alpha': 0.4,\n\u001b[1;32m      5\u001b[0m                'with_labels': False, 'font_weight': 'bold'}\n",
      "\u001b[0;32m~/anaconda3/lib/python3.7/site-packages/networkx/convert_matrix.py\u001b[0m in \u001b[0;36mfrom_pandas_edgelist\u001b[0;34m(df, source, target, edge_attr, create_using)\u001b[0m\n\u001b[1;32m    349\u001b[0m         \u001b[0;32melse\u001b[0m\u001b[0;34m:\u001b[0m\u001b[0;34m\u001b[0m\u001b[0;34m\u001b[0m\u001b[0m\n\u001b[1;32m    350\u001b[0m             \u001b[0mg\u001b[0m\u001b[0;34m.\u001b[0m\u001b[0madd_edge\u001b[0m\u001b[0;34m(\u001b[0m\u001b[0ms\u001b[0m\u001b[0;34m,\u001b[0m \u001b[0mt\u001b[0m\u001b[0;34m)\u001b[0m\u001b[0;34m\u001b[0m\u001b[0;34m\u001b[0m\u001b[0m\n\u001b[0;32m--> 351\u001b[0;31m             \u001b[0mg\u001b[0m\u001b[0;34m[\u001b[0m\u001b[0ms\u001b[0m\u001b[0;34m]\u001b[0m\u001b[0;34m[\u001b[0m\u001b[0mt\u001b[0m\u001b[0;34m]\u001b[0m\u001b[0;34m.\u001b[0m\u001b[0mupdate\u001b[0m\u001b[0;34m(\u001b[0m\u001b[0mzip\u001b[0m\u001b[0;34m(\u001b[0m\u001b[0mcols\u001b[0m\u001b[0;34m,\u001b[0m \u001b[0mattrs\u001b[0m\u001b[0;34m)\u001b[0m\u001b[0;34m)\u001b[0m\u001b[0;34m\u001b[0m\u001b[0;34m\u001b[0m\u001b[0m\n\u001b[0m\u001b[1;32m    352\u001b[0m \u001b[0;34m\u001b[0m\u001b[0m\n\u001b[1;32m    353\u001b[0m     \u001b[0;32mreturn\u001b[0m \u001b[0mg\u001b[0m\u001b[0;34m\u001b[0m\u001b[0;34m\u001b[0m\u001b[0m\n",
      "\u001b[0;32m~/anaconda3/lib/python3.7/site-packages/networkx/classes/graph.py\u001b[0m in \u001b[0;36m__getitem__\u001b[0;34m(self, n)\u001b[0m\n\u001b[1;32m    473\u001b[0m         \u001b[0mAtlasView\u001b[0m\u001b[0;34m(\u001b[0m\u001b[0;34m{\u001b[0m\u001b[0;36m1\u001b[0m\u001b[0;34m:\u001b[0m \u001b[0;34m{\u001b[0m\u001b[0;34m}\u001b[0m\u001b[0;34m}\u001b[0m\u001b[0;34m)\u001b[0m\u001b[0;34m\u001b[0m\u001b[0;34m\u001b[0m\u001b[0m\n\u001b[1;32m    474\u001b[0m         \"\"\"\n\u001b[0;32m--> 475\u001b[0;31m         \u001b[0;32mreturn\u001b[0m \u001b[0mself\u001b[0m\u001b[0;34m.\u001b[0m\u001b[0madj\u001b[0m\u001b[0;34m[\u001b[0m\u001b[0mn\u001b[0m\u001b[0;34m]\u001b[0m\u001b[0;34m\u001b[0m\u001b[0;34m\u001b[0m\u001b[0m\n\u001b[0m\u001b[1;32m    476\u001b[0m \u001b[0;34m\u001b[0m\u001b[0m\n\u001b[1;32m    477\u001b[0m     \u001b[0;32mdef\u001b[0m \u001b[0madd_node\u001b[0m\u001b[0;34m(\u001b[0m\u001b[0mself\u001b[0m\u001b[0;34m,\u001b[0m \u001b[0mnode_for_adding\u001b[0m\u001b[0;34m,\u001b[0m \u001b[0;34m**\u001b[0m\u001b[0mattr\u001b[0m\u001b[0;34m)\u001b[0m\u001b[0;34m:\u001b[0m\u001b[0;34m\u001b[0m\u001b[0;34m\u001b[0m\u001b[0m\n",
      "\u001b[0;32m~/anaconda3/lib/python3.7/site-packages/networkx/classes/coreviews.py\u001b[0m in \u001b[0;36m__getitem__\u001b[0;34m(self, name)\u001b[0m\n\u001b[1;32m     79\u001b[0m \u001b[0;34m\u001b[0m\u001b[0m\n\u001b[1;32m     80\u001b[0m     \u001b[0;32mdef\u001b[0m \u001b[0m__getitem__\u001b[0m\u001b[0;34m(\u001b[0m\u001b[0mself\u001b[0m\u001b[0;34m,\u001b[0m \u001b[0mname\u001b[0m\u001b[0;34m)\u001b[0m\u001b[0;34m:\u001b[0m\u001b[0;34m\u001b[0m\u001b[0;34m\u001b[0m\u001b[0m\n\u001b[0;32m---> 81\u001b[0;31m         \u001b[0;32mreturn\u001b[0m \u001b[0mAtlasView\u001b[0m\u001b[0;34m(\u001b[0m\u001b[0mself\u001b[0m\u001b[0;34m.\u001b[0m\u001b[0m_atlas\u001b[0m\u001b[0;34m[\u001b[0m\u001b[0mname\u001b[0m\u001b[0;34m]\u001b[0m\u001b[0;34m)\u001b[0m\u001b[0;34m\u001b[0m\u001b[0;34m\u001b[0m\u001b[0m\n\u001b[0m\u001b[1;32m     82\u001b[0m \u001b[0;34m\u001b[0m\u001b[0m\n\u001b[1;32m     83\u001b[0m     \u001b[0;32mdef\u001b[0m \u001b[0mcopy\u001b[0m\u001b[0;34m(\u001b[0m\u001b[0mself\u001b[0m\u001b[0;34m)\u001b[0m\u001b[0;34m:\u001b[0m\u001b[0;34m\u001b[0m\u001b[0;34m\u001b[0m\u001b[0m\n",
      "\u001b[0;32m~/anaconda3/lib/python3.7/site-packages/networkx/classes/coreviews.py\u001b[0m in \u001b[0;36m__init__\u001b[0;34m(self, d)\u001b[0m\n\u001b[1;32m     42\u001b[0m         \u001b[0mself\u001b[0m\u001b[0;34m.\u001b[0m\u001b[0m_atlas\u001b[0m \u001b[0;34m=\u001b[0m \u001b[0mstate\u001b[0m\u001b[0;34m[\u001b[0m\u001b[0;34m'_atlas'\u001b[0m\u001b[0;34m]\u001b[0m\u001b[0;34m\u001b[0m\u001b[0;34m\u001b[0m\u001b[0m\n\u001b[1;32m     43\u001b[0m \u001b[0;34m\u001b[0m\u001b[0m\n\u001b[0;32m---> 44\u001b[0;31m     \u001b[0;32mdef\u001b[0m \u001b[0m__init__\u001b[0m\u001b[0;34m(\u001b[0m\u001b[0mself\u001b[0m\u001b[0;34m,\u001b[0m \u001b[0md\u001b[0m\u001b[0;34m)\u001b[0m\u001b[0;34m:\u001b[0m\u001b[0;34m\u001b[0m\u001b[0;34m\u001b[0m\u001b[0m\n\u001b[0m\u001b[1;32m     45\u001b[0m         \u001b[0mself\u001b[0m\u001b[0;34m.\u001b[0m\u001b[0m_atlas\u001b[0m \u001b[0;34m=\u001b[0m \u001b[0md\u001b[0m\u001b[0;34m\u001b[0m\u001b[0;34m\u001b[0m\u001b[0m\n\u001b[1;32m     46\u001b[0m \u001b[0;34m\u001b[0m\u001b[0m\n",
      "\u001b[0;31mKeyboardInterrupt\u001b[0m: "
     ]
    }
   ],
   "source": [
    "%%time\n",
    "# # display network\n",
    "G = display_network(ddf)"
   ]
  },
  {
   "cell_type": "code",
   "execution_count": null,
   "metadata": {
    "colab": {},
    "colab_type": "code",
    "id": "HfNi9Bl-rcYl"
   },
   "outputs": [],
   "source": []
  }
 ],
 "metadata": {
  "colab": {
   "collapsed_sections": [],
   "include_colab_link": true,
   "machine_shape": "hm",
   "name": "FFEedgesNumbaDask.ipynb",
   "provenance": [],
   "toc_visible": true
  },
  "kernelspec": {
   "display_name": "Python 3",
   "language": "python",
   "name": "python3"
  },
  "language_info": {
   "codemirror_mode": {
    "name": "ipython",
    "version": 3
   },
   "file_extension": ".py",
   "mimetype": "text/x-python",
   "name": "python",
   "nbconvert_exporter": "python",
   "pygments_lexer": "ipython3",
   "version": "3.7.3"
  },
  "varInspector": {
   "cols": {
    "lenName": 16,
    "lenType": 16,
    "lenVar": 40
   },
   "kernels_config": {
    "python": {
     "delete_cmd_postfix": "",
     "delete_cmd_prefix": "del ",
     "library": "var_list.py",
     "varRefreshCmd": "print(var_dic_list())"
    },
    "r": {
     "delete_cmd_postfix": ") ",
     "delete_cmd_prefix": "rm(",
     "library": "var_list.r",
     "varRefreshCmd": "cat(var_dic_list()) "
    }
   },
   "position": {
    "height": "493.722px",
    "left": "793.636px",
    "right": "20px",
    "top": "120px",
    "width": "350px"
   },
   "types_to_exclude": [
    "module",
    "function",
    "builtin_function_or_method",
    "instance",
    "_Feature"
   ],
   "window_display": false
  }
 },
 "nbformat": 4,
 "nbformat_minor": 4
}
