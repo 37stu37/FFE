{
 "cells": [
  {
   "cell_type": "markdown",
   "metadata": {},
   "source": [
    "# Input libraries"
   ]
  },
  {
   "cell_type": "code",
   "execution_count": 1,
<<<<<<< HEAD
   "metadata": {},
   "outputs": [
    {
     "ename": "ModuleNotFoundError",
     "evalue": "No module named 'geoparquet'",
     "output_type": "error",
     "traceback": [
      "\u001b[1;31m---------------------------------------------------------------------------\u001b[0m",
      "\u001b[1;31mModuleNotFoundError\u001b[0m                       Traceback (most recent call last)",
      "\u001b[1;32m<ipython-input-1-af7c8c898d42>\u001b[0m in \u001b[0;36m<module>\u001b[1;34m\u001b[0m\n\u001b[0;32m      7\u001b[0m \u001b[1;32mimport\u001b[0m \u001b[0mpandas\u001b[0m \u001b[1;32mas\u001b[0m \u001b[0mpd\u001b[0m\u001b[1;33m\u001b[0m\u001b[1;33m\u001b[0m\u001b[0m\n\u001b[0;32m      8\u001b[0m \u001b[1;32mimport\u001b[0m \u001b[0mgeopandas\u001b[0m \u001b[1;32mas\u001b[0m \u001b[0mgpd\u001b[0m\u001b[1;33m\u001b[0m\u001b[1;33m\u001b[0m\u001b[0m\n\u001b[1;32m----> 9\u001b[1;33m \u001b[1;32mimport\u001b[0m \u001b[0mgeoparquet\u001b[0m \u001b[1;32mas\u001b[0m \u001b[0mgpq\u001b[0m\u001b[1;33m\u001b[0m\u001b[1;33m\u001b[0m\u001b[0m\n\u001b[0m\u001b[0;32m     10\u001b[0m \u001b[1;32mimport\u001b[0m \u001b[0mmath\u001b[0m\u001b[1;33m\u001b[0m\u001b[1;33m\u001b[0m\u001b[0m\n\u001b[0;32m     11\u001b[0m \u001b[1;32mfrom\u001b[0m \u001b[0mshapely\u001b[0m\u001b[1;33m.\u001b[0m\u001b[0mgeometry\u001b[0m \u001b[1;32mimport\u001b[0m \u001b[0mPoint\u001b[0m\u001b[1;33m\u001b[0m\u001b[1;33m\u001b[0m\u001b[0m\n",
      "\u001b[1;31mModuleNotFoundError\u001b[0m: No module named 'geoparquet'"
     ]
=======
   "metadata": {
    "ExecuteTime": {
     "end_time": "2020-08-26T11:04:52.754894Z",
     "start_time": "2020-08-26T11:04:49.643768Z"
>>>>>>> 517462c0584687d78eb4cfe34e5c6f1ab2f2bb22
    }
   ],
   "source": [
    "from IPython.core.interactiveshell import InteractiveShell\n",
    "import glob\n",
    "from math import sqrt\n",
    "import matplotlib.pyplot as plt\n",
    "from matplotlib.pyplot import imshow\n",
    "import numpy as np\n",
    "import pandas as pd\n",
    "import geopandas as gpd\n",
    "import geoparquet as gpq\n",
    "import math\n",
    "from shapely.geometry import Point\n",
    "\n",
    "import dask.dataframe as dd\n",
    "from dask.diagnostics import ProgressBar\n",
    "import dask_geopandas as dg\n",
    "\n",
    "\n",
    "from pathlib import Path\n",
    "import os\n",
    "import glob\n",
    "\n",
    "import re\n",
    "from tqdm.notebook import tqdm\n",
    "\n",
    "%matplotlib inline\n",
    "InteractiveShell.ast_node_interactivity = \"all\"\n",
    "\n",
    "pbar = ProgressBar()\n",
    "pbar.register()"
   ]
  },
  {
   "cell_type": "markdown",
   "metadata": {},
   "source": [
    "# Input data"
   ]
  },
  {
   "cell_type": "markdown",
   "metadata": {},
   "source": [
    "### sa data"
   ]
  },
  {
   "cell_type": "code",
<<<<<<< HEAD
   "execution_count": 0,
   "metadata": {},
   "outputs": [],
=======
   "execution_count": 2,
   "metadata": {
    "ExecuteTime": {
     "end_time": "2020-08-26T11:04:53.156815Z",
     "start_time": "2020-08-26T11:04:52.758061Z"
    },
    "collapsed": true,
    "tags": []
   },
   "outputs": [
    {
     "data": {
      "text/html": [
       "<div>\n",
       "<style scoped>\n",
       "    .dataframe tbody tr th:only-of-type {\n",
       "        vertical-align: middle;\n",
       "    }\n",
       "\n",
       "    .dataframe tbody tr th {\n",
       "        vertical-align: top;\n",
       "    }\n",
       "\n",
       "    .dataframe thead th {\n",
       "        text-align: right;\n",
       "    }\n",
       "</style>\n",
       "<table border=\"1\" class=\"dataframe\">\n",
       "  <thead>\n",
       "    <tr style=\"text-align: right;\">\n",
       "      <th></th>\n",
       "      <th>OBJECTID</th>\n",
       "      <th>SA22018_V1</th>\n",
       "      <th>SA22018__1</th>\n",
       "      <th>LAND_AREA_</th>\n",
       "      <th>AREA_SQ_KM</th>\n",
       "      <th>Pop_Total_</th>\n",
       "      <th>SA2_ID</th>\n",
       "      <th>PopDensity</th>\n",
       "      <th>BldgFloor_</th>\n",
       "      <th>BldgFloo_1</th>\n",
       "      <th>...</th>\n",
       "      <th>WellWHV__5</th>\n",
       "      <th>WellWHV__6</th>\n",
       "      <th>WellWHV__7</th>\n",
       "      <th>WellWHV_ps</th>\n",
       "      <th>WellWHV__8</th>\n",
       "      <th>WellWHV__9</th>\n",
       "      <th>WellWHV_10</th>\n",
       "      <th>HikWgtnM23</th>\n",
       "      <th>HikWgtnM24</th>\n",
       "      <th>geometry</th>\n",
       "    </tr>\n",
       "  </thead>\n",
       "  <tbody>\n",
       "    <tr>\n",
       "      <th>0</th>\n",
       "      <td>1.0</td>\n",
       "      <td>247600</td>\n",
       "      <td>Tawa North</td>\n",
       "      <td>1.444049</td>\n",
       "      <td>1.444049</td>\n",
       "      <td>3189</td>\n",
       "      <td>1</td>\n",
       "      <td>2208</td>\n",
       "      <td>2341.796350</td>\n",
       "      <td>0.217560</td>\n",
       "      <td>...</td>\n",
       "      <td>2.123778e+06</td>\n",
       "      <td>0.42</td>\n",
       "      <td>15937352.47</td>\n",
       "      <td>3.54</td>\n",
       "      <td>5.451350e+07</td>\n",
       "      <td>13.983333</td>\n",
       "      <td>1.710598e+08</td>\n",
       "      <td>9.32</td>\n",
       "      <td>1.332078e+08</td>\n",
       "      <td>POLYGON ((1753366.394 5441813.387, 1753328.463...</td>\n",
       "    </tr>\n",
       "    <tr>\n",
       "      <th>1</th>\n",
       "      <td>2.0</td>\n",
       "      <td>249400</td>\n",
       "      <td>Karori Park</td>\n",
       "      <td>2.027442</td>\n",
       "      <td>2.027442</td>\n",
       "      <td>4566</td>\n",
       "      <td>2</td>\n",
       "      <td>2252</td>\n",
       "      <td>3173.889681</td>\n",
       "      <td>0.294864</td>\n",
       "      <td>...</td>\n",
       "      <td>4.103537e+06</td>\n",
       "      <td>1.62</td>\n",
       "      <td>36955133.95</td>\n",
       "      <td>7.80</td>\n",
       "      <td>9.732117e+07</td>\n",
       "      <td>16.500000</td>\n",
       "      <td>1.870509e+08</td>\n",
       "      <td>10.77</td>\n",
       "      <td>1.485606e+08</td>\n",
       "      <td>POLYGON ((1744852.500 5427971.793, 1744716.795...</td>\n",
       "    </tr>\n",
       "    <tr>\n",
       "      <th>2</th>\n",
       "      <td>3.0</td>\n",
       "      <td>250200</td>\n",
       "      <td>Khandallah South</td>\n",
       "      <td>0.725088</td>\n",
       "      <td>0.725088</td>\n",
       "      <td>2004</td>\n",
       "      <td>3</td>\n",
       "      <td>2764</td>\n",
       "      <td>2025.907871</td>\n",
       "      <td>0.188213</td>\n",
       "      <td>...</td>\n",
       "      <td>1.781384e+07</td>\n",
       "      <td>1.67</td>\n",
       "      <td>75258478.89</td>\n",
       "      <td>9.21</td>\n",
       "      <td>2.020968e+08</td>\n",
       "      <td>22.666667</td>\n",
       "      <td>3.023940e+08</td>\n",
       "      <td>12.73</td>\n",
       "      <td>2.586615e+08</td>\n",
       "      <td>POLYGON ((1750419.007 5431758.906, 1750362.620...</td>\n",
       "    </tr>\n",
       "    <tr>\n",
       "      <th>3</th>\n",
       "      <td>4.0</td>\n",
       "      <td>250500</td>\n",
       "      <td>Onslow</td>\n",
       "      <td>0.767955</td>\n",
       "      <td>0.767955</td>\n",
       "      <td>1818</td>\n",
       "      <td>4</td>\n",
       "      <td>2367</td>\n",
       "      <td>1424.119168</td>\n",
       "      <td>0.132305</td>\n",
       "      <td>...</td>\n",
       "      <td>1.781841e+07</td>\n",
       "      <td>2.06</td>\n",
       "      <td>83115501.63</td>\n",
       "      <td>8.87</td>\n",
       "      <td>1.724559e+08</td>\n",
       "      <td>21.066667</td>\n",
       "      <td>2.288477e+08</td>\n",
       "      <td>11.53</td>\n",
       "      <td>1.973500e+08</td>\n",
       "      <td>POLYGON ((1751331.976 5432513.968, 1751386.822...</td>\n",
       "    </tr>\n",
       "    <tr>\n",
       "      <th>4</th>\n",
       "      <td>5.0</td>\n",
       "      <td>251000</td>\n",
       "      <td>Wellington Botanic Gardens</td>\n",
       "      <td>0.525400</td>\n",
       "      <td>0.525400</td>\n",
       "      <td>1119</td>\n",
       "      <td>5</td>\n",
       "      <td>2130</td>\n",
       "      <td>940.916465</td>\n",
       "      <td>0.087414</td>\n",
       "      <td>...</td>\n",
       "      <td>4.765264e+06</td>\n",
       "      <td>1.64</td>\n",
       "      <td>53492626.72</td>\n",
       "      <td>7.12</td>\n",
       "      <td>1.094211e+08</td>\n",
       "      <td>13.216667</td>\n",
       "      <td>1.284215e+08</td>\n",
       "      <td>10.84</td>\n",
       "      <td>1.236066e+08</td>\n",
       "      <td>POLYGON ((1748516.704 5428769.002, 1748516.708...</td>\n",
       "    </tr>\n",
       "    <tr>\n",
       "      <th>...</th>\n",
       "      <td>...</td>\n",
       "      <td>...</td>\n",
       "      <td>...</td>\n",
       "      <td>...</td>\n",
       "      <td>...</td>\n",
       "      <td>...</td>\n",
       "      <td>...</td>\n",
       "      <td>...</td>\n",
       "      <td>...</td>\n",
       "      <td>...</td>\n",
       "      <td>...</td>\n",
       "      <td>...</td>\n",
       "      <td>...</td>\n",
       "      <td>...</td>\n",
       "      <td>...</td>\n",
       "      <td>...</td>\n",
       "      <td>...</td>\n",
       "      <td>...</td>\n",
       "      <td>...</td>\n",
       "      <td>...</td>\n",
       "      <td>...</td>\n",
       "    </tr>\n",
       "    <tr>\n",
       "      <th>71</th>\n",
       "      <td>72.0</td>\n",
       "      <td>254600</td>\n",
       "      <td>Karaka Bay-Worser Bay</td>\n",
       "      <td>0.674159</td>\n",
       "      <td>0.674159</td>\n",
       "      <td>1503</td>\n",
       "      <td>72</td>\n",
       "      <td>2229</td>\n",
       "      <td>1417.951447</td>\n",
       "      <td>0.131732</td>\n",
       "      <td>...</td>\n",
       "      <td>4.971323e+06</td>\n",
       "      <td>0.84</td>\n",
       "      <td>25511233.80</td>\n",
       "      <td>6.05</td>\n",
       "      <td>8.703859e+07</td>\n",
       "      <td>13.000000</td>\n",
       "      <td>1.451010e+08</td>\n",
       "      <td>13.07</td>\n",
       "      <td>1.516864e+08</td>\n",
       "      <td>POLYGON ((1753314.360 5425868.100, 1753324.786...</td>\n",
       "    </tr>\n",
       "    <tr>\n",
       "      <th>72</th>\n",
       "      <td>73.0</td>\n",
       "      <td>254700</td>\n",
       "      <td>Houghton Bay</td>\n",
       "      <td>1.287949</td>\n",
       "      <td>1.287949</td>\n",
       "      <td>1677</td>\n",
       "      <td>73</td>\n",
       "      <td>1302</td>\n",
       "      <td>1152.943973</td>\n",
       "      <td>0.107112</td>\n",
       "      <td>...</td>\n",
       "      <td>5.151409e+05</td>\n",
       "      <td>0.37</td>\n",
       "      <td>3877849.70</td>\n",
       "      <td>4.74</td>\n",
       "      <td>4.352814e+07</td>\n",
       "      <td>13.633333</td>\n",
       "      <td>9.549170e+07</td>\n",
       "      <td>13.23</td>\n",
       "      <td>9.472365e+07</td>\n",
       "      <td>POLYGON ((1749820.120 5423262.735, 1749790.522...</td>\n",
       "    </tr>\n",
       "    <tr>\n",
       "      <th>73</th>\n",
       "      <td>74.0</td>\n",
       "      <td>255000</td>\n",
       "      <td>Rongotai</td>\n",
       "      <td>1.923700</td>\n",
       "      <td>1.923700</td>\n",
       "      <td>48</td>\n",
       "      <td>74</td>\n",
       "      <td>25</td>\n",
       "      <td>1652.852264</td>\n",
       "      <td>0.153555</td>\n",
       "      <td>...</td>\n",
       "      <td>1.956236e+05</td>\n",
       "      <td>0.50</td>\n",
       "      <td>491653.54</td>\n",
       "      <td>4.41</td>\n",
       "      <td>6.990136e+06</td>\n",
       "      <td>15.616667</td>\n",
       "      <td>2.400535e+07</td>\n",
       "      <td>11.06</td>\n",
       "      <td>1.701399e+07</td>\n",
       "      <td>POLYGON ((1751454.143 5424576.656, 1751437.292...</td>\n",
       "    </tr>\n",
       "    <tr>\n",
       "      <th>74</th>\n",
       "      <td>75.0</td>\n",
       "      <td>255100</td>\n",
       "      <td>Strathmore (Wellington City)</td>\n",
       "      <td>1.482935</td>\n",
       "      <td>1.482935</td>\n",
       "      <td>3828</td>\n",
       "      <td>75</td>\n",
       "      <td>2581</td>\n",
       "      <td>2482.082395</td>\n",
       "      <td>0.230593</td>\n",
       "      <td>...</td>\n",
       "      <td>5.437556e+06</td>\n",
       "      <td>0.41</td>\n",
       "      <td>21345541.92</td>\n",
       "      <td>3.48</td>\n",
       "      <td>7.213101e+07</td>\n",
       "      <td>10.850000</td>\n",
       "      <td>1.697701e+08</td>\n",
       "      <td>12.09</td>\n",
       "      <td>1.860881e+08</td>\n",
       "      <td>POLYGON ((1753062.244 5423610.494, 1753054.409...</td>\n",
       "    </tr>\n",
       "    <tr>\n",
       "      <th>75</th>\n",
       "      <td>76.0</td>\n",
       "      <td>255200</td>\n",
       "      <td>Seatoun</td>\n",
       "      <td>1.326919</td>\n",
       "      <td>1.326919</td>\n",
       "      <td>2319</td>\n",
       "      <td>76</td>\n",
       "      <td>1748</td>\n",
       "      <td>2358.857148</td>\n",
       "      <td>0.219145</td>\n",
       "      <td>...</td>\n",
       "      <td>9.333842e+06</td>\n",
       "      <td>0.62</td>\n",
       "      <td>32091577.46</td>\n",
       "      <td>4.75</td>\n",
       "      <td>9.726538e+07</td>\n",
       "      <td>15.683333</td>\n",
       "      <td>2.165873e+08</td>\n",
       "      <td>13.86</td>\n",
       "      <td>1.964269e+08</td>\n",
       "      <td>POLYGON ((1753205.850 5424247.635, 1753152.246...</td>\n",
       "    </tr>\n",
       "  </tbody>\n",
       "</table>\n",
       "<p>76 rows × 82 columns</p>\n",
       "</div>"
      ],
      "text/plain": [
       "    OBJECTID SA22018_V1                    SA22018__1  LAND_AREA_  AREA_SQ_KM  \\\n",
       "0        1.0     247600                    Tawa North    1.444049    1.444049   \n",
       "1        2.0     249400                   Karori Park    2.027442    2.027442   \n",
       "2        3.0     250200              Khandallah South    0.725088    0.725088   \n",
       "3        4.0     250500                        Onslow    0.767955    0.767955   \n",
       "4        5.0     251000    Wellington Botanic Gardens    0.525400    0.525400   \n",
       "..       ...        ...                           ...         ...         ...   \n",
       "71      72.0     254600         Karaka Bay-Worser Bay    0.674159    0.674159   \n",
       "72      73.0     254700                  Houghton Bay    1.287949    1.287949   \n",
       "73      74.0     255000                      Rongotai    1.923700    1.923700   \n",
       "74      75.0     255100  Strathmore (Wellington City)    1.482935    1.482935   \n",
       "75      76.0     255200                       Seatoun    1.326919    1.326919   \n",
       "\n",
       "    Pop_Total_  SA2_ID  PopDensity   BldgFloor_  BldgFloo_1  ...  \\\n",
       "0         3189       1        2208  2341.796350    0.217560  ...   \n",
       "1         4566       2        2252  3173.889681    0.294864  ...   \n",
       "2         2004       3        2764  2025.907871    0.188213  ...   \n",
       "3         1818       4        2367  1424.119168    0.132305  ...   \n",
       "4         1119       5        2130   940.916465    0.087414  ...   \n",
       "..         ...     ...         ...          ...         ...  ...   \n",
       "71        1503      72        2229  1417.951447    0.131732  ...   \n",
       "72        1677      73        1302  1152.943973    0.107112  ...   \n",
       "73          48      74          25  1652.852264    0.153555  ...   \n",
       "74        3828      75        2581  2482.082395    0.230593  ...   \n",
       "75        2319      76        1748  2358.857148    0.219145  ...   \n",
       "\n",
       "      WellWHV__5  WellWHV__6   WellWHV__7  WellWHV_ps    WellWHV__8  \\\n",
       "0   2.123778e+06        0.42  15937352.47        3.54  5.451350e+07   \n",
       "1   4.103537e+06        1.62  36955133.95        7.80  9.732117e+07   \n",
       "2   1.781384e+07        1.67  75258478.89        9.21  2.020968e+08   \n",
       "3   1.781841e+07        2.06  83115501.63        8.87  1.724559e+08   \n",
       "4   4.765264e+06        1.64  53492626.72        7.12  1.094211e+08   \n",
       "..           ...         ...          ...         ...           ...   \n",
       "71  4.971323e+06        0.84  25511233.80        6.05  8.703859e+07   \n",
       "72  5.151409e+05        0.37   3877849.70        4.74  4.352814e+07   \n",
       "73  1.956236e+05        0.50    491653.54        4.41  6.990136e+06   \n",
       "74  5.437556e+06        0.41  21345541.92        3.48  7.213101e+07   \n",
       "75  9.333842e+06        0.62  32091577.46        4.75  9.726538e+07   \n",
       "\n",
       "    WellWHV__9    WellWHV_10  HikWgtnM23    HikWgtnM24  \\\n",
       "0    13.983333  1.710598e+08        9.32  1.332078e+08   \n",
       "1    16.500000  1.870509e+08       10.77  1.485606e+08   \n",
       "2    22.666667  3.023940e+08       12.73  2.586615e+08   \n",
       "3    21.066667  2.288477e+08       11.53  1.973500e+08   \n",
       "4    13.216667  1.284215e+08       10.84  1.236066e+08   \n",
       "..         ...           ...         ...           ...   \n",
       "71   13.000000  1.451010e+08       13.07  1.516864e+08   \n",
       "72   13.633333  9.549170e+07       13.23  9.472365e+07   \n",
       "73   15.616667  2.400535e+07       11.06  1.701399e+07   \n",
       "74   10.850000  1.697701e+08       12.09  1.860881e+08   \n",
       "75   15.683333  2.165873e+08       13.86  1.964269e+08   \n",
       "\n",
       "                                             geometry  \n",
       "0   POLYGON ((1753366.394 5441813.387, 1753328.463...  \n",
       "1   POLYGON ((1744852.500 5427971.793, 1744716.795...  \n",
       "2   POLYGON ((1750419.007 5431758.906, 1750362.620...  \n",
       "3   POLYGON ((1751331.976 5432513.968, 1751386.822...  \n",
       "4   POLYGON ((1748516.704 5428769.002, 1748516.708...  \n",
       "..                                                ...  \n",
       "71  POLYGON ((1753314.360 5425868.100, 1753324.786...  \n",
       "72  POLYGON ((1749820.120 5423262.735, 1749790.522...  \n",
       "73  POLYGON ((1751454.143 5424576.656, 1751437.292...  \n",
       "74  POLYGON ((1753062.244 5423610.494, 1753054.409...  \n",
       "75  POLYGON ((1753205.850 5424247.635, 1753152.246...  \n",
       "\n",
       "[76 rows x 82 columns]"
      ]
     },
     "execution_count": 2,
     "metadata": {},
     "output_type": "execute_result"
    }
   ],
>>>>>>> 517462c0584687d78eb4cfe34e5c6f1ab2f2bb22
   "source": [
    "sa = gpd.read_file('data/shapefile/Finn_SA2Summary.shp')\n",
    "sa.to_crs(\"EPSG:2193\")\n",
    "sa = sa[['BldgFloo_1', 'PopDensity', 'NumberBldg', 'geometry']] # drop column not used in caluclation of Ignition\n",
    "sa = gpd.GeoDataFrame(sa)"
   ]
  },
  {
   "cell_type": "markdown",
   "metadata": {},
   "source": [
    "### pga data"
   ]
  },
  {
   "cell_type": "code",
<<<<<<< HEAD
   "execution_count": 0,
   "metadata": {},
=======
   "execution_count": 3,
   "metadata": {
    "ExecuteTime": {
     "end_time": "2020-08-26T11:08:16.138998Z",
     "start_time": "2020-08-26T11:04:53.168109Z"
    },
    "tags": []
   },
>>>>>>> 517462c0584687d78eb4cfe34e5c6f1ab2f2bb22
   "outputs": [],
   "source": [
    "pga = pd.read_parquet('/Users/alex/Dropbox/Work/Repository/OpenQuake/output/PGAxy.parquet')\n",
    "pga = gpd.GeoDataFrame(pga, geometry=gpd.points_from_xy(pga.lon, pga.lat, crs=\"EPSG:2193\"))"
   ]
  },
  {
   "cell_type": "markdown",
   "metadata": {},
   "source": [
    "# Merge SA data with PGA events "
   ]
  },
  {
   "cell_type": "code",
<<<<<<< HEAD
   "execution_count": 0,
   "metadata": {},
   "outputs": [],
=======
   "execution_count": 4,
   "metadata": {
    "ExecuteTime": {
     "end_time": "2020-08-26T11:42:52.389769Z",
     "start_time": "2020-08-26T11:08:16.146175Z"
    },
    "tags": []
   },
   "outputs": [
    {
     "name": "stderr",
     "output_type": "stream",
     "text": [
      "/Users/alex/anaconda3/lib/python3.7/site-packages/ipykernel_launcher.py:1: UserWarning: CRS mismatch between the CRS of left geometries and the CRS of right geometries.\n",
      "Use `to_crs()` to reproject one of the input geometries to match the CRS of the other.\n",
      "\n",
      "Left CRS: EPSG:2193\n",
      "Right CRS: PROJCS[\"NZGD2000_New_Zealand_Transverse_Mercator_2 ...\n",
      "\n",
      "  \"\"\"Entry point for launching an IPython kernel.\n"
     ]
    }
   ],
>>>>>>> 517462c0584687d78eb4cfe34e5c6f1ab2f2bb22
   "source": [
    "PGA_SA = gpd.sjoin(pga, sa, op=\"within\")"
   ]
  },
  {
   "cell_type": "markdown",
   "metadata": {},
   "source": [
    "# Calculate Ignition probability"
   ]
  },
  {
   "cell_type": "code",
   "execution_count": 13,
   "metadata": {
    "ExecuteTime": {
     "end_time": "2020-08-26T21:47:40.538360Z",
     "start_time": "2020-08-26T21:47:40.484650Z"
    }
   },
   "outputs": [
    {
     "name": "stdout",
     "output_type": "stream",
     "text": [
      "<class 'geopandas.geodataframe.GeoDataFrame'>\n",
      "Int64Index: 20336384 entries, 0 to 400841\n",
      "Data columns (total 10 columns):\n",
      " #   Column       Dtype   \n",
      "---  ------       -----   \n",
      " 0   event_id     int64   \n",
      " 1   site_id      int64   \n",
      " 2   gmv_PGA      float64 \n",
      " 3   lon          float64 \n",
      " 4   lat          float64 \n",
      " 5   geometry     geometry\n",
      " 6   index_right  int64   \n",
      " 7   BldgFloo_1   float64 \n",
      " 8   PopDensity   int64   \n",
      " 9   NumberBldg   int64   \n",
      "dtypes: float64(4), geometry(1), int64(5)\n",
      "memory usage: 1.7 GB\n"
     ]
    }
   ],
   "source": [
    "PGA_SA.info()"
   ]
  },
  {
   "cell_type": "code",
   "execution_count": 11,
   "metadata": {
    "ExecuteTime": {
     "end_time": "2020-08-26T21:07:41.109618Z",
     "start_time": "2020-08-26T21:07:41.085232Z"
    },
    "code_folding": []
   },
   "outputs": [],
   "source": [
    "import math\n",
    "\n",
    "const = -6.755\n",
    "pgaC = 8.463\n",
    "pdC = 0.0000984\n",
    "sfC = 0.0001523\n",
    "\n",
    "\n",
    "def SA_Ignition_Probability(merge_data):\n",
    "\n",
    "    merge_data['SA_IgnPrb'] = 1 / (1 + math.exp(-1 * const + pgaC + merge_data['gmv_PGA'] + pdC + merge_data['PopDensity'] + sfC + merge_data['BldgFloo_1']))\n",
    "\n",
    "    merge_data['IgnProb'] = 1 - math.pow(1 - merge_data['SA_IgnPrb'] + 1.0 / merge_data['NumberBldg'])\n",
    "\n",
    "    return merge_data"
   ]
  },
  {
   "cell_type": "code",
   "execution_count": 12,
   "metadata": {
    "ExecuteTime": {
     "end_time": "2020-08-26T21:07:41.886634Z",
     "start_time": "2020-08-26T21:07:41.840046Z"
    },
    "code_folding": []
   },
   "outputs": [
    {
     "ename": "TypeError",
     "evalue": "'method' object is not subscriptable",
     "output_type": "error",
     "traceback": [
      "\u001b[0;31m---------------------------------------------------------------------------\u001b[0m",
      "\u001b[0;31mTypeError\u001b[0m                                 Traceback (most recent call last)",
      "\u001b[0;32m<ipython-input-12-40f7d7be2599>\u001b[0m in \u001b[0;36m<module>\u001b[0;34m\u001b[0m\n\u001b[0;32m----> 1\u001b[0;31m \u001b[0mIgnitionData\u001b[0m \u001b[0;34m=\u001b[0m \u001b[0mSA_Ignition_Probability\u001b[0m\u001b[0;34m(\u001b[0m\u001b[0mPGA_SA\u001b[0m\u001b[0;34m.\u001b[0m\u001b[0mhead\u001b[0m\u001b[0;34m)\u001b[0m\u001b[0;34m\u001b[0m\u001b[0;34m\u001b[0m\u001b[0m\n\u001b[0m",
      "\u001b[0;32m<ipython-input-11-7dac9ca194fa>\u001b[0m in \u001b[0;36mSA_Ignition_Probability\u001b[0;34m(merge_data)\u001b[0m\n\u001b[1;32m      9\u001b[0m \u001b[0;32mdef\u001b[0m \u001b[0mSA_Ignition_Probability\u001b[0m\u001b[0;34m(\u001b[0m\u001b[0mmerge_data\u001b[0m\u001b[0;34m)\u001b[0m\u001b[0;34m:\u001b[0m\u001b[0;34m\u001b[0m\u001b[0;34m\u001b[0m\u001b[0m\n\u001b[1;32m     10\u001b[0m \u001b[0;34m\u001b[0m\u001b[0m\n\u001b[0;32m---> 11\u001b[0;31m     \u001b[0mmerge_data\u001b[0m\u001b[0;34m[\u001b[0m\u001b[0;34m'SA_IgnPrb'\u001b[0m\u001b[0;34m]\u001b[0m \u001b[0;34m=\u001b[0m \u001b[0;36m1\u001b[0m \u001b[0;34m/\u001b[0m \u001b[0;34m(\u001b[0m\u001b[0;36m1\u001b[0m \u001b[0;34m+\u001b[0m \u001b[0mnp\u001b[0m\u001b[0;34m.\u001b[0m\u001b[0mexp\u001b[0m\u001b[0;34m(\u001b[0m\u001b[0;34m-\u001b[0m\u001b[0;36m1\u001b[0m \u001b[0;34m*\u001b[0m \u001b[0mconst\u001b[0m \u001b[0;34m+\u001b[0m \u001b[0mpgaC\u001b[0m \u001b[0;34m+\u001b[0m \u001b[0mmerge_data\u001b[0m\u001b[0;34m[\u001b[0m\u001b[0;34m'gmv_PGA'\u001b[0m\u001b[0;34m]\u001b[0m \u001b[0;34m+\u001b[0m \u001b[0mpdC\u001b[0m \u001b[0;34m+\u001b[0m \u001b[0mmerge_data\u001b[0m\u001b[0;34m[\u001b[0m\u001b[0;34m'PopDensity'\u001b[0m\u001b[0;34m]\u001b[0m \u001b[0;34m+\u001b[0m \u001b[0msfC\u001b[0m \u001b[0;34m+\u001b[0m \u001b[0mmerge_data\u001b[0m\u001b[0;34m[\u001b[0m\u001b[0;34m'BldgFloo_1'\u001b[0m\u001b[0;34m]\u001b[0m\u001b[0;34m)\u001b[0m\u001b[0;34m)\u001b[0m\u001b[0;34m\u001b[0m\u001b[0;34m\u001b[0m\u001b[0m\n\u001b[0m\u001b[1;32m     12\u001b[0m \u001b[0;34m\u001b[0m\u001b[0m\n\u001b[1;32m     13\u001b[0m     \u001b[0mmerge_data\u001b[0m\u001b[0;34m[\u001b[0m\u001b[0;34m'IgnProb'\u001b[0m\u001b[0;34m]\u001b[0m \u001b[0;34m=\u001b[0m \u001b[0;36m1\u001b[0m \u001b[0;34m-\u001b[0m \u001b[0mnp\u001b[0m\u001b[0;34m.\u001b[0m\u001b[0mpower\u001b[0m\u001b[0;34m(\u001b[0m\u001b[0;36m1\u001b[0m \u001b[0;34m-\u001b[0m \u001b[0mmerge_data\u001b[0m\u001b[0;34m[\u001b[0m\u001b[0;34m'SA_IgnPrb'\u001b[0m\u001b[0;34m]\u001b[0m\u001b[0;34m,\u001b[0m \u001b[0;34m+\u001b[0m \u001b[0;36m1.0\u001b[0m \u001b[0;34m/\u001b[0m \u001b[0mmerge_data\u001b[0m\u001b[0;34m[\u001b[0m\u001b[0;34m'NumberBldg'\u001b[0m\u001b[0;34m]\u001b[0m\u001b[0;34m)\u001b[0m\u001b[0;34m\u001b[0m\u001b[0;34m\u001b[0m\u001b[0m\n",
      "\u001b[0;31mTypeError\u001b[0m: 'method' object is not subscriptable"
     ]
    }
   ],
   "source": [
    "IgnitionData = SA_Ignition_Probability(PGA_SA.head)"
   ]
  },
  {
   "cell_type": "markdown",
   "metadata": {},
   "source": [
    "# Save to file"
   ]
  },
  {
   "cell_type": "code",
   "execution_count": null,
   "metadata": {
    "ExecuteTime": {
     "end_time": "2020-08-26T11:42:53.392710Z",
     "start_time": "2020-08-26T11:04:49.695Z"
    }
   },
   "outputs": [],
   "source": [
    "IgnitionData.drop(['lon', 'lat', 'index_right', \\\n",
    "                   'BldgFloo_1', 'PopDensity', 'NumberBldg'], \\\n",
    "                  axis=1, \\\n",
    "                 inplace=True)"
   ]
  },
  {
   "cell_type": "code",
   "execution_count": null,
   "metadata": {
    "ExecuteTime": {
     "end_time": "2020-08-26T11:42:53.396962Z",
     "start_time": "2020-08-26T11:04:49.700Z"
    }
   },
   "outputs": [],
   "source": [
    "IgnitionData.head()"
   ]
  },
  {
   "cell_type": "code",
   "execution_count": null,
   "metadata": {
    "ExecuteTime": {
     "end_time": "2020-08-26T11:42:53.407739Z",
     "start_time": "2020-08-26T11:04:49.718Z"
    }
   },
   "outputs": [],
   "source": [
    "p_event = Path('/Users/alex/Dropbox/Work/GNS/008_FFE/ProbaFFE/PGA_event')\n",
    "\n",
    "for event in range(1001):#(IgnitionData['event_id'].max()):\n",
    "    print(f\"event {event}\")\n",
    "        i_data = IgnitionData[IgnitionData['event_id']==event]\n",
    "        i_data.to_file(str(p_event) + f\"/event_{event}.shp\")"
   ]
  },
  {
   "cell_type": "code",
   "execution_count": null,
   "metadata": {
    "ExecuteTime": {
     "end_time": "2020-08-26T11:42:53.413133Z",
     "start_time": "2020-08-26T11:04:49.720Z"
    }
   },
   "outputs": [],
   "source": [
    "!du -sh /Users/alex/Dropbox/Work/GNS/008_FFE/ProbaFFE/PGA_event"
   ]
  },
  {
   "cell_type": "code",
   "execution_count": null,
   "metadata": {},
   "outputs": [],
   "source": []
  }
 ],
 "metadata": {
  "kernelspec": {
   "display_name": "Python 3",
   "language": "python",
   "name": "python3"
  },
  "language_info": {
   "codemirror_mode": {
    "name": "ipython",
    "version": 3
   },
   "file_extension": ".py",
   "mimetype": "text/x-python",
   "name": "python",
   "nbconvert_exporter": "python",
   "pygments_lexer": "ipython3",
   "version": "3.7.4-final"
  },
  "varInspector": {
   "cols": {
    "lenName": 16,
    "lenType": 16,
    "lenVar": 40
   },
   "kernels_config": {
    "python": {
     "delete_cmd_postfix": "",
     "delete_cmd_prefix": "del ",
     "library": "var_list.py",
     "varRefreshCmd": "print(var_dic_list())"
    },
    "r": {
     "delete_cmd_postfix": ") ",
     "delete_cmd_prefix": "rm(",
     "library": "var_list.r",
     "varRefreshCmd": "cat(var_dic_list()) "
    }
   },
   "oldHeight": 220.72436399999998,
   "position": {
    "height": "242.699px",
    "left": "513.804px",
    "right": "20px",
    "top": "94.9858px",
    "width": "350px"
   },
   "types_to_exclude": [
    "module",
    "function",
    "builtin_function_or_method",
    "instance",
    "_Feature"
   ],
   "varInspector_section_display": "block",
   "window_display": true
  }
 },
 "nbformat": 4,
 "nbformat_minor": 2
}