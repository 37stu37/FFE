{
  "nbformat": 4,
  "nbformat_minor": 0,
  "metadata": {
    "kernelspec": {
      "name": "python3",
      "display_name": "Python 3"
    },
    "language_info": {
      "codemirror_mode": {
        "name": "ipython",
        "version": 3
      },
      "file_extension": ".py",
      "mimetype": "text/x-python",
      "name": "python",
      "nbconvert_exporter": "python",
      "pygments_lexer": "ipython3",
      "version": "3.6.6"
    },
    "colab": {
      "name": "Celular Automaton for Wildfires.ipynb",
      "provenance": [],
      "include_colab_link": true
    },
    "accelerator": "GPU"
  },
  "cells": [
    {
      "cell_type": "markdown",
      "metadata": {
        "id": "view-in-github",
        "colab_type": "text"
      },
      "source": [
        "<a href=\"https://colab.research.google.com/github/37stu37/FFE/blob/master/Celular%20Automaton%20for%20Wildfires.ipynb\" target=\"_parent\"><img src=\"https://colab.research.google.com/assets/colab-badge.svg\" alt=\"Open In Colab\"/></a>"
      ]
    },
    {
      "cell_type": "code",
      "metadata": {
        "id": "AXNRLO1CixX9",
        "colab_type": "code",
        "colab": {}
      },
      "source": [
        "%%time \n",
        "!apt update\n",
        "!apt upgrade\n",
        "!apt install gdal-bin python-gdal python3-gdal \n",
        "# Install rtree - Geopandas requirment\n",
        "!apt install python3-rtree \n",
        "# Install Geopandas\n",
        "!pip install git+git://github.com/geopandas/geopandas.git\n",
        "# Install descartes - Geopandas requirment\n",
        "!pip install descartes "
      ],
      "execution_count": 0,
      "outputs": []
    },
    {
      "cell_type": "code",
      "metadata": {
        "id": "nDsSqkTqi6AA",
        "colab_type": "code",
        "colab": {}
      },
      "source": [
        "import os\n",
        "import geopandas as gpd\n",
        "import matplotlib.pyplot as plt"
      ],
      "execution_count": 0,
      "outputs": []
    },
    {
      "cell_type": "code",
      "metadata": {
        "id": "uPA4ywxbv7TJ",
        "colab_type": "code",
        "outputId": "ff17be85-27c3-4894-8f0e-0c0af382ebb2",
        "colab": {
          "base_uri": "https://localhost:8080/",
          "height": 34
        }
      },
      "source": [
        "# Load the Drive helper and mount\n",
        "from google.colab import drive\n",
        "# This will prompt for authorization.\n",
        "drive.mount('/content/drive')"
      ],
      "execution_count": 35,
      "outputs": [
        {
          "output_type": "stream",
          "text": [
            "Drive already mounted at /content/drive; to attempt to forcibly remount, call drive.mount(\"/content/drive\", force_remount=True).\n"
          ],
          "name": "stdout"
        }
      ]
    },
    {
      "cell_type": "code",
      "metadata": {
        "id": "4nTDFxulDVyL",
        "colab_type": "code",
        "outputId": "a2ff71f0-1177-4ae4-c0e3-2382fb874e0d",
        "colab": {
          "base_uri": "https://localhost:8080/",
          "height": 136
        }
      },
      "source": [
        "!ls '/content/drive/My Drive/04_Cloud/01_Work/GNS/008_FFE'"
      ],
      "execution_count": 36,
      "outputs": [
        {
          "output_type": "stream",
          "text": [
            "buildingsFootprints.cpg  FuelMap.cpg\t    log_rasterize.txt  Welly_region.cpg\n",
            "buildingsFootprints.dbf  FuelMap.dbf\t    merge.dbf\t       Welly_region.dbf\n",
            "buildingsFootprints.prj  FuelMap.prj\t    merge.mshp\t       Welly_region.prj\n",
            "buildingsFootprints.qpj  FuelMap.qpj\t    merge.prj\t       Welly_region.qpj\n",
            "buildingsFootprints.shp  FuelMapRaster.tif  merge.qpj\t       Welly_region.shp\n",
            "buildingsFootprints.shx  FuelMap.shp\t    merge.shp\t       Welly_region.shx\n",
            "FFE.qgs.qgz\t\t FuelMap.shx\t    merge.shx\n"
          ],
          "name": "stdout"
        }
      ]
    },
    {
      "cell_type": "code",
      "metadata": {
        "id": "mEUTTSqej-DU",
        "colab_type": "code",
        "colab": {
          "base_uri": "https://localhost:8080/",
          "height": 282
        },
        "outputId": "8890c40c-98a4-4d2c-8e33-1af542044b34"
      },
      "source": [
        "fuel_map = gpd.read_file('/content/drive/My Drive/04_Cloud/01_Work/GNS/008_FFE/merge.shp')\n",
        "fuel_map.plot()"
      ],
      "execution_count": 37,
      "outputs": [
        {
          "output_type": "execute_result",
          "data": {
            "text/plain": [
              "<matplotlib.axes._subplots.AxesSubplot at 0x7faaf2ed19e8>"
            ]
          },
          "metadata": {
            "tags": []
          },
          "execution_count": 37
        },
        {
          "output_type": "display_data",
          "data": {
            "image/png": "[encoded data removed]",
            "text/plain": [
              "<Figure size 432x288 with 1 Axes>"
            ]
          },
          "metadata": {
            "tags": []
          }
        }
      ]
    },
    {
      "cell_type": "code",
      "metadata": {
        "id": "XYIPPf2oHdxG",
        "colab_type": "code",
        "colab": {}
      },
      "source": [
        "# shake_map = gpd.read_file('/content/drive/My Drive/04_Cloud/01_Work/GNS/008_FFE/shake.shp')"
      ],
      "execution_count": 0,
      "outputs": []
    },
    {
      "cell_type": "code",
      "metadata": {
        "id": "XWPMf9H2E4IT",
        "colab_type": "code",
        "colab": {
          "base_uri": "https://localhost:8080/",
          "height": 255
        },
        "outputId": "37f0bba2-3a19-4fe0-b191-8752913bccee"
      },
      "source": [
        "fuel_map.crs"
      ],
      "execution_count": 39,
      "outputs": [
        {
          "output_type": "execute_result",
          "data": {
            "text/plain": [
              "<Projected CRS: EPSG:2193>\n",
              "Name: NZGD2000 / New Zealand Transverse Mercator 2000\n",
              "Axis Info [cartesian]:\n",
              "- N[north]: Northing (metre)\n",
              "- E[east]: Easting (metre)\n",
              "Area of Use:\n",
              "- name: New Zealand - onshore\n",
              "- bounds: (166.37, -47.33, 178.63, -34.1)\n",
              "Coordinate Operation:\n",
              "- name: New Zealand Transverse Mercator 2000\n",
              "- method: Transverse Mercator\n",
              "Datum: New Zealand Geodetic Datum 2000\n",
              "- Ellipsoid: GRS 1980\n",
              "- Prime Meridian: Greenwich"
            ]
          },
          "metadata": {
            "tags": []
          },
          "execution_count": 39
        }
      ]
    },
    {
      "cell_type": "code",
      "metadata": {
        "id": "DzaMUowYMZ1y",
        "colab_type": "code",
        "colab": {
          "base_uri": "https://localhost:8080/",
          "height": 697
        },
        "outputId": "7b4303de-7b37-41e3-b778-7279bf1031ed"
      },
      "source": [
        "fuel_map.info()"
      ],
      "execution_count": 40,
      "outputs": [
        {
          "output_type": "stream",
          "text": [
            "<class 'geopandas.geodataframe.GeoDataFrame'>\n",
            "RangeIndex: 68813 entries, 0 to 68812\n",
            "Data columns (total 35 columns):\n",
            "Source        68813 non-null object\n",
            "OBJECTID      68813 non-null int64\n",
            "Meshblock     5237 non-null object\n",
            "MeshblockN    5237 non-null object\n",
            "AreaUnitCo    5237 non-null object\n",
            "AreaUnitNa    5237 non-null object\n",
            "UrbanAreaC    5237 non-null object\n",
            "UrbanAreaT    5237 non-null object\n",
            "UrbanAreaN    5237 non-null object\n",
            "TLACode       5237 non-null object\n",
            "TLAName       5237 non-null object\n",
            "WardCode      5237 non-null object\n",
            "WardName      5237 non-null object\n",
            "CommunityB    5237 non-null object\n",
            "Communit_1    5237 non-null object\n",
            "TLASubdivi    5237 non-null object\n",
            "TLASubdi_1    5237 non-null object\n",
            "RegionalCo    5237 non-null object\n",
            "Regional_1    5237 non-null object\n",
            "GeneralCon    5237 non-null object\n",
            "GeneralC_1    5237 non-null object\n",
            "MaoriConst    5237 non-null object\n",
            "MaoriCon_1    5237 non-null object\n",
            "GeneralEle    5237 non-null object\n",
            "GeneralE_1    5237 non-null object\n",
            "MaoriElect    5237 non-null object\n",
            "MaoriEle_1    5237 non-null object\n",
            "LandCode      5237 non-null object\n",
            "LandDescri    5237 non-null object\n",
            "LandAreaSQ    68813 non-null float64\n",
            "Meshblock_    0 non-null object\n",
            "SHAPE_Leng    68813 non-null float64\n",
            "SHAPE_Area    68813 non-null float64\n",
            "fuel          68813 non-null int64\n",
            "geometry      68813 non-null geometry\n",
            "dtypes: float64(3), geometry(1), int64(2), object(29)\n",
            "memory usage: 18.4+ MB\n"
          ],
          "name": "stdout"
        }
      ]
    },
    {
      "cell_type": "code",
      "metadata": {
        "id": "lpiC-9TxF1tM",
        "colab_type": "code",
        "outputId": "78e5528d-f3e3-4e55-a21f-a0870395a29b",
        "colab": {
          "base_uri": "https://localhost:8080/",
          "height": 34
        }
      },
      "source": [
        "fuel_map.SHAPE_Area.min()"
      ],
      "execution_count": 41,
      "outputs": [
        {
          "output_type": "execute_result",
          "data": {
            "text/plain": [
              "0.00026637"
            ]
          },
          "metadata": {
            "tags": []
          },
          "execution_count": 41
        }
      ]
    },
    {
      "cell_type": "code",
      "metadata": {
        "id": "t6f6l7j9bJla",
        "colab_type": "code",
        "colab": {
          "base_uri": "https://localhost:8080/",
          "height": 428
        },
        "outputId": "73120ae0-bb59-4e14-a851-f4f3dd30d2e0"
      },
      "source": [
        "!pip install rasterio[s3]"
      ],
      "execution_count": 45,
      "outputs": [
        {
          "output_type": "stream",
          "text": [
            "Collecting rasterio[s3]\n",
            "\u001b[?25l  Downloading https://files.pythonhosted.org/packages/be/e5/7052a3eef72af7e883a280d8dff64f4ea44cb92ec25ffb1d00ce27bc1a12/rasterio-1.1.2-cp36-cp36m-manylinux1_x86_64.whl (18.0MB)\n",
            "\u001b[K     |████████████████████████████████| 18.0MB 1.3MB/s \n",
            "\u001b[?25hRequirement already satisfied: click<8,>=4.0 in /usr/local/lib/python3.6/dist-packages (from rasterio[s3]) (7.0)\n",
            "Requirement already satisfied: cligj>=0.5 in /usr/local/lib/python3.6/dist-packages (from rasterio[s3]) (0.5.0)\n",
            "Collecting snuggs>=1.4.1\n",
            "  Downloading https://files.pythonhosted.org/packages/cc/0e/d27d6e806d6c0d1a2cfdc5d1f088e42339a0a54a09c3343f7f81ec8947ea/snuggs-1.4.7-py3-none-any.whl\n",
            "Requirement already satisfied: numpy in /usr/local/lib/python3.6/dist-packages (from rasterio[s3]) (1.17.5)\n",
            "Requirement already satisfied: click-plugins in /usr/local/lib/python3.6/dist-packages (from rasterio[s3]) (1.1.1)\n",
            "Collecting affine\n",
            "  Downloading https://files.pythonhosted.org/packages/ac/a6/1a39a1ede71210e3ddaf623982b06ecfc5c5c03741ae659073159184cd3e/affine-2.3.0-py2.py3-none-any.whl\n",
            "Requirement already satisfied: attrs in /usr/local/lib/python3.6/dist-packages (from rasterio[s3]) (19.3.0)\n",
            "Requirement already satisfied: boto3>=1.2.4; extra == \"s3\" in /usr/local/lib/python3.6/dist-packages (from rasterio[s3]) (1.11.14)\n",
            "Requirement already satisfied: pyparsing>=2.1.6 in /usr/local/lib/python3.6/dist-packages (from snuggs>=1.4.1->rasterio[s3]) (2.4.6)\n",
            "Requirement already satisfied: jmespath<1.0.0,>=0.7.1 in /usr/local/lib/python3.6/dist-packages (from boto3>=1.2.4; extra == \"s3\"->rasterio[s3]) (0.9.4)\n",
            "Requirement already satisfied: s3transfer<0.4.0,>=0.3.0 in /usr/local/lib/python3.6/dist-packages (from boto3>=1.2.4; extra == \"s3\"->rasterio[s3]) (0.3.3)\n",
            "Requirement already satisfied: botocore<1.15.0,>=1.14.14 in /usr/local/lib/python3.6/dist-packages (from boto3>=1.2.4; extra == \"s3\"->rasterio[s3]) (1.14.14)\n",
            "Requirement already satisfied: docutils<0.16,>=0.10 in /usr/local/lib/python3.6/dist-packages (from botocore<1.15.0,>=1.14.14->boto3>=1.2.4; extra == \"s3\"->rasterio[s3]) (0.15.2)\n",
            "Requirement already satisfied: urllib3<1.26,>=1.20; python_version != \"3.4\" in /usr/local/lib/python3.6/dist-packages (from botocore<1.15.0,>=1.14.14->boto3>=1.2.4; extra == \"s3\"->rasterio[s3]) (1.24.3)\n",
            "Requirement already satisfied: python-dateutil<3.0.0,>=2.1 in /usr/local/lib/python3.6/dist-packages (from botocore<1.15.0,>=1.14.14->boto3>=1.2.4; extra == \"s3\"->rasterio[s3]) (2.6.1)\n",
            "Requirement already satisfied: six>=1.5 in /usr/local/lib/python3.6/dist-packages (from python-dateutil<3.0.0,>=2.1->botocore<1.15.0,>=1.14.14->boto3>=1.2.4; extra == \"s3\"->rasterio[s3]) (1.12.0)\n",
            "Installing collected packages: snuggs, affine, rasterio\n",
            "Successfully installed affine-2.3.0 rasterio-1.1.2 snuggs-1.4.7\n"
          ],
          "name": "stdout"
        }
      ]
    },
    {
      "cell_type": "code",
      "metadata": {
        "id": "J3cvqHdNavlV",
        "colab_type": "code",
        "colab": {
          "base_uri": "https://localhost:8080/",
          "height": 282
        },
        "outputId": "97e34132-003e-43c7-9200-b0958af3090a"
      },
      "source": [
        "import rasterio\n",
        "from rasterio.plot import show\n",
        "\n",
        "raster = rasterio.open('/content/drive/My Drive/04_Cloud/01_Work/GNS/008_FFE/FuelMapRaster.tif')\n",
        "show(raster)"
      ],
      "execution_count": 46,
      "outputs": [
        {
          "output_type": "display_data",
          "data": {
            "image/png": "[encoded data removed]",
            "text/plain": [
              "<Figure size 432x288 with 1 Axes>"
            ]
          },
          "metadata": {
            "tags": []
          }
        },
        {
          "output_type": "execute_result",
          "data": {
            "text/plain": [
              "<matplotlib.axes._subplots.AxesSubplot at 0x7faaefad4a58>"
            ]
          },
          "metadata": {
            "tags": []
          },
          "execution_count": 46
        }
      ]
    },
    {
      "cell_type": "code",
      "metadata": {
        "id": "3CE1C_sNROQr",
        "colab_type": "code",
        "colab": {
          "base_uri": "https://localhost:8080/",
          "height": 34
        },
        "outputId": "181a30b6-6f15-4bec-99a3-fdcf9848a704"
      },
      "source": [
        "from osgeo import gdal_array\n",
        "raster = gdal_array.LoadFile('/content/drive/My Drive/04_Cloud/01_Work/GNS/008_FFE/FuelMapRaster.tif')\n",
        "type(raster)"
      ],
      "execution_count": 49,
      "outputs": [
        {
          "output_type": "execute_result",
          "data": {
            "text/plain": [
              "numpy.ndarray"
            ]
          },
          "metadata": {
            "tags": []
          },
          "execution_count": 49
        }
      ]
    },
    {
      "cell_type": "code",
      "metadata": {
        "id": "fSjyJBY_I8D2",
        "colab_type": "code",
        "colab": {}
      },
      "source": [
        "import numpy as np\n",
        "import pandas as pd\n",
        "import imageio\n",
        "import random\n",
        "\n",
        "# Cells\n",
        "# 1 = Clear, 2 = Fuel, 3 = Fire\n"
      ],
      "execution_count": 0,
      "outputs": []
    },
    {
      "cell_type": "code",
      "metadata": {
        "id": "eXm3nHW-gTYZ",
        "colab_type": "code",
        "colab": {}
      },
      "source": [
        "df = pd.DataFrame(raster)"
      ],
      "execution_count": 0,
      "outputs": []
    },
    {
      "cell_type": "code",
      "metadata": {
        "id": "HOoIzJa1ihx8",
        "colab_type": "code",
        "colab": {
          "base_uri": "https://localhost:8080/",
          "height": 102
        },
        "outputId": "ae0a5778-3e5a-406c-8002-562bc28e9264"
      },
      "source": [
        "df.info()"
      ],
      "execution_count": 78,
      "outputs": [
        {
          "output_type": "stream",
          "text": [
            "<class 'pandas.core.frame.DataFrame'>\n",
            "RangeIndex: 19026 entries, 0 to 19025\n",
            "Columns: 12447 entries, 0 to 12446\n",
            "dtypes: float32(12447)\n",
            "memory usage: 903.4 MB\n"
          ],
          "name": "stdout"
        }
      ]
    },
    {
      "cell_type": "code",
      "metadata": {
        "id": "2VZIG8QhshIM",
        "colab_type": "code",
        "colab": {
          "base_uri": "https://localhost:8080/",
          "height": 34
        },
        "outputId": "cc6f981f-4aaa-4264-b5f5-989deae67b15"
      },
      "source": [
        "df.shape"
      ],
      "execution_count": 87,
      "outputs": [
        {
          "output_type": "execute_result",
          "data": {
            "text/plain": [
              "(19026, 12447)"
            ]
          },
          "metadata": {
            "tags": []
          },
          "execution_count": 87
        }
      ]
    },
    {
      "cell_type": "code",
      "metadata": {
        "id": "GBcMRjw6q3Bd",
        "colab_type": "code",
        "colab": {
          "base_uri": "https://localhost:8080/",
          "height": 34
        },
        "outputId": "549a2c29-1d9f-4d24-a827-9b3a9896ae8e"
      },
      "source": [
        "wind_df = pd.read_csv('/content/drive/My Drive/04_Cloud/01_Work/GNS/008_FFE/WindScenariosCopy.csv')\n",
        "wind_df.head()\n",
        "wind_df.iloc[0,2]"
      ],
      "execution_count": 85,
      "outputs": [
        {
          "output_type": "execute_result",
          "data": {
            "text/plain": [
              "' buffer'"
            ]
          },
          "metadata": {
            "tags": []
          },
          "execution_count": 85
        }
      ]
    },
    {
      "cell_type": "code",
      "metadata": {
        "colab_type": "code",
        "id": "rcSgY8y6d52I",
        "colab": {}
      },
      "source": [
        "# states hold the state of each cell\n",
        "states = df\n",
        "# set the cells on fire!!!\n",
        "x_ignition = random.uniform(0, df.shape[0])\n",
        "y_ignition = random.uniform(0, df.shape[1])\n",
        "df.iloc[x_ignition, y_ignition] = 3\n",
        "\n",
        "# wind scenarios\n",
        "wind_df = pd.read('/content/drive/My Drive/04_Cloud/01_Work/GNS/008_FFE/WindScenariosCopy.csv')\n",
        "wind_direction = wind_df.iloc[random.uniform(0, wind_df.shape[0]), 2]\n",
        "critical_distance = !!!!!!!!!!!!!!!!!\n",
        "\n",
        "# set up conditions\n",
        "wind_scenarios = 100\n",
        "total_steps = 300\n",
        "# randomize wind direction and strength \n",
        "for wind in range(wind_scenarios):\n",
        "  for t in range(1,total_steps):\n",
        "      # Make a copy of the original states\n",
        "      states[t] = states[t-1].copy()\n",
        "\n",
        "      for x in range(1,terrain_size[0]-1):\n",
        "          for y in range(1,terrain_size[1]-1):\n",
        "\n",
        "              if states[t-1,x,y] == 2: # It's on fire\n",
        "                  states[t,x,y] = 0 # Put it out and clear it\n",
        "                  \n",
        "                  # If there's fuel surrounding it\n",
        "                  # set it on fire!\n",
        "                  if states[t-1,x+1,y] == 1: \n",
        "                      states[t,x+1,y] = 2\n",
        "                  if states[t-1,x-1,y] == 1:\n",
        "                      states[t,x-1,y] = 2\n",
        "                  if states[t-1,x,y+1] == 1:\n",
        "                      states[t,x,y+1] = 2\n",
        "                  if states[t-1,x,y-1] == 1:\n",
        "                      states[t,x,y-1] = 2"
      ],
      "execution_count": 0,
      "outputs": []
    },
    {
      "cell_type": "code",
      "metadata": {
        "id": "99jEK5gjI8D7",
        "colab_type": "code",
        "colab": {}
      },
      "source": [
        "# states hold the state of each cell\n",
        "states = np.zeros((total_time,*terrain_size))\n",
        "# initialize states by creating random fuel and clear cells\n",
        "states[0] = np.random.choice([0,1],size=terrain_size,p=[1-prob,prob])\n",
        "# set the middle cell on fire!!!\n",
        "states[0,terrain_size[0]//2,terrain_size[1]//2] = 2\n",
        "\n",
        "for t in range(1,total_time):\n",
        "    # Make a copy of the original states\n",
        "    states[t] = states[t-1].copy()\n",
        "\n",
        "    for x in range(1,terrain_size[0]-1):\n",
        "        for y in range(1,terrain_size[1]-1):\n",
        "\n",
        "            if states[t-1,x,y] == 2: # It's on fire\n",
        "                states[t,x,y] = 0 # Put it out and clear it\n",
        "                \n",
        "                # If there's fuel surrounding it\n",
        "                # set it on fire!\n",
        "                if states[t-1,x+1,y] == 1: \n",
        "                    states[t,x+1,y] = 2\n",
        "                if states[t-1,x-1,y] == 1:\n",
        "                    states[t,x-1,y] = 2\n",
        "                if states[t-1,x,y+1] == 1:\n",
        "                    states[t,x,y+1] = 2\n",
        "                if states[t-1,x,y-1] == 1:\n",
        "                    states[t,x,y-1] = 2"
      ],
      "execution_count": 0,
      "outputs": []
    },
    {
      "cell_type": "code",
      "metadata": {
        "id": "HJSFPcu8I8D_",
        "colab_type": "code",
        "colab": {}
      },
      "source": [
        "colored = np.zeros((total_time,*terrain_size,3),dtype=np.uint8)\n",
        "\n",
        "# Color\n",
        "for t in range(states.shape[0]):\n",
        "    for x in range(states[t].shape[0]):\n",
        "        for y in range(states[t].shape[1]):\n",
        "            value = states[t,x,y].copy()\n",
        "\n",
        "            if value == 0:\n",
        "                colored[t,x,y] = [139,69,19] # Clear\n",
        "            elif value == 1: \n",
        "                colored[t,x,y] = [0,255,0]   # Fuel\n",
        "            elif value == 2: \n",
        "                colored[t,x,y] = [255,0,0]   # Burning\n",
        "            \n",
        "# Crop\n",
        "cropped = colored[:200,1:terrain_size[0]-1,1:terrain_size[1]-1]\n",
        "\n",
        "imageio.mimsave('./video.gif', cropped)"
      ],
      "execution_count": 0,
      "outputs": []
    }
  ]
}