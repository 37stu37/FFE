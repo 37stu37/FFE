{
  "nbformat": 4,
  "nbformat_minor": 0,
  "metadata": {
    "kernelspec": {
      "name": "python3",
      "display_name": "Python 3"
    },
    "language_info": {
      "codemirror_mode": {
        "name": "ipython",
        "version": 3
      },
      "file_extension": ".py",
      "mimetype": "text/x-python",
      "name": "python",
      "nbconvert_exporter": "python",
      "pygments_lexer": "ipython3",
      "version": "3.6.6"
    },
    "colab": {
      "name": "Celular Automaton for Wildfires.ipynb",
      "provenance": [],
      "include_colab_link": true
    },
    "accelerator": "GPU"
  },
  "cells": [
    {
      "cell_type": "markdown",
      "metadata": {
        "id": "view-in-github",
        "colab_type": "text"
      },
      "source": [
        "<a href=\"https://colab.research.google.com/github/37stu37/FFE/blob/master/Celular%20Automaton%20for%20Wildfires.ipynb\" target=\"_parent\"><img src=\"https://colab.research.google.com/assets/colab-badge.svg\" alt=\"Open In Colab\"/></a>"
      ]
    },
    {
      "cell_type": "code",
      "metadata": {
        "id": "AXNRLO1CixX9",
        "colab_type": "code",
        "colab": {}
      },
      "source": [
        "%%time \n",
        "!apt update\n",
        "!apt upgrade\n",
        "!apt install gdal-bin python-gdal python3-gdal \n",
        "# Install rtree - Geopandas requirment\n",
        "!apt install python3-rtree \n",
        "# Install Geopandas\n",
        "!pip install git+git://github.com/geopandas/geopandas.git\n",
        "# Install descartes - Geopandas requirment\n",
        "!pip install descartes "
      ],
      "execution_count": 0,
      "outputs": []
    },
    {
      "cell_type": "code",
      "metadata": {
        "id": "nDsSqkTqi6AA",
        "colab_type": "code",
        "colab": {}
      },
      "source": [
        "import os\n",
        "import geopandas as gpd"
      ],
      "execution_count": 0,
      "outputs": []
    },
    {
      "cell_type": "code",
      "metadata": {
        "id": "uPA4ywxbv7TJ",
        "colab_type": "code",
        "colab": {
          "base_uri": "https://localhost:8080/",
          "height": 34
        },
        "outputId": "44b4009b-a283-4f72-aad0-d15276cc58b2"
      },
      "source": [
        "# Load the Drive helper and mount\n",
        "from google.colab import drive\n",
        "\n",
        "# This will prompt for authorization.\n",
        "drive.mount('/content/drive')"
      ],
      "execution_count": 4,
      "outputs": [
        {
          "output_type": "stream",
          "text": [
            "Drive already mounted at /content/drive; to attempt to forcibly remount, call drive.mount(\"/content/drive\", force_remount=True).\n"
          ],
          "name": "stdout"
        }
      ]
    },
    {
      "cell_type": "code",
      "metadata": {
        "id": "mEUTTSqej-DU",
        "colab_type": "code",
        "colab": {}
      },
      "source": [
        "fuel_map = gpd.read_file(gpd.datasets.get_path('naturalearth_lowres'))\n",
        "fuel_map.plot()"
      ],
      "execution_count": 0,
      "outputs": []
    },
    {
      "cell_type": "code",
      "metadata": {
        "id": "SzIGnZsRvsWG",
        "colab_type": "code",
        "colab": {}
      },
      "source": [
        "fuel_map.head()"
      ],
      "execution_count": 0,
      "outputs": []
    },
    {
      "cell_type": "code",
      "metadata": {
        "id": "fSjyJBY_I8D2",
        "colab_type": "code",
        "colab": {}
      },
      "source": [
        "import numpy as np\n",
        "import pandas as pd\n",
        "import imageio\n",
        "\n",
        "# Cell States\n",
        "# 0 = Clear, 1 = Fuel, 2 = Fire\n",
        "\n",
        "prob = .6 # probability of a cell being fuel, otherwise it's clear\n",
        "total_time = 300 # simulation time\n",
        "terrain_size = [100,100] # size of the simulation: 10000 cells"
      ],
      "execution_count": 0,
      "outputs": []
    },
    {
      "cell_type": "code",
      "metadata": {
        "id": "99jEK5gjI8D7",
        "colab_type": "code",
        "colab": {}
      },
      "source": [
        "# states hold the state of each cell\n",
        "states = np.zeros((total_time,*terrain_size))\n",
        "# initialize states by creating random fuel and clear cells\n",
        "states[0] = np.random.choice([0,1],size=terrain_size,p=[1-prob,prob])\n",
        "# set the middle cell on fire!!!\n",
        "states[0,terrain_size[0]//2,terrain_size[1]//2] = 2\n",
        "\n",
        "for t in range(1,total_time):\n",
        "    # Make a copy of the original states\n",
        "    states[t] = states[t-1].copy()\n",
        "\n",
        "    for x in range(1,terrain_size[0]-1):\n",
        "        for y in range(1,terrain_size[1]-1):\n",
        "\n",
        "            if states[t-1,x,y] == 2: # It's on fire\n",
        "                states[t,x,y] = 0 # Put it out and clear it\n",
        "                \n",
        "                # If there's fuel surrounding it\n",
        "                # set it on fire!\n",
        "                if states[t-1,x+1,y] == 1: \n",
        "                    states[t,x+1,y] = 2\n",
        "                if states[t-1,x-1,y] == 1:\n",
        "                    states[t,x-1,y] = 2\n",
        "                if states[t-1,x,y+1] == 1:\n",
        "                    states[t,x,y+1] = 2\n",
        "                if states[t-1,x,y-1] == 1:\n",
        "                    states[t,x,y-1] = 2"
      ],
      "execution_count": 0,
      "outputs": []
    },
    {
      "cell_type": "code",
      "metadata": {
        "id": "HJSFPcu8I8D_",
        "colab_type": "code",
        "colab": {}
      },
      "source": [
        "colored = np.zeros((total_time,*terrain_size,3),dtype=np.uint8)\n",
        "\n",
        "# Color\n",
        "for t in range(states.shape[0]):\n",
        "    for x in range(states[t].shape[0]):\n",
        "        for y in range(states[t].shape[1]):\n",
        "            value = states[t,x,y].copy()\n",
        "\n",
        "            if value == 0:\n",
        "                colored[t,x,y] = [139,69,19] # Clear\n",
        "            elif value == 1: \n",
        "                colored[t,x,y] = [0,255,0]   # Fuel\n",
        "            elif value == 2: \n",
        "                colored[t,x,y] = [255,0,0]   # Burning\n",
        "            \n",
        "# Crop\n",
        "cropped = colored[:200,1:terrain_size[0]-1,1:terrain_size[1]-1]\n",
        "\n",
        "imageio.mimsave('./video.gif', cropped)"
      ],
      "execution_count": 0,
      "outputs": []
    }
  ]
}