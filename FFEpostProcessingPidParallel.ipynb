{
 "cells": [
  {
   "cell_type": "markdown",
   "metadata": {
    "colab_type": "text",
    "id": "view-in-github"
   },
   "source": [
    "<a href=\"https://colab.research.google.com/github/37stu37/FFE/blob/master/FFEpostProcessingRAPIDS.ipynb\" target=\"_parent\"><img src=\"https://colab.research.google.com/assets/colab-badge.svg\" alt=\"Open In Colab\"/></a>"
   ]
  },
  {
   "cell_type": "markdown",
   "metadata": {
    "colab_type": "text",
    "id": "uOfLIueATXfR"
   },
   "source": [
    "\n",
    "#Installation\n",
    "---\n",
    "\n"
   ]
  },
  {
   "cell_type": "code",
   "execution_count": 1,
   "metadata": {
    "colab": {
     "base_uri": "https://localhost:8080/",
     "height": 54
    },
    "colab_type": "code",
    "id": "HFr9n7dFTVdB",
    "outputId": "dc1272af-fe65-4c77-aa49-3fcb2dfc509e"
   },
   "outputs": [
    {
     "name": "stdout",
     "output_type": "stream",
     "text": [
      "CPU times: user 281 ms, sys: 86.3 ms, total: 367 ms\n",
      "Wall time: 1min 20s\n"
     ]
    }
   ],
   "source": [
    "%%time\n",
    "%%capture\n",
    "!apt update\n",
    "!apt upgrade\n",
    "!apt install gdal-bin python-gdal python3-gdal\n",
    "# Install rtree - Geopandas requirment\n",
    "!apt install python3-rtree\n",
    "# Install Geopandas\n",
    "!pip install git+git://github.com/geopandas/geopandas.git\n",
    "# Install descartes - Geopandas requirment\n",
    "!pip install descartes\n",
    "!pip install memory_profiler\n",
    "# install parquet libraries\n",
    "!pip install git+https://github.com/dask/fastparquet\n",
    "!pip install python-snappy\n",
    "!pip install pyarrow "
   ]
  },
  {
   "cell_type": "code",
   "execution_count": 11,
   "metadata": {
    "colab": {},
    "colab_type": "code",
    "id": "FDNM-ERLM6US"
   },
   "outputs": [],
   "source": [
    "from pathlib import Path\n",
    "import os\n",
    "from datetime import date\n",
    "import re"
   ]
  },
  {
   "cell_type": "code",
   "execution_count": 3,
   "metadata": {
    "colab": {},
    "colab_type": "code",
    "id": "6T1J4QXZTmtV"
   },
   "outputs": [],
   "source": [
    "import pandas as pd\n",
    "import numpy as np\n",
    "import geopandas as gpd\n",
    "from shapely.geometry import box\n",
    "import dask.dataframe as dd\n",
    "pd.options.mode.chained_assignment = None"
   ]
  },
  {
   "cell_type": "code",
   "execution_count": 69,
   "metadata": {
    "colab": {
     "base_uri": "https://localhost:8080/",
     "height": 35
    },
    "colab_type": "code",
    "id": "JALuOrvdSA-n",
    "outputId": "d7942dd1-132f-4407-fe97-10ebafccbc4d"
   },
   "outputs": [
    {
     "name": "stdout",
     "output_type": "stream",
     "text": [
      "10\n"
     ]
    }
   ],
   "source": [
    "# Paths\n",
    "p = Path('/Users/alex/PycharmProjects/FFE')\n",
    "pathShapefile = Path(p / 'data' / 'shapefile')\n",
    "pathParquets = Path(p / 'data' / 'test_parquets')\n",
    "\n",
    "print(len(os.listdir(pathParquets)))"
   ]
  },
  {
   "cell_type": "code",
   "execution_count": 90,
   "metadata": {
    "colab": {},
    "colab_type": "code",
    "id": "ZuY6xBcuSBO6"
   },
   "outputs": [],
   "source": [
    "def get_list_pids(path=pathParquets):\n",
    "    pidList = []\n",
    "    updtScenariolist = []\n",
    "    files = pathParquets.glob('*.parquet')\n",
    "    for file in files:\n",
    "        regex = r\"pid\\d*\"\n",
    "        pidNames = re.findall(regex, str(file))\n",
    "        for pidName in pidNames:\n",
    "          print(f\" file pid {pidName}\")\n",
    "          pidList.append(pidName)\n",
    "    pidList = list(set(pidList))\n",
    "    updtScenariolist = np.arange(0, 3000, 300).tolist()\n",
    "    return pidList, updtScenariolist\n",
    "\n",
    "\n",
    "def read_and_concatenate_parquets(pidList,incrList,path=pathParquets):\n",
    "    L = []\n",
    "    for idx, val in enumerate(pidList):\n",
    "        files = pathParquets.glob('*'+str(val)+'.parquet')\n",
    "        for file in files:\n",
    "            print(file)\n",
    "            pqt = pd.read_parquet(file, engine='auto')\n",
    "            pqt['scenario']=pqt['scenario']+incrList[idx]\n",
    "#             print(pqt.head())\n",
    "            L.append(pqt)\n",
    "            print(len(L))\n",
    "    df = dd.concat(L)\n",
    "    return df\n",
    "\n",
    "    \n",
    "def count_fid_occurences(df):\n",
    "    count_df = df.groupby(['scenario', 'source'])[['source']].count().rename(columns={'count':'count'}).compute()\n",
    "    count_df = count_df.rename(columns={'oldName1': 'newName1', 'oldName2': 'newName2'})\n",
    "    count_df.to_parquet(str(pathShapefile) + '/' + f'CountBurn-{str(date.today())}.parquet', \n",
    "                        engine='auto', compression=\"GZIP\")# could be datetime.now\n",
    "    return count_df\n",
    "\n",
    "\n",
    "def Merge(countDf,nameShapefile):\n",
    "  # Shapefile\n",
    "  gdfShape = gpd.read_file(pathShapefile / nameShapefile)\n",
    "  gdfShape.insert(0, 'FID', range(0, len(gdfShape)))\n",
    "  gdfShape.rename(columns={'FID': 'source'}, inplace=True)\n",
    "  gdfShape = gdfShape[['source', 'geometry']]\n",
    "  merged = countDf.merge(gdfShape, on=['source'], how='left')\n",
    "  return merged\n",
    "\n",
    "\n",
    "def createShapefile(df):\n",
    "  # df = df.to_pandas()\n",
    "  gdf = gpd.GeoDataFrame(df, geometry='geometry')\n",
    "  # gdf.plot(column='count', cmap='hsv', legend=True)\n",
    "  gdf.to_file(os.path.join(str(pathShapefile) + \"/\" + \"Burn3000scenarioWellington.shp\"))\n",
    "  return gdf"
   ]
  },
  {
   "cell_type": "code",
   "execution_count": 91,
   "metadata": {},
   "outputs": [
    {
     "name": "stdout",
     "output_type": "stream",
     "text": [
      " file pid pid167572\n",
      " file pid pid167573\n",
      " file pid pid167575\n",
      " file pid pid150543\n",
      " file pid pid150542\n",
      " file pid pid167574\n",
      " file pid pid150539\n",
      " file pid pid150540\n",
      " file pid pid167576\n",
      " file pid pid150541\n"
     ]
    }
   ],
   "source": [
    "p, i = get_list_pids()"
   ]
  },
  {
   "cell_type": "code",
   "execution_count": 92,
   "metadata": {
    "colab": {
     "base_uri": "https://localhost:8080/",
     "height": 799
    },
    "colab_type": "code",
    "id": "T4xnIavQcfjI",
    "outputId": "40f5b6c7-f695-4ee0-d832-ee7de9a4f21b",
    "scrolled": false
   },
   "outputs": [
    {
     "name": "stdout",
     "output_type": "stream",
     "text": [
      "/Users/alex/PycharmProjects/FFE/data/test_parquets/scenario0_pid150540.parquet\n",
      "1\n",
      "/Users/alex/PycharmProjects/FFE/data/test_parquets/scenario0_pid167572.parquet\n",
      "2\n",
      "/Users/alex/PycharmProjects/FFE/data/test_parquets/scenario0_pid167576.parquet\n",
      "3\n",
      "/Users/alex/PycharmProjects/FFE/data/test_parquets/scenario0_pid150543.parquet\n",
      "4\n",
      "/Users/alex/PycharmProjects/FFE/data/test_parquets/scenario0_pid167573.parquet\n",
      "5\n",
      "/Users/alex/PycharmProjects/FFE/data/test_parquets/scenario0_pid167575.parquet\n",
      "6\n",
      "/Users/alex/PycharmProjects/FFE/data/test_parquets/scenario0_pid150539.parquet\n",
      "7\n",
      "/Users/alex/PycharmProjects/FFE/data/test_parquets/scenario0_pid150541.parquet\n",
      "8\n",
      "/Users/alex/PycharmProjects/FFE/data/test_parquets/scenario0_pid150542.parquet\n",
      "9\n",
      "/Users/alex/PycharmProjects/FFE/data/test_parquets/scenario0_pid167574.parquet\n",
      "10\n",
      "CPU times: user 390 ms, sys: 97.6 ms, total: 488 ms\n",
      "Wall time: 394 ms\n"
     ]
    }
   ],
   "source": [
    "%%time\n",
    "concatDf = read_and_concatenate_parquets(pidList=p,incrList=i)"
   ]
  },
  {
   "cell_type": "code",
   "execution_count": 93,
   "metadata": {
    "colab": {},
    "colab_type": "code",
    "id": "eipphuX1_MB2"
   },
   "outputs": [
    {
     "name": "stdout",
     "output_type": "stream",
     "text": [
      "CPU times: user 238 ms, sys: 36.5 ms, total: 274 ms\n",
      "Wall time: 257 ms\n"
     ]
    }
   ],
   "source": [
    "%%time\n",
    "countConcatDf = count_fid_occurences(concatDf)\n",
    "countConcatDf"
   ]
  },
  {
   "cell_type": "code",
   "execution_count": null,
   "metadata": {
    "colab": {},
    "colab_type": "code",
    "id": "bEfmrSrBcfrY"
   },
   "outputs": [],
   "source": [
    "%%time\n",
    "mergedDf = Merge(countConcatDf, 'WellWHV_Buildings.shp')\n",
    "countShape = createShapefile(mergedDf)"
   ]
  },
  {
   "cell_type": "code",
   "execution_count": null,
   "metadata": {
    "colab": {},
    "colab_type": "code",
    "id": "Vde4I9F2ELfa",
    "scrolled": true
   },
   "outputs": [
    {
     "name": "stdout",
     "output_type": "stream",
     "text": [
      "Collecting package metadata (current_repodata.json): done\n",
      "Solving environment: / \n",
      "The environment is inconsistent, please check the package plan carefully\n",
      "The following packages are causing the inconsistency:\n",
      "\n",
      "  - r/osx-64::r-base64enc==0.1_3=r36h46e59ec_4\n",
      "  - r/noarch::r-dbplyr==1.4.0=r36h6115d3f_0\n",
      "  - r/osx-64::r-xml2==1.2.0=r36h466af19_0\n",
      "  - defaults/noarch::dask==2.16.0=py_0\n",
      "  - defaults/osx-64::notebook==6.0.3=py37_0\n",
      "  - r/noarch::r-bh==1.69.0_1=r36h6115d3f_0\n",
      "  - spyder-ide/noarch::spyder-notebook==0.2.3=pyh9f0ad1d_0\n",
      "  - r/osx-64::r-bit64==0.9_7=r36h46e59ec_0\n",
      "  - r/osx-64::r-askpass==1.0=r36h1de35cc_0\n",
      "  - defaults/osx-64::jupyter==1.0.0=py37_7\n",
      "  - r/noarch::r-xfun==0.6=r36h6115d3f_0\n",
      "  - r/osx-64::r-bitops==1.0_6=r36h46e59ec_4\n",
      "  - r/osx-64::r-yaml==2.2.0=r36h46e59ec_0\n",
      "  - defaults/osx-64::r-base==3.6.1=hcb44179_1\n",
      "  - defaults/osx-64::widgetsnbextension==3.5.1=py37_0\n",
      "  - r/noarch::r-generics==0.0.2=r36h6115d3f_0\n",
      "  - r/noarch::r-packrat==0.5.0=r36h6115d3f_0\n",
      "  - r/noarch::r-forge==0.2.0=r36h6115d3f_0\n",
      "  - defaults/osx-64::conda-package-handling==1.6.1=py37h1de35cc_0\n",
      "  - r/osx-64::r-fansi==0.4.0=r36h46e59ec_0\n",
      "  - r/noarch::r-stringr==1.4.0=r36h6115d3f_0\n",
      "  - defaults/noarch::jupyter_console==6.1.0=py_0\n",
      "  - r/osx-64::r-openssl==1.3=r36h46e59ec_0\n",
      "  - r/noarch::r-shiny==1.3.2=r36h6115d3f_0\n",
      "  - anaconda/noarch::python-graphviz==0.13.2=py_0\n",
      "  - defaults/osx-64::spyder==4.1.3=py37_0\n",
      "  - r/osx-64::r-mongolite==2.0.1=r36h46e59ec_0\n",
      "  - r/noarch::r-rmarkdown==1.12=r36h6115d3f_0\n",
      "  - r/osx-64::rstudio==1.1.456=h04f5b5a_1\n",
      "  - defaults/osx-64::spyder-kernels==1.9.1=py37_0\n",
      "  - r/osx-64::r-catools==1.17.1.2=r36h466af19_0\n",
      "  - r/osx-64::r-haven==2.1.0=r36h466af19_0\n",
      "  - defaults/osx-64::graphviz==2.40.1=hefbbd9a_2\n",
      "  - r/osx-64::r-profvis==0.3.5=r36h46e59ec_0\n",
      "  - defaults/noarch::ipywidgets==7.5.1=py_0\n",
      "  - r/osx-64::r-digest==0.6.18=r36h46e59ec_0\n",
      "  - r/osx-64::r-promises==1.0.1=r36h466af19_0\n",
      "  - r/osx-64::r-rjava==0.9_11=r36h46e59ec_0\n",
      "  - r/osx-64::r-stringi==1.4.3=r36h466af19_0\n",
      "  - r/noarch::r-tinytex==0.12=r36h6115d3f_0\n",
      "  - defaults/osx-64::r-tidyselect==0.2.5=r36h466af19_0\n",
      "  - r/osx-64::r-dplyr==0.8.0.1=r36h466af19_0\n",
      "  - r/noarch::r-cli==1.1.0=r36h6115d3f_0\n",
      "  - r/osx-64::r-tibble==2.1.1=r36h46e59ec_0\n",
      "  - r/osx-64::r-purrr==0.3.2=r36h46e59ec_0\n",
      "  - r/osx-64::r-sys==3.2=r36h46e59ec_0\n",
      "  - r/osx-64::r-rlang==0.3.4=r36h46e59ec_0\n",
      "  - defaults/noarch::r-knitr==1.22=r36h6115d3f_0\n",
      "  - defaults/noarch::r-config==0.3=r36h6115d3f_0\n",
      "  - defaults/osx-64::pango==1.42.4=h060686c_0\n",
      "  - defaults/osx-64::bkcharts==0.2=py37_0\n",
      "  - r/osx-64::r-mime==0.6=r36h46e59ec_0\n",
      "  - r/noarch::r-rprojroot==1.3_2=r36h6115d3f_0\n",
      "  - r/noarch::r-withr==2.1.2=r36h6115d3f_0\n",
      "  - r/osx-64::r-rcpp==1.0.1=r36h466af19_0\n",
      "  - r/osx-64::r-markdown==0.9=r36h46e59ec_0\n",
      "  - r/noarch::r-forcats==0.4.0=r36h6115d3f_0\n",
      "  - r/osx-64::r-pki==0.1_5.1=r36h46e59ec_1\n",
      "  - defaults/noarch::r-sparklyr==1.0.0=r36h6115d3f_0\n",
      "  - r/osx-64::r-backports==1.1.4=r36h46e59ec_0\n",
      "  - defaults/osx-64::_anaconda_depends==2020.02=py37_0\n",
      "  - r/noarch::r-cellranger==1.1.0=r36h6115d3f_0\n",
      "  - r/osx-64::r-htmltools==0.3.6=r36h466af19_0\n",
      "  - defaults/noarch::r-crayon==1.3.4=r36h6115d3f_0\n",
      "  - defaults/osx-64::statsmodels==0.11.0=py37h1de35cc_0\n",
      "  - conda-forge/noarch::jupyterlab==2.1.4=py_0\n",
      "  - r/noarch::r-blob==1.1.1=r36h6115d3f_0\n",
      "  - defaults/noarch::conda-verify==3.4.2=py_1\n",
      "  - defaults/noarch::qtconsole==4.7.3=py_0\n",
      "  - r/noarch::r-assertthat==0.2.1=r36h6115d3f_0\n",
      "  - r/noarch::r-prettyunits==1.0.2=r36h6115d3f_0\n",
      "  - defaults/osx-64::conda-build==3.18.8=py37_0\n",
      "  - r/noarch::r-rsconnect==0.8.13=r36h6115d3f_0\n",
      "  - r/osx-64::r-later==0.8.0=r36h466af19_0\n",
      "  - defaults/noarch::jupyterlab_server==1.1.1=py_0\n",
      "  - r/noarch::r-pkgconfig==2.0.2=r36h6115d3f_0\n",
      "  - r/osx-64::r-tidyr==0.8.3=r36h466af19_0\n",
      "  - r/osx-64::r-ellipsis==0.1.0=r36h46e59ec_0\n",
      "  - r/osx-64::r-rappdirs==0.3.1=r36h46e59ec_0\n",
      "  - r/noarch::r-plogr==0.2.0=r36h6115d3f_0\n",
      "  - r/noarch::r-progress==1.2.0=r36h6115d3f_0\n",
      "  - r/noarch::r-rstudioapi==0.10=r36h6115d3f_0\n",
      "  - defaults/noarch::seaborn==0.10.1=py_0\n",
      "  - r/noarch::r-r2d3==0.2.3=r36h6115d3f_0\n",
      "  - r/osx-64::r-curl==3.3=r36h46e59ec_0\n",
      "  - r/noarch::r-r6==2.4.0=r36h6115d3f_0\n",
      "  - r/noarch::r-clipr==0.6.0=r36h6115d3f_0\n",
      "  - r/osx-64::r-jsonlite==1.6=r36h46e59ec_0\n",
      "  - r/osx-64::r-readr==1.3.1=r36h466af19_0\n",
      "  - r/noarch::r-httr==1.4.0=r36h6115d3f_0\n",
      "  - r/noarch::r-rjdbc==0.2_7.1=r36h6115d3f_0\n",
      "  - defaults/noarch::r-pillar==1.3.1=r36h6115d3f_0\n",
      "  - r/noarch::r-magrittr==1.5=r36h6115d3f_4\n",
      "  - defaults/osx-64::_ipyw_jlab_nb_ext_conf==0.1.0=py37_0\n",
      "  - r/noarch::r-htmlwidgets==1.3=r36h6115d3f_0\n",
      "  - r/noarch::r-highr==0.8=r36h6115d3f_0\n",
      "  - r/osx-64::r-readxl==1.3.1=r36h466af19_0\n",
      "  - defaults/noarch::r-odbc==1.1.5=r36h0a44026_0\n",
      "  - r/osx-64::r-rcurl==1.95_4.12=r36h46e59ec_0\n",
      "  - r/osx-64::r-utf8==1.1.4=r36h46e59ec_0\n",
      "  - defaults/osx-64::r-httpuv==1.5.1=r36h466af19_0\n",
      "  - r/noarch::r-xtable==1.8_4=r36h6115d3f_0\n",
      "  - r/noarch::r-hms==0.4.2=r36h6115d3f_0\n",
      "  - r/noarch::r-miniui==0.1.1.1=r36h6115d3f_0\n",
      "  - r/noarch::r-evaluate==0.13=r36h6115d3f_0\n",
      "  - r/osx-64::r-glue==1.3.1=r36h46e59ec_0\n",
      "  - r/osx-64::r-bit==1.1_14=r36h46e59ec_0\n",
      "  - r/osx-64::r-rjsonio==1.3_1.1=r36h466af19_0\n",
      "  - conda-forge/osx-64::conda==4.8.3=py37hc8dfbb8_1\n",
      "  - defaults/noarch::r-rematch==1.0.1=r36h6115d3f_0\n",
      "  - defaults/osx-64::anaconda==custom=py37_1\n",
      "  - defaults/noarch::r-dbi==1.0.0=r36h6115d3f_0\n",
      "  - r/osx-64::r-sourcetools==0.1.7=r36h466af19_0\n",
      "failed with initial frozen solve. Retrying with flexible solve.\n",
      "Solving environment: done\n",
      "Collecting package metadata (repodata.json): done\n",
      "Solving environment: / \n",
      "The environment is inconsistent, please check the package plan carefully\n",
      "The following packages are causing the inconsistency:\n",
      "\n",
      "  - defaults/noarch::dask==2.16.0=py_0\n",
      "  - defaults/osx-64::notebook==6.0.3=py37_0\n",
      "  - spyder-ide/noarch::spyder-notebook==0.2.3=pyh9f0ad1d_0\n",
      "  - defaults/osx-64::jupyter==1.0.0=py37_7\n",
      "  - defaults/osx-64::widgetsnbextension==3.5.1=py37_0\n",
      "  - defaults/osx-64::conda-package-handling==1.6.1=py37h1de35cc_0\n",
      "  - defaults/noarch::jupyter_console==6.1.0=py_0\n",
      "  - defaults/osx-64::spyder==4.1.3=py37_0\n",
      "  - defaults/osx-64::spyder-kernels==1.9.1=py37_0\n",
      "  - defaults/noarch::ipywidgets==7.5.1=py_0\n",
      "  - defaults/osx-64::bkcharts==0.2=py37_0\n",
      "  - defaults/osx-64::_anaconda_depends==2020.02=py37_0\n",
      "  - defaults/osx-64::statsmodels==0.11.0=py37h1de35cc_0\n",
      "  - conda-forge/noarch::jupyterlab==2.1.4=py_0\n",
      "  - defaults/noarch::conda-verify==3.4.2=py_1\n",
      "  - defaults/noarch::qtconsole==4.7.3=py_0\n",
      "  - defaults/osx-64::conda-build==3.18.8=py37_0\n",
      "  - defaults/noarch::jupyterlab_server==1.1.1=py_0\n",
      "  - defaults/noarch::seaborn==0.10.1=py_0\n",
      "  - defaults/osx-64::_ipyw_jlab_nb_ext_conf==0.1.0=py37_0\n",
      "  - conda-forge/osx-64::conda==4.8.3=py37hc8dfbb8_1\n",
      "  - defaults/osx-64::anaconda==custom=py37_1\n",
      "| "
     ]
    }
   ],
   "source": [
    "# %%capture\n",
    "!conda install -c conda-forge contextily\n",
    "# !pip3 install contextily"
   ]
  },
  {
   "cell_type": "code",
   "execution_count": 96,
   "metadata": {
    "colab": {},
    "colab_type": "code",
    "id": "RBFjXAo1UNgx"
   },
   "outputs": [
    {
     "ename": "ModuleNotFoundError",
     "evalue": "No module named 'contextily'",
     "output_type": "error",
     "traceback": [
      "\u001b[0;31m---------------------------------------------------------------------------\u001b[0m",
      "\u001b[0;31mModuleNotFoundError\u001b[0m                       Traceback (most recent call last)",
      "\u001b[0;32m<ipython-input-96-75541dea4ba5>\u001b[0m in \u001b[0;36m<module>\u001b[0;34m\u001b[0m\n\u001b[1;32m      1\u001b[0m \u001b[0;32mimport\u001b[0m \u001b[0mmatplotlib\u001b[0m\u001b[0;34m.\u001b[0m\u001b[0mpyplot\u001b[0m \u001b[0;32mas\u001b[0m \u001b[0mplt\u001b[0m\u001b[0;34m\u001b[0m\u001b[0;34m\u001b[0m\u001b[0m\n\u001b[1;32m      2\u001b[0m \u001b[0;32mimport\u001b[0m \u001b[0mseaborn\u001b[0m \u001b[0;32mas\u001b[0m \u001b[0msns\u001b[0m\u001b[0;34m\u001b[0m\u001b[0;34m\u001b[0m\u001b[0m\n\u001b[0;32m----> 3\u001b[0;31m \u001b[0;32mimport\u001b[0m \u001b[0mcontextily\u001b[0m \u001b[0;32mas\u001b[0m \u001b[0mctx\u001b[0m\u001b[0;34m\u001b[0m\u001b[0;34m\u001b[0m\u001b[0m\n\u001b[0m\u001b[1;32m      4\u001b[0m \u001b[0mget_ipython\u001b[0m\u001b[0;34m(\u001b[0m\u001b[0;34m)\u001b[0m\u001b[0;34m.\u001b[0m\u001b[0mrun_line_magic\u001b[0m\u001b[0;34m(\u001b[0m\u001b[0;34m'matplotlib'\u001b[0m\u001b[0;34m,\u001b[0m \u001b[0;34m'inline'\u001b[0m\u001b[0;34m)\u001b[0m\u001b[0;34m\u001b[0m\u001b[0;34m\u001b[0m\u001b[0m\n\u001b[1;32m      5\u001b[0m \u001b[0mplt\u001b[0m\u001b[0;34m.\u001b[0m\u001b[0mstyle\u001b[0m\u001b[0;34m.\u001b[0m\u001b[0muse\u001b[0m\u001b[0;34m(\u001b[0m\u001b[0;34m'seaborn-whitegrid'\u001b[0m\u001b[0;34m)\u001b[0m\u001b[0;34m\u001b[0m\u001b[0;34m\u001b[0m\u001b[0m\n",
      "\u001b[0;31mModuleNotFoundError\u001b[0m: No module named 'contextily'"
     ]
    }
   ],
   "source": [
    "import matplotlib.pyplot as plt\n",
    "import seaborn as sns\n",
    "import contextily as ctx\n",
    "%matplotlib inline\n",
    "plt.style.use('seaborn-whitegrid')\n",
    "\n",
    "FinnMeshblockShape = gpd.read_file(pathShapefile / 'Finn_MeshBlockSummary.shp')\n",
    "countShape = gpd.read_file(pathShapefile / 'Burn3000scenarioWellington.shp')\n",
    "\n",
    "fig, (ax1, ax2) = plt.subplots(nrows=1, ncols=2, sharex=True, sharey=True, figsize=(12, 10))\n",
    "\n",
    "p1 = originalShape.plot(ax=ax1, column='WellWHV_Bu', cmap='YlOrRd', alpha=0.7, legend=True)\n",
    "ctx.add_basemap(ax1, crs=2193)\n",
    "p2 = countShape.plot(ax=ax2, column='count', cmap='YlOrRd', alpha=0.7, legend=True)\n",
    "ctx.add_basemap(ax2, crs=2193)\n",
    "\n",
    "ax1.set_title('Original burn count at meshblock level')\n",
    "ax1.ticklabel_format(useOffset=False, style='plain')\n",
    "ax2.set_title('Network burn count at individual building level')\n",
    "ax2.ticklabel_format(useOffset=False, style='plain')\n",
    "ax1.tick_params(direction='out', length=6)\n",
    "ax2.tick_params(direction=\"out\", length=6)\n",
    "\n",
    "fig.autofmt_xdate()\n",
    "plt.tight_layout()\n",
    "plt.savefig(pathShapefile / 'ComparisonGISvsNetwork_3000Burn.png', dpi=600)\n",
    "plt.show()"
   ]
  },
  {
   "cell_type": "code",
   "execution_count": null,
   "metadata": {
    "colab": {},
    "colab_type": "code",
    "id": "t4lcOorDDOI-"
   },
   "outputs": [],
   "source": []
  }
 ],
 "metadata": {
  "colab": {
   "authorship_tag": "ABX9TyOUu9RPs3YVIGoTN2aUBA+G",
   "include_colab_link": true,
   "machine_shape": "hm",
   "mount_file_id": "https://github.com/37stu37/FFE/blob/master/FFEpostProcessingRAPIDS.ipynb",
   "name": "FFEpostProcessingRAPIDS.ipynb",
   "provenance": []
  },
  "kernelspec": {
   "display_name": "Python 3",
   "language": "python",
   "name": "python3"
  },
  "language_info": {
   "codemirror_mode": {
    "name": "ipython",
    "version": 3
   },
   "file_extension": ".py",
   "mimetype": "text/x-python",
   "name": "python",
   "nbconvert_exporter": "python",
   "pygments_lexer": "ipython3",
   "version": "3.7.3"
  }
 },
 "nbformat": 4,
 "nbformat_minor": 1
}
