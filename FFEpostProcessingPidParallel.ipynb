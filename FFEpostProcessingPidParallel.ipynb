{
 "cells": [
  {
   "cell_type": "markdown",
   "metadata": {
    "colab_type": "text",
    "id": "view-in-github"
   },
   "source": [
    "<a href=\"https://colab.research.google.com/github/37stu37/FFE/blob/master/FFEpostProcessingRAPIDS.ipynb\" target=\"_parent\"><img src=\"https://colab.research.google.com/assets/colab-badge.svg\" alt=\"Open In Colab\"/></a>"
   ]
  },
  {
   "cell_type": "markdown",
   "metadata": {
    "colab_type": "text",
    "id": "uOfLIueATXfR"
   },
   "source": [
    "\n",
    "#Installation\n",
    "---\n",
    "\n"
   ]
  },
  {
   "cell_type": "code",
   "execution_count": 1,
   "metadata": {
    "colab": {
     "base_uri": "https://localhost:8080/",
     "height": 54
    },
    "colab_type": "code",
    "id": "HFr9n7dFTVdB",
    "outputId": "dc1272af-fe65-4c77-aa49-3fcb2dfc509e"
   },
   "outputs": [
    {
     "name": "stdout",
     "output_type": "stream",
     "text": [
      "CPU times: user 281 ms, sys: 86.3 ms, total: 367 ms\n",
      "Wall time: 1min 20s\n"
     ]
    }
   ],
   "source": [
    "%%time\n",
    "%%capture\n",
    "!apt update\n",
    "!apt upgrade\n",
    "!apt install gdal-bin python-gdal python3-gdal\n",
    "# Install rtree - Geopandas requirment\n",
    "!apt install python3-rtree\n",
    "# Install Geopandas\n",
    "!pip install git+git://github.com/geopandas/geopandas.git\n",
    "# Install descartes - Geopandas requirment\n",
    "!pip install descartes\n",
    "!pip install memory_profiler\n",
    "# install parquet libraries\n",
    "!pip install git+https://github.com/dask/fastparquet\n",
    "!pip install python-snappy\n",
    "!pip install pyarrow "
   ]
  },
  {
   "cell_type": "code",
   "execution_count": 11,
   "metadata": {
    "colab": {},
    "colab_type": "code",
    "id": "FDNM-ERLM6US"
   },
   "outputs": [],
   "source": [
    "from pathlib import Path\n",
    "import os\n",
    "from datetime import date\n",
    "import re"
   ]
  },
  {
   "cell_type": "code",
   "execution_count": 3,
   "metadata": {
    "colab": {},
    "colab_type": "code",
    "id": "6T1J4QXZTmtV"
   },
   "outputs": [],
   "source": [
    "import pandas as pd\n",
    "import numpy as np\n",
    "import geopandas as gpd\n",
    "from shapely.geometry import box\n",
    "import dask.dataframe as dd\n",
    "pd.options.mode.chained_assignment = None"
   ]
  },
  {
   "cell_type": "code",
   "execution_count": 6,
   "metadata": {
    "colab": {
     "base_uri": "https://localhost:8080/",
     "height": 35
    },
    "colab_type": "code",
    "id": "JALuOrvdSA-n",
    "outputId": "d7942dd1-132f-4407-fe97-10ebafccbc4d"
   },
   "outputs": [
    {
     "name": "stdout",
     "output_type": "stream",
     "text": [
      "10\n"
     ]
    }
   ],
   "source": [
    "# Paths\n",
    "p = Path('/Users/alex/PycharmProjects/FFE')\n",
    "pathShapefile = Path(p / 'data' / 'shapefile')\n",
    "pathParquets = Path(p / 'data' / 'test_parquets')\n",
    "\n",
    "print(len(os.listdir(pathParquets)))"
   ]
  },
  {
   "cell_type": "code",
   "execution_count": 24,
   "metadata": {},
   "outputs": [
    {
     "data": {
      "text/plain": [
       "array([   0,  300,  600,  900, 1200, 1500, 1800, 2100, 2400, 2700])"
      ]
     },
     "execution_count": 24,
     "metadata": {},
     "output_type": "execute_result"
    }
   ],
   "source": [
    "t1 = np.arange(0,3000, 300)\n",
    "t1"
   ]
  },
  {
   "cell_type": "code",
   "execution_count": 58,
   "metadata": {
    "colab": {},
    "colab_type": "code",
    "id": "ZuY6xBcuSBO6"
   },
   "outputs": [],
   "source": [
    "def get_list_pids(path=pathParquets):\n",
    "    pidList = []\n",
    "    updtScenariolist = []\n",
    "    files = pathParquets.glob('*.parquet')\n",
    "    for file in files:\n",
    "        regex = r\"pid\\d*\"\n",
    "        pidNames = re.findall(regex, str(file))\n",
    "        for pidName in pidNames:\n",
    "          print(f\" file pid {pidName}\")\n",
    "          pidList.append(pidName)\n",
    "    pidList = list(set(pidList))\n",
    "    updtScenariolist = np.arange(0, 3000, 300).tolist()\n",
    "    return pidList, updtScenariolist\n",
    "\n",
    "\n",
    "def read_and_concatenate_parquets(pidList,incrList,path=pathParquets):\n",
    "    L = []\n",
    "    for idx, val in enumerate(pidList):\n",
    "        files = pathParquets.glob('*'+str(val)+'.parquet')\n",
    "        for file in files:\n",
    "            print(file)\n",
    "            pqt = pd.read_parquet(file, engine='auto')\n",
    "            pqt['scenario']=pqt['scenario']+incrList[idx]\n",
    "#             print(pqt.head())\n",
    "            L.append(pqt)\n",
    "            print(len(L))\n",
    "    df = dd.concat(L)\n",
    "    return df\n",
    "\n",
    "    \n",
    "def count_fid_occurences(df):\n",
    "  count = df['source'].value_counts().compute()\n",
    "  count_df = pd.DataFrame({'source': count.index, 'count': count.values})\n",
    "  count_df.to_parquet(str(pathShapefile) + '/' + f'CountBurn-{str(date.today())}.parquet', engine='auto', compression=\"GZIP\")# could be datetime.now\n",
    "  return count_df\n",
    "\n",
    "\n",
    "def Merge(countDf,nameShapefile):\n",
    "  # Shapefile\n",
    "  gdfShape = gpd.read_file(pathShapefile / nameShapefile)\n",
    "  gdfShape.insert(0, 'FID', range(0, len(gdfShape)))\n",
    "  gdfShape.rename(columns={'FID': 'source'}, inplace=True)\n",
    "  gdfShape = gdfShape[['source', 'geometry']]\n",
    "  merged = countDf.merge(gdfShape, on=['source'], how='left')\n",
    "  return merged\n",
    "\n",
    "\n",
    "def createShapefile(df):\n",
    "  # df = df.to_pandas()\n",
    "  gdf = gpd.GeoDataFrame(df, geometry='geometry')\n",
    "  # gdf.plot(column='count', cmap='hsv', legend=True)\n",
    "  gdf.to_file(os.path.join(str(pathShapefile) + \"/\" + \"Burn3000scenarioWellington.shp\"))\n",
    "  return gdf"
   ]
  },
  {
   "cell_type": "code",
   "execution_count": 59,
   "metadata": {},
   "outputs": [
    {
     "name": "stdout",
     "output_type": "stream",
     "text": [
      " file pid pid167572\n",
      " file pid pid167573\n",
      " file pid pid167575\n",
      " file pid pid150543\n",
      " file pid pid150542\n",
      " file pid pid167574\n",
      " file pid pid150539\n",
      " file pid pid150540\n",
      " file pid pid167576\n",
      " file pid pid150541\n"
     ]
    }
   ],
   "source": [
    "p, i = get_list_pids()"
   ]
  },
  {
   "cell_type": "code",
   "execution_count": 61,
   "metadata": {
    "colab": {
     "base_uri": "https://localhost:8080/",
     "height": 799
    },
    "colab_type": "code",
    "id": "T4xnIavQcfjI",
    "outputId": "40f5b6c7-f695-4ee0-d832-ee7de9a4f21b",
    "scrolled": false
   },
   "outputs": [
    {
     "name": "stdout",
     "output_type": "stream",
     "text": [
      "/Users/alex/PycharmProjects/FFE/data/test_parquets/scenario0_pid150540.parquet\n",
      "1\n",
      "/Users/alex/PycharmProjects/FFE/data/test_parquets/scenario0_pid167572.parquet\n",
      "2\n",
      "/Users/alex/PycharmProjects/FFE/data/test_parquets/scenario0_pid167576.parquet\n",
      "3\n",
      "/Users/alex/PycharmProjects/FFE/data/test_parquets/scenario0_pid150543.parquet\n",
      "4\n",
      "/Users/alex/PycharmProjects/FFE/data/test_parquets/scenario0_pid167573.parquet\n",
      "5\n",
      "/Users/alex/PycharmProjects/FFE/data/test_parquets/scenario0_pid167575.parquet\n",
      "6\n",
      "/Users/alex/PycharmProjects/FFE/data/test_parquets/scenario0_pid150539.parquet\n",
      "7\n",
      "/Users/alex/PycharmProjects/FFE/data/test_parquets/scenario0_pid150541.parquet\n",
      "8\n",
      "/Users/alex/PycharmProjects/FFE/data/test_parquets/scenario0_pid150542.parquet\n",
      "9\n",
      "/Users/alex/PycharmProjects/FFE/data/test_parquets/scenario0_pid167574.parquet\n",
      "10\n",
      "CPU times: user 431 ms, sys: 93.7 ms, total: 525 ms\n",
      "Wall time: 419 ms\n"
     ]
    }
   ],
   "source": [
    "%%time\n",
    "concatDf = read_and_concatenate_parquets(pidList=p,incrList=i)"
   ]
  },
  {
   "cell_type": "code",
   "execution_count": 62,
   "metadata": {
    "colab": {},
    "colab_type": "code",
    "id": "7M5xL0pstWxb"
   },
   "outputs": [
    {
     "data": {
      "text/html": [
       "<div>\n",
       "<style scoped>\n",
       "    .dataframe tbody tr th:only-of-type {\n",
       "        vertical-align: middle;\n",
       "    }\n",
       "\n",
       "    .dataframe tbody tr th {\n",
       "        vertical-align: top;\n",
       "    }\n",
       "\n",
       "    .dataframe thead th {\n",
       "        text-align: right;\n",
       "    }\n",
       "</style>\n",
       "<table border=\"1\" class=\"dataframe\">\n",
       "  <thead>\n",
       "    <tr style=\"text-align: right;\">\n",
       "      <th></th>\n",
       "      <th>source</th>\n",
       "      <th>target</th>\n",
       "      <th>distance</th>\n",
       "      <th>bearing</th>\n",
       "      <th>IgnProbBld</th>\n",
       "      <th>scenario</th>\n",
       "      <th>pid</th>\n",
       "    </tr>\n",
       "  </thead>\n",
       "  <tbody>\n",
       "    <tr>\n",
       "      <th>47476</th>\n",
       "      <td>1084</td>\n",
       "      <td>35011</td>\n",
       "      <td>7.030068</td>\n",
       "      <td>3.696893</td>\n",
       "      <td>0.000004</td>\n",
       "      <td>0</td>\n",
       "      <td>150540</td>\n",
       "    </tr>\n",
       "    <tr>\n",
       "      <th>105974</th>\n",
       "      <td>2428</td>\n",
       "      <td>44992</td>\n",
       "      <td>7.013117</td>\n",
       "      <td>30.161070</td>\n",
       "      <td>0.000010</td>\n",
       "      <td>0</td>\n",
       "      <td>150540</td>\n",
       "    </tr>\n",
       "    <tr>\n",
       "      <th>105985</th>\n",
       "      <td>2428</td>\n",
       "      <td>66629</td>\n",
       "      <td>2.630716</td>\n",
       "      <td>13.406588</td>\n",
       "      <td>0.000010</td>\n",
       "      <td>0</td>\n",
       "      <td>150540</td>\n",
       "    </tr>\n",
       "    <tr>\n",
       "      <th>300583</th>\n",
       "      <td>6942</td>\n",
       "      <td>11389</td>\n",
       "      <td>11.434746</td>\n",
       "      <td>27.157610</td>\n",
       "      <td>0.000002</td>\n",
       "      <td>0</td>\n",
       "      <td>150540</td>\n",
       "    </tr>\n",
       "    <tr>\n",
       "      <th>470847</th>\n",
       "      <td>10900</td>\n",
       "      <td>65726</td>\n",
       "      <td>12.604803</td>\n",
       "      <td>27.891464</td>\n",
       "      <td>0.000003</td>\n",
       "      <td>0</td>\n",
       "      <td>150540</td>\n",
       "    </tr>\n",
       "    <tr>\n",
       "      <th>...</th>\n",
       "      <td>...</td>\n",
       "      <td>...</td>\n",
       "      <td>...</td>\n",
       "      <td>...</td>\n",
       "      <td>...</td>\n",
       "      <td>...</td>\n",
       "      <td>...</td>\n",
       "    </tr>\n",
       "    <tr>\n",
       "      <th>3072438</th>\n",
       "      <td>71346</td>\n",
       "      <td>28953</td>\n",
       "      <td>14.558913</td>\n",
       "      <td>32.040890</td>\n",
       "      <td>0.000004</td>\n",
       "      <td>2700</td>\n",
       "      <td>167574</td>\n",
       "    </tr>\n",
       "    <tr>\n",
       "      <th>3115252</th>\n",
       "      <td>72355</td>\n",
       "      <td>72700</td>\n",
       "      <td>6.563998</td>\n",
       "      <td>46.164078</td>\n",
       "      <td>0.000020</td>\n",
       "      <td>2700</td>\n",
       "      <td>167574</td>\n",
       "    </tr>\n",
       "    <tr>\n",
       "      <th>3116964</th>\n",
       "      <td>72397</td>\n",
       "      <td>44871</td>\n",
       "      <td>86.391159</td>\n",
       "      <td>347.563148</td>\n",
       "      <td>0.000003</td>\n",
       "      <td>2700</td>\n",
       "      <td>167574</td>\n",
       "    </tr>\n",
       "    <tr>\n",
       "      <th>3130056</th>\n",
       "      <td>72700</td>\n",
       "      <td>54945</td>\n",
       "      <td>13.114252</td>\n",
       "      <td>71.709865</td>\n",
       "      <td>0.000019</td>\n",
       "      <td>2700</td>\n",
       "      <td>167574</td>\n",
       "    </tr>\n",
       "    <tr>\n",
       "      <th>3146601</th>\n",
       "      <td>73090</td>\n",
       "      <td>61198</td>\n",
       "      <td>4.744735</td>\n",
       "      <td>6.840624</td>\n",
       "      <td>0.000011</td>\n",
       "      <td>2700</td>\n",
       "      <td>167574</td>\n",
       "    </tr>\n",
       "  </tbody>\n",
       "</table>\n",
       "<p>440503 rows × 7 columns</p>\n",
       "</div>"
      ],
      "text/plain": [
       "         source  target   distance     bearing  IgnProbBld  scenario     pid\n",
       "47476      1084   35011   7.030068    3.696893    0.000004         0  150540\n",
       "105974     2428   44992   7.013117   30.161070    0.000010         0  150540\n",
       "105985     2428   66629   2.630716   13.406588    0.000010         0  150540\n",
       "300583     6942   11389  11.434746   27.157610    0.000002         0  150540\n",
       "470847    10900   65726  12.604803   27.891464    0.000003         0  150540\n",
       "...         ...     ...        ...         ...         ...       ...     ...\n",
       "3072438   71346   28953  14.558913   32.040890    0.000004      2700  167574\n",
       "3115252   72355   72700   6.563998   46.164078    0.000020      2700  167574\n",
       "3116964   72397   44871  86.391159  347.563148    0.000003      2700  167574\n",
       "3130056   72700   54945  13.114252   71.709865    0.000019      2700  167574\n",
       "3146601   73090   61198   4.744735    6.840624    0.000011      2700  167574\n",
       "\n",
       "[440503 rows x 7 columns]"
      ]
     },
     "execution_count": 62,
     "metadata": {},
     "output_type": "execute_result"
    }
   ],
   "source": [
    "concatDf.compute()"
   ]
  },
  {
   "cell_type": "code",
   "execution_count": 66,
   "metadata": {},
   "outputs": [
    {
     "data": {
      "text/plain": [
       "scenario  source\n",
       "0         1084      1\n",
       "          2428      2\n",
       "          6942      1\n",
       "          10900     1\n",
       "          10912     1\n",
       "                   ..\n",
       "2700      71346     2\n",
       "          72355     1\n",
       "          72397     1\n",
       "          72700     1\n",
       "          73090     1\n",
       "Name: source, Length: 56833, dtype: int64"
      ]
     },
     "execution_count": 66,
     "metadata": {},
     "output_type": "execute_result"
    }
   ],
   "source": [
    "concatDf.groupby(['scenario', 'source'])['source'].count().compute()"
   ]
  },
  {
   "cell_type": "code",
   "execution_count": 56,
   "metadata": {
    "colab": {},
    "colab_type": "code",
    "id": "eipphuX1_MB2"
   },
   "outputs": [
    {
     "name": "stdout",
     "output_type": "stream",
     "text": [
      "CPU times: user 118 ms, sys: 18.1 ms, total: 136 ms\n",
      "Wall time: 130 ms\n"
     ]
    }
   ],
   "source": [
    "%%time\n",
    "countConcatDf = count_fid_occurences(concatDf)"
   ]
  },
  {
   "cell_type": "code",
   "execution_count": 57,
   "metadata": {
    "colab": {},
    "colab_type": "code",
    "id": "qpaoLe4oDqjp"
   },
   "outputs": [
    {
     "data": {
      "text/html": [
       "<div>\n",
       "<style scoped>\n",
       "    .dataframe tbody tr th:only-of-type {\n",
       "        vertical-align: middle;\n",
       "    }\n",
       "\n",
       "    .dataframe tbody tr th {\n",
       "        vertical-align: top;\n",
       "    }\n",
       "\n",
       "    .dataframe thead th {\n",
       "        text-align: right;\n",
       "    }\n",
       "</style>\n",
       "<table border=\"1\" class=\"dataframe\">\n",
       "  <thead>\n",
       "    <tr style=\"text-align: right;\">\n",
       "      <th></th>\n",
       "      <th>source</th>\n",
       "      <th>count</th>\n",
       "    </tr>\n",
       "  </thead>\n",
       "  <tbody>\n",
       "    <tr>\n",
       "      <th>0</th>\n",
       "      <td>17007</td>\n",
       "      <td>39</td>\n",
       "    </tr>\n",
       "    <tr>\n",
       "      <th>1</th>\n",
       "      <td>71970</td>\n",
       "      <td>38</td>\n",
       "    </tr>\n",
       "    <tr>\n",
       "      <th>2</th>\n",
       "      <td>1690</td>\n",
       "      <td>38</td>\n",
       "    </tr>\n",
       "    <tr>\n",
       "      <th>3</th>\n",
       "      <td>66822</td>\n",
       "      <td>37</td>\n",
       "    </tr>\n",
       "    <tr>\n",
       "      <th>4</th>\n",
       "      <td>10697</td>\n",
       "      <td>37</td>\n",
       "    </tr>\n",
       "    <tr>\n",
       "      <th>...</th>\n",
       "      <td>...</td>\n",
       "      <td>...</td>\n",
       "    </tr>\n",
       "    <tr>\n",
       "      <th>43074</th>\n",
       "      <td>17503</td>\n",
       "      <td>1</td>\n",
       "    </tr>\n",
       "    <tr>\n",
       "      <th>43075</th>\n",
       "      <td>20178</td>\n",
       "      <td>1</td>\n",
       "    </tr>\n",
       "    <tr>\n",
       "      <th>43076</th>\n",
       "      <td>62019</td>\n",
       "      <td>1</td>\n",
       "    </tr>\n",
       "    <tr>\n",
       "      <th>43077</th>\n",
       "      <td>25100</td>\n",
       "      <td>1</td>\n",
       "    </tr>\n",
       "    <tr>\n",
       "      <th>43078</th>\n",
       "      <td>47888</td>\n",
       "      <td>1</td>\n",
       "    </tr>\n",
       "  </tbody>\n",
       "</table>\n",
       "<p>43079 rows × 2 columns</p>\n",
       "</div>"
      ],
      "text/plain": [
       "       source  count\n",
       "0       17007     39\n",
       "1       71970     38\n",
       "2        1690     38\n",
       "3       66822     37\n",
       "4       10697     37\n",
       "...       ...    ...\n",
       "43074   17503      1\n",
       "43075   20178      1\n",
       "43076   62019      1\n",
       "43077   25100      1\n",
       "43078   47888      1\n",
       "\n",
       "[43079 rows x 2 columns]"
      ]
     },
     "execution_count": 57,
     "metadata": {},
     "output_type": "execute_result"
    }
   ],
   "source": [
    "countConcatDf"
   ]
  },
  {
   "cell_type": "code",
   "execution_count": null,
   "metadata": {
    "colab": {},
    "colab_type": "code",
    "id": "bEfmrSrBcfrY"
   },
   "outputs": [],
   "source": [
    "%%time\n",
    "mergedDf = Merge(countConcatDf, 'WellWHV_Buildings.shp')\n",
    "countShape = createShapefile(mergedDf)"
   ]
  },
  {
   "cell_type": "code",
   "execution_count": null,
   "metadata": {
    "colab": {},
    "colab_type": "code",
    "id": "Vde4I9F2ELfa"
   },
   "outputs": [],
   "source": [
    "%%capture\n",
    "!pip3 install contextily"
   ]
  },
  {
   "cell_type": "code",
   "execution_count": null,
   "metadata": {
    "colab": {},
    "colab_type": "code",
    "id": "RBFjXAo1UNgx"
   },
   "outputs": [],
   "source": [
    "import matplotlib.pyplot as plt\n",
    "import seaborn as sns\n",
    "import contextily as ctx\n",
    "%matplotlib inline\n",
    "plt.style.use('seaborn-whitegrid')\n",
    "\n",
    "FinnMeshblockShape = gpd.read_file(pathShapefile / 'Finn_MeshBlockSummary.shp')\n",
    "countShape = gpd.read_file(pathShapefile / 'Burn3000scenarioWellington.shp')\n",
    "\n",
    "fig, (ax1, ax2) = plt.subplots(nrows=1, ncols=2, sharex=True, sharey=True, figsize=(12, 10))\n",
    "\n",
    "p1 = originalShape.plot(ax=ax1, column='WellWHV_Bu', cmap='YlOrRd', alpha=0.7, legend=True)\n",
    "ctx.add_basemap(ax1, crs=2193)\n",
    "p2 = countShape.plot(ax=ax2, column='count', cmap='YlOrRd', alpha=0.7, legend=True)\n",
    "ctx.add_basemap(ax2, crs=2193)\n",
    "\n",
    "ax1.set_title('Original burn count at meshblock level')\n",
    "ax1.ticklabel_format(useOffset=False, style='plain')\n",
    "ax2.set_title('Network burn count at individual building level')\n",
    "ax2.ticklabel_format(useOffset=False, style='plain')\n",
    "ax1.tick_params(direction='out', length=6)\n",
    "ax2.tick_params(direction=\"out\", length=6)\n",
    "\n",
    "fig.autofmt_xdate()\n",
    "plt.tight_layout()\n",
    "plt.savefig(pathShapefile / 'ComparisonGISvsNetwork_3000Burn.png', dpi=600)\n",
    "plt.show()"
   ]
  },
  {
   "cell_type": "code",
   "execution_count": null,
   "metadata": {
    "colab": {},
    "colab_type": "code",
    "id": "t4lcOorDDOI-"
   },
   "outputs": [],
   "source": []
  }
 ],
 "metadata": {
  "colab": {
   "authorship_tag": "ABX9TyOUu9RPs3YVIGoTN2aUBA+G",
   "include_colab_link": true,
   "machine_shape": "hm",
   "mount_file_id": "https://github.com/37stu37/FFE/blob/master/FFEpostProcessingRAPIDS.ipynb",
   "name": "FFEpostProcessingRAPIDS.ipynb",
   "provenance": []
  },
  "kernelspec": {
   "display_name": "Python 3",
   "language": "python",
   "name": "python3"
  },
  "language_info": {
   "codemirror_mode": {
    "name": "ipython",
    "version": 3
   },
   "file_extension": ".py",
   "mimetype": "text/x-python",
   "name": "python",
   "nbconvert_exporter": "python",
   "pygments_lexer": "ipython3",
   "version": "3.7.3"
  }
 },
 "nbformat": 4,
 "nbformat_minor": 1
}
